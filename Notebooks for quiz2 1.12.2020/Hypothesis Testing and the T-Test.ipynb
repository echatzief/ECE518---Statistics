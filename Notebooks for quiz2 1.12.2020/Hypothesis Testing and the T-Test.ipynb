{
 "cells": [
  {
   "cell_type": "markdown",
   "metadata": {},
   "source": [
    "# Hypothesis Testing and the T-Test\n",
    "\n",
    "Point estimates and confidence intervals are basic inference tools that act as the foundation for another inference technique: statistical hypothesis testing. Statistical hypothesis testing is a framework for determining whether observed data deviates from what is expected. R contains an array of built in functions that make it easy to carry out hypothesis tests and analyze the results.\n",
    "\n",
    "## Hypothesis Testing Basics\n",
    "Statistical hypothesis tests are based a statement called the null hypothesis that assumes nothing interesting is going on between whatever variables you are testing. The exact form of the null hypothesis varies from one type test to another: if you are testing whether groups differ, the null hypothesis states that the groups are the same. For instance, if you wanted to test whether the average age of voters in your home state differs from the national average, the null hypothesis would be that there is no difference between the average ages.\n",
    "\n",
    "The purpose of a hypothesis test is to determine whether the null hypothesis is likely to be true given sample data. If there is little evidence against the null hypothesis given the data, you accept the null hypothesis. If the null hypothesis is unlikely given the data, you might reject the null in favor of the alternative hypothesis: that something interesting is going on. The exact form of the alternative hypothesis will depend on the specific test you are carrying out. Continuing with the example above, the alternative hypothesis would be that the average age of voters in your state does in fact differ from the national average.\n",
    "\n",
    "Once you have the null and alternative hypothesis in hand, you choose a significance level (often denoted by the Greek letter $\\alpha$.). The significance level is a probability threshold that determines when you reject the null hypothesis. After carrying out a test, if the probability of getting a result as extreme as the one you observe due to chance is lower than the significance level, you reject the null hypothesis in favor of the alternative. This probability of seeing a result as extreme or more extreme than the one observed is known as the p-value.\n",
    "\n",
    "The T-test is a statistical test used to determine whether a numeric data sample of differs significantly from the population or whether two samples differ from one another.\n",
    "\n",
    "## One-Sample T-Test\n",
    "A one-sample t-test checks whether a sample mean differs from the population mean. Let's create some dummy age data for the population of voters in the entire country and a sample of voters in Thessalia and test the whether the average age of voters Thessalia differs from the population:"
   ]
  },
  {
   "cell_type": "code",
   "execution_count": 9,
   "metadata": {},
   "outputs": [
    {
     "data": {
      "text/html": [
       "51.2188371860945"
      ],
      "text/latex": [
       "51.2188371860945"
      ],
      "text/markdown": [
       "51.2188371860945"
      ],
      "text/plain": [
       "[1] 51.21884"
      ]
     },
     "metadata": {},
     "output_type": "display_data"
    },
    {
     "data": {
      "text/html": [
       "48.2348502354331"
      ],
      "text/latex": [
       "48.2348502354331"
      ],
      "text/markdown": [
       "48.2348502354331"
      ],
      "text/plain": [
       "[1] 48.23485"
      ]
     },
     "metadata": {},
     "output_type": "display_data"
    }
   ],
   "source": [
    "set.seed(12)\n",
    "population_ages <- c(rexp(1000000,0.015)+18,   # Generate dummy age data for population\n",
    "                    rpois(500000,20)+18,\n",
    "                    rpois(500000,32.5)+18,\n",
    "                    rpois(500000,45)+18)\n",
    "\n",
    "population_ages <- ifelse(population_ages<100, population_ages, population_ages%%100+18)\n",
    "\n",
    "\n",
    "true_mean <- mean(population_ages)           # Check the population mean\n",
    "true_mean \n",
    "\n",
    "set.seed(12)\n",
    "thessalia_ages <- c(rexp(100,0.015)+18,      # Generate dummy sample age data\n",
    "                    rpois(50,15)+18,\n",
    "                    rpois(50,25)+18,\n",
    "                    rpois(50,35)+18)\n",
    "\n",
    "thessalia_ages <- ifelse(thessalia_ages<100, thessalia_ages, thessalia_ages%%100+18)\n",
    "\n",
    "mean(thessalia_ages)"
   ]
  },
  {
   "cell_type": "markdown",
   "metadata": {},
   "source": [
    "Notice that we used a slightly different combination of distributions to generate the sample data for Minnesota, so we know that the two means are different. Let's conduct a t-test at a 95% confidence level and see if it correctly rejects the null hypothesis that the sample comes from the same distribution as the population. To conduct a t-test, we can use the same t.test() function we used last time to find confidence intervals:"
   ]
  },
  {
   "cell_type": "code",
   "execution_count": 2,
   "metadata": {},
   "outputs": [
    {
     "data": {
      "text/plain": [
       "\n",
       "\tOne Sample t-test\n",
       "\n",
       "data:  thessalia_ages\n",
       "t = -2.4484, df = 249, p-value = 0.01504\n",
       "alternative hypothesis: true mean is not equal to 51.21884\n",
       "95 percent confidence interval:\n",
       " 45.8345 50.6352\n",
       "sample estimates:\n",
       "mean of x \n",
       " 48.23485 \n"
      ]
     },
     "metadata": {},
     "output_type": "display_data"
    }
   ],
   "source": [
    "t.test(x = thessalia_ages,     # Sample data\n",
    "       mu = true_mean,         # The true population mean \n",
    "       alternative = \"two.sided\",   # Conduct two sided test*\n",
    "       conf.level = 0.95,      # Desired level of statistical significance\n",
    "       )"
   ]
  },
  {
   "cell_type": "markdown",
   "metadata": {},
   "source": [
    "*Note: the alternative hypothesis can be that the sample mean is strictly less than, strictly greater than or not equal to the population parameter. For the \"not equal to\" hypothesis, we use a \"two sided\" test because an extreme test result in either direction would be evidence that the sample mean is significantly different from the population mean.\n",
    "The test result shows the test statistic \"t\" is equal to -2.4484. This test statistic tells us how much the sample mean deviates from the null hypothesis. If the t-statistic lies outside the quantiles of the t-distribution corresponding to our confidence level and degrees of freedom, we reject the null hypothesis. We can check the quantiles with qt():"
   ]
  },
  {
   "cell_type": "code",
   "execution_count": 3,
   "metadata": {},
   "outputs": [
    {
     "data": {
      "text/html": [
       "-1.96953686764035"
      ],
      "text/latex": [
       "-1.96953686764035"
      ],
      "text/markdown": [
       "-1.96953686764035"
      ],
      "text/plain": [
       "[1] -1.969537"
      ]
     },
     "metadata": {},
     "output_type": "display_data"
    },
    {
     "data": {
      "text/html": [
       "1.96953686764035"
      ],
      "text/latex": [
       "1.96953686764035"
      ],
      "text/markdown": [
       "1.96953686764035"
      ],
      "text/plain": [
       "[1] 1.969537"
      ]
     },
     "metadata": {},
     "output_type": "display_data"
    }
   ],
   "source": [
    "qt(p=0.025, df=249)   # Get the lower tail quantile\n",
    "qt(p=0.975, df=249)   # Get the upper tail quantile"
   ]
  },
  {
   "cell_type": "markdown",
   "metadata": {},
   "source": [
    "Furthermore, we can calculate the chances of seeing a result as extreme as the one we observed (known as the p-value) by passing the t-statistic in as the quantile to the pt() function:"
   ]
  },
  {
   "cell_type": "code",
   "execution_count": 4,
   "metadata": {},
   "outputs": [
    {
     "data": {
      "text/html": [
       "0.0150399648189317"
      ],
      "text/latex": [
       "0.0150399648189317"
      ],
      "text/markdown": [
       "0.0150399648189317"
      ],
      "text/plain": [
       "[1] 0.01503996"
      ]
     },
     "metadata": {},
     "output_type": "display_data"
    }
   ],
   "source": [
    "pt(q=-2.4484, df=249) * 2  # We multiply by 2 because we are doing a two-tailed test"
   ]
  },
  {
   "cell_type": "markdown",
   "metadata": {},
   "source": [
    "Notice this value is the same as the p-value listed in the original t-test output. A p-value of 0.01504 means we'd expect to see data as extreme as our sample due to chance about 1.5% of the time if the null hypothesis was true. In this case, the p-value is lower than our significance level $\\alpha$ (equal to 1-conf.level or 0.05) so we should reject the null hypothesis. Also notice that the 95% confidence interval in the output not does capture the true population mean of 51.2188.\n",
    "Let's run the same test but change our desired confidence level to 99%:"
   ]
  },
  {
   "cell_type": "code",
   "execution_count": 5,
   "metadata": {},
   "outputs": [
    {
     "data": {
      "text/plain": [
       "\n",
       "\tOne Sample t-test\n",
       "\n",
       "data:  thessalia_ages\n",
       "t = -2.4484, df = 249, p-value = 0.01504\n",
       "alternative hypothesis: true mean is not equal to 51.21884\n",
       "99 percent confidence interval:\n",
       " 45.07134 51.39836\n",
       "sample estimates:\n",
       "mean of x \n",
       " 48.23485 \n"
      ]
     },
     "metadata": {},
     "output_type": "display_data"
    }
   ],
   "source": [
    "t.test(x = thessalia_ages,    \n",
    "       mu = true_mean,        \n",
    "       alternative = \"two.sided\",   \n",
    "       conf.level = 0.99,          # Use a higher confidence level\n",
    "       )"
   ]
  },
  {
   "cell_type": "code",
   "execution_count": 6,
   "metadata": {},
   "outputs": [
    {
     "data": {
      "text/html": [
       "-2.59571775827349"
      ],
      "text/latex": [
       "-2.59571775827349"
      ],
      "text/markdown": [
       "-2.59571775827349"
      ],
      "text/plain": [
       "[1] -2.595718"
      ]
     },
     "metadata": {},
     "output_type": "display_data"
    },
    {
     "data": {
      "text/html": [
       "2.59571775827349"
      ],
      "text/latex": [
       "2.59571775827349"
      ],
      "text/markdown": [
       "2.59571775827349"
      ],
      "text/plain": [
       "[1] 2.595718"
      ]
     },
     "metadata": {},
     "output_type": "display_data"
    }
   ],
   "source": [
    "# Now let's calculate the upper and lower quantile bounds for a 99% confidence level:\n",
    "\n",
    "\n",
    "qt(p=0.005, df=249)   # Get the lower tail quantile\n",
    "qt(p=0.995, df=249)   # Get the upper tail quantile"
   ]
  },
  {
   "cell_type": "markdown",
   "metadata": {},
   "source": [
    "With a higher confidence level, we construct a wider confidence interval and increase the chances that it captures to true mean, thus making it less likely that we'll reject the null hypothesis. In this case, the test statistic -2.4484 falls within the quantile bounds for our test so the p-value of 0.015 is greater than our significance level of 0.01 and we fail to reject the null hypothesis.\n",
    "\n",
    "## Two-Sample T-Test\n",
    "A two-sample t-test investigates whether the means of two independent data samples differ from one another. In a two-sample test, the null hypothesis is that the means of both groups are the same. Unlike the one sample-test where we test against a known population parameter, the two sample test only involves sample means. You can conduct a two-sample t-test by passing a second data sample into the t.test() function. Let's generate a sample of voter age data for Wisconsin and test it against the sample we made earlier:"
   ]
  },
  {
   "cell_type": "code",
   "execution_count": 10,
   "metadata": {},
   "outputs": [
    {
     "data": {
      "text/plain": [
       "\n",
       "\tWelch Two Sample t-test\n",
       "\n",
       "data:  thessalia_ages and thessaliain_ages\n",
       "t = -2.2201, df = 442.09, p-value = 0.02692\n",
       "alternative hypothesis: true difference in means is not equal to 0\n",
       "95 percent confidence interval:\n",
       " -7.2257932 -0.4397954\n",
       "sample estimates:\n",
       "mean of x mean of y \n",
       " 48.23485  52.06764 \n"
      ]
     },
     "metadata": {},
     "output_type": "display_data"
    }
   ],
   "source": [
    "set.seed(12)\n",
    "thessaliain_ages <- c(rexp(50,0.015)+18,      # Generate more dummy sample age data\n",
    "                    rpois(50,20)+18,\n",
    "                    rpois(50,32.5)+18,\n",
    "                    rpois(50,45)+18)\n",
    "\n",
    "thessaliain_ages <- ifelse(thessaliain_ages<100, thessaliain_ages, thessaliain_ages%%100+18)\n",
    "\n",
    "\n",
    "\n",
    "t.test(x=thessalia_ages,    # Conduct a the two sample test*\n",
    "       y=thessaliain_ages,\n",
    "       conf.level=0.95)"
   ]
  },
  {
   "cell_type": "markdown",
   "metadata": {},
   "source": [
    "*Note: the degrees of freedom for a two-sample test are derived from a formula based on the size and variance of each sample intended to correct for samples with unequal variance. Read more here.\n",
    "\n",
    "The test yields a p-value of 0.02692, which means there is a 2.7% chance we'd see sample data this far apart if the two groups tested are actually identical. In this case, we'd reject that hypothesis, since 2.7% is lower than our significance level of 5%.\n",
    "\n",
    "If we changed our confidence level to 99% we would fail to reject the null hypothesis because the p-value is greater than 0.01.\n",
    "\n",
    "## Paired T-Test\n",
    "\n",
    "The two sample t-test is designed for testing differences between independent groups. In some cases, you might be interested in testing differences between samples of the same group at different points in time. For instance, a hospital might want to test whether a weight-loss drug works by checking the weights of the same group patients before and after treatment. A paired t-test lets you check whether the means of samples from the same group differ.\n",
    "\n",
    "We can conduct a paired t-test by passing two paired data samples to the t.test() function and including the argument paired=TRUE. Let's generate some dummy weight data and run a paired t-test on it. Note that R creates pairings based on the order of the vectors you pass in, so individuals should be in the same order in both vectors."
   ]
  },
  {
   "cell_type": "code",
   "execution_count": 11,
   "metadata": {},
   "outputs": [
    {
     "data": {
      "text/plain": [
       "     before          after           change       \n",
       " Min.   :160.4   Min.   :159.4   Min.   :-10.998  \n",
       " 1st Qu.:231.9   1st Qu.:230.0   1st Qu.: -5.209  \n",
       " Median :249.0   Median :247.7   Median : -1.506  \n",
       " Mean   :249.7   Mean   :248.1   Mean   : -1.562  \n",
       " 3rd Qu.:269.0   3rd Qu.:266.2   3rd Qu.:  1.719  \n",
       " Max.   :349.4   Max.   :348.3   Max.   : 12.045  "
      ]
     },
     "metadata": {},
     "output_type": "display_data"
    }
   ],
   "source": [
    "set.seed(80)\n",
    "\n",
    "before_treatment_weights <- rnorm(100,250,30)   # Generate weights with mean 250lbs\n",
    "\n",
    "after_treatment_weights <- (before_treatment_weights + rnorm(100,-1.25,5)) \n",
    "\n",
    "weight_df <- data.frame(before=before_treatment_weights, # Pair the data in a data frame\n",
    "                         after=after_treatment_weights,\n",
    "                         change=after_treatment_weights-before_treatment_weights)\n",
    "\n",
    "summary(weight_df)             # Check a summary of the data"
   ]
  },
  {
   "cell_type": "markdown",
   "metadata": {},
   "source": [
    "The summary shows that patients lost about 1.2 pounds on average after treatment. Let's conduct a paired t-test to see whether this difference is significant at a 95% confidence level:"
   ]
  },
  {
   "cell_type": "code",
   "execution_count": 12,
   "metadata": {},
   "outputs": [
    {
     "data": {
      "text/plain": [
       "\n",
       "\tPaired t-test\n",
       "\n",
       "data:  before_treatment_weights and after_treatment_weights\n",
       "t = 3.1686, df = 99, p-value = 0.002038\n",
       "alternative hypothesis: true difference in means is not equal to 0\n",
       "95 percent confidence interval:\n",
       " 0.583922 2.540406\n",
       "sample estimates:\n",
       "mean of the differences \n",
       "               1.562164 \n"
      ]
     },
     "metadata": {},
     "output_type": "display_data"
    }
   ],
   "source": [
    "t.test(before_treatment_weights,\n",
    "       after_treatment_weights,\n",
    "       conf.level= 0.95,\n",
    "       paired=TRUE)"
   ]
  },
  {
   "cell_type": "markdown",
   "metadata": {},
   "source": [
    "The p-value in the test output shows that the chances of seeing this large of a difference between samples due to chance is less than 1%.\n",
    "\n",
    "\n",
    "## Type I and Type II Error\n",
    "\n",
    "The result of a statistical hypothesis test and the corresponding decision of whether to reject or accept the null hypothesis is not infallible. A test provides evidence for or against the null hypothesis and then you decide whether to accept or reject it based on that evidence, but the evidence may lack the strength to arrive at the correct conclusion. Incorrect conclusions made from hypothesis tests fall in one of two categories: type I error and type II error.\n",
    "\n",
    "Type I error describes a situation where you reject the null hypothesis when it is actually true. This type of error is also known as a \"false positive\" or \"false hit\". The type 1 error rate is equal to the significance level $\\alpha$, so setting a higher confidence level (and therefore lower alpha) reduces the chances of getting a false positive.\n",
    "\n",
    "Type II error describes a situation where you fail to reject the null hypothesis when it is actually false. Type II error is also known as a \"false negative\" or \"miss\". The higher your confidence level, the more likely you are to make a type II error.\n",
    "\n",
    "You can find the type II error rate for detecting a difference between a given distribution and a second test distribution with a known mean and standard deviation using the power.t.test() function. This function finds the power of a t-test, which is probability that the test rejects the null hypothesis when the alternative is true. The type II error rate is equal to 1-power. Let's use this function to check the type II error rate of our paired t-test:"
   ]
  },
  {
   "cell_type": "code",
   "execution_count": 13,
   "metadata": {},
   "outputs": [
    {
     "data": {
      "text/plain": [
       "\n",
       "     Paired t test power calculation \n",
       "\n",
       "              n = 100\n",
       "          delta = 1.25\n",
       "             sd = 5\n",
       "      sig.level = 0.05\n",
       "          power = 0.6969757\n",
       "    alternative = two.sided\n",
       "\n",
       "NOTE: n is number of *pairs*, sd is std.dev. of *differences* within pairs\n"
      ]
     },
     "metadata": {},
     "output_type": "display_data"
    }
   ],
   "source": [
    "power.t.test(n= 100,             # Size of the sample     \n",
    "             delta = 1.25,       # Assumed mean (avg difference) for the distribution\n",
    "             sd= 5,              # Assumed standard deviation for the distribution\n",
    "             sig.level= 0.05,    # Significance level\n",
    "             type=\"paired\")      # t-test type"
   ]
  },
  {
   "cell_type": "markdown",
   "metadata": {},
   "source": [
    "\n",
    "The output shows that the power of our paired t-test is 0.6969757, so the type II error is 1-0.6969757 or approximately 30%. Since the true difference between the groups is only 1.25 pounds we have a fairly high probability of failing to detect the difference.\n",
    "\n",
    "## Wrap Up\n",
    "\n",
    "The t-test is a powerful tool for investigating the differences between sample and population means and R has nice built in functions for conducting t-tests. T-tests operates on numeric variables; in the next lesson, we'll discuss statistical tests for categorical variables.\n"
   ]
  }
 ],
 "metadata": {
  "kernelspec": {
   "display_name": "R",
   "language": "R",
   "name": "ir"
  },
  "language_info": {
   "codemirror_mode": "r",
   "file_extension": ".r",
   "mimetype": "text/x-r-source",
   "name": "R",
   "pygments_lexer": "r",
   "version": "3.6.1"
  },
  "latex_envs": {
   "LaTeX_envs_menu_present": true,
   "autoclose": false,
   "autocomplete": true,
   "bibliofile": "biblio.bib",
   "cite_by": "apalike",
   "current_citInitial": 1,
   "eqLabelWithNumbers": true,
   "eqNumInitial": 1,
   "hotkeys": {
    "equation": "Ctrl-E",
    "itemize": "Ctrl-I"
   },
   "labels_anchors": false,
   "latex_user_defs": false,
   "report_style_numbering": false,
   "user_envs_cfg": false
  },
  "nbTranslate": {
   "displayLangs": [
    "*"
   ],
   "hotkey": "alt-t",
   "langInMainMenu": true,
   "sourceLang": "en",
   "targetLang": "fr",
   "useGoogleTranslate": true
  },
  "toc": {
   "base_numbering": 1,
   "nav_menu": {},
   "number_sections": true,
   "sideBar": true,
   "skip_h1_title": false,
   "title_cell": "Table of Contents",
   "title_sidebar": "Contents",
   "toc_cell": false,
   "toc_position": {},
   "toc_section_display": true,
   "toc_window_display": false
  },
  "varInspector": {
   "cols": {
    "lenName": 16,
    "lenType": 16,
    "lenVar": 40
   },
   "kernels_config": {
    "python": {
     "delete_cmd_postfix": "",
     "delete_cmd_prefix": "del ",
     "library": "var_list.py",
     "varRefreshCmd": "print(var_dic_list())"
    },
    "r": {
     "delete_cmd_postfix": ") ",
     "delete_cmd_prefix": "rm(",
     "library": "var_list.r",
     "varRefreshCmd": "cat(var_dic_list()) "
    }
   },
   "types_to_exclude": [
    "module",
    "function",
    "builtin_function_or_method",
    "instance",
    "_Feature"
   ],
   "window_display": false
  }
 },
 "nbformat": 4,
 "nbformat_minor": 2
}
