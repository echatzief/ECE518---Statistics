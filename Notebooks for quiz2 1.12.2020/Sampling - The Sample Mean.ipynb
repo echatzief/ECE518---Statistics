{
 "cells": [
  {
   "cell_type": "markdown",
   "metadata": {},
   "source": [
    "# The Sample Mean and Its Mean and Standard Deviation"
   ]
  },
  {
   "cell_type": "markdown",
   "metadata": {},
   "source": [
    "Our goal here is to look at the mean and standard deviation of samples in general. We start with some original population that has a known mean, $\\mu$, and standard deviation, $\\sigma$. We take repeated samples, each of size $n$, and for each sample we generate a **sample mean**, $\\bar{x}=\\frac{\\sum_{i=1}^{n} x_{i}}{n}$, (and, although we will not make much use of it, the sample **standard deviation**, $\\bar{x}=\\frac{\\sum_{i=1}^{n} x_{i}}{n}$). Then, we want to treat the collection of sample means as a population itself and we want to examine the mean and standard deviation of that population. The following Figure  attempts to show this.\n",
    "\n",
    "![sample_mean](sample_distribution_with_replacement.png)\n",
    "\n",
    "As suggested in Figure , the mean of all the sample mean values should be really close to the mean of the original population. Furthermore, the standard deviation of the sample means should be really close to the value $\\sigma/\\sqrt(n)$.\n"
   ]
  },
  {
   "cell_type": "markdown",
   "metadata": {},
   "source": [
    "# Using the distribution of the sample mean"
   ]
  },
  {
   "cell_type": "markdown",
   "metadata": {},
   "source": [
    "The Sample Mean, was meant to convince us that for a given population with mean $\\mu$ and standard deviation $\\sigma$ if we take samples of size n (with replacement) then the distribution of the sample means will be normal with mean $\\mu$ and standard deviation $\\sigma/\\sqrt(n)$, especially if n is 30 or larger or if the original population had a normal distribution. The consequence of this is that we can answer some more challenging questions. \n",
    "\n",
    "\\begin{example}\n",
    "If we have an approximately normal population with mean **23.4** and standard deviation **6.1**, then we can compute the probability that a single random sample of that population is **less than 19.7**, i.e., $\\bf P(X<19.7)$. In R we use the statement $\\bf pnorm(19.7, mean=23.4, sd=6.1$ ) to find that the probability is **0.272**.\n",
    "\\end{example}\n"
   ]
  },
  {
   "cell_type": "code",
   "execution_count": 2,
   "metadata": {},
   "outputs": [
    {
     "data": {
      "text/html": [
       "0.272072346884976"
      ],
      "text/latex": [
       "0.272072346884976"
      ],
      "text/markdown": [
       "0.272072346884976"
      ],
      "text/plain": [
       "[1] 0.2720723"
      ]
     },
     "metadata": {},
     "output_type": "display_data"
    }
   ],
   "source": [
    "\n",
    "pnorm(19.7,mean=23.4,sd=6.1)\n",
    "\n"
   ]
  },
  {
   "cell_type": "markdown",
   "metadata": {},
   "source": [
    "This result is what we expect. After all, if the population mean is **23.4** and the standard deviation is **6.1** then for a normal population we expect to have about 16% of the values be lower than **23.4 – 6.1** or **17.3**. It makes perfectly good sense then to find 27.2% of the values to be less than 19.7.\n"
   ]
  },
  {
   "cell_type": "markdown",
   "metadata": {},
   "source": [
    "\\begin{example}\n",
    "Now, if we have a sample of size 22 of that population __we can ask what is the probability that the sample mean will be less than 19.7__? Because we are asking about the sample mean we need to use the fact that the sample means will be $\\bf N(23.4,6.1/\\sqrt(22))$. But the square root of 22 is about 4.69 and 6.1/sqrt(22) is about 1.3. One standard deviation below the mean is about 23.4 – 1.3 or 22.1. Our value, 19.7 is way lower than that. In fact, 19.7 is about 2.845 standard deviations below the mean. We recall that only about 0.135% of the values are lower than 3 standard deviations below the mean. We should expect that the probability of getting a sample mean less than 19.7 (i.e., a value that is 2.845 standard deviations below the mean) will be just slightly larger than that 0.135%. The R statement to find this is __pnorm(19.7, mean=23.4, sd=6.1/sqrt(22) )__ as shown in the cell bellow. \n",
    "\\end{example}\n"
   ]
  },
  {
   "cell_type": "code",
   "execution_count": 3,
   "metadata": {},
   "outputs": [
    {
     "data": {
      "text/html": [
       "0.00222052736980647"
      ],
      "text/latex": [
       "0.00222052736980647"
      ],
      "text/markdown": [
       "0.00222052736980647"
      ],
      "text/plain": [
       "[1] 0.002220527"
      ]
     },
     "metadata": {},
     "output_type": "display_data"
    }
   ],
   "source": [
    "pnorm(19.7, mean=23.4, sd=6.1/sqrt(22))"
   ]
  },
  {
   "cell_type": "markdown",
   "metadata": {},
   "source": [
    "If we have a population, heavily skewed to the right, but with mean 137.2 and standard deviation 12.7, we might be interested in finding the probability that a random item from that population is greater than 140? Unfortunately, because we do not know the distribution of the values in the population we cannot answer that question. However, if we take a sample of size 43 (a sample well larger than 30) then we can ask, and answer, \"What is the probability that the mean of the 43 item sample will be greater than 140?\" We can do this because we know that the sample mean for such a large sample will be normal with mean=137.2 and standard deviation=12.7/sqrt(43). Therefore, in R, we can use the command __pnorm(140,mean=137.2,sd=12.7/sqrt(43),lower.tail=FALSE)__"
   ]
  },
  {
   "cell_type": "code",
   "execution_count": 4,
   "metadata": {},
   "outputs": [
    {
     "data": {
      "text/html": [
       "0.0741258450207223"
      ],
      "text/latex": [
       "0.0741258450207223"
      ],
      "text/markdown": [
       "0.0741258450207223"
      ],
      "text/plain": [
       "[1] 0.07412585"
      ]
     },
     "metadata": {},
     "output_type": "display_data"
    }
   ],
   "source": [
    "pnorm(140, mean=137.2,sd=12.7/sqrt(43), lower.tail=FALSE)"
   ]
  },
  {
   "cell_type": "markdown",
   "metadata": {},
   "source": [
    "The answer, 0.0741, fits well with our understanding of the normal distribution in that 140 is about 1.45 standard deviations above the mean. But remember, that is standard deviations of the sample means (i.e., 12.7/sqrt(43)) not standard deviations of the population.\n",
    "\n",
    "\\begin{example}\n",
    "\n",
    "\n",
    "\n",
    "If we have a bimodal population with mean=4.21 and standard deviation=17.3 we would have no way of answering the question \"What is the probability of taking a sample and having its value no more than 4 away from the mean?\" However, even though the population is bimodal we know that the distribution of the sample means will be normal with mean=4.21 and standard deviation=17.3/sqrt(n) where n is the size of the samples. Therefore, we can ask and answer the question \"What is the probability a sample of size 53 will have its sample mean no more than 4 away from the mean?\" That is the same as $\\bf P(0.21 \\le xbar \\le 8.21)$. We can compute that as $\\bf P(xbar \\le 8.21) – P(xbar \\le 0.21)$, or in the R language we could do.\n",
    "\\end{example}"
   ]
  },
  {
   "cell_type": "code",
   "execution_count": 5,
   "metadata": {},
   "outputs": [
    {
     "data": {
      "text/html": [
       "2.37633775631232"
      ],
      "text/latex": [
       "2.37633775631232"
      ],
      "text/markdown": [
       "2.37633775631232"
      ],
      "text/plain": [
       "[1] 2.376338"
      ]
     },
     "metadata": {},
     "output_type": "display_data"
    },
    {
     "data": {
      "text/html": [
       "0.907675694619132"
      ],
      "text/latex": [
       "0.907675694619132"
      ],
      "text/markdown": [
       "0.907675694619132"
      ],
      "text/plain": [
       "[1] 0.9076757"
      ]
     },
     "metadata": {},
     "output_type": "display_data"
    }
   ],
   "source": [
    "samp_sd <- 17.3/sqrt(53)\n",
    "samp_sd  #just to see the value\n",
    "pnorm(8.21, mean=4.21, sd=samp_sd) -\n",
    "   pnorm( 0.21, 4.21, samp_sd)"
   ]
  },
  {
   "cell_type": "markdown",
   "metadata": {},
   "source": [
    "\\begin{example}\n",
    "\n",
    "We are making cereal and packaging it into boxes that say they hold 24 ounces of the product. We know that the machine that fills the boxes operates with a mean box weight of 24 ounces and a standard deviation of the box weight at about 0.2 ounces. In order to not run afoul of the law, we sure do not want boxes that weigh less than 23.9 ounces. In order to not give way too much we sure do not want boxes that hold more than 25 ounces. What is the probability that a sample box will weigh less than 23.9 ounces or more than 25 ounces? Offhand we cannot answer this because we do not know the distribution of the weight of the boxes. If someone comes along and says that the distribution is normal then we could find $\\bf P( x \\le 23.9 \\text{ or } x \\ge 25 )$ by the R commands.\n",
    "\\end{example}\n"
   ]
  },
  {
   "cell_type": "code",
   "execution_count": 6,
   "metadata": {},
   "outputs": [
    {
     "data": {
      "text/html": [
       "0.308537825377556"
      ],
      "text/latex": [
       "0.308537825377556"
      ],
      "text/markdown": [
       "0.308537825377556"
      ],
      "text/plain": [
       "[1] 0.3085378"
      ]
     },
     "metadata": {},
     "output_type": "display_data"
    }
   ],
   "source": [
    "# find prob x < 23.9 or x > 25, assuming a\n",
    "# normal distribution\n",
    "\n",
    "pnorm( 23.9, 24, 0.2) +\n",
    "     pnorm( 25, 24, 0.2, lower.tail = FALSE)\n"
   ]
  },
  {
   "cell_type": "markdown",
   "metadata": {},
   "source": [
    "That result means the almost 31% of the boxes of cereal will be outside of the desired range. That is not good. "
   ]
  },
  {
   "cell_type": "markdown",
   "metadata": {},
   "source": [
    "On the other hand, we do not ship individual boxes to customers, we send pallets of boxes to customers. There are 48 boxes in each pallet. The process of assembling a pallet, as it turns out in our special case, really mimics taking a random sample of the boxes. That is, we do not take sequentially filled boxes to make up a pallet. There is no predicting if a particular box will or will not make it into the next pallet. So, we could consider the boxes in the pallet to be a random sample of 48 of our cereal boxes. Furthermore, we know that our customers, the stores that buy our cereal, are really concerned about the average weight of the boxes in the pallet, not about the weight of individual boxes. So, we ask a new question, \"What is the probability that the mean weight of boxes in a pallet is less than 23.9 ounces or more than 25 ounces?\" To answer this we need to use the standard deviation of the sample mean, in this case that will be 0.2/sqrt(48). We are looking for $\\bf P(xbar \\le 23.9 \\text{ or } xbar \\ge 25 )$ which we can express in R by "
   ]
  },
  {
   "cell_type": "code",
   "execution_count": 7,
   "metadata": {},
   "outputs": [
    {
     "data": {
      "text/html": [
       "0.000266002752569576"
      ],
      "text/latex": [
       "0.000266002752569576"
      ],
      "text/markdown": [
       "0.000266002752569576"
      ],
      "text/plain": [
       "[1] 0.0002660028"
      ]
     },
     "metadata": {},
     "output_type": "display_data"
    }
   ],
   "source": [
    "#\n",
    "# then find prob  xbar < 23.9 or xbar > 25 for\n",
    "#     a sample of size 48\n",
    "samp_sd <- 0.2/sqrt(48)\n",
    "pnorm( 23.9, 24, samp_sd) +\n",
    "   pnorm( 25, 24, samp_sd, lower.tail = FALSE)"
   ]
  },
  {
   "cell_type": "markdown",
   "metadata": {},
   "source": [
    "From this we see that we expect that fewer than 3 out of every 10,000 pallets will be in the undesirable range. This is good. "
   ]
  },
  {
   "cell_type": "markdown",
   "metadata": {},
   "source": [
    "# The pnorm and qnorm functions.\n",
    "\n",
    "* Getting probabilities from a normal distribution with mean $\\mu$ and standard deviation $\\sigma$\n",
    "\n",
    "$$\n",
    "\\text { pnorm }(\\mathrm{x}, \\text { mean }=, \\mathrm{sd}=, \\text { lower. tail }=)\n",
    "$$\n",
    "\n",
    "\n",
    "\\begin{array}{l}{\\text { If } x \\text { is a normally distributed random variable, with mean }=\\mu \\text { and standard deviation }=\\sigma, \\text { then }} \\\\ {\\qquad \\begin{aligned} P\\left(x<x_{\\max }\\right) &=\\text { pnorm }\\left(x_{\\max }, \\text { mean }=\\mu, \\text { sd }=\\sigma, \\text { lower. tail }=\\text { TRUE }\\right) \\\\ P\\left(x>x_{\\min }\\right) &=\\text { pnorm }\\left(x_{\\min }, \\text { mean }=\\mu, \\text { sd }=\\sigma, \\text { lower. tail }=\\text { FALSE }\\right) \\\\ P\\left(x_{\\min }<x<x_{\\max }\\right)=& \\text { pnorm }\\left(x_{\\max }, \\text { mean }=\\mu, \\text { sd }=\\sigma, \\text { lower. tail }=\\text { TRUE }\\right) \\\\ &-\\text { pnorm }\\left(x_{\\min }, \\text { mean }=\\mu, \\text { sd }=\\sigma, \\text { lower. tail }=\\text { TRUE }\\right) \\end{aligned}}\\end{array}\n"
   ]
  },
  {
   "cell_type": "markdown",
   "metadata": {},
   "source": [
    "\\begin{example}\n",
    "SupposeIQ’s are normally distributed with a mean of 100 and a standard deviation of 15.\n",
    "* What percentage of people have an IQ less than 125?\n",
    "* What percentage of people have an IQ greater than 110?\n",
    "* What percentage of people have an IQ between 110 and 125?\n",
    "\\end{example}\n"
   ]
  },
  {
   "cell_type": "code",
   "execution_count": 9,
   "metadata": {},
   "outputs": [
    {
     "data": {
      "text/html": [
       "0.952209647727185"
      ],
      "text/latex": [
       "0.952209647727185"
      ],
      "text/markdown": [
       "0.952209647727185"
      ],
      "text/plain": [
       "[1] 0.9522096"
      ]
     },
     "metadata": {},
     "output_type": "display_data"
    },
    {
     "data": {
      "text/html": [
       "0.252492537546923"
      ],
      "text/latex": [
       "0.252492537546923"
      ],
      "text/markdown": [
       "0.252492537546923"
      ],
      "text/plain": [
       "[1] 0.2524925"
      ]
     },
     "metadata": {},
     "output_type": "display_data"
    },
    {
     "data": {
      "text/html": [
       "0.204702185274108"
      ],
      "text/latex": [
       "0.204702185274108"
      ],
      "text/markdown": [
       "0.204702185274108"
      ],
      "text/plain": [
       "[1] 0.2047022"
      ]
     },
     "metadata": {},
     "output_type": "display_data"
    }
   ],
   "source": [
    "pnorm(125, mean = 100, sd = 15, lower.tail=TRUE)\n",
    "pnorm(110, mean = 100, sd = 15, lower.tail=FALSE)\n",
    "pnorm(125, mean = 100, sd = 15, lower.tail=TRUE)- pnorm(110, mean = 100, sd = 15, lower.tail=TRUE)\n"
   ]
  },
  {
   "cell_type": "markdown",
   "metadata": {},
   "source": [
    "# Usage for the standard normal (z) distribution (μ= 0 and σ= 1).\n",
    "\n",
    "We first convert x scores to z scores using the formula $z= (x−\\mu)/\\sigma$ and then find probabilities from the z-table or  probabilities can be found with the `pnorm` function as well.  It is actually the default values for $\\mu$ and $\\sigma$ with the `pnorm`function.\n",
    "\n",
    "$P\\left(z<z_{\\max }\\right)=$ pnorm $\\left(z_{\\max }\\right)$\n",
    "\n",
    "$P\\left(z>z_{\\min }\\right)=$ pnorm $\\left(z_{\\min }, \\text { Iower. tail }=\\text { FALSE }\\right)$\n",
    "\n",
    "$P\\left(z_{\\min }<z<z_{\\max }\\right)=\\operatorname{pnorm}\\left(z_{\\max }\\right)-\\operatorname{pnorm}\\left(x_{\\min }\\right)$"
   ]
  },
  {
   "cell_type": "markdown",
   "metadata": {},
   "source": [
    "![](https://cdn.mathpix.com/snip/images/WV9JC5xpVc5G3G1K7NlpBm9po7oucI4K7OngbibIUzk.original.fullsize.png)"
   ]
  },
  {
   "cell_type": "markdown",
   "metadata": {},
   "source": [
    "pnorm(z, lower.tail=TRUE) (the R default) gives the probability of a \n",
    "normal variate being at or below z. This is the value commonly called \n",
    "the cumulative distribution function at the point z, or the integral \n",
    "from -Inf to z of the gaussian density.\n",
    "\n",
    "pnorm(z, lower.tail=FALSE) gives the complement of the above, or 1 - \n",
    "cdf(z), and is the integral from z to Inf of the gaussian density.\n",
    "\n",
    "E.g.,\n",
    "\n",
    " > pnorm(1.96, lower.tail=TRUE)\n",
    " \n",
    "[1] 0.9750021\n",
    "\n",
    " > pnorm(1.96, lower.tail=FALSE)\n",
    " \n",
    "[1] 0.02499790\n",
    " >\n",
    "\n",
    "Use lower.tail=TRUE if you are, e.g., finding the probability at the \n",
    "lower tail of a confidence interval or if you want  the probability \n",
    "of values no larger than z.\n",
    "\n",
    "Use lower.tail=FALSE if you are, e.g., trying to calculate test value \n",
    "significance or at the upper confidence limit, or you want the \n",
    "probability of values z or larger.\n",
    "\n",
    "You should use pnorm(z, lower.tail=FALSE) instead of 1-pnorm(z) \n",
    "because the former returns a more accurate answer for large z."
   ]
  }
 ],
 "metadata": {
  "@webio": {
   "lastCommId": null,
   "lastKernelId": null
  },
  "kernelspec": {
   "display_name": "R 4.0.2",
   "language": "R",
   "name": "ir40"
  },
  "latex_envs": {
   "LaTeX_envs_menu_present": true,
   "autoclose": false,
   "autocomplete": true,
   "bibliofile": "biblio.bib",
   "cite_by": "apalike",
   "current_citInitial": 1,
   "eqLabelWithNumbers": true,
   "eqNumInitial": 1,
   "hotkeys": {
    "equation": "Ctrl-E",
    "itemize": "Ctrl-I"
   },
   "labels_anchors": false,
   "latex_user_defs": false,
   "report_style_numbering": false,
   "user_envs_cfg": false
  },
  "nbTranslate": {
   "displayLangs": [
    "*"
   ],
   "hotkey": "alt-t",
   "langInMainMenu": true,
   "sourceLang": "en",
   "targetLang": "fr",
   "useGoogleTranslate": true
  },
  "toc": {
   "base_numbering": 1,
   "nav_menu": {},
   "number_sections": true,
   "sideBar": true,
   "skip_h1_title": false,
   "title_cell": "Table of Contents",
   "title_sidebar": "Contents",
   "toc_cell": false,
   "toc_position": {},
   "toc_section_display": true,
   "toc_window_display": false
  },
  "varInspector": {
   "cols": {
    "lenName": 16,
    "lenType": 16,
    "lenVar": 40
   },
   "kernels_config": {
    "python": {
     "delete_cmd_postfix": "",
     "delete_cmd_prefix": "del ",
     "library": "var_list.py",
     "varRefreshCmd": "print(var_dic_list())"
    },
    "r": {
     "delete_cmd_postfix": ") ",
     "delete_cmd_prefix": "rm(",
     "library": "var_list.r",
     "varRefreshCmd": "cat(var_dic_list()) "
    }
   },
   "types_to_exclude": [
    "module",
    "function",
    "builtin_function_or_method",
    "instance",
    "_Feature"
   ],
   "window_display": false
  }
 },
 "nbformat": 4,
 "nbformat_minor": 2
}
