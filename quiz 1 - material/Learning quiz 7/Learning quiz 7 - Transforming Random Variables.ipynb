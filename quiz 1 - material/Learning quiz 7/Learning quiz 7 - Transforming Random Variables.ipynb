{
 "cells": [
  {
   "cell_type": "markdown",
   "metadata": {},
   "source": [
    "# Transforming Random Variables"
   ]
  },
  {
   "cell_type": "markdown",
   "metadata": {},
   "source": [
    "# Learning Goals \n",
    "\n",
    "Be able to ﬁnd the pdf and cdf of a random variable defined in terms of a random variable with known pdf and cdf. "
   ]
  },
  {
   "cell_type": "markdown",
   "metadata": {},
   "source": [
    "## Transformations of Random Variables\n",
    "\n",
    "If $Y=a X+b$ then the properties of expectation and variance tell us that $E(Y)=a E(X)+b$ and $\\operatorname{Var}(Y)=a^{2} \\operatorname{Var}(X) .$ But what is the distribution function of $Y ?$ If $Y$ is continuous, what is its pdf?\n",
    "\n",
    "Often, when looking at transforms of discrete random variables we work with tables. For continuous random variables transforming the pdf is just change of variables $\\left(^{*} u-\\right.$ substitution') from calculus. Transforming the cdf makes direct use of the definition of the cdf.\n",
    "Let's remind ourselves of the basics:\n",
    "\n",
    "1. The codf of $X$ is $F_{X}(x)=P(X \\leq x)$.\n",
    "2. The pdf of $X$ is related to $F_{X}$ by $f_{X}(x)=F_{X}^{\\prime}(x)$\n",
    "\n",
    "\\begin{example}\n",
    "Let $X \\sim U(0,2),$ so $f_{X}(x)=1 / 2$ and $F_{X}(x)=x / 2$ on $[0,2] .$ What is the range, pdf and cdf of $Y=X^{2} ?$\n",
    "\\end{example}\n",
    "\n",
    "\\begin{proof}\n",
    "The range is easy: [0,4] . \n",
    "\n",
    "To find the cdf we work systematically from the definition.\n",
    "$$\n",
    "F_{Y}(y)=P(Y \\leq y)=P\\left(X^{2} \\leq y\\right)=P(X \\leq \\sqrt{y})=F_{X}(\\sqrt{y})=\\sqrt{y} / 2\n",
    "$$\n",
    "To find the pdf we can just differentiate the cdf\n",
    "$$\n",
    "f_{Y}(y)=\\frac{d}{d y} F_{Y}(y)=\\overline{\\frac{1}{4 \\sqrt{y}}}\n",
    "$$\n",
    "\n",
    "\\end{proof}\n"
   ]
  },
  {
   "cell_type": "markdown",
   "metadata": {},
   "source": [
    "\\begin{example}\n",
    "Let $X \\sim \\exp (\\lambda),$ so $f_{X}(x)=\\lambda \\mathrm{e}^{-\\lambda x}$ on $[0, \\infty] .$ What is the density of $Y=X^{2} ?$\n",
    "\\end{example}\n",
    "\n",
    "\\begin{proof}\n",
    "Let's do this using the change of variables.\n",
    "\n",
    "\\begin{array}{c}\n",
    "y=x^{2} \\Rightarrow d y=2 x d x \\Rightarrow d x=\\frac{d y}{2 \\sqrt{y}} \\\\\n",
    "f_{X}(x) d x=\\lambda \\mathrm{e}^{-\\lambda x} d x=\\lambda \\mathrm{e}^{-\\lambda \\sqrt{y}} \\frac{d y}{2 \\sqrt{y}}=f_{Y}(y) d y \\\\\n",
    "\\text { Therefore }\\left[f_{Y}(y)=\\frac{\\lambda}{2 \\sqrt{y}} \\mathrm{e}^{-\\lambda \\sqrt{y}}\\right.\n",
    "\\end{array}\n",
    "\\end{proof}\n",
    "\n"
   ]
  },
  {
   "cell_type": "markdown",
   "metadata": {},
   "source": [
    "\\begin{example}\n",
    "Assume $X \\sim \\mathrm{N}\\left(5,3^{2}\\right) .$ Show that $Z=\\frac{X-5}{3}$ is standard normal, i.e., $Z \\sim \\mathrm{N}(0,1)$\n",
    "\n",
    "\\end{example}\n",
    "\n",
    "\\begin{proof}\n",
    "Again using the change of variables and the formula for $f_{X}(x)$ we have\n",
    "$$\n",
    "\\begin{array}{c}\n",
    "z=\\frac{x-5}{3} \\Rightarrow d z=\\frac{d x}{3} \\Rightarrow d x=3 d z \\\\\n",
    "f_{X}(x) d x=\\frac{1}{3 \\sqrt{2 \\pi}} \\mathrm{e}^{-(x-5)^{2} /\\left(2 \\cdot 3^{2}\\right)} d x=\\frac{1}{3 \\sqrt{2 \\pi}} \\mathrm{e}^{-z^{2} / 2} 3 d z=\\frac{1}{\\sqrt{2 \\pi}} \\mathrm{e}^{-z^{2} / 2} d z=f_{Z}(z) d z\n",
    "\\end{array}\n",
    "$$\n",
    "Therefore $f_{Z}(z)=\\frac{1}{\\sqrt{2 \\pi}} \\mathrm{e}^{-z^{2} / 2} .$ since this is exactly the density for $\\mathrm{N}(0,1)$ we have shown that $Z$ is standard normal.\n",
    "\n",
    "> This transformation is very important and you will use it many times in statistics\n",
    "\n",
    "\\end{proof}\n",
    "\n"
   ]
  },
  {
   "cell_type": "markdown",
   "metadata": {},
   "source": [
    "\\begin{example}\n",
    "Assume $X \\sim \\mathrm{N}\\left(\\mu, \\sigma^{2}\\right) .$ Show that $Z=\\frac{X-\\mu}{\\sigma}$ is standard normal, i.e., $Z \\sim \\mathrm{N}(0,1)$\n",
    "\n",
    "\\end{example}\n",
    "\n",
    "\\begin{proof}\n",
    "$$\n",
    "\\begin{array}{c}\n",
    "z=\\frac{x-\\mu}{\\sigma} \\Rightarrow d z=\\frac{d x}{\\sigma} \\Rightarrow d x=\\sigma d z \\\\\n",
    "f_{X}(x) d x=\\frac{1}{\\sigma \\sqrt{2 \\pi}} \\mathrm{e}^{-(x-\\mu)^{2} /\\left(2-\\sigma^{2}\\right)} d x=\\frac{1}{\\sigma \\sqrt{2 \\pi}} \\mathrm{e}^{-z^{2} / 2} \\sigma d z=\\frac{1}{\\sqrt{2 \\pi}} \\mathrm{e}^{-z^{2} / 2} d z=f_{Z}(z) d z\n",
    "\\end{array}\n",
    "$$\n",
    "Therefore $f_{Z}(z)=\\frac{1}{\\sqrt{2 \\pi}} \\mathrm{e}^{-z^{2} / 2} .$ This shows $Z$ is standard normal.\n",
    "\\end{proof}\n",
    "\n"
   ]
  }
 ],
 "metadata": {
  "kernelspec": {
   "display_name": "R 4.0.2",
   "language": "R",
   "name": "ir40"
  },
  "latex_envs": {
   "LaTeX_envs_menu_present": true,
   "autoclose": false,
   "autocomplete": true,
   "bibliofile": "biblio.bib",
   "cite_by": "apalike",
   "current_citInitial": 1,
   "eqLabelWithNumbers": true,
   "eqNumInitial": 1,
   "hotkeys": {
    "equation": "Ctrl-E",
    "itemize": "Ctrl-I"
   },
   "labels_anchors": false,
   "latex_user_defs": false,
   "report_style_numbering": false,
   "user_envs_cfg": false
  },
  "nbTranslate": {
   "displayLangs": [
    "*"
   ],
   "hotkey": "alt-t",
   "langInMainMenu": true,
   "sourceLang": "en",
   "targetLang": "fr",
   "useGoogleTranslate": true
  },
  "toc": {
   "base_numbering": 1,
   "nav_menu": {},
   "number_sections": true,
   "sideBar": true,
   "skip_h1_title": false,
   "title_cell": "Table of Contents",
   "title_sidebar": "Contents",
   "toc_cell": false,
   "toc_position": {},
   "toc_section_display": true,
   "toc_window_display": false
  },
  "varInspector": {
   "cols": {
    "lenName": 16,
    "lenType": 16,
    "lenVar": 40
   },
   "kernels_config": {
    "python": {
     "delete_cmd_postfix": "",
     "delete_cmd_prefix": "del ",
     "library": "var_list.py",
     "varRefreshCmd": "print(var_dic_list())"
    },
    "r": {
     "delete_cmd_postfix": ") ",
     "delete_cmd_prefix": "rm(",
     "library": "var_list.r",
     "varRefreshCmd": "cat(var_dic_list()) "
    }
   },
   "types_to_exclude": [
    "module",
    "function",
    "builtin_function_or_method",
    "instance",
    "_Feature"
   ],
   "window_display": false
  }
 },
 "nbformat": 4,
 "nbformat_minor": 4
}
