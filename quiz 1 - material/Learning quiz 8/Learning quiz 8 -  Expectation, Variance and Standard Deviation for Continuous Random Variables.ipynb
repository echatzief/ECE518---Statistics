{
 "cells": [
  {
   "cell_type": "markdown",
   "metadata": {},
   "source": [
    "# Expectation, Variance and Standard Deviation for Continuous Random Variables\n",
    "\n",
    "## Learning Goals\n",
    "\n",
    "1. Be able to compute and interpret expectation, variance, and standard deviation for continuous random variables.\n",
    "2. Be able to compute and interpret quantiles for discrete and continuous random variables."
   ]
  },
  {
   "cell_type": "markdown",
   "metadata": {},
   "source": [
    "\n",
    "## Introduction\n",
    "So far we have looked at expected value, standard deviation, and variance for discrete random variables. These summary statistics have the same meaning for continuous random variables:\n",
    "\n",
    "- The expected value $\\mu=E(X)$ is a measure of location or central tendency.\n",
    "\n",
    "- The standard deviation $\\sigma$ is a measure of the spread or scale.\n",
    "\n",
    "- The variance $\\sigma^{2}=\\operatorname{Var}(X)$ is the square of the standard deviation.\n",
    "\n",
    "To move from discrete to continuous, we will simply replace the sums in the formulas by integrals. \n",
    "\n",
    "## Probabilities, Expected Value and Variance of a Continuous Random Variable\n",
    "\n",
    "Let $f_{Y}(y)$ denote the probability density function of $Y$. The probability that $Y$ falls between $a$ and $b$\n",
    "where $a<b$ is\n",
    "$$\n",
    "P(a \\leq Y \\leq b)=\\int_{a}^{b} f_{Y}(y) \\mathrm{d} y\n",
    "$$\n",
    "\n",
    "We further have that $P(-\\infty \\leq Y \\leq \\infty)=1$ and therefore $\\int_{-\\infty}^{\\infty} f_{Y}(y) \\mathrm{d} y=1$\n",
    "As for the discrete case, the expected value of $Y$ is the probability weighted average of its values. Due to\n",
    "continuity, we use integrals instead of sums. The expected value of $Y$ is defined as\n",
    "$$\n",
    "E(Y)=\\mu_{Y}=\\int y f_{Y}(y) \\mathrm{d} y\n",
    "$$\n",
    "The variance is the expected value of $\\left(Y-\\mu_{Y}\\right)^{2} .$ We thus have\n",
    "$$\n",
    "\\operatorname{Var}(Y)=\\sigma_{Y}^{2}=\\int\\left(y-\\mu_{Y}\\right)^{2} f_{Y}(y) \\mathrm{d} y\n",
    "$$"
   ]
  },
  {
   "cell_type": "markdown",
   "metadata": {},
   "source": [
    "## Expected value of a continuous random variable\n",
    "\n",
    "\\begin{definition}\n",
    "Definition: Let $X$ be a continuous random variable with range $[a, b]$ and probability density function $f(x) .$ The expected value of $X$ is defined by\n",
    "$$\n",
    "E(X)=\\int_{a}^{b} x f(x) d x\n",
    "$$\n",
    "\n",
    "\\end{definition}\n",
    "Let's see how this compares with the formula for a discrete random variable:\n",
    "$$\n",
    "E(X)=\\sum_{i=1}^{n} x_{i} p\\left(x_{i}\\right)\n",
    "$$\n",
    "\n",
    "The discrete formula says to take a weighted sum of the values $x_{i}$ of $X,$ where the weights are the probabilities $p\\left(x_{i}\\right) .$ Recall that $f(x)$ is a probability density. Its units are prob $/($ unit of $X)$\n",
    "\n",
    "So $f(x) d x$ represents the probability that $X$ is in an infinitesimal range of width $d x$ around $x .$ Thus we can interpret the formula for $E(X)$ as a weighted integral of the values $x$ of $X,$ where the weights are the probabilities $f(x) d x$\n",
    "As before, the expected value is also called the mean or average.\n"
   ]
  },
  {
   "cell_type": "markdown",
   "metadata": {},
   "source": [
    "\\begin{example}\n",
    "Let $X \\sim$ uniform $(0,1) .$ Find $E(X)$.\n",
    "\\end{example}\n",
    "\n",
    "\\begin{proof}\n",
    "$X$ has range [0,1] and density $f(x)=1 .$ Therefore,\n",
    "$$\n",
    "E(X)=\\int_{0}^{1} x d x=\\left.\\frac{x^{2}}{2}\\right|_{0} ^{1}=\\frac{1}{2}\n",
    "$$\n",
    "Not surprisingly the mean is at the midpoint of the range.\n",
    "\\end{proof}\n",
    "\n",
    "\n",
    "\n",
    "\\begin{example}\n",
    "Let $X$ have range [0,2] and density $\\frac{3}{8} x^{2} .$ Find $E(X)$.\n",
    "\n",
    "\\end{example}\n",
    "\\begin{proof}\n",
    "\n",
    "$$\n",
    "E(X)=\\int_{0}^{2} x f(x) d x=\\int_{0}^{2} \\frac{3}{8} x^{3} d x=\\left.\\frac{3 x^{4}}{32}\\right|_{0} ^{2}=\\frac{3}{2}\n",
    "$$\n",
    "\\end{proof}\n",
    "\n",
    "\\begin{example}\n",
    "Let $X \\sim \\exp (\\lambda) .$ Find $E(X)$\n",
    "\\end{example}\n",
    "\\begin{proof}\n",
    "The range of $X$ is $[0, \\infty)$ and its pdf is $f(x)=\\lambda \\mathrm{e}^{-\\lambda x} .$ \n",
    "$$\n",
    "E(X)=\\int_{0}^{\\infty} \\lambda \\mathrm{e}^{-\\lambda x} d x=-\\lambda \\mathrm{e}^{-\\lambda x}-\\left.\\frac{\\mathrm{e}^{-\\lambda x}}{\\lambda}\\right|_{0} ^{\\infty}=\\frac{1}{\\lambda}\n",
    "$$\n",
    "\\end{proof}\n",
    "\n",
    "\\begin{example}\n",
    "Let $Z \\sim \\mathrm{N}(0,1) .$ Find $E(Z)$\n",
    "\n",
    "\\end{example}\n",
    "\n",
    "\\begin{proof}\n",
    "The range of $Z$ is $(-\\infty, \\infty)$ and its pdf is $\\phi(z)=\\frac{1}{\\sqrt{2 \\pi}} \\mathrm{e}^{-z^{2} / 2} .$\n",
    "$$\n",
    "E(Z)=\\int_{-\\infty}^{\\infty} \\frac{1}{\\sqrt{2 \\pi}} z \\mathrm{e}^{-z^{2} / 2} d z=-\\left.\\frac{1}{\\sqrt{2 \\pi}} \\mathrm{e}^{-z^{2} / 2}\\right|_{-\\infty} ^{\\infty}=0\n",
    "$$\n",
    "\\end{proof}\n",
    "\n",
    "\n",
    "\n",
    "\n",
    "Luckily, R also enables us to easily find the results derived above. The tool we use for this is the function\n",
    "`integrate( )`. First, we have to define the functions we want to calculate integrals for as R functions, i.e., the\n",
    "PDF $f_{X}(x)$ as well as the expressions $x \\cdot f_{X}(x)$ and $x^{2} \\cdot f_{X}(x)$.\n",
    "\n"
   ]
  },
  {
   "cell_type": "code",
   "execution_count": 4,
   "metadata": {},
   "outputs": [
    {
     "data": {
      "text/plain": [
       "0.9500042 with absolute error < 1e-11"
      ]
     },
     "metadata": {},
     "output_type": "display_data"
    },
    {
     "data": {
      "text/plain": [
       "1 with absolute error < 9.4e-05"
      ]
     },
     "metadata": {},
     "output_type": "display_data"
    },
    {
     "data": {
      "text/plain": [
       "3.141593 with absolute error < 2.7e-05"
      ]
     },
     "metadata": {},
     "output_type": "display_data"
    },
    {
     "data": {
      "text/plain": [
       "2.529038 with absolute error < 3e-04"
      ]
     },
     "metadata": {},
     "output_type": "display_data"
    },
    {
     "data": {
      "text/plain": [
       "3.135268 with absolute error < 4.2e-07"
      ]
     },
     "metadata": {},
     "output_type": "display_data"
    },
    {
     "data": {
      "text/plain": [
       "failed with message 'the integral is probably divergent'"
      ]
     },
     "metadata": {},
     "output_type": "display_data"
    }
   ],
   "source": [
    "\n",
    "integrate(dnorm, -1.96, 1.96)\n",
    "integrate(dnorm, -Inf, Inf)\n",
    "\n",
    "## a slowly-convergent integral\n",
    "integrand <- function(x) {1/((x+1)*sqrt(x))}\n",
    "integrate(integrand, lower = 0, upper = Inf)\n",
    "\n",
    "## don't do this if you really want the integral from 0 to Inf\n",
    "integrate(integrand, lower = 0, upper = 10)\n",
    "integrate(integrand, lower = 0, upper = 100000)\n",
    "integrate(integrand, lower = 0, upper = 1000000, stop.on.error = FALSE)"
   ]
  },
  {
   "cell_type": "code",
   "execution_count": 9,
   "metadata": {},
   "outputs": [],
   "source": [
    "# define functions\n",
    "f <- function(x) {1}\n",
    "g <- function(x) {x * f(x)}\n",
    "h <- function(x) {x^2 * f(x)}\n"
   ]
  },
  {
   "cell_type": "code",
   "execution_count": 12,
   "metadata": {},
   "outputs": [
    {
     "data": {
      "text/plain": [
       "1 with absolute error < 1.1e-14"
      ]
     },
     "metadata": {},
     "output_type": "display_data"
    }
   ],
   "source": [
    "# compute area under the density curve\n",
    "area <- integrate(Vectorize(f),0, 1)\n",
    "area"
   ]
  },
  {
   "cell_type": "markdown",
   "metadata": {},
   "source": [
    "## Properties of $E(X)$\n",
    "\n",
    "The properties of $E(X)$ for continuous random variables are the same as for discrete ones:\n",
    "1. If $X$ and $Y$ are random variables on a sample space $\\Omega$ then\n",
    "$$\n",
    "E(X+Y)=E(X)+E(Y) . \\quad \\text { (linearity I)}\n",
    "$$\n",
    "2. If $a$ and $b$ are constants then\n",
    "$$\n",
    "E(a X+b)=a E(X)+b . \\quad \\text { (linearity II)}\n",
    "$$\n",
    "\n",
    "## Expectation of Functions of $X$\n",
    "\n",
    "This works exactly the same as the discrete case. if $h(x)$ is a function then $Y=h(X)$ is a random variable and\n",
    "$$\n",
    "E(Y)=E(h(X))=\\int_{-\\infty}^{\\infty} h(x) f_{X}(x)dx\n",
    "$$\n",
    "\n",
    "\\begin{example}\n",
    "Let $X \\sim \\exp (\\lambda) .$ Find $E\\left(X^{2}\\right)$\n",
    "\\end{example}\n",
    "\n",
    "\\begin{proof}\n",
    "Using integration by parts we have\n",
    "$$\n",
    "E\\left(X^{2}\\right)=\\int_{0}^{\\infty} x^{2} \\lambda \\mathrm{e}^{-\\lambda x} d x=\\left[-x^{2} \\mathrm{e}^{-\\lambda x}-\\frac{2 x}{\\lambda} \\mathrm{e}^{-\\lambda x}-\\frac{2}{\\lambda^{2}} \\mathrm{e}^{-\\lambda x}\\right]_{0}^{\\infty}=\\left[\\frac{2}{\\lambda^{2}}\\right.\n",
    "$$\n",
    "\\end{proof}\n",
    "\n",
    "\n"
   ]
  },
  {
   "cell_type": "markdown",
   "metadata": {},
   "source": [
    "## Variance\n",
    "Now that we've defined expectation for continuous random variables, the definition of variance is identical to that of discrete random variables.\n",
    "\n",
    "\\begin{definition}\n",
    "Let $X$ be a continuous random variable with mean $\\mu .$ The variance of $X$ is\n",
    "$$\n",
    "\\operatorname{Var}(X)=E\\left((X-\\mu)^{2}\\right)\n",
    "$$\n",
    "\\end{definition}\n",
    "\n",
    "## Properties of Variance\n",
    "\n",
    "These are exactly the same as in the discrete case.\n",
    "\n",
    "1. If $X$ and $Y$ are independent then $\\operatorname{Var}(X+Y)=\\operatorname{Var}(X)+\\operatorname{Var}(Y)$.\n",
    "2. For constants $a$ and $b, \\operatorname{Var}(a X+b)=a^{2} \\operatorname{Var}(X)$.\n",
    "3. Theorem: $\\operatorname{Var}(X)=E\\left(X^{2}\\right)-E(X)^{2}=E\\left(X^{2}\\right)-\\mu^{2}$.\n",
    "\n",
    "For Property $1,$ note carefully the requirement that $X$ and $Y$ are independent.\n",
    "\n",
    "Property 3 gives a formula for $\\operatorname{Var}(X)$ that is often easier to use in hand calculations. \n",
    "\n",
    "\\begin{exercise}\n",
    "Let $X \\sim$ uniform $(0,1) .$ Find $\\operatorname{Var}(X)$ and $\\sigma_{X}$.\n",
    "\\end{exercise}\n",
    "\n",
    "\\begin{example}\n",
    "Let $X \\sim \\exp (\\lambda) .$ Find $\\operatorname{Var}(X)$ and $\\sigma_{X}$\n",
    "\\end{example}\n",
    "\n",
    "\n",
    "\\begin{proof}\n",
    " \n",
    "$$\n",
    "E(X)=\\int_{0}^{\\infty} x \\lambda \\mathrm{e}^{-\\lambda x} d x=\\frac{1}{\\lambda} \\quad \\text { and } \\quad E\\left(X^{2}\\right)=\\int_{0}^{\\infty} x^{2} \\lambda \\mathrm{e}^{-\\lambda x} d x=\\frac{2}{\\lambda^{2}}\n",
    "$$\n",
    "So by Property 3 ,\n",
    "$$\n",
    "\\operatorname{Var}(X)=E\\left(X^{2}\\right)-E(X)^{2}=\\frac{2}{\\lambda^{2}}-\\frac{1}{\\lambda^{2}}=\\frac{1}{\\lambda^{2}} \\quad \\text { and } \\quad \\sigma_{X}=\\frac{1}{\\lambda}\n",
    "$$\n",
    "We could have skipped Property 3 and computed this directly from $\\operatorname{Var}(X)=\\int_{0}^{\\infty}(x-1 / \\lambda)^{2} \\lambda \\mathrm{e}^{-\\lambda x} d x$\n",
    "\\end{proof}"
   ]
  },
  {
   "cell_type": "markdown",
   "metadata": {},
   "source": [
    "##  Quantiles\n",
    "\n",
    "\\begin{definition}\n",
    "The median of $X$ is the value $x$ for which $P(X \\leq x)=0.5,$ i.e. the value of $x$ such that $P(X \\leq X)=P(X \\geq x) .$ In other words, $X$ has equal probability of being above or below the median, and each probability is therefore $1 / 2 .$ In terms of the $\\operatorname{cdf} F(x)=P(X \\leq x),$ we can equivalently define the median as the value $x$ satisfying $F(x)=0.5$\n",
    "\\end{definition}\n",
    "\n",
    "\n",
    "\\begin{exercise}\n",
    "Find the median of $X \\sim \\exp (\\lambda)$.\n",
    "\\end{exercise}\n",
    "\n",
    "\\begin{proof}\n",
    "The cdf of $X$ is $F(x)=1-\\mathrm{e}^{-\\lambda x}$. So the median is the value of $x$ for which $F(x)=1-\\mathrm{e}^{-\\lambda x}=0.5 . .$ Solving for $x$ we find: $x=(\\ln 2) / \\lambda$\n",
    "\\end{proof}\n",
    "\n",
    "\\begin{definition}\n",
    "The $\\mathrm{p}^{\\text {th }}$ quantile of $X$ is the value $q_{p}$ such that $P\\left(X \\leq q_{p}\\right)=p$.\n",
    "\n",
    "\\end{definition}\n",
    "\n",
    "With respect to the pdf $f(x),$ the quantile $q_{p}$ is the value such that there is an area of $p$ to the left of $q_{p}$ and an area of $1-p$ to the right of $q_{p} .$ \n",
    "\n",
    "\\begin{example}\n",
    "Find the 0.6 quantile for $X \\sim U(0,1)$.\n",
    "\\end{example}\n",
    "\n",
    "\\begin{proof}\n",
    "The cdf for $X$ is $F(x)=x$ on the range $[0,1] .$ So $q_{0.6}=0.6$.\n",
    "\\end{proof}\n",
    "\n",
    "\\begin{example}\n",
    "Find the 0.6 quantile of the standard normal distribution.\n",
    "\\end{example}\n",
    "\n",
    "This is equivalent to $$\n",
    "q_{0.6}: \\text { left tail area }=0.6 \\Leftrightarrow F\\left(q_{.6}\\right)=0.6\n",
    "$$\n",
    "\n",
    "![quantiles](q8_quantiles.png)\n",
    "We don't have a formula for the cdf, so we use the R 'quantile function' `qnorm` or `tables`\n",
    "\n",
    "\n",
    "\n",
    "Quantiles give a useful measure of location for a random variable. We will use them more\n",
    "in coming lectures.\n",
    "\n",
    "\n",
    "\n",
    "\n"
   ]
  },
  {
   "cell_type": "code",
   "execution_count": 13,
   "metadata": {},
   "outputs": [
    {
     "data": {
      "text/html": [
       "0.2533471031358"
      ],
      "text/latex": [
       "0.2533471031358"
      ],
      "text/markdown": [
       "0.2533471031358"
      ],
      "text/plain": [
       "[1] 0.2533471"
      ]
     },
     "metadata": {},
     "output_type": "display_data"
    }
   ],
   "source": [
    "qnorm(0.6, 0, 1) "
   ]
  },
  {
   "cell_type": "markdown",
   "metadata": {},
   "source": [
    "## Percentiles, deciles, quartiles\n",
    "\n",
    "For convenience, quantiles are often described in terms of percentiles, deciles or quartiles. The $60^{\\text {th }}$ percentile is the same as the 0.6 quantile. For example you are in the $60^{\\text {th }}$ percentile for height if you are taller than 60 percent of the population, i.e. the probability that you are taller than a randomly chosen person is 60 percent.\n",
    "\n",
    "Likewise, deciles represent steps of $1 / 10 .$ The third decile is the 0.3 quantile. Quartiles are in steps of $1 / 4$. The third quartile is the 0.75 quantile and the $75^{\\text {th }}$ percentile."
   ]
  }
 ],
 "metadata": {
  "kernelspec": {
   "display_name": "R 4.0.2",
   "language": "R",
   "name": "ir40"
  },
  "latex_envs": {
   "LaTeX_envs_menu_present": true,
   "autoclose": false,
   "autocomplete": true,
   "bibliofile": "biblio.bib",
   "cite_by": "apalike",
   "current_citInitial": 1,
   "eqLabelWithNumbers": true,
   "eqNumInitial": 1,
   "hotkeys": {
    "equation": "Ctrl-E",
    "itemize": "Ctrl-I"
   },
   "labels_anchors": false,
   "latex_user_defs": false,
   "report_style_numbering": false,
   "user_envs_cfg": false
  },
  "nbTranslate": {
   "displayLangs": [
    "*"
   ],
   "hotkey": "alt-t",
   "langInMainMenu": true,
   "sourceLang": "en",
   "targetLang": "fr",
   "useGoogleTranslate": true
  },
  "toc": {
   "base_numbering": 1,
   "nav_menu": {},
   "number_sections": true,
   "sideBar": true,
   "skip_h1_title": false,
   "title_cell": "Table of Contents",
   "title_sidebar": "Contents",
   "toc_cell": false,
   "toc_position": {},
   "toc_section_display": true,
   "toc_window_display": false
  },
  "varInspector": {
   "cols": {
    "lenName": 16,
    "lenType": 16,
    "lenVar": 40
   },
   "kernels_config": {
    "python": {
     "delete_cmd_postfix": "",
     "delete_cmd_prefix": "del ",
     "library": "var_list.py",
     "varRefreshCmd": "print(var_dic_list())"
    },
    "r": {
     "delete_cmd_postfix": ") ",
     "delete_cmd_prefix": "rm(",
     "library": "var_list.r",
     "varRefreshCmd": "cat(var_dic_list()) "
    }
   },
   "types_to_exclude": [
    "module",
    "function",
    "builtin_function_or_method",
    "instance",
    "_Feature"
   ],
   "window_display": false
  }
 },
 "nbformat": 4,
 "nbformat_minor": 4
}
