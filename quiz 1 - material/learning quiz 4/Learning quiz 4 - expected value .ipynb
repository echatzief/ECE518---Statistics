{
 "cells": [
  {
   "cell_type": "markdown",
   "metadata": {},
   "source": [
    "#### defines currency symbols\n",
    "\n",
    "$ \\def\\euro{\\unicode{x20AC}} $\n",
    "$ \\def\\yen{\\unicode{x00A5}}  $\n",
    "$ \\def\\pound{\\unicode{x00A3}} $\n",
    "$ \\def\\dollar{\\unicode{x024}} $"
   ]
  },
  {
   "cell_type": "markdown",
   "metadata": {},
   "source": [
    "# Expected Value of Discrete Random Variables\n",
    "\n",
    "\n",
    "To motivate the formal definition  of the average,  or expected  value, we first consider some examples.\n",
    "\n",
    "\\begin{example}\n",
    "Suppose we have a six-sided die marked  with five 5 3's and one 6.  What  would you expect the average of 6000 rolls to be?\n",
    "\\end{example}\n",
    "\n",
    "**answer**: If we knew the  value  of each  roll,  we could  compute  the  average  by  summing the  6000 values and  dividing  by 6000.  Without knowing the  values,  we can compute  the expected  average as follows.\n",
    "\n",
    "Since there are five 3's and one six we expect roughly 5/6 of the rolls will give 3 and 1/6 will give 6. Assuming this to be exactly  true,  we have the following table  of values and counts:\n",
    "\n",
    "|Value | Expected Value|\n",
    "|:---|:----|\n",
    "| 3 | 5000|\n",
    "|6| 1000|\n",
    "\n",
    "The average of these 6000  values is then\n",
    "\n",
    "$$\n",
    "\\frac{5000 \\cdot 3+1000 \\cdot 6}{6000}=\\frac{5}{6} \\cdot 3+\\frac{1}{6} \\cdot 6=3.5\n",
    "$$\n",
    "\n",
    "We consider this the expected average in the sense that we 'expect' each of the possible\n",
    "values to occur with the given frequencies. \n",
    "\n",
    "\\begin{exercise}\n",
    "We roll two standard 6-sided dice. You win $1000 \\euro$ if the sum is 2 and lose\n",
    "$100 \\euro$ otherwise. How much do you expect to win on average per trial?\n",
    "Would you be willing to play this game one time? Multiple times?\n",
    "\\end{exercise}\n",
    "\n",
    "\\begin{remark}\n",
    "Notice that in both examples the sum for the expected average consists of terms which are\n",
    "a value of the random variable times its probability. \n",
    "\\end{remark}\n",
    "\n",
    "\n",
    "\n",
    "This leads to the following definition.\n",
    "\n",
    "\\begin{definition}\n",
    "Suppose $X$ is a discrete random variable that takes values $x_{1}, x_{2}, \\ldots, x_{n}$ with probabilities $p\\left(x_{1}\\right), p\\left(x_{2}\\right), \\ldots, p\\left(x_{n}\\right) .$ The expected value of $X$ is denoted $E(X)$ and defined by \n",
    "\n",
    "$$\n",
    "E(X)=\\sum_{j=1}^{n} p\\left(x_{j}\\right) x_{j}=p\\left(x_{1}\\right) x_{1}+p\\left(x_{2}\\right) x_{2}+\\ldots+p\\left(x_{n}\\right) x_{n}\n",
    "$$\n",
    "\\end{definition}\n",
    "\n",
    "Notes:\n",
    "\n",
    "1. The expected value is also called the mean or average of $X$ and often denoted by $\\mu$ (\"mu\").\n",
    "\n",
    "2. As seen in the above examples, the expected value need not be a possible value of the random variable. Rather it is a weighted average of the possible values.\n",
    "\n",
    "3. Expected value is a summary statistic, providing a measure of the location or central tendency of a random variable.\n",
    "\n",
    "4. If all the values are equally probable then the expected value is just the usual average of the values.\n",
    "\n",
    "\\begin{exercise}\n",
    "Let $X$ be a Bernoulli $(p)$ random variable. Find $E(X)$.\n",
    "\\end{exercise}\n",
    "\n"
   ]
  },
  {
   "cell_type": "markdown",
   "metadata": {},
   "source": [
    "## Mean and center or mass \n",
    "\n",
    "You may have wondered why we use the name **probability mass function**. Here's the reason: if we place an object of mass $p\\left(x_{j}\\right)$ at position $x_{j}$ for each $j,$ then $E(X)$ is the position of the center of mass. Let's recall the latter notion via an example.\n",
    "\n",
    "\\begin{example}\n",
    "Suppose we have two masses along the $x$ -axis, mass $m_{1}=500$ at position $x_{1}=3$ and mass $m_{2}=100$ at position $x_{2}=6 .$ Where is the center of mass?\n",
    "\\end{example}\n",
    "\n",
    "**answer**: From physics we know the center of mass is\n",
    "$$\n",
    "\\bar{x}=\\frac{m_{1} x_{1}+m_{2} x_{2}}{m_{1}+m_{2}}=\\frac{500 \\cdot 3+100 \\cdot 6}{600}=3.5\n",
    "$$\n",
    "We call this formula a 'weighted' average of the $x_{1}$ and $x_{2}$. Here $x_{1}$ is weighted more heavily because it has more mass.\n",
    "\n",
    "Now look at the definition of expected value $E(X) .$ It is a weighted average of the values of $X$ with the weights being probabilities $p\\left(x_{i}\\right)$ rather than masses! We might say that \"The expected value is the point at which the distribution would balance\". Note the similarity between the physics example and Example 1 ."
   ]
  },
  {
   "cell_type": "markdown",
   "metadata": {},
   "source": [
    "## Algebraic properties of $E(X)$.\n",
    "\n",
    "When we add, scale or shift random variables the expected values do the same. The shorthand mathematical way of saying this is that $E(X)$ is linear.\n",
    "\n",
    "1. If $X$ and $Y$ are random variables on a sample space $\\Omega$ then\n",
    "$$\n",
    "E(X+Y)=E(X)+E(Y)\n",
    "$$\n",
    "\n",
    "2. If $a$ and $b$ are constants then\n",
    "$$\n",
    "E(a X+b)=a E(X)+b\n",
    "$$\n",
    "\n",
    "We will think of $a X+b$ as scaling $X$ by $a$ and shifting it by $b$.\n",
    "\n",
    "\\begin{exercise}\n",
    "Let $X \\sim \\operatorname{binomial}(n, p) .$ Find $E(X)$\n",
    "\\end{exercise}\n",
    "\n",
    "**solution** Recall that $X$ models the number of successes in $n$ $\\operatorname{Bernoulli}(p)$ random variables, which we'll call $X_{1}, \\ldots X_{n} .$ The key fact, which we observed, is that\n",
    "$$\n",
    "X=\\sum_{j=1}^{n} X_{j}\n",
    "$$\n",
    "\n",
    "Now we can use the Algebraic Property (1) to make the calculation simple.\n",
    "$$\n",
    "X=\\sum_{j=1}^{n} X_{j} \\Rightarrow E(X)=\\sum_{j} E\\left(X_{j}\\right)=\\sum_{j} p=np\n",
    "$$\n",
    "\n",
    "\\begin{remark}\n",
    "For infinite random variables the mean does not always exist.\n",
    "\\end{remark}\n",
    "\n",
    "\\begin{example}\n",
    "Suppose $X$ has an infinite number of values according to the following table \n",
    "\n",
    "\\begin{array}{ccccccc}\n",
    "\\text { values } x: & 2 & 2^{2} & 2^{3} & \\ldots & 2^{k} & \\ldots \\\\\n",
    "\\operatorname{pmf} p(x): & 1 / 2 & 1 / 2^{2} & 1 / 2^{3} & \\ldots & 1 / 2^{k} & \\ldots\n",
    "\\end{array}\n",
    "\n",
    "Try to compute the mean. \n",
    "\n",
    "**answer**: The mean is\n",
    "$$\n",
    "E(X)=\\sum_{k=1}^{\\infty} 2^{k} \\frac{1}{2^{k}}=\\sum_{k=1}^{\\infty} 1=\\infty\n",
    "$$\n",
    "The mean does not exist! This can happen with infinite series.\n",
    "\\end{example}\n",
    "\n",
    "\\begin{exercise}\n",
    "Compute the mean of a geometric distribution. \n",
    "Let $X \\sim \\operatorname{geo}(p) .$ Recall this means $X$ takes values $k=0,1,2, \\ldots$ with probabilities $p(k)=(1-p)^{k} p .(X$ models the number of tails before the first heads in a sequence of Bernoulli trials. The mean is given by\n",
    "$$\n",
    "E(X)=\\frac{1-p}{p}\n",
    "$$\n",
    "\\end{exercise}\n",
    "\n",
    "**solution** \n",
    "\n",
    "We know the sum of the geometric series: $\\sum_{k=0}^{\\infty} x^{k}=\\frac{1}{1-x}$. \n",
    "\n",
    "Differentiate both sides: $\\sum_{k=0}^{\\infty} k x^{k-1}=\\frac{1}{(1-x)^{2}}$\n",
    "\n",
    "Multiply by $x: \\quad \\sum_{k=0}^{\\infty} k x^{k}=\\frac{x}{(1-x)^{2}}$\n",
    "Replace $x$ by $1-p: \\quad \\sum_{k=0}^{\\infty} k(1-p)^{k}=\\frac{1-p}{p^{2}}$\n",
    "\n",
    "Multiply by $p: \\quad \\sum_{k=0}^{\\infty} k(1-p)^{k} p=\\frac{1-p}{p}$\n",
    "\n",
    "This last expression is the mean.\n",
    "$$\n",
    "E(X)=\\frac{1-p}{p}\n",
    "$$"
   ]
  },
  {
   "cell_type": "markdown",
   "metadata": {},
   "source": [
    "\\begin{exercise}\n",
    "Flip a fair coin until you get heads for the first time. What is the expected\n",
    "number of times you flipped tails?\n",
    "\\end{exercise}\n",
    "\n",
    "\n",
    "Remember that the **geometric distribution** represents the number of failures before you get a success in a series of Bernoulli trials. This\n",
    "discrete probability distribution is represented by the probability density function:\n",
    "$f(x)=(1-p)^{x-1} p$\n",
    "\n",
    "A **Bernoulli trial** is one of the simplest experiments you can conduct in probability and statistics. It's an experiment where you can have one of two possible outcomes. For example, 'Yes' and 'No' or 'Heads' and 'Tails.' A few more examples:\n",
    "\n",
    "- Coin tosses: record how many coins land heads up and how many land tails up.\n",
    "\n",
    "- Births: how many boys are born and how many girls are born each day.\n",
    "\n",
    "- Rolling Dice: the probability of a roll of two die resulting in a double six.\n",
    "\n"
   ]
  },
  {
   "cell_type": "markdown",
   "metadata": {},
   "source": [
    "## Expected values of functions of a random variable\n",
    "\n",
    "If $X$ is a discrete random variable taking values $x_{1}, x_{2}, \\ldots$ and $h$ is a function the $h(X)$ is a new random variable. Its expected value is\n",
    "$$\n",
    "E(h(X))=\\sum_{j} h\\left(x_{j}\\right) p\\left(x_{j}\\right)\n",
    "$$"
   ]
  },
  {
   "cell_type": "markdown",
   "metadata": {},
   "source": [
    "\\begin{example}\n",
    "Let $X$ be the value of a roll of one die and let $Y=X^{2} .$ Find $E(Y)$ \n",
    "\\end{example}\n",
    "\n",
    "answer: since there are a small number of values we can make a table. $\\begin{array}{ccccccc}X & 1 & 2 & 3 & 4 & 5 & 6 \\\\ Y & 1 & 4 & 9 & 16 & 25 & 36 \\\\ \\text { prob } & 1 / 6 & 1 / 6 & 1 / 6 & 1 / 6 & 1 / 6 & 1 / 6\\end{array}$\n",
    "\n",
    "Notice the probability for each $Y$ value is the same as that of the corresponding $X$ value. So,\n",
    "$$\n",
    "E(Y)=E\\left(X^{2}\\right)=1^{2} \\cdot \\frac{1}{6}+2^{2} \\cdot \\frac{1}{6}+\\ldots+6^{2} \\cdot \\frac{1}{6}=15.167\n",
    "$$"
   ]
  },
  {
   "cell_type": "markdown",
   "metadata": {},
   "source": [
    "\\begin{example}\n",
    "Roll two dice and let $X$ be the sum. Suppose the payoff function is given by $Y=X^{2}-6 X+1 .$ Is this a good bet?\n",
    "\\end{example}\n",
    "\n",
    "**answer**: We have $E(Y)=\\sum_{j=2}^{12}\\left(j^{2}-6 j+1\\right) p(j),$ where $p(j)=P(X=j)$\n",
    "\n"
   ]
  },
  {
   "cell_type": "code",
   "execution_count": 5,
   "metadata": {},
   "outputs": [
    {
     "data": {
      "text/html": [
       "13.8333333333333"
      ],
      "text/latex": [
       "13.8333333333333"
      ],
      "text/markdown": [
       "13.8333333333333"
      ],
      "text/plain": [
       "[1] 13.83333"
      ]
     },
     "metadata": {},
     "output_type": "display_data"
    }
   ],
   "source": [
    "x = 2:12\n",
    "y = x^2 - 6*x + 1\n",
    "p = c(1, 2, 3, 4, 5, 6, 5, 4, 3, 2, 1)/36\n",
    "ave = sum(p*y) \n",
    "ave"
   ]
  },
  {
   "cell_type": "markdown",
   "metadata": {},
   "source": [
    "To answer the question above: since the expected payoff is positive it looks like a bet worth\n",
    "taking. \n",
    "\n",
    "\\begin{exercise}\n",
    "If $Y=h(X)$ does $E(Y)=h(E(X)) ?$ Is it true in the previous example?\n",
    "\n",
    "\\end{exercise}\n",
    "\n",
    "\\begin{exercise}\n",
    "If $Y=3 X+77$ does $E(Y)=3 E(X)+77 ?$\n",
    "\\end{exercise}\n",
    "\n"
   ]
  },
  {
   "cell_type": "markdown",
   "metadata": {},
   "source": [
    "## R examples for calculating expected values of discrete random variables\n",
    "The library we'll use in this package is `discreteRV` for discrete random variable."
   ]
  },
  {
   "cell_type": "code",
   "execution_count": 7,
   "metadata": {},
   "outputs": [
    {
     "name": "stderr",
     "output_type": "stream",
     "text": [
      "Installing package into 'C:/Users/IliasAlexis/Documents/R/win-library/4.0'\n",
      "(as 'lib' is unspecified)\n",
      "\n",
      "also installing the dependency 'plyr'\n",
      "\n",
      "\n"
     ]
    },
    {
     "name": "stdout",
     "output_type": "stream",
     "text": [
      "package 'plyr' successfully unpacked and MD5 sums checked\n",
      "package 'discreteRV' successfully unpacked and MD5 sums checked\n",
      "\n",
      "The downloaded binary packages are in\n",
      "\tC:\\Users\\IliasAlexis\\AppData\\Local\\Temp\\RtmpWg0tuH\\downloaded_packages\n"
     ]
    }
   ],
   "source": [
    "install.packages(\"discreteRV\")"
   ]
  },
  {
   "cell_type": "code",
   "execution_count": 9,
   "metadata": {},
   "outputs": [
    {
     "name": "stderr",
     "output_type": "stream",
     "text": [
      "\n",
      "Attaching package: 'discreteRV'\n",
      "\n",
      "\n",
      "The following object is masked from 'package:base':\n",
      "\n",
      "    %in%\n",
      "\n",
      "\n"
     ]
    },
    {
     "data": {
      "text/plain": [
       "Random variable with 6 outcomes\n",
       "\n",
       "Outcomes   1   2   3   4   5   6\n",
       "Probs    1/6 1/6 1/6 1/6 1/6 1/6"
      ]
     },
     "metadata": {},
     "output_type": "display_data"
    },
    {
     "data": {
      "text/html": [
       "<style>\n",
       ".dl-inline {width: auto; margin:0; padding: 0}\n",
       ".dl-inline>dt, .dl-inline>dd {float: none; width: auto; display: inline-block}\n",
       ".dl-inline>dt::after {content: \":\\0020\"; padding-right: .5ex}\n",
       ".dl-inline>dt:not(:first-of-type) {padding-left: .5ex}\n",
       "</style><dl class=dl-inline><dt>1</dt><dd>0.166666666666667</dd><dt>2</dt><dd>0.166666666666667</dd><dt>3</dt><dd>0.166666666666667</dd><dt>4</dt><dd>0.166666666666667</dd><dt>5</dt><dd>0.166666666666667</dd><dt>6</dt><dd>0.166666666666667</dd></dl>\n"
      ],
      "text/latex": [
       "\\begin{description*}\n",
       "\\item[1] 0.166666666666667\n",
       "\\item[2] 0.166666666666667\n",
       "\\item[3] 0.166666666666667\n",
       "\\item[4] 0.166666666666667\n",
       "\\item[5] 0.166666666666667\n",
       "\\item[6] 0.166666666666667\n",
       "\\end{description*}\n"
      ],
      "text/markdown": [
       "1\n",
       ":   0.1666666666666672\n",
       ":   0.1666666666666673\n",
       ":   0.1666666666666674\n",
       ":   0.1666666666666675\n",
       ":   0.1666666666666676\n",
       ":   0.166666666666667\n",
       "\n"
      ],
      "text/plain": [
       "        1         2         3         4         5         6 \n",
       "0.1666667 0.1666667 0.1666667 0.1666667 0.1666667 0.1666667 "
      ]
     },
     "metadata": {},
     "output_type": "display_data"
    },
    {
     "data": {
      "image/png": "[encoded data removed]",
      "text/plain": [
       "plot without title"
      ]
     },
     "metadata": {
      "image/png": {
       "height": 420,
       "width": 420
      }
     },
     "output_type": "display_data"
    }
   ],
   "source": [
    "library(discreteRV)\n",
    "X <- RV(outcomes = 1:6, probs = 1/6)\n",
    "X\n",
    "probs(X)\n",
    "plot(X)"
   ]
  },
  {
   "cell_type": "code",
   "execution_count": 10,
   "metadata": {},
   "outputs": [
    {
     "data": {
      "text/html": [
       "3.5"
      ],
      "text/latex": [
       "3.5"
      ],
      "text/markdown": [
       "3.5"
      ],
      "text/plain": [
       "[1] 3.5"
      ]
     },
     "metadata": {},
     "output_type": "display_data"
    }
   ],
   "source": [
    "# expected value of X\n",
    "sum(probs(X)*outcomes(X))"
   ]
  },
  {
   "cell_type": "code",
   "execution_count": 11,
   "metadata": {},
   "outputs": [
    {
     "data": {
      "text/html": [
       "3.5"
      ],
      "text/latex": [
       "3.5"
      ],
      "text/markdown": [
       "3.5"
      ],
      "text/plain": [
       "[1] 3.5"
      ]
     },
     "metadata": {},
     "output_type": "display_data"
    }
   ],
   "source": [
    "E(X)"
   ]
  },
  {
   "cell_type": "code",
   "execution_count": 12,
   "metadata": {},
   "outputs": [
    {
     "data": {
      "text/html": [
       "2.91666666666667"
      ],
      "text/latex": [
       "2.91666666666667"
      ],
      "text/markdown": [
       "2.91666666666667"
      ],
      "text/plain": [
       "[1] 2.916667"
      ]
     },
     "metadata": {},
     "output_type": "display_data"
    },
    {
     "data": {
      "text/html": [
       "1.70782512765993"
      ],
      "text/latex": [
       "1.70782512765993"
      ],
      "text/markdown": [
       "1.70782512765993"
      ],
      "text/plain": [
       "[1] 1.707825"
      ]
     },
     "metadata": {},
     "output_type": "display_data"
    }
   ],
   "source": [
    "# variance and standard deviation of X\n",
    "V(X)\n",
    "\n",
    "SD(X)"
   ]
  },
  {
   "cell_type": "markdown",
   "metadata": {},
   "source": [
    "#Basketball\n",
    "\n",
    "Lets assume that on any given possession the XYZ's basketball team has a 50% chance of not scoring, a 10% chance of scoring 1 point, a 30% chance of scoring 2 points and a 10% chance of scoring 3 points. We can summarize this information as a random variable:"
   ]
  },
  {
   "cell_type": "code",
   "execution_count": 13,
   "metadata": {},
   "outputs": [
    {
     "data": {
      "text/html": [
       "1"
      ],
      "text/latex": [
       "1"
      ],
      "text/markdown": [
       "1"
      ],
      "text/plain": [
       "[1] 1"
      ]
     },
     "metadata": {},
     "output_type": "display_data"
    },
    {
     "data": {
      "image/png": "[encoded data removed]",
      "text/plain": [
       "plot without title"
      ]
     },
     "metadata": {
      "image/png": {
       "height": 420,
       "width": 420
      }
     },
     "output_type": "display_data"
    }
   ],
   "source": [
    "possesion <- RV(outcomes = 0:3, probs = c(0.5, 0.1, 0.3, 0.1))\n",
    "E(possesion)\n",
    "plot(possesion)"
   ]
  },
  {
   "cell_type": "code",
   "execution_count": 17,
   "metadata": {},
   "outputs": [
    {
     "name": "stdout",
     "output_type": "stream",
     "text": [
      "================================================================================\n"
     ]
    },
    {
     "data": {
      "text/html": [
       "99.9999938159856"
      ],
      "text/latex": [
       "99.9999938159856"
      ],
      "text/markdown": [
       "99.9999938159856"
      ],
      "text/plain": [
       "[1] 99.99999"
      ]
     },
     "metadata": {},
     "output_type": "display_data"
    },
    {
     "data": {
      "text/html": [
       "10.9544424861572"
      ],
      "text/latex": [
       "10.9544424861572"
      ],
      "text/markdown": [
       "10.9544424861572"
      ],
      "text/plain": [
       "[1] 10.95444"
      ]
     },
     "metadata": {},
     "output_type": "display_data"
    },
    {
     "data": {
      "image/png": "[encoded data removed]",
      "text/plain": [
       "plot without title"
      ]
     },
     "metadata": {
      "image/png": {
       "height": 420,
       "width": 420
      }
     },
     "output_type": "display_data"
    }
   ],
   "source": [
    "game <- SofIID(possesion, n=100)\n",
    "mu=E(game); sd = SD(game)\n",
    "mu;sd\n",
    "plot(game)"
   ]
  },
  {
   "cell_type": "code",
   "execution_count": 19,
   "metadata": {},
   "outputs": [
    {
     "data": {
      "text/html": [
       "0.180654875910595"
      ],
      "text/latex": [
       "0.180654875910595"
      ],
      "text/markdown": [
       "0.180654875910595"
      ],
      "text/plain": [
       "[1] 0.1806549"
      ]
     },
     "metadata": {},
     "output_type": "display_data"
    }
   ],
   "source": [
    "1-pnorm(110,mu,sd)"
   ]
  },
  {
   "cell_type": "code",
   "execution_count": null,
   "metadata": {},
   "outputs": [],
   "source": []
  }
 ],
 "metadata": {
  "kernelspec": {
   "display_name": "R 4.0.2",
   "language": "R",
   "name": "ir40"
  },
  "language_info": {
   "codemirror_mode": "r",
   "file_extension": ".r",
   "mimetype": "text/x-r-source",
   "name": "R",
   "pygments_lexer": "r",
   "version": "4.0.2"
  },
  "latex_envs": {
   "LaTeX_envs_menu_present": true,
   "autoclose": false,
   "autocomplete": true,
   "bibliofile": "biblio.bib",
   "cite_by": "apalike",
   "current_citInitial": 1,
   "eqLabelWithNumbers": true,
   "eqNumInitial": 1,
   "hotkeys": {
    "equation": "Ctrl-E",
    "itemize": "Ctrl-I"
   },
   "labels_anchors": false,
   "latex_user_defs": false,
   "report_style_numbering": false,
   "user_envs_cfg": false
  },
  "nbTranslate": {
   "displayLangs": [
    "*"
   ],
   "hotkey": "alt-t",
   "langInMainMenu": true,
   "sourceLang": "en",
   "targetLang": "fr",
   "useGoogleTranslate": true
  },
  "toc": {
   "base_numbering": 1,
   "nav_menu": {},
   "number_sections": true,
   "sideBar": true,
   "skip_h1_title": false,
   "title_cell": "Table of Contents",
   "title_sidebar": "Contents",
   "toc_cell": false,
   "toc_position": {},
   "toc_section_display": true,
   "toc_window_display": false
  },
  "varInspector": {
   "cols": {
    "lenName": 16,
    "lenType": 16,
    "lenVar": 40
   },
   "kernels_config": {
    "python": {
     "delete_cmd_postfix": "",
     "delete_cmd_prefix": "del ",
     "library": "var_list.py",
     "varRefreshCmd": "print(var_dic_list())"
    },
    "r": {
     "delete_cmd_postfix": ") ",
     "delete_cmd_prefix": "rm(",
     "library": "var_list.r",
     "varRefreshCmd": "cat(var_dic_list()) "
    }
   },
   "types_to_exclude": [
    "module",
    "function",
    "builtin_function_or_method",
    "instance",
    "_Feature"
   ],
   "window_display": false
  }
 },
 "nbformat": 4,
 "nbformat_minor": 4
}
