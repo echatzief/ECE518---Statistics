{
 "cells": [
  {
   "cell_type": "markdown",
   "metadata": {},
   "source": [
    "# Discrete Random Variables \n",
    "\n",
    "\n",
    "## Learning Goals\n",
    "\n",
    "\n",
    "1.  Know the definition  of a discrete  random  variable.\n",
    "\n",
    "2.  Know the  Bernoulli,  binomial,  and  geometric  distributions and  examples  of what  they model.\n",
    "\n",
    "3.  Be able to describe  the  probability mass function  and  cumulative distribution function using tables  and formulas.\n",
    "\n",
    "4.  Be able to construct new random  variables  from old ones.\n",
    "\n",
    "5.  Know how to compute  expected  value (mean).\n",
    "\n",
    "\n",
    "##    Random Variables\n",
    "\n",
    "\n",
    "This quiz is largely about  testing your knowledge for some useful terminology,  building  on the notions  of sample space and probability function.  The key words are\n",
    "\n",
    "1.  Random  variable\n",
    "\n",
    "2.  Probability mass function  (pmf)\n",
    "\n",
    "3.  Cumulative distribution function  (cdf)\n",
    "\n",
    "\n",
    "### Recall\n",
    "\n",
    "A discrete sample space $\\Omega$ is a finite or listable set of outcomes $\\left\\{\\omega_{1}, \\omega_{2} \\ldots\\right\\}$. The probability of an outcome $\\omega$ is denoted $P(\\omega)$. An event $E$ is a subset of $\\Omega .$ The probability of an event $E$ is $P(E)=\\sum_{\\omega \\in E} P(\\omega) .$\n",
    "\n",
    "\n",
    "\n",
    "\n",
    "### Random variables as  payoff functions\n",
    "\n",
    "\\begin{exercise}\n",
    "\n",
    "Roll a die twice and record the outcomes  as (i, j), where i is the result  of the first roll and\n",
    "j the result  of the second. \n",
    "\n",
    "a) What is the sample space?\n",
    "\n",
    "b) What is the probability function $P(i,j)$?\n",
    "\n",
    "In this  game,  you win 500 if the  sum is 7 and  lose 100 otherwise.   We give this  payoff function  the name X  and describe it formally by \n",
    "\n",
    "$$\n",
    "X(i, j)=\\left\\{\\begin{array}{ll}\n",
    "500 & \\text { if } i+j=7 \\\\\n",
    "-100 & \\text { if } i+j \\neq 7\n",
    "\\end{array}\\right.\n",
    "$$\n",
    "\n",
    "If we change the game by using the payoff function \n",
    "\n",
    "$$\n",
    "Y(i, j)=i j-10\n",
    "$$\n",
    "\n",
    "c) which game is better?\n",
    "\n",
    "\\end{exercise}\n",
    "\n",
    "\n",
    "These  payoff  functions  are  examples  of random  variables.  <font color='blue'> A random  variable  assigns  a number  to each outcome  in a sample space </font>.  More formally:\n",
    "\n",
    "\\begin{definition}\n",
    "Let $\\Omega$ be a sample space. A discrete random variable is a function\n",
    "$$\n",
    "X: \\Omega \\rightarrow \\mathbf{R}\n",
    "$$\n",
    "that takes a discrete set of values. (Recall that $\\mathbf{R}$ stands for the real numbers.)\n",
    "\\end{definition}\n",
    "\n",
    "\n",
    "Why is X  called a random  variable?  It's `random` because its value depends  on a random outcome  of an experiment.  And we treat X  like we would a usual  variable:  we can add it to other  random  variables,  square it, and so on."
   ]
  },
  {
   "cell_type": "markdown",
   "metadata": {},
   "source": [
    "## Events and random variables\n",
    "\n",
    "For  any  value  $a$  we write  <font color='blue'> $X  = a$ </font> to  mean  the  <font color='blue'>event</font>  consisting  of all  outcomes $\\omega$  with $X(\\omega) = a$.\n",
    "\n",
    "\\begin{exercise}\n",
    "In the previous exercise we rolled two dice and defined the payoff function X (which is a random variable)\n",
    "\n",
    "a) What is the event <font color='blue'>$X = 500$</font>?\n",
    "\n",
    "b) what is the $P(X = 500)$?\n",
    "\n",
    "c) What is the event $X = 1000$ and its probability $P(X = 1000)$?\n",
    "\n",
    "\\end{exercise}\n",
    "\n",
    "\n",
    "\n",
    "\n",
    "## Probability mass function and cumulative distribution function\n",
    "\n",
    "\n",
    "\\begin{definition}\n",
    "\n",
    "The <font color='blue'>probability mass function (pmf)</font> of a discrete random variable is the function $p(a)=P(X=a)$\n",
    "Note:\n",
    "\n",
    "1. We always have $0 \\leq p(a) \\leq 1$.\n",
    "\n",
    "2. We allow $a$ to be any number. If $a$ is a value that $X$ never takes, then $p(a)=0$.\n",
    "\n",
    "\\end{definition}\n",
    "\n",
    "\n",
    "\\begin{exercise}\n",
    "Let  $\\Omega$ be our  earlier  sample  space  for rolling  2 dice.   Define  the  random variable  $M$  to be the maximum  value of the two dice:\n",
    "\n",
    "$$M(i, j) = max(i, j)$$.\n",
    "\n",
    "For example,  the roll (3,5) has maximum  5, i.e. M(3, 5) = 5.\n",
    "\n",
    "a) What are the values of $p(a)$ for $a = 1, 2, 3, 4, 5, 6$\n",
    "\n",
    "b) What  is $p(8)$?\n",
    "\n",
    "\\end{exercise}\n",
    "\n",
    "\n",
    "\n",
    "## Events and inequalities\n",
    "\n",
    "Inequalities  with  random  variables  describe  events.   For  example  $X  \\le a$ is the  set  of all outcomes  $\\omega$ such that $X(\\omega) \\le a$.\n",
    "\n",
    "\\begin{exercise}\n",
    "If our sample space is the set of all pairs of $(i, j)$ coming from rolling two dice and $Z(i, j) = i + j$ is the sum of the dice then \n",
    "\n",
    "What is the set $Z \\le 4$?\n",
    "\\end{exercise}\n",
    "\n",
    "\n",
    "\n",
    "## The cumulative distribution function (cdf)\n",
    "\n",
    "\\begin{definition}\n",
    "The  <font color='blue'>cumulative distribution  function  (cdf)</font>  of a  random  variable  $X$  is the function  $F$  given by $F(a) = P (X \\le a)$.  We will often shorten  this to <font color='blue'>distribution function</font>.\n",
    "\n",
    "Note  that the  definition  of $F(a)$  uses the symbol  less than  <font color='orange'>or  equal</font>.   This  will be important for getting your calculations  exactly  right.\n",
    "\\end{definition}\n",
    "\n",
    "\n",
    "\\begin{example}\n",
    "Continuing with the previously defined random variable  M, we have\n",
    "\n",
    "\\begin{array}{rlcccccc}\n",
    "\\text { value } & a: & 1 & 1 & 3 & 4 & 5 & 6 \\\\\n",
    "\\text { pmf } & p(a): & 1 / 36 & 3 / 36 & 5 / 36 & 7 / 36 & 9 / 36 & 11 / 36 \\\\\n",
    "\\text { cdf } & F(a): & 1 / 36 & 4 / 36 & 9 / 36 & 16 / 36 & 25 / 36 & 36 / 36\n",
    "\\end{array}\n",
    "\n",
    "\\end{example}\n",
    "\n",
    "\n",
    "$F(a)$ is called the **cumulative** distribution function  because $F(a)$ gives the total  probability that accumulates by adding up the probabilities $p(b)$ as $b$ runs from $−infty$ to $a$.  For example, in the table  above, the entry  $16/36$ in column 4 for the cdf is the sum of the values of the pmf from column 1 to column 4. In notation:\n",
    "\n",
    "As events: $M \\leq 4 =\\{1,2,3,4\\}$ ; $F(4)=P(M \\leq 4)=1/36+3/36+5/36+7/36=16 / 36$\n",
    "\n",
    "Just  like the  probability mass  function,  $F(a)$  is defined  for all  values  a.   In  the  above example,  $F(8)=1, F(-2)=0, F(2.5)=4/36,$ and $F(\\pi)=9/36$"
   ]
  },
  {
   "cell_type": "markdown",
   "metadata": {},
   "source": [
    "## Graphs of $p(a)$  and $F(a)$\n",
    "\n",
    "We can visualize the pmf and cdf with graphs.  For example,  let $X$ be the number  of heads in 3 tosses of a fair coin:\n",
    "\n",
    "\n",
    "\\begin{aligned}\n",
    "&\\begin{array}{ccccc}\n",
    "\\text { value } a: & 0 & 1 & 2 & 3 \\\\\n",
    "\\operatorname{pmf} p(a): & 1 / 8 & 3 / 8 & 3 / 8 & 1 / 8 \\\\\n",
    "\\operatorname {cdf } F(a): & 1 / 8 & 4 / 8 & 7 / 8 & 1\n",
    "\\end{array}\n",
    "\\end{aligned}\n",
    "\n",
    "\n",
    "The colored graphs show how the cumulative distribution function is built by accumulating\n",
    "probability as a increases.  The black and white graphs are the more standard presentations.\n",
    "\n",
    "![graphs](pmf_pcf.png)"
   ]
  },
  {
   "cell_type": "markdown",
   "metadata": {},
   "source": [
    "\\begin{exercise}\n",
    "Plot the pmf and cdf for the maximum of two  dice exercise.\n",
    "\\end{exercise}\n",
    "\n"
   ]
  },
  {
   "cell_type": "markdown",
   "metadata": {},
   "source": [
    "##  Properties of the cdf $F$ \n",
    "\n",
    "The cdf $F$  of a random  variable  satisfies several properties:\n",
    "\n",
    "1.  $F$  is **non-decreasing**.  That is, its graph never goes down, or symbolically if $a \\le b$ then $F(a) \\le F(b)$.\n",
    "\n",
    "2.  $0 \\le F(a) \\le 1$.\n",
    "\n",
    "3.  $\\lim _{a \\rightarrow \\infty} F(a)=1, \\quad \\lim _{a \\rightarrow-\\infty} F(a)=0$\n",
    "\n",
    "In  words,  (1)  says  the  cumulative probability  $F(a)$  increases  or  remains  constant  as  $a$ increases,  but never  decreases;  (2)  says the  accumulated probability is always  between  0 and 1; (3) says that as a gets very large, it becomes more and more certain  that $X \\le a$ and as a gets very negative  it becomes more and more certain  that $X > a$.\n",
    "\n",
    "\\begin{exercise}\n",
    "Why does a cdf satisfy each of these properties?\n",
    "\\end{exercise}"
   ]
  },
  {
   "cell_type": "markdown",
   "metadata": {},
   "source": [
    "## Specific Distributions\n",
    "\n",
    "\n",
    "### Bernoulli Distributions\n",
    "\n",
    "**Model**:  The  Bernoulli  distribution models one trial  in an  experiment that can  result  in either  **success** or **failure**  This  is the  most  important distribution and it is also the  simplest.   A random  variable  $X$  has a Bernoulli distribution with parameter $p$ if: \n",
    "\n",
    "\n",
    "1.  $X$  takes  the values 0 and 1.\n",
    "\n",
    "2. $P(X=1)=p$ and $P(X=0)=1-p$.\n",
    "\n",
    "We will write $X \\sim$ Bernoulli $(p)$ or $\\operatorname{Ber}(p)$, which is read **“X  follows a Bernoulli distribution with parameter p”** or **“X  is drawn  from a Bernoulli  distribution with parameter p”**.\n",
    "\n",
    "A simple model for the  Bernoulli  distribution is to flip a coin with  probability $p$ of heads, with  $X  = 1$ on heads  and  $X  = 0$ on tails.   The  general  terminology  is to  say $X$  is 1 on success and 0 on failure, with success and failure defined by the context.\n",
    "\n",
    "Many decisions can be modeled as a binary  choice, such as votes for or against  a proposal. If $p$ is the proportion of the voting population that favors the proposal,  than  the vote of a random  individual  is modeled by a _Bernoulli(p)_.\n",
    "\n",
    "Here are the  table  and  graphs  of the  pmf and  cdf for the  Bernoulli(1/2) distribution and below that for the general Bernoulli(p)  distribution.\n",
    "\n",
    "![bernoulli](bernouli_fun.png)"
   ]
  },
  {
   "cell_type": "code",
   "execution_count": null,
   "metadata": {},
   "outputs": [],
   "source": []
  },
  {
   "cell_type": "markdown",
   "metadata": {},
   "source": [
    "## Binomial Distributions\n",
    "\n",
    "The binomial  distribution $Binomial(n,p)$, or $Bin(n,p)$, models the number  of successes in n **independent Bernoulli(p)  trials**.\n",
    "\n",
    "A single Bernoulli  trial  is, say,  one toss  of a coin.   A single binomial  trial  consists of n Bernoulli trials.  For coin ﬂips the sample space for a Bernoulli trial  is $\\{H, T \\}$. The sample space for a binomial  trial  is all **sequences** of heads and tails of length n.  Likewise a Bernoulli random  variable takes values 0 and 1 and a binomial random variables  takes  values $0, 1, 2, \\dots , n$.\n",
    "\n",
    "\\begin{remark}\n",
    "Binomial(1,p)  is the same as Bernoulli(p). \n",
    "\n",
    "\\end{remark}\n",
    "\n",
    "\\begin{example}\n",
    "\n",
    "The number  of heads in n flips of a coin with probability $p$ of heads follows a **Binomial(n, p)** distribution.\n",
    "\n",
    "We describe $X \\sim \\operatorname{Binomial}(n, p)$ by giving its values and probabilities. For notation we will use $k$ to mean an arbitrary number  between  0 and n.\n",
    "\n",
    "We remind you that $n$ choose $k=\\left(\\begin{array}{l}n \\\\ k\\end{array}\\right)={ }_{n} C_{k}$ is the number of ways to choose $k$ things out of a collection of $n$ things and it has the formula\n",
    "\n",
    "$$\\left(\\begin{array}{l}n \\\\ k\\end{array}\\right)=\\frac{n !}{k!(n-k)!}$$\n",
    "\n",
    "Here is a table for the pmf of a Binomial(n,k) random variable\n",
    "\n",
    "$$\n",
    "\\begin{array}{cccccc}\n",
    "\\text { values } a: & 0 & 1 & 2 & \\cdots & k & \\cdots & n \\\\\n",
    "\\operatorname{pmf} p(a): & (1-p)^{n} & \\left(\\begin{array}{c}\n",
    "n \\\\\n",
    "1\n",
    "\\end{array}\\right) p^{1}(1-p)^{n-1} & \\left(\\begin{array}{c}\n",
    "n \\\\\n",
    "2\n",
    "\\end{array}\\right) p^{2}(1-p)^{n-2} & \\cdots & \\left(\\begin{array}{c}\n",
    "n \\\\\n",
    "k\n",
    "\\end{array}\\right) p^{k}(1-p)^{n-k} & \\cdots & p^{n} \\\\\n",
    "\\hline\n",
    "\\end{array}\n",
    "$$\n",
    "\n",
    "\\end{example}\n"
   ]
  },
  {
   "cell_type": "markdown",
   "metadata": {},
   "source": [
    "\\begin{exercise}\n",
    "What  is the pobability of 3 or more heads in 5 tosses of a fair coin?\n",
    "\\end{exercise}\n",
    "\n",
    "\n",
    "##     Explanation of the binomial probabilities\n",
    "\n",
    "For concreteness,  let $n = 5$ and $k = 2$ (the  argument for arbitrary n and k is identical.)  So $X \\sim \\operatorname{binomial}(5, p)$ and we want to compute  $p(2)$.  The long way to compute  $p(2)$ is to list all the  ways to get exactly  2 heads  in 5 coin flips and  add  up their  probabilities.  The  list has 10 entries:\n",
    "\n",
    "HHTTT, HTHTT, HTTHT, HTTTH, THHTT, THTHT, THTTH, TTHHT, TTHTH, TTTHH \n",
    "\n",
    "\n",
    "Each entry  has the same probability of occurring,  namely\n",
    "\n",
    "$$p^2(1 − p)^3$$.\n",
    "\n",
    "This is because each of the  two heads has probability $p$ and each of the  3 tails  has probability  $1 − p$.  Because  the  individual  tosses are independent,  we can multiply  probabilities. Therefore,  the  total  probability of exactly  2 heads is the  sum of 10 identical  probabilities, i.e.    $p(2)=10 p^{2}(1-p)^{3}$.\n",
    "\n",
    "This guides us to the shorter  way to do the computation. We have to count the number  of sequences with  exactly  2 heads.  To do this  we need to choose 2 of the  tosses to be heads and  the  remaining  3 to be tails.  The  number  of such sequences is the  number  of ways to \n",
    "choose 2 out  of 5 things,  that is $\\left(\\begin{array}{l}5 \\\\ 2\\end{array}\\right)$.  Since each such sequence  has the  same probability,  $p^2(1 − p)^3$, we get the probability of exactly  2 heads $p(2)=\\left(\\begin{array}{c}5 \\\\ 2\\end{array}\\right) p^{2}(1-p)^{3}$.\n",
    "\n",
    "Here are some binomial probability mass function (here, frequency is the same as probability). "
   ]
  },
  {
   "cell_type": "code",
   "execution_count": 12,
   "metadata": {},
   "outputs": [
    {
     "data": {
      "image/png": "[encoded data removed]",
      "text/plain": [
       "plot without title"
      ]
     },
     "metadata": {
      "image/png": {
       "height": 420,
       "width": 420
      }
     },
     "output_type": "display_data"
    }
   ],
   "source": [
    "#First, we have to create a vector of quantiles as input for the dbinom R function:\n",
    "\n",
    "x_dbinom <- seq(0, 10, by = 1)                       # Specify x-values for binom function\n",
    "\n",
    "#Then, we can apply the dbinom function to this vector as shown below. \n",
    "#Note that I have specified the size to be equal to 10 (i.e. the number of trials) and the \n",
    "#probability for each binomial draw to be equal to 0.5 (i.e. 50%). \n",
    "\n",
    "y_dbinom <- dbinom(x_dbinom, size = 10, prob = 0.5)  # Apply dbinom function\n",
    "\n",
    "#If we want to illustrate the output of the dbinom function in a graphic, we can use the plot function:\n",
    "\n",
    "plot(y_dbinom, xlab=\"X\", ylab = \"Frequency\")                                        # Plot dbinom values\n",
    "\n"
   ]
  },
  {
   "cell_type": "code",
   "execution_count": 13,
   "metadata": {},
   "outputs": [
    {
     "data": {
      "image/png": "[encoded data removed]",
      "text/plain": [
       "plot without title"
      ]
     },
     "metadata": {
      "image/png": {
       "height": 420,
       "width": 420
      }
     },
     "output_type": "display_data"
    }
   ],
   "source": [
    "#First, we have to create a vector of quantiles as input for the dbinom R function:\n",
    "\n",
    "x_dbinom <- seq(0, 10, by = 1)                       # Specify x-values for binom function\n",
    "\n",
    "#Then, we can apply the dbinom function to this vector as shown below. \n",
    "#Note that I have specified the size to be equal to 10 (i.e. the number of trials) and the \n",
    "#probability for each binomial draw to be equal to 0.1 \n",
    "\n",
    "y_dbinom <- dbinom(x_dbinom, size = 10, prob = 0.1)  # Apply dbinom function\n",
    "\n",
    "#If we want to illustrate the output of the dbinom function in a graphic, we can use the plot function:\n",
    "\n",
    "plot(y_dbinom,xlab=\"X\", ylab = \"Frequency\")                                        # Plot dbinom values\n"
   ]
  },
  {
   "cell_type": "code",
   "execution_count": 14,
   "metadata": {},
   "outputs": [
    {
     "data": {
      "image/png": "[encoded data removed]",
      "text/plain": [
       "plot without title"
      ]
     },
     "metadata": {
      "image/png": {
       "height": 420,
       "width": 420
      }
     },
     "output_type": "display_data"
    }
   ],
   "source": [
    "#First, we have to create a vector of quantiles as input for the dbinom R function:\n",
    "\n",
    "x_dbinom <- seq(0, 20, by = 1)  # Specify x-values for binom function \n",
    "\n",
    "y_dbinom <- dbinom(x_dbinom, size = 20, prob = 0.1)  # Apply dbinom function\n",
    "\n",
    "#If we want to illustrate the output of the dbinom function in a graphic, we can use the plot function:\n",
    "\n",
    "plot(y_dbinom,xlab=\"X\", ylab = \"Frequency\")  # Plot dbinom values\n"
   ]
  },
  {
   "cell_type": "code",
   "execution_count": 15,
   "metadata": {},
   "outputs": [
    {
     "data": {
      "image/png": "[encoded data removed]",
      "text/plain": [
       "plot without title"
      ]
     },
     "metadata": {
      "image/png": {
       "height": 420,
       "width": 420
      }
     },
     "output_type": "display_data"
    }
   ],
   "source": [
    "#First, we have to create a vector of quantiles as input for the dbinom R function:\n",
    "\n",
    "x_dbinom <- seq(0, 40, by = 1)  # Specify x-values for binom function \n",
    "\n",
    "y_dbinom <- dbinom(x_dbinom, size = 40, prob = 0.1)  # Apply dbinom function\n",
    "\n",
    "#If we want to illustrate the output of the dbinom function in a graphic, we can use the plot function:\n",
    "\n",
    "plot(y_dbinom,xlab=\"X\", ylab = \"Frequency\")                                        # Plot dbinom values\n"
   ]
  },
  {
   "cell_type": "markdown",
   "metadata": {},
   "source": [
    "## Geometric Distributions\n",
    "\n",
    "\\begin{definition}\n",
    "A **geometric  distribution** models the  number  of tails  before the  first  head  in a sequence of coin flips (Bernoulli  trials).\n",
    "\n",
    "\\end{definition}\n",
    "\n",
    "\\begin{example}\n",
    "(a) Flip a coin repeatedly. Let $X$ be the number  of tails before the first heads. So, $X$ can equal 0, i.e. the first flip is heads,  $1, 2, \\dots$. In principle,  it take  any nonnegative integer  value.\n",
    "\n",
    "(b) Give a flip of tails the value 0, and heads the value 1. In this case, $X$  is the number  of 0's before the first 1. \n",
    "\n",
    "\n",
    "(c) Give a flip of tails the value 1, and heads the value 0. In this case, $X$  is the number  of 1's before the first 0.\n",
    "\n",
    "(d) Call a flip of tails a success and heads a failure.  So, $X$ is the number  of successes before the first failure.\n",
    "\n",
    "(e) Call a flip of tails a failure and heads a success.  So, $X$  is the number  of failures before the first success.\n",
    "\n",
    "You create many  different scenarios  of this  type of distribution.  The most neutral language is the number  of tails before the first head.\n",
    "\\end{example}\n",
    "\n",
    "\\begin{definition}\n",
    "**Formal deﬁnition**. The random  variable  $X$ follows a geometric distribution with parameter $p$ if\n",
    "\n",
    "- $X$ takes the values $0,1,2,3, \\ldots$\n",
    "\n",
    "- its pmf is given by $p(k)=P(X=k)=(1-p)^{k}p$.\n",
    "\\end{definition}\n",
    "\n",
    "\n",
    "\n",
    "We denote  this by $X \\sim$ geometric $(p)$ or $\\operatorname{geo}(p)$.  In table  form we have:\n",
    "\n",
    "\n",
    "\\begin{array}{|c|c|c|c|c|c|c|c|c|}\n",
    "\\hline \\text { value } & a: & 0 & 1 & 2 & 3 & \\ldots & k & \\ldots \\\\\n",
    "\\hline \\mathrm{pmf} & p(a): & p & (1-p) p & (1-p)^{2} p & (1-p)^{3} p & \\ldots & (1-p)^{k} p & \\ldots \\\\\n",
    "\\hline\n",
    "\\end{array}\n",
    "\n",
    "**Table**:  $X \\sim$ geometric $(p)$:  X = the number  of 0s before the first 1. \n",
    "\n",
    "\n",
    "The  geometric  distribution is an example  of a discrete  distribution that takes  an infinite number  of possible  values.   Things  can  get  confusing  when  we work  with  successes and failure since we might want to model the number  of successes before the first failure or we might want the number  of failures before the first success.  To keep straight things straight you can translate to the neutral language  of the number  of tails before the first heads.\n",
    "\n",
    "\n",
    "\\begin{example}\n",
    "pmf and cdf  for  the geometric(1/3) distribution\n",
    "\\end{example}\n"
   ]
  },
  {
   "cell_type": "code",
   "execution_count": 22,
   "metadata": {
    "run_control": {
     "marked": true
    }
   },
   "outputs": [
    {
     "data": {
      "image/png": "[encoded data removed]",
      "text/plain": [
       "plot without title"
      ]
     },
     "metadata": {
      "image/png": {
       "height": 420,
       "width": 420
      }
     },
     "output_type": "display_data"
    }
   ],
   "source": [
    "#illustrate the density of the geometric distribution in a plot.\n",
    "# Specify x-values for dgeom function \n",
    "x_pgeom <- seq(2, 10, by = 1)     \n",
    "  \n",
    "# Apply dgeom function  \n",
    "y_pgeom <- pgeom(x_pgeom, prob = 1/3)     \n",
    "  \n",
    "# Plot dgeom values  \n",
    "plot(y_pgeom)  \n"
   ]
  },
  {
   "cell_type": "code",
   "execution_count": 23,
   "metadata": {},
   "outputs": [
    {
     "data": {
      "image/png": "[encoded data removed]",
      "text/plain": [
       "plot without title"
      ]
     },
     "metadata": {
      "image/png": {
       "height": 420,
       "width": 420
      }
     },
     "output_type": "display_data"
    }
   ],
   "source": [
    "# shows how to draw a plot of the geometric \n",
    "#cumulative distribution function (CDF). \n",
    "# Specify x-values for dgeom function \n",
    "x_dgeom <- seq(0, 20, by = 1)     \n",
    "  \n",
    "# Apply dgeom function  \n",
    "y_dgeom <- dgeom(x_dgeom, prob = 1/3)     \n",
    "  \n",
    "# Plot dgeom values  \n",
    "plot(y_dgeom)   "
   ]
  },
  {
   "cell_type": "markdown",
   "metadata": {},
   "source": [
    "\\begin{exercise}\n",
    "Computing geometric  probabilities.  Suppose  that the  inhabitants of an island plan their families by having babies until the first girl is born.  Assume the probability of having a girl with each pregnancy  is 0.5 independent of other pregnancies,  that all babies survive and there  are no multiple  births.  What  is the probability that a family has k boys? \n",
    "\n",
    "\\end{exercise}\n",
    "\n",
    "\n",
    "\n",
    "\n",
    "\n",
    "## Uniform Distribution\n",
    "\n",
    "The uniform distribution models any situation where all the outcomes  are equally likely.\n",
    "\n",
    "$$\n",
    "X \\sim \\text { uniform }(N)\n",
    "$$\n",
    "\n",
    "$X$ takes values $1, 2, 3, \\dots , N$, each with probability $1/N$.  We have already seen this distribution many times when modeling the fair coins ($N  = 2$), dice ($N  = 6$), birthdays ($N  = 365$),\n",
    "and poker hands  ($N=\\left(\\begin{array}{c}52 \\\\ 5\\end{array}\\right)$).\n",
    "\n",
    "\n",
    "\n",
    "## Arithmetic with Random Variables\n",
    "\n",
    "We can do arithmetic with random  variables.  For example,  we can add subtract, multiply or square them.\n",
    "\n",
    "There  is a simple,  but  extremely  important idea  for counting.   It  says that if we have  a sequence of numbers  that are either  0 or 1 then  the  sum of the  sequence is the  number  of\n",
    "1s.\n",
    "\n",
    "\\begin{example}\n",
    "Consider  the sequence with five 1s.\n",
    "It is easy to see that the sum of this sequence is 5 the number  of 1s.\n",
    "\\end{example}\n",
    "\n",
    "\n",
    "\n",
    "We illustrates this idea by counting  the number  of heads in n tosses of a coin.\n",
    "\n",
    "\\begin{example}\n",
    "\n",
    "Toss a fair coin $n$ times.  Let $X_j$   be 1 if the  jth toss is heads  and  0 if it's tails.  So, $X_j$  is a Bernoulli(1/2) random  variable.   Let $X$  be the  total  number  of heads  in the  n tosses.  Assuming  the  tosses are independence,  we know $X \\sim \\operatorname{binomial}(n, 1 / 2)$.   We can also write\n",
    "\n",
    "$X=X_{1}+X_{2}+X_{3}+\\ldots+X_{n}$\n",
    "\n",
    "\\end{example}\n",
    "\n",
    "Again, this is because the terms  in the sum on the right are all either  0 or 1.  So, the sum is exactly  the number  of $X_j$  that are 1, i.e. the number  of heads.\n",
    "\n",
    "The important thing to see in the example above is that we've written  the more complicated binomial  random  variable  $X$  as the  sum  of extremely  simple random  variables  $X_j$.   This will allow us to manipulate X  algebraically.\n",
    "\n",
    "\\begin{exercise}\n",
    "Suppose X and Y  are independent and $X \\sim \\operatorname{binomial}(n, 1 / 2)$ and $Y \\sim \\operatorname{binomial}(m, 1 / 2)$. What  kind of distribution does X + Y  follow? Explain.\n",
    "\\end{exercise}\n",
    "\n",
    "\n",
    "\\begin{exercise}\n",
    "Suppose  X  and  Y   are  independent random  variables  with  the  following tables.\n",
    "\n",
    "$$\n",
    "\\begin{array}{c|cccccc}\n",
    "\\text { Values of } X & x: & 1 & 2 & 3 & 4 & \\\\\n",
    "\\hline \\text { pmf } & p_{X}(x): & 1 / 10 & 2 / 10 & 3 / 10 & 4 / 10 & \\\\\n",
    "\\text { Values of } Y & y: & 1 & 2 & 3 & 4 & 5 \\\\\n",
    "\\hline \\text { pmf } & p_{Y}(y): & 1 / 15 & 2 / 15 & 3 / 15 & 4 / 15 & 5 / 15\n",
    "\\end{array}\n",
    "$$\n",
    "\n",
    "Check that the total probability for each random variable is 1. Make a table for the random\n",
    "variable $X + Y$. \n",
    "\n",
    "\\end{exercise}\n",
    "\n"
   ]
  },
  {
   "cell_type": "code",
   "execution_count": 1,
   "metadata": {},
   "outputs": [
    {
     "data": {
      "text/html": [
       "0.65625"
      ],
      "text/latex": [
       "0.65625"
      ],
      "text/markdown": [
       "0.65625"
      ],
      "text/plain": [
       "[1] 0.65625"
      ]
     },
     "metadata": {},
     "output_type": "display_data"
    },
    {
     "data": {
      "text/html": [
       "0.881079547440564"
      ],
      "text/latex": [
       "0.881079547440564"
      ],
      "text/markdown": [
       "0.881079547440564"
      ],
      "text/plain": [
       "[1] 0.8810795"
      ]
     },
     "metadata": {},
     "output_type": "display_data"
    },
    {
     "data": {
      "text/html": [
       "0.964799799782295"
      ],
      "text/latex": [
       "0.964799799782295"
      ],
      "text/markdown": [
       "0.964799799782295"
      ],
      "text/plain": [
       "[1] 0.9647998"
      ]
     },
     "metadata": {},
     "output_type": "display_data"
    },
    {
     "data": {
      "text/html": [
       "0.99999414844348"
      ],
      "text/latex": [
       "0.99999414844348"
      ],
      "text/markdown": [
       "0.99999414844348"
      ],
      "text/plain": [
       "[1] 0.9999941"
      ]
     },
     "metadata": {},
     "output_type": "display_data"
    },
    {
     "data": {
      "text/html": [
       "0.999999999819832"
      ],
      "text/latex": [
       "0.999999999819832"
      ],
      "text/markdown": [
       "0.999999999819832"
      ],
      "text/plain": [
       "[1] 1"
      ]
     },
     "metadata": {},
     "output_type": "display_data"
    }
   ],
   "source": [
    "#---------------------------------\n",
    "# Example 1: Averages of Bernoulli variables\n",
    "# The number of heads in n flips of a fair coin is modeled by binomial(n,.5)\n",
    "# We use the cdf function pbinom(x, n, .5) to compute probabilities for various n\n",
    "\n",
    "# Probability of 4 to 6 heads in 10 flips\n",
    "# Note:  since pbinom(x,10,.5) is P(X <= x) we use pbinom(3,10.5) so X=4 is included\n",
    "# in the probability\n",
    "pbinom(6,10,.5) - pbinom(3,10,.5)\n",
    "\n",
    "# We look at the probability of between 40 and 60% heads for n = 50, 100, 500, 1000\n",
    "pbinom(30,50,.5) - pbinom(19,50,.5)\n",
    "\n",
    "pbinom(60,100,.5) - pbinom(39,100,.5)\n",
    "\n",
    "pbinom(300,500,.5) - pbinom(199,500,.5)\n",
    "\n",
    "pbinom(600,1000,.5) - pbinom(399,1000,.5)"
   ]
  },
  {
   "cell_type": "code",
   "execution_count": 3,
   "metadata": {},
   "outputs": [
    {
     "data": {
      "text/html": [
       "0.24609375"
      ],
      "text/latex": [
       "0.24609375"
      ],
      "text/markdown": [
       "0.24609375"
      ],
      "text/plain": [
       "[1] 0.2460937"
      ]
     },
     "metadata": {},
     "output_type": "display_data"
    },
    {
     "data": {
      "text/html": [
       "0.235646565597333"
      ],
      "text/latex": [
       "0.235646565597333"
      ],
      "text/markdown": [
       "0.235646565597333"
      ],
      "text/plain": [
       "[1] 0.2356466"
      ]
     },
     "metadata": {},
     "output_type": "display_data"
    },
    {
     "data": {
      "text/html": [
       "0.493339957375547"
      ],
      "text/latex": [
       "0.493339957375547"
      ],
      "text/markdown": [
       "0.493339957375547"
      ],
      "text/plain": [
       "[1] 0.49334"
      ]
     },
     "metadata": {},
     "output_type": "display_data"
    },
    {
     "data": {
      "text/html": [
       "0.955574200953919"
      ],
      "text/latex": [
       "0.955574200953919"
      ],
      "text/markdown": [
       "0.955574200953919"
      ],
      "text/plain": [
       "[1] 0.9555742"
      ]
     },
     "metadata": {},
     "output_type": "display_data"
    }
   ],
   "source": [
    "# Next we look at the probability of between 49 and 51 percent heads \n",
    "# (again we include the endpoints in the probability)\n",
    "\n",
    "# We look at the probability of between 40 and 60% heads for n = 50, 100, 500, 1000\n",
    "pbinom(5,10,.5) - pbinom(4,10,.5)\n",
    "# 0.2460937\n",
    "pbinom(51,100,.5) - pbinom(48,100,.5)\n",
    "# 0.2356466\n",
    "pbinom(510,1000,.5) - pbinom(489,1000,.5)\n",
    "# 0.49334\n",
    "pbinom(5100,10000,.5) - pbinom(4899,10000,.5)\n",
    "# 0.9555742"
   ]
  },
  {
   "cell_type": "code",
   "execution_count": 2,
   "metadata": {},
   "outputs": [
    {
     "data": {
      "image/png": "[encoded data removed]",
      "text/plain": [
       "Plot with title \"Histogram of x\""
      ]
     },
     "metadata": {
      "image/png": {
       "height": 420,
       "width": 420
      }
     },
     "output_type": "display_data"
    },
    {
     "data": {
      "image/png": "[encoded data removed]",
      "text/plain": [
       "Plot with title \"Histogram of x\""
      ]
     },
     "metadata": {
      "image/png": {
       "height": 420,
       "width": 420
      }
     },
     "output_type": "display_data"
    },
    {
     "data": {
      "image/png": "[encoded data removed]",
      "text/plain": [
       "Plot with title \"Histogram of x\""
      ]
     },
     "metadata": {
      "image/png": {
       "height": 420,
       "width": 420
      }
     },
     "output_type": "display_data"
    },
    {
     "data": {
      "image/png": "[encoded data removed]",
      "text/plain": [
       "Plot with title \"Histogram of x\""
      ]
     },
     "metadata": {
      "image/png": {
       "height": 420,
       "width": 420
      }
     },
     "output_type": "display_data"
    },
    {
     "data": {
      "image/png": "[encoded data removed]",
      "text/plain": [
       "Plot with title \"Histogram of x\""
      ]
     },
     "metadata": {
      "image/png": {
       "height": 420,
       "width": 420
      }
     },
     "output_type": "display_data"
    },
    {
     "name": "stderr",
     "output_type": "stream",
     "text": [
      "Warning message in plot.histogram(r, freq = freq1, col = col, border = border, angle = angle, :\n",
      "\"the AREAS in the plot are wrong -- rather use 'freq = FALSE'\"\n"
     ]
    },
    {
     "data": {
      "image/png": "[encoded data removed]",
      "text/plain": [
       "Plot with title \"Histogram of x\""
      ]
     },
     "metadata": {
      "image/png": {
       "height": 420,
       "width": 420
      }
     },
     "output_type": "display_data"
    },
    {
     "data": {
      "image/png": "[encoded data removed]",
      "text/plain": [
       "Plot with title \"Histogram of x\""
      ]
     },
     "metadata": {
      "image/png": {
       "height": 420,
       "width": 420
      }
     },
     "output_type": "display_data"
    },
    {
     "data": {
      "image/png": "[encoded data removed]",
      "text/plain": [
       "Plot with title \"Histogram of x\""
      ]
     },
     "metadata": {
      "image/png": {
       "height": 420,
       "width": 420
      }
     },
     "output_type": "display_data"
    }
   ],
   "source": [
    "#---------------------------------\n",
    "# Histogram examples\n",
    "x = c(1,2,2,3,3,3,4,4,4,4)\n",
    "brks = c(.5, 1.5, 2.5, 3.5, 4.5)\n",
    "hist(x,breaks=brks, col=\"purple\", freq=TRUE)\n",
    "hist(x,breaks=brks, col=\"magenta\", freq=FALSE)\n",
    "\n",
    "brks = c(0,1,2,3,4)\n",
    "hist(x,breaks=brks, col=\"red\", freq=TRUE)\n",
    "hist(x,breaks=brks, col=\"orange\", freq=FALSE)\n",
    "\n",
    "brks = c(0,2,4)\n",
    "hist(x,breaks=brks, col=\"blue\", freq=FALSE)\n",
    "\n",
    "brks = c(.25,.75,1.25,1.75,2.25,2.75,3.25,3.75,4.25)\n",
    "hist(x,breaks=brks, col=\"cyan\", freq=FALSE)\n",
    "\n",
    "#unequal size bins\n",
    "brks = c(0,1,2,4)\n",
    "hist(x,breaks=brks, col=\"red\", freq=TRUE) #GENERATES WARNING\n",
    "hist(x,breaks=brks, col=\"orange\", freq=FALSE)"
   ]
  },
  {
   "cell_type": "code",
   "execution_count": null,
   "metadata": {},
   "outputs": [],
   "source": []
  }
 ],
 "metadata": {
  "@webio": {
   "lastCommId": null,
   "lastKernelId": null
  },
  "kernelspec": {
   "display_name": "R 4.0.2",
   "language": "R",
   "name": "ir40"
  },
  "language_info": {
   "codemirror_mode": "r",
   "file_extension": ".r",
   "mimetype": "text/x-r-source",
   "name": "R",
   "pygments_lexer": "r",
   "version": "4.0.2"
  },
  "latex_envs": {
   "LaTeX_envs_menu_present": true,
   "autoclose": false,
   "autocomplete": true,
   "bibliofile": "biblio.bib",
   "cite_by": "apalike",
   "current_citInitial": 1,
   "eqLabelWithNumbers": true,
   "eqNumInitial": 1,
   "hotkeys": {
    "equation": "Ctrl-E",
    "itemize": "Ctrl-I"
   },
   "labels_anchors": false,
   "latex_user_defs": false,
   "report_style_numbering": false,
   "user_envs_cfg": false
  },
  "nbTranslate": {
   "displayLangs": [
    "*"
   ],
   "hotkey": "alt-t",
   "langInMainMenu": true,
   "sourceLang": "en",
   "targetLang": "fr",
   "useGoogleTranslate": true
  },
  "toc": {
   "base_numbering": 1,
   "nav_menu": {},
   "number_sections": true,
   "sideBar": true,
   "skip_h1_title": false,
   "title_cell": "Table of Contents",
   "title_sidebar": "Contents",
   "toc_cell": false,
   "toc_position": {},
   "toc_section_display": true,
   "toc_window_display": false
  },
  "varInspector": {
   "cols": {
    "lenName": 16,
    "lenType": 16,
    "lenVar": 40
   },
   "kernels_config": {
    "python": {
     "delete_cmd_postfix": "",
     "delete_cmd_prefix": "del ",
     "library": "var_list.py",
     "varRefreshCmd": "print(var_dic_list())"
    },
    "r": {
     "delete_cmd_postfix": ") ",
     "delete_cmd_prefix": "rm(",
     "library": "var_list.r",
     "varRefreshCmd": "cat(var_dic_list()) "
    }
   },
   "types_to_exclude": [
    "module",
    "function",
    "builtin_function_or_method",
    "instance",
    "_Feature"
   ],
   "window_display": false
  }
 },
 "nbformat": 4,
 "nbformat_minor": 4
}
