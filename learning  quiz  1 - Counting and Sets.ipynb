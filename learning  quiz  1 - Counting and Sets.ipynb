{
 "cells": [
  {
   "cell_type": "markdown",
   "metadata": {},
   "source": [
    "# Probability vs. Statistics \n",
    " \n",
    "Probability and statistics are deeply connected because all statistical statements are at bottom statements about probability. Despite this the two sometimes feel like very diﬀerent\n",
    "subjects. Probability is logically self-contained; there are a few rules and answers all follow logically from the rules, though computations can be tricky. In statistics we apply probability to draw conclusions from data. This can be messy and usually involves as much art \n",
    "as science. \n",
    "\n",
    "## Probability example\n",
    "You have a fair coin (equal probability of heads or tails). You will toss it 100 times. What is the probability of 60 or more heads? There is only one answer (about 0.028444) and you must know how to compute it. \n",
    "\n",
    "## Statistics example\n",
    "You have a coin of unknown origin. To investigate whether it is fair you toss it 100 times and count the number of heads. Let’s say you count 60 heads. Your job as a statistician is to draw a conclusion (inference) from this data. There are many ways to proceed,\n",
    "both in terms of the form the conclusion takes and the probability computations used to\n",
    "justify the conclusion. In fact, diﬀerent statisticians might draw diﬀerent conclusions. \n",
    "\n",
    "Note that in the ﬁrst example the random process is fully known (probability of heads =\n",
    ".5). The objective is to ﬁnd the probability of a certain outcome (at least 60 heads) arising\n",
    "from the random process. In the second example, the outcome is known (60 heads) and the\n",
    "objective is to illuminate the unknown random process (the probability of heads). \n",
    "\n",
    "## Frequentist vs. Bayesian Interpretations \n",
    "There are two prominent and sometimes conﬂicting schools of statistics: **Bayesian** and\n",
    "**frequentist**. Their approaches are rooted in diﬀering interpretations of the meaning of\n",
    "probability. \n",
    "\n",
    "**Frequentists** say that probability measures the frequency of various outcomes of an experiment. For example, saying a fair coin has a 50% probability of heads means that if we\n",
    "toss it many times then we expect about half the tosses to land heads. \n",
    "\n",
    "**Bayesians** say that probability is an abstract concept that measures a state of knowledge\n",
    "or a degree of belief in a given proposition. In practice Bayesians do not assign a single \n",
    "value for the probability of a coin coming up heads. Rather they consider a range of values\n",
    "each with its own probability of being true. \n",
    "\n",
    "The frequentist approach has long \n",
    "been dominant in ﬁelds like biology, medicine, public health and social sciences. \n",
    "\n",
    "The\n",
    "Bayesian approach has enjoyed a resurgence in the era of powerful computers and big\n",
    "data. It is especially useful when incorporating new data into an existing statistical model,\n",
    "for example, when training a speech or face recognition system. Today, statisticians are\n",
    "creating powerful tools by using both approaches in complementary ways.\n",
    "\n"
   ]
  },
  {
   "cell_type": "markdown",
   "metadata": {},
   "source": [
    "# Counting and Sets\n",
    "\n",
    "## Learning Goals\n",
    "\n",
    "\\begin{enumerate}\n",
    "\\item Know the deﬁnitions and notation for sets, intersection, union, complement.\n",
    "\\item Understand how counting is used computing probabilities.\n",
    "\\item Be able to use the rule of product, inclusion-exclusion principle, permutations and combinations to count the elements in a set. \n",
    "\\end{enumerate}\n"
   ]
  },
  {
   "cell_type": "markdown",
   "metadata": {},
   "source": [
    "## Counting "
   ]
  },
  {
   "cell_type": "markdown",
   "metadata": {},
   "source": [
    "**Question 1** - A coin is fair if it comes up heads or tails with equal probability. You ﬂip a fair coin three times. What is the probability that exactly one of the ﬂips results in a head?\n",
    "\n",
    "**your answer here**"
   ]
  },
  {
   "cell_type": "markdown",
   "metadata": {},
   "source": [
    "## Sets and notation \n",
    "### Deﬁnitions \n",
    "\n",
    "A **set** $S$ is a collection of elements. We use the following notation.\n",
    "\n",
    "**Element**: We write $x \\in S$ to mean the element $x$ is in the set $S$.\n",
    "\n",
    "**Subset**: We say the set $A$ is a subset of $S$ if all of its elements are in $S .$ We write this as $A \\subset S$\n",
    "\n",
    "**Complement**: The complement of $A$ in $S$ is the set of elements of $S$ that are not in $A$. We write this as $A^{c}$ or $S-A$.\n",
    "\n",
    "**Union**: The union of $A$ and $B$ is the set of all elements in $A$ or $B$ (or both). We write this as $A \\cup B$.\n",
    "\n",
    "**Intersection**: The intersection of $A$ and $B$ is the set of all elements in both $A$ and $B .$ We\n",
    "write this as $A \\cap B$.\n",
    "\n",
    "**Empty set**: The empty set is the set with no elements. We denote it $\\emptyset$.\n",
    "\n",
    "**Disjoint**: $A$ and $B$ are disjoint if they have no common elements. That is, if $A \\cap B=\\emptyset$.\n",
    "\n",
    "**Difference**: The difference of $A$ and $B$ is the set of elements in $A$ that are not in $B .$ We\n",
    "write this as $A-B$."
   ]
  },
  {
   "cell_type": "markdown",
   "metadata": {},
   "source": [
    "### Let's illustrate these operations for specific example.\n",
    "\n",
    "**Question 2**. Start with a set of 10 animals\n",
    "$S=\\{$ Antelope, Bee, Cat, Dog, Elephant, Frog, Gnat, Hyena, Iguana, Jaguar $\\} .$\n",
    "Consider two subsets:\n",
    "$M=$ the animal is a mammal $=\\{$ Antelope, Cat, Dog, Elephant, Hyena, Jaguar $\\}$ $W=$ the animal lives in the wild $=\\{$ Antelope, Bee, Elephant, Frog, Gnat, Hyena, Iguana, Jaguar $\\}$\n",
    "**Answer 2**\n",
    "Our goal here is to look at different set operations. Give answers to the following:\n",
    "\n",
    "\\begin{enumerate}\n",
    "\\item Intersection: $M \\cap W$ \n",
    "\\item Union: $M \\cup W$\n",
    "\\item Complement: $M^{c}$\n",
    "\\item Difference: $M-W$\n",
    "\\end{enumerate}\n",
    "\n"
   ]
  },
  {
   "cell_type": "markdown",
   "metadata": {},
   "source": [
    "**Question 3** What are the Venn Diagrams?\n",
    "\n",
    "**Answer**\n",
    "\n"
   ]
  },
  {
   "cell_type": "markdown",
   "metadata": {},
   "source": [
    "### Products of sets \n",
    "\n",
    "The product of sets $S$ and $T$ is the set of ordered pairs:\n",
    "$$\n",
    "S \\times T=\\{(s, t) \\mid s \\in S, t \\in T\\}\n",
    "$$\n",
    "In words the right-hand side reads \"the set of ordered pairs $(s, t)$ such that $s$ is in $S$ and $t$\n",
    "is in $T$\n",
    "The following diagrams show two examples of the set product."
   ]
  },
  {
   "cell_type": "markdown",
   "metadata": {},
   "source": [
    "## Counting\n",
    "If $S$ is finite, we use $|S|$ or $\\# S$ to denote the number of elements of $S$.\n",
    "Two useful counting principles are the inclusion-exclusion principle and the rule of product.\n",
    "\n",
    "### Inclusion-exclusion principle\n",
    "The inclusion-exclusion principle says\n",
    "$$\n",
    "|A \\cup B|=|A|+|B|-|A \\cap B|\n",
    "$$\n",
    "\n",
    "**Question 3** In a band of singers and guitarists, seven people sing, four play the guitar, and two do both. How big is the band?\n",
    "\n",
    "**your answer here** \n"
   ]
  },
  {
   "cell_type": "markdown",
   "metadata": {},
   "source": [
    "## Rule of Product\n",
    "The Rule of Product says:\n",
    "If there are $n$ ways to perform action 1 and then by $m$ ways to perform action $2,$ then there are $n \\cdot m$ ways to perform action 1 followed by action 2\n",
    "We will also call this the multiplication rule.\n",
    "\n",
    "**Example**. If you have 3 shirts and 4 pants then you can make $3 \\cdot 4=12$ outfits.\n",
    "\n",
    "**Think**: An extremely important point is that the rule of product holds even if the ways to perform action 2 depend on action $1,$ as long as the number of ways to perform action 2 is independent of action $1 .$ To illustrate this answer the following \n",
    "\n",
    "**Question 4** There are 5 competitors in the 100m ﬁnal at the Olympics. In how many\n",
    "ways can the gold, silver, and bronze medals be awarded? \n",
    "**your answer here**: \n",
    "\n",
    "Note that the choice of gold medalist aﬀects who can win the silver, but the number of\n",
    "possible silver medalists is always four. \n"
   ]
  },
  {
   "cell_type": "markdown",
   "metadata": {},
   "source": [
    "## Permutations and combinations\n",
    "### Permutations\n",
    "A permutation of a set is a particular ordering of its elements. For example, the set $\\{a, b, c\\}$ has six permutations: $a b c, a c b, b a c, b c a, c a b,$ cba. We found the number of permutations by listing them all. We could also have found the number of permutations by using the rule of product. That is, there are 3 ways to pick the first element, then 2 ways for the second, and 1 for the first. This gives a total of $3 \\cdot 2 \\cdot 1=6$ permutations.\n",
    "\n",
    "In general, the rule of product tells us that the number of permutations of a set of $k$ elements is\n",
    "$$\n",
    "k !=k \\cdot(k-1) \\cdots 3 \\cdot 2 \\cdot 1\n",
    "$$\n",
    "We also talk about the permutations of $k$ things out of a set of $n$ things. \n",
    "\n",
    "**Question 5** List all the permutations of 3 elements out of the set\n",
    "{\n",
    "a, b, c, d\n",
    "}\n",
    "in markdown language. Learn how to specify tables in markdown.\n",
    "\n",
    "**your answer here**\n"
   ]
  },
  {
   "cell_type": "markdown",
   "metadata": {},
   "source": [
    "## Formulas\n",
    "We'll use the following notations. \n",
    "\n",
    "${ }_{n} P_{k}=$ number of permutations (lists) of $k$ distinct elements from a set of size $n$\n",
    "\n",
    "${ }_{n} C_{k}=\\left(\\begin{array}{l}n \\\\ k\\end{array}\\right)=$ number of combinations (subsets) of $k$ elements from a set of size $n$ We emphasise that by the number of combinations of $k$ elements we mean the number of subsets of size $k$.\n",
    "\n",
    "These have the following notation and formulas:\n",
    "$$\n",
    "\\begin{array}{ll}\n",
    "\\text { Permutations: } & { }_{n} P_{k}=\\frac{n !}{(n-k) !}=n(n-1) \\cdots(n-k+1) \\\\\n",
    "\\text { Combinations: } & { }_{n} C_{k}=\\frac{n !}{k !(n-k) !}=\\frac{n P_{k}}{k !}\n",
    "\\end{array}\n",
    "$$\n",
    "The notation ${}_{n} C_{k}$ is read $\" n$ choose $k \" .$ The formula for ${}_{n} P_{k}$ follows from the rule of product. It also implies the formula for ${ }_{n} C_{k}$ because a subset of size $k$ can be ordered in $k !$\n",
    "ways.\n",
    "\n",
    "We can illustrate the relation between permutations and combinations by lining up the\n",
    "results of the previous two examples. \n",
    "\n",
    "\\begin{aligned}\n",
    "&\\begin{array}{lllllll}\n",
    "a b c & a c b & b a c & b c a & c a b & c b a & \\{a, b, c\\} \\\\\n",
    "a b d & a d b & b a d & b d a & d a b & d b a & \\{a, b, d\\} \\\\\n",
    "a c d & a d c & c a d & c d a & d a c & d c a & \\{a, c, d\\} \\\\\n",
    "b c d & b d c & c b d & c d b & d b c & d c b & \\{b, c, d\\}\n",
    "\\end{array}\\\\\n",
    "&\\text { Permutations: } 4 P_{3} \\quad \\text { Combinations: } 4 C_{3}\n",
    "\\end{aligned}\n",
    "\n",
    "Notice that each row in the permutations list consists of all $3 !$ permutations of the corresponding set in the combinations list."
   ]
  },
  {
   "cell_type": "markdown",
   "metadata": {},
   "source": [
    "## Questions - Examples\n",
    "**Question 6**. Count the following:\n",
    "\n",
    "(i) The number of ways to choose 2 out of 4 things (order does not matter).\n",
    "\n",
    "(ii) The number of ways to list 2 out of 4 things.\n",
    "\n",
    "(iii) The number of ways to choose 3 out of 10 things.\n",
    "\n",
    "**your answers in markdown**\n",
    "\n",
    "\n",
    "**Question 7** \n",
    "\n",
    "(i) Count the number of ways to get 3 heads in a sequence of 10 flips of a $\\operatorname{coin}$\n",
    "\n",
    "(ii) If the coin is fair, what is the probability of exactly 3 heads in 10 flips.\n",
    "\n",
    "**your answers here**"
   ]
  }
 ],
 "metadata": {
  "kernelspec": {
   "display_name": "R",
   "language": "R",
   "name": "ir"
  },
  "language_info": {
   "codemirror_mode": "r",
   "file_extension": ".r",
   "mimetype": "text/x-r-source",
   "name": "R",
   "pygments_lexer": "r",
   "version": "3.6.1"
  },
  "latex_envs": {
   "LaTeX_envs_menu_present": true,
   "autoclose": false,
   "autocomplete": true,
   "bibliofile": "biblio.bib",
   "cite_by": "apalike",
   "current_citInitial": 1,
   "eqLabelWithNumbers": true,
   "eqNumInitial": 1,
   "hotkeys": {
    "equation": "Ctrl-E",
    "itemize": "Ctrl-I"
   },
   "labels_anchors": false,
   "latex_user_defs": false,
   "report_style_numbering": false,
   "user_envs_cfg": false
  }
 },
 "nbformat": 4,
 "nbformat_minor": 4
}
