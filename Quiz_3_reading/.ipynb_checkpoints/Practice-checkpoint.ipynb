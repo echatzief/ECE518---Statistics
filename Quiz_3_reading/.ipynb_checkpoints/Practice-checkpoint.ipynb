{
 "cells": [
  {
   "cell_type": "markdown",
   "metadata": {},
   "source": [
    "# Probability & Distributions\n",
    "\n",
    "\n",
    "\n",
    "## Simulations in R: Basics\n"
   ]
  },
  {
   "cell_type": "markdown",
   "metadata": {},
   "source": [
    "#### You can simulate flipping a fair coin with the following"
   ]
  },
  {
   "cell_type": "code",
   "execution_count": 9,
   "metadata": {},
   "outputs": [
    {
     "data": {
      "text/html": [
       "'tails'"
      ],
      "text/latex": [
       "'tails'"
      ],
      "text/markdown": [
       "'tails'"
      ],
      "text/plain": [
       "[1] \"tails\""
      ]
     },
     "metadata": {},
     "output_type": "display_data"
    }
   ],
   "source": [
    "outcomes = c(\"heads\", \"tails\")\n",
    "sample(outcomes, size = 1, replace = TRUE)"
   ]
  },
  {
   "cell_type": "markdown",
   "metadata": {},
   "source": [
    "#### If you wanted to simulate flipping a fair coin 100 times"
   ]
  },
  {
   "cell_type": "code",
   "execution_count": 12,
   "metadata": {},
   "outputs": [
    {
     "data": {
      "text/html": [
       "<style>\n",
       ".list-inline {list-style: none; margin:0; padding: 0}\n",
       ".list-inline>li {display: inline-block}\n",
       ".list-inline>li:not(:last-child)::after {content: \"\\00b7\"; padding: 0 .5ex}\n",
       "</style>\n",
       "<ol class=list-inline><li>'tails'</li><li>'tails'</li><li>'tails'</li><li>'heads'</li><li>'heads'</li><li>'tails'</li><li>'heads'</li><li>'tails'</li><li>'tails'</li><li>'tails'</li><li>'heads'</li><li>'tails'</li><li>'heads'</li><li>'tails'</li><li>'tails'</li><li>'heads'</li><li>'heads'</li><li>'tails'</li><li>'tails'</li><li>'tails'</li><li>'heads'</li><li>'heads'</li><li>'tails'</li><li>'heads'</li><li>'tails'</li><li>'heads'</li><li>'heads'</li><li>'tails'</li><li>'heads'</li><li>'heads'</li><li>'heads'</li><li>'heads'</li><li>'heads'</li><li>'heads'</li><li>'tails'</li><li>'heads'</li><li>'tails'</li><li>'heads'</li><li>'heads'</li><li>'tails'</li><li>'tails'</li><li>'heads'</li><li>'tails'</li><li>'heads'</li><li>'heads'</li><li>'tails'</li><li>'heads'</li><li>'tails'</li><li>'tails'</li><li>'heads'</li><li>'heads'</li><li>'tails'</li><li>'heads'</li><li>'tails'</li><li>'heads'</li><li>'heads'</li><li>'heads'</li><li>'tails'</li><li>'tails'</li><li>'heads'</li><li>'heads'</li><li>'heads'</li><li>'heads'</li><li>'tails'</li><li>'tails'</li><li>'tails'</li><li>'tails'</li><li>'tails'</li><li>'heads'</li><li>'tails'</li><li>'tails'</li><li>'tails'</li><li>'heads'</li><li>'tails'</li><li>'tails'</li><li>'heads'</li><li>'heads'</li><li>'tails'</li><li>'heads'</li><li>'heads'</li><li>'tails'</li><li>'heads'</li><li>'heads'</li><li>'heads'</li><li>'tails'</li><li>'heads'</li><li>'tails'</li><li>'tails'</li><li>'heads'</li><li>'heads'</li><li>'heads'</li><li>'tails'</li><li>'heads'</li><li>'tails'</li><li>'tails'</li><li>'heads'</li><li>'heads'</li><li>'heads'</li><li>'tails'</li><li>'heads'</li></ol>\n"
      ],
      "text/latex": [
       "\\begin{enumerate*}\n",
       "\\item 'tails'\n",
       "\\item 'tails'\n",
       "\\item 'tails'\n",
       "\\item 'heads'\n",
       "\\item 'heads'\n",
       "\\item 'tails'\n",
       "\\item 'heads'\n",
       "\\item 'tails'\n",
       "\\item 'tails'\n",
       "\\item 'tails'\n",
       "\\item 'heads'\n",
       "\\item 'tails'\n",
       "\\item 'heads'\n",
       "\\item 'tails'\n",
       "\\item 'tails'\n",
       "\\item 'heads'\n",
       "\\item 'heads'\n",
       "\\item 'tails'\n",
       "\\item 'tails'\n",
       "\\item 'tails'\n",
       "\\item 'heads'\n",
       "\\item 'heads'\n",
       "\\item 'tails'\n",
       "\\item 'heads'\n",
       "\\item 'tails'\n",
       "\\item 'heads'\n",
       "\\item 'heads'\n",
       "\\item 'tails'\n",
       "\\item 'heads'\n",
       "\\item 'heads'\n",
       "\\item 'heads'\n",
       "\\item 'heads'\n",
       "\\item 'heads'\n",
       "\\item 'heads'\n",
       "\\item 'tails'\n",
       "\\item 'heads'\n",
       "\\item 'tails'\n",
       "\\item 'heads'\n",
       "\\item 'heads'\n",
       "\\item 'tails'\n",
       "\\item 'tails'\n",
       "\\item 'heads'\n",
       "\\item 'tails'\n",
       "\\item 'heads'\n",
       "\\item 'heads'\n",
       "\\item 'tails'\n",
       "\\item 'heads'\n",
       "\\item 'tails'\n",
       "\\item 'tails'\n",
       "\\item 'heads'\n",
       "\\item 'heads'\n",
       "\\item 'tails'\n",
       "\\item 'heads'\n",
       "\\item 'tails'\n",
       "\\item 'heads'\n",
       "\\item 'heads'\n",
       "\\item 'heads'\n",
       "\\item 'tails'\n",
       "\\item 'tails'\n",
       "\\item 'heads'\n",
       "\\item 'heads'\n",
       "\\item 'heads'\n",
       "\\item 'heads'\n",
       "\\item 'tails'\n",
       "\\item 'tails'\n",
       "\\item 'tails'\n",
       "\\item 'tails'\n",
       "\\item 'tails'\n",
       "\\item 'heads'\n",
       "\\item 'tails'\n",
       "\\item 'tails'\n",
       "\\item 'tails'\n",
       "\\item 'heads'\n",
       "\\item 'tails'\n",
       "\\item 'tails'\n",
       "\\item 'heads'\n",
       "\\item 'heads'\n",
       "\\item 'tails'\n",
       "\\item 'heads'\n",
       "\\item 'heads'\n",
       "\\item 'tails'\n",
       "\\item 'heads'\n",
       "\\item 'heads'\n",
       "\\item 'heads'\n",
       "\\item 'tails'\n",
       "\\item 'heads'\n",
       "\\item 'tails'\n",
       "\\item 'tails'\n",
       "\\item 'heads'\n",
       "\\item 'heads'\n",
       "\\item 'heads'\n",
       "\\item 'tails'\n",
       "\\item 'heads'\n",
       "\\item 'tails'\n",
       "\\item 'tails'\n",
       "\\item 'heads'\n",
       "\\item 'heads'\n",
       "\\item 'heads'\n",
       "\\item 'tails'\n",
       "\\item 'heads'\n",
       "\\end{enumerate*}\n"
      ],
      "text/markdown": [
       "1. 'tails'\n",
       "2. 'tails'\n",
       "3. 'tails'\n",
       "4. 'heads'\n",
       "5. 'heads'\n",
       "6. 'tails'\n",
       "7. 'heads'\n",
       "8. 'tails'\n",
       "9. 'tails'\n",
       "10. 'tails'\n",
       "11. 'heads'\n",
       "12. 'tails'\n",
       "13. 'heads'\n",
       "14. 'tails'\n",
       "15. 'tails'\n",
       "16. 'heads'\n",
       "17. 'heads'\n",
       "18. 'tails'\n",
       "19. 'tails'\n",
       "20. 'tails'\n",
       "21. 'heads'\n",
       "22. 'heads'\n",
       "23. 'tails'\n",
       "24. 'heads'\n",
       "25. 'tails'\n",
       "26. 'heads'\n",
       "27. 'heads'\n",
       "28. 'tails'\n",
       "29. 'heads'\n",
       "30. 'heads'\n",
       "31. 'heads'\n",
       "32. 'heads'\n",
       "33. 'heads'\n",
       "34. 'heads'\n",
       "35. 'tails'\n",
       "36. 'heads'\n",
       "37. 'tails'\n",
       "38. 'heads'\n",
       "39. 'heads'\n",
       "40. 'tails'\n",
       "41. 'tails'\n",
       "42. 'heads'\n",
       "43. 'tails'\n",
       "44. 'heads'\n",
       "45. 'heads'\n",
       "46. 'tails'\n",
       "47. 'heads'\n",
       "48. 'tails'\n",
       "49. 'tails'\n",
       "50. 'heads'\n",
       "51. 'heads'\n",
       "52. 'tails'\n",
       "53. 'heads'\n",
       "54. 'tails'\n",
       "55. 'heads'\n",
       "56. 'heads'\n",
       "57. 'heads'\n",
       "58. 'tails'\n",
       "59. 'tails'\n",
       "60. 'heads'\n",
       "61. 'heads'\n",
       "62. 'heads'\n",
       "63. 'heads'\n",
       "64. 'tails'\n",
       "65. 'tails'\n",
       "66. 'tails'\n",
       "67. 'tails'\n",
       "68. 'tails'\n",
       "69. 'heads'\n",
       "70. 'tails'\n",
       "71. 'tails'\n",
       "72. 'tails'\n",
       "73. 'heads'\n",
       "74. 'tails'\n",
       "75. 'tails'\n",
       "76. 'heads'\n",
       "77. 'heads'\n",
       "78. 'tails'\n",
       "79. 'heads'\n",
       "80. 'heads'\n",
       "81. 'tails'\n",
       "82. 'heads'\n",
       "83. 'heads'\n",
       "84. 'heads'\n",
       "85. 'tails'\n",
       "86. 'heads'\n",
       "87. 'tails'\n",
       "88. 'tails'\n",
       "89. 'heads'\n",
       "90. 'heads'\n",
       "91. 'heads'\n",
       "92. 'tails'\n",
       "93. 'heads'\n",
       "94. 'tails'\n",
       "95. 'tails'\n",
       "96. 'heads'\n",
       "97. 'heads'\n",
       "98. 'heads'\n",
       "99. 'tails'\n",
       "100. 'heads'\n",
       "\n",
       "\n"
      ],
      "text/plain": [
       "  [1] \"tails\" \"tails\" \"tails\" \"heads\" \"heads\" \"tails\" \"heads\" \"tails\" \"tails\"\n",
       " [10] \"tails\" \"heads\" \"tails\" \"heads\" \"tails\" \"tails\" \"heads\" \"heads\" \"tails\"\n",
       " [19] \"tails\" \"tails\" \"heads\" \"heads\" \"tails\" \"heads\" \"tails\" \"heads\" \"heads\"\n",
       " [28] \"tails\" \"heads\" \"heads\" \"heads\" \"heads\" \"heads\" \"heads\" \"tails\" \"heads\"\n",
       " [37] \"tails\" \"heads\" \"heads\" \"tails\" \"tails\" \"heads\" \"tails\" \"heads\" \"heads\"\n",
       " [46] \"tails\" \"heads\" \"tails\" \"tails\" \"heads\" \"heads\" \"tails\" \"heads\" \"tails\"\n",
       " [55] \"heads\" \"heads\" \"heads\" \"tails\" \"tails\" \"heads\" \"heads\" \"heads\" \"heads\"\n",
       " [64] \"tails\" \"tails\" \"tails\" \"tails\" \"tails\" \"heads\" \"tails\" \"tails\" \"tails\"\n",
       " [73] \"heads\" \"tails\" \"tails\" \"heads\" \"heads\" \"tails\" \"heads\" \"heads\" \"tails\"\n",
       " [82] \"heads\" \"heads\" \"heads\" \"tails\" \"heads\" \"tails\" \"tails\" \"heads\" \"heads\"\n",
       " [91] \"heads\" \"tails\" \"heads\" \"tails\" \"tails\" \"heads\" \"heads\" \"heads\" \"tails\"\n",
       "[100] \"heads\""
      ]
     },
     "metadata": {},
     "output_type": "display_data"
    }
   ],
   "source": [
    "hundred_flips = sample(outcomes, size = 100, replace = TRUE)\n",
    "hundred_flips"
   ]
  },
  {
   "cell_type": "markdown",
   "metadata": {},
   "source": [
    "#### To view the results of this simulation"
   ]
  },
  {
   "cell_type": "code",
   "execution_count": 14,
   "metadata": {},
   "outputs": [
    {
     "data": {
      "text/plain": [
       "hundred_flips\n",
       "heads tails \n",
       "   53    47 "
      ]
     },
     "metadata": {},
     "output_type": "display_data"
    }
   ],
   "source": [
    "table(hundred_flips)"
   ]
  },
  {
   "cell_type": "markdown",
   "metadata": {},
   "source": [
    "#### We can adjust for this by adding an argument called prob, which provides a vector of two probability weights."
   ]
  },
  {
   "cell_type": "code",
   "execution_count": 17,
   "metadata": {},
   "outputs": [
    {
     "data": {
      "text/html": [
       "<style>\n",
       ".list-inline {list-style: none; margin:0; padding: 0}\n",
       ".list-inline>li {display: inline-block}\n",
       ".list-inline>li:not(:last-child)::after {content: \"\\00b7\"; padding: 0 .5ex}\n",
       "</style>\n",
       "<ol class=list-inline><li>'tails'</li><li>'tails'</li><li>'tails'</li><li>'tails'</li><li>'heads'</li><li>'tails'</li><li>'tails'</li><li>'tails'</li><li>'tails'</li><li>'heads'</li><li>'heads'</li><li>'tails'</li><li>'tails'</li><li>'tails'</li><li>'tails'</li><li>'tails'</li><li>'heads'</li><li>'tails'</li><li>'tails'</li><li>'tails'</li><li>'heads'</li><li>'tails'</li><li>'tails'</li><li>'heads'</li><li>'tails'</li><li>'tails'</li><li>'tails'</li><li>'tails'</li><li>'tails'</li><li>'tails'</li><li>'tails'</li><li>'heads'</li><li>'tails'</li><li>'heads'</li><li>'tails'</li><li>'tails'</li><li>'tails'</li><li>'tails'</li><li>'tails'</li><li>'heads'</li><li>'tails'</li><li>'tails'</li><li>'tails'</li><li>'tails'</li><li>'heads'</li><li>'tails'</li><li>'heads'</li><li>'tails'</li><li>'heads'</li><li>'tails'</li><li>'tails'</li><li>'heads'</li><li>'tails'</li><li>'tails'</li><li>'tails'</li><li>'tails'</li><li>'heads'</li><li>'tails'</li><li>'tails'</li><li>'tails'</li><li>'tails'</li><li>'tails'</li><li>'heads'</li><li>'heads'</li><li>'tails'</li><li>'tails'</li><li>'tails'</li><li>'tails'</li><li>'tails'</li><li>'tails'</li><li>'tails'</li><li>'tails'</li><li>'tails'</li><li>'tails'</li><li>'tails'</li><li>'tails'</li><li>'tails'</li><li>'tails'</li><li>'tails'</li><li>'tails'</li><li>'tails'</li><li>'tails'</li><li>'tails'</li><li>'tails'</li><li>'tails'</li><li>'heads'</li><li>'tails'</li><li>'heads'</li><li>'tails'</li><li>'tails'</li><li>'tails'</li><li>'tails'</li><li>'tails'</li><li>'tails'</li><li>'tails'</li><li>'heads'</li><li>'tails'</li><li>'tails'</li><li>'tails'</li><li>'tails'</li></ol>\n"
      ],
      "text/latex": [
       "\\begin{enumerate*}\n",
       "\\item 'tails'\n",
       "\\item 'tails'\n",
       "\\item 'tails'\n",
       "\\item 'tails'\n",
       "\\item 'heads'\n",
       "\\item 'tails'\n",
       "\\item 'tails'\n",
       "\\item 'tails'\n",
       "\\item 'tails'\n",
       "\\item 'heads'\n",
       "\\item 'heads'\n",
       "\\item 'tails'\n",
       "\\item 'tails'\n",
       "\\item 'tails'\n",
       "\\item 'tails'\n",
       "\\item 'tails'\n",
       "\\item 'heads'\n",
       "\\item 'tails'\n",
       "\\item 'tails'\n",
       "\\item 'tails'\n",
       "\\item 'heads'\n",
       "\\item 'tails'\n",
       "\\item 'tails'\n",
       "\\item 'heads'\n",
       "\\item 'tails'\n",
       "\\item 'tails'\n",
       "\\item 'tails'\n",
       "\\item 'tails'\n",
       "\\item 'tails'\n",
       "\\item 'tails'\n",
       "\\item 'tails'\n",
       "\\item 'heads'\n",
       "\\item 'tails'\n",
       "\\item 'heads'\n",
       "\\item 'tails'\n",
       "\\item 'tails'\n",
       "\\item 'tails'\n",
       "\\item 'tails'\n",
       "\\item 'tails'\n",
       "\\item 'heads'\n",
       "\\item 'tails'\n",
       "\\item 'tails'\n",
       "\\item 'tails'\n",
       "\\item 'tails'\n",
       "\\item 'heads'\n",
       "\\item 'tails'\n",
       "\\item 'heads'\n",
       "\\item 'tails'\n",
       "\\item 'heads'\n",
       "\\item 'tails'\n",
       "\\item 'tails'\n",
       "\\item 'heads'\n",
       "\\item 'tails'\n",
       "\\item 'tails'\n",
       "\\item 'tails'\n",
       "\\item 'tails'\n",
       "\\item 'heads'\n",
       "\\item 'tails'\n",
       "\\item 'tails'\n",
       "\\item 'tails'\n",
       "\\item 'tails'\n",
       "\\item 'tails'\n",
       "\\item 'heads'\n",
       "\\item 'heads'\n",
       "\\item 'tails'\n",
       "\\item 'tails'\n",
       "\\item 'tails'\n",
       "\\item 'tails'\n",
       "\\item 'tails'\n",
       "\\item 'tails'\n",
       "\\item 'tails'\n",
       "\\item 'tails'\n",
       "\\item 'tails'\n",
       "\\item 'tails'\n",
       "\\item 'tails'\n",
       "\\item 'tails'\n",
       "\\item 'tails'\n",
       "\\item 'tails'\n",
       "\\item 'tails'\n",
       "\\item 'tails'\n",
       "\\item 'tails'\n",
       "\\item 'tails'\n",
       "\\item 'tails'\n",
       "\\item 'tails'\n",
       "\\item 'tails'\n",
       "\\item 'heads'\n",
       "\\item 'tails'\n",
       "\\item 'heads'\n",
       "\\item 'tails'\n",
       "\\item 'tails'\n",
       "\\item 'tails'\n",
       "\\item 'tails'\n",
       "\\item 'tails'\n",
       "\\item 'tails'\n",
       "\\item 'tails'\n",
       "\\item 'heads'\n",
       "\\item 'tails'\n",
       "\\item 'tails'\n",
       "\\item 'tails'\n",
       "\\item 'tails'\n",
       "\\end{enumerate*}\n"
      ],
      "text/markdown": [
       "1. 'tails'\n",
       "2. 'tails'\n",
       "3. 'tails'\n",
       "4. 'tails'\n",
       "5. 'heads'\n",
       "6. 'tails'\n",
       "7. 'tails'\n",
       "8. 'tails'\n",
       "9. 'tails'\n",
       "10. 'heads'\n",
       "11. 'heads'\n",
       "12. 'tails'\n",
       "13. 'tails'\n",
       "14. 'tails'\n",
       "15. 'tails'\n",
       "16. 'tails'\n",
       "17. 'heads'\n",
       "18. 'tails'\n",
       "19. 'tails'\n",
       "20. 'tails'\n",
       "21. 'heads'\n",
       "22. 'tails'\n",
       "23. 'tails'\n",
       "24. 'heads'\n",
       "25. 'tails'\n",
       "26. 'tails'\n",
       "27. 'tails'\n",
       "28. 'tails'\n",
       "29. 'tails'\n",
       "30. 'tails'\n",
       "31. 'tails'\n",
       "32. 'heads'\n",
       "33. 'tails'\n",
       "34. 'heads'\n",
       "35. 'tails'\n",
       "36. 'tails'\n",
       "37. 'tails'\n",
       "38. 'tails'\n",
       "39. 'tails'\n",
       "40. 'heads'\n",
       "41. 'tails'\n",
       "42. 'tails'\n",
       "43. 'tails'\n",
       "44. 'tails'\n",
       "45. 'heads'\n",
       "46. 'tails'\n",
       "47. 'heads'\n",
       "48. 'tails'\n",
       "49. 'heads'\n",
       "50. 'tails'\n",
       "51. 'tails'\n",
       "52. 'heads'\n",
       "53. 'tails'\n",
       "54. 'tails'\n",
       "55. 'tails'\n",
       "56. 'tails'\n",
       "57. 'heads'\n",
       "58. 'tails'\n",
       "59. 'tails'\n",
       "60. 'tails'\n",
       "61. 'tails'\n",
       "62. 'tails'\n",
       "63. 'heads'\n",
       "64. 'heads'\n",
       "65. 'tails'\n",
       "66. 'tails'\n",
       "67. 'tails'\n",
       "68. 'tails'\n",
       "69. 'tails'\n",
       "70. 'tails'\n",
       "71. 'tails'\n",
       "72. 'tails'\n",
       "73. 'tails'\n",
       "74. 'tails'\n",
       "75. 'tails'\n",
       "76. 'tails'\n",
       "77. 'tails'\n",
       "78. 'tails'\n",
       "79. 'tails'\n",
       "80. 'tails'\n",
       "81. 'tails'\n",
       "82. 'tails'\n",
       "83. 'tails'\n",
       "84. 'tails'\n",
       "85. 'tails'\n",
       "86. 'heads'\n",
       "87. 'tails'\n",
       "88. 'heads'\n",
       "89. 'tails'\n",
       "90. 'tails'\n",
       "91. 'tails'\n",
       "92. 'tails'\n",
       "93. 'tails'\n",
       "94. 'tails'\n",
       "95. 'tails'\n",
       "96. 'heads'\n",
       "97. 'tails'\n",
       "98. 'tails'\n",
       "99. 'tails'\n",
       "100. 'tails'\n",
       "\n",
       "\n"
      ],
      "text/plain": [
       "  [1] \"tails\" \"tails\" \"tails\" \"tails\" \"heads\" \"tails\" \"tails\" \"tails\" \"tails\"\n",
       " [10] \"heads\" \"heads\" \"tails\" \"tails\" \"tails\" \"tails\" \"tails\" \"heads\" \"tails\"\n",
       " [19] \"tails\" \"tails\" \"heads\" \"tails\" \"tails\" \"heads\" \"tails\" \"tails\" \"tails\"\n",
       " [28] \"tails\" \"tails\" \"tails\" \"tails\" \"heads\" \"tails\" \"heads\" \"tails\" \"tails\"\n",
       " [37] \"tails\" \"tails\" \"tails\" \"heads\" \"tails\" \"tails\" \"tails\" \"tails\" \"heads\"\n",
       " [46] \"tails\" \"heads\" \"tails\" \"heads\" \"tails\" \"tails\" \"heads\" \"tails\" \"tails\"\n",
       " [55] \"tails\" \"tails\" \"heads\" \"tails\" \"tails\" \"tails\" \"tails\" \"tails\" \"heads\"\n",
       " [64] \"heads\" \"tails\" \"tails\" \"tails\" \"tails\" \"tails\" \"tails\" \"tails\" \"tails\"\n",
       " [73] \"tails\" \"tails\" \"tails\" \"tails\" \"tails\" \"tails\" \"tails\" \"tails\" \"tails\"\n",
       " [82] \"tails\" \"tails\" \"tails\" \"tails\" \"heads\" \"tails\" \"heads\" \"tails\" \"tails\"\n",
       " [91] \"tails\" \"tails\" \"tails\" \"tails\" \"tails\" \"heads\" \"tails\" \"tails\" \"tails\"\n",
       "[100] \"tails\""
      ]
     },
     "metadata": {},
     "output_type": "display_data"
    }
   ],
   "source": [
    "sim_unfair_coin = sample(outcomes, size = 100, replace = TRUE,prob=c(0.2,0.8))\n",
    "sim_unfair_coin"
   ]
  },
  {
   "cell_type": "markdown",
   "metadata": {},
   "source": [
    "#### Recall that you can always check out its help file."
   ]
  },
  {
   "cell_type": "code",
   "execution_count": 19,
   "metadata": {},
   "outputs": [],
   "source": [
    "?sample"
   ]
  },
  {
   "cell_type": "markdown",
   "metadata": {},
   "source": [
    "#### The data"
   ]
  },
  {
   "cell_type": "code",
   "execution_count": 20,
   "metadata": {},
   "outputs": [
    {
     "data": {
      "text/html": [
       "<table>\n",
       "<caption>A data.frame: 6 × 25</caption>\n",
       "<thead>\n",
       "\t<tr><th></th><th scope=col>bia.di</th><th scope=col>bii.di</th><th scope=col>bit.di</th><th scope=col>che.de</th><th scope=col>che.di</th><th scope=col>elb.di</th><th scope=col>wri.di</th><th scope=col>kne.di</th><th scope=col>ank.di</th><th scope=col>sho.gi</th><th scope=col>⋯</th><th scope=col>bic.gi</th><th scope=col>for.gi</th><th scope=col>kne.gi</th><th scope=col>cal.gi</th><th scope=col>ank.gi</th><th scope=col>wri.gi</th><th scope=col>age</th><th scope=col>wgt</th><th scope=col>hgt</th><th scope=col>sex</th></tr>\n",
       "\t<tr><th></th><th scope=col>&lt;dbl&gt;</th><th scope=col>&lt;dbl&gt;</th><th scope=col>&lt;dbl&gt;</th><th scope=col>&lt;dbl&gt;</th><th scope=col>&lt;dbl&gt;</th><th scope=col>&lt;dbl&gt;</th><th scope=col>&lt;dbl&gt;</th><th scope=col>&lt;dbl&gt;</th><th scope=col>&lt;dbl&gt;</th><th scope=col>&lt;dbl&gt;</th><th scope=col>⋯</th><th scope=col>&lt;dbl&gt;</th><th scope=col>&lt;dbl&gt;</th><th scope=col>&lt;dbl&gt;</th><th scope=col>&lt;dbl&gt;</th><th scope=col>&lt;dbl&gt;</th><th scope=col>&lt;dbl&gt;</th><th scope=col>&lt;int&gt;</th><th scope=col>&lt;dbl&gt;</th><th scope=col>&lt;dbl&gt;</th><th scope=col>&lt;int&gt;</th></tr>\n",
       "</thead>\n",
       "<tbody>\n",
       "\t<tr><th scope=row>1</th><td>42.9</td><td>26.0</td><td>31.5</td><td>17.7</td><td>28.0</td><td>13.1</td><td>10.4</td><td>18.8</td><td>14.1</td><td>106.2</td><td>⋯</td><td>32.5</td><td>26.0</td><td>34.5</td><td>36.5</td><td>23.5</td><td>16.5</td><td>21</td><td>65.6</td><td>174.0</td><td>1</td></tr>\n",
       "\t<tr><th scope=row>2</th><td>43.7</td><td>28.5</td><td>33.5</td><td>16.9</td><td>30.8</td><td>14.0</td><td>11.8</td><td>20.6</td><td>15.1</td><td>110.5</td><td>⋯</td><td>34.4</td><td>28.0</td><td>36.5</td><td>37.5</td><td>24.5</td><td>17.0</td><td>23</td><td>71.8</td><td>175.3</td><td>1</td></tr>\n",
       "\t<tr><th scope=row>3</th><td>40.1</td><td>28.2</td><td>33.3</td><td>20.9</td><td>31.7</td><td>13.9</td><td>10.9</td><td>19.7</td><td>14.1</td><td>115.1</td><td>⋯</td><td>33.4</td><td>28.8</td><td>37.0</td><td>37.3</td><td>21.9</td><td>16.9</td><td>28</td><td>80.7</td><td>193.5</td><td>1</td></tr>\n",
       "\t<tr><th scope=row>4</th><td>44.3</td><td>29.9</td><td>34.0</td><td>18.4</td><td>28.2</td><td>13.9</td><td>11.2</td><td>20.9</td><td>15.0</td><td>104.5</td><td>⋯</td><td>31.0</td><td>26.2</td><td>37.0</td><td>34.8</td><td>23.0</td><td>16.6</td><td>23</td><td>72.6</td><td>186.5</td><td>1</td></tr>\n",
       "\t<tr><th scope=row>5</th><td>42.5</td><td>29.9</td><td>34.0</td><td>21.5</td><td>29.4</td><td>15.2</td><td>11.6</td><td>20.7</td><td>14.9</td><td>107.5</td><td>⋯</td><td>32.0</td><td>28.4</td><td>37.7</td><td>38.6</td><td>24.4</td><td>18.0</td><td>22</td><td>78.8</td><td>187.2</td><td>1</td></tr>\n",
       "\t<tr><th scope=row>6</th><td>43.3</td><td>27.0</td><td>31.5</td><td>19.6</td><td>31.3</td><td>14.0</td><td>11.5</td><td>18.8</td><td>13.9</td><td>119.8</td><td>⋯</td><td>33.0</td><td>28.0</td><td>36.6</td><td>36.1</td><td>23.5</td><td>16.9</td><td>21</td><td>74.8</td><td>181.5</td><td>1</td></tr>\n",
       "</tbody>\n",
       "</table>\n"
      ],
      "text/latex": [
       "A data.frame: 6 × 25\n",
       "\\begin{tabular}{r|lllllllllllllllllllll}\n",
       "  & bia.di & bii.di & bit.di & che.de & che.di & elb.di & wri.di & kne.di & ank.di & sho.gi & ⋯ & bic.gi & for.gi & kne.gi & cal.gi & ank.gi & wri.gi & age & wgt & hgt & sex\\\\\n",
       "  & <dbl> & <dbl> & <dbl> & <dbl> & <dbl> & <dbl> & <dbl> & <dbl> & <dbl> & <dbl> & ⋯ & <dbl> & <dbl> & <dbl> & <dbl> & <dbl> & <dbl> & <int> & <dbl> & <dbl> & <int>\\\\\n",
       "\\hline\n",
       "\t1 & 42.9 & 26.0 & 31.5 & 17.7 & 28.0 & 13.1 & 10.4 & 18.8 & 14.1 & 106.2 & ⋯ & 32.5 & 26.0 & 34.5 & 36.5 & 23.5 & 16.5 & 21 & 65.6 & 174.0 & 1\\\\\n",
       "\t2 & 43.7 & 28.5 & 33.5 & 16.9 & 30.8 & 14.0 & 11.8 & 20.6 & 15.1 & 110.5 & ⋯ & 34.4 & 28.0 & 36.5 & 37.5 & 24.5 & 17.0 & 23 & 71.8 & 175.3 & 1\\\\\n",
       "\t3 & 40.1 & 28.2 & 33.3 & 20.9 & 31.7 & 13.9 & 10.9 & 19.7 & 14.1 & 115.1 & ⋯ & 33.4 & 28.8 & 37.0 & 37.3 & 21.9 & 16.9 & 28 & 80.7 & 193.5 & 1\\\\\n",
       "\t4 & 44.3 & 29.9 & 34.0 & 18.4 & 28.2 & 13.9 & 11.2 & 20.9 & 15.0 & 104.5 & ⋯ & 31.0 & 26.2 & 37.0 & 34.8 & 23.0 & 16.6 & 23 & 72.6 & 186.5 & 1\\\\\n",
       "\t5 & 42.5 & 29.9 & 34.0 & 21.5 & 29.4 & 15.2 & 11.6 & 20.7 & 14.9 & 107.5 & ⋯ & 32.0 & 28.4 & 37.7 & 38.6 & 24.4 & 18.0 & 22 & 78.8 & 187.2 & 1\\\\\n",
       "\t6 & 43.3 & 27.0 & 31.5 & 19.6 & 31.3 & 14.0 & 11.5 & 18.8 & 13.9 & 119.8 & ⋯ & 33.0 & 28.0 & 36.6 & 36.1 & 23.5 & 16.9 & 21 & 74.8 & 181.5 & 1\\\\\n",
       "\\end{tabular}\n"
      ],
      "text/markdown": [
       "\n",
       "A data.frame: 6 × 25\n",
       "\n",
       "| <!--/--> | bia.di &lt;dbl&gt; | bii.di &lt;dbl&gt; | bit.di &lt;dbl&gt; | che.de &lt;dbl&gt; | che.di &lt;dbl&gt; | elb.di &lt;dbl&gt; | wri.di &lt;dbl&gt; | kne.di &lt;dbl&gt; | ank.di &lt;dbl&gt; | sho.gi &lt;dbl&gt; | ⋯ ⋯ | bic.gi &lt;dbl&gt; | for.gi &lt;dbl&gt; | kne.gi &lt;dbl&gt; | cal.gi &lt;dbl&gt; | ank.gi &lt;dbl&gt; | wri.gi &lt;dbl&gt; | age &lt;int&gt; | wgt &lt;dbl&gt; | hgt &lt;dbl&gt; | sex &lt;int&gt; |\n",
       "|---|---|---|---|---|---|---|---|---|---|---|---|---|---|---|---|---|---|---|---|---|---|\n",
       "| 1 | 42.9 | 26.0 | 31.5 | 17.7 | 28.0 | 13.1 | 10.4 | 18.8 | 14.1 | 106.2 | ⋯ | 32.5 | 26.0 | 34.5 | 36.5 | 23.5 | 16.5 | 21 | 65.6 | 174.0 | 1 |\n",
       "| 2 | 43.7 | 28.5 | 33.5 | 16.9 | 30.8 | 14.0 | 11.8 | 20.6 | 15.1 | 110.5 | ⋯ | 34.4 | 28.0 | 36.5 | 37.5 | 24.5 | 17.0 | 23 | 71.8 | 175.3 | 1 |\n",
       "| 3 | 40.1 | 28.2 | 33.3 | 20.9 | 31.7 | 13.9 | 10.9 | 19.7 | 14.1 | 115.1 | ⋯ | 33.4 | 28.8 | 37.0 | 37.3 | 21.9 | 16.9 | 28 | 80.7 | 193.5 | 1 |\n",
       "| 4 | 44.3 | 29.9 | 34.0 | 18.4 | 28.2 | 13.9 | 11.2 | 20.9 | 15.0 | 104.5 | ⋯ | 31.0 | 26.2 | 37.0 | 34.8 | 23.0 | 16.6 | 23 | 72.6 | 186.5 | 1 |\n",
       "| 5 | 42.5 | 29.9 | 34.0 | 21.5 | 29.4 | 15.2 | 11.6 | 20.7 | 14.9 | 107.5 | ⋯ | 32.0 | 28.4 | 37.7 | 38.6 | 24.4 | 18.0 | 22 | 78.8 | 187.2 | 1 |\n",
       "| 6 | 43.3 | 27.0 | 31.5 | 19.6 | 31.3 | 14.0 | 11.5 | 18.8 | 13.9 | 119.8 | ⋯ | 33.0 | 28.0 | 36.6 | 36.1 | 23.5 | 16.9 | 21 | 74.8 | 181.5 | 1 |\n",
       "\n"
      ],
      "text/plain": [
       "  bia.di bii.di bit.di che.de che.di elb.di wri.di kne.di ank.di sho.gi ⋯\n",
       "1 42.9   26.0   31.5   17.7   28.0   13.1   10.4   18.8   14.1   106.2  ⋯\n",
       "2 43.7   28.5   33.5   16.9   30.8   14.0   11.8   20.6   15.1   110.5  ⋯\n",
       "3 40.1   28.2   33.3   20.9   31.7   13.9   10.9   19.7   14.1   115.1  ⋯\n",
       "4 44.3   29.9   34.0   18.4   28.2   13.9   11.2   20.9   15.0   104.5  ⋯\n",
       "5 42.5   29.9   34.0   21.5   29.4   15.2   11.6   20.7   14.9   107.5  ⋯\n",
       "6 43.3   27.0   31.5   19.6   31.3   14.0   11.5   18.8   13.9   119.8  ⋯\n",
       "  bic.gi for.gi kne.gi cal.gi ank.gi wri.gi age wgt  hgt   sex\n",
       "1 32.5   26.0   34.5   36.5   23.5   16.5   21  65.6 174.0 1  \n",
       "2 34.4   28.0   36.5   37.5   24.5   17.0   23  71.8 175.3 1  \n",
       "3 33.4   28.8   37.0   37.3   21.9   16.9   28  80.7 193.5 1  \n",
       "4 31.0   26.2   37.0   34.8   23.0   16.6   23  72.6 186.5 1  \n",
       "5 32.0   28.4   37.7   38.6   24.4   18.0   22  78.8 187.2 1  \n",
       "6 33.0   28.0   36.6   36.1   23.5   16.9   21  74.8 181.5 1  "
      ]
     },
     "metadata": {},
     "output_type": "display_data"
    }
   ],
   "source": [
    "bdims <- read.csv(\"bdims.csv\")\n",
    "#Let’s take a quick peek at the first few rows of the data.\n",
    "\n",
    "head(bdims)"
   ]
  },
  {
   "cell_type": "markdown",
   "metadata": {},
   "source": [
    "#### We can also have a quick look at the summary statistics of all variables:"
   ]
  },
  {
   "cell_type": "code",
   "execution_count": 21,
   "metadata": {},
   "outputs": [
    {
     "data": {
      "text/plain": [
       "     bia.di          bii.di          bit.di          che.de     \n",
       " Min.   :32.40   Min.   :18.70   Min.   :24.70   Min.   :14.30  \n",
       " 1st Qu.:36.20   1st Qu.:26.50   1st Qu.:30.60   1st Qu.:17.30  \n",
       " Median :38.70   Median :28.00   Median :32.00   Median :19.00  \n",
       " Mean   :38.81   Mean   :27.83   Mean   :31.98   Mean   :19.23  \n",
       " 3rd Qu.:41.15   3rd Qu.:29.25   3rd Qu.:33.35   3rd Qu.:20.90  \n",
       " Max.   :47.40   Max.   :34.70   Max.   :38.00   Max.   :27.50  \n",
       "     che.di          elb.di          wri.di          kne.di     \n",
       " Min.   :22.20   Min.   : 9.90   Min.   : 8.10   Min.   :15.70  \n",
       " 1st Qu.:25.65   1st Qu.:12.40   1st Qu.: 9.80   1st Qu.:17.90  \n",
       " Median :27.80   Median :13.30   Median :10.50   Median :18.70  \n",
       " Mean   :27.97   Mean   :13.39   Mean   :10.54   Mean   :18.81  \n",
       " 3rd Qu.:29.95   3rd Qu.:14.40   3rd Qu.:11.20   3rd Qu.:19.60  \n",
       " Max.   :35.60   Max.   :16.70   Max.   :13.30   Max.   :24.30  \n",
       "     ank.di          sho.gi           che.gi           wai.gi      \n",
       " Min.   : 9.90   Min.   : 85.90   Min.   : 72.60   Min.   : 57.90  \n",
       " 1st Qu.:13.00   1st Qu.: 99.45   1st Qu.: 85.30   1st Qu.: 68.00  \n",
       " Median :13.80   Median :108.20   Median : 91.60   Median : 75.80  \n",
       " Mean   :13.86   Mean   :108.20   Mean   : 93.33   Mean   : 76.98  \n",
       " 3rd Qu.:14.80   3rd Qu.:116.55   3rd Qu.:101.15   3rd Qu.: 84.50  \n",
       " Max.   :17.20   Max.   :134.80   Max.   :118.70   Max.   :113.20  \n",
       "     nav.gi           hip.gi           thi.gi          bic.gi     \n",
       " Min.   : 64.00   Min.   : 78.80   Min.   :46.30   Min.   :22.40  \n",
       " 1st Qu.: 78.85   1st Qu.: 92.00   1st Qu.:53.70   1st Qu.:27.60  \n",
       " Median : 84.60   Median : 96.00   Median :56.30   Median :31.00  \n",
       " Mean   : 85.65   Mean   : 96.68   Mean   :56.86   Mean   :31.17  \n",
       " 3rd Qu.: 91.60   3rd Qu.:101.00   3rd Qu.:59.50   3rd Qu.:34.45  \n",
       " Max.   :121.10   Max.   :128.30   Max.   :75.70   Max.   :42.40  \n",
       "     for.gi          kne.gi          cal.gi          ank.gi          wri.gi    \n",
       " Min.   :19.60   Min.   :29.00   Min.   :28.40   Min.   :16.40   Min.   :13.0  \n",
       " 1st Qu.:23.60   1st Qu.:34.40   1st Qu.:34.10   1st Qu.:21.00   1st Qu.:15.0  \n",
       " Median :25.80   Median :36.00   Median :36.00   Median :22.00   Median :16.1  \n",
       " Mean   :25.94   Mean   :36.20   Mean   :36.08   Mean   :22.16   Mean   :16.1  \n",
       " 3rd Qu.:28.40   3rd Qu.:37.95   3rd Qu.:38.00   3rd Qu.:23.30   3rd Qu.:17.1  \n",
       " Max.   :32.50   Max.   :49.00   Max.   :47.70   Max.   :29.30   Max.   :19.6  \n",
       "      age             wgt              hgt             sex        \n",
       " Min.   :18.00   Min.   : 42.00   Min.   :147.2   Min.   :0.0000  \n",
       " 1st Qu.:23.00   1st Qu.: 58.40   1st Qu.:163.8   1st Qu.:0.0000  \n",
       " Median :27.00   Median : 68.20   Median :170.3   Median :0.0000  \n",
       " Mean   :30.18   Mean   : 69.15   Mean   :171.1   Mean   :0.4872  \n",
       " 3rd Qu.:36.00   3rd Qu.: 78.85   3rd Qu.:177.8   3rd Qu.:1.0000  \n",
       " Max.   :67.00   Max.   :116.40   Max.   :198.1   Max.   :1.0000  "
      ]
     },
     "metadata": {},
     "output_type": "display_data"
    }
   ],
   "source": [
    "summary(bdims)"
   ]
  },
  {
   "cell_type": "markdown",
   "metadata": {},
   "source": [
    "#### Since males and females tend to have different body dimensions, it will be useful to create two additional data sets: one with only men and another with only women."
   ]
  },
  {
   "cell_type": "code",
   "execution_count": 22,
   "metadata": {},
   "outputs": [],
   "source": [
    "mdims <- bdims[bdims$sex == 1, ]\n",
    "fdims <- bdims[bdims$sex == 0, ]"
   ]
  },
  {
   "cell_type": "markdown",
   "metadata": {},
   "source": [
    "#### pnorm vs qnorm"
   ]
  },
  {
   "cell_type": "markdown",
   "metadata": {},
   "source": [
    "In R the pnorm() function actually allows us to specify one or both of those values. For a distribution that is $N(75,14)$, to find the $P(X < 83.4)$ we just need to give the command `pnorm(83.4, mean=75, sd=14)`. \n",
    "\n",
    "And, of course, there is a similar expanded notation for qnorm(). Thus, to find the value $\\alpha$ that satisfies the equation $P(X\\le \\alpha) = 0.12$, for a population that is $N(75,14)$ we just need to use the command qnorm(0.12,mean=75, sd=14). "
   ]
  },
  {
   "cell_type": "code",
   "execution_count": 24,
   "metadata": {},
   "outputs": [
    {
     "data": {
      "text/html": [
       "58.5501849110747"
      ],
      "text/latex": [
       "58.5501849110747"
      ],
      "text/markdown": [
       "58.5501849110747"
      ],
      "text/plain": [
       "[1] 58.55018"
      ]
     },
     "metadata": {},
     "output_type": "display_data"
    },
    {
     "data": {
      "text/html": [
       "4.43255941731327e-08"
      ],
      "text/latex": [
       "4.43255941731327e-08"
      ],
      "text/markdown": [
       "4.43255941731327e-08"
      ],
      "text/plain": [
       "[1] 4.432559e-08"
      ]
     },
     "metadata": {},
     "output_type": "display_data"
    }
   ],
   "source": [
    "qnorm(0.12,mean=75, sd=14)\n",
    "pnorm(0.12,mean=75, sd=14)"
   ]
  },
  {
   "cell_type": "markdown",
   "metadata": {},
   "source": [
    "pnorm $\\rightarrow$ $P(X < 83.4)$\n",
    "\n",
    "qnorm $\\rightarrow$ $P(X < \\alpha) \\rightarrow \\alpha$\n",
    "\n",
    "dnorm $\\rightarrow$ PDF\n",
    "\n",
    "pnorm $\\rightarrow$ CDF\n",
    "\n",
    "rnorm $\\rightarrow$ std normal"
   ]
  },
  {
   "cell_type": "markdown",
   "metadata": {},
   "source": [
    "#### Histogram\n"
   ]
  },
  {
   "cell_type": "code",
   "execution_count": 27,
   "metadata": {},
   "outputs": [
    {
     "data": {
      "image/png": "[encoded data removed]",
      "text/plain": [
       "Plot with title “Histogram of fdims$hgt”"
      ]
     },
     "metadata": {
      "image/png": {
       "height": 420,
       "width": 420
      }
     },
     "output_type": "display_data"
    }
   ],
   "source": [
    "hist(fdims$hgt, probability = TRUE, breaks = 20)"
   ]
  },
  {
   "cell_type": "markdown",
   "metadata": {},
   "source": [
    "##### Quantiles"
   ]
  },
  {
   "cell_type": "markdown",
   "metadata": {},
   "source": [
    "#### The following R code generates the quantiles for a standard Normal distribution from 0.01 to 0.99 by increments of 0.1:"
   ]
  },
  {
   "cell_type": "code",
   "execution_count": 29,
   "metadata": {},
   "outputs": [
    {
     "data": {
      "text/html": [
       "<style>\n",
       ".list-inline {list-style: none; margin:0; padding: 0}\n",
       ".list-inline>li {display: inline-block}\n",
       ".list-inline>li:not(:last-child)::after {content: \"\\00b7\"; padding: 0 .5ex}\n",
       "</style>\n",
       "<ol class=list-inline><li>-2.32634787404084</li><li>-1.22652812003661</li><li>-0.80642124701824</li><li>-0.495850347347453</li><li>-0.227544976641149</li><li>0.0250689082587111</li><li>0.279319034447454</li><li>0.553384719555673</li><li>0.877896295051229</li><li>1.34075503369022</li></ol>\n"
      ],
      "text/latex": [
       "\\begin{enumerate*}\n",
       "\\item -2.32634787404084\n",
       "\\item -1.22652812003661\n",
       "\\item -0.80642124701824\n",
       "\\item -0.495850347347453\n",
       "\\item -0.227544976641149\n",
       "\\item 0.0250689082587111\n",
       "\\item 0.279319034447454\n",
       "\\item 0.553384719555673\n",
       "\\item 0.877896295051229\n",
       "\\item 1.34075503369022\n",
       "\\end{enumerate*}\n"
      ],
      "text/markdown": [
       "1. -2.32634787404084\n",
       "2. -1.22652812003661\n",
       "3. -0.80642124701824\n",
       "4. -0.495850347347453\n",
       "5. -0.227544976641149\n",
       "6. 0.0250689082587111\n",
       "7. 0.279319034447454\n",
       "8. 0.553384719555673\n",
       "9. 0.877896295051229\n",
       "10. 1.34075503369022\n",
       "\n",
       "\n"
      ],
      "text/plain": [
       " [1] -2.32634787 -1.22652812 -0.80642125 -0.49585035 -0.22754498  0.02506891\n",
       " [7]  0.27931903  0.55338472  0.87789630  1.34075503"
      ]
     },
     "metadata": {},
     "output_type": "display_data"
    }
   ],
   "source": [
    "qnorm(seq(0.01,0.99,0.1))"
   ]
  },
  {
   "cell_type": "markdown",
   "metadata": {},
   "source": [
    "#### We can also randomly generate data from a standard Normal distribution and then find the quantiles. Here we generate a sample of size 200 and find the quantiles for 0.01 to 0.99 using the quantile function: "
   ]
  },
  {
   "cell_type": "code",
   "execution_count": 31,
   "metadata": {},
   "outputs": [
    {
     "data": {
      "text/html": [
       "<style>\n",
       ".dl-inline {width: auto; margin:0; padding: 0}\n",
       ".dl-inline>dt, .dl-inline>dd {float: none; width: auto; display: inline-block}\n",
       ".dl-inline>dt::after {content: \":\\0020\"; padding-right: .5ex}\n",
       ".dl-inline>dt:not(:first-of-type) {padding-left: .5ex}\n",
       "</style><dl class=dl-inline><dt>1%</dt><dd>-2.38505788539029</dd><dt>11%</dt><dd>-1.27879344932449</dd><dt>21%</dt><dd>-0.839575016616237</dd><dt>31%</dt><dd>-0.558505343478264</dd><dt>41%</dt><dd>-0.15381660892322</dd><dt>51%</dt><dd>0.114073684312478</dd><dt>61%</dt><dd>0.323251941730229</dd><dt>71%</dt><dd>0.607290473677832</dd><dt>81%</dt><dd>0.87870835330038</dd><dt>91%</dt><dd>1.26482072947237</dd></dl>\n"
      ],
      "text/latex": [
       "\\begin{description*}\n",
       "\\item[1\\textbackslash{}\\%] -2.38505788539029\n",
       "\\item[11\\textbackslash{}\\%] -1.27879344932449\n",
       "\\item[21\\textbackslash{}\\%] -0.839575016616237\n",
       "\\item[31\\textbackslash{}\\%] -0.558505343478264\n",
       "\\item[41\\textbackslash{}\\%] -0.15381660892322\n",
       "\\item[51\\textbackslash{}\\%] 0.114073684312478\n",
       "\\item[61\\textbackslash{}\\%] 0.323251941730229\n",
       "\\item[71\\textbackslash{}\\%] 0.607290473677832\n",
       "\\item[81\\textbackslash{}\\%] 0.87870835330038\n",
       "\\item[91\\textbackslash{}\\%] 1.26482072947237\n",
       "\\end{description*}\n"
      ],
      "text/markdown": [
       "1%\n",
       ":   -2.3850578853902911%\n",
       ":   -1.2787934493244921%\n",
       ":   -0.83957501661623731%\n",
       ":   -0.55850534347826441%\n",
       ":   -0.1538166089232251%\n",
       ":   0.11407368431247861%\n",
       ":   0.32325194173022971%\n",
       ":   0.60729047367783281%\n",
       ":   0.8787083533003891%\n",
       ":   1.26482072947237\n",
       "\n"
      ],
      "text/plain": [
       "        1%        11%        21%        31%        41%        51%        61% \n",
       "-2.3850579 -1.2787934 -0.8395750 -0.5585053 -0.1538166  0.1140737  0.3232519 \n",
       "       71%        81%        91% \n",
       " 0.6072905  0.8787084  1.2648207 "
      ]
     },
     "metadata": {},
     "output_type": "display_data"
    }
   ],
   "source": [
    "quantile(rnorm(200),probs = seq(0.01,0.99,0.1))"
   ]
  },
  {
   "cell_type": "markdown",
   "metadata": {},
   "source": [
    "Q-Q plots take your sample data, sort it in ascending order, and then plot them versus quantiles calculated from a theoretical distribution. The number of quantiles is selected to match the size of your sample data. While Normal Q-Q Plots are the ones most often used in practice due to so many statistical methods assuming normality, Q-Q Plots can actually be created for any distribution."
   ]
  },
  {
   "cell_type": "code",
   "execution_count": 34,
   "metadata": {},
   "outputs": [],
   "source": [
    "assess_normality <- function( data_list )\n",
    "{\n",
    "  n <- length( data_list )\n",
    "  sorted_data <- sort( data_list )\n",
    "  q <- 2*n\n",
    "  p <- seq(1, q-1, 2 )\n",
    "  L2 <- p/q\n",
    "  L3 <- qnorm(L2)\n",
    "  plot( sorted_data, L3, \n",
    "        ylab=\"z values\"\n",
    "      )\n",
    "}"
   ]
  },
  {
   "cell_type": "code",
   "execution_count": 35,
   "metadata": {},
   "outputs": [
    {
     "data": {
      "image/png": "[encoded data removed]",
      "text/plain": [
       "plot without title"
      ]
     },
     "metadata": {
      "image/png": {
       "height": 420,
       "width": 420
      }
     },
     "output_type": "display_data"
    }
   ],
   "source": [
    "assess_normality(fdims$hgt)"
   ]
  },
  {
   "cell_type": "code",
   "execution_count": 36,
   "metadata": {},
   "outputs": [
    {
     "data": {
      "image/png": "[encoded data removed]",
      "text/plain": [
       "Plot with title “Normal Q-Q Plot”"
      ]
     },
     "metadata": {
      "image/png": {
       "height": 420,
       "width": 420
      }
     },
     "output_type": "display_data"
    }
   ],
   "source": [
    "qqnorm(fdims$hgt)\n",
    "qqline(fdims$hgt)"
   ]
  },
  {
   "cell_type": "markdown",
   "metadata": {},
   "source": [
    "A useful way to address this question is to rephrase it as: what do probability plots look like for data that I know came from a normal distribution? We can answer this by simulating data from a normal distribution using rnorm."
   ]
  },
  {
   "cell_type": "code",
   "execution_count": 39,
   "metadata": {},
   "outputs": [
    {
     "data": {
      "text/html": [
       "<style>\n",
       ".list-inline {list-style: none; margin:0; padding: 0}\n",
       ".list-inline>li {display: inline-block}\n",
       ".list-inline>li:not(:last-child)::after {content: \"\\00b7\"; padding: 0 .5ex}\n",
       "</style>\n",
       "<ol class=list-inline><li>172.100042317691</li><li>158.729685255195</li><li>158.698323779928</li><li>173.020748139201</li><li>159.342709328997</li><li>169.031765240117</li><li>160.57472254091</li><li>157.400247202058</li><li>177.173787572037</li><li>163.148851493254</li><li>164.041263386138</li><li>151.026935155101</li><li>163.389495298845</li><li>173.21954483612</li><li>168.119534407676</li><li>166.917835907506</li><li>167.981972088298</li><li>159.349685850271</li><li>161.303140183072</li><li>168.020721324663</li><li>158.761689976208</li><li>177.667835281929</li><li>168.382534014767</li><li>177.923772703359</li><li>160.287625847082</li><li>166.892432224827</li><li>164.15985526886</li><li>157.677016990633</li><li>167.722731529732</li><li>166.205902713084</li><li>167.98605881822</li><li>169.852378345384</li><li>167.818786492323</li><li>171.908393250452</li><li>163.499560908257</li><li>157.313456732761</li><li>164.234617137984</li><li>156.002445227007</li><li>167.550750623668</li><li>164.976466649721</li><li>163.029857603074</li><li>162.050900462504</li><li>162.454127403868</li><li>163.086442366574</li><li>158.642979340392</li><li>164.676358058352</li><li>151.881738714321</li><li>164.377673091386</li><li>176.302883635745</li><li>167.081238633879</li><li>175.920717621495</li><li>171.396131763788</li><li>160.172422227822</li><li>167.320113572606</li><li>174.972336775367</li><li>164.398249155279</li><li>169.994510659599</li><li>163.597435666101</li><li>161.547916584564</li><li>172.760146513774</li><li>177.937532695848</li><li>171.860157971955</li><li>166.193876548393</li><li>153.984529334475</li><li>154.791561199387</li><li>158.945494763865</li><li>165.810324174779</li><li>159.426488408841</li><li>160.875327223211</li><li>152.809641355706</li><li>164.902131230334</li><li>165.43306793261</li><li>152.782846861384</li><li>151.80519299137</li><li>156.327736648853</li><li>170.544702171803</li><li>166.498335204043</li><li>157.167781662413</li><li>162.071457934816</li><li>160.898582544953</li><li>158.615208022885</li><li>167.55322089982</li><li>167.949267382046</li><li>167.162071180229</li><li>158.9164227743</li><li>172.505763197516</li><li>154.333897184553</li><li>167.086911638822</li><li>162.680608649499</li><li>163.869680615488</li><li>168.501092285397</li><li>163.343601666111</li><li>172.707064894425</li><li>161.454907762242</li><li>158.239754189718</li><li>156.720055108609</li><li>169.504360662308</li><li>159.524474425408</li><li>160.821207052015</li><li>159.095457356898</li><li>168.730779897483</li><li>171.808325540319</li><li>161.706287234471</li><li>164.606030817922</li><li>154.069637845465</li><li>173.699403327587</li><li>149.165644173279</li><li>162.474244743373</li><li>163.177920981558</li><li>172.919160688098</li><li>167.360872025906</li><li>173.665813834511</li><li>156.586618401005</li><li>154.304336066236</li><li>165.202055368152</li><li>162.975533220375</li><li>166.148146645187</li><li>157.51918208613</li><li>170.844485523957</li><li>175.706465524719</li><li>159.175139418462</li><li>164.77580740715</li><li>165.018911389661</li><li>171.467921513491</li><li>173.470622366579</li><li>171.713165594578</li><li>157.981440260281</li><li>167.05726286417</li><li>160.806829329255</li><li>157.425854826926</li><li>164.159959302128</li><li>162.552145354331</li><li>179.391040392401</li><li>163.014557205731</li><li>157.639949295915</li><li>173.167053644437</li><li>155.3977258478</li><li>164.601902553766</li><li>169.852833005301</li><li>166.775229418254</li><li>170.136643205235</li><li>153.68381755916</li><li>161.276528248063</li><li>169.742491991248</li><li>159.697661596429</li><li>160.255378855442</li><li>162.175764852925</li><li>171.750462776632</li><li>165.055893321871</li><li>165.299234806947</li><li>164.200802966289</li><li>158.424483390923</li><li>170.507551952483</li><li>164.516551541319</li><li>169.184387133225</li><li>151.323210252779</li><li>168.076226167987</li><li>165.95965013229</li><li>172.054211264818</li><li>166.909561528512</li><li>162.466538615012</li><li>161.674695868609</li><li>167.190920390958</li><li>174.327838666976</li><li>173.44466866437</li><li>159.767371082894</li><li>156.275993144615</li><li>171.100708950922</li><li>158.586762077354</li><li>163.898885516705</li><li>170.93218477807</li><li>166.508410867825</li><li>163.534029841805</li><li>172.739748489901</li><li>152.420701453812</li><li>161.667900019717</li><li>174.612377335568</li><li>176.900077070491</li><li>167.918534009834</li><li>168.064015799593</li><li>158.098529032021</li><li>169.29886697767</li><li>152.548451347023</li><li>169.061888241354</li><li>171.231260125152</li><li>170.45510565008</li><li>166.654265475092</li><li>166.847898355055</li><li>175.29614113474</li><li>173.847299729713</li><li>159.387003852623</li><li>171.107934722096</li><li>168.602792693641</li><li>165.229496290999</li><li>173.176865947661</li><li>177.292687822527</li><li>167.278340515201</li><li>158.801476615668</li><li>156.189295139435</li><li>164.208540920554</li><li>157.191797557761</li><li>164.160057788287</li><li>157.609654941486</li><li>161.636288141042</li><li>166.798758604145</li><li>170.591831024252</li><li>151.466565204728</li><li>160.112397668666</li><li>169.39806048306</li><li>157.966942969652</li><li>164.904206134465</li><li>161.000995741732</li><li>158.645788859249</li><li>170.358365296852</li><li>179.113372303146</li><li>165.308580049523</li><li>170.012230168937</li><li>161.722788066923</li><li>167.231099122781</li><li>175.079754415903</li><li>170.076426660339</li><li>169.128898549064</li><li>168.975462828069</li><li>158.672839375622</li><li>160.727192058854</li><li>160.361131072683</li><li>170.410956227165</li><li>164.002929306712</li><li>163.331048019896</li><li>164.758768546203</li><li>155.51940499191</li><li>165.264729699348</li><li>150.8182773496</li><li>173.114767700571</li><li>163.596714914408</li><li>159.898693586136</li><li>159.9262891127</li><li>159.633763255479</li><li>173.679094384346</li><li>157.795389637952</li><li>171.991630310264</li><li>170.404903529289</li><li>169.661257815757</li><li>160.869420281975</li><li>157.64214697091</li><li>172.52168958964</li><li>165.044131966347</li><li>152.499278268674</li><li>165.663944305418</li><li>158.253279592931</li><li>160.561598460038</li><li>155.90233165431</li><li>170.453089620059</li><li>166.374910157347</li><li>161.293397270256</li><li>165.79396985309</li><li>172.257507069676</li><li>174.704907775309</li><li>167.36158832946</li><li>165.61452982607</li></ol>\n"
      ],
      "text/latex": [
       "\\begin{enumerate*}\n",
       "\\item 172.100042317691\n",
       "\\item 158.729685255195\n",
       "\\item 158.698323779928\n",
       "\\item 173.020748139201\n",
       "\\item 159.342709328997\n",
       "\\item 169.031765240117\n",
       "\\item 160.57472254091\n",
       "\\item 157.400247202058\n",
       "\\item 177.173787572037\n",
       "\\item 163.148851493254\n",
       "\\item 164.041263386138\n",
       "\\item 151.026935155101\n",
       "\\item 163.389495298845\n",
       "\\item 173.21954483612\n",
       "\\item 168.119534407676\n",
       "\\item 166.917835907506\n",
       "\\item 167.981972088298\n",
       "\\item 159.349685850271\n",
       "\\item 161.303140183072\n",
       "\\item 168.020721324663\n",
       "\\item 158.761689976208\n",
       "\\item 177.667835281929\n",
       "\\item 168.382534014767\n",
       "\\item 177.923772703359\n",
       "\\item 160.287625847082\n",
       "\\item 166.892432224827\n",
       "\\item 164.15985526886\n",
       "\\item 157.677016990633\n",
       "\\item 167.722731529732\n",
       "\\item 166.205902713084\n",
       "\\item 167.98605881822\n",
       "\\item 169.852378345384\n",
       "\\item 167.818786492323\n",
       "\\item 171.908393250452\n",
       "\\item 163.499560908257\n",
       "\\item 157.313456732761\n",
       "\\item 164.234617137984\n",
       "\\item 156.002445227007\n",
       "\\item 167.550750623668\n",
       "\\item 164.976466649721\n",
       "\\item 163.029857603074\n",
       "\\item 162.050900462504\n",
       "\\item 162.454127403868\n",
       "\\item 163.086442366574\n",
       "\\item 158.642979340392\n",
       "\\item 164.676358058352\n",
       "\\item 151.881738714321\n",
       "\\item 164.377673091386\n",
       "\\item 176.302883635745\n",
       "\\item 167.081238633879\n",
       "\\item 175.920717621495\n",
       "\\item 171.396131763788\n",
       "\\item 160.172422227822\n",
       "\\item 167.320113572606\n",
       "\\item 174.972336775367\n",
       "\\item 164.398249155279\n",
       "\\item 169.994510659599\n",
       "\\item 163.597435666101\n",
       "\\item 161.547916584564\n",
       "\\item 172.760146513774\n",
       "\\item 177.937532695848\n",
       "\\item 171.860157971955\n",
       "\\item 166.193876548393\n",
       "\\item 153.984529334475\n",
       "\\item 154.791561199387\n",
       "\\item 158.945494763865\n",
       "\\item 165.810324174779\n",
       "\\item 159.426488408841\n",
       "\\item 160.875327223211\n",
       "\\item 152.809641355706\n",
       "\\item 164.902131230334\n",
       "\\item 165.43306793261\n",
       "\\item 152.782846861384\n",
       "\\item 151.80519299137\n",
       "\\item 156.327736648853\n",
       "\\item 170.544702171803\n",
       "\\item 166.498335204043\n",
       "\\item 157.167781662413\n",
       "\\item 162.071457934816\n",
       "\\item 160.898582544953\n",
       "\\item 158.615208022885\n",
       "\\item 167.55322089982\n",
       "\\item 167.949267382046\n",
       "\\item 167.162071180229\n",
       "\\item 158.9164227743\n",
       "\\item 172.505763197516\n",
       "\\item 154.333897184553\n",
       "\\item 167.086911638822\n",
       "\\item 162.680608649499\n",
       "\\item 163.869680615488\n",
       "\\item 168.501092285397\n",
       "\\item 163.343601666111\n",
       "\\item 172.707064894425\n",
       "\\item 161.454907762242\n",
       "\\item 158.239754189718\n",
       "\\item 156.720055108609\n",
       "\\item 169.504360662308\n",
       "\\item 159.524474425408\n",
       "\\item 160.821207052015\n",
       "\\item 159.095457356898\n",
       "\\item 168.730779897483\n",
       "\\item 171.808325540319\n",
       "\\item 161.706287234471\n",
       "\\item 164.606030817922\n",
       "\\item 154.069637845465\n",
       "\\item 173.699403327587\n",
       "\\item 149.165644173279\n",
       "\\item 162.474244743373\n",
       "\\item 163.177920981558\n",
       "\\item 172.919160688098\n",
       "\\item 167.360872025906\n",
       "\\item 173.665813834511\n",
       "\\item 156.586618401005\n",
       "\\item 154.304336066236\n",
       "\\item 165.202055368152\n",
       "\\item 162.975533220375\n",
       "\\item 166.148146645187\n",
       "\\item 157.51918208613\n",
       "\\item 170.844485523957\n",
       "\\item 175.706465524719\n",
       "\\item 159.175139418462\n",
       "\\item 164.77580740715\n",
       "\\item 165.018911389661\n",
       "\\item 171.467921513491\n",
       "\\item 173.470622366579\n",
       "\\item 171.713165594578\n",
       "\\item 157.981440260281\n",
       "\\item 167.05726286417\n",
       "\\item 160.806829329255\n",
       "\\item 157.425854826926\n",
       "\\item 164.159959302128\n",
       "\\item 162.552145354331\n",
       "\\item 179.391040392401\n",
       "\\item 163.014557205731\n",
       "\\item 157.639949295915\n",
       "\\item 173.167053644437\n",
       "\\item 155.3977258478\n",
       "\\item 164.601902553766\n",
       "\\item 169.852833005301\n",
       "\\item 166.775229418254\n",
       "\\item 170.136643205235\n",
       "\\item 153.68381755916\n",
       "\\item 161.276528248063\n",
       "\\item 169.742491991248\n",
       "\\item 159.697661596429\n",
       "\\item 160.255378855442\n",
       "\\item 162.175764852925\n",
       "\\item 171.750462776632\n",
       "\\item 165.055893321871\n",
       "\\item 165.299234806947\n",
       "\\item 164.200802966289\n",
       "\\item 158.424483390923\n",
       "\\item 170.507551952483\n",
       "\\item 164.516551541319\n",
       "\\item 169.184387133225\n",
       "\\item 151.323210252779\n",
       "\\item 168.076226167987\n",
       "\\item 165.95965013229\n",
       "\\item 172.054211264818\n",
       "\\item 166.909561528512\n",
       "\\item 162.466538615012\n",
       "\\item 161.674695868609\n",
       "\\item 167.190920390958\n",
       "\\item 174.327838666976\n",
       "\\item 173.44466866437\n",
       "\\item 159.767371082894\n",
       "\\item 156.275993144615\n",
       "\\item 171.100708950922\n",
       "\\item 158.586762077354\n",
       "\\item 163.898885516705\n",
       "\\item 170.93218477807\n",
       "\\item 166.508410867825\n",
       "\\item 163.534029841805\n",
       "\\item 172.739748489901\n",
       "\\item 152.420701453812\n",
       "\\item 161.667900019717\n",
       "\\item 174.612377335568\n",
       "\\item 176.900077070491\n",
       "\\item 167.918534009834\n",
       "\\item 168.064015799593\n",
       "\\item 158.098529032021\n",
       "\\item 169.29886697767\n",
       "\\item 152.548451347023\n",
       "\\item 169.061888241354\n",
       "\\item 171.231260125152\n",
       "\\item 170.45510565008\n",
       "\\item 166.654265475092\n",
       "\\item 166.847898355055\n",
       "\\item 175.29614113474\n",
       "\\item 173.847299729713\n",
       "\\item 159.387003852623\n",
       "\\item 171.107934722096\n",
       "\\item 168.602792693641\n",
       "\\item 165.229496290999\n",
       "\\item 173.176865947661\n",
       "\\item 177.292687822527\n",
       "\\item 167.278340515201\n",
       "\\item 158.801476615668\n",
       "\\item 156.189295139435\n",
       "\\item 164.208540920554\n",
       "\\item 157.191797557761\n",
       "\\item 164.160057788287\n",
       "\\item 157.609654941486\n",
       "\\item 161.636288141042\n",
       "\\item 166.798758604145\n",
       "\\item 170.591831024252\n",
       "\\item 151.466565204728\n",
       "\\item 160.112397668666\n",
       "\\item 169.39806048306\n",
       "\\item 157.966942969652\n",
       "\\item 164.904206134465\n",
       "\\item 161.000995741732\n",
       "\\item 158.645788859249\n",
       "\\item 170.358365296852\n",
       "\\item 179.113372303146\n",
       "\\item 165.308580049523\n",
       "\\item 170.012230168937\n",
       "\\item 161.722788066923\n",
       "\\item 167.231099122781\n",
       "\\item 175.079754415903\n",
       "\\item 170.076426660339\n",
       "\\item 169.128898549064\n",
       "\\item 168.975462828069\n",
       "\\item 158.672839375622\n",
       "\\item 160.727192058854\n",
       "\\item 160.361131072683\n",
       "\\item 170.410956227165\n",
       "\\item 164.002929306712\n",
       "\\item 163.331048019896\n",
       "\\item 164.758768546203\n",
       "\\item 155.51940499191\n",
       "\\item 165.264729699348\n",
       "\\item 150.8182773496\n",
       "\\item 173.114767700571\n",
       "\\item 163.596714914408\n",
       "\\item 159.898693586136\n",
       "\\item 159.9262891127\n",
       "\\item 159.633763255479\n",
       "\\item 173.679094384346\n",
       "\\item 157.795389637952\n",
       "\\item 171.991630310264\n",
       "\\item 170.404903529289\n",
       "\\item 169.661257815757\n",
       "\\item 160.869420281975\n",
       "\\item 157.64214697091\n",
       "\\item 172.52168958964\n",
       "\\item 165.044131966347\n",
       "\\item 152.499278268674\n",
       "\\item 165.663944305418\n",
       "\\item 158.253279592931\n",
       "\\item 160.561598460038\n",
       "\\item 155.90233165431\n",
       "\\item 170.453089620059\n",
       "\\item 166.374910157347\n",
       "\\item 161.293397270256\n",
       "\\item 165.79396985309\n",
       "\\item 172.257507069676\n",
       "\\item 174.704907775309\n",
       "\\item 167.36158832946\n",
       "\\item 165.61452982607\n",
       "\\end{enumerate*}\n"
      ],
      "text/markdown": [
       "1. 172.100042317691\n",
       "2. 158.729685255195\n",
       "3. 158.698323779928\n",
       "4. 173.020748139201\n",
       "5. 159.342709328997\n",
       "6. 169.031765240117\n",
       "7. 160.57472254091\n",
       "8. 157.400247202058\n",
       "9. 177.173787572037\n",
       "10. 163.148851493254\n",
       "11. 164.041263386138\n",
       "12. 151.026935155101\n",
       "13. 163.389495298845\n",
       "14. 173.21954483612\n",
       "15. 168.119534407676\n",
       "16. 166.917835907506\n",
       "17. 167.981972088298\n",
       "18. 159.349685850271\n",
       "19. 161.303140183072\n",
       "20. 168.020721324663\n",
       "21. 158.761689976208\n",
       "22. 177.667835281929\n",
       "23. 168.382534014767\n",
       "24. 177.923772703359\n",
       "25. 160.287625847082\n",
       "26. 166.892432224827\n",
       "27. 164.15985526886\n",
       "28. 157.677016990633\n",
       "29. 167.722731529732\n",
       "30. 166.205902713084\n",
       "31. 167.98605881822\n",
       "32. 169.852378345384\n",
       "33. 167.818786492323\n",
       "34. 171.908393250452\n",
       "35. 163.499560908257\n",
       "36. 157.313456732761\n",
       "37. 164.234617137984\n",
       "38. 156.002445227007\n",
       "39. 167.550750623668\n",
       "40. 164.976466649721\n",
       "41. 163.029857603074\n",
       "42. 162.050900462504\n",
       "43. 162.454127403868\n",
       "44. 163.086442366574\n",
       "45. 158.642979340392\n",
       "46. 164.676358058352\n",
       "47. 151.881738714321\n",
       "48. 164.377673091386\n",
       "49. 176.302883635745\n",
       "50. 167.081238633879\n",
       "51. 175.920717621495\n",
       "52. 171.396131763788\n",
       "53. 160.172422227822\n",
       "54. 167.320113572606\n",
       "55. 174.972336775367\n",
       "56. 164.398249155279\n",
       "57. 169.994510659599\n",
       "58. 163.597435666101\n",
       "59. 161.547916584564\n",
       "60. 172.760146513774\n",
       "61. 177.937532695848\n",
       "62. 171.860157971955\n",
       "63. 166.193876548393\n",
       "64. 153.984529334475\n",
       "65. 154.791561199387\n",
       "66. 158.945494763865\n",
       "67. 165.810324174779\n",
       "68. 159.426488408841\n",
       "69. 160.875327223211\n",
       "70. 152.809641355706\n",
       "71. 164.902131230334\n",
       "72. 165.43306793261\n",
       "73. 152.782846861384\n",
       "74. 151.80519299137\n",
       "75. 156.327736648853\n",
       "76. 170.544702171803\n",
       "77. 166.498335204043\n",
       "78. 157.167781662413\n",
       "79. 162.071457934816\n",
       "80. 160.898582544953\n",
       "81. 158.615208022885\n",
       "82. 167.55322089982\n",
       "83. 167.949267382046\n",
       "84. 167.162071180229\n",
       "85. 158.9164227743\n",
       "86. 172.505763197516\n",
       "87. 154.333897184553\n",
       "88. 167.086911638822\n",
       "89. 162.680608649499\n",
       "90. 163.869680615488\n",
       "91. 168.501092285397\n",
       "92. 163.343601666111\n",
       "93. 172.707064894425\n",
       "94. 161.454907762242\n",
       "95. 158.239754189718\n",
       "96. 156.720055108609\n",
       "97. 169.504360662308\n",
       "98. 159.524474425408\n",
       "99. 160.821207052015\n",
       "100. 159.095457356898\n",
       "101. 168.730779897483\n",
       "102. 171.808325540319\n",
       "103. 161.706287234471\n",
       "104. 164.606030817922\n",
       "105. 154.069637845465\n",
       "106. 173.699403327587\n",
       "107. 149.165644173279\n",
       "108. 162.474244743373\n",
       "109. 163.177920981558\n",
       "110. 172.919160688098\n",
       "111. 167.360872025906\n",
       "112. 173.665813834511\n",
       "113. 156.586618401005\n",
       "114. 154.304336066236\n",
       "115. 165.202055368152\n",
       "116. 162.975533220375\n",
       "117. 166.148146645187\n",
       "118. 157.51918208613\n",
       "119. 170.844485523957\n",
       "120. 175.706465524719\n",
       "121. 159.175139418462\n",
       "122. 164.77580740715\n",
       "123. 165.018911389661\n",
       "124. 171.467921513491\n",
       "125. 173.470622366579\n",
       "126. 171.713165594578\n",
       "127. 157.981440260281\n",
       "128. 167.05726286417\n",
       "129. 160.806829329255\n",
       "130. 157.425854826926\n",
       "131. 164.159959302128\n",
       "132. 162.552145354331\n",
       "133. 179.391040392401\n",
       "134. 163.014557205731\n",
       "135. 157.639949295915\n",
       "136. 173.167053644437\n",
       "137. 155.3977258478\n",
       "138. 164.601902553766\n",
       "139. 169.852833005301\n",
       "140. 166.775229418254\n",
       "141. 170.136643205235\n",
       "142. 153.68381755916\n",
       "143. 161.276528248063\n",
       "144. 169.742491991248\n",
       "145. 159.697661596429\n",
       "146. 160.255378855442\n",
       "147. 162.175764852925\n",
       "148. 171.750462776632\n",
       "149. 165.055893321871\n",
       "150. 165.299234806947\n",
       "151. 164.200802966289\n",
       "152. 158.424483390923\n",
       "153. 170.507551952483\n",
       "154. 164.516551541319\n",
       "155. 169.184387133225\n",
       "156. 151.323210252779\n",
       "157. 168.076226167987\n",
       "158. 165.95965013229\n",
       "159. 172.054211264818\n",
       "160. 166.909561528512\n",
       "161. 162.466538615012\n",
       "162. 161.674695868609\n",
       "163. 167.190920390958\n",
       "164. 174.327838666976\n",
       "165. 173.44466866437\n",
       "166. 159.767371082894\n",
       "167. 156.275993144615\n",
       "168. 171.100708950922\n",
       "169. 158.586762077354\n",
       "170. 163.898885516705\n",
       "171. 170.93218477807\n",
       "172. 166.508410867825\n",
       "173. 163.534029841805\n",
       "174. 172.739748489901\n",
       "175. 152.420701453812\n",
       "176. 161.667900019717\n",
       "177. 174.612377335568\n",
       "178. 176.900077070491\n",
       "179. 167.918534009834\n",
       "180. 168.064015799593\n",
       "181. 158.098529032021\n",
       "182. 169.29886697767\n",
       "183. 152.548451347023\n",
       "184. 169.061888241354\n",
       "185. 171.231260125152\n",
       "186. 170.45510565008\n",
       "187. 166.654265475092\n",
       "188. 166.847898355055\n",
       "189. 175.29614113474\n",
       "190. 173.847299729713\n",
       "191. 159.387003852623\n",
       "192. 171.107934722096\n",
       "193. 168.602792693641\n",
       "194. 165.229496290999\n",
       "195. 173.176865947661\n",
       "196. 177.292687822527\n",
       "197. 167.278340515201\n",
       "198. 158.801476615668\n",
       "199. 156.189295139435\n",
       "200. 164.208540920554\n",
       "201. 157.191797557761\n",
       "202. 164.160057788287\n",
       "203. 157.609654941486\n",
       "204. 161.636288141042\n",
       "205. 166.798758604145\n",
       "206. 170.591831024252\n",
       "207. 151.466565204728\n",
       "208. 160.112397668666\n",
       "209. 169.39806048306\n",
       "210. 157.966942969652\n",
       "211. 164.904206134465\n",
       "212. 161.000995741732\n",
       "213. 158.645788859249\n",
       "214. 170.358365296852\n",
       "215. 179.113372303146\n",
       "216. 165.308580049523\n",
       "217. 170.012230168937\n",
       "218. 161.722788066923\n",
       "219. 167.231099122781\n",
       "220. 175.079754415903\n",
       "221. 170.076426660339\n",
       "222. 169.128898549064\n",
       "223. 168.975462828069\n",
       "224. 158.672839375622\n",
       "225. 160.727192058854\n",
       "226. 160.361131072683\n",
       "227. 170.410956227165\n",
       "228. 164.002929306712\n",
       "229. 163.331048019896\n",
       "230. 164.758768546203\n",
       "231. 155.51940499191\n",
       "232. 165.264729699348\n",
       "233. 150.8182773496\n",
       "234. 173.114767700571\n",
       "235. 163.596714914408\n",
       "236. 159.898693586136\n",
       "237. 159.9262891127\n",
       "238. 159.633763255479\n",
       "239. 173.679094384346\n",
       "240. 157.795389637952\n",
       "241. 171.991630310264\n",
       "242. 170.404903529289\n",
       "243. 169.661257815757\n",
       "244. 160.869420281975\n",
       "245. 157.64214697091\n",
       "246. 172.52168958964\n",
       "247. 165.044131966347\n",
       "248. 152.499278268674\n",
       "249. 165.663944305418\n",
       "250. 158.253279592931\n",
       "251. 160.561598460038\n",
       "252. 155.90233165431\n",
       "253. 170.453089620059\n",
       "254. 166.374910157347\n",
       "255. 161.293397270256\n",
       "256. 165.79396985309\n",
       "257. 172.257507069676\n",
       "258. 174.704907775309\n",
       "259. 167.36158832946\n",
       "260. 165.61452982607\n",
       "\n",
       "\n"
      ],
      "text/plain": [
       "  [1] 172.1000 158.7297 158.6983 173.0207 159.3427 169.0318 160.5747 157.4002\n",
       "  [9] 177.1738 163.1489 164.0413 151.0269 163.3895 173.2195 168.1195 166.9178\n",
       " [17] 167.9820 159.3497 161.3031 168.0207 158.7617 177.6678 168.3825 177.9238\n",
       " [25] 160.2876 166.8924 164.1599 157.6770 167.7227 166.2059 167.9861 169.8524\n",
       " [33] 167.8188 171.9084 163.4996 157.3135 164.2346 156.0024 167.5508 164.9765\n",
       " [41] 163.0299 162.0509 162.4541 163.0864 158.6430 164.6764 151.8817 164.3777\n",
       " [49] 176.3029 167.0812 175.9207 171.3961 160.1724 167.3201 174.9723 164.3982\n",
       " [57] 169.9945 163.5974 161.5479 172.7601 177.9375 171.8602 166.1939 153.9845\n",
       " [65] 154.7916 158.9455 165.8103 159.4265 160.8753 152.8096 164.9021 165.4331\n",
       " [73] 152.7828 151.8052 156.3277 170.5447 166.4983 157.1678 162.0715 160.8986\n",
       " [81] 158.6152 167.5532 167.9493 167.1621 158.9164 172.5058 154.3339 167.0869\n",
       " [89] 162.6806 163.8697 168.5011 163.3436 172.7071 161.4549 158.2398 156.7201\n",
       " [97] 169.5044 159.5245 160.8212 159.0955 168.7308 171.8083 161.7063 164.6060\n",
       "[105] 154.0696 173.6994 149.1656 162.4742 163.1779 172.9192 167.3609 173.6658\n",
       "[113] 156.5866 154.3043 165.2021 162.9755 166.1481 157.5192 170.8445 175.7065\n",
       "[121] 159.1751 164.7758 165.0189 171.4679 173.4706 171.7132 157.9814 167.0573\n",
       "[129] 160.8068 157.4259 164.1600 162.5521 179.3910 163.0146 157.6399 173.1671\n",
       "[137] 155.3977 164.6019 169.8528 166.7752 170.1366 153.6838 161.2765 169.7425\n",
       "[145] 159.6977 160.2554 162.1758 171.7505 165.0559 165.2992 164.2008 158.4245\n",
       "[153] 170.5076 164.5166 169.1844 151.3232 168.0762 165.9597 172.0542 166.9096\n",
       "[161] 162.4665 161.6747 167.1909 174.3278 173.4447 159.7674 156.2760 171.1007\n",
       "[169] 158.5868 163.8989 170.9322 166.5084 163.5340 172.7397 152.4207 161.6679\n",
       "[177] 174.6124 176.9001 167.9185 168.0640 158.0985 169.2989 152.5485 169.0619\n",
       "[185] 171.2313 170.4551 166.6543 166.8479 175.2961 173.8473 159.3870 171.1079\n",
       "[193] 168.6028 165.2295 173.1769 177.2927 167.2783 158.8015 156.1893 164.2085\n",
       "[201] 157.1918 164.1601 157.6097 161.6363 166.7988 170.5918 151.4666 160.1124\n",
       "[209] 169.3981 157.9669 164.9042 161.0010 158.6458 170.3584 179.1134 165.3086\n",
       "[217] 170.0122 161.7228 167.2311 175.0798 170.0764 169.1289 168.9755 158.6728\n",
       "[225] 160.7272 160.3611 170.4110 164.0029 163.3310 164.7588 155.5194 165.2647\n",
       "[233] 150.8183 173.1148 163.5967 159.8987 159.9263 159.6338 173.6791 157.7954\n",
       "[241] 171.9916 170.4049 169.6613 160.8694 157.6421 172.5217 165.0441 152.4993\n",
       "[249] 165.6639 158.2533 160.5616 155.9023 170.4531 166.3749 161.2934 165.7940\n",
       "[257] 172.2575 174.7049 167.3616 165.6145"
      ]
     },
     "metadata": {},
     "output_type": "display_data"
    }
   ],
   "source": [
    "sim_norm <- rnorm(n = length(fdims$hgt), mean = mean(fdims$hgt), sd = sd(fdims$hgt))\n",
    "sim_norm"
   ]
  },
  {
   "cell_type": "markdown",
   "metadata": {},
   "source": [
    "Even better than comparing the original plot to a single plot generated from a normal distribution is to compare it to many more plots using the following function. This function \"repeats\" the command 9 times."
   ]
  },
  {
   "cell_type": "code",
   "execution_count": 42,
   "metadata": {},
   "outputs": [],
   "source": [
    "qqnormsim <- function (dat) \n",
    "{\n",
    "    par(mfrow = c(3, 3))\n",
    "    qqnorm(dat, main = \"Normal QQ Plot (Data)\")\n",
    "    qqline(dat)\n",
    "    for (i in 1:8) {\n",
    "        simnorm <- rnorm(n = length(dat), mean = mean(dat), sd = sd(dat))\n",
    "        qqnorm(simnorm, main = \"Normal QQ Plot (Sim)\")\n",
    "        qqline(simnorm)\n",
    "    }\n",
    "    par(mfrow = c(1, 1))\n",
    "}"
   ]
  },
  {
   "cell_type": "code",
   "execution_count": 43,
   "metadata": {},
   "outputs": [
    {
     "data": {
      "image/png": "[encoded data removed]",
      "text/plain": [
       "Plot with title “Normal QQ Plot (Sim)”"
      ]
     },
     "metadata": {
      "image/png": {
       "height": 420,
       "width": 420
      }
     },
     "output_type": "display_data"
    }
   ],
   "source": [
    "qqnormsim(fdims$hgt)"
   ]
  },
  {
   "cell_type": "markdown",
   "metadata": {},
   "source": [
    "We can find this probability by calculating a **Z score ($z=\\frac{x-\\mu}{\\sigma}$)**  and consulting a Z table (also called a normal probability table). In R, this is done in one step with the function pnorm."
   ]
  },
  {
   "cell_type": "code",
   "execution_count": 45,
   "metadata": {},
   "outputs": [
    {
     "data": {
      "text/html": [
       "0.00443438691868725"
      ],
      "text/latex": [
       "0.00443438691868725"
      ],
      "text/markdown": [
       "0.00443438691868725"
      ],
      "text/plain": [
       "[1] 0.004434387"
      ]
     },
     "metadata": {},
     "output_type": "display_data"
    }
   ],
   "source": [
    "1 - pnorm(q = 182, mean = mean(fdims$hgt), sd = sd(fdims$hgt))"
   ]
  },
  {
   "cell_type": "markdown",
   "metadata": {},
   "source": [
    "**If we want to calculate the probability empirically, we simply need to determine how many observations fall above 182 then divide this number by the total sample size.**"
   ]
  },
  {
   "cell_type": "code",
   "execution_count": 46,
   "metadata": {},
   "outputs": [
    {
     "data": {
      "text/html": [
       "0.00384615384615385"
      ],
      "text/latex": [
       "0.00384615384615385"
      ],
      "text/markdown": [
       "0.00384615384615385"
      ],
      "text/plain": [
       "[1] 0.003846154"
      ]
     },
     "metadata": {},
     "output_type": "display_data"
    }
   ],
   "source": [
    "sum(fdims$hgt > 182) / length(fdims$hgt)"
   ]
  },
  {
   "cell_type": "markdown",
   "metadata": {},
   "source": [
    "Now, let  𝑛=10  and  𝑝=1/2 , so that Y is binomial(10, .5). What is the probability that exactly five people approve of the job the prime minister is doing?"
   ]
  },
  {
   "cell_type": "code",
   "execution_count": 47,
   "metadata": {},
   "outputs": [
    {
     "data": {
      "text/html": [
       "0.24609375"
      ],
      "text/latex": [
       "0.24609375"
      ],
      "text/markdown": [
       "0.24609375"
      ],
      "text/plain": [
       "[1] 0.2460937"
      ]
     },
     "metadata": {},
     "output_type": "display_data"
    }
   ],
   "source": [
    "pbinom(5,10,0.5)-pbinom(4,10,0.5)"
   ]
  },
  {
   "cell_type": "markdown",
   "metadata": {},
   "source": [
    "#### Central Limit Theorem \n",
    "\n",
    "$$\n",
    "\\begin{aligned} P(Y=5)=P(4.5<Y<5.5) &=P\\left(\\frac{4.5-5}{\\sqrt{2.5}}<Z<\\frac{5.5 .-5}{\\sqrt{2.5}}\\right) \\\\ &=P(-0.32<Z<0.32) \\\\ &=P(Z<0.32)-P(Z<-0.32) \\\\ &=P(Z<0.32)-P(Z>0.32) \\end{aligned}\n",
    "$$"
   ]
  },
  {
   "cell_type": "code",
   "execution_count": null,
   "metadata": {},
   "outputs": [],
   "source": []
  }
 ],
 "metadata": {
  "kernelspec": {
   "display_name": "R",
   "language": "R",
   "name": "ir"
  },
  "language_info": {
   "codemirror_mode": "r",
   "file_extension": ".r",
   "mimetype": "text/x-r-source",
   "name": "R",
   "pygments_lexer": "r",
   "version": "4.0.3"
  }
 },
 "nbformat": 4,
 "nbformat_minor": 4
}
