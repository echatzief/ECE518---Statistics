{
 "cells": [
  {
   "cell_type": "markdown",
   "metadata": {},
   "source": [
    "# Probability & Distributions\n",
    "\n",
    "\n",
    "    how to simulate a random process\n",
    "    how to plot the distribution of a variable\n",
    "    how to assess the distribution of a variable\n",
    "\n",
    "\n",
    "## Simulations in R: Basics\n",
    "Random processes are very easy to simulate in R. In a simulation, you set the ground rules of a random process and then the computer uses random numbers to generate an outcome that adheres to those rules. As a simple example, you can simulate flipping a fair coin with the following."
   ]
  },
  {
   "cell_type": "code",
   "execution_count": 1,
   "metadata": {},
   "outputs": [
    {
     "data": {
      "text/html": [
       "'tails'"
      ],
      "text/latex": [
       "'tails'"
      ],
      "text/markdown": [
       "'tails'"
      ],
      "text/plain": [
       "[1] \"tails\""
      ]
     },
     "metadata": {},
     "output_type": "display_data"
    }
   ],
   "source": [
    "outcomes <- c(\"heads\", \"tails\")\n",
    "sample(outcomes, size = 1, replace = TRUE)"
   ]
  },
  {
   "cell_type": "markdown",
   "metadata": {},
   "source": [
    "The vector outcomes can be thought of as a hat with two slips of paper in it: one slip says heads and the other says tails. The function sample draws one slip from the hat and tells us if it was a head or a tail.\n",
    "\n",
    "Run the second command listed above several times. Just like when flipping a coin, sometimes you’ll get a heads, sometimes you’ll get a tails, but in the long run, you’d expect to get roughly equal numbers of each.\n",
    "\n",
    "If you wanted to simulate flipping a fair coin 100 times, you could either run the function 100 times or, more simply, adjust the size argument, which governs how many samples to draw (the replace = TRUE argument indicates we put the slip of paper back in the hat before drawing again). Save the resulting vector of heads and tails in a new object called sim_fair_coin."
   ]
  },
  {
   "cell_type": "code",
   "execution_count": 2,
   "metadata": {},
   "outputs": [],
   "source": [
    "sim_fair_coin <- sample(outcomes, size = 100, replace = TRUE)"
   ]
  },
  {
   "cell_type": "code",
   "execution_count": 3,
   "metadata": {},
   "outputs": [
    {
     "data": {
      "text/html": [
       "<ol class=list-inline>\n",
       "\t<li>'tails'</li>\n",
       "\t<li>'tails'</li>\n",
       "\t<li>'heads'</li>\n",
       "\t<li>'heads'</li>\n",
       "\t<li>'heads'</li>\n",
       "\t<li>'tails'</li>\n",
       "\t<li>'heads'</li>\n",
       "\t<li>'heads'</li>\n",
       "\t<li>'heads'</li>\n",
       "\t<li>'heads'</li>\n",
       "\t<li>'heads'</li>\n",
       "\t<li>'heads'</li>\n",
       "\t<li>'heads'</li>\n",
       "\t<li>'heads'</li>\n",
       "\t<li>'heads'</li>\n",
       "\t<li>'heads'</li>\n",
       "\t<li>'heads'</li>\n",
       "\t<li>'tails'</li>\n",
       "\t<li>'heads'</li>\n",
       "\t<li>'tails'</li>\n",
       "\t<li>'heads'</li>\n",
       "\t<li>'tails'</li>\n",
       "\t<li>'heads'</li>\n",
       "\t<li>'tails'</li>\n",
       "\t<li>'heads'</li>\n",
       "\t<li>'tails'</li>\n",
       "\t<li>'heads'</li>\n",
       "\t<li>'tails'</li>\n",
       "\t<li>'heads'</li>\n",
       "\t<li>'tails'</li>\n",
       "\t<li>'heads'</li>\n",
       "\t<li>'heads'</li>\n",
       "\t<li>'tails'</li>\n",
       "\t<li>'heads'</li>\n",
       "\t<li>'tails'</li>\n",
       "\t<li>'tails'</li>\n",
       "\t<li>'heads'</li>\n",
       "\t<li>'heads'</li>\n",
       "\t<li>'tails'</li>\n",
       "\t<li>'heads'</li>\n",
       "\t<li>'heads'</li>\n",
       "\t<li>'heads'</li>\n",
       "\t<li>'tails'</li>\n",
       "\t<li>'heads'</li>\n",
       "\t<li>'heads'</li>\n",
       "\t<li>'tails'</li>\n",
       "\t<li>'heads'</li>\n",
       "\t<li>'heads'</li>\n",
       "\t<li>'tails'</li>\n",
       "\t<li>'tails'</li>\n",
       "\t<li>'tails'</li>\n",
       "\t<li>'heads'</li>\n",
       "\t<li>'tails'</li>\n",
       "\t<li>'tails'</li>\n",
       "\t<li>'heads'</li>\n",
       "\t<li>'heads'</li>\n",
       "\t<li>'heads'</li>\n",
       "\t<li>'heads'</li>\n",
       "\t<li>'tails'</li>\n",
       "\t<li>'tails'</li>\n",
       "\t<li>'tails'</li>\n",
       "\t<li>'heads'</li>\n",
       "\t<li>'heads'</li>\n",
       "\t<li>'heads'</li>\n",
       "\t<li>'tails'</li>\n",
       "\t<li>'tails'</li>\n",
       "\t<li>'tails'</li>\n",
       "\t<li>'tails'</li>\n",
       "\t<li>'tails'</li>\n",
       "\t<li>'tails'</li>\n",
       "\t<li>'heads'</li>\n",
       "\t<li>'heads'</li>\n",
       "\t<li>'heads'</li>\n",
       "\t<li>'tails'</li>\n",
       "\t<li>'tails'</li>\n",
       "\t<li>'tails'</li>\n",
       "\t<li>'tails'</li>\n",
       "\t<li>'tails'</li>\n",
       "\t<li>'tails'</li>\n",
       "\t<li>'tails'</li>\n",
       "\t<li>'heads'</li>\n",
       "\t<li>'heads'</li>\n",
       "\t<li>'heads'</li>\n",
       "\t<li>'heads'</li>\n",
       "\t<li>'heads'</li>\n",
       "\t<li>'heads'</li>\n",
       "\t<li>'heads'</li>\n",
       "\t<li>'heads'</li>\n",
       "\t<li>'heads'</li>\n",
       "\t<li>'heads'</li>\n",
       "\t<li>'tails'</li>\n",
       "\t<li>'tails'</li>\n",
       "\t<li>'tails'</li>\n",
       "\t<li>'tails'</li>\n",
       "\t<li>'heads'</li>\n",
       "\t<li>'tails'</li>\n",
       "\t<li>'heads'</li>\n",
       "\t<li>'heads'</li>\n",
       "\t<li>'heads'</li>\n",
       "\t<li>'tails'</li>\n",
       "</ol>\n"
      ],
      "text/latex": [
       "\\begin{enumerate*}\n",
       "\\item 'tails'\n",
       "\\item 'tails'\n",
       "\\item 'heads'\n",
       "\\item 'heads'\n",
       "\\item 'heads'\n",
       "\\item 'tails'\n",
       "\\item 'heads'\n",
       "\\item 'heads'\n",
       "\\item 'heads'\n",
       "\\item 'heads'\n",
       "\\item 'heads'\n",
       "\\item 'heads'\n",
       "\\item 'heads'\n",
       "\\item 'heads'\n",
       "\\item 'heads'\n",
       "\\item 'heads'\n",
       "\\item 'heads'\n",
       "\\item 'tails'\n",
       "\\item 'heads'\n",
       "\\item 'tails'\n",
       "\\item 'heads'\n",
       "\\item 'tails'\n",
       "\\item 'heads'\n",
       "\\item 'tails'\n",
       "\\item 'heads'\n",
       "\\item 'tails'\n",
       "\\item 'heads'\n",
       "\\item 'tails'\n",
       "\\item 'heads'\n",
       "\\item 'tails'\n",
       "\\item 'heads'\n",
       "\\item 'heads'\n",
       "\\item 'tails'\n",
       "\\item 'heads'\n",
       "\\item 'tails'\n",
       "\\item 'tails'\n",
       "\\item 'heads'\n",
       "\\item 'heads'\n",
       "\\item 'tails'\n",
       "\\item 'heads'\n",
       "\\item 'heads'\n",
       "\\item 'heads'\n",
       "\\item 'tails'\n",
       "\\item 'heads'\n",
       "\\item 'heads'\n",
       "\\item 'tails'\n",
       "\\item 'heads'\n",
       "\\item 'heads'\n",
       "\\item 'tails'\n",
       "\\item 'tails'\n",
       "\\item 'tails'\n",
       "\\item 'heads'\n",
       "\\item 'tails'\n",
       "\\item 'tails'\n",
       "\\item 'heads'\n",
       "\\item 'heads'\n",
       "\\item 'heads'\n",
       "\\item 'heads'\n",
       "\\item 'tails'\n",
       "\\item 'tails'\n",
       "\\item 'tails'\n",
       "\\item 'heads'\n",
       "\\item 'heads'\n",
       "\\item 'heads'\n",
       "\\item 'tails'\n",
       "\\item 'tails'\n",
       "\\item 'tails'\n",
       "\\item 'tails'\n",
       "\\item 'tails'\n",
       "\\item 'tails'\n",
       "\\item 'heads'\n",
       "\\item 'heads'\n",
       "\\item 'heads'\n",
       "\\item 'tails'\n",
       "\\item 'tails'\n",
       "\\item 'tails'\n",
       "\\item 'tails'\n",
       "\\item 'tails'\n",
       "\\item 'tails'\n",
       "\\item 'tails'\n",
       "\\item 'heads'\n",
       "\\item 'heads'\n",
       "\\item 'heads'\n",
       "\\item 'heads'\n",
       "\\item 'heads'\n",
       "\\item 'heads'\n",
       "\\item 'heads'\n",
       "\\item 'heads'\n",
       "\\item 'heads'\n",
       "\\item 'heads'\n",
       "\\item 'tails'\n",
       "\\item 'tails'\n",
       "\\item 'tails'\n",
       "\\item 'tails'\n",
       "\\item 'heads'\n",
       "\\item 'tails'\n",
       "\\item 'heads'\n",
       "\\item 'heads'\n",
       "\\item 'heads'\n",
       "\\item 'tails'\n",
       "\\end{enumerate*}\n"
      ],
      "text/markdown": [
       "1. 'tails'\n",
       "2. 'tails'\n",
       "3. 'heads'\n",
       "4. 'heads'\n",
       "5. 'heads'\n",
       "6. 'tails'\n",
       "7. 'heads'\n",
       "8. 'heads'\n",
       "9. 'heads'\n",
       "10. 'heads'\n",
       "11. 'heads'\n",
       "12. 'heads'\n",
       "13. 'heads'\n",
       "14. 'heads'\n",
       "15. 'heads'\n",
       "16. 'heads'\n",
       "17. 'heads'\n",
       "18. 'tails'\n",
       "19. 'heads'\n",
       "20. 'tails'\n",
       "21. 'heads'\n",
       "22. 'tails'\n",
       "23. 'heads'\n",
       "24. 'tails'\n",
       "25. 'heads'\n",
       "26. 'tails'\n",
       "27. 'heads'\n",
       "28. 'tails'\n",
       "29. 'heads'\n",
       "30. 'tails'\n",
       "31. 'heads'\n",
       "32. 'heads'\n",
       "33. 'tails'\n",
       "34. 'heads'\n",
       "35. 'tails'\n",
       "36. 'tails'\n",
       "37. 'heads'\n",
       "38. 'heads'\n",
       "39. 'tails'\n",
       "40. 'heads'\n",
       "41. 'heads'\n",
       "42. 'heads'\n",
       "43. 'tails'\n",
       "44. 'heads'\n",
       "45. 'heads'\n",
       "46. 'tails'\n",
       "47. 'heads'\n",
       "48. 'heads'\n",
       "49. 'tails'\n",
       "50. 'tails'\n",
       "51. 'tails'\n",
       "52. 'heads'\n",
       "53. 'tails'\n",
       "54. 'tails'\n",
       "55. 'heads'\n",
       "56. 'heads'\n",
       "57. 'heads'\n",
       "58. 'heads'\n",
       "59. 'tails'\n",
       "60. 'tails'\n",
       "61. 'tails'\n",
       "62. 'heads'\n",
       "63. 'heads'\n",
       "64. 'heads'\n",
       "65. 'tails'\n",
       "66. 'tails'\n",
       "67. 'tails'\n",
       "68. 'tails'\n",
       "69. 'tails'\n",
       "70. 'tails'\n",
       "71. 'heads'\n",
       "72. 'heads'\n",
       "73. 'heads'\n",
       "74. 'tails'\n",
       "75. 'tails'\n",
       "76. 'tails'\n",
       "77. 'tails'\n",
       "78. 'tails'\n",
       "79. 'tails'\n",
       "80. 'tails'\n",
       "81. 'heads'\n",
       "82. 'heads'\n",
       "83. 'heads'\n",
       "84. 'heads'\n",
       "85. 'heads'\n",
       "86. 'heads'\n",
       "87. 'heads'\n",
       "88. 'heads'\n",
       "89. 'heads'\n",
       "90. 'heads'\n",
       "91. 'tails'\n",
       "92. 'tails'\n",
       "93. 'tails'\n",
       "94. 'tails'\n",
       "95. 'heads'\n",
       "96. 'tails'\n",
       "97. 'heads'\n",
       "98. 'heads'\n",
       "99. 'heads'\n",
       "100. 'tails'\n",
       "\n",
       "\n"
      ],
      "text/plain": [
       "  [1] \"tails\" \"tails\" \"heads\" \"heads\" \"heads\" \"tails\" \"heads\" \"heads\" \"heads\"\n",
       " [10] \"heads\" \"heads\" \"heads\" \"heads\" \"heads\" \"heads\" \"heads\" \"heads\" \"tails\"\n",
       " [19] \"heads\" \"tails\" \"heads\" \"tails\" \"heads\" \"tails\" \"heads\" \"tails\" \"heads\"\n",
       " [28] \"tails\" \"heads\" \"tails\" \"heads\" \"heads\" \"tails\" \"heads\" \"tails\" \"tails\"\n",
       " [37] \"heads\" \"heads\" \"tails\" \"heads\" \"heads\" \"heads\" \"tails\" \"heads\" \"heads\"\n",
       " [46] \"tails\" \"heads\" \"heads\" \"tails\" \"tails\" \"tails\" \"heads\" \"tails\" \"tails\"\n",
       " [55] \"heads\" \"heads\" \"heads\" \"heads\" \"tails\" \"tails\" \"tails\" \"heads\" \"heads\"\n",
       " [64] \"heads\" \"tails\" \"tails\" \"tails\" \"tails\" \"tails\" \"tails\" \"heads\" \"heads\"\n",
       " [73] \"heads\" \"tails\" \"tails\" \"tails\" \"tails\" \"tails\" \"tails\" \"tails\" \"heads\"\n",
       " [82] \"heads\" \"heads\" \"heads\" \"heads\" \"heads\" \"heads\" \"heads\" \"heads\" \"heads\"\n",
       " [91] \"tails\" \"tails\" \"tails\" \"tails\" \"heads\" \"tails\" \"heads\" \"heads\" \"heads\"\n",
       "[100] \"tails\""
      ]
     },
     "metadata": {},
     "output_type": "display_data"
    }
   ],
   "source": [
    "sim_fair_coin"
   ]
  },
  {
   "cell_type": "markdown",
   "metadata": {},
   "source": [
    "To view the results of this simulation, type the name of the object and then use table to count up the number of heads and tails."
   ]
  },
  {
   "cell_type": "code",
   "execution_count": 4,
   "metadata": {},
   "outputs": [
    {
     "data": {
      "text/plain": [
       "sim_fair_coin\n",
       "heads tails \n",
       "   57    43 "
      ]
     },
     "metadata": {},
     "output_type": "display_data"
    }
   ],
   "source": [
    "table(sim_fair_coin)"
   ]
  },
  {
   "cell_type": "markdown",
   "metadata": {},
   "source": [
    "Since there are only two elements in outcomes, the probability that we “flip” a coin and it lands heads is 0.5. Say we’re trying to simulate an unfair coin that we know only lands heads 20% of the time. We can adjust for this by adding an argument called prob, which provides a vector of two probability weights."
   ]
  },
  {
   "cell_type": "code",
   "execution_count": 5,
   "metadata": {},
   "outputs": [],
   "source": [
    "sim_unfair_coin <- sample(outcomes, size = 100, replace = TRUE, prob = c(0.2, 0.8))"
   ]
  },
  {
   "cell_type": "markdown",
   "metadata": {},
   "source": [
    "prob = c(0.2, 0.8) indicates that for the two elements in the outcomes vector, we want to select the first one, heads, with probability 0.2 and the second one, tails with probability 0.8. Another way of thinking about this is to think of the outcome space as a bag of 10 chips, where 2 chips are labeled “head” and 8 chips “tail”. Therefore at each draw, the probability of drawing a chip that says “head”\" is 20%, and “tail” is 80%.\n",
    "\n",
    "In a sense, we’ve shrunken the size of the slip of paper that says “heads”, making it less likely to be drawn and we’ve increased the size of the slip of paper saying “tails”, making it more likely to be drawn. When we simulated the fair coin, both slips of paper were the same size. This happens by default if you don’t provide a prob argument; all elements in the outcomes vector have an equal probability of being drawn.\n",
    "\n",
    "If you want to learn more about sample or any other function, recall that you can always check out its help file."
   ]
  },
  {
   "cell_type": "code",
   "execution_count": 6,
   "metadata": {},
   "outputs": [],
   "source": [
    "?sample"
   ]
  },
  {
   "cell_type": "markdown",
   "metadata": {},
   "source": [
    "# Continuous Probability Distributions\n",
    "\n",
    "Continuous random variables and their associated distributions are a bit trickier. Unlike the discrete probability distributions, the probability associated with any particular value $x$ of the random variable $X$ is 0; the probability for a continuous random variable is only positive when computed over an interval.  \n",
    "\n",
    "Thus, like discrete distributions, continuous distributions can be characterized by their **cumulative distribution function**  $P(X\\leq x) = \\int_{-\\infty}^{x}{p(y)\\ dy}$, where the function $p$ is called the **probability _density_  function**  of $X$. Continuous random variables are often described directly in terms of their PDFs, but we must take care to remember that these functions represent densities rather than probabilities.\n",
    "\n",
    "Like probabilities, densities are bounded below by zero (e.g., $p(x)\\geq 0$), but they are not bounded above. However, the integrals of these densities (the CDFs) _are_ probability measures and adhere to all the axioms and associated properties listed above.\n",
    "\n",
    "In the https://cran.r-project.org/web/views/Distributions.html you will find the distributions supported in R. The most important ones for this course have been defined in the previous lesson about discrete distributions.\n",
    "\n",
    "Here, I'll simply go through a few of the most common.\n",
    "\n",
    "# Uniform\n",
    "Again, the most trivial form of PDF is the continuous uniform distribution. This is a density for a variable that has probability over a finite interval from $a$ to $b$ with constant density over that interval. The PDF is defined as\n",
    "\n",
    "$p(x) = \\frac{1}{b-a},\\text{ for } a\\leq x\\leq b$\n",
    "\n"
   ]
  },
  {
   "cell_type": "markdown",
   "metadata": {},
   "source": [
    "# Normal distributions of variables\n",
    "\n",
    "In this tutorial, we’ll investigate the probability distribution that is most central to statistics: **the normal distribution**. If we are confident that our data are nearly normal, that opens the door to many powerful statistical methods. Here we’ll use the graphical tools of R to assess the normality of our data and also learn how to generate random numbers from a normal distribution.\n",
    "\n",
    "# The Data\n",
    "As an example, we’ll be working with measurements of body dimensions. This data set contains measurements from 247 men and 260 women, most of whom were considered healthy young adults."
   ]
  },
  {
   "cell_type": "code",
   "execution_count": 10,
   "metadata": {},
   "outputs": [
    {
     "data": {
      "text/html": [
       "<table>\n",
       "<caption>A data.frame: 6 × 25</caption>\n",
       "<thead>\n",
       "\t<tr><th scope=col>bia.di</th><th scope=col>bii.di</th><th scope=col>bit.di</th><th scope=col>che.de</th><th scope=col>che.di</th><th scope=col>elb.di</th><th scope=col>wri.di</th><th scope=col>kne.di</th><th scope=col>ank.di</th><th scope=col>sho.gi</th><th scope=col>⋯</th><th scope=col>bic.gi</th><th scope=col>for.gi</th><th scope=col>kne.gi</th><th scope=col>cal.gi</th><th scope=col>ank.gi</th><th scope=col>wri.gi</th><th scope=col>age</th><th scope=col>wgt</th><th scope=col>hgt</th><th scope=col>sex</th></tr>\n",
       "\t<tr><th scope=col>&lt;dbl&gt;</th><th scope=col>&lt;dbl&gt;</th><th scope=col>&lt;dbl&gt;</th><th scope=col>&lt;dbl&gt;</th><th scope=col>&lt;dbl&gt;</th><th scope=col>&lt;dbl&gt;</th><th scope=col>&lt;dbl&gt;</th><th scope=col>&lt;dbl&gt;</th><th scope=col>&lt;dbl&gt;</th><th scope=col>&lt;dbl&gt;</th><th scope=col>⋯</th><th scope=col>&lt;dbl&gt;</th><th scope=col>&lt;dbl&gt;</th><th scope=col>&lt;dbl&gt;</th><th scope=col>&lt;dbl&gt;</th><th scope=col>&lt;dbl&gt;</th><th scope=col>&lt;dbl&gt;</th><th scope=col>&lt;int&gt;</th><th scope=col>&lt;dbl&gt;</th><th scope=col>&lt;dbl&gt;</th><th scope=col>&lt;int&gt;</th></tr>\n",
       "</thead>\n",
       "<tbody>\n",
       "\t<tr><td>42.9</td><td>26.0</td><td>31.5</td><td>17.7</td><td>28.0</td><td>13.1</td><td>10.4</td><td>18.8</td><td>14.1</td><td>106.2</td><td>⋯</td><td>32.5</td><td>26.0</td><td>34.5</td><td>36.5</td><td>23.5</td><td>16.5</td><td>21</td><td>65.6</td><td>174.0</td><td>1</td></tr>\n",
       "\t<tr><td>43.7</td><td>28.5</td><td>33.5</td><td>16.9</td><td>30.8</td><td>14.0</td><td>11.8</td><td>20.6</td><td>15.1</td><td>110.5</td><td>⋯</td><td>34.4</td><td>28.0</td><td>36.5</td><td>37.5</td><td>24.5</td><td>17.0</td><td>23</td><td>71.8</td><td>175.3</td><td>1</td></tr>\n",
       "\t<tr><td>40.1</td><td>28.2</td><td>33.3</td><td>20.9</td><td>31.7</td><td>13.9</td><td>10.9</td><td>19.7</td><td>14.1</td><td>115.1</td><td>⋯</td><td>33.4</td><td>28.8</td><td>37.0</td><td>37.3</td><td>21.9</td><td>16.9</td><td>28</td><td>80.7</td><td>193.5</td><td>1</td></tr>\n",
       "\t<tr><td>44.3</td><td>29.9</td><td>34.0</td><td>18.4</td><td>28.2</td><td>13.9</td><td>11.2</td><td>20.9</td><td>15.0</td><td>104.5</td><td>⋯</td><td>31.0</td><td>26.2</td><td>37.0</td><td>34.8</td><td>23.0</td><td>16.6</td><td>23</td><td>72.6</td><td>186.5</td><td>1</td></tr>\n",
       "\t<tr><td>42.5</td><td>29.9</td><td>34.0</td><td>21.5</td><td>29.4</td><td>15.2</td><td>11.6</td><td>20.7</td><td>14.9</td><td>107.5</td><td>⋯</td><td>32.0</td><td>28.4</td><td>37.7</td><td>38.6</td><td>24.4</td><td>18.0</td><td>22</td><td>78.8</td><td>187.2</td><td>1</td></tr>\n",
       "\t<tr><td>43.3</td><td>27.0</td><td>31.5</td><td>19.6</td><td>31.3</td><td>14.0</td><td>11.5</td><td>18.8</td><td>13.9</td><td>119.8</td><td>⋯</td><td>33.0</td><td>28.0</td><td>36.6</td><td>36.1</td><td>23.5</td><td>16.9</td><td>21</td><td>74.8</td><td>181.5</td><td>1</td></tr>\n",
       "</tbody>\n",
       "</table>\n"
      ],
      "text/latex": [
       "A data.frame: 6 × 25\n",
       "\\begin{tabular}{r|lllllllllllllllllllllllll}\n",
       " bia.di & bii.di & bit.di & che.de & che.di & elb.di & wri.di & kne.di & ank.di & sho.gi & che.gi & wai.gi & nav.gi & hip.gi & thi.gi & bic.gi & for.gi & kne.gi & cal.gi & ank.gi & wri.gi & age & wgt & hgt & sex\\\\\n",
       " <dbl> & <dbl> & <dbl> & <dbl> & <dbl> & <dbl> & <dbl> & <dbl> & <dbl> & <dbl> & <dbl> & <dbl> & <dbl> & <dbl> & <dbl> & <dbl> & <dbl> & <dbl> & <dbl> & <dbl> & <dbl> & <int> & <dbl> & <dbl> & <int>\\\\\n",
       "\\hline\n",
       "\t 42.9 & 26.0 & 31.5 & 17.7 & 28.0 & 13.1 & 10.4 & 18.8 & 14.1 & 106.2 & 89.5 & 71.5 & 74.5 & 93.5 & 51.5 & 32.5 & 26.0 & 34.5 & 36.5 & 23.5 & 16.5 & 21 & 65.6 & 174.0 & 1\\\\\n",
       "\t 43.7 & 28.5 & 33.5 & 16.9 & 30.8 & 14.0 & 11.8 & 20.6 & 15.1 & 110.5 & 97.0 & 79.0 & 86.5 & 94.8 & 51.5 & 34.4 & 28.0 & 36.5 & 37.5 & 24.5 & 17.0 & 23 & 71.8 & 175.3 & 1\\\\\n",
       "\t 40.1 & 28.2 & 33.3 & 20.9 & 31.7 & 13.9 & 10.9 & 19.7 & 14.1 & 115.1 & 97.5 & 83.2 & 82.9 & 95.0 & 57.3 & 33.4 & 28.8 & 37.0 & 37.3 & 21.9 & 16.9 & 28 & 80.7 & 193.5 & 1\\\\\n",
       "\t 44.3 & 29.9 & 34.0 & 18.4 & 28.2 & 13.9 & 11.2 & 20.9 & 15.0 & 104.5 & 97.0 & 77.8 & 78.8 & 94.0 & 53.0 & 31.0 & 26.2 & 37.0 & 34.8 & 23.0 & 16.6 & 23 & 72.6 & 186.5 & 1\\\\\n",
       "\t 42.5 & 29.9 & 34.0 & 21.5 & 29.4 & 15.2 & 11.6 & 20.7 & 14.9 & 107.5 & 97.5 & 80.0 & 82.5 & 98.5 & 55.4 & 32.0 & 28.4 & 37.7 & 38.6 & 24.4 & 18.0 & 22 & 78.8 & 187.2 & 1\\\\\n",
       "\t 43.3 & 27.0 & 31.5 & 19.6 & 31.3 & 14.0 & 11.5 & 18.8 & 13.9 & 119.8 & 99.9 & 82.5 & 80.1 & 95.3 & 57.5 & 33.0 & 28.0 & 36.6 & 36.1 & 23.5 & 16.9 & 21 & 74.8 & 181.5 & 1\\\\\n",
       "\\end{tabular}\n"
      ],
      "text/markdown": [
       "\n",
       "A data.frame: 6 × 25\n",
       "\n",
       "| bia.di &lt;dbl&gt; | bii.di &lt;dbl&gt; | bit.di &lt;dbl&gt; | che.de &lt;dbl&gt; | che.di &lt;dbl&gt; | elb.di &lt;dbl&gt; | wri.di &lt;dbl&gt; | kne.di &lt;dbl&gt; | ank.di &lt;dbl&gt; | sho.gi &lt;dbl&gt; | ⋯ ⋯ | bic.gi &lt;dbl&gt; | for.gi &lt;dbl&gt; | kne.gi &lt;dbl&gt; | cal.gi &lt;dbl&gt; | ank.gi &lt;dbl&gt; | wri.gi &lt;dbl&gt; | age &lt;int&gt; | wgt &lt;dbl&gt; | hgt &lt;dbl&gt; | sex &lt;int&gt; |\n",
       "|---|---|---|---|---|---|---|---|---|---|---|---|---|---|---|---|---|---|---|---|---|\n",
       "| 42.9 | 26.0 | 31.5 | 17.7 | 28.0 | 13.1 | 10.4 | 18.8 | 14.1 | 106.2 | ⋯ | 32.5 | 26.0 | 34.5 | 36.5 | 23.5 | 16.5 | 21 | 65.6 | 174.0 | 1 |\n",
       "| 43.7 | 28.5 | 33.5 | 16.9 | 30.8 | 14.0 | 11.8 | 20.6 | 15.1 | 110.5 | ⋯ | 34.4 | 28.0 | 36.5 | 37.5 | 24.5 | 17.0 | 23 | 71.8 | 175.3 | 1 |\n",
       "| 40.1 | 28.2 | 33.3 | 20.9 | 31.7 | 13.9 | 10.9 | 19.7 | 14.1 | 115.1 | ⋯ | 33.4 | 28.8 | 37.0 | 37.3 | 21.9 | 16.9 | 28 | 80.7 | 193.5 | 1 |\n",
       "| 44.3 | 29.9 | 34.0 | 18.4 | 28.2 | 13.9 | 11.2 | 20.9 | 15.0 | 104.5 | ⋯ | 31.0 | 26.2 | 37.0 | 34.8 | 23.0 | 16.6 | 23 | 72.6 | 186.5 | 1 |\n",
       "| 42.5 | 29.9 | 34.0 | 21.5 | 29.4 | 15.2 | 11.6 | 20.7 | 14.9 | 107.5 | ⋯ | 32.0 | 28.4 | 37.7 | 38.6 | 24.4 | 18.0 | 22 | 78.8 | 187.2 | 1 |\n",
       "| 43.3 | 27.0 | 31.5 | 19.6 | 31.3 | 14.0 | 11.5 | 18.8 | 13.9 | 119.8 | ⋯ | 33.0 | 28.0 | 36.6 | 36.1 | 23.5 | 16.9 | 21 | 74.8 | 181.5 | 1 |\n",
       "\n"
      ],
      "text/plain": [
       "  bia.di bii.di bit.di che.de che.di elb.di wri.di kne.di ank.di sho.gi\n",
       "1 42.9   26.0   31.5   17.7   28.0   13.1   10.4   18.8   14.1   106.2 \n",
       "2 43.7   28.5   33.5   16.9   30.8   14.0   11.8   20.6   15.1   110.5 \n",
       "3 40.1   28.2   33.3   20.9   31.7   13.9   10.9   19.7   14.1   115.1 \n",
       "4 44.3   29.9   34.0   18.4   28.2   13.9   11.2   20.9   15.0   104.5 \n",
       "5 42.5   29.9   34.0   21.5   29.4   15.2   11.6   20.7   14.9   107.5 \n",
       "6 43.3   27.0   31.5   19.6   31.3   14.0   11.5   18.8   13.9   119.8 \n",
       "  <U+22EF>        bic.gi for.gi kne.gi cal.gi ank.gi wri.gi age wgt  hgt   sex\n",
       "1 <U+22EF> 32.5   26.0   34.5   36.5   23.5   16.5   21  65.6 174.0 1  \n",
       "2 <U+22EF> 34.4   28.0   36.5   37.5   24.5   17.0   23  71.8 175.3 1  \n",
       "3 <U+22EF> 33.4   28.8   37.0   37.3   21.9   16.9   28  80.7 193.5 1  \n",
       "4 <U+22EF> 31.0   26.2   37.0   34.8   23.0   16.6   23  72.6 186.5 1  \n",
       "5 <U+22EF> 32.0   28.4   37.7   38.6   24.4   18.0   22  78.8 187.2 1  \n",
       "6 <U+22EF> 33.0   28.0   36.6   36.1   23.5   16.9   21  74.8 181.5 1  "
      ]
     },
     "metadata": {},
     "output_type": "display_data"
    }
   ],
   "source": [
    "bdims <- read.csv(\"bdims.csv\")\n",
    "#Let’s take a quick peek at the first few rows of the data.\n",
    "\n",
    "head(bdims)"
   ]
  },
  {
   "cell_type": "code",
   "execution_count": 11,
   "metadata": {},
   "outputs": [
    {
     "data": {
      "text/plain": [
       "     bia.di          bii.di          bit.di          che.de     \n",
       " Min.   :32.40   Min.   :18.70   Min.   :24.70   Min.   :14.30  \n",
       " 1st Qu.:36.20   1st Qu.:26.50   1st Qu.:30.60   1st Qu.:17.30  \n",
       " Median :38.70   Median :28.00   Median :32.00   Median :19.00  \n",
       " Mean   :38.81   Mean   :27.83   Mean   :31.98   Mean   :19.23  \n",
       " 3rd Qu.:41.15   3rd Qu.:29.25   3rd Qu.:33.35   3rd Qu.:20.90  \n",
       " Max.   :47.40   Max.   :34.70   Max.   :38.00   Max.   :27.50  \n",
       "     che.di          elb.di          wri.di          kne.di     \n",
       " Min.   :22.20   Min.   : 9.90   Min.   : 8.10   Min.   :15.70  \n",
       " 1st Qu.:25.65   1st Qu.:12.40   1st Qu.: 9.80   1st Qu.:17.90  \n",
       " Median :27.80   Median :13.30   Median :10.50   Median :18.70  \n",
       " Mean   :27.97   Mean   :13.39   Mean   :10.54   Mean   :18.81  \n",
       " 3rd Qu.:29.95   3rd Qu.:14.40   3rd Qu.:11.20   3rd Qu.:19.60  \n",
       " Max.   :35.60   Max.   :16.70   Max.   :13.30   Max.   :24.30  \n",
       "     ank.di          sho.gi           che.gi           wai.gi      \n",
       " Min.   : 9.90   Min.   : 85.90   Min.   : 72.60   Min.   : 57.90  \n",
       " 1st Qu.:13.00   1st Qu.: 99.45   1st Qu.: 85.30   1st Qu.: 68.00  \n",
       " Median :13.80   Median :108.20   Median : 91.60   Median : 75.80  \n",
       " Mean   :13.86   Mean   :108.20   Mean   : 93.33   Mean   : 76.98  \n",
       " 3rd Qu.:14.80   3rd Qu.:116.55   3rd Qu.:101.15   3rd Qu.: 84.50  \n",
       " Max.   :17.20   Max.   :134.80   Max.   :118.70   Max.   :113.20  \n",
       "     nav.gi           hip.gi           thi.gi          bic.gi     \n",
       " Min.   : 64.00   Min.   : 78.80   Min.   :46.30   Min.   :22.40  \n",
       " 1st Qu.: 78.85   1st Qu.: 92.00   1st Qu.:53.70   1st Qu.:27.60  \n",
       " Median : 84.60   Median : 96.00   Median :56.30   Median :31.00  \n",
       " Mean   : 85.65   Mean   : 96.68   Mean   :56.86   Mean   :31.17  \n",
       " 3rd Qu.: 91.60   3rd Qu.:101.00   3rd Qu.:59.50   3rd Qu.:34.45  \n",
       " Max.   :121.10   Max.   :128.30   Max.   :75.70   Max.   :42.40  \n",
       "     for.gi          kne.gi          cal.gi          ank.gi          wri.gi    \n",
       " Min.   :19.60   Min.   :29.00   Min.   :28.40   Min.   :16.40   Min.   :13.0  \n",
       " 1st Qu.:23.60   1st Qu.:34.40   1st Qu.:34.10   1st Qu.:21.00   1st Qu.:15.0  \n",
       " Median :25.80   Median :36.00   Median :36.00   Median :22.00   Median :16.1  \n",
       " Mean   :25.94   Mean   :36.20   Mean   :36.08   Mean   :22.16   Mean   :16.1  \n",
       " 3rd Qu.:28.40   3rd Qu.:37.95   3rd Qu.:38.00   3rd Qu.:23.30   3rd Qu.:17.1  \n",
       " Max.   :32.50   Max.   :49.00   Max.   :47.70   Max.   :29.30   Max.   :19.6  \n",
       "      age             wgt              hgt             sex        \n",
       " Min.   :18.00   Min.   : 42.00   Min.   :147.2   Min.   :0.0000  \n",
       " 1st Qu.:23.00   1st Qu.: 58.40   1st Qu.:163.8   1st Qu.:0.0000  \n",
       " Median :27.00   Median : 68.20   Median :170.3   Median :0.0000  \n",
       " Mean   :30.18   Mean   : 69.15   Mean   :171.1   Mean   :0.4872  \n",
       " 3rd Qu.:36.00   3rd Qu.: 78.85   3rd Qu.:177.8   3rd Qu.:1.0000  \n",
       " Max.   :67.00   Max.   :116.40   Max.   :198.1   Max.   :1.0000  "
      ]
     },
     "metadata": {},
     "output_type": "display_data"
    }
   ],
   "source": [
    "# We can also have a quick look at the summary statistics of all variables:\n",
    "\n",
    "summary(bdims)"
   ]
  },
  {
   "cell_type": "markdown",
   "metadata": {},
   "source": [
    "Notice here that there are again no missing observations for any of the variables, like in last week’s tutorial. This means that we don’t have to think about how to deal with missing data. In other (applied) cases, this will be different, and you need to give some thought to missing data in your R commands and your data analysis.\n",
    "\n",
    "You’ll see that for every observation we have 25 measurements, many of which are either diameters or girths. A key to the variable names can be found at http://www.openintro.org/stat/data/bdims.php, but we’ll be focusing on just three columns to get started: weight in kg (wgt), height in cm (hgt), and sex (1 indicates male, 0 indicates female).\n",
    "\n",
    "Since males and females tend to have different body dimensions, it will be useful to create two additional data sets: one with only men and another with only women."
   ]
  },
  {
   "cell_type": "code",
   "execution_count": 12,
   "metadata": {},
   "outputs": [],
   "source": [
    "mdims <- bdims[bdims$sex == 1, ]\n",
    "fdims <- bdims[bdims$sex == 0, ]"
   ]
  },
  {
   "cell_type": "markdown",
   "metadata": {},
   "source": [
    "# The normal distribution\n",
    "\n",
    "The normal distribution is defined by a mathematical formula, namely, \n",
    "\n",
    "$$\n",
    "f(x)=\\frac{1}{\\sigma \\sqrt{2 \\pi}} e^{-\\frac{(x-\\mu)^{2}}{2 \\sigma^{2}}}\n",
    "$$\n",
    "\n",
    "where we are given values for the paremeters  mean, $\\mu$, and the standard deviation, $\\sigma$. Using the transformation $z = \\frac {x - \\mu}{\\sigma}$, called the z-transformation and the values of the new variable z values, we can look to a simple example, called the **standard normal distribution**, where we have $\\mu=0$ and $\\sigma=1$. With those values the general formula becomes \n",
    "\n",
    "$$\n",
    "f(x)=\\frac{1}{\\sqrt{2 \\pi}} e^{-\\frac{x^{2}}{2}}\n",
    "$$\n",
    "\n",
    "The normal distribution is often called a **bell-shaped curve** for the obvious reason that the graph of the function can be made to look somewhat like a bell. A careful \"read\" of the graph in the following Figure reveals that we are calling values along the traditional x-axis z values. This is not a typo. It is actually quite important. We refer to the values along the traditional x-axis as z values because of the above transformation.\n",
    "\n",
    "\n",
    "## The $N(\\mu,\\sigma)$ Notation\n",
    "A quick method for saying that a distribution is normal with mean=a and standard deviation=b is to say that the distribution is $N(a,b)$. The standard normal distribution is $N(0,1)$. We say that a normal distribution with mean 75 and standard deviation 14 is $N(75,14)$. \n",
    "\n",
    "\n",
    "## The Expanded Notation for pnorm() and qnorm()\n",
    "\n",
    "It should not come as a surprise that most of our real work will be with non-standard normal distributions. If you understand that for ages we have had but the one table of the Standard Normal Distribution, then you must appreciate the importance of the z-scores, the relation , and the relation $x = z*\\sigma + \\mu$. \n",
    "\n",
    "In R the pnorm() function actually allows us to specify one or both of those values. For a distribution that is $N(75,14)$, to find the $P(X < 83.4)$ we just need to give the command `pnorm(83.4, mean=75, sd=14)`. \n",
    "\n",
    "And, of course, there is a similar expanded notation for qnorm(). Thus, to find the value $\\alpha$ that satisfies the equation $P(X\\le \\alpha) = 0.12$, for a population that is $N(75,14)$ we just need to use the command qnorm(0.12,mean=75, sd=14). "
   ]
  },
  {
   "cell_type": "code",
   "execution_count": 34,
   "metadata": {},
   "outputs": [
    {
     "data": {
      "text/html": [
       "58.5501849110747"
      ],
      "text/latex": [
       "58.5501849110747"
      ],
      "text/markdown": [
       "58.5501849110747"
      ],
      "text/plain": [
       "[1] 58.55018"
      ]
     },
     "metadata": {},
     "output_type": "display_data"
    }
   ],
   "source": [
    "qnorm(0.12,mean=75, sd=14)"
   ]
  },
  {
   "cell_type": "markdown",
   "metadata": {},
   "source": [
    "## The use of pnorm, qnorm, dnorm, rnorm"
   ]
  },
  {
   "cell_type": "code",
   "execution_count": 32,
   "metadata": {},
   "outputs": [
    {
     "data": {
      "image/png": "[encoded data removed]",
      "text/plain": [
       "Plot with title \"Random draws from Std Normal\""
      ]
     },
     "metadata": {},
     "output_type": "display_data"
    }
   ],
   "source": [
    "set.seed(3000)\n",
    "xseq<-seq(-4,4,.01)\n",
    "densities<-dnorm(xseq, 0,1)\n",
    "cumulative<-pnorm(xseq, 0, 1)\n",
    "randomdeviates<-rnorm(1000,0,1)\n",
    " \n",
    "par(mfrow=c(1,3), mar=c(3,4,4,2))\n",
    "\n",
    "\n",
    "plot(xseq, densities, col=\"darkgreen\",xlab=\"\", ylab=\"Density\", type=\"l\",lwd=2, cex=2, main=\"PDF of Standard Normal\", cex.axis=.8)\n",
    "\n",
    "\n",
    "plot(xseq, cumulative, col=\"darkorange\", xlab=\"\", ylab=\"Cumulative Probability\",type=\"l\",lwd=2, cex=2, main=\"CDF of Standard Normal\", cex.axis=.8)\n",
    "\n",
    "\n",
    "hist(randomdeviates, main=\"Random draws from Std Normal\", cex.axis=.8, xlim=c(-4,4))\n"
   ]
  },
  {
   "cell_type": "markdown",
   "metadata": {},
   "source": [
    "Because the standard normal distribution has mean zero and standard deviation one, the region of the graph between -1 and 1 on the graph represents values that are within 1 standard deviation of the mean. The area under the curve between -1 and 1 is about 0.68. (A better value would be 0.68269, but we will just use 0.68 for now.) \n",
    "\n",
    "Knowing the values shown in Figure above we can say that $P(X<-1) \\approx 0.16$ or $\\mathbf{P}(\\mathbf{X}>\\mathbf{1}) \\approx \\mathbf{0 . 1 6}$, $\\mathbf{P}(\\mathbf{X}<\\mathbf{1}) \\approx \\mathbf{0 . 8 4},$ or $\\mathbf{P}(\\mathbf{X}<-1 \\text { or } \\mathbf{X}>\\mathbf{1}) \\approx \\mathbf{0 . 3 2}$. Important information derived from just the graph. You will be asked in the quiz related questions.\n",
    "\n",
    "If we move out another standard deviation we find that the region between -2 and 2 accounts for about 95% of the total area (1 square unit) under the curve. (A better value would be 0.954499876, but we will just use 0.95 for now.)\n",
    "\n",
    "Using symmetry and the earlier information we have assigned probabilities to the various regions as before. Now we can say that $P(X < -2) \\sim 0.025$, or $P(X < 2) \\sim 0.975$, or $P(-2 < X < 1) \\sim 0.815$, and so on. \n",
    "\n",
    "There are really just four kinds of probabilities that we want to evaluate for z values in a standard normal distribution. They are\n",
    "\n",
    "$P(X < z)$\n",
    "\n",
    "$P(X > z)$\n",
    "\n",
    "$P(z_1 < X < z_2)$\n",
    "\n",
    "$P(X < z_1 or X > z_2)$\n"
   ]
  },
  {
   "cell_type": "markdown",
   "metadata": {},
   "source": [
    "# R computations with normal distribution"
   ]
  },
  {
   "cell_type": "code",
   "execution_count": 1,
   "metadata": {},
   "outputs": [
    {
     "data": {
      "image/png": "[encoded data removed]",
      "text/plain": [
       "Plot with title \"Normal Distribution\""
      ]
     },
     "metadata": {},
     "output_type": "display_data"
    },
    {
     "data": {
      "text/html": [
       "0.0161773833721661"
      ],
      "text/latex": [
       "0.0161773833721661"
      ],
      "text/markdown": [
       "0.0161773833721661"
      ],
      "text/plain": [
       "[1] 0.01617738"
      ]
     },
     "metadata": {},
     "output_type": "display_data"
    },
    {
     "data": {
      "text/html": [
       "0.83397675393647"
      ],
      "text/latex": [
       "0.83397675393647"
      ],
      "text/markdown": [
       "0.83397675393647"
      ],
      "text/plain": [
       "[1] 0.8339768"
      ]
     },
     "metadata": {},
     "output_type": "display_data"
    },
    {
     "data": {
      "text/html": [
       "0.16602324606353"
      ],
      "text/latex": [
       "0.16602324606353"
      ],
      "text/markdown": [
       "0.16602324606353"
      ],
      "text/plain": [
       "[1] 0.1660232"
      ]
     },
     "metadata": {},
     "output_type": "display_data"
    },
    {
     "data": {
      "text/html": [
       "0.817799370564304"
      ],
      "text/latex": [
       "0.817799370564304"
      ],
      "text/markdown": [
       "0.817799370564304"
      ],
      "text/plain": [
       "[1] 0.8177994"
      ]
     },
     "metadata": {},
     "output_type": "display_data"
    },
    {
     "data": {
      "text/html": [
       "0.182200629435696"
      ],
      "text/latex": [
       "0.182200629435696"
      ],
      "text/markdown": [
       "0.182200629435696"
      ],
      "text/plain": [
       "[1] 0.1822006"
      ]
     },
     "metadata": {},
     "output_type": "display_data"
    },
    {
     "data": {
      "text/html": [
       "0.16602324606353"
      ],
      "text/latex": [
       "0.16602324606353"
      ],
      "text/markdown": [
       "0.16602324606353"
      ],
      "text/plain": [
       "[1] 0.1660232"
      ]
     },
     "metadata": {},
     "output_type": "display_data"
    },
    {
     "data": {
      "text/html": [
       "0.182200629435696"
      ],
      "text/latex": [
       "0.182200629435696"
      ],
      "text/markdown": [
       "0.182200629435696"
      ],
      "text/plain": [
       "[1] 0.1822006"
      ]
     },
     "metadata": {},
     "output_type": "display_data"
    },
    {
     "data": {
      "text/html": [
       "-1.64485362695147"
      ],
      "text/latex": [
       "-1.64485362695147"
      ],
      "text/markdown": [
       "-1.64485362695147"
      ],
      "text/plain": [
       "[1] -1.644854"
      ]
     },
     "metadata": {},
     "output_type": "display_data"
    },
    {
     "data": {
      "text/html": [
       "-1.64485362695147"
      ],
      "text/latex": [
       "-1.64485362695147"
      ],
      "text/markdown": [
       "-1.64485362695147"
      ],
      "text/plain": [
       "[1] -1.644853626951"
      ]
     },
     "metadata": {},
     "output_type": "display_data"
    },
    {
     "name": "stdout",
     "output_type": "stream",
     "text": [
      "style= 4   size= 96    seed= 12185   num digits= 0   alt_sign= 1 \n"
     ]
    },
    {
     "data": {
      "text/html": [
       "'DONE '"
      ],
      "text/latex": [
       "'DONE '"
      ],
      "text/markdown": [
       "'DONE '"
      ],
      "text/plain": [
       "[1] \"DONE \""
      ]
     },
     "metadata": {},
     "output_type": "display_data"
    },
    {
     "data": {
      "text/html": [
       "<ol class=list-inline>\n",
       "\t<li>399</li>\n",
       "\t<li>363</li>\n",
       "\t<li>360</li>\n",
       "\t<li>342</li>\n",
       "\t<li>329</li>\n",
       "\t<li>365</li>\n",
       "\t<li>345</li>\n",
       "\t<li>340</li>\n",
       "\t<li>332</li>\n",
       "\t<li>374</li>\n",
       "\t<li>356</li>\n",
       "\t<li>347</li>\n",
       "\t<li>342</li>\n",
       "\t<li>393</li>\n",
       "\t<li>299</li>\n",
       "\t<li>364</li>\n",
       "\t<li>350</li>\n",
       "\t<li>322</li>\n",
       "\t<li>311</li>\n",
       "\t<li>344</li>\n",
       "\t<li>375</li>\n",
       "\t<li>338</li>\n",
       "\t<li>332</li>\n",
       "\t<li>356</li>\n",
       "\t<li>330</li>\n",
       "\t<li>376</li>\n",
       "\t<li>360</li>\n",
       "\t<li>309</li>\n",
       "\t<li>360</li>\n",
       "\t<li>308</li>\n",
       "\t<li>360</li>\n",
       "\t<li>341</li>\n",
       "\t<li>325</li>\n",
       "\t<li>338</li>\n",
       "\t<li>316</li>\n",
       "\t<li>332</li>\n",
       "\t<li>328</li>\n",
       "\t<li>331</li>\n",
       "\t<li>338</li>\n",
       "\t<li>329</li>\n",
       "\t<li>375</li>\n",
       "\t<li>352</li>\n",
       "\t<li>350</li>\n",
       "\t<li>391</li>\n",
       "\t<li>355</li>\n",
       "\t<li>371</li>\n",
       "\t<li>373</li>\n",
       "\t<li>320</li>\n",
       "\t<li>383</li>\n",
       "\t<li>349</li>\n",
       "\t<li>365</li>\n",
       "\t<li>307</li>\n",
       "\t<li>343</li>\n",
       "\t<li>360</li>\n",
       "\t<li>331</li>\n",
       "\t<li>353</li>\n",
       "\t<li>350</li>\n",
       "\t<li>336</li>\n",
       "\t<li>330</li>\n",
       "\t<li>368</li>\n",
       "\t<li>340</li>\n",
       "\t<li>364</li>\n",
       "\t<li>370</li>\n",
       "\t<li>332</li>\n",
       "\t<li>331</li>\n",
       "\t<li>345</li>\n",
       "\t<li>350</li>\n",
       "\t<li>353</li>\n",
       "\t<li>349</li>\n",
       "\t<li>358</li>\n",
       "\t<li>340</li>\n",
       "\t<li>340</li>\n",
       "\t<li>345</li>\n",
       "\t<li>356</li>\n",
       "\t<li>345</li>\n",
       "\t<li>338</li>\n",
       "\t<li>334</li>\n",
       "\t<li>354</li>\n",
       "\t<li>346</li>\n",
       "\t<li>318</li>\n",
       "\t<li>381</li>\n",
       "\t<li>324</li>\n",
       "\t<li>362</li>\n",
       "\t<li>329</li>\n",
       "\t<li>381</li>\n",
       "\t<li>290</li>\n",
       "\t<li>332</li>\n",
       "\t<li>354</li>\n",
       "\t<li>356</li>\n",
       "\t<li>333</li>\n",
       "\t<li>372</li>\n",
       "\t<li>356</li>\n",
       "\t<li>386</li>\n",
       "\t<li>336</li>\n",
       "\t<li>313</li>\n",
       "\t<li>338</li>\n",
       "</ol>\n"
      ],
      "text/latex": [
       "\\begin{enumerate*}\n",
       "\\item 399\n",
       "\\item 363\n",
       "\\item 360\n",
       "\\item 342\n",
       "\\item 329\n",
       "\\item 365\n",
       "\\item 345\n",
       "\\item 340\n",
       "\\item 332\n",
       "\\item 374\n",
       "\\item 356\n",
       "\\item 347\n",
       "\\item 342\n",
       "\\item 393\n",
       "\\item 299\n",
       "\\item 364\n",
       "\\item 350\n",
       "\\item 322\n",
       "\\item 311\n",
       "\\item 344\n",
       "\\item 375\n",
       "\\item 338\n",
       "\\item 332\n",
       "\\item 356\n",
       "\\item 330\n",
       "\\item 376\n",
       "\\item 360\n",
       "\\item 309\n",
       "\\item 360\n",
       "\\item 308\n",
       "\\item 360\n",
       "\\item 341\n",
       "\\item 325\n",
       "\\item 338\n",
       "\\item 316\n",
       "\\item 332\n",
       "\\item 328\n",
       "\\item 331\n",
       "\\item 338\n",
       "\\item 329\n",
       "\\item 375\n",
       "\\item 352\n",
       "\\item 350\n",
       "\\item 391\n",
       "\\item 355\n",
       "\\item 371\n",
       "\\item 373\n",
       "\\item 320\n",
       "\\item 383\n",
       "\\item 349\n",
       "\\item 365\n",
       "\\item 307\n",
       "\\item 343\n",
       "\\item 360\n",
       "\\item 331\n",
       "\\item 353\n",
       "\\item 350\n",
       "\\item 336\n",
       "\\item 330\n",
       "\\item 368\n",
       "\\item 340\n",
       "\\item 364\n",
       "\\item 370\n",
       "\\item 332\n",
       "\\item 331\n",
       "\\item 345\n",
       "\\item 350\n",
       "\\item 353\n",
       "\\item 349\n",
       "\\item 358\n",
       "\\item 340\n",
       "\\item 340\n",
       "\\item 345\n",
       "\\item 356\n",
       "\\item 345\n",
       "\\item 338\n",
       "\\item 334\n",
       "\\item 354\n",
       "\\item 346\n",
       "\\item 318\n",
       "\\item 381\n",
       "\\item 324\n",
       "\\item 362\n",
       "\\item 329\n",
       "\\item 381\n",
       "\\item 290\n",
       "\\item 332\n",
       "\\item 354\n",
       "\\item 356\n",
       "\\item 333\n",
       "\\item 372\n",
       "\\item 356\n",
       "\\item 386\n",
       "\\item 336\n",
       "\\item 313\n",
       "\\item 338\n",
       "\\end{enumerate*}\n"
      ],
      "text/markdown": [
       "1. 399\n",
       "2. 363\n",
       "3. 360\n",
       "4. 342\n",
       "5. 329\n",
       "6. 365\n",
       "7. 345\n",
       "8. 340\n",
       "9. 332\n",
       "10. 374\n",
       "11. 356\n",
       "12. 347\n",
       "13. 342\n",
       "14. 393\n",
       "15. 299\n",
       "16. 364\n",
       "17. 350\n",
       "18. 322\n",
       "19. 311\n",
       "20. 344\n",
       "21. 375\n",
       "22. 338\n",
       "23. 332\n",
       "24. 356\n",
       "25. 330\n",
       "26. 376\n",
       "27. 360\n",
       "28. 309\n",
       "29. 360\n",
       "30. 308\n",
       "31. 360\n",
       "32. 341\n",
       "33. 325\n",
       "34. 338\n",
       "35. 316\n",
       "36. 332\n",
       "37. 328\n",
       "38. 331\n",
       "39. 338\n",
       "40. 329\n",
       "41. 375\n",
       "42. 352\n",
       "43. 350\n",
       "44. 391\n",
       "45. 355\n",
       "46. 371\n",
       "47. 373\n",
       "48. 320\n",
       "49. 383\n",
       "50. 349\n",
       "51. 365\n",
       "52. 307\n",
       "53. 343\n",
       "54. 360\n",
       "55. 331\n",
       "56. 353\n",
       "57. 350\n",
       "58. 336\n",
       "59. 330\n",
       "60. 368\n",
       "61. 340\n",
       "62. 364\n",
       "63. 370\n",
       "64. 332\n",
       "65. 331\n",
       "66. 345\n",
       "67. 350\n",
       "68. 353\n",
       "69. 349\n",
       "70. 358\n",
       "71. 340\n",
       "72. 340\n",
       "73. 345\n",
       "74. 356\n",
       "75. 345\n",
       "76. 338\n",
       "77. 334\n",
       "78. 354\n",
       "79. 346\n",
       "80. 318\n",
       "81. 381\n",
       "82. 324\n",
       "83. 362\n",
       "84. 329\n",
       "85. 381\n",
       "86. 290\n",
       "87. 332\n",
       "88. 354\n",
       "89. 356\n",
       "90. 333\n",
       "91. 372\n",
       "92. 356\n",
       "93. 386\n",
       "94. 336\n",
       "95. 313\n",
       "96. 338\n",
       "\n",
       "\n"
      ],
      "text/plain": [
       " [1] 399 363 360 342 329 365 345 340 332 374 356 347 342 393 299 364 350 322 311\n",
       "[20] 344 375 338 332 356 330 376 360 309 360 308 360 341 325 338 316 332 328 331\n",
       "[39] 338 329 375 352 350 391 355 371 373 320 383 349 365 307 343 360 331 353 350\n",
       "[58] 336 330 368 340 364 370 332 331 345 350 353 349 358 340 340 345 356 345 338\n",
       "[77] 334 354 346 318 381 324 362 329 381 290 332 354 356 333 372 356 386 336 313\n",
       "[96] 338"
      ]
     },
     "metadata": {},
     "output_type": "display_data"
    },
    {
     "data": {
      "text/html": [
       "346.583333333333"
      ],
      "text/latex": [
       "346.583333333333"
      ],
      "text/markdown": [
       "346.583333333333"
      ],
      "text/plain": [
       "[1] 346.5833"
      ]
     },
     "metadata": {},
     "output_type": "display_data"
    },
    {
     "data": {
      "text/html": [
       "21.3031584842133"
      ],
      "text/latex": [
       "21.3031584842133"
      ],
      "text/markdown": [
       "21.3031584842133"
      ],
      "text/plain": [
       "[1] 21.30316"
      ]
     },
     "metadata": {},
     "output_type": "display_data"
    },
    {
     "data": {
      "text/html": [
       "21.1919140764166"
      ],
      "text/latex": [
       "21.1919140764166"
      ],
      "text/markdown": [
       "21.1919140764166"
      ],
      "text/plain": [
       "[1] 21.19191"
      ]
     },
     "metadata": {},
     "output_type": "display_data"
    },
    {
     "data": {
      "text/html": [
       "21.1919140764166"
      ],
      "text/latex": [
       "21.1919140764166"
      ],
      "text/markdown": [
       "21.1919140764166"
      ],
      "text/plain": [
       "[1] 21.19191"
      ]
     },
     "metadata": {},
     "output_type": "display_data"
    },
    {
     "data": {
      "text/plain": [
       "   Min. 1st Qu.  Median    Mean 3rd Qu.    Max. \n",
       "  290.0   332.0   345.0   346.6   360.0   399.0 "
      ]
     },
     "metadata": {},
     "output_type": "display_data"
    },
    {
     "data": {
      "image/png": "[encoded data removed]",
      "text/plain": [
       "Plot with title \"Normal Distribution\""
      ]
     },
     "metadata": {},
     "output_type": "display_data"
    },
    {
     "data": {
      "text/html": [
       "<ol class=list-inline>\n",
       "\t<li>52.4166666666667</li>\n",
       "\t<li>16.4166666666667</li>\n",
       "\t<li>13.4166666666667</li>\n",
       "\t<li>-4.58333333333331</li>\n",
       "\t<li>-17.5833333333333</li>\n",
       "\t<li>18.4166666666667</li>\n",
       "\t<li>-1.58333333333331</li>\n",
       "\t<li>-6.58333333333331</li>\n",
       "\t<li>-14.5833333333333</li>\n",
       "\t<li>27.4166666666667</li>\n",
       "\t<li>9.41666666666669</li>\n",
       "\t<li>0.416666666666686</li>\n",
       "\t<li>-4.58333333333331</li>\n",
       "\t<li>46.4166666666667</li>\n",
       "\t<li>-47.5833333333333</li>\n",
       "\t<li>17.4166666666667</li>\n",
       "\t<li>3.41666666666669</li>\n",
       "\t<li>-24.5833333333333</li>\n",
       "\t<li>-35.5833333333333</li>\n",
       "\t<li>-2.58333333333331</li>\n",
       "\t<li>28.4166666666667</li>\n",
       "\t<li>-8.58333333333331</li>\n",
       "\t<li>-14.5833333333333</li>\n",
       "\t<li>9.41666666666669</li>\n",
       "\t<li>-16.5833333333333</li>\n",
       "\t<li>29.4166666666667</li>\n",
       "\t<li>13.4166666666667</li>\n",
       "\t<li>-37.5833333333333</li>\n",
       "\t<li>13.4166666666667</li>\n",
       "\t<li>-38.5833333333333</li>\n",
       "\t<li>13.4166666666667</li>\n",
       "\t<li>-5.58333333333331</li>\n",
       "\t<li>-21.5833333333333</li>\n",
       "\t<li>-8.58333333333331</li>\n",
       "\t<li>-30.5833333333333</li>\n",
       "\t<li>-14.5833333333333</li>\n",
       "\t<li>-18.5833333333333</li>\n",
       "\t<li>-15.5833333333333</li>\n",
       "\t<li>-8.58333333333331</li>\n",
       "\t<li>-17.5833333333333</li>\n",
       "\t<li>28.4166666666667</li>\n",
       "\t<li>5.41666666666669</li>\n",
       "\t<li>3.41666666666669</li>\n",
       "\t<li>44.4166666666667</li>\n",
       "\t<li>8.41666666666669</li>\n",
       "\t<li>24.4166666666667</li>\n",
       "\t<li>26.4166666666667</li>\n",
       "\t<li>-26.5833333333333</li>\n",
       "\t<li>36.4166666666667</li>\n",
       "\t<li>2.41666666666669</li>\n",
       "\t<li>18.4166666666667</li>\n",
       "\t<li>-39.5833333333333</li>\n",
       "\t<li>-3.58333333333331</li>\n",
       "\t<li>13.4166666666667</li>\n",
       "\t<li>-15.5833333333333</li>\n",
       "\t<li>6.41666666666669</li>\n",
       "\t<li>3.41666666666669</li>\n",
       "\t<li>-10.5833333333333</li>\n",
       "\t<li>-16.5833333333333</li>\n",
       "\t<li>21.4166666666667</li>\n",
       "\t<li>-6.58333333333331</li>\n",
       "\t<li>17.4166666666667</li>\n",
       "\t<li>23.4166666666667</li>\n",
       "\t<li>-14.5833333333333</li>\n",
       "\t<li>-15.5833333333333</li>\n",
       "\t<li>-1.58333333333331</li>\n",
       "\t<li>3.41666666666669</li>\n",
       "\t<li>6.41666666666669</li>\n",
       "\t<li>2.41666666666669</li>\n",
       "\t<li>11.4166666666667</li>\n",
       "\t<li>-6.58333333333331</li>\n",
       "\t<li>-6.58333333333331</li>\n",
       "\t<li>-1.58333333333331</li>\n",
       "\t<li>9.41666666666669</li>\n",
       "\t<li>-1.58333333333331</li>\n",
       "\t<li>-8.58333333333331</li>\n",
       "\t<li>-12.5833333333333</li>\n",
       "\t<li>7.41666666666669</li>\n",
       "\t<li>-0.583333333333314</li>\n",
       "\t<li>-28.5833333333333</li>\n",
       "\t<li>34.4166666666667</li>\n",
       "\t<li>-22.5833333333333</li>\n",
       "\t<li>15.4166666666667</li>\n",
       "\t<li>-17.5833333333333</li>\n",
       "\t<li>34.4166666666667</li>\n",
       "\t<li>-56.5833333333333</li>\n",
       "\t<li>-14.5833333333333</li>\n",
       "\t<li>7.41666666666669</li>\n",
       "\t<li>9.41666666666669</li>\n",
       "\t<li>-13.5833333333333</li>\n",
       "\t<li>25.4166666666667</li>\n",
       "\t<li>9.41666666666669</li>\n",
       "\t<li>39.4166666666667</li>\n",
       "\t<li>-10.5833333333333</li>\n",
       "\t<li>-33.5833333333333</li>\n",
       "\t<li>-8.58333333333331</li>\n",
       "</ol>\n"
      ],
      "text/latex": [
       "\\begin{enumerate*}\n",
       "\\item 52.4166666666667\n",
       "\\item 16.4166666666667\n",
       "\\item 13.4166666666667\n",
       "\\item -4.58333333333331\n",
       "\\item -17.5833333333333\n",
       "\\item 18.4166666666667\n",
       "\\item -1.58333333333331\n",
       "\\item -6.58333333333331\n",
       "\\item -14.5833333333333\n",
       "\\item 27.4166666666667\n",
       "\\item 9.41666666666669\n",
       "\\item 0.416666666666686\n",
       "\\item -4.58333333333331\n",
       "\\item 46.4166666666667\n",
       "\\item -47.5833333333333\n",
       "\\item 17.4166666666667\n",
       "\\item 3.41666666666669\n",
       "\\item -24.5833333333333\n",
       "\\item -35.5833333333333\n",
       "\\item -2.58333333333331\n",
       "\\item 28.4166666666667\n",
       "\\item -8.58333333333331\n",
       "\\item -14.5833333333333\n",
       "\\item 9.41666666666669\n",
       "\\item -16.5833333333333\n",
       "\\item 29.4166666666667\n",
       "\\item 13.4166666666667\n",
       "\\item -37.5833333333333\n",
       "\\item 13.4166666666667\n",
       "\\item -38.5833333333333\n",
       "\\item 13.4166666666667\n",
       "\\item -5.58333333333331\n",
       "\\item -21.5833333333333\n",
       "\\item -8.58333333333331\n",
       "\\item -30.5833333333333\n",
       "\\item -14.5833333333333\n",
       "\\item -18.5833333333333\n",
       "\\item -15.5833333333333\n",
       "\\item -8.58333333333331\n",
       "\\item -17.5833333333333\n",
       "\\item 28.4166666666667\n",
       "\\item 5.41666666666669\n",
       "\\item 3.41666666666669\n",
       "\\item 44.4166666666667\n",
       "\\item 8.41666666666669\n",
       "\\item 24.4166666666667\n",
       "\\item 26.4166666666667\n",
       "\\item -26.5833333333333\n",
       "\\item 36.4166666666667\n",
       "\\item 2.41666666666669\n",
       "\\item 18.4166666666667\n",
       "\\item -39.5833333333333\n",
       "\\item -3.58333333333331\n",
       "\\item 13.4166666666667\n",
       "\\item -15.5833333333333\n",
       "\\item 6.41666666666669\n",
       "\\item 3.41666666666669\n",
       "\\item -10.5833333333333\n",
       "\\item -16.5833333333333\n",
       "\\item 21.4166666666667\n",
       "\\item -6.58333333333331\n",
       "\\item 17.4166666666667\n",
       "\\item 23.4166666666667\n",
       "\\item -14.5833333333333\n",
       "\\item -15.5833333333333\n",
       "\\item -1.58333333333331\n",
       "\\item 3.41666666666669\n",
       "\\item 6.41666666666669\n",
       "\\item 2.41666666666669\n",
       "\\item 11.4166666666667\n",
       "\\item -6.58333333333331\n",
       "\\item -6.58333333333331\n",
       "\\item -1.58333333333331\n",
       "\\item 9.41666666666669\n",
       "\\item -1.58333333333331\n",
       "\\item -8.58333333333331\n",
       "\\item -12.5833333333333\n",
       "\\item 7.41666666666669\n",
       "\\item -0.583333333333314\n",
       "\\item -28.5833333333333\n",
       "\\item 34.4166666666667\n",
       "\\item -22.5833333333333\n",
       "\\item 15.4166666666667\n",
       "\\item -17.5833333333333\n",
       "\\item 34.4166666666667\n",
       "\\item -56.5833333333333\n",
       "\\item -14.5833333333333\n",
       "\\item 7.41666666666669\n",
       "\\item 9.41666666666669\n",
       "\\item -13.5833333333333\n",
       "\\item 25.4166666666667\n",
       "\\item 9.41666666666669\n",
       "\\item 39.4166666666667\n",
       "\\item -10.5833333333333\n",
       "\\item -33.5833333333333\n",
       "\\item -8.58333333333331\n",
       "\\end{enumerate*}\n"
      ],
      "text/markdown": [
       "1. 52.4166666666667\n",
       "2. 16.4166666666667\n",
       "3. 13.4166666666667\n",
       "4. -4.58333333333331\n",
       "5. -17.5833333333333\n",
       "6. 18.4166666666667\n",
       "7. -1.58333333333331\n",
       "8. -6.58333333333331\n",
       "9. -14.5833333333333\n",
       "10. 27.4166666666667\n",
       "11. 9.41666666666669\n",
       "12. 0.416666666666686\n",
       "13. -4.58333333333331\n",
       "14. 46.4166666666667\n",
       "15. -47.5833333333333\n",
       "16. 17.4166666666667\n",
       "17. 3.41666666666669\n",
       "18. -24.5833333333333\n",
       "19. -35.5833333333333\n",
       "20. -2.58333333333331\n",
       "21. 28.4166666666667\n",
       "22. -8.58333333333331\n",
       "23. -14.5833333333333\n",
       "24. 9.41666666666669\n",
       "25. -16.5833333333333\n",
       "26. 29.4166666666667\n",
       "27. 13.4166666666667\n",
       "28. -37.5833333333333\n",
       "29. 13.4166666666667\n",
       "30. -38.5833333333333\n",
       "31. 13.4166666666667\n",
       "32. -5.58333333333331\n",
       "33. -21.5833333333333\n",
       "34. -8.58333333333331\n",
       "35. -30.5833333333333\n",
       "36. -14.5833333333333\n",
       "37. -18.5833333333333\n",
       "38. -15.5833333333333\n",
       "39. -8.58333333333331\n",
       "40. -17.5833333333333\n",
       "41. 28.4166666666667\n",
       "42. 5.41666666666669\n",
       "43. 3.41666666666669\n",
       "44. 44.4166666666667\n",
       "45. 8.41666666666669\n",
       "46. 24.4166666666667\n",
       "47. 26.4166666666667\n",
       "48. -26.5833333333333\n",
       "49. 36.4166666666667\n",
       "50. 2.41666666666669\n",
       "51. 18.4166666666667\n",
       "52. -39.5833333333333\n",
       "53. -3.58333333333331\n",
       "54. 13.4166666666667\n",
       "55. -15.5833333333333\n",
       "56. 6.41666666666669\n",
       "57. 3.41666666666669\n",
       "58. -10.5833333333333\n",
       "59. -16.5833333333333\n",
       "60. 21.4166666666667\n",
       "61. -6.58333333333331\n",
       "62. 17.4166666666667\n",
       "63. 23.4166666666667\n",
       "64. -14.5833333333333\n",
       "65. -15.5833333333333\n",
       "66. -1.58333333333331\n",
       "67. 3.41666666666669\n",
       "68. 6.41666666666669\n",
       "69. 2.41666666666669\n",
       "70. 11.4166666666667\n",
       "71. -6.58333333333331\n",
       "72. -6.58333333333331\n",
       "73. -1.58333333333331\n",
       "74. 9.41666666666669\n",
       "75. -1.58333333333331\n",
       "76. -8.58333333333331\n",
       "77. -12.5833333333333\n",
       "78. 7.41666666666669\n",
       "79. -0.583333333333314\n",
       "80. -28.5833333333333\n",
       "81. 34.4166666666667\n",
       "82. -22.5833333333333\n",
       "83. 15.4166666666667\n",
       "84. -17.5833333333333\n",
       "85. 34.4166666666667\n",
       "86. -56.5833333333333\n",
       "87. -14.5833333333333\n",
       "88. 7.41666666666669\n",
       "89. 9.41666666666669\n",
       "90. -13.5833333333333\n",
       "91. 25.4166666666667\n",
       "92. 9.41666666666669\n",
       "93. 39.4166666666667\n",
       "94. -10.5833333333333\n",
       "95. -33.5833333333333\n",
       "96. -8.58333333333331\n",
       "\n",
       "\n"
      ],
      "text/plain": [
       " [1]  52.4166667  16.4166667  13.4166667  -4.5833333 -17.5833333  18.4166667\n",
       " [7]  -1.5833333  -6.5833333 -14.5833333  27.4166667   9.4166667   0.4166667\n",
       "[13]  -4.5833333  46.4166667 -47.5833333  17.4166667   3.4166667 -24.5833333\n",
       "[19] -35.5833333  -2.5833333  28.4166667  -8.5833333 -14.5833333   9.4166667\n",
       "[25] -16.5833333  29.4166667  13.4166667 -37.5833333  13.4166667 -38.5833333\n",
       "[31]  13.4166667  -5.5833333 -21.5833333  -8.5833333 -30.5833333 -14.5833333\n",
       "[37] -18.5833333 -15.5833333  -8.5833333 -17.5833333  28.4166667   5.4166667\n",
       "[43]   3.4166667  44.4166667   8.4166667  24.4166667  26.4166667 -26.5833333\n",
       "[49]  36.4166667   2.4166667  18.4166667 -39.5833333  -3.5833333  13.4166667\n",
       "[55] -15.5833333   6.4166667   3.4166667 -10.5833333 -16.5833333  21.4166667\n",
       "[61]  -6.5833333  17.4166667  23.4166667 -14.5833333 -15.5833333  -1.5833333\n",
       "[67]   3.4166667   6.4166667   2.4166667  11.4166667  -6.5833333  -6.5833333\n",
       "[73]  -1.5833333   9.4166667  -1.5833333  -8.5833333 -12.5833333   7.4166667\n",
       "[79]  -0.5833333 -28.5833333  34.4166667 -22.5833333  15.4166667 -17.5833333\n",
       "[85]  34.4166667 -56.5833333 -14.5833333   7.4166667   9.4166667 -13.5833333\n",
       "[91]  25.4166667   9.4166667  39.4166667 -10.5833333 -33.5833333  -8.5833333"
      ]
     },
     "metadata": {},
     "output_type": "display_data"
    },
    {
     "data": {
      "text/html": [
       "1.89476165515558e-14"
      ],
      "text/latex": [
       "1.89476165515558e-14"
      ],
      "text/markdown": [
       "1.89476165515558e-14"
      ],
      "text/plain": [
       "[1] 1.894762e-14"
      ]
     },
     "metadata": {},
     "output_type": "display_data"
    },
    {
     "data": {
      "text/html": [
       "21.1919140764166"
      ],
      "text/latex": [
       "21.1919140764166"
      ],
      "text/markdown": [
       "21.1919140764166"
      ],
      "text/plain": [
       "[1] 21.19191"
      ]
     },
     "metadata": {},
     "output_type": "display_data"
    },
    {
     "data": {
      "text/plain": [
       "   Min. 1st Qu.  Median    Mean 3rd Qu.    Max. \n",
       "-56.583 -14.583  -1.583   0.000  13.417  52.417 "
      ]
     },
     "metadata": {},
     "output_type": "display_data"
    },
    {
     "data": {
      "image/png": "[encoded data removed]",
      "text/plain": [
       "Plot with title \"Histogram of L1\""
      ]
     },
     "metadata": {},
     "output_type": "display_data"
    },
    {
     "data": {
      "text/html": [
       "<ol class=list-inline>\n",
       "\t<li>2.47342767046223</li>\n",
       "\t<li>0.774666535899935</li>\n",
       "\t<li>0.633103108019744</li>\n",
       "\t<li>-0.216277459261402</li>\n",
       "\t<li>-0.829718980075563</li>\n",
       "\t<li>0.869042154486729</li>\n",
       "\t<li>-0.074714031381211</li>\n",
       "\t<li>-0.310653077848196</li>\n",
       "\t<li>-0.688155552195372</li>\n",
       "\t<li>1.2937324381273</li>\n",
       "\t<li>0.444351870846156</li>\n",
       "\t<li>0.019661587205583</li>\n",
       "\t<li>-0.216277459261402</li>\n",
       "\t<li>2.19030081470185</li>\n",
       "\t<li>-2.24535325887747</li>\n",
       "\t<li>0.821854345193332</li>\n",
       "\t<li>0.161225015085774</li>\n",
       "\t<li>-1.16003364512934</li>\n",
       "\t<li>-1.67909954735671</li>\n",
       "\t<li>-0.121901840674608</li>\n",
       "\t<li>1.3409202474207</li>\n",
       "\t<li>-0.40502869643499</li>\n",
       "\t<li>-0.688155552195372</li>\n",
       "\t<li>0.444351870846156</li>\n",
       "\t<li>-0.782531170782166</li>\n",
       "\t<li>1.3881080567141</li>\n",
       "\t<li>0.633103108019744</li>\n",
       "\t<li>-1.7734751659435</li>\n",
       "\t<li>0.633103108019744</li>\n",
       "\t<li>-1.8206629752369</li>\n",
       "\t<li>0.633103108019744</li>\n",
       "\t<li>-0.263465268554799</li>\n",
       "\t<li>-1.01847021724915</li>\n",
       "\t<li>-0.40502869643499</li>\n",
       "\t<li>-1.44316050088972</li>\n",
       "\t<li>-0.688155552195372</li>\n",
       "\t<li>-0.87690678936896</li>\n",
       "\t<li>-0.735343361488769</li>\n",
       "\t<li>-0.40502869643499</li>\n",
       "\t<li>-0.829718980075563</li>\n",
       "\t<li>1.3409202474207</li>\n",
       "\t<li>0.255600633672568</li>\n",
       "\t<li>0.161225015085774</li>\n",
       "\t<li>2.09592519611505</li>\n",
       "\t<li>0.397164061552759</li>\n",
       "\t<li>1.15216901024711</li>\n",
       "\t<li>1.24654462883391</li>\n",
       "\t<li>-1.25440926371614</li>\n",
       "\t<li>1.71842272176788</li>\n",
       "\t<li>0.114037205792377</li>\n",
       "\t<li>0.869042154486729</li>\n",
       "\t<li>-1.8678507845303</li>\n",
       "\t<li>-0.169089649968005</li>\n",
       "\t<li>0.633103108019744</li>\n",
       "\t<li>-0.735343361488769</li>\n",
       "\t<li>0.302788442965965</li>\n",
       "\t<li>0.161225015085774</li>\n",
       "\t<li>-0.499404315021784</li>\n",
       "\t<li>-0.782531170782166</li>\n",
       "\t<li>1.01060558236692</li>\n",
       "\t<li>-0.310653077848196</li>\n",
       "\t<li>0.821854345193332</li>\n",
       "\t<li>1.10498120095371</li>\n",
       "\t<li>-0.688155552195372</li>\n",
       "\t<li>-0.735343361488769</li>\n",
       "\t<li>-0.074714031381211</li>\n",
       "\t<li>0.161225015085774</li>\n",
       "\t<li>0.302788442965965</li>\n",
       "\t<li>0.114037205792377</li>\n",
       "\t<li>0.53872748943295</li>\n",
       "\t<li>-0.310653077848196</li>\n",
       "\t<li>-0.310653077848196</li>\n",
       "\t<li>-0.074714031381211</li>\n",
       "\t<li>0.444351870846156</li>\n",
       "\t<li>-0.074714031381211</li>\n",
       "\t<li>-0.40502869643499</li>\n",
       "\t<li>-0.593779933608578</li>\n",
       "\t<li>0.349976252259362</li>\n",
       "\t<li>-0.027526222087814</li>\n",
       "\t<li>-1.34878488230293</li>\n",
       "\t<li>1.62404710318108</li>\n",
       "\t<li>-1.06565802654255</li>\n",
       "\t<li>0.727478726606538</li>\n",
       "\t<li>-0.829718980075563</li>\n",
       "\t<li>1.62404710318108</li>\n",
       "\t<li>-2.67004354251805</li>\n",
       "\t<li>-0.688155552195372</li>\n",
       "\t<li>0.349976252259362</li>\n",
       "\t<li>0.444351870846156</li>\n",
       "\t<li>-0.640967742901975</li>\n",
       "\t<li>1.19935681954051</li>\n",
       "\t<li>0.444351870846156</li>\n",
       "\t<li>1.85998614964807</li>\n",
       "\t<li>-0.499404315021784</li>\n",
       "\t<li>-1.58472392876992</li>\n",
       "\t<li>-0.40502869643499</li>\n",
       "</ol>\n"
      ],
      "text/latex": [
       "\\begin{enumerate*}\n",
       "\\item 2.47342767046223\n",
       "\\item 0.774666535899935\n",
       "\\item 0.633103108019744\n",
       "\\item -0.216277459261402\n",
       "\\item -0.829718980075563\n",
       "\\item 0.869042154486729\n",
       "\\item -0.074714031381211\n",
       "\\item -0.310653077848196\n",
       "\\item -0.688155552195372\n",
       "\\item 1.2937324381273\n",
       "\\item 0.444351870846156\n",
       "\\item 0.019661587205583\n",
       "\\item -0.216277459261402\n",
       "\\item 2.19030081470185\n",
       "\\item -2.24535325887747\n",
       "\\item 0.821854345193332\n",
       "\\item 0.161225015085774\n",
       "\\item -1.16003364512934\n",
       "\\item -1.67909954735671\n",
       "\\item -0.121901840674608\n",
       "\\item 1.3409202474207\n",
       "\\item -0.40502869643499\n",
       "\\item -0.688155552195372\n",
       "\\item 0.444351870846156\n",
       "\\item -0.782531170782166\n",
       "\\item 1.3881080567141\n",
       "\\item 0.633103108019744\n",
       "\\item -1.7734751659435\n",
       "\\item 0.633103108019744\n",
       "\\item -1.8206629752369\n",
       "\\item 0.633103108019744\n",
       "\\item -0.263465268554799\n",
       "\\item -1.01847021724915\n",
       "\\item -0.40502869643499\n",
       "\\item -1.44316050088972\n",
       "\\item -0.688155552195372\n",
       "\\item -0.87690678936896\n",
       "\\item -0.735343361488769\n",
       "\\item -0.40502869643499\n",
       "\\item -0.829718980075563\n",
       "\\item 1.3409202474207\n",
       "\\item 0.255600633672568\n",
       "\\item 0.161225015085774\n",
       "\\item 2.09592519611505\n",
       "\\item 0.397164061552759\n",
       "\\item 1.15216901024711\n",
       "\\item 1.24654462883391\n",
       "\\item -1.25440926371614\n",
       "\\item 1.71842272176788\n",
       "\\item 0.114037205792377\n",
       "\\item 0.869042154486729\n",
       "\\item -1.8678507845303\n",
       "\\item -0.169089649968005\n",
       "\\item 0.633103108019744\n",
       "\\item -0.735343361488769\n",
       "\\item 0.302788442965965\n",
       "\\item 0.161225015085774\n",
       "\\item -0.499404315021784\n",
       "\\item -0.782531170782166\n",
       "\\item 1.01060558236692\n",
       "\\item -0.310653077848196\n",
       "\\item 0.821854345193332\n",
       "\\item 1.10498120095371\n",
       "\\item -0.688155552195372\n",
       "\\item -0.735343361488769\n",
       "\\item -0.074714031381211\n",
       "\\item 0.161225015085774\n",
       "\\item 0.302788442965965\n",
       "\\item 0.114037205792377\n",
       "\\item 0.53872748943295\n",
       "\\item -0.310653077848196\n",
       "\\item -0.310653077848196\n",
       "\\item -0.074714031381211\n",
       "\\item 0.444351870846156\n",
       "\\item -0.074714031381211\n",
       "\\item -0.40502869643499\n",
       "\\item -0.593779933608578\n",
       "\\item 0.349976252259362\n",
       "\\item -0.027526222087814\n",
       "\\item -1.34878488230293\n",
       "\\item 1.62404710318108\n",
       "\\item -1.06565802654255\n",
       "\\item 0.727478726606538\n",
       "\\item -0.829718980075563\n",
       "\\item 1.62404710318108\n",
       "\\item -2.67004354251805\n",
       "\\item -0.688155552195372\n",
       "\\item 0.349976252259362\n",
       "\\item 0.444351870846156\n",
       "\\item -0.640967742901975\n",
       "\\item 1.19935681954051\n",
       "\\item 0.444351870846156\n",
       "\\item 1.85998614964807\n",
       "\\item -0.499404315021784\n",
       "\\item -1.58472392876992\n",
       "\\item -0.40502869643499\n",
       "\\end{enumerate*}\n"
      ],
      "text/markdown": [
       "1. 2.47342767046223\n",
       "2. 0.774666535899935\n",
       "3. 0.633103108019744\n",
       "4. -0.216277459261402\n",
       "5. -0.829718980075563\n",
       "6. 0.869042154486729\n",
       "7. -0.074714031381211\n",
       "8. -0.310653077848196\n",
       "9. -0.688155552195372\n",
       "10. 1.2937324381273\n",
       "11. 0.444351870846156\n",
       "12. 0.019661587205583\n",
       "13. -0.216277459261402\n",
       "14. 2.19030081470185\n",
       "15. -2.24535325887747\n",
       "16. 0.821854345193332\n",
       "17. 0.161225015085774\n",
       "18. -1.16003364512934\n",
       "19. -1.67909954735671\n",
       "20. -0.121901840674608\n",
       "21. 1.3409202474207\n",
       "22. -0.40502869643499\n",
       "23. -0.688155552195372\n",
       "24. 0.444351870846156\n",
       "25. -0.782531170782166\n",
       "26. 1.3881080567141\n",
       "27. 0.633103108019744\n",
       "28. -1.7734751659435\n",
       "29. 0.633103108019744\n",
       "30. -1.8206629752369\n",
       "31. 0.633103108019744\n",
       "32. -0.263465268554799\n",
       "33. -1.01847021724915\n",
       "34. -0.40502869643499\n",
       "35. -1.44316050088972\n",
       "36. -0.688155552195372\n",
       "37. -0.87690678936896\n",
       "38. -0.735343361488769\n",
       "39. -0.40502869643499\n",
       "40. -0.829718980075563\n",
       "41. 1.3409202474207\n",
       "42. 0.255600633672568\n",
       "43. 0.161225015085774\n",
       "44. 2.09592519611505\n",
       "45. 0.397164061552759\n",
       "46. 1.15216901024711\n",
       "47. 1.24654462883391\n",
       "48. -1.25440926371614\n",
       "49. 1.71842272176788\n",
       "50. 0.114037205792377\n",
       "51. 0.869042154486729\n",
       "52. -1.8678507845303\n",
       "53. -0.169089649968005\n",
       "54. 0.633103108019744\n",
       "55. -0.735343361488769\n",
       "56. 0.302788442965965\n",
       "57. 0.161225015085774\n",
       "58. -0.499404315021784\n",
       "59. -0.782531170782166\n",
       "60. 1.01060558236692\n",
       "61. -0.310653077848196\n",
       "62. 0.821854345193332\n",
       "63. 1.10498120095371\n",
       "64. -0.688155552195372\n",
       "65. -0.735343361488769\n",
       "66. -0.074714031381211\n",
       "67. 0.161225015085774\n",
       "68. 0.302788442965965\n",
       "69. 0.114037205792377\n",
       "70. 0.53872748943295\n",
       "71. -0.310653077848196\n",
       "72. -0.310653077848196\n",
       "73. -0.074714031381211\n",
       "74. 0.444351870846156\n",
       "75. -0.074714031381211\n",
       "76. -0.40502869643499\n",
       "77. -0.593779933608578\n",
       "78. 0.349976252259362\n",
       "79. -0.027526222087814\n",
       "80. -1.34878488230293\n",
       "81. 1.62404710318108\n",
       "82. -1.06565802654255\n",
       "83. 0.727478726606538\n",
       "84. -0.829718980075563\n",
       "85. 1.62404710318108\n",
       "86. -2.67004354251805\n",
       "87. -0.688155552195372\n",
       "88. 0.349976252259362\n",
       "89. 0.444351870846156\n",
       "90. -0.640967742901975\n",
       "91. 1.19935681954051\n",
       "92. 0.444351870846156\n",
       "93. 1.85998614964807\n",
       "94. -0.499404315021784\n",
       "95. -1.58472392876992\n",
       "96. -0.40502869643499\n",
       "\n",
       "\n"
      ],
      "text/plain": [
       " [1]  2.47342767  0.77466654  0.63310311 -0.21627746 -0.82971898  0.86904215\n",
       " [7] -0.07471403 -0.31065308 -0.68815555  1.29373244  0.44435187  0.01966159\n",
       "[13] -0.21627746  2.19030081 -2.24535326  0.82185435  0.16122502 -1.16003365\n",
       "[19] -1.67909955 -0.12190184  1.34092025 -0.40502870 -0.68815555  0.44435187\n",
       "[25] -0.78253117  1.38810806  0.63310311 -1.77347517  0.63310311 -1.82066298\n",
       "[31]  0.63310311 -0.26346527 -1.01847022 -0.40502870 -1.44316050 -0.68815555\n",
       "[37] -0.87690679 -0.73534336 -0.40502870 -0.82971898  1.34092025  0.25560063\n",
       "[43]  0.16122502  2.09592520  0.39716406  1.15216901  1.24654463 -1.25440926\n",
       "[49]  1.71842272  0.11403721  0.86904215 -1.86785078 -0.16908965  0.63310311\n",
       "[55] -0.73534336  0.30278844  0.16122502 -0.49940432 -0.78253117  1.01060558\n",
       "[61] -0.31065308  0.82185435  1.10498120 -0.68815555 -0.73534336 -0.07471403\n",
       "[67]  0.16122502  0.30278844  0.11403721  0.53872749 -0.31065308 -0.31065308\n",
       "[73] -0.07471403  0.44435187 -0.07471403 -0.40502870 -0.59377993  0.34997625\n",
       "[79] -0.02752622 -1.34878488  1.62404710 -1.06565803  0.72747873 -0.82971898\n",
       "[85]  1.62404710 -2.67004354 -0.68815555  0.34997625  0.44435187 -0.64096774\n",
       "[91]  1.19935682  0.44435187  1.85998615 -0.49940432 -1.58472393 -0.40502870"
      ]
     },
     "metadata": {},
     "output_type": "display_data"
    },
    {
     "data": {
      "text/html": [
       "8.96852037080009e-16"
      ],
      "text/latex": [
       "8.96852037080009e-16"
      ],
      "text/markdown": [
       "8.96852037080009e-16"
      ],
      "text/plain": [
       "[1] 8.96852e-16"
      ]
     },
     "metadata": {},
     "output_type": "display_data"
    },
    {
     "data": {
      "text/html": [
       "1"
      ],
      "text/latex": [
       "1"
      ],
      "text/markdown": [
       "1"
      ],
      "text/plain": [
       "[1] 1"
      ]
     },
     "metadata": {},
     "output_type": "display_data"
    },
    {
     "data": {
      "text/plain": [
       "    Min.  1st Qu.   Median     Mean  3rd Qu.     Max. \n",
       "-2.67004 -0.68816 -0.07471  0.00000  0.63310  2.47343 "
      ]
     },
     "metadata": {},
     "output_type": "display_data"
    },
    {
     "data": {
      "image/png": "[encoded data removed]",
      "text/plain": [
       "Plot with title \"Histogram of L2\""
      ]
     },
     "metadata": {},
     "output_type": "display_data"
    },
    {
     "data": {
      "text/html": [
       "0.211855398583397"
      ],
      "text/latex": [
       "0.211855398583397"
      ],
      "text/markdown": [
       "0.211855398583397"
      ],
      "text/plain": [
       "[1] 0.2118554"
      ]
     },
     "metadata": {},
     "output_type": "display_data"
    },
    {
     "data": {
      "text/html": [
       "0.00564971004018266"
      ],
      "text/latex": [
       "0.00564971004018266"
      ],
      "text/markdown": [
       "0.00564971004018266"
      ],
      "text/plain": [
       "[1] 0.00564971"
      ]
     },
     "metadata": {},
     "output_type": "display_data"
    },
    {
     "data": {
      "text/html": [
       "0.00564971004018269"
      ],
      "text/latex": [
       "0.00564971004018269"
      ],
      "text/markdown": [
       "0.00564971004018269"
      ],
      "text/plain": [
       "[1] 0.00564971"
      ]
     },
     "metadata": {},
     "output_type": "display_data"
    },
    {
     "data": {
      "text/html": [
       "0.471890826375972"
      ],
      "text/latex": [
       "0.471890826375972"
      ],
      "text/markdown": [
       "0.471890826375972"
      ],
      "text/plain": [
       "[1] 0.4718908"
      ]
     },
     "metadata": {},
     "output_type": "display_data"
    },
    {
     "data": {
      "text/html": [
       "0.447227434619703"
      ],
      "text/latex": [
       "0.447227434619703"
      ],
      "text/markdown": [
       "0.447227434619703"
      ],
      "text/plain": [
       "[1] 0.4472274"
      ]
     },
     "metadata": {},
     "output_type": "display_data"
    },
    {
     "data": {
      "text/html": [
       "0.00107560199842582"
      ],
      "text/latex": [
       "0.00107560199842582"
      ],
      "text/markdown": [
       "0.00107560199842582"
      ],
      "text/plain": [
       "[1] 0.001075602"
      ]
     },
     "metadata": {},
     "output_type": "display_data"
    },
    {
     "data": {
      "text/html": [
       "0.00620966532577616"
      ],
      "text/latex": [
       "0.00620966532577616"
      ],
      "text/markdown": [
       "0.00620966532577616"
      ],
      "text/plain": [
       "[1] 0.006209665"
      ]
     },
     "metadata": {},
     "output_type": "display_data"
    },
    {
     "data": {
      "text/html": [
       "0.00620966532577613"
      ],
      "text/latex": [
       "0.00620966532577613"
      ],
      "text/markdown": [
       "0.00620966532577613"
      ],
      "text/plain": [
       "[1] 0.006209665"
      ]
     },
     "metadata": {},
     "output_type": "display_data"
    },
    {
     "data": {
      "text/html": [
       "0.492342196693477"
      ],
      "text/latex": [
       "0.492342196693477"
      ],
      "text/markdown": [
       "0.492342196693477"
      ],
      "text/plain": [
       "[1] 0.4923422"
      ]
     },
     "metadata": {},
     "output_type": "display_data"
    },
    {
     "data": {
      "text/html": [
       "0.441112025839266"
      ],
      "text/latex": [
       "0.441112025839266"
      ],
      "text/markdown": [
       "0.441112025839266"
      ],
      "text/plain": [
       "[1] 0.441112"
      ]
     },
     "metadata": {},
     "output_type": "display_data"
    },
    {
     "data": {
      "text/html": [
       "-1.17498679206609"
      ],
      "text/latex": [
       "-1.17498679206609"
      ],
      "text/markdown": [
       "-1.17498679206609"
      ],
      "text/plain": [
       "[1] -1.174987"
      ]
     },
     "metadata": {},
     "output_type": "display_data"
    },
    {
     "data": {
      "text/html": [
       "58.5501849110747"
      ],
      "text/latex": [
       "58.5501849110747"
      ],
      "text/markdown": [
       "58.5501849110747"
      ],
      "text/plain": [
       "[1] 58.55018"
      ]
     },
     "metadata": {},
     "output_type": "display_data"
    },
    {
     "data": {
      "text/html": [
       "0.725746882249927"
      ],
      "text/latex": [
       "0.725746882249927"
      ],
      "text/markdown": [
       "0.725746882249927"
      ],
      "text/plain": [
       "[1] 0.7257469"
      ]
     },
     "metadata": {},
     "output_type": "display_data"
    },
    {
     "data": {
      "text/html": [
       "0.725746882249927"
      ],
      "text/latex": [
       "0.725746882249927"
      ],
      "text/markdown": [
       "0.725746882249927"
      ],
      "text/plain": [
       "[1] 0.7257469"
      ]
     },
     "metadata": {},
     "output_type": "display_data"
    },
    {
     "data": {
      "text/html": [
       "0.00564917275556065"
      ],
      "text/latex": [
       "0.00564917275556065"
      ],
      "text/markdown": [
       "0.00564917275556065"
      ],
      "text/plain": [
       "[1] 0.005649173"
      ]
     },
     "metadata": {},
     "output_type": "display_data"
    },
    {
     "data": {
      "text/html": [
       "0.00564917275556064"
      ],
      "text/latex": [
       "0.00564917275556064"
      ],
      "text/markdown": [
       "0.00564917275556064"
      ],
      "text/plain": [
       "[1] 0.005649173"
      ]
     },
     "metadata": {},
     "output_type": "display_data"
    },
    {
     "data": {
      "text/html": [
       "0.471903405886779"
      ],
      "text/latex": [
       "0.471903405886779"
      ],
      "text/markdown": [
       "0.471903405886779"
      ],
      "text/plain": [
       "[1] 0.4719034"
      ]
     },
     "metadata": {},
     "output_type": "display_data"
    },
    {
     "data": {
      "text/html": [
       "0.447215510221812"
      ],
      "text/latex": [
       "0.447215510221812"
      ],
      "text/markdown": [
       "0.447215510221812"
      ],
      "text/plain": [
       "[1] 0.4472155"
      ]
     },
     "metadata": {},
     "output_type": "display_data"
    },
    {
     "data": {
      "text/html": [
       "0.00620966532577616"
      ],
      "text/latex": [
       "0.00620966532577616"
      ],
      "text/markdown": [
       "0.00620966532577616"
      ],
      "text/plain": [
       "[1] 0.006209665"
      ]
     },
     "metadata": {},
     "output_type": "display_data"
    },
    {
     "data": {
      "text/html": [
       "0.00620966532577613"
      ],
      "text/latex": [
       "0.00620966532577613"
      ],
      "text/markdown": [
       "0.00620966532577613"
      ],
      "text/plain": [
       "[1] 0.006209665"
      ]
     },
     "metadata": {},
     "output_type": "display_data"
    },
    {
     "data": {
      "text/html": [
       "0.492342196693477"
      ],
      "text/latex": [
       "0.492342196693477"
      ],
      "text/markdown": [
       "0.492342196693477"
      ],
      "text/plain": [
       "[1] 0.4923422"
      ]
     },
     "metadata": {},
     "output_type": "display_data"
    },
    {
     "data": {
      "text/html": [
       "0.441112025839266"
      ],
      "text/latex": [
       "0.441112025839266"
      ],
      "text/markdown": [
       "0.441112025839266"
      ],
      "text/plain": [
       "[1] 0.441112"
      ]
     },
     "metadata": {},
     "output_type": "display_data"
    },
    {
     "data": {
      "text/html": [
       "58.5501849110747"
      ],
      "text/latex": [
       "58.5501849110747"
      ],
      "text/markdown": [
       "58.5501849110747"
      ],
      "text/plain": [
       "[1] 58.55018"
      ]
     },
     "metadata": {},
     "output_type": "display_data"
    },
    {
     "data": {
      "text/html": [
       "58.5501849110747"
      ],
      "text/latex": [
       "58.5501849110747"
      ],
      "text/markdown": [
       "58.5501849110747"
      ],
      "text/plain": [
       "[1] 58.55018"
      ]
     },
     "metadata": {},
     "output_type": "display_data"
    },
    {
     "data": {
      "image/png": "[encoded data removed]",
      "text/plain": [
       "Plot with title \"Histogram of L3\""
      ]
     },
     "metadata": {},
     "output_type": "display_data"
    }
   ],
   "source": [
    "\n",
    "x <- seq(-4, 4, length=200)\n",
    "hx <- dnorm(x)\n",
    "plot(x, hx, type=\"l\", lty=1,\n",
    "     xlim=c(-4,4), xaxp=c(-4,4,16),\n",
    "     ylim=c(0,0.4), yaxp=c(0,0.4,8),\n",
    "     las=2, cex.axis=0.75,\n",
    "     xlab=\"z value\",\n",
    "     ylab=\"Density\", main=\"Normal Distribution\")\n",
    "abline( v=0, lty=1, lwd=2)\n",
    "abline( h=0, lty=1, lwd=2)\n",
    "abline( h=seq(0.05,4,0.05), lty=3, col=\"darkgray\")\n",
    "abline( v=seq(-4,4,0.5), lty=3, col=\"darkgray\")\n",
    "\n",
    "plot(x, hx, type=\"l\", lty=1,\n",
    "     xlim=c(-4,4), xaxp=c(-4,4,16),\n",
    "     ylim=c(0,8), yaxp=c(0,8,16),\n",
    "     las=2, cex.axis=0.75,\n",
    "     xlab=\"z value\",\n",
    "     ylab=\"Density\", main=\"Normal Distribution\")\n",
    "abline( v=0, lty=1, lwd=2)\n",
    "abline( h=0, lty=1, lwd=2)\n",
    "abline( h=seq(0.5,16,0.5), lty=3, col=\"darkgray\")\n",
    "abline( v=seq(-4,4,0.5), lty=3, col=\"darkgray\")\n",
    "\n",
    "pnorm(-2.14)\n",
    "pnorm(0.97)\n",
    "1 - pnorm(0.97)\n",
    "\n",
    "pnorm(0.97) - pnorm(-2.14)\n",
    "pnorm(-2.14)+(1 - pnorm(0.97))\n",
    "\n",
    "pnorm(0.97, lower.tail=FALSE)\n",
    "# re-do P(X<-2.14) or P(X>0.97)\n",
    "pnorm(-2.14)+pnorm(0.97,lower.tail=FALSE)\n",
    "\n",
    "qnorm(0.05)\n",
    "\n",
    "options(digits=13)\n",
    "qnorm(0.05)\n",
    "options(digits=7)\n",
    "\n",
    "source(\"gnrnd4.R\")\n",
    "gnrnd4( key1=121859504, key2=0002100345 )\n",
    "L1\n",
    "mu<-mean(L1)\n",
    "mu\n",
    "sd(L1)\n",
    "pop_sd<-function( input_list )\n",
    "{ n <- length( input_list)\n",
    "sd( input_list )*sqrt((n-1)/n)\n",
    "}\n",
    "pop_sd( L1)\n",
    "sigma<-pop_sd( L1)\n",
    "sigma\n",
    "\n",
    "summary(L1)\n",
    "\n",
    "hist(L1,xlim=c(280,400),\n",
    "     breaks=seq(280,400,5), \n",
    "     xaxp=c(280,400,24), \n",
    "     cex.axis=0.75, las=2, right=FALSE)\n",
    "\n",
    "L2<-L1-mu\n",
    "L2\n",
    "mean(L2)\n",
    "pop_sd( L2)\n",
    "summary( L2)\n",
    "hist(L2,xlim=c(-60,60),\n",
    "     breaks=seq(-60,60,5), \n",
    "     xaxp=c(-60,60,24), \n",
    "     cex.axis=0.75, las=2)\n",
    "\n",
    "L3<-L2/sigma\n",
    "L3\n",
    "mean(L3)\n",
    "pop_sd(L3)\n",
    "summary( L3)\n",
    "hist(L3,xlim=c(-3,3),\n",
    "     breaks=seq(-3,3,0.25), \n",
    "     xaxp=c(-3,3,24), \n",
    "     cex.axis=0.75, las=2)\n",
    "\n",
    "pnorm(-0.8)\n",
    "\n",
    "1-pnorm(2.5333) \n",
    "pnorm(2.5333,lower.tail=FALSE)\n",
    "pnorm(0.3333)-pnorm(-1)\n",
    "1-(pnorm(1.2666)-pnorm(-0.4))\n",
    "\n",
    "pnorm((138.5-100)/15)-pnorm((137.5-100)/15)\n",
    "\n",
    "1-pnorm((137.5-100)/15) \n",
    "pnorm((137.5-100)/15,lower.tail=FALSE)\n",
    "pnorm((105.5-100)/15)-pnorm((84.5-100)/15)\n",
    "1-(pnorm((118.5-100)/15)-pnorm((93.5-100)/15))\n",
    "\n",
    "qnorm(.12)\n",
    "qnorm(.12)*14+75\n",
    "\n",
    "pnorm(83.4, mean=75, sd=14)\n",
    "pnorm((83.4-75)/14)\n",
    "\n",
    "\n",
    "1-pnorm(138,mean=100, sd=15) \n",
    "pnorm(138,mean=100, sd=15,\n",
    "      lower.tail=FALSE)\n",
    "pnorm(105,mean=100, sd=15) - \n",
    "      pnorm(85,mean=100, sd=15)\n",
    "1-(pnorm(119,mean=100, sd=15) - \n",
    "   pnorm(94,mean=100, sd=15))\n",
    "#\n",
    "#corrected to\n",
    "#\n",
    "1-pnorm(137.5,mean=100, sd=15) \n",
    "pnorm(137.5,mean=100, sd=15,\n",
    "      lower.tail=FALSE)\n",
    "pnorm(105.5,mean=100, sd=15) - \n",
    "      pnorm(84.5,mean=100, sd=15)\n",
    "1-(pnorm(118.5,mean=100, sd=15) - \n",
    "   pnorm(93.5,mean=100, sd=15))\n",
    "\n",
    "qnorm(0.12,mean=75, sd=14)\n",
    "qnorm(0.12,75,14)"
   ]
  },
  {
   "cell_type": "markdown",
   "metadata": {},
   "source": [
    "# Comparing the distribution of a dataset with normal distribution\n",
    "\n",
    "\n",
    "\n",
    "\n",
    "To see how accurate that description is, we can plot a normal distribution curve on top of a histogram to see how closely the data follow a normal distribution. This normal curve should have the same mean and standard deviation as the data. We’ll be working with women’s heights, so let’s store them as a separate object and then calculate some statistics that will be referenced later."
   ]
  },
  {
   "cell_type": "code",
   "execution_count": 13,
   "metadata": {},
   "outputs": [],
   "source": [
    "fhgtmean <- mean(fdims$hgt)\n",
    "fhgtsd   <- sd(fdims$hgt)"
   ]
  },
  {
   "cell_type": "markdown",
   "metadata": {},
   "source": [
    "Next we make a density histogram to use as the backdrop and use the lines function to overlay a normal probability curve. The difference between a frequency histogram and a density histogram is that while in a frequency histogram the heights of the bars add up to the total number of observations, in a density histogram the areas of the bars add up to 1. The area of each bar can be calculated as simply the height times the width of the bar. Using a density histogram allows us to properly overlay a normal distribution curve over the histogram since the curve is a normal probability density function. Frequency and density histograms both display the same exact shape; they only differ in their y-axis. You can verify this by comparing the frequency histogram you constructed earlier and the density histogram created by the commands below."
   ]
  },
  {
   "cell_type": "code",
   "execution_count": 14,
   "metadata": {},
   "outputs": [
    {
     "data": {
      "image/png": "[encoded data removed]",
      "text/plain": [
       "Plot with title \"Histogram of fdims$hgt\""
      ]
     },
     "metadata": {},
     "output_type": "display_data"
    }
   ],
   "source": [
    "hist(fdims$hgt, probability = TRUE, breaks = 20)\n",
    "x <- 140:190\n",
    "y <- dnorm(x = x, mean = fhgtmean, sd = fhgtsd)\n",
    "lines(x = x, y = y, col = \"blue\")"
   ]
  },
  {
   "cell_type": "markdown",
   "metadata": {},
   "source": []
  },
  {
   "cell_type": "markdown",
   "metadata": {},
   "source": [
    "After plotting the density histogram with the first command, we create the x- and y-coordinates for the normal curve. We chose the x range as 140 to 190 in order to span the entire range of fheight. To create y, we use dnorm to calculate the density of each of those x-values in a distribution that is normal with mean fhgtmean and standard deviation fhgtsd. The final command draws a curve on the existing plot (the density histogram) by connecting each of the points specified by x and y. The argument col simply sets the color for the line to be drawn. If we left it out, the line would be drawn in black.\n",
    "\n",
    "The top of the curve may be cut off because the limits of the x- and y-axes are set to best fit the histogram. To adjust the y-axis you can add a third argument to the histogram function: ylim = c(0, 0.06)."
   ]
  },
  {
   "cell_type": "markdown",
   "metadata": {},
   "source": [
    "# Evaluating the normal distribution - Assessing Normality\n",
    "\n",
    "We know that the normal distribution is continuous, symmetric, unimodal (it only has one modal region), and relatively free from outliers (extreme values, relative to the spread of other values, are extremely rare). We should also know that we will never find a real population or sample that is exactly normal. Every collection of real values is at best close to being normally distributed. It would be nice to have some method to say that some sample is approximately normal. This turns out to be a big challenge. About the best we can do is to come up with a list of characteristics that should disqualify a sample from being called approximately normal. \n",
    "\n",
    "Disqualify as normal if a sample\n",
    "\n",
    "* has distinct values, and not a huge number of distict values, so that it is hard to believe it is continuous,\n",
    "* is clearly not symmetric,\n",
    "* has more than one modal region,\n",
    "* has outliers (extreme values), or\n",
    "* does not have a linear **quantile plot** \n",
    "\n",
    "\n",
    "Eyeballing the shape of the histogram is one way to determine if the data appear to be nearly normally distributed, but it can be frustrating to decide just how close the histogram is to the curve.\n",
    "\n",
    "An alternative approach involves constructing a normal probability plot, also called a normal Q-Q plot for “quantile-quantile”.\n",
    "\n",
    "The idea is that if a dataset L1 with 86 elements represents an approximately normal distribution then we could sort the values in L1 and the resulting sorted list would correspond to the density of a normal distribution. That is, the lower and upper values would be more spread out and, as we approach the center of the values, they would be more tightly packed. We have 86 values in L1. In effect, we expect about 1/86th of the area under a normal curve to be between the sorted points. Well, we need to leave a little area for the tails too.\n",
    "\n",
    "We could construct our own list where we are sure that the values correspond to the density of the normal distribution. The qnorm() function will allow us to find z-values for any size area that we choose. The entire area under the curve is 1 square unit. What we need is a list of z-scores that split the region into equal size areas. We start by finding 86 evenly spaced values strictly between 0 and 1. We can do this by first finding the number that is twice 86. That will be 86*2=172. Then the values that we want are 1/172, 3/172, 5/172, 7/172, ..., 167/172, 169/172, and 171/172. Each of those values has 2/172=1/86 between them. Of course there are only 85 \"between\" areas. The final area is in the region below 1/172 (and above 0) and in the region above 171/172 (and below 1). From those values we can use qnorm() to find the corresponding z-score that has that area to its left. Our list of generated z-scores will be 86 values long and there will be an equal area between the scores.\n",
    "\n",
    "Finally, if the values in L1 represent values from a normal distribution then when we plot the sorted version of L1 against our constructed list of z-scores the resulting plot should be points on a diagonal line. "
   ]
  },
  {
   "cell_type": "code",
   "execution_count": 18,
   "metadata": {},
   "outputs": [],
   "source": [
    "assess_normality <- function( data_list )\n",
    "{\n",
    "  n <- length( data_list )\n",
    "  sorted_data <- sort( data_list )\n",
    "  q <- 2*n\n",
    "  p <- seq(1, q-1, 2 )\n",
    "  L2 <- p/q\n",
    "  L3 <- qnorm(L2)\n",
    "  plot( sorted_data, L3, \n",
    "        ylab=\"z values\"\n",
    "      )\n",
    "}"
   ]
  },
  {
   "cell_type": "code",
   "execution_count": 19,
   "metadata": {},
   "outputs": [
    {
     "data": {
      "image/png": "[encoded data removed]",
      "text/plain": [
       "plot without title"
      ]
     },
     "metadata": {},
     "output_type": "display_data"
    }
   ],
   "source": [
    "assess_normality(fdims$hgt)"
   ]
  },
  {
   "cell_type": "code",
   "execution_count": 20,
   "metadata": {},
   "outputs": [
    {
     "data": {
      "image/png": "[encoded data removed]",
      "text/plain": [
       "Plot with title \"Normal Q-Q Plot\""
      ]
     },
     "metadata": {},
     "output_type": "display_data"
    }
   ],
   "source": [
    "qqnorm(fdims$hgt)\n",
    "qqline(fdims$hgt)"
   ]
  },
  {
   "cell_type": "markdown",
   "metadata": {},
   "source": [
    "A data set that is nearly normal will result in a probability plot where the points closely follow the line. Any deviations from normality leads to deviations of these points from the line. The plot for female heights shows points that tend to follow the line but with some errant points towards the tails. We’re left with the same problem that we encountered with the histogram above: how close is close enough?\n",
    "\n",
    "A useful way to address this question is to rephrase it as: what do probability plots look like for data that I know came from a normal distribution? We can answer this by simulating data from a normal distribution using rnorm."
   ]
  },
  {
   "cell_type": "code",
   "execution_count": 21,
   "metadata": {},
   "outputs": [],
   "source": [
    "sim_norm <- rnorm(n = length(fdims$hgt), mean = fhgtmean, sd = fhgtsd)"
   ]
  },
  {
   "cell_type": "markdown",
   "metadata": {},
   "source": [
    "The first argument indicates how many numbers you’d like to generate, which we specify to be the same number of heights in the fdims data set using the length function. The last two arguments determine the mean and standard deviation of the normal distribution from which the simulated sample will be generated. We can take a look at the shape of our simulated data set, sim_norm, as well as its normal probability plot.\n",
    "\n",
    "Even better than comparing the original plot to a single plot generated from a normal distribution is to compare it to many more plots using the following function. This function \"repeats\" the command 9 times. "
   ]
  },
  {
   "cell_type": "code",
   "execution_count": 22,
   "metadata": {},
   "outputs": [],
   "source": [
    "qqnormsim <- function (dat) \n",
    "{\n",
    "    par(mfrow = c(3, 3))\n",
    "    qqnorm(dat, main = \"Normal QQ Plot (Data)\")\n",
    "    qqline(dat)\n",
    "    for (i in 1:8) {\n",
    "        simnorm <- rnorm(n = length(dat), mean = mean(dat), sd = sd(dat))\n",
    "        qqnorm(simnorm, main = \"Normal QQ Plot (Sim)\")\n",
    "        qqline(simnorm)\n",
    "    }\n",
    "    par(mfrow = c(1, 1))\n",
    "}"
   ]
  },
  {
   "cell_type": "markdown",
   "metadata": {},
   "source": [
    "When you want to run a command in R that is encompassed by braces {}, it is best to highlight the whole command rather than go line by line. Alternatively, in this case, rather than copying and pasting the function from this tutorial, you may also read it into R from my website, using the source() command:"
   ]
  },
  {
   "cell_type": "code",
   "execution_count": 25,
   "metadata": {},
   "outputs": [],
   "source": [
    "source(\"qqnormsim.R\")\n",
    "\n"
   ]
  },
  {
   "cell_type": "code",
   "execution_count": 26,
   "metadata": {},
   "outputs": [
    {
     "data": {
      "image/png": "[encoded data removed]",
      "text/plain": [
       "Plot with title \"Normal QQ Plot (Sim)\""
      ]
     },
     "metadata": {},
     "output_type": "display_data"
    }
   ],
   "source": [
    "qqnormsim(fdims$hgt)"
   ]
  },
  {
   "cell_type": "markdown",
   "metadata": {},
   "source": [
    "# Normal probabilities\n",
    "Okay, so now you have a slew of tools to judge whether or not a variable is normally distributed. Why should we care?\n",
    "\n",
    "It turns out that statisticians know a lot about the normal distribution. Once we decide that a random variable is approximately normal, we can answer all sorts of questions about that variable related to probability. Take, for example, the question of, **“What is the probability that a randomly chosen young adult female is taller than 6 feet (about 182 cm)?”** or in formal form find $P(fhtg>182)$.\n",
    "\n",
    "If we assume that female heights are normally distributed (a very close approximation is also okay), we can find this probability by calculating a **Z score ($z=\\frac{x-\\mu}{\\sigma}$)**  and consulting a Z table (also called a normal probability table). In R, this is done in one step with the function pnorm."
   ]
  },
  {
   "cell_type": "code",
   "execution_count": 23,
   "metadata": {},
   "outputs": [
    {
     "data": {
      "text/html": [
       "0.00443438691868725"
      ],
      "text/latex": [
       "0.00443438691868725"
      ],
      "text/markdown": [
       "0.00443438691868725"
      ],
      "text/plain": [
       "[1] 0.004434387"
      ]
     },
     "metadata": {},
     "output_type": "display_data"
    }
   ],
   "source": [
    "1 - pnorm(q = 182, mean = fhgtmean, sd = fhgtsd)"
   ]
  },
  {
   "cell_type": "markdown",
   "metadata": {},
   "source": [
    "Note that the function pnorm gives the area under the normal curve below a given value, q, with a given mean and standard deviation. Since we’re interested in the probability that someone is taller than 182 cm, we have to take one minus that probability.\n",
    "\n",
    "Assuming a normal distribution has allowed us to calculate a theoretical probability. **If we want to calculate the probability empirically, we simply need to determine how many observations fall above 182 then divide this number by the total sample size.**"
   ]
  },
  {
   "cell_type": "code",
   "execution_count": 27,
   "metadata": {},
   "outputs": [
    {
     "data": {
      "text/html": [
       "0.00384615384615385"
      ],
      "text/latex": [
       "0.00384615384615385"
      ],
      "text/markdown": [
       "0.00384615384615385"
      ],
      "text/plain": [
       "[1] 0.003846154"
      ]
     },
     "metadata": {},
     "output_type": "display_data"
    }
   ],
   "source": [
    "sum(fdims$hgt > 182) / length(fdims$hgt)"
   ]
  },
  {
   "cell_type": "markdown",
   "metadata": {},
   "source": [
    "\n",
    "Although the probabilities are not exactly the same, they are reasonably close. The closer that your distribution is to being normal, the more accurate the theoretical probabilities will be.\n",
    "\n"
   ]
  },
  {
   "cell_type": "code",
   "execution_count": 28,
   "metadata": {},
   "outputs": [
    {
     "data": {
      "text/html": [
       "0.909877327535548"
      ],
      "text/latex": [
       "0.909877327535548"
      ],
      "text/markdown": [
       "0.909877327535548"
      ],
      "text/plain": [
       "[1] 0.9098773"
      ]
     },
     "metadata": {},
     "output_type": "display_data"
    },
    {
     "data": {
      "text/html": [
       "0.0901226724644524"
      ],
      "text/latex": [
       "0.0901226724644524"
      ],
      "text/markdown": [
       "0.0901226724644524"
      ],
      "text/plain": [
       "[1] 0.09012267"
      ]
     },
     "metadata": {},
     "output_type": "display_data"
    },
    {
     "data": {
      "text/html": [
       "0.0901226724644524"
      ],
      "text/latex": [
       "0.0901226724644524"
      ],
      "text/markdown": [
       "0.0901226724644524"
      ],
      "text/plain": [
       "[1] 0.09012267"
      ]
     },
     "metadata": {},
     "output_type": "display_data"
    },
    {
     "data": {
      "text/html": [
       "0.624587041790947"
      ],
      "text/latex": [
       "0.624587041790947"
      ],
      "text/markdown": [
       "0.624587041790947"
      ],
      "text/plain": [
       "[1] 0.624587"
      ]
     },
     "metadata": {},
     "output_type": "display_data"
    },
    {
     "data": {
      "text/html": [
       "0.353770502939666"
      ],
      "text/latex": [
       "0.353770502939666"
      ],
      "text/markdown": [
       "0.353770502939666"
      ],
      "text/plain": [
       "[1] 0.3537705"
      ]
     },
     "metadata": {},
     "output_type": "display_data"
    },
    {
     "data": {
      "text/html": [
       "0.353770502939666"
      ],
      "text/latex": [
       "0.353770502939666"
      ],
      "text/markdown": [
       "0.353770502939666"
      ],
      "text/plain": [
       "[1] 0.3537705"
      ]
     },
     "metadata": {},
     "output_type": "display_data"
    },
    {
     "data": {
      "text/html": [
       "0.353770502939666"
      ],
      "text/latex": [
       "0.353770502939666"
      ],
      "text/markdown": [
       "0.353770502939666"
      ],
      "text/plain": [
       "[1] 0.3537705"
      ]
     },
     "metadata": {},
     "output_type": "display_data"
    },
    {
     "data": {
      "text/html": [
       "-0.738846849185214"
      ],
      "text/latex": [
       "-0.738846849185214"
      ],
      "text/markdown": [
       "-0.738846849185214"
      ],
      "text/plain": [
       "[1] -0.7388468"
      ]
     },
     "metadata": {},
     "output_type": "display_data"
    },
    {
     "data": {
      "text/html": [
       "0.738846849185214"
      ],
      "text/latex": [
       "0.738846849185214"
      ],
      "text/markdown": [
       "0.738846849185214"
      ],
      "text/plain": [
       "[1] 0.7388468"
      ]
     },
     "metadata": {},
     "output_type": "display_data"
    },
    {
     "data": {
      "text/html": [
       "0.738846849185214"
      ],
      "text/latex": [
       "0.738846849185214"
      ],
      "text/markdown": [
       "0.738846849185214"
      ],
      "text/plain": [
       "[1] 0.7388468"
      ]
     },
     "metadata": {},
     "output_type": "display_data"
    },
    {
     "data": {
      "text/html": [
       "-0.80642124701824"
      ],
      "text/latex": [
       "-0.80642124701824"
      ],
      "text/markdown": [
       "-0.80642124701824"
      ],
      "text/plain": [
       "[1] -0.8064212"
      ]
     },
     "metadata": {},
     "output_type": "display_data"
    },
    {
     "data": {
      "text/html": [
       "0.80642124701824"
      ],
      "text/latex": [
       "0.80642124701824"
      ],
      "text/markdown": [
       "0.80642124701824"
      ],
      "text/plain": [
       "[1] 0.8064212"
      ]
     },
     "metadata": {},
     "output_type": "display_data"
    },
    {
     "data": {
      "text/html": [
       "0.80642124701824"
      ],
      "text/latex": [
       "0.80642124701824"
      ],
      "text/markdown": [
       "0.80642124701824"
      ],
      "text/plain": [
       "[1] 0.8064212"
      ]
     },
     "metadata": {},
     "output_type": "display_data"
    },
    {
     "data": {
      "text/html": [
       "-1.78046434169203"
      ],
      "text/latex": [
       "-1.78046434169203"
      ],
      "text/markdown": [
       "-1.78046434169203"
      ],
      "text/plain": [
       "[1] -1.780464"
      ]
     },
     "metadata": {},
     "output_type": "display_data"
    },
    {
     "data": {
      "text/html": [
       "1.78046434169203"
      ],
      "text/latex": [
       "1.78046434169203"
      ],
      "text/markdown": [
       "1.78046434169203"
      ],
      "text/plain": [
       "[1] 1.780464"
      ]
     },
     "metadata": {},
     "output_type": "display_data"
    },
    {
     "data": {
      "text/html": [
       "0.68503937007874"
      ],
      "text/latex": [
       "0.68503937007874"
      ],
      "text/markdown": [
       "0.68503937007874"
      ],
      "text/plain": [
       "[1] 0.6850394"
      ]
     },
     "metadata": {},
     "output_type": "display_data"
    },
    {
     "data": {
      "text/html": [
       "0.753340461171973"
      ],
      "text/latex": [
       "0.753340461171973"
      ],
      "text/markdown": [
       "0.753340461171973"
      ],
      "text/plain": [
       "[1] 0.7533405"
      ]
     },
     "metadata": {},
     "output_type": "display_data"
    },
    {
     "data": {
      "text/html": [
       "0.753340461171973"
      ],
      "text/latex": [
       "0.753340461171973"
      ],
      "text/markdown": [
       "0.753340461171973"
      ],
      "text/plain": [
       "[1] 0.7533405"
      ]
     },
     "metadata": {},
     "output_type": "display_data"
    },
    {
     "data": {
      "text/html": [
       "-0.488188976377953"
      ],
      "text/latex": [
       "-0.488188976377953"
      ],
      "text/markdown": [
       "-0.488188976377953"
      ],
      "text/plain": [
       "[1] -0.488189"
      ]
     },
     "metadata": {},
     "output_type": "display_data"
    },
    {
     "data": {
      "text/html": [
       "0.687292003981392"
      ],
      "text/latex": [
       "0.687292003981392"
      ],
      "text/markdown": [
       "0.687292003981392"
      ],
      "text/plain": [
       "[1] 0.687292"
      ]
     },
     "metadata": {},
     "output_type": "display_data"
    },
    {
     "data": {
      "text/html": [
       "0.687292003981392"
      ],
      "text/latex": [
       "0.687292003981392"
      ],
      "text/markdown": [
       "0.687292003981392"
      ],
      "text/plain": [
       "[1] 0.687292"
      ]
     },
     "metadata": {},
     "output_type": "display_data"
    },
    {
     "data": {
      "text/html": [
       "0.687292003981392"
      ],
      "text/latex": [
       "0.687292003981392"
      ],
      "text/markdown": [
       "0.687292003981392"
      ],
      "text/plain": [
       "[1] 0.687292"
      ]
     },
     "metadata": {},
     "output_type": "display_data"
    },
    {
     "data": {
      "text/html": [
       "0.687292003981392"
      ],
      "text/latex": [
       "0.687292003981392"
      ],
      "text/markdown": [
       "0.687292003981392"
      ],
      "text/plain": [
       "[1] 0.687292"
      ]
     },
     "metadata": {},
     "output_type": "display_data"
    },
    {
     "data": {
      "text/html": [
       "-0.547945205479453"
      ],
      "text/latex": [
       "-0.547945205479453"
      ],
      "text/markdown": [
       "-0.547945205479453"
      ],
      "text/plain": [
       "[1] -0.5479452"
      ]
     },
     "metadata": {},
     "output_type": "display_data"
    },
    {
     "data": {
      "text/html": [
       "0.547945205479452"
      ],
      "text/latex": [
       "0.547945205479452"
      ],
      "text/markdown": [
       "0.547945205479452"
      ],
      "text/plain": [
       "[1] 0.5479452"
      ]
     },
     "metadata": {},
     "output_type": "display_data"
    },
    {
     "data": {
      "text/html": [
       "0.416270472423542"
      ],
      "text/latex": [
       "0.416270472423542"
      ],
      "text/markdown": [
       "0.416270472423542"
      ],
      "text/plain": [
       "[1] 0.4162705"
      ]
     },
     "metadata": {},
     "output_type": "display_data"
    },
    {
     "data": {
      "text/html": [
       "0.416270472423542"
      ],
      "text/latex": [
       "0.416270472423542"
      ],
      "text/markdown": [
       "0.416270472423542"
      ],
      "text/plain": [
       "[1] 0.4162705"
      ]
     },
     "metadata": {},
     "output_type": "display_data"
    },
    {
     "data": {
      "text/html": [
       "-0.928571428571429"
      ],
      "text/latex": [
       "-0.928571428571429"
      ],
      "text/markdown": [
       "-0.928571428571429"
      ],
      "text/plain": [
       "[1] -0.9285714"
      ]
     },
     "metadata": {},
     "output_type": "display_data"
    },
    {
     "data": {
      "text/html": [
       "1.21428571428571"
      ],
      "text/latex": [
       "1.21428571428571"
      ],
      "text/markdown": [
       "1.21428571428571"
      ],
      "text/plain": [
       "[1] 1.214286"
      ]
     },
     "metadata": {},
     "output_type": "display_data"
    },
    {
     "data": {
      "text/html": [
       "0.288874936714893"
      ],
      "text/latex": [
       "0.288874936714893"
      ],
      "text/markdown": [
       "0.288874936714893"
      ],
      "text/plain": [
       "[1] 0.2888749"
      ]
     },
     "metadata": {},
     "output_type": "display_data"
    },
    {
     "data": {
      "text/html": [
       "0.288874936714893"
      ],
      "text/latex": [
       "0.288874936714893"
      ],
      "text/markdown": [
       "0.288874936714893"
      ],
      "text/plain": [
       "[1] 0.2888749"
      ]
     },
     "metadata": {},
     "output_type": "display_data"
    },
    {
     "data": {
      "text/html": [
       "0.288874936714893"
      ],
      "text/latex": [
       "0.288874936714893"
      ],
      "text/markdown": [
       "0.288874936714893"
      ],
      "text/plain": [
       "[1] 0.2888749"
      ]
     },
     "metadata": {},
     "output_type": "display_data"
    },
    {
     "data": {
      "text/html": [
       "0.288874936714893"
      ],
      "text/latex": [
       "0.288874936714893"
      ],
      "text/markdown": [
       "0.288874936714893"
      ],
      "text/plain": [
       "[1] 0.2888749"
      ]
     },
     "metadata": {},
     "output_type": "display_data"
    },
    {
     "data": {
      "text/html": [
       "-0.48172684958473"
      ],
      "text/latex": [
       "-0.48172684958473"
      ],
      "text/markdown": [
       "-0.48172684958473"
      ],
      "text/plain": [
       "[1] -0.4817268"
      ]
     },
     "metadata": {},
     "output_type": "display_data"
    },
    {
     "data": {
      "text/html": [
       "9.15349446348826"
      ],
      "text/latex": [
       "9.15349446348826"
      ],
      "text/markdown": [
       "9.15349446348826"
      ],
      "text/plain": [
       "[1] 9.153494"
      ]
     },
     "metadata": {},
     "output_type": "display_data"
    },
    {
     "data": {
      "text/html": [
       "9.15349446348826"
      ],
      "text/latex": [
       "9.15349446348826"
      ],
      "text/markdown": [
       "9.15349446348826"
      ],
      "text/plain": [
       "[1] 9.153494"
      ]
     },
     "metadata": {},
     "output_type": "display_data"
    },
    {
     "data": {
      "text/html": [
       "0.553384719555673"
      ],
      "text/latex": [
       "0.553384719555673"
      ],
      "text/markdown": [
       "0.553384719555673"
      ],
      "text/plain": [
       "[1] 0.5533847"
      ]
     },
     "metadata": {},
     "output_type": "display_data"
    },
    {
     "data": {
      "text/html": [
       "0.553384719555673"
      ],
      "text/latex": [
       "0.553384719555673"
      ],
      "text/markdown": [
       "0.553384719555673"
      ],
      "text/plain": [
       "[1] 0.5533847"
      ]
     },
     "metadata": {},
     "output_type": "display_data"
    },
    {
     "data": {
      "text/html": [
       "8.83775470035652"
      ],
      "text/latex": [
       "8.83775470035652"
      ],
      "text/markdown": [
       "8.83775470035652"
      ],
      "text/plain": [
       "[1] 8.837755"
      ]
     },
     "metadata": {},
     "output_type": "display_data"
    },
    {
     "data": {
      "text/html": [
       "8.83775470035652"
      ],
      "text/latex": [
       "8.83775470035652"
      ],
      "text/markdown": [
       "8.83775470035652"
      ],
      "text/plain": [
       "[1] 8.837755"
      ]
     },
     "metadata": {},
     "output_type": "display_data"
    },
    {
     "data": {
      "text/html": [
       "8.83775470035652"
      ],
      "text/latex": [
       "8.83775470035652"
      ],
      "text/markdown": [
       "8.83775470035652"
      ],
      "text/plain": [
       "[1] 8.837755"
      ]
     },
     "metadata": {},
     "output_type": "display_data"
    }
   ],
   "source": [
    "# A quick review of using pnorm and qnorm\n",
    "#\n",
    "#   For a  Standard Normal distribution, N(0,1)\n",
    "#\n",
    "# find P(X<1.34)\n",
    "pnorm( 1.34 )\n",
    "# find P( X > 1.34)\n",
    "1 - pnorm( 1.34 )  # first way to do this\n",
    "pnorm( 1.34, lower.tail=FALSE)\n",
    "#\n",
    "# find P( -0.43 < X < 1.73 )\n",
    "pnorm( 1.73 ) - pnorm( -0.43 )\n",
    "#\n",
    "# find P( X < -0.75 or X > 1.14 )\n",
    "#            first way\n",
    "pnorm( -0.75 ) + ( 1 - pnorm(1.14))\n",
    "#            second way\n",
    "pnorm( -0.75 ) + pnorm(1.14, lower.tail=FALSE)\n",
    "#            third way\n",
    "1 - ( pnorm(1.14)-pnorm( -0.75) )\n",
    "#\n",
    "# find the value of x such that \n",
    "#    P( X < x ) = 0.23\n",
    "qnorm( 0.23 )\n",
    "# find the value of x such that \n",
    "#    P( X > x ) = 0.23\n",
    "qnorm( 1 - 0.23 )  # first way\n",
    "qnorm( 0.23, lower.tail=FALSE)  # second way\n",
    "\n",
    "# there is another type of problem that we can\n",
    "# do because the normal distribution is symmetric.\n",
    "# find x such that \n",
    "#  P( -x < X < x ) = 0.58\n",
    "#  we can find -x by\n",
    "qnorm( (1 - 0.58)/2)\n",
    "# we can find x by \n",
    "qnorm( 0.21, lower.tail= FALSE)\n",
    "# or \n",
    "qnorm( 0.79 )\n",
    "\n",
    "#\n",
    "#  or find x such that \n",
    "#  P( X <-x or X>x ) = 0.075\n",
    "# Because we have a symmetric distribution we \n",
    "# also know that this means \n",
    "# that P( X < -x ) = 0.075/2 = 0.0375\n",
    "qnorm( 0.0375 )  # which gives the value for -x\n",
    "# or we could do\n",
    "qnorm(0.0375, lower.tail=FALSE) # to get x\n",
    "\n",
    "######################################################\n",
    "#  Now, let us try some for non-standard             #\n",
    "#  normal distributions.  We will do each            #\n",
    "#  problem twice, once converting to the             #\n",
    "#  problem to a standard normal, and then the        #\n",
    "#  second time using the extra parameters of the     #\n",
    "#  pnorm and qnorm functions                         #  \n",
    "######################################################\n",
    "#\n",
    "#  For a normal population with mean=54.3 and\n",
    "#  standard deviation 12.7, i.e., N(54.3,12.7)\n",
    "#  find P( X < 63 )?\n",
    "#  Convert to a z-score\n",
    "z <- (63 - 54.3)/ 12.7\n",
    "z\n",
    "#  then use pnorm\n",
    "pnorm( z )\n",
    "#\n",
    "# or, just use the expanded pnorm command\n",
    "pnorm( 63, mean=54.3, sd=12.7)\n",
    "\n",
    "#######################\n",
    "# for a N(74.2, 6.54) population find\n",
    "# P( X > 68)\n",
    "#\n",
    "# convert to z-score\n",
    "z <- (68 - 74.2)/12.7\n",
    "z\n",
    "#  use pnorm\n",
    "1 - pnorm( z )  # looking to the left,\n",
    "# or\n",
    "pnorm( z, lower.tail = FALSE)  # looking to the right\n",
    "\n",
    "# or use the expanded pnorm function\n",
    "1 - pnorm( 68, mean=74.2, sd=12.7 ) # looking left\n",
    "# or\n",
    "pnorm( 68, mean=74.2, sd=12.7, lower.tail=FALSE ) # looking right\n",
    "#\n",
    "########################\n",
    "# for a N(3.2, 0.73) distribution\n",
    "#  find P( 2.8 < X < 3.6 )\n",
    "#\n",
    "# convert both values to z-scores\n",
    "z_left <- (2.8 - 3.2)/ 0.73\n",
    "z_left\n",
    "z_right <- ( 3.6 - 3.2 )/ 0.73\n",
    "z_right\n",
    "# use the pnorm functions\n",
    "pnorm( z_right ) - pnorm( z_left )\n",
    "#\n",
    "#  or use the expanded pnorm function\n",
    "pnorm( 3.6, mean=3.2, sd=0.73) - \n",
    "    pnorm( 2.8, mean=3.2, sd=0.73)\n",
    "\n",
    "\n",
    "#########################\n",
    "# For a N( 153, 14 ) distribution find\n",
    "# P( X < 140 or X > 170)\n",
    "#\n",
    "# convert both values to z-scores\n",
    "z_left <- ( 140 - 153 ) / 14\n",
    "z_left\n",
    "z_right <- ( 170 - 153 ) / 14\n",
    "z_right\n",
    "# use pnorm\n",
    "pnorm( z_left) + (1-pnorm( z_right) )\n",
    "#    or we coud do that as\n",
    "pnorm( z_left ) + pnorm( z_right, lower.tail=FALSE)\n",
    "#\n",
    "# or we could use the expanded pnorm funtion\n",
    "pnorm( 140, mean=153, sd=14) +\n",
    "     ( 1 - pnorm( 170, mean=153, sd=14))\n",
    "#  which we could have done as\n",
    "pnorm( 140, mean=153, sd=14) +\n",
    "     pnorm( 170, mean=153, sd=14, lower.tail=FALSE)\n",
    "\n",
    "\n",
    "#\n",
    "################### qnorm\n",
    "#\n",
    "# for a N(13.2,8.4) distribution \n",
    "# find the value of x such that\n",
    "# P( X < x ) is 0.315\n",
    "# for a N(0,1) the z value would be\n",
    "z <- qnorm( 0.315 )\n",
    "z\n",
    "# so we convert that to our N(13.2,8.4)\n",
    "# via\n",
    "x <- z*8.4 + 13.2\n",
    "x\n",
    "#\n",
    "# or we could use the expanded qnorm function\n",
    "qnorm( 0.315, mean=13.2, sd=8.4 )\n",
    "\n",
    "################################\n",
    "#  for a N(4.3, 8.2) distribution\n",
    "# find the value of x such  that \n",
    "#  P( X > x ) = 0.29\n",
    "# for a N(0,1) the z value would be\n",
    "z1 <- qnorm( 1 - 0.29 )\n",
    "z1\n",
    "#  which we could have found by \n",
    "z2 <- qnorm( 0.29, lower.tail=FALSE)\n",
    "z2\n",
    "# and then we need to move that value back \n",
    "# to our N( 4.3, 8.2)\n",
    "x <- z1*8.2 + 4.3\n",
    "x\n",
    "# \n",
    "# or we could use the expanded qnorm as\n",
    "qnorm( 1-0.29, mean=4.3, sd=8.2)\n",
    "# or as\n",
    "qnorm( 0.29, mean=4.3, sd=8.2, lower.tail=FALSE)"
   ]
  },
  {
   "cell_type": "markdown",
   "metadata": {},
   "source": [
    "# Normal approximation of the Binomial\n",
    "\n",
    "\n",
    "Let $X_i$ denote whether or not a randomly selected individual approves of the job the prime minister is doing. More specifically:\n",
    "\n",
    "* Let $X_i = 1$, if the person approves of the job the prime minister is doing, with probability p\n",
    "* Let $X_i = 0$, if the person does not approve of the job the prime minister is doing with probability $1 − p$\n",
    "\n",
    "Then, recall that $X_i$ is a Bernoulli random variable with mean:\n",
    "\n",
    "$$\\mu=E(X)=(0)(1−p)+(1)(p)=p$$\n",
    "\n",
    "\n",
    "and variance:\n",
    "\n",
    "$$\\sigma^2=Var(X)=E[(X−p)^2]=(0−p)^2(1−p)+(1−p)^2(p)=p(1−p[p+1−p]=p(1−p)$$\n",
    "\n",
    "\n",
    "\n",
    "Now, take a random sample of n people, and let:\n",
    "\n",
    "$$Y = X_1 + X_2 + \\ldots + X_n$$\n",
    "\n",
    "Then $Y$ is a `binomial(n, p)` random variable, with values $y = 0, 1, 2, \\ldots , n$, with mean:\n",
    "\n",
    "$$\\mu =np$$\n",
    "\n",
    "\n",
    " and variance:\n",
    "\n",
    "$$\\sigma^2=np(1−p)$$\n",
    "\n",
    "\\begin{example}\n",
    "\n",
    "Now, let $n = 10$ and $p = 1/2$, so that Y is binomial(10, .5). What is the probability that exactly five people approve of the job the prime minister is doing?\n",
    "\n",
    "\\end{example}"
   ]
  },
  {
   "cell_type": "code",
   "execution_count": 5,
   "metadata": {},
   "outputs": [
    {
     "data": {
      "text/html": [
       "0.24609375"
      ],
      "text/latex": [
       "0.24609375"
      ],
      "text/markdown": [
       "0.24609375"
      ],
      "text/plain": [
       "[1] 0.2460937"
      ]
     },
     "metadata": {},
     "output_type": "display_data"
    }
   ],
   "source": [
    "pbinom(5,10,0.5)-pbinom(4,10,0.5)"
   ]
  },
  {
   "cell_type": "markdown",
   "metadata": {},
   "source": [
    "Note, however, that Y in the above example is defined as a sum of independent, identically distributed random variables.  Therefore, as long as n is sufficiently large, we can use the **Central Limit Theorem** to calculate probabilities for Y. Specifically, the Central Limit Theorem tells us that:\n",
    "\n",
    "$$\n",
    "Z=\\frac{Y-n p}{\\sqrt{n p(1-p)}} \\stackrel{d}{\\longrightarrow} N(0,1)\n",
    "$$\n",
    "\n",
    "Let's use the normal distribution then to approximate some probabilities for Y. Again, what is the probability that exactly five people approve of the job the prime minister is doing?\n",
    "\n",
    "Let's recognize that the $\\mu = 10(1/2)5$ and $\\sigma^2 = np(1-p)=10(1/2)(1/2) = 2.5$\n",
    "\n",
    "Now let's compute \n",
    "$$\n",
    "P(Y=5)=P(4.5<Y<5.5)= P(Y<5.5)-P(Y>4.5)=P(Y<5.5)-(1 - P(Y<4.5)\n",
    "$$\n",
    "\n",
    "Using the normal distribution with $\\mu = 5$ and $\\sigma^2 = 2.5$ apply the z-transformation above and \n",
    "\n",
    "$$\n",
    "\\begin{aligned} P(Y=5)=P(4.5<Y<5.5) &=P\\left(\\frac{4.5-5}{\\sqrt{2.5}}<Z<\\frac{5.5 .-5}{\\sqrt{2.5}}\\right) \\\\ &=P(-0.32<Z<0.32) \\\\ &=P(Z<0.32)-P(Z<-0.32) \\\\ &=P(Z<0.32)-P(Z>0.32) \\end{aligned}\n",
    "$$\n",
    "\n",
    "\n"
   ]
  },
  {
   "cell_type": "code",
   "execution_count": 11,
   "metadata": {},
   "outputs": [
    {
     "data": {
      "text/html": [
       "0.25103166944664"
      ],
      "text/latex": [
       "0.25103166944664"
      ],
      "text/markdown": [
       "0.25103166944664"
      ],
      "text/plain": [
       "[1] 0.2510317"
      ]
     },
     "metadata": {},
     "output_type": "display_data"
    }
   ],
   "source": [
    "pnorm(0.32)-(1-pnorm(0.32))"
   ]
  },
  {
   "cell_type": "markdown",
   "metadata": {},
   "source": [
    "Now, recall that we previous used the binomial distribution to determine that the probability that Y = 5 is exactly 0.246. Here, we used the normal distribution to determine that the probability that Y = 5 is approximately 0.251. That's not too bad of an approximation, in light of the fact that we are dealing with a relative small sample size of n = 10!"
   ]
  },
  {
   "cell_type": "markdown",
   "metadata": {},
   "source": [
    "Let us walk through another example. We start with a coin that has a probability of 0.68 that it will come up \"tails\" on a fair spin. If we spin the coin 150 times, what is the probability that we will have less than 93 tails? With such a high number of spins we will use the normal approximation to the binomial distribution. First we need to check that $n*p \\ge 10$ and $n*(1-p) \\ge 10$. We have $n = 150$ and $p = 0.68$ giving $n*p = 150*0.68 = 102 \\ge 10$ and $n*(1-p) = 150*0.32 = 48 \\ge 10$. We can move forward. The mean = $n*p = 102$ and the standard deviation = $\\sqrt{n*p*(1-p)} = \\sqrt {150*0.68*0.32 ≈ 5.713143}$. The R statement to find the desired value is pnorm(92.5,mean=102,sd=5.713143). **Note that we used 92.5 because the normal distribution is continuous while the binomial distribution is discrete.**"
   ]
  },
  {
   "cell_type": "code",
   "execution_count": 20,
   "metadata": {},
   "outputs": [
    {
     "data": {
      "text/html": [
       "0.0481729820313147"
      ],
      "text/latex": [
       "0.0481729820313147"
      ],
      "text/markdown": [
       "0.0481729820313147"
      ],
      "text/plain": [
       "[1] 0.04817298"
      ]
     },
     "metadata": {},
     "output_type": "display_data"
    }
   ],
   "source": [
    "pnorm(92.5,mean=102,sd=5.713143)"
   ]
  },
  {
   "cell_type": "markdown",
   "metadata": {},
   "source": [
    "\\begin{exercise}\n",
    "Using a coin, we could try the following  questions:\n",
    "\n",
    "* For the 150 spins, what is the probability that we will get more than 108 tails?\n",
    "* For the 150 spins, what is the probability that we will get between 105 and 109 tails, inclusive?\n",
    "* For the 150 spins, what is the probability that we will get fewer than 98 tails or more than 107 tails? \n",
    "Explain the following R commands\n",
    "\\end{exercise}\n"
   ]
  },
  {
   "cell_type": "code",
   "execution_count": 13,
   "metadata": {},
   "outputs": [
    {
     "data": {
      "text/html": [
       "0.127617139754554"
      ],
      "text/latex": [
       "0.127617139754554"
      ],
      "text/markdown": [
       "0.127617139754554"
      ],
      "text/plain": [
       "[1] 0.1276171"
      ]
     },
     "metadata": {},
     "output_type": "display_data"
    },
    {
     "data": {
      "text/html": [
       "0.236211173075147"
      ],
      "text/latex": [
       "0.236211173075147"
      ],
      "text/markdown": [
       "0.236211173075147"
      ],
      "text/plain": [
       "[1] 0.2362112"
      ]
     },
     "metadata": {},
     "output_type": "display_data"
    },
    {
     "data": {
      "text/html": [
       "0.383299459427208"
      ],
      "text/latex": [
       "0.383299459427208"
      ],
      "text/markdown": [
       "0.383299459427208"
      ],
      "text/plain": [
       "[1] 0.3832995"
      ]
     },
     "metadata": {},
     "output_type": "display_data"
    }
   ],
   "source": [
    "pnorm(108.5, mean=102, sd=5.713143, lower.tail=FALSE)\n",
    "pnorm(109.5, mean=102, sd=5.713143) - pnorm(104.5, mean=102, sd=5.713143)\n",
    "pnorm(97.5, mean=102, sd=5.713143) + pnorm(107.5, mean=102, sd=5.713143, lower.tail=FALSE) "
   ]
  },
  {
   "cell_type": "markdown",
   "metadata": {},
   "source": [
    "As we have done in the past, it would be easier to create a function that does all of the preliminary work for us, saving us from having to remember to do those checks as well as computing the mean and standard deviation that we need for the pnorm() function. Such a function is: "
   ]
  },
  {
   "cell_type": "code",
   "execution_count": 12,
   "metadata": {},
   "outputs": [],
   "source": [
    "pnormbino <- function( num_success, p, n, lower.tail=TRUE)\n",
    "{\n",
    "  if(p*n < 10) {return(\"n*p < 10, will not compute this\")}\n",
    "  if(n*(1-p) < 10)\n",
    "  {return(\"n*(1-p)<10, will not compute this\")}\n",
    "  nbsd <- sqrt( n*p*(1-p))\n",
    "  prob <- pnorm(num_success, n*p, nbsd, lower.tail)\n",
    "  return( prob )\n",
    "}"
   ]
  },
  {
   "cell_type": "code",
   "execution_count": 19,
   "metadata": {},
   "outputs": [
    {
     "data": {
      "text/html": [
       "0.0481729745378643"
      ],
      "text/latex": [
       "0.0481729745378643"
      ],
      "text/markdown": [
       "0.0481729745378643"
      ],
      "text/plain": [
       "[1] 0.04817297"
      ]
     },
     "metadata": {},
     "output_type": "display_data"
    },
    {
     "data": {
      "text/html": [
       "0.12761712905894"
      ],
      "text/latex": [
       "0.12761712905894"
      ],
      "text/markdown": [
       "0.12761712905894"
      ],
      "text/plain": [
       "[1] 0.1276171"
      ]
     },
     "metadata": {},
     "output_type": "display_data"
    },
    {
     "data": {
      "text/html": [
       "0.236211175893547"
      ],
      "text/latex": [
       "0.236211175893547"
      ],
      "text/markdown": [
       "0.236211175893547"
      ],
      "text/plain": [
       "[1] 0.2362112"
      ]
     },
     "metadata": {},
     "output_type": "display_data"
    },
    {
     "data": {
      "text/html": [
       "0.383299438178629"
      ],
      "text/latex": [
       "0.383299438178629"
      ],
      "text/markdown": [
       "0.383299438178629"
      ],
      "text/plain": [
       "[1] 0.3832994"
      ]
     },
     "metadata": {},
     "output_type": "display_data"
    }
   ],
   "source": [
    "pnormbino(92.5, 0.68, 150)\n",
    "pnormbino(108.5, 0.68, 150, lower.tail = FALSE)\n",
    "pnormbino(109.5, 0.68, 150) - pnormbino(104.5, 0.68, 150)\n",
    "pnormbino(97.5, 0.68, 150)+pnormbino(107.5, 0.68, 150, lower.tail = FALSE)"
   ]
  }
 ],
 "metadata": {
  "kernelspec": {
   "display_name": "R",
   "language": "R",
   "name": "ir"
  },
  "language_info": {
   "codemirror_mode": "r",
   "file_extension": ".r",
   "mimetype": "text/x-r-source",
   "name": "R",
   "pygments_lexer": "r",
   "version": "3.5.1"
  },
  "latex_envs": {
   "LaTeX_envs_menu_present": true,
   "autoclose": false,
   "autocomplete": true,
   "bibliofile": "biblio.bib",
   "cite_by": "apalike",
   "current_citInitial": 1,
   "eqLabelWithNumbers": true,
   "eqNumInitial": 1,
   "hotkeys": {
    "equation": "Ctrl-E",
    "itemize": "Ctrl-I"
   },
   "labels_anchors": false,
   "latex_user_defs": false,
   "report_style_numbering": false,
   "user_envs_cfg": false
  },
  "nbTranslate": {
   "displayLangs": [
    "*"
   ],
   "hotkey": "alt-t",
   "langInMainMenu": true,
   "sourceLang": "en",
   "targetLang": "fr",
   "useGoogleTranslate": true
  },
  "toc": {
   "base_numbering": 1,
   "nav_menu": {},
   "number_sections": true,
   "sideBar": true,
   "skip_h1_title": false,
   "title_cell": "Table of Contents",
   "title_sidebar": "Contents",
   "toc_cell": false,
   "toc_position": {},
   "toc_section_display": true,
   "toc_window_display": false
  },
  "varInspector": {
   "cols": {
    "lenName": 16,
    "lenType": 16,
    "lenVar": 40
   },
   "kernels_config": {
    "python": {
     "delete_cmd_postfix": "",
     "delete_cmd_prefix": "del ",
     "library": "var_list.py",
     "varRefreshCmd": "print(var_dic_list())"
    },
    "r": {
     "delete_cmd_postfix": ") ",
     "delete_cmd_prefix": "rm(",
     "library": "var_list.r",
     "varRefreshCmd": "cat(var_dic_list()) "
    }
   },
   "types_to_exclude": [
    "module",
    "function",
    "builtin_function_or_method",
    "instance",
    "_Feature"
   ],
   "window_display": false
  }
 },
 "nbformat": 4,
 "nbformat_minor": 2
}
