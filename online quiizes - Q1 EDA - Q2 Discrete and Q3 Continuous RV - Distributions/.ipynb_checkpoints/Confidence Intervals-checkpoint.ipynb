{
 "cells": [
  {
   "cell_type": "markdown",
   "metadata": {
    "_execution_state": "idle",
    "_uuid": "6b27cb0f04aa50f19a3c38337bf88b305364a46c"
   },
   "source": [
    "# Confidence Intervals\n"
   ]
  },
  {
   "cell_type": "markdown",
   "metadata": {
    "_uuid": "4d398fc1cdab0835e4eab20c78f721a0d22233cc"
   },
   "source": [
    "To this point, this guide has focused on the functions and syntax necessary to manipulate, explore and describe data in R. Data cleaning and exploratory analysis are often preliminary steps toward the end goal of extracting insight from data through statistical inference or predictive modeling. The remainder of this guide will focus on methods for analyzing data and tools for carrying out analyses in R.\n",
    "\n",
    "[Statistical inference](https://en.wikipedia.org/wiki/Statistical_inference) is the process of analyzing sample data to gain insight into the population from which the data was collected and to investigate differences between data samples. In data analysis, we are often interested in the characteristics of some large population, but collecting data on the entire population may be infeasible. For example, leading up to U.S. presidential elections it could be very useful to know the political leanings of every single eligible voter, but surveying every voter is not feasible. Instead, we could poll some subset of the population, such as a thousand registered voters, and use that data to make inferences about the population as a whole."
   ]
  },
  {
   "cell_type": "markdown",
   "metadata": {
    "_uuid": "c0ab09074c07755d5d14181422190357d56495c5"
   },
   "source": [
    "## Point Estimates"
   ]
  },
  {
   "cell_type": "markdown",
   "metadata": {
    "_uuid": "234e96a71a62e388dbf652599825d60b1737ac55"
   },
   "source": [
    "[Point estimates](https://en.wikipedia.org/wiki/Point_estimation) are estimates of population parameters based on sample data. For instance, if we wanted to know the average age of registered voters in the U.S., we could take a survey of registered voters and then use the average age of the respondents as a point estimate of the average age of the population as a whole. The average of a sample is known as the sample mean.\n",
    "\n",
    "The sample mean is usually not exactly the same as the population mean. This difference can be caused by many factors including poor survey design, biased sampling methods and the randomness inherent to drawing a sample from a population. Let's investigate point estimates by generating a population of random age data and then drawing a sample from it to estimate the mean."
   ]
  },
  {
   "cell_type": "code",
   "execution_count": null,
   "metadata": {
    "_uuid": "5a61a7b8319f16fcea30cd08646fe3031cc17918"
   },
   "outputs": [],
   "source": [
    "set.seed(12)\n",
    "\n",
    "# Generate a population\n",
    "population_ages <- c(rexp(1000000,0.015)+18,   \n",
    "                    rpois(500000,20)+18,\n",
    "                    rpois(500000,32.5)+18,\n",
    "                    rpois(500000,45)+18)\n",
    "\n",
    "population_ages <- ifelse(population_ages<100, \n",
    "                          population_ages, population_ages%%100+18)\n",
    "\n",
    "\n",
    "true_mean <- mean(population_ages)   # Check the population mean\n",
    "\n",
    "true_mean"
   ]
  },
  {
   "cell_type": "code",
   "execution_count": null,
   "metadata": {
    "_uuid": "1fbdf03d5cf71b853f4588b412730900b022118c"
   },
   "outputs": [],
   "source": [
    "set.seed(10)\n",
    "\n",
    "# Take a sample of 1000 ages\n",
    "sample_ages <- sample(population_ages, size=1000)  \n",
    "\n",
    "# Make a point estimate of the mean\n",
    "sample_mean <- mean(sample_ages)            \n",
    "\n",
    "sample_mean\n",
    "\n",
    "# Check difference between estimate and population parameter\n",
    "sample_mean-true_mean   "
   ]
  },
  {
   "cell_type": "markdown",
   "metadata": {
    "_uuid": "38f958d09409b208162b6e1050e4968982a07114"
   },
   "source": [
    "Our point estimate based on a sample of 1000 individuals overestimates the true population mean by almost a year, but it is pretty close. This illustrates an important point: we can get a fairly accurate estimate of a large population by sampling a relatively small subset of individuals.\n",
    "\n",
    "Another point estimate that may be of interest is the proportion of the population that belongs to some category or subgroup. For example, we might like to know the race of each voter we poll, to get a sense of the overall demographics of the voter base. You can make a point estimate of this sort of proportion by taking a sample and then checking the ratio in the sample."
   ]
  },
  {
   "cell_type": "code",
   "execution_count": null,
   "metadata": {
    "_uuid": "d237ffcedf25029fc1796bc1ef475d7f2034ff7f"
   },
   "outputs": [],
   "source": [
    "set.seed(12)\n",
    "\n",
    " # Generate some dummy demographic data\n",
    "population_races <- c(rep(\"white\",1000000), \n",
    "                      rep(\"hispanic\",500000),\n",
    "                      rep(\"black\",500000),\n",
    "                      rep(\"asian\",250000),\n",
    "                      rep(\"other\",250000))\n",
    "\n",
    "demographic_sample <- sample(population_races, size=1000)   # Take a sample\n",
    "\n",
    "# Print the estimated proportion for each\n",
    "for (race in unique(demographic_sample)){       \n",
    "    print(paste(race,\" proportion estimate:\"))       \n",
    "    print(sum(demographic_sample==race)/1000)   \n",
    "}"
   ]
  },
  {
   "cell_type": "markdown",
   "metadata": {
    "_uuid": "65b5a48efe0075896068825969cac32ae9bd16d7"
   },
   "source": [
    "*Note: The function unique() takes a vector and returns a new vector with duplicate elements removed.*"
   ]
  },
  {
   "cell_type": "markdown",
   "metadata": {
    "_uuid": "3f09733c41a14001ad9e90face0901e067fb1cab"
   },
   "source": [
    "## Sampling Distributions and The Central Limit Theorem"
   ]
  },
  {
   "cell_type": "markdown",
   "metadata": {
    "_uuid": "35bbc3de1bf23c7cebc2331da1b643e069f89b96"
   },
   "source": [
    "Many statistical procedures assume that data follows a normal distribution, because the normal distribution has nice properties like symmetricity and having the majority of the data clustered within a few standard deviations of the mean. Unfortunately, real world data is often not normally distributed and the distribution of a sample tends to mirror the distribution of the population. This means a sample taken from a population with a skewed distribution will also tend to be skewed. Let's investigate by plotting the data and sample we created earlier and by checking the skew."
   ]
  },
  {
   "cell_type": "code",
   "execution_count": null,
   "metadata": {
    "_uuid": "9e0752a7495cb999a083cc5cf0b3d2c565e7ff39"
   },
   "outputs": [],
   "source": [
    "library(e1071)\n",
    "\n",
    "hist(population_ages, breaks=20)  # Create histogram of population\n",
    "\n",
    "skewness(population_ages)         # Check the skewness"
   ]
  },
  {
   "cell_type": "markdown",
   "metadata": {
    "_uuid": "65c54f125a665740bfd1f99091fde331ba31f7c6"
   },
   "source": [
    "The histogram shows a distribution with right skew, which is confirmed by the skewness measurement of 0.6556. The sample we draw should have roughly the same shape and skewness."
   ]
  },
  {
   "cell_type": "code",
   "execution_count": null,
   "metadata": {
    "_uuid": "f627066077589a4977f63727f3b6914a2083a401"
   },
   "outputs": [],
   "source": [
    "hist(sample_ages, breaks=20)   # Create histogram of the sample\n",
    "\n",
    "skewness(sample_ages)          # Check the skewness (point estimate of skewness)"
   ]
  },
  {
   "cell_type": "markdown",
   "metadata": {
    "_uuid": "549bb3973e0052c165209c8d083a4aa9c5b9cbb6"
   },
   "source": [
    "The sample has roughly the same skew as the underlying population. This suggests that we can't apply techniques that assume a normal distribution to this data set. In reality, we can, thanks the central limit theorem.\n",
    "\n",
    "The central limit theorem is one of the most important results of probability theory and serves as the foundation of many methods of statistical analysis. At a high level, the theorem states the distribution of many sample means, known as a sampling distribution, will be normally distributed. This rule holds even if the underlying distribution itself is not normally distributed. As a result we can treat our a sample mean as if it were drawn normal distribution.\n",
    "\n",
    "To illustrate, let's create a sampling distribution by taking 200 samples from our population and then making 200 point estimates of the mean."
   ]
  },
  {
   "cell_type": "code",
   "execution_count": null,
   "metadata": {
    "_uuid": "48d823a57c0b736ae36c2ce77369bd7a0c2fe587"
   },
   "outputs": [],
   "source": [
    "set.seed(12)\n",
    "point_estimates <- c()    # Create an empty vector to hold results\n",
    "\n",
    "num_samples <- 200        # Initialize number of samples to take\n",
    "\n",
    " # Draw 200 samples and make 200 point estimates\n",
    "for (x in 1:num_samples){         \n",
    "    sample <- sample(population_ages, size=1000)\n",
    "    point_estimates <- c(point_estimates, mean(sample))\n",
    "}\n",
    "\n",
    "plot(density(point_estimates))  # Plot the sampling distribution"
   ]
  },
  {
   "cell_type": "markdown",
   "metadata": {
    "_uuid": "df05fbde355ede6c0259edc6822dd19db3f65edf"
   },
   "source": [
    "The sampling distribution appears to be roughly normal, having significantly less skew than the original distribution:"
   ]
  },
  {
   "cell_type": "code",
   "execution_count": null,
   "metadata": {
    "_uuid": "c0f8190ed02c9c7d102396ae3ae6ac05934fa793"
   },
   "outputs": [],
   "source": [
    "skewness(point_estimates)"
   ]
  },
  {
   "cell_type": "markdown",
   "metadata": {
    "_uuid": "92fdaf0212097e4954394fa3323ef0c8cf1096a6"
   },
   "source": [
    "In addition, the mean of the sampling distribution approaches the true population mean:"
   ]
  },
  {
   "cell_type": "code",
   "execution_count": null,
   "metadata": {
    "_uuid": "87321bee972cd5d99273bedfacfa2d564cd96866"
   },
   "outputs": [],
   "source": [
    "mean(point_estimates)\n",
    "\n",
    "mean(point_estimates)-true_mean    # Difference between true mean and sample means"
   ]
  },
  {
   "cell_type": "markdown",
   "metadata": {
    "_uuid": "0e6d5d74d5799139b92387f7f5bccd9f008f202b"
   },
   "source": [
    "The more samples we take, the better our estimate of the population parameter is likely to be."
   ]
  },
  {
   "cell_type": "markdown",
   "metadata": {
    "_uuid": "90740c1f9910547ece40c5c31e08a1758a419d78"
   },
   "source": [
    "## Confidence Intervals"
   ]
  },
  {
   "cell_type": "markdown",
   "metadata": {
    "_uuid": "8844f4be78d9e81122219aabd2fb9ee7aca74fba"
   },
   "source": [
    "A point estimate can give you a rough idea of a population parameter like the mean, but estimates are prone to error and taking multiple samples to get improved estimates may not be feasible. A confidence interval is a range of values above and below a point estimate that captures the true population parameter at some predetermined confidence level. For example, if you want to have a 95% chance of capturing the true population parameter with a point estimate and a corresponding confidence interval, you'd set your confidence level to 95%. Higher confidence levels result in a wider confidence intervals.\n",
    "\n",
    "Calculate a confidence interval by taking a point estimate and then adding and subtracting a margin of error to create a range. Margin of error is based on your desired confidence level, the spread of the data and the size of your sample. The way you calculate the margin of error depends on whether you know the standard deviation of the population or not.\n",
    "\n",
    "If you know the standard deviation of the population, the margin of error is equal to: \n",
    "\n",
    "$$z * \\frac{\\sigma}{\\sqrt{n}}$$\n",
    "\n",
    "Where σ is the population standard deviation, n is sample size, and z is a number known as the z-critical value. The z-critical value is the number of standard deviations you'd have to go from the mean of the normal distribution to capture the proportion of the data associated with the desired confidence level. For instance, we know that roughly 95% of the data in a normal distribution lies within 2 standard deviations of the mean, so we could use 2 as the z-critical value for a 95% confidence interval (although it is more exact to get z-critical values with qnorm().).\n",
    "\n",
    "Let's calculate a 95% confidence for our mean point estimate in R."
   ]
  },
  {
   "cell_type": "code",
   "execution_count": null,
   "metadata": {
    "_uuid": "03895ad24b40b5e0a23fbe5fd0728048df1f983e"
   },
   "outputs": [],
   "source": [
    "set.seed(10)\n",
    "sample_size <- 1000\n",
    "sample_ages <- sample(population_ages, size=sample_size)  # Take a sample of 1000 ages\n",
    "\n",
    "sample_mean <- mean(sample_ages)  # Get the sample mean\n",
    "\n",
    "z_critical <- qnorm(0.975)        # Get the z-critical value*\n",
    "\n",
    "print(\"z-critical value:\")\n",
    "print(z_critical)                 # Check the z-critical value\n",
    "\n",
    "pop_stdev <- sd(population_ages)  # Get the population standard deviation\n",
    "\n",
    "margin_of_error <- z_critical * (pop_stdev / sqrt(sample_size)) # Get margin of error\n",
    "\n",
    "confidence_interval  <- c(sample_mean - margin_of_error,  # Calculate the the interval\n",
    "                          sample_mean + margin_of_error)  \n",
    "\n",
    "print(\"Confidence interval:\")\n",
    "print(confidence_interval   )     # Check the interval"
   ]
  },
  {
   "cell_type": "markdown",
   "metadata": {
    "_uuid": "a81ccc247d48b08258ac95d38a0d9d852ee2cb9a"
   },
   "source": [
    "*Note: We use qnorm(0.975) to get the desired z critical value instead of qnorm(0.95) because the distribution has two tails. Notice that the confidence interval we calculated captures the true population mean of 51.2188.*\n",
    "\n",
    "Let's create several confidence intervals and plot them to get a better sense of what it means to \"capture\" the true mean."
   ]
  },
  {
   "cell_type": "code",
   "execution_count": null,
   "metadata": {
    "_uuid": "907a4939cc677b919d26e515ffcd46bb338330da"
   },
   "outputs": [],
   "source": [
    "set.seed(12)\n",
    "sample_size <- 1000\n",
    "\n",
    "intervals <- c()  # Create and store 25 intervals\n",
    " \n",
    "for (sample in 1:25){\n",
    "sample_ages <- sample(population_ages, size=sample_size)  # Take a sample of 1000 ages\n",
    "\n",
    "sample_mean <- mean(sample_ages)  # Get the sample mean\n",
    "\n",
    "z_critical <- qnorm(0.975)        # Get the z-critical value*\n",
    "\n",
    "pop_stdev <- sd(population_ages)  # Get the population standard deviation\n",
    "\n",
    "margin_of_error <- z_critical * (pop_stdev / sqrt(sample_size)) # Calculate margin of error\n",
    "\n",
    "confidence_interval  <- c(sample_mean - margin_of_error,  # Calculate the the interval\n",
    "                          sample_mean + margin_of_error)  \n",
    "\n",
    "intervals <- c(intervals, confidence_interval)    \n",
    "}\n",
    "\n",
    "interval_df <- data.frame(t(matrix(intervals,2,25)))  # Store intervals as data frame"
   ]
  },
  {
   "cell_type": "code",
   "execution_count": null,
   "metadata": {
    "_uuid": "70e0bf2b3b84db248581b2198efd5a7174f258ec"
   },
   "outputs": [],
   "source": [
    "library(ggplot2)\n",
    "\n",
    "\n",
    "# Plot confidence intervals and show the true mean\n",
    "\n",
    "my_plot <- ggplot(data=interval_df, aes(x=1:nrow(interval_df))) +\n",
    "                geom_errorbar(aes(ymax = X2, ymin = X1)) +\n",
    "                geom_point(aes(y=rowMeans(interval_df)), shape=1, size=3) +\n",
    "                geom_abline(intercept=true_mean, slope=0,color=\"red\",lwd=1) +\n",
    "                ylab(\"Interval Range (Red Line=True Mean)\") +\n",
    "                xlab(\"Interval Number\")\n",
    "\n",
    "my_plot"
   ]
  },
  {
   "cell_type": "markdown",
   "metadata": {
    "_uuid": "f92285c2d2de781ded7aa8045d8ebc26cd9bcc70"
   },
   "source": [
    "Notice that in the plot above, all but one of the 95% confidence intervals overlap the red line marking the true mean. This is to be expected: since a 95% confidence interval captures the true mean 95% of the time, we'd expect our interval to miss the true mean 5% of the time.\n",
    "\n",
    "If you don't know the standard deviation of the population, you have to use the standard deviation of your sample as a stand in when creating confidence intervals. Since the sample standard deviation may not match the population parameter the interval will have more error when you don't know the population standard deviation. To account for this error, we use what's known as a t-critical value instead of the z-critical value. The t-critical value is drawn from what's known as a t-distribution--a distribution that closely resembles the normal distribution but that gets wider and wider as the sample size falls. The t-distribution is built into R and has the nickname \"t\" so the functions for working with it are rt(), qt(), pt() and dt().\n",
    "\n",
    "Let's take a new, smaller sample and then create a confidence interval without the population standard deviation, using the t-distribution."
   ]
  },
  {
   "cell_type": "code",
   "execution_count": null,
   "metadata": {
    "_uuid": "9e2be8cd72053152e12e1872b6ba190ee1a6932e"
   },
   "outputs": [],
   "source": [
    "set.seed(12)\n",
    "smaller_sample <- sample(population_ages, size=25)  \n",
    "\n",
    "sample_mean <- mean(smaller_sample) # Get the sample mean\n",
    "\n",
    "t_critical <- qt(0.975, df=24)      # Get the t-critical value *\n",
    "\n",
    "print(\"t-critical value:\")\n",
    "print(t_critical)                   # Check the t-critical value\n",
    "\n",
    "sample_stdev <- sd(smaller_sample)  # Get the sample standard deviation\n",
    "\n",
    "margin_of_error <- t_critical * (sample_stdev / sqrt(25)) # Calculate margin of error\n",
    "\n",
    "confidence_interval  <- c(sample_mean - margin_of_error,  # Calculate the the interval\n",
    "                          sample_mean + margin_of_error) \n",
    "\n",
    "print(\"Confidence interval:\")\n",
    "print(confidence_interval)"
   ]
  },
  {
   "cell_type": "markdown",
   "metadata": {
    "_uuid": "b794a5984b6ececec5c0226a34e142c2cd20e831"
   },
   "source": [
    "*Note: when using the t-distribution, you have to supply the degrees of freedom (df). For this type of test, the degrees of freedom is equal to the sample size minus 1. If you have a large sample size, the t-distribution approaches the normal distribution.*\n",
    "\n",
    "Notice that the t-critical value is larger than the z-critical value we used for 95% confidence interval. This allows the confidence interval to cast a larger net to make up for the variability caused by using the sample standard deviation in place of the population standard deviation. The end result is a much wider confidence interval (an interval with a larger margin of error.).\n",
    "\n",
    "If you have a large sample, the t-critical value will approach the z-critical value so there is little difference between using the normal distribution vs. the t-distribution."
   ]
  },
  {
   "cell_type": "code",
   "execution_count": null,
   "metadata": {
    "_uuid": "551df119ffcc218e847970adec4c4e9a4eb28f49"
   },
   "outputs": [],
   "source": [
    "# Check the difference between critical values with a sample size of 1000\n",
    "qnorm(0.975)                \n",
    "qt(0.975, df= 999)"
   ]
  },
  {
   "cell_type": "markdown",
   "metadata": {
    "_uuid": "bf0ae59d820eea28099e3defd6d49cad83973eb5"
   },
   "source": [
    "Instead of calculating a confidence interval for a mean point estimate by hand, you can have R calculate it for you using the t.test() function."
   ]
  },
  {
   "cell_type": "code",
   "execution_count": null,
   "metadata": {
    "_uuid": "85ce9f933f275ab523d48db08128d5dd8f0dbef3"
   },
   "outputs": [],
   "source": [
    "t.test(smaller_sample)"
   ]
  },
  {
   "cell_type": "markdown",
   "metadata": {
    "_uuid": "6683ace9e820d568a38af5c654f59d8f276f1f87"
   },
   "source": [
    "Notice that the test output includes a 95% confidence interval that matches the result we calculated (we'll discuss t.test() in more detail in the next lesson).\n",
    "\n",
    "We can also make a confidence interval for a point estimate of a population proportion. In this case, the margin of error equals:\n",
    "\n",
    "$$z * \\sqrt{\\frac{p(1-p)}{n}}$$\n",
    "\n",
    "Where z is the z-critical value for our confidence level, p is the point estimate of the population proportion and n is the sample size. Let's calculate a 95% confidence interval for Hispanics according to the sample proportion we calculated earlier (0.204)."
   ]
  },
  {
   "cell_type": "code",
   "execution_count": null,
   "metadata": {
    "_uuid": "34ccfaee38b1cb045075bfeee9b7a895ae895f5f"
   },
   "outputs": [],
   "source": [
    "z_critical <- qnorm(0.975)    # Record z-critical value\n",
    "\n",
    "p <- 0.204                    # Point estimate of proportion\n",
    "\n",
    "n <- 1000                     # Sample size\n",
    "\n",
    "margin_of_error <- z_critical * sqrt((p*(1-p))/n)\n",
    "\n",
    "confidence_interval  <- c(p - margin_of_error,  # Calculate the the interval\n",
    "                          p + margin_of_error) \n",
    "\n",
    "confidence_interval"
   ]
  },
  {
   "cell_type": "markdown",
   "metadata": {
    "_uuid": "ddf55c90d9db6b2ea0487c4908836d034bef1b85"
   },
   "source": [
    "Once again, the confidence interval captured the true population parameter of 0.2.\n",
    "\n",
    "As with the confidence interval for the mean, you can use a built in R function to get a confidence interval for a population proportion instead of calculating it by hand. In this case, we use the prop.test() function."
   ]
  },
  {
   "cell_type": "code",
   "execution_count": null,
   "metadata": {
    "_uuid": "d15e15b49a4eda0af3347b76095c8cda61ee3a5f"
   },
   "outputs": [],
   "source": [
    "prop.test(x=204,      # Number of observations\n",
    "          n=1000)     # Total number of samples"
   ]
  },
  {
   "cell_type": "markdown",
   "metadata": {
    "_uuid": "71e1247facf841cc4bbdc74973e768df5912ca12"
   },
   "source": [
    "In the output above, note that the 95% confidence interval listed roughly matches the one we calculated."
   ]
  },
  {
   "cell_type": "markdown",
   "metadata": {
    "_uuid": "1408097e8462804aec4d4890bc545e0470da5470"
   },
   "source": [
    "## Wrap Up"
   ]
  },
  {
   "cell_type": "markdown",
   "metadata": {
    "_uuid": "7ad21f34b82ad87b24210b9cba90f7ab88639e6f"
   },
   "source": [
    "Estimating population parameters through sampling is a simple, yet powerful form of inference. Point estimates combined with error margins let us create confidence intervals that capture the true population parameter with high probability. R's built in probability distribution and test functions make it easy to calculate confidence intervals quickly.\n",
    "\n",
    "Next time we'll expand on the concepts in this lesson by learning about statistical hypothesis testing and the t-test."
   ]
  },
  {
   "cell_type": "markdown",
   "metadata": {
    "_uuid": "ab2351178bd0a91c85daafebed855dd2fd41e5e3"
   },
   "source": [
    "## Next Lesson: [Intro to R Part 24: Hypothesis Testing](https://www.kaggle.com/hamelg/intro-to-r-part-24-hypothesis-testing)\n",
    "[back to index](https://www.kaggle.com/hamelg/intro-to-r-index)"
   ]
  },
  {
   "cell_type": "markdown",
   "metadata": {
    "_uuid": "7075033a9026b2cdef262a3b0e2d2e54d8794748"
   },
   "source": []
  },
  {
   "cell_type": "markdown",
   "metadata": {
    "_uuid": "fe5062574a10cf5cb69021a70ab6f93e17d5732a"
   },
   "source": [
    "## Exercises\n",
    "\n",
    "To do the exercises, fork this notebook and then fill in and run the code boxes according to the exercise instructions."
   ]
  },
  {
   "cell_type": "markdown",
   "metadata": {
    "_uuid": "a1158418a5bd691da1378c34049d31dfd9b85f94"
   },
   "source": [
    "### Exercise #1\n",
    "Load the Titanic data set and make a point estimate for the population mean of the Age column by taking a sample of 40 passengers. Then calculate the difference between your sample mean and the true mean. Remember to include the argument na.rm = TRUE when using the mean() function on Age to ignore NA values."
   ]
  },
  {
   "cell_type": "code",
   "execution_count": null,
   "metadata": {
    "_kg_hide-output": true,
    "_uuid": "fff1a2a0dac63895b39a0cae7f0543c38a3a65b2"
   },
   "outputs": [],
   "source": [
    "set.seed(12)\n",
    "titanic_train <- read.csv(\"../input/train.csv\")\n",
    "\n",
    "age_sample <- \"Your Code Here\"\n",
    "\n",
    "point_estimate <- \"Your Code Here\"\n",
    "\n",
    "#Print sample mean\n",
    "print(\"Point Estimate\")\n",
    "print(point_estimate)\n",
    "\n",
    "# Print difference between sample mean and true mean\n",
    "print(\"Mean Difference\")\n",
    "print(\"Your Code Here\")"
   ]
  },
  {
   "cell_type": "markdown",
   "metadata": {
    "_uuid": "915483ee807b092e2eda52f068594383ba7b6b90"
   },
   "source": [
    "### Exercise #2\n",
    "Calculate the margin of error for the point estimate for a 95% confidence interval. Use the t distribution. Note that since NA values were removed in calculating the point estimate the sample size is actually 40 minus the number of NA values in the sample."
   ]
  },
  {
   "cell_type": "code",
   "execution_count": null,
   "metadata": {
    "_kg_hide-output": true,
    "_uuid": "227db923fbed173b47e9f477ed2b57a1e2b50d97"
   },
   "outputs": [],
   "source": [
    "true_sample_size <- 40 - \"Your Code Here\"\n",
    "\n",
    "t_critical <- qt(\"Your Code Here\", df = true_sample_size)\n",
    "\n",
    "margin_of_error <- t_critical * \"Your Code Here\"\n",
    "\n",
    "print(\"Margin of Error\")\n",
    "print(margin_of_error)"
   ]
  },
  {
   "cell_type": "markdown",
   "metadata": {
    "_uuid": "56f3469f0f92c59b3265893d99f2fa4603e84273"
   },
   "source": [
    "### Exercise #3\n",
    "Calculate and print a 95% confidence interval for the mean of age using the point estimate and margin of error you calculated above. Make sure that your confidence interval match the one produced by the call to t.test(age_sample)."
   ]
  },
  {
   "cell_type": "code",
   "execution_count": null,
   "metadata": {
    "_kg_hide-output": true,
    "_uuid": "e61bc093042a8c19f4f176f2b06a58b463a7c160"
   },
   "outputs": [],
   "source": [
    "print(\"Confidence Interval\")\n",
    "print(c(\"Your Code Here!\",\n",
    "        \"Your Code Here!\"))\n",
    "\n",
    "\n",
    "t.test(age_sample)"
   ]
  },
  {
   "cell_type": "markdown",
   "metadata": {
    "_uuid": "9e3106f3e7be8320dfbfd2019cddd434379aaf62"
   },
   "source": [
    "## Exercise Solutions"
   ]
  },
  {
   "cell_type": "code",
   "execution_count": null,
   "metadata": {
    "_kg_hide-input": true,
    "_kg_hide-output": true,
    "_uuid": "4a858bf9202378f9ebd068f610cc084baaec0bc2"
   },
   "outputs": [],
   "source": [
    "# 1 \n",
    "\n",
    "set.seed(12)\n",
    "titanic_train <- read.csv(\"../input/train.csv\")\n",
    "\n",
    "age_sample <- sample(titanic_train$Age, 40)\n",
    "\n",
    "point_estimate <- mean(age_sample, na.rm=TRUE)\n",
    "\n",
    "#Print sample mean\n",
    "print(\"Point Estimate\")\n",
    "print(point_estimate)\n",
    "\n",
    "# Print difference between sample mean and true mean\n",
    "print(\"Mean Difference\")\n",
    "print(mean(titanic_train$Age, na.rm=TRUE) - point_estimate)\n",
    "\n",
    "\n",
    "# 2 \n",
    "\n",
    "t_critical <- qt(0.975, df = 31)\n",
    "\n",
    "margin_of_error <- t_critical * (sd(age_sample, na.rm=T) / sqrt(32))\n",
    "\n",
    "print(\"Margin of Error\")\n",
    "print(margin_of_error)\n",
    "\n",
    "# 3\n",
    "\n",
    "print(\"Confidence Interval\")\n",
    "print(c(point_estimate-margin_of_error,\n",
    "       point_estimate+margin_of_error))\n",
    "\n",
    "\n",
    "t.test(age_sample)"
   ]
  }
 ],
 "metadata": {
  "kernelspec": {
   "display_name": "R",
   "language": "R",
   "name": "ir"
  },
  "latex_envs": {
   "LaTeX_envs_menu_present": true,
   "autoclose": false,
   "autocomplete": true,
   "bibliofile": "biblio.bib",
   "cite_by": "apalike",
   "current_citInitial": 1,
   "eqLabelWithNumbers": true,
   "eqNumInitial": 1,
   "hotkeys": {
    "equation": "Ctrl-E",
    "itemize": "Ctrl-I"
   },
   "labels_anchors": false,
   "latex_user_defs": false,
   "report_style_numbering": false,
   "user_envs_cfg": false
  },
  "nbTranslate": {
   "displayLangs": [
    "*"
   ],
   "hotkey": "alt-t",
   "langInMainMenu": true,
   "sourceLang": "en",
   "targetLang": "fr",
   "useGoogleTranslate": true
  },
  "toc": {
   "base_numbering": 1,
   "nav_menu": {},
   "number_sections": true,
   "sideBar": true,
   "skip_h1_title": false,
   "title_cell": "Table of Contents",
   "title_sidebar": "Contents",
   "toc_cell": false,
   "toc_position": {},
   "toc_section_display": true,
   "toc_window_display": false
  },
  "varInspector": {
   "cols": {
    "lenName": 16,
    "lenType": 16,
    "lenVar": 40
   },
   "kernels_config": {
    "python": {
     "delete_cmd_postfix": "",
     "delete_cmd_prefix": "del ",
     "library": "var_list.py",
     "varRefreshCmd": "print(var_dic_list())"
    },
    "r": {
     "delete_cmd_postfix": ") ",
     "delete_cmd_prefix": "rm(",
     "library": "var_list.r",
     "varRefreshCmd": "cat(var_dic_list()) "
    }
   },
   "types_to_exclude": [
    "module",
    "function",
    "builtin_function_or_method",
    "instance",
    "_Feature"
   ],
   "window_display": false
  }
 },
 "nbformat": 4,
 "nbformat_minor": 1
}
