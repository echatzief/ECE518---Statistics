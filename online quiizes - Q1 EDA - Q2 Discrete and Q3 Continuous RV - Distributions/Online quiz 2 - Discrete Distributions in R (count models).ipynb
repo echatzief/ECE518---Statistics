{
 "cells": [
  {
   "cell_type": "markdown",
   "metadata": {},
   "source": [
    "# Probability Theory Tutorial\n",
    "\n",
    "Uncertainty is a key concept that plays a central role in many aspects of life. It arises from a number of sources including ambiguity, overlapping class membership, individual variation, and measurement noise, among others. \n",
    "\n",
    "\n",
    "\n",
    "## Basic Definitions\n",
    "\n",
    "Though there now exist several alternative derivations of the laws of probability (including *Cox's Theorem*, and the *Dutch Book* argument), the axiomatic account developed by Kolmogorov (in 1933!) is generally viewed as forming the foundation of modern probability theory. The nice thing about this formulation is that it applies to any reasonable interpretation of probability. It defines probability simply as a measure on a sample space of events.\n",
    "\n",
    "**Sample Space ($\\Omega$):** The set of all possible events or outcomes (e.g., outcome of coin flip, randomly chosen scene or image, performance on a psychological or behavioral test)\n",
    "\n",
    "**Random Variable ($X$):** A mapping from outcomes to real values (e.g., 1 for heads, a vector of scene parameters or image luminances, normalized test score)\n",
    "\n",
    "\n",
    "\n",
    "Kolmogorov's axioms state that a function _P_ is a probability measure if:\n",
    "- - -\n",
    "1. $P(\\Omega)= 1$\n",
    ">_The measure of the function on the entire sample space is 1_\n",
    "2. $P(A)\\geq 0, \\ A\\in \\Omega$ \n",
    ">_The measure of any subset of the sample space is greater than or equal to zero_\n",
    "3. $P(\\bigcup_i{A_i}) = \\sum_{i}{P(A_i)}$\n",
    ">_The measure of any countable set of disjoint (i.e., mutually exclusive) events is equal to the sum of the measures of those individual events_\n",
    "\n",
    "- - -\n",
    "A number familiar properties of probability measures follow directly from these axioms. These include\n",
    "\n",
    "1. $0 \\leq P(A) \\leq 1$\n",
    ">_The probability of any subset of the sample space is between zero and one, inclusive_\n",
    "2. $P(\\text{not } A) = 1-P(A)$\n",
    ">_The probability of the complement of any set is one minus the probability of that set_\n",
    "3. $P(B)\\leq P(A), \\ B \\subset A$\n",
    ">_The probability of any subset of a set is smaller than the probability of the original set_\n",
    "4. $P(A\\cup B) = P(A)+P(B)-P(A \\cap B)$\n",
    ">_The probability of the union of any two sets is the sum of their individual probabilities minus the probability of their intersection_\n",
    "\n",
    "\n"
   ]
  },
  {
   "cell_type": "markdown",
   "metadata": {},
   "source": [
    "# Stochastic Processes and Probability Distributions\n",
    "\n",
    "In the  basic probability theory we have introduced the notion of a *sample space* $\\Omega$, the definition of a *random variable* $X$ as a mapping $\\omega \\rightarrow X(\\omega)\\in\\mathbb{R}$ from events in the sample space to (usually) real numbers and the concept of probability distribution. The probability distribution is a mathematical function that provides the probabilities of occurrence of different possible outcomes in an experiment. In more technical terms, the probability distribution is a description of a random phenomenon (called stochastic process)  in terms of the probabilities of events. For instance, if the random variable X is used to denote the outcome of a coin toss (\"the experiment\"), then the probability distribution of X would take the value 0.5 for X = heads, and 0.5 for X = tails (assuming the coin is fair). Examples of random phenomena can include the results of an experiment or survey. \n",
    "\n",
    "\n",
    "\n",
    "\\begin{example}\n",
    "## Coin toss model\n",
    "\n",
    "We model Heads as success with value 1 and probability $p$. Conversely, we model Tails as failure with value 0 with probability $1-p$. Suppose we toss 3 coins - these are the possible outcomes:\n",
    "\n",
    "    000\n",
    "    001\n",
    "    010\n",
    "    011\n",
    "    100\n",
    "    101\n",
    "    110\n",
    "    111\n",
    "It is easy to see that there are $2^k$ possible outcomes when we toss $k$ coins (or equivalently toss one coin $k$ times). In statistics, each “toss” is known as a **trial**.\n",
    "\n",
    "A random variable is a function that maps each outcome to a number. For example, the number of successes in 3 trials is a random variable, with the following mapping:\n",
    "\n",
    "    000 -> 0\n",
    "    001 -> 1\n",
    "    010 -> 1\n",
    "    011 -> 2\n",
    "    100 -> 1\n",
    "    101 -> 2\n",
    "    110 -> 2\n",
    "    111 -> 3\n",
    "Count models are concerned with the behavior of the random variable that can be interpreted as the number of successes in $k$ trials. In this notebook, we will explore three common count models - the _binomial_, _Poisson_ and _negative binomial_ distributions.\n",
    "\n",
    "\\end{example}\n",
    "\n"
   ]
  },
  {
   "cell_type": "markdown",
   "metadata": {},
   "source": [
    "Next we introduce the notion of a **stochastic process** and discussing how such processes idealize real-world phenomena and how they can be used to map real-world events to common distributions.\n",
    "\n",
    "## Stochastic Processes\n",
    "A stochastic process is simply a collection of indexed random variables $X_t, t\\in T$. The set of possible values for the indices $t$ is sometimes called the **index space**, while the set of possible values for the variables $X$ is typically called the **state space**. The index space can be just about anything we will assume that the indices represent time, in which case a stochastic process is an temporally ordered sequence of random variables.\n",
    "\n",
    "Note that both the indices $t$ and the random variables $X$ may be either discrete or continuous. This leads to four classes of stochastic processes:\n",
    "\n",
    "1. discrete-time, discrete-state\n",
    "2. continuous-time, discrete-state\n",
    "3. discrete-time, continuous-state\n",
    "4. continuous-time, continuous-state\n",
    "\n",
    "We will focus on the most basic stochastic processes belonging to categories (1) and (2), respectively. These are the **Bernoulli Process**,  the **Poisson Process**, and the **Binomial distribution\" as its variances**. Most of the parametric distributions that you encounter can be derived from one (or both) of these two processes. In addition, we will study a number of continuous processes including the most important one the **normal distribution\". "
   ]
  },
  {
   "cell_type": "markdown",
   "metadata": {},
   "source": [
    "# Discrete Probability Distributions\n",
    "Discrete random variables (i.e., variables with distributions defined only on integers) and their associated probability distributions are probably the easiest to grasp intuitively. \n",
    "A discrete distribution can be characterized either by its **probability mass function** $P(X=x)$ which simply indicates the probability associated with each possible value of the random variable, or by its **cumulative distribution function**  $P(X\\leq x_n) = \\sum^{n}_{i}{P(X=x_i)}$ which indicates the probability that the random variable takes on a value less than (or equal to) the indicated value. \n",
    "\n",
    "\n",
    "R has functions to handle many probability distributions. The table below gives the names of the functions for each distribution and a link to the on-line documentation that is the authoritative reference for how the functions are used. But don't read the on-line documentation yet. First, try the examples in the sections following the table in http://www.stat.umn.edu/geyer/old/5101/rlook.html\n",
    "\n",
    "Every distribution that R handles has four functions. There is a root name,\n",
    "for example, the root name for the normal distribution is norm. This root is\n",
    "prefixed by one of the letters \n",
    "\n",
    "    • p for “probability”, the distribution function (DF)\n",
    "    • q for “quantile”, the inverse DF for a continuous random variable or\n",
    "    • d for “density”, the probability mass function (PMF) for a discrete\n",
    "    random variable or the probability density function (PDF) for a\n",
    "    continuous random variable\n",
    "    • r for “random”, a random variable having the specified distribution \n",
    "    \n",
    "For the normal distribution, these functions are pnorm, qnorm, dnorm, and \n",
    "rnorm. For the binomial distribution, these functions are pbinom, qbinom, \n",
    "dbinom, and rbinom. And so forth.\n",
    "\n",
    "For a continuous distribution (like the normal), the most useful functions for doing problems involving probability calculations are the \"p\" and \"q\" functions (c.d.f. and inverse c.d.f.), because the density (p. d. f.) calculated by the \"d\" function can only be used to calculate probabilities via integrals and R doesn't do integrals. \n",
    "\n",
    "For a discrete distribution (like the binomial), the \"d\" function calculates the density (p.f.), which in this case is a probability \n",
    "\n",
    "$f(x) = P(X = x)$ \n",
    "and hence is useful in calculating probabilities. \n",
    "\n",
    "**Distribution Functions in R**\n",
    "\n",
    "|name |cdf/pmf|quantile/inverse of cdf|density function|random sampling|\n",
    "|-----|:-------:|:-----------------------:|----------------:|---------------|\n",
    "|Beta | pbeta | qbeta | dbeta | rbeta  |\n",
    "|Binomial|  pbinom|  qbinom|  dbinom|  rbinom | \n",
    "|Cauchy|  pcauchy|  qcauchy|  dcauchy|  rcauchy|  \n",
    "|Chi-Square|  pchisq|  qchisq|  dchisq|  rchisq|  \n",
    "|Exponential|  pexp|  qexp| dexp | rexp | \n",
    "|F  |pf  |qf  |df|  rf | \n",
    "|Gamma|  pgamma|  qgamma|  dgamma|  rgamma | \n",
    "|Geometric|  pgeom|  qgeom|  dgeom|  rgeom|  \n",
    "|Hypergeometric|  phyper|  qhyper|  dhyper | rhyper| \n",
    "|Logistic|  plogis|  qlogis|  dlogis | rlogis | \n",
    "|Log Normal|  plnorm|  qlnorm|  dlnorm | rlnorm | \n",
    "|Negative Binomial|  pnbinom|  qnbinom|  dnbinom | rnbinom|  \n",
    "|Normal|  pnorm | qnorm|  dnorm | rnorm  |\n",
    "|Poisson|  ppois|  qpois|  dpois|  rpois|  \n",
    "|Student| t|  pt| qt|  dt|  rt|  \n",
    "|Studentized Range|  ptukey|  qtukey|  dtukey|  rtukey|  \n",
    "|Uniform|  punif|  qunif|  dunif | runif | \n",
    "|Weibull | pweibull | qweibull|  dweibull|  rweibull|  \n",
    "|Wilcoxon Rank Sum Statistic|  pwilcox|  qwilcox|  dwilcox|  rwilcox|  \n",
    "|Wilcoxon Signed Rank Statistic|  psignrank | qsignrank|  dsignrank|  rsignrank |\n",
    "\n",
    "The relation of these distributions and their parameters are depicted in the following graph.\n",
    "\n",
    "![rel_dist](overview.png)\n"
   ]
  },
  {
   "cell_type": "markdown",
   "metadata": {},
   "source": [
    "**Okay, so now you have a slew of tools to describe stochastic processes-models-experiments, what type of questions we are interested to answer?**\n"
   ]
  },
  {
   "cell_type": "markdown",
   "metadata": {},
   "source": [
    "![table](table_pr_dist.png)"
   ]
  },
  {
   "cell_type": "code",
   "execution_count": 2,
   "metadata": {},
   "outputs": [],
   "source": [
    "library(tidyverse)       "
   ]
  },
  {
   "cell_type": "markdown",
   "metadata": {},
   "source": [
    "## Uniform (discrete)\n",
    "\n",
    "Perhaps the most familiar form of distribution (for nonscientists) is the discrete uniform distribution,where $n$ mutually exclusive outcomes are equally likely. This arises in many games of chance (such as the flip of a fair coin, the roll of a fair die or the a turn of the roulette wheel). It has only one parameter, which is the number of possible outcomes:\n",
    "\n",
    "$$P(x) = 1/n,\\ \\  x \\in \\{1,...,n\\}$$\n",
    "\n",
    "alternatively, it can be defined over a particular range by specifying the lower and upper bounds of that range\n",
    "\n",
    "$$P(x) = 1/(k-j),\\ \\  x \\in \\{j,j+1,...,k-1\\}$$\n",
    "\n",
    "check the https://en.wikipedia.org/wiki/Discrete_uniform_distribution for details.\n"
   ]
  },
  {
   "cell_type": "code",
   "execution_count": 13,
   "metadata": {},
   "outputs": [
    {
     "data": {
      "text/html": [
       "<ol class=list-inline>\n",
       "\t<li>88</li>\n",
       "\t<li>25</li>\n",
       "\t<li>14</li>\n",
       "\t<li>90</li>\n",
       "\t<li>4</li>\n",
       "\t<li>17</li>\n",
       "\t<li>15</li>\n",
       "\t<li>67</li>\n",
       "\t<li>74</li>\n",
       "\t<li>26</li>\n",
       "</ol>\n"
      ],
      "text/latex": [
       "\\begin{enumerate*}\n",
       "\\item 88\n",
       "\\item 25\n",
       "\\item 14\n",
       "\\item 90\n",
       "\\item 4\n",
       "\\item 17\n",
       "\\item 15\n",
       "\\item 67\n",
       "\\item 74\n",
       "\\item 26\n",
       "\\end{enumerate*}\n"
      ],
      "text/markdown": [
       "1. 88\n",
       "2. 25\n",
       "3. 14\n",
       "4. 90\n",
       "5. 4\n",
       "6. 17\n",
       "7. 15\n",
       "8. 67\n",
       "9. 74\n",
       "10. 26\n",
       "\n",
       "\n"
      ],
      "text/plain": [
       " [1] 88 25 14 90  4 17 15 67 74 26"
      ]
     },
     "metadata": {},
     "output_type": "display_data"
    },
    {
     "data": {
      "text/html": [
       "42"
      ],
      "text/latex": [
       "42"
      ],
      "text/markdown": [
       "42"
      ],
      "text/plain": [
       "[1] 42"
      ]
     },
     "metadata": {},
     "output_type": "display_data"
    },
    {
     "data": {
      "text/html": [
       "1132.88888888889"
      ],
      "text/latex": [
       "1132.88888888889"
      ],
      "text/markdown": [
       "1132.88888888889"
      ],
      "text/plain": [
       "[1] 1132.889"
      ]
     },
     "metadata": {},
     "output_type": "display_data"
    }
   ],
   "source": [
    "# example of using the continouous uniform distribution function to implement the discrete uniform distribution\n",
    "\n",
    "a <- round(runif(10, min=0, max=100))\n",
    "a\n",
    "mean(a)\n",
    "var(a)"
   ]
  },
  {
   "cell_type": "markdown",
   "metadata": {},
   "source": [
    "### Mean and Variance of a discrete uniform distribution"
   ]
  },
  {
   "cell_type": "code",
   "execution_count": 28,
   "metadata": {},
   "outputs": [
    {
     "data": {
      "text/html": [
       "<ol class=list-inline>\n",
       "\t<li>71</li>\n",
       "\t<li>34</li>\n",
       "\t<li>34</li>\n",
       "\t<li>94</li>\n",
       "\t<li>8</li>\n",
       "\t<li>18</li>\n",
       "\t<li>7</li>\n",
       "\t<li>50</li>\n",
       "\t<li>82</li>\n",
       "\t<li>84</li>\n",
       "</ol>\n"
      ],
      "text/latex": [
       "\\begin{enumerate*}\n",
       "\\item 71\n",
       "\\item 34\n",
       "\\item 34\n",
       "\\item 94\n",
       "\\item 8\n",
       "\\item 18\n",
       "\\item 7\n",
       "\\item 50\n",
       "\\item 82\n",
       "\\item 84\n",
       "\\end{enumerate*}\n"
      ],
      "text/markdown": [
       "1. 71\n",
       "2. 34\n",
       "3. 34\n",
       "4. 94\n",
       "5. 8\n",
       "6. 18\n",
       "7. 7\n",
       "8. 50\n",
       "9. 82\n",
       "10. 84\n",
       "\n",
       "\n"
      ],
      "text/plain": [
       " [1] 71 34 34 94  8 18  7 50 82 84"
      ]
     },
     "metadata": {},
     "output_type": "display_data"
    },
    {
     "data": {
      "text/html": [
       "48.2"
      ],
      "text/latex": [
       "48.2"
      ],
      "text/markdown": [
       "48.2"
      ],
      "text/plain": [
       "[1] 48.2"
      ]
     },
     "metadata": {},
     "output_type": "display_data"
    },
    {
     "data": {
      "text/html": [
       "1074.84444444444"
      ],
      "text/latex": [
       "1074.84444444444"
      ],
      "text/markdown": [
       "1074.84444444444"
      ],
      "text/plain": [
       "[1] 1074.844"
      ]
     },
     "metadata": {},
     "output_type": "display_data"
    },
    {
     "data": {
      "text/html": [
       "50"
      ],
      "text/latex": [
       "50"
      ],
      "text/markdown": [
       "50"
      ],
      "text/plain": [
       "[1] 50"
      ]
     },
     "metadata": {},
     "output_type": "display_data"
    },
    {
     "data": {
      "text/html": [
       "850"
      ],
      "text/latex": [
       "850"
      ],
      "text/markdown": [
       "850"
      ],
      "text/plain": [
       "[1] 850"
      ]
     },
     "metadata": {},
     "output_type": "display_data"
    }
   ],
   "source": [
    "library(purrr)\n",
    "a = 0\n",
    "b = 100\n",
    "x = rdunif(10, 0,100 )\n",
    "x\n",
    "mean(x)\n",
    "var(x)\n",
    "m = (a+b)/2\n",
    "v= ((b-a+1)^2-1)/12\n",
    "m\n",
    "v"
   ]
  },
  {
   "cell_type": "markdown",
   "metadata": {},
   "source": [
    "## Uniform (continuous)\n",
    "\n",
    "|Notation           |Formulas             |\n",
    "|------------------:|:-------------------:|\n",
    "|PDF\t|$F(x)=\\left\\{\\begin{array}{ll}{\\frac{1}{b-a}} & {\\text { for } x \\in[a, b]} \\\\ {0} & {\\text { otherwise }}\\end{array}\\right.$|\n",
    "|inverse F|$F^{-1}(p)=a+p(b-a)$ for $0<p<1$|\n",
    "|CDF\t|$\\left\\{\\begin{array}{ll}{0} & {\\text { for } x<a} \\\\ {\\frac{x-a}{b-a}} & {\\text { for } x \\in[a, b)} \\\\ {1} & {\\text { for } x \\geq b}\\end{array}\\right.$|\n",
    "|Mean\t|$\\frac{1}{2}(a+b)$|\n",
    "|Median\t|$\\frac{1}{2}(a+b)$|\n",
    "|Mode\t|any value in (a,b)|\n",
    "|Variance|\t$\\frac{1}{12}(b-a)^{2}$|\n",
    "|Skewness|\t0|\n",
    "|Ex. kurtosis|\t$\\tfrac {6}{5}$|\n",
    "|Entropy|\t$ln(b−a)$|\n",
    "|MGF|\t$\\left\\{\\begin{array}{ll}{\\frac{\\mathrm{e}^{t b}-\\mathrm{e}^{t a}}{t(b-a)}} & {\\text { for } t \\neq 0} \\\\ {1} & {\\text { for } t=0}\\end{array}\\right.$|\n",
    "|CF\t|$\\left\\{\\begin{array}{ll}{\\frac{\\mathrm{e}^{t b}-\\mathrm{e}^{t a}}{t(b-a)}} & {\\text { for } t \\neq 0} \\\\ {1} & {\\text { for } t=0}\\end{array}\\right.$|\n",
    "\n",
    "In `stats`, the discrete uniform distribution is called `rubif` and is defined using the second form.\n",
    "If `min` or `max` are not specified they assume the default values of `0` and `1` respectively.\n",
    "\n",
    "The uniform distribution has density $$f(x)=\\frac{1}{\\max -\\min }$$\n",
    "\n",
    "for $\\min \\leq x \\leq \\max$.\n",
    "\n",
    "For the case of $u:=min==max$, the limit case of $X≡u$ is assumed, although there is no density in that case and `dunif` will return `NaN` (the error condition).\n",
    "\n",
    "`runif` will not generate either of the extreme values unless `max = min` or `max-min` is small compared to min, and in particular not for the default arguments.\n",
    "\n",
    "**Value**\n",
    "`dunif` gives the density, `punif` gives the distribution function, `qunif` gives the quantile function, and `runif` generates random deviates."
   ]
  },
  {
   "cell_type": "code",
   "execution_count": 11,
   "metadata": {},
   "outputs": [
    {
     "data": {
      "text/html": [
       "<ol class=list-inline>\n",
       "\t<li>TRUE</li>\n",
       "\t<li>TRUE</li>\n",
       "\t<li>TRUE</li>\n",
       "\t<li>TRUE</li>\n",
       "\t<li>TRUE</li>\n",
       "\t<li>TRUE</li>\n",
       "\t<li>TRUE</li>\n",
       "\t<li>TRUE</li>\n",
       "\t<li>TRUE</li>\n",
       "\t<li>TRUE</li>\n",
       "\t<li>TRUE</li>\n",
       "\t<li>TRUE</li>\n",
       "\t<li>TRUE</li>\n",
       "\t<li>TRUE</li>\n",
       "\t<li>TRUE</li>\n",
       "\t<li>TRUE</li>\n",
       "\t<li>TRUE</li>\n",
       "\t<li>TRUE</li>\n",
       "\t<li>TRUE</li>\n",
       "\t<li>TRUE</li>\n",
       "</ol>\n"
      ],
      "text/latex": [
       "\\begin{enumerate*}\n",
       "\\item TRUE\n",
       "\\item TRUE\n",
       "\\item TRUE\n",
       "\\item TRUE\n",
       "\\item TRUE\n",
       "\\item TRUE\n",
       "\\item TRUE\n",
       "\\item TRUE\n",
       "\\item TRUE\n",
       "\\item TRUE\n",
       "\\item TRUE\n",
       "\\item TRUE\n",
       "\\item TRUE\n",
       "\\item TRUE\n",
       "\\item TRUE\n",
       "\\item TRUE\n",
       "\\item TRUE\n",
       "\\item TRUE\n",
       "\\item TRUE\n",
       "\\item TRUE\n",
       "\\end{enumerate*}\n"
      ],
      "text/markdown": [
       "1. TRUE\n",
       "2. TRUE\n",
       "3. TRUE\n",
       "4. TRUE\n",
       "5. TRUE\n",
       "6. TRUE\n",
       "7. TRUE\n",
       "8. TRUE\n",
       "9. TRUE\n",
       "10. TRUE\n",
       "11. TRUE\n",
       "12. TRUE\n",
       "13. TRUE\n",
       "14. TRUE\n",
       "15. TRUE\n",
       "16. TRUE\n",
       "17. TRUE\n",
       "18. TRUE\n",
       "19. TRUE\n",
       "20. TRUE\n",
       "\n",
       "\n"
      ],
      "text/plain": [
       " [1] TRUE TRUE TRUE TRUE TRUE TRUE TRUE TRUE TRUE TRUE TRUE TRUE TRUE TRUE TRUE\n",
       "[16] TRUE TRUE TRUE TRUE TRUE"
      ]
     },
     "metadata": {},
     "output_type": "display_data"
    },
    {
     "data": {
      "text/html": [
       "<ol class=list-inline>\n",
       "\t<li>TRUE</li>\n",
       "\t<li>TRUE</li>\n",
       "\t<li>TRUE</li>\n",
       "\t<li>TRUE</li>\n",
       "\t<li>TRUE</li>\n",
       "\t<li>TRUE</li>\n",
       "\t<li>TRUE</li>\n",
       "\t<li>TRUE</li>\n",
       "\t<li>TRUE</li>\n",
       "\t<li>TRUE</li>\n",
       "\t<li>TRUE</li>\n",
       "\t<li>TRUE</li>\n",
       "\t<li>TRUE</li>\n",
       "\t<li>TRUE</li>\n",
       "\t<li>TRUE</li>\n",
       "\t<li>TRUE</li>\n",
       "\t<li>TRUE</li>\n",
       "\t<li>TRUE</li>\n",
       "\t<li>TRUE</li>\n",
       "\t<li>TRUE</li>\n",
       "</ol>\n"
      ],
      "text/latex": [
       "\\begin{enumerate*}\n",
       "\\item TRUE\n",
       "\\item TRUE\n",
       "\\item TRUE\n",
       "\\item TRUE\n",
       "\\item TRUE\n",
       "\\item TRUE\n",
       "\\item TRUE\n",
       "\\item TRUE\n",
       "\\item TRUE\n",
       "\\item TRUE\n",
       "\\item TRUE\n",
       "\\item TRUE\n",
       "\\item TRUE\n",
       "\\item TRUE\n",
       "\\item TRUE\n",
       "\\item TRUE\n",
       "\\item TRUE\n",
       "\\item TRUE\n",
       "\\item TRUE\n",
       "\\item TRUE\n",
       "\\end{enumerate*}\n"
      ],
      "text/markdown": [
       "1. TRUE\n",
       "2. TRUE\n",
       "3. TRUE\n",
       "4. TRUE\n",
       "5. TRUE\n",
       "6. TRUE\n",
       "7. TRUE\n",
       "8. TRUE\n",
       "9. TRUE\n",
       "10. TRUE\n",
       "11. TRUE\n",
       "12. TRUE\n",
       "13. TRUE\n",
       "14. TRUE\n",
       "15. TRUE\n",
       "16. TRUE\n",
       "17. TRUE\n",
       "18. TRUE\n",
       "19. TRUE\n",
       "20. TRUE\n",
       "\n",
       "\n"
      ],
      "text/plain": [
       " [1] TRUE TRUE TRUE TRUE TRUE TRUE TRUE TRUE TRUE TRUE TRUE TRUE TRUE TRUE TRUE\n",
       "[16] TRUE TRUE TRUE TRUE TRUE"
      ]
     },
     "metadata": {},
     "output_type": "display_data"
    },
    {
     "data": {
      "text/html": [
       "0.497832438471774"
      ],
      "text/latex": [
       "0.497832438471774"
      ],
      "text/markdown": [
       "0.497832438471774"
      ],
      "text/plain": [
       "[1] 0.4978324"
      ]
     },
     "metadata": {},
     "output_type": "display_data"
    },
    {
     "data": {
      "text/html": [
       "0.0834853706455812"
      ],
      "text/latex": [
       "0.0834853706455812"
      ],
      "text/markdown": [
       "0.0834853706455812"
      ],
      "text/plain": [
       "[1] 0.08348537"
      ]
     },
     "metadata": {},
     "output_type": "display_data"
    }
   ],
   "source": [
    "# NOT RUN {\n",
    "u <- runif(20)\n",
    "\n",
    "## The following relations always hold :\n",
    "punif(u) == u\n",
    "dunif(u) == 1\n",
    "mean(runif(10000))\n",
    "var(runif(10000))  "
   ]
  },
  {
   "cell_type": "markdown",
   "metadata": {},
   "source": [
    "## The Bernoulli Process\n",
    "\n",
    "The Bernoulli process, perhaps the simplest of all stochastic processes, represents a sequence of independent Bernoulli trials. Intuitively, you can think of it as representing a sequence of (biased) coin flips, with each random variable taking on one of two possible values.\n",
    "\n",
    "This process can be used to model any real-world process that has a binary outcome (e.g., correct/incorrect, left/right, male/female, etc.) and can be broken down into individual independent trials. Examples include:\n",
    "\n",
    "- the sexes of a sequence of babies born in a particular hospital\n",
    "- the responses of an observer in a forced-choice psychophysical experiment\n",
    "- the outcomes of tennis matches for a particular player\n",
    "\n",
    "You can simulate a Bernoulli process by creating an ordered set of trials whose values are randomly and independently set to take the value 1 with probability $p$ and 0 with probability $1-p$. In Python, the most basic way to do this is using the `rand` function, which draws a random floating point value uniformly from the interval [0,1]. The rand function in R is supported by the pracma library https://www.rdocumentation.org/packages/pracma/versions/1.9.9\n"
   ]
  },
  {
   "cell_type": "code",
   "execution_count": 3,
   "metadata": {},
   "outputs": [
    {
     "name": "stdout",
     "output_type": "stream",
     "text": [
      "Populating the interactive namespace from numpy and matplotlib\n"
     ]
    },
    {
     "data": {
      "text/plain": [
       "array([1, 1, 0, 1, 0, 0, 1, 1, 1, 1, 1, 0, 1, 1, 0, 1, 1, 1, 1])"
      ]
     },
     "execution_count": 3,
     "metadata": {},
     "output_type": "execute_result"
    }
   ],
   "source": [
    "# Specify the number of trials and the success probability p.\n",
    "%pylab inline\n",
    "from scipy import stats\n",
    "nr_trials = 10000;\n",
    "p = 0.7;\n",
    "# create random values and map values < p to 1 and values > p to zero\n",
    "bern_proc = (rand(nr_trials)<p)*1;\n",
    "# print the first 20 values\n",
    "bern_proc[1:20]"
   ]
  },
  {
   "cell_type": "markdown",
   "metadata": {},
   "source": [
    "The array `bern_proc` above now represents an approximation of a Bernoulli process. Many discrete distributions can be derived directly from the properties of this sequence, including:\n",
    "\n",
    "- The binomial distribution (count _k_ of successes in _n_ trials)\n",
    "- The geometric distribution (the number of trials _n_ needed to get one success)\n",
    "- The negative binomial distribution (the number of successes observed before getting _k_ failures)\n",
    "\n",
    "There are no specific functions for Bernoulli distribution since it is a special case of the binomial distribution to be presented next."
   ]
  },
  {
   "cell_type": "code",
   "execution_count": 29,
   "metadata": {},
   "outputs": [
    {
     "data": {
      "text/html": [
       "<ol class=list-inline>\n",
       "\t<li>1</li>\n",
       "\t<li>1</li>\n",
       "\t<li>0</li>\n",
       "\t<li>1</li>\n",
       "\t<li>1</li>\n",
       "\t<li>1</li>\n",
       "\t<li>1</li>\n",
       "\t<li>0</li>\n",
       "\t<li>1</li>\n",
       "\t<li>1</li>\n",
       "\t<li>1</li>\n",
       "\t<li>1</li>\n",
       "\t<li>1</li>\n",
       "\t<li>1</li>\n",
       "\t<li>0</li>\n",
       "\t<li>0</li>\n",
       "\t<li>0</li>\n",
       "\t<li>1</li>\n",
       "\t<li>0</li>\n",
       "\t<li>1</li>\n",
       "</ol>\n"
      ],
      "text/latex": [
       "\\begin{enumerate*}\n",
       "\\item 1\n",
       "\\item 1\n",
       "\\item 0\n",
       "\\item 1\n",
       "\\item 1\n",
       "\\item 1\n",
       "\\item 1\n",
       "\\item 0\n",
       "\\item 1\n",
       "\\item 1\n",
       "\\item 1\n",
       "\\item 1\n",
       "\\item 1\n",
       "\\item 1\n",
       "\\item 0\n",
       "\\item 0\n",
       "\\item 0\n",
       "\\item 1\n",
       "\\item 0\n",
       "\\item 1\n",
       "\\end{enumerate*}\n"
      ],
      "text/markdown": [
       "1. 1\n",
       "2. 1\n",
       "3. 0\n",
       "4. 1\n",
       "5. 1\n",
       "6. 1\n",
       "7. 1\n",
       "8. 0\n",
       "9. 1\n",
       "10. 1\n",
       "11. 1\n",
       "12. 1\n",
       "13. 1\n",
       "14. 1\n",
       "15. 0\n",
       "16. 0\n",
       "17. 0\n",
       "18. 1\n",
       "19. 0\n",
       "20. 1\n",
       "\n",
       "\n"
      ],
      "text/plain": [
       " [1] 1 1 0 1 1 1 1 0 1 1 1 1 1 1 0 0 0 1 0 1"
      ]
     },
     "metadata": {},
     "output_type": "display_data"
    },
    {
     "data": {
      "image/png": "[encoded data removed]",
      "text/plain": [
       "Plot with title \"Histogram of data_bernoulli\""
      ]
     },
     "metadata": {},
     "output_type": "display_data"
    }
   ],
   "source": [
    "data_bernoulli = as.numeric(rbinom(10000, 1,0.7))\n",
    "data_bernoulli[1:20]\n",
    "hist(data_bernoulli)"
   ]
  },
  {
   "cell_type": "markdown",
   "metadata": {},
   "source": [
    "# Binomial model\n",
    "\n",
    "The **Binomial** distribution refers to a whole class of discrete distributions. The **Binomial** distribution occurs in cases where\n",
    "\n",
    "\\begin{enumerate}\n",
    "\\item We have a fixed number of trials (i.e., attempts) are done (run n trials).\n",
    "\\item There are only 2 possible outcomes of each trial: one is called a success, the other called a failure. It is called Bernoulli trials.\n",
    "\\item The probability of success is the same for each trial. We designate the probability of success on any one trial as p. This means that the probability of a failure is (1-p).\n",
    "\\item The trials are independent; knowing the outcome of one trial tells you nothing about the outcome of the next trial.\n",
    "\\item **We are looking at a random variable, X, that is the number of successes in those n trials.** \n",
    "\\end{enumerate}\n",
    "\n",
    "\n",
    "\n",
    "\\begin{example}\n",
    "If we start with a coin that has a 56% probability of coming up heads when we spin the coin. We will spin it 5 times (there are 5 trials). On each spin the probability of getting heads is 0.56. The spins are independent events; the coin does not change its behavior based on its history of spins. We want to know the probability that we will get each of the following: 5 heads, 4 heads and 1 tail, 3 heads and 2 tails, 2 heads and 3 tails, 1 head and 4 tails, and 5 tails. This situation where we have n=5 and p=0.56, is one instance of a binomial distribution. If we change the value of n and/or we change the value of p we get a different instance of a binomial distribution. \n",
    "\\end{example}\n"
   ]
  },
  {
   "cell_type": "code",
   "execution_count": 3,
   "metadata": {},
   "outputs": [
    {
     "data": {
      "image/png": "[encoded data removed]",
      "text/plain": [
       "plot without title"
      ]
     },
     "metadata": {},
     "output_type": "display_data"
    }
   ],
   "source": [
    "## Fair coin simulation\n",
    "\n",
    "outcomes <- replicate(100, sum(sample(0:1, 10, replace=TRUE)))\n",
    "\n",
    "options(repr.plot.width=4, repr.plot.height=3)\n",
    "\n",
    "ggplot(data.frame(k=outcomes), aes(x=k)) +\n",
    "geom_bar() +\n",
    "scale_x_continuous(limits=c(0, 10), breaks=0:10)"
   ]
  },
  {
   "cell_type": "markdown",
   "metadata": {},
   "source": [
    "# Biased coin"
   ]
  },
  {
   "cell_type": "code",
   "execution_count": 4,
   "metadata": {},
   "outputs": [
    {
     "name": "stderr",
     "output_type": "stream",
     "text": [
      "Warning message:\n",
      "\"Removed 1 rows containing missing values (geom_bar).\""
     ]
    },
    {
     "data": {
      "image/png": "[encoded data removed]",
      "text/plain": [
       "plot without title"
      ]
     },
     "metadata": {},
     "output_type": "display_data"
    }
   ],
   "source": [
    "p <- 0.7\n",
    "outcomes <- replicate(100, sum(sample(0:1, 10, replace=TRUE, prob = c(1-p, p))))\n",
    "ggplot(data.frame(k=outcomes), aes(x=k)) +\n",
    "geom_bar() +\n",
    "scale_x_continuous(limits=c(0, 10), breaks=0:10)"
   ]
  },
  {
   "cell_type": "markdown",
   "metadata": {},
   "source": [
    "# The binomial distribution\n",
    "The two simulations above are examples of draws from the binomial distribution. Here we repeat the simulations using the more compact binomial distribution model described by an R function. \n",
    "\n",
    "**Specifically, the `pbinom(k,n,p)` function in R computes $P(X \\le k)$ for $n$ trials with $p$ the probability of a success. Notice that this computes the probability of getting $k$ or fewer successes in $n$ trials, not the probability of getting exactly k successes.** \n",
    "\n",
    "\\begin{example}\n",
    "Assuming the r.v  X with binomial distribution where $n=5$ and $p=0.40$ then compute $P(X=3)$. Notice that in this case we must implement the equation $P(X=3)=P(X \\leq 3)-P(X \\leq 2)$ in R using the `pdinom` function.\n",
    "\\end{example}\n"
   ]
  },
  {
   "cell_type": "code",
   "execution_count": 1,
   "metadata": {},
   "outputs": [
    {
     "data": {
      "text/html": [
       "0.2304"
      ],
      "text/latex": [
       "0.2304"
      ],
      "text/markdown": [
       "0.2304"
      ],
      "text/plain": [
       "[1] 0.2304"
      ]
     },
     "metadata": {},
     "output_type": "display_data"
    }
   ],
   "source": [
    "pbinom(3,5,0.4)-pbinom(2,5,0.4)"
   ]
  },
  {
   "cell_type": "markdown",
   "metadata": {},
   "source": [
    "This business of having to do the subtraction to find the probability of getting an exact number of successes can be a bit tiring. Perhaps we should look at some way to just get the answer. We can do this by letting R do all of the work via a new function that we will build. The code for that function is: "
   ]
  },
  {
   "cell_type": "code",
   "execution_count": 2,
   "metadata": {},
   "outputs": [],
   "source": [
    "pbinomeq <- function( k, n, p )\n",
    "  {\n",
    "    x<- pbinom(k,n,p)\n",
    "    if( k>0)\n",
    "    { y <- pbinom(k-1, n, p)\n",
    "      x <- x - y\n",
    "    }\n",
    "return( x )\n",
    "\n",
    "}"
   ]
  },
  {
   "cell_type": "code",
   "execution_count": 3,
   "metadata": {},
   "outputs": [
    {
     "data": {
      "text/html": [
       "0.2304"
      ],
      "text/latex": [
       "0.2304"
      ],
      "text/markdown": [
       "0.2304"
      ],
      "text/plain": [
       "[1] 0.2304"
      ]
     },
     "metadata": {},
     "output_type": "display_data"
    }
   ],
   "source": [
    "pbinomeq(3,5,0.4)"
   ]
  },
  {
   "cell_type": "markdown",
   "metadata": {},
   "source": [
    "# Fair coin simulation using binomial distribution"
   ]
  },
  {
   "cell_type": "code",
   "execution_count": 5,
   "metadata": {},
   "outputs": [
    {
     "data": {
      "image/png": "[encoded data removed]",
      "text/plain": [
       "plot without title"
      ]
     },
     "metadata": {},
     "output_type": "display_data"
    }
   ],
   "source": [
    "outcomes <- rbinom(n=100, size=10, prob=0.5)\n",
    "\n",
    "ggplot(data.frame(k=outcomes), aes(x=k)) +\n",
    "geom_bar() +\n",
    "scale_x_continuous(limits=c(0, 10), breaks=0:10)"
   ]
  },
  {
   "cell_type": "markdown",
   "metadata": {},
   "source": [
    "# Biased coin"
   ]
  },
  {
   "cell_type": "code",
   "execution_count": 6,
   "metadata": {},
   "outputs": [
    {
     "name": "stderr",
     "output_type": "stream",
     "text": [
      "Warning message:\n",
      "\"Removed 1 rows containing missing values (geom_bar).\""
     ]
    },
    {
     "data": {
      "image/png": "[encoded data removed]",
      "text/plain": [
       "plot without title"
      ]
     },
     "metadata": {},
     "output_type": "display_data"
    }
   ],
   "source": [
    "outcomes <- rbinom(n=100, size=10, prob=0.7)\n",
    "ggplot(data.frame(k=outcomes), aes(x=k)) +\n",
    "geom_bar() +\n",
    "scale_x_continuous(limits=c(0, 10), breaks=0:10)"
   ]
  },
  {
   "cell_type": "markdown",
   "metadata": {},
   "source": [
    "#  binomial density function"
   ]
  },
  {
   "cell_type": "code",
   "execution_count": 7,
   "metadata": {
    "scrolled": true
   },
   "outputs": [
    {
     "name": "stderr",
     "output_type": "stream",
     "text": [
      "Warning message:\n",
      "\"Removed 2 rows containing missing values (geom_bar).\""
     ]
    },
    {
     "data": {
      "image/png": "[encoded data removed]",
      "text/plain": [
       "plot without title"
      ]
     },
     "metadata": {},
     "output_type": "display_data"
    }
   ],
   "source": [
    "k <- 0:10\n",
    "n <- dbinom(x = k, size =10, prob = 0.7)\n",
    "\n",
    "ggplot(data.frame(k=k, n=n), aes(x=k, y=n)) +\n",
    "geom_bar(stat=\"identity\") +\n",
    "scale_x_continuous(limits=c(0, 10), breaks=0:10)"
   ]
  },
  {
   "cell_type": "markdown",
   "metadata": {},
   "source": [
    "\\begin{exercise}\n",
    "Make a horizontal histogram of the number of successes expected from 5 trials when the probability of success in each trial is 0.25.\n",
    "\\end{exercise}"
   ]
  },
  {
   "cell_type": "markdown",
   "metadata": {},
   "source": [
    "\\begin{exercise}\n",
    "You have a miracle drug that will cure 70% of people infected with HIV. You run many clinical trials with 100 HIV-infected people in each trial using this drug. What fraction of the trials have 80 or more people cured?\n",
    "\n",
    "Find the answer using properties of the binomial distribution\n",
    "Find the answer using a simulation with 10000 trials\n",
    "\\end{exercise}"
   ]
  },
  {
   "cell_type": "markdown",
   "metadata": {},
   "source": [
    "# Quiz questions you must be able to answer"
   ]
  },
  {
   "cell_type": "markdown",
   "metadata": {},
   "source": [
    "At this point we really have all that we need for computing binomial probabilities. However, there are many different ways to ask the question. Consider the following. If the probability of success in a binomial distribution is 0.42 and we do 34 trials, what is the probability of getting\n",
    "\n",
    "* less than or equal to 11 successes?\n",
    "* less than 11 successes?\n",
    "* exactly 11 successes?\n",
    "* more than 11 successes?\n",
    "* equal to or more than 11 successes?\n",
    "* no fewer than 11 successes?\n",
    "* no more than 11 successes?\n",
    "* something other than 11 successes?\n",
    "* between 11 and 18 successes, including 11 and 18?\n",
    "* between 11 and 18 successes, excluding 11 and 18?\n",
    "* less than 11 or more than 18 successes?\n",
    "* less than or equal to 11 or more than or equal to 18 successes? \n",
    "\n",
    "Let us go through each of those.\n",
    "\n",
    "* less than or equal to 11 successes: This is the meaning of the standard call to the pbinom() function. Thus the command pbinom(11,34,0.42) will give us the answer 0.1672396.\n",
    "\n",
    "* less than 11 successes: This is equivalent to finding the probability of getting 10 or fewer successes. Thus the command is pbinom(10,34,0.42). The answer is 0.09292053.\n",
    "\n",
    "* exactly 11 successes: We can do this as the probability of getting 11 or less minus the probability of getting 10 or less. To do that we could use pbinom(11,34,0.42)-pbinom(10,34,0.42) to get the answer 0.07431911. Alternatively, if we have loaded our function pbinomeq() then we can use it as pbinomeq(11,34,0.42) to get the same 0.07431911.\n",
    "\n",
    "* more than 11 successes: This is the complement of having 11 or fewer successes. Thus, we are really looking at 1-P(X≤11) which becomes 1-pbinom(11,34,0.42) which gives us 0.8327604. Alternatively, we could look at this as the probability of getting 12 or more successes. One might think that the command `pbinom(12,34,0.42,lower.tail=FALSE)` would compute this. However, the documentation for R states that for the pbinom() function **lower.tail logical; if TRUE (default), probabilities are P[X≤x], otherwise, P[X>x]**. Therefore, if we specify `lower.tail=FALSE` we will not be including the first value since we are then looking at a \"greater than\" situation. If we choose to use the lower.tail=FALSE option we need to start at a value below 12. Therefore the command we want is pbinom(11,34,0.42,lower.tail=FALSE) which yields the same result, 0.8327604.\n",
    "\n",
    "* equal to or more than 11 successes: Now we can compute not getting 0 through 10 successes via 1-pbinom(10,34,0.42) to get 0.9070795, or we could use the lower.tail=FALSE approach , remembering to adjust the first argument to the function and use the command pbinom(10,34,0.42,lower.tail=FALSE) to get 0.9070795.\n",
    "\n",
    "* no fewer than 11 successes? \"No fewer than 11\" means \"11 or more\". We did this before as 1-pbinom(10,34,0.42) or pbinom(10,34,0.42,lower.tail=FALSE) to get 0.9070795.\n",
    "\n",
    "* no more than 11 successes: \"No more than 11\" means \"11 or fewer\" which we did as pbinom(11,34,0.42) which gave us 0.1672396.\n",
    "\n",
    "* something other than 11 successes: This is the compliment of having exactly 11 successes. We could play with the pbinom() function but it s easier to just use the pbinomeq() function as 1-pbinomeq(11,34,0.42) to get the answer 0.9256809.\n",
    "\n",
    "* between 11 and 18 successes, including 11 and 18? Here we find the probability of getting 18 or fewer and then subtract the probability of getting less than 11. We can do this via the command pbinom(18,34,0.42)-pbinom(10,34,0.42) to get the result 0.8349292.\n",
    "\n",
    "* between 11 and 18 successes, excluding 11 and 18: This is similar to the previous case except that we no longer want to include 18 and 11. We just need to adjust the command as pbinom(17,34,0.42)-pbinom(11,34,0.42) to get the result 0.7008324.\n",
    "\n",
    "* less than 11 or more than 18 successes: This is just the complement of the probability of having between 11 and 18 successes (including the 11 and the 18) so we can code this as 1-(pbinom(18,34,0.42)-pbinom(10,34,0.42)) which gives the answer 0.1650708.\n",
    "\n",
    "* less than or equal to 11 or more than or equal to 18 successes: This is just a slight change from the previous problem in that we now include 11 and 18 in the answer, not in the part being excluded. The command has to become 1-(pbinom(17,34,0.42)-pbinom(11,34,0.42)) which gives the answer 0.2991676. \n",
    "\n"
   ]
  },
  {
   "cell_type": "markdown",
   "metadata": {},
   "source": [
    "# Mean and variance of the binomial distribution\n",
    "\n",
    "Now we want to look at the __mean, variance, and standard deviation__ of the binomial random variable. In doing this we need to point out that these are parameters of the distribution, not statistics drawn from a sample distribution. That is, if we have a binomial random variable X for the case where n=5 and p=0.40, then there is a mean for this, called $\\mu_X$, a variance, called $\\sigma_X^2$, and a standard deviation, called $sigma_X$, for that distribution. If we have a sample from that distribution then we expect that the sample statistics will be close to, though not the same as, the distribution parameters.\n",
    "\n",
    "\n",
    "**The mean of the binomial distribution is $np$ and the variance is $np(1-p)$.** Note that the mean and variance are defined by the same two parameters $n$ and $p$ - once the mean is known, the variance is fixed. Hence it is common for real world data to resemble a binomial distribution except that the variance is larger than expected - this is known as over-dispersion."
   ]
  },
  {
   "cell_type": "code",
   "execution_count": 5,
   "metadata": {},
   "outputs": [
    {
     "data": {
      "text/html": [
       "7.0087"
      ],
      "text/latex": [
       "7.0087"
      ],
      "text/markdown": [
       "7.0087"
      ],
      "text/plain": [
       "[1] 7.0087"
      ]
     },
     "metadata": {},
     "output_type": "display_data"
    }
   ],
   "source": [
    "# mean of a binomial sample\n",
    "n <- 10\n",
    "p <- 0.7\n",
    "x <- rbinom(10000, n, p)\n",
    "mean(x)"
   ]
  },
  {
   "cell_type": "code",
   "execution_count": 6,
   "metadata": {},
   "outputs": [
    {
     "data": {
      "text/html": [
       "7"
      ],
      "text/latex": [
       "7"
      ],
      "text/markdown": [
       "7"
      ],
      "text/plain": [
       "[1] 7"
      ]
     },
     "metadata": {},
     "output_type": "display_data"
    }
   ],
   "source": [
    "# theoretical mean of the binomial distribution\n",
    "n*p"
   ]
  },
  {
   "cell_type": "markdown",
   "metadata": {},
   "source": [
    "n * p"
   ]
  },
  {
   "cell_type": "code",
   "execution_count": 7,
   "metadata": {},
   "outputs": [
    {
     "data": {
      "text/html": [
       "2.09"
      ],
      "text/latex": [
       "2.09"
      ],
      "text/markdown": [
       "2.09"
      ],
      "text/plain": [
       "[1] 2.09"
      ]
     },
     "metadata": {},
     "output_type": "display_data"
    }
   ],
   "source": [
    "# variance of a binomial sample\n",
    "round(var(x), 2)\n"
   ]
  },
  {
   "cell_type": "code",
   "execution_count": 8,
   "metadata": {},
   "outputs": [
    {
     "data": {
      "text/html": [
       "2.1"
      ],
      "text/latex": [
       "2.1"
      ],
      "text/markdown": [
       "2.1"
      ],
      "text/plain": [
       "[1] 2.1"
      ]
     },
     "metadata": {},
     "output_type": "display_data"
    }
   ],
   "source": [
    "# theoretical variance if the binomial distribution \n",
    "n * p * (1-p)"
   ]
  },
  {
   "cell_type": "markdown",
   "metadata": {},
   "source": [
    "# Quiz computations you must be able to carry out"
   ]
  },
  {
   "cell_type": "code",
   "execution_count": 10,
   "metadata": {},
   "outputs": [
    {
     "data": {
      "text/html": [
       "0.315697760904105"
      ],
      "text/latex": [
       "0.315697760904105"
      ],
      "text/markdown": [
       "0.315697760904105"
      ],
      "text/plain": [
       "[1] 0.3156978"
      ]
     },
     "metadata": {},
     "output_type": "display_data"
    },
    {
     "data": {
      "text/html": [
       "0.181455727934175"
      ],
      "text/latex": [
       "0.181455727934175"
      ],
      "text/markdown": [
       "0.181455727934175"
      ],
      "text/plain": [
       "[1] 0.1814557"
      ]
     },
     "metadata": {},
     "output_type": "display_data"
    },
    {
     "data": {
      "text/html": [
       "0.13424203296993"
      ],
      "text/latex": [
       "0.13424203296993"
      ],
      "text/markdown": [
       "0.13424203296993"
      ],
      "text/plain": [
       "[1] 0.134242"
      ]
     },
     "metadata": {},
     "output_type": "display_data"
    },
    {
     "data": {
      "text/html": [
       "0.13424203296993"
      ],
      "text/latex": [
       "0.13424203296993"
      ],
      "text/markdown": [
       "0.13424203296993"
      ],
      "text/plain": [
       "[1] 0.134242"
      ]
     },
     "metadata": {},
     "output_type": "display_data"
    },
    {
     "data": {
      "text/html": [
       "0.86575796703007"
      ],
      "text/latex": [
       "0.86575796703007"
      ],
      "text/markdown": [
       "0.86575796703007"
      ],
      "text/plain": [
       "[1] 0.865758"
      ]
     },
     "metadata": {},
     "output_type": "display_data"
    },
    {
     "data": {
      "text/html": [
       "0.684302239095895"
      ],
      "text/latex": [
       "0.684302239095895"
      ],
      "text/markdown": [
       "0.684302239095895"
      ],
      "text/plain": [
       "[1] 0.6843022"
      ]
     },
     "metadata": {},
     "output_type": "display_data"
    },
    {
     "data": {
      "text/html": [
       "0.315697760904105"
      ],
      "text/latex": [
       "0.315697760904105"
      ],
      "text/markdown": [
       "0.315697760904105"
      ],
      "text/plain": [
       "[1] 0.3156978"
      ]
     },
     "metadata": {},
     "output_type": "display_data"
    },
    {
     "data": {
      "text/html": [
       "0.684302239095895"
      ],
      "text/latex": [
       "0.684302239095895"
      ],
      "text/markdown": [
       "0.684302239095895"
      ],
      "text/plain": [
       "[1] 0.6843022"
      ]
     },
     "metadata": {},
     "output_type": "display_data"
    },
    {
     "data": {
      "text/html": [
       "0.684302239095895"
      ],
      "text/latex": [
       "0.684302239095895"
      ],
      "text/markdown": [
       "0.684302239095895"
      ],
      "text/plain": [
       "[1] 0.6843022"
      ]
     },
     "metadata": {},
     "output_type": "display_data"
    },
    {
     "data": {
      "text/html": [
       "0.181455727934175"
      ],
      "text/latex": [
       "0.181455727934175"
      ],
      "text/markdown": [
       "0.181455727934175"
      ],
      "text/plain": [
       "[1] 0.1814557"
      ]
     },
     "metadata": {},
     "output_type": "display_data"
    },
    {
     "data": {
      "text/html": [
       "0.181455727934175"
      ],
      "text/latex": [
       "0.181455727934175"
      ],
      "text/markdown": [
       "0.181455727934175"
      ],
      "text/plain": [
       "[1] 0.1814557"
      ]
     },
     "metadata": {},
     "output_type": "display_data"
    },
    {
     "data": {
      "text/html": [
       "0.501235373111718"
      ],
      "text/latex": [
       "0.501235373111718"
      ],
      "text/markdown": [
       "0.501235373111718"
      ],
      "text/plain": [
       "[1] 0.5012354"
      ]
     },
     "metadata": {},
     "output_type": "display_data"
    },
    {
     "data": {
      "text/html": [
       "0.0571088138550445"
      ],
      "text/latex": [
       "0.0571088138550445"
      ],
      "text/markdown": [
       "0.0571088138550445"
      ],
      "text/plain": [
       "[1] 0.05710881"
      ]
     },
     "metadata": {},
     "output_type": "display_data"
    }
   ],
   "source": [
    "# Some examples of binominal probabilities\n",
    "#\n",
    "#  First, introduce pbinom().\n",
    "\n",
    "#  What is the probability of getting 8 or fewer \n",
    "#  successes in 23 trials, if the probability of success\n",
    "#  is 0.42?\n",
    "pbinom( 8, 23, 0.42 )\n",
    "#\n",
    "#  What is the probability of getting 7 or fewer \n",
    "#  successes in 23 trials, if the probability of success\n",
    "#  is 0.42?\n",
    "pbinom( 7, 23, 0.42 )\n",
    "#\n",
    "#  Then, let us take care of getting an exact \n",
    "#  probability.\n",
    "#\n",
    "#  What is the probability of getting exactly 8\n",
    "#  successes in 23 trials if the probability of\n",
    "#  success is 0.42?\n",
    "#\n",
    "pbinom( 8, 23, 0.42) - pbinom( 7, 23, 0.42)\n",
    "#\n",
    "#  Alternatively, we do have a special function, \n",
    "#  pbinomeq() that will find that same value\n",
    "#  but we need to load it into our environment.\n",
    "#\n",
    "\n",
    "pbinomeq( 8, 23, 0.42)\n",
    "\n",
    "#\n",
    "# Then we start to look at stranger questions.\n",
    "#\n",
    "#  what is the probability of getting anything\n",
    "#  other than 8 successes out of 23 trials when\n",
    "#  the probability of success is 0.42?\n",
    "#\n",
    "1 - pbinomeq( 8, 23, 0.42)\n",
    "#\n",
    "#  What is the probability of getting more than\n",
    "#  8 successes out of 23 trials witen the \n",
    "#  probability of success is 0.42?\n",
    "#\n",
    "1 - pbinom( 8, 23, 0.42 )\n",
    "#\n",
    "#  We should note that R has a special parameter\n",
    "#  that is often used to change the direction of\n",
    "#  our view of the probabilty distribution.  That\n",
    "#  parameter is lower.tail, and we can demonstrate\n",
    "#  it here.\n",
    "#\n",
    "#  The probability of getting 8 or fewer successes\n",
    "#  for our case was\n",
    "pbinom( 8, 23, 0.42 )\n",
    "#  The probability of getting more than 8 is\n",
    "1 - pbinom( 8, 23, 0.42 )\n",
    "#  but we could have done that by\n",
    "pbinom( 8, 23, 0.42, lower.tail=FALSE)\n",
    "# \n",
    "#   Note that pbinom( 8, 23, 0.42 ) gave us\n",
    "#      8 or less\n",
    "#  but that pbinom( 8, 23, 0.42, lower.tail=FALSE)\n",
    "#      gives us more than 8,\n",
    "#   specifically, not \"8 or more'!\n",
    "#\n",
    "#  What is the probability of getting fewer\n",
    "#  than 8 successes in 23 trials with the \n",
    "# probability of success = 0.42?\n",
    "#\n",
    "#  \"fewer than 8\" is the same as \n",
    "#  # 7 of less\" so\n",
    "pbinom( 7, 23, 0.42)\n",
    "#\n",
    "#  We could have done this same problem by saying \n",
    "#  \"fewer than 8\" is the same as the complement\n",
    "#  of \"more than 7\"\n",
    "1 - pbinom( 7, 23, 0.42, lower.tail=FALSE)\n",
    "#\n",
    "#  What is the probability of getting between\n",
    "#  10 and 14 successes out of 23 trials,\n",
    "#  including 10 and 14, with\n",
    "#  the probability of a success = 0.42?\n",
    "#\n",
    "# pbinom( 14, 23, 0.42) is the probabilty \n",
    "# of getting 14 or fewer. And, pbinom(9, 23, 0.42)\n",
    "# of getting 9 or fewer, so\n",
    "pbinom( 14, 23, 0.42) - pbinom( 9, 23, 0.42)\n",
    "# is our answer.\n",
    "#\n",
    "#  What is the probability of getting fewer than\n",
    "#  6 or more than 14 successes out of 23 trials \n",
    "#  when the probability of success is 0.42?\n",
    "pbinom( 5, 23, 0.42) + \n",
    "       pbinom( 14, 23, 0.42, lower.tail=FALSE)\n"
   ]
  },
  {
   "cell_type": "markdown",
   "metadata": {},
   "source": [
    "# The Poisson distribution\n",
    "\n",
    "\n",
    "**When the number of trials $n$ is very large, and the probability of success $p$ is very small, the binomial distribution can be approximated by the simpler Poisson distribution which only has a single parameter $\\lambda = np$.**\n",
    "\n",
    "The Poisson distribution with the single parameter $\\lambda$ can be derived as the limiting case of a binomial distribution with parameters $n$ and $p = \\lambda/n$ as $n$ goes to infinity. It is usually used to describe the distribution of the number of occurences of rare events  within a certain fixed period of time (e.g., number of photons emitted, rhodopsin photoisomerizations, or neural spikes dicharged within a small time window). **This distribution has the interesting property that its mean $\\lambda$ is equal to its variance.**\n",
    "\n",
    "$$P(x) = \\frac{\\lambda^x e^{-\\lambda}}{x!}$$\n",
    "\n"
   ]
  },
  {
   "cell_type": "code",
   "execution_count": 11,
   "metadata": {},
   "outputs": [
    {
     "data": {
      "text/html": [
       "<table>\n",
       "<caption>A data.frame: 9 × 3</caption>\n",
       "<thead>\n",
       "\t<tr><th scope=col>x</th><th scope=col>binomial</th><th scope=col>poisson</th></tr>\n",
       "\t<tr><th scope=col>&lt;dbl&gt;</th><th scope=col>&lt;dbl&gt;</th><th scope=col>&lt;dbl&gt;</th></tr>\n",
       "</thead>\n",
       "<tbody>\n",
       "\t<tr><td>0</td><td>0.3677</td><td>0.3679</td></tr>\n",
       "\t<tr><td>1</td><td>0.3681</td><td>0.3679</td></tr>\n",
       "\t<tr><td>2</td><td>0.1840</td><td>0.1839</td></tr>\n",
       "\t<tr><td>3</td><td>0.0613</td><td>0.0613</td></tr>\n",
       "\t<tr><td>4</td><td>0.0153</td><td>0.0153</td></tr>\n",
       "\t<tr><td>5</td><td>0.0030</td><td>0.0031</td></tr>\n",
       "\t<tr><td>6</td><td>0.0005</td><td>0.0005</td></tr>\n",
       "\t<tr><td>7</td><td>0.0001</td><td>0.0001</td></tr>\n",
       "\t<tr><td>8</td><td>0.0000</td><td>0.0000</td></tr>\n",
       "</tbody>\n",
       "</table>\n"
      ],
      "text/latex": [
       "A data.frame: 9 × 3\n",
       "\\begin{tabular}{r|lll}\n",
       " x & binomial & poisson\\\\\n",
       " <dbl> & <dbl> & <dbl>\\\\\n",
       "\\hline\n",
       "\t 0 & 0.3677 & 0.3679\\\\\n",
       "\t 1 & 0.3681 & 0.3679\\\\\n",
       "\t 2 & 0.1840 & 0.1839\\\\\n",
       "\t 3 & 0.0613 & 0.0613\\\\\n",
       "\t 4 & 0.0153 & 0.0153\\\\\n",
       "\t 5 & 0.0030 & 0.0031\\\\\n",
       "\t 6 & 0.0005 & 0.0005\\\\\n",
       "\t 7 & 0.0001 & 0.0001\\\\\n",
       "\t 8 & 0.0000 & 0.0000\\\\\n",
       "\\end{tabular}\n"
      ],
      "text/markdown": [
       "\n",
       "A data.frame: 9 × 3\n",
       "\n",
       "| x &lt;dbl&gt; | binomial &lt;dbl&gt; | poisson &lt;dbl&gt; |\n",
       "|---|---|---|\n",
       "| 0 | 0.3677 | 0.3679 |\n",
       "| 1 | 0.3681 | 0.3679 |\n",
       "| 2 | 0.1840 | 0.1839 |\n",
       "| 3 | 0.0613 | 0.0613 |\n",
       "| 4 | 0.0153 | 0.0153 |\n",
       "| 5 | 0.0030 | 0.0031 |\n",
       "| 6 | 0.0005 | 0.0005 |\n",
       "| 7 | 0.0001 | 0.0001 |\n",
       "| 8 | 0.0000 | 0.0000 |\n",
       "\n"
      ],
      "text/plain": [
       "  x binomial poisson\n",
       "1 0 0.3677   0.3679 \n",
       "2 1 0.3681   0.3679 \n",
       "3 2 0.1840   0.1839 \n",
       "4 3 0.0613   0.0613 \n",
       "5 4 0.0153   0.0153 \n",
       "6 5 0.0030   0.0031 \n",
       "7 6 0.0005   0.0005 \n",
       "8 7 0.0001   0.0001 \n",
       "9 8 0.0000   0.0000 "
      ]
     },
     "metadata": {},
     "output_type": "display_data"
    }
   ],
   "source": [
    "x <- 0:8\n",
    "n <- 1000\n",
    "p <- 0.001\n",
    "binomial <- dbinom(x, size=n, prob=p)\n",
    "poisson <-  dpois(x, lambda=n*p)\n",
    "round(data.frame(x=x, binomial=binomial, poisson=poisson), 4)"
   ]
  },
  {
   "cell_type": "markdown",
   "metadata": {},
   "source": [
    "**Question**: How can I generate events using the Poisson distribution in R? The events could be the occurrence of floods in the next 1000 years at a given rate of occurrence per year."
   ]
  },
  {
   "cell_type": "code",
   "execution_count": 30,
   "metadata": {},
   "outputs": [
    {
     "data": {
      "text/html": [
       "<ol class=list-inline>\n",
       "\t<li>1</li>\n",
       "\t<li>1</li>\n",
       "\t<li>1</li>\n",
       "\t<li>1</li>\n",
       "\t<li>1</li>\n",
       "\t<li>1</li>\n",
       "\t<li>1</li>\n",
       "\t<li>0.999999999999999</li>\n",
       "</ol>\n"
      ],
      "text/latex": [
       "\\begin{enumerate*}\n",
       "\\item 1\n",
       "\\item 1\n",
       "\\item 1\n",
       "\\item 1\n",
       "\\item 1\n",
       "\\item 1\n",
       "\\item 1\n",
       "\\item 0.999999999999999\n",
       "\\end{enumerate*}\n"
      ],
      "text/markdown": [
       "1. 1\n",
       "2. 1\n",
       "3. 1\n",
       "4. 1\n",
       "5. 1\n",
       "6. 1\n",
       "7. 1\n",
       "8. 0.999999999999999\n",
       "\n",
       "\n"
      ],
      "text/plain": [
       "[1] 1 1 1 1 1 1 1 1"
      ]
     },
     "metadata": {},
     "output_type": "display_data"
    },
    {
     "data": {
      "text/plain": [
       "\n",
       " 0  1  2  3  4  5  6  7  8  9 \n",
       " 2  3 12  6  7  8  7  4  0  1 "
      ]
     },
     "metadata": {},
     "output_type": "display_data"
    },
    {
     "data": {
      "text/html": [
       "<ol class=list-inline>\n",
       "\t<li>1.23309441912856e-06</li>\n",
       "\t<li>1.26166380676196e-08</li>\n",
       "\t<li>7.08579861452563e-11</li>\n",
       "\t<li>2.25264251696444e-13</li>\n",
       "\t<li>4.44089209850063e-16</li>\n",
       "\t<li>0</li>\n",
       "\t<li>0</li>\n",
       "\t<li>0</li>\n",
       "\t<li>0</li>\n",
       "\t<li>0</li>\n",
       "\t<li>0</li>\n",
       "</ol>\n"
      ],
      "text/latex": [
       "\\begin{enumerate*}\n",
       "\\item 1.23309441912856e-06\n",
       "\\item 1.26166380676196e-08\n",
       "\\item 7.08579861452563e-11\n",
       "\\item 2.25264251696444e-13\n",
       "\\item 4.44089209850063e-16\n",
       "\\item 0\n",
       "\\item 0\n",
       "\\item 0\n",
       "\\item 0\n",
       "\\item 0\n",
       "\\item 0\n",
       "\\end{enumerate*}\n"
      ],
      "text/markdown": [
       "1. 1.23309441912856e-06\n",
       "2. 1.26166380676196e-08\n",
       "3. 7.08579861452563e-11\n",
       "4. 2.25264251696444e-13\n",
       "5. 4.44089209850063e-16\n",
       "6. 0\n",
       "7. 0\n",
       "8. 0\n",
       "9. 0\n",
       "10. 0\n",
       "11. 0\n",
       "\n",
       "\n"
      ],
      "text/plain": [
       " [1] 1.233094e-06 1.261664e-08 7.085799e-11 2.252643e-13 4.440892e-16\n",
       " [6] 0.000000e+00 0.000000e+00 0.000000e+00 0.000000e+00 0.000000e+00\n",
       "[11] 0.000000e+00"
      ]
     },
     "metadata": {},
     "output_type": "display_data"
    },
    {
     "data": {
      "text/html": [
       "<ol class=list-inline>\n",
       "\t<li>1.23309441916004e-06</li>\n",
       "\t<li>1.26166381177638e-08</li>\n",
       "\t<li>7.08579952563146e-11</li>\n",
       "\t<li>2.25310997725103e-13</li>\n",
       "\t<li>4.17423901438677e-16</li>\n",
       "\t<li>4.62617947019577e-19</li>\n",
       "\t<li>3.14209688559682e-22</li>\n",
       "\t<li>1.33721907538907e-25</li>\n",
       "\t<li>3.63932834023767e-29</li>\n",
       "\t<li>6.45388259593527e-33</li>\n",
       "\t<li>7.58780669533798e-37</li>\n",
       "</ol>\n"
      ],
      "text/latex": [
       "\\begin{enumerate*}\n",
       "\\item 1.23309441916004e-06\n",
       "\\item 1.26166381177638e-08\n",
       "\\item 7.08579952563146e-11\n",
       "\\item 2.25310997725103e-13\n",
       "\\item 4.17423901438677e-16\n",
       "\\item 4.62617947019577e-19\n",
       "\\item 3.14209688559682e-22\n",
       "\\item 1.33721907538907e-25\n",
       "\\item 3.63932834023767e-29\n",
       "\\item 6.45388259593527e-33\n",
       "\\item 7.58780669533798e-37\n",
       "\\end{enumerate*}\n"
      ],
      "text/markdown": [
       "1. 1.23309441916004e-06\n",
       "2. 1.26166381177638e-08\n",
       "3. 7.08579952563146e-11\n",
       "4. 2.25310997725103e-13\n",
       "5. 4.17423901438677e-16\n",
       "6. 4.62617947019577e-19\n",
       "7. 3.14209688559682e-22\n",
       "8. 1.33721907538907e-25\n",
       "9. 3.63932834023767e-29\n",
       "10. 6.45388259593527e-33\n",
       "11. 7.58780669533798e-37\n",
       "\n",
       "\n"
      ],
      "text/plain": [
       " [1] 1.233094e-06 1.261664e-08 7.085800e-11 2.253110e-13 4.174239e-16\n",
       " [6] 4.626179e-19 3.142097e-22 1.337219e-25 3.639328e-29 6.453883e-33\n",
       "[11] 7.587807e-37"
      ]
     },
     "metadata": {},
     "output_type": "display_data"
    },
    {
     "data": {
      "image/png": "[encoded data removed]",
      "text/plain": [
       "Plot with title \"Binomial(100, 0.01) CDF\""
      ]
     },
     "metadata": {},
     "output_type": "display_data"
    }
   ],
   "source": [
    "require(graphics)\n",
    "\n",
    "-log(dpois(0:7, lambda = 1) * gamma(1+ 0:7)) # == 1\n",
    "Ni <- rpois(50, lambda = 4); table(factor(Ni, 0:max(Ni)))\n",
    "\n",
    "1 - ppois(10*(15:25), lambda = 100)  # becomes 0 (cancellation)\n",
    "    ppois(10*(15:25), lambda = 100, lower.tail = FALSE)  # no cancellation\n",
    "\n",
    "par(mfrow = c(2, 1))\n",
    "x <- seq(-0.01, 5, 0.01)\n",
    "plot(x, ppois(x, 1), type = \"s\", ylab = \"F(x)\", main = \"Poisson(1) CDF\")\n",
    "plot(x, pbinom(x, 100, 0.01), type = \"s\", ylab = \"F(x)\",\n",
    "     main = \"Binomial(100, 0.01) CDF\")\n",
    "\n",
    "## The (limit) case  lambda = 0 :\n",
    "stopifnot(identical(dpois(0,0), 1),\n",
    "\t  identical(ppois(0,0), 1),\n",
    "\t  identical(qpois(1,0), 0))\n"
   ]
  },
  {
   "cell_type": "markdown",
   "metadata": {},
   "source": [
    "\\begin{exercise}\n",
    "Suppose that RNA-seq results in calling errors (e.g. an A is read as a C) once every 1,000 base pairs, and generated single-end reads of exactly 200 base pairs. What fraction of reads would have more than 2 errors?\n",
    "\\end{exercise}"
   ]
  },
  {
   "cell_type": "markdown",
   "metadata": {},
   "source": [
    "# Mean and variance of the Poisson distribution\n",
    "\n",
    "The mean of the Poisson distribution is $\\lambda$, and its variance is also $\\lambda$. Hence, just as for the binomial distribution, it is common to find real-world data that resembles the Poisson distribution, except that the variance is larger than expected. This is another example of over-dispersion."
   ]
  },
  {
   "cell_type": "code",
   "execution_count": 12,
   "metadata": {},
   "outputs": [
    {
     "data": {
      "text/html": [
       "3.16"
      ],
      "text/latex": [
       "3.16"
      ],
      "text/markdown": [
       "3.16"
      ],
      "text/plain": [
       "[1] 3.16"
      ]
     },
     "metadata": {},
     "output_type": "display_data"
    },
    {
     "data": {
      "text/html": [
       "3.08"
      ],
      "text/latex": [
       "3.08"
      ],
      "text/markdown": [
       "3.08"
      ],
      "text/plain": [
       "[1] 3.08"
      ]
     },
     "metadata": {},
     "output_type": "display_data"
    }
   ],
   "source": [
    "x <- rpois(10000, 3.14)\n",
    "\n",
    "round(mean(x), 2)\n",
    "\n",
    "round(var(x), 2)"
   ]
  },
  {
   "cell_type": "markdown",
   "metadata": {},
   "source": [
    "# The negative binomial distribution\n",
    "**There are two ways $k$ successes from a series of $n$ Bernoulli trials can arise. In the first way, there were $n$ trials planned, and it just so happened that $k$ of these were successes. This is modeled by the binomial distribution. However, an alternative scenario is that trials are run until exactly $k$ successes are observed. This is modeled by the negative binomial distribution.**\n",
    "\n",
    "Note that the `nbinom` family of functions in R models the number of *failures* before a target number of successes is reached, and not the number of trials."
   ]
  },
  {
   "cell_type": "code",
   "execution_count": 14,
   "metadata": {},
   "outputs": [
    {
     "data": {
      "text/html": [
       "<ol class=list-inline>\n",
       "\t<li>4</li>\n",
       "\t<li>5</li>\n",
       "\t<li>6</li>\n",
       "\t<li>6</li>\n",
       "\t<li>4</li>\n",
       "\t<li>5</li>\n",
       "\t<li>5</li>\n",
       "\t<li>4</li>\n",
       "\t<li>4</li>\n",
       "\t<li>4</li>\n",
       "\t<li>7</li>\n",
       "\t<li>1</li>\n",
       "\t<li>2</li>\n",
       "\t<li>6</li>\n",
       "\t<li>8</li>\n",
       "\t<li>3</li>\n",
       "\t<li>7</li>\n",
       "\t<li>7</li>\n",
       "\t<li>5</li>\n",
       "\t<li>4</li>\n",
       "\t<li>4</li>\n",
       "\t<li>5</li>\n",
       "\t<li>3</li>\n",
       "\t<li>3</li>\n",
       "\t<li>5</li>\n",
       "\t<li>5</li>\n",
       "\t<li>1</li>\n",
       "\t<li>7</li>\n",
       "\t<li>6</li>\n",
       "\t<li>2</li>\n",
       "\t<li>4</li>\n",
       "\t<li>5</li>\n",
       "\t<li>4</li>\n",
       "\t<li>6</li>\n",
       "\t<li>6</li>\n",
       "\t<li>7</li>\n",
       "\t<li>8</li>\n",
       "\t<li>2</li>\n",
       "\t<li>3</li>\n",
       "\t<li>6</li>\n",
       "\t<li>8</li>\n",
       "\t<li>6</li>\n",
       "\t<li>3</li>\n",
       "\t<li>8</li>\n",
       "\t<li>6</li>\n",
       "\t<li>6</li>\n",
       "\t<li>4</li>\n",
       "\t<li>3</li>\n",
       "\t<li>6</li>\n",
       "\t<li>4</li>\n",
       "\t<li>5</li>\n",
       "\t<li>3</li>\n",
       "\t<li>3</li>\n",
       "\t<li>6</li>\n",
       "\t<li>5</li>\n",
       "\t<li>5</li>\n",
       "\t<li>1</li>\n",
       "\t<li>5</li>\n",
       "\t<li>8</li>\n",
       "\t<li>2</li>\n",
       "\t<li>2</li>\n",
       "\t<li>4</li>\n",
       "\t<li>5</li>\n",
       "\t<li>4</li>\n",
       "\t<li>4</li>\n",
       "\t<li>4</li>\n",
       "\t<li>6</li>\n",
       "\t<li>4</li>\n",
       "\t<li>6</li>\n",
       "\t<li>2</li>\n",
       "\t<li>4</li>\n",
       "\t<li>5</li>\n",
       "\t<li>5</li>\n",
       "\t<li>5</li>\n",
       "\t<li>6</li>\n",
       "\t<li>4</li>\n",
       "\t<li>6</li>\n",
       "\t<li>5</li>\n",
       "\t<li>5</li>\n",
       "\t<li>4</li>\n",
       "\t<li>4</li>\n",
       "\t<li>3</li>\n",
       "\t<li>4</li>\n",
       "\t<li>7</li>\n",
       "\t<li>3</li>\n",
       "\t<li>3</li>\n",
       "\t<li>7</li>\n",
       "\t<li>5</li>\n",
       "\t<li>4</li>\n",
       "\t<li>5</li>\n",
       "\t<li>5</li>\n",
       "\t<li>6</li>\n",
       "\t<li>5</li>\n",
       "\t<li>5</li>\n",
       "\t<li>4</li>\n",
       "\t<li>8</li>\n",
       "\t<li>6</li>\n",
       "\t<li>4</li>\n",
       "\t<li>5</li>\n",
       "\t<li>4</li>\n",
       "</ol>\n"
      ],
      "text/latex": [
       "\\begin{enumerate*}\n",
       "\\item 4\n",
       "\\item 5\n",
       "\\item 6\n",
       "\\item 6\n",
       "\\item 4\n",
       "\\item 5\n",
       "\\item 5\n",
       "\\item 4\n",
       "\\item 4\n",
       "\\item 4\n",
       "\\item 7\n",
       "\\item 1\n",
       "\\item 2\n",
       "\\item 6\n",
       "\\item 8\n",
       "\\item 3\n",
       "\\item 7\n",
       "\\item 7\n",
       "\\item 5\n",
       "\\item 4\n",
       "\\item 4\n",
       "\\item 5\n",
       "\\item 3\n",
       "\\item 3\n",
       "\\item 5\n",
       "\\item 5\n",
       "\\item 1\n",
       "\\item 7\n",
       "\\item 6\n",
       "\\item 2\n",
       "\\item 4\n",
       "\\item 5\n",
       "\\item 4\n",
       "\\item 6\n",
       "\\item 6\n",
       "\\item 7\n",
       "\\item 8\n",
       "\\item 2\n",
       "\\item 3\n",
       "\\item 6\n",
       "\\item 8\n",
       "\\item 6\n",
       "\\item 3\n",
       "\\item 8\n",
       "\\item 6\n",
       "\\item 6\n",
       "\\item 4\n",
       "\\item 3\n",
       "\\item 6\n",
       "\\item 4\n",
       "\\item 5\n",
       "\\item 3\n",
       "\\item 3\n",
       "\\item 6\n",
       "\\item 5\n",
       "\\item 5\n",
       "\\item 1\n",
       "\\item 5\n",
       "\\item 8\n",
       "\\item 2\n",
       "\\item 2\n",
       "\\item 4\n",
       "\\item 5\n",
       "\\item 4\n",
       "\\item 4\n",
       "\\item 4\n",
       "\\item 6\n",
       "\\item 4\n",
       "\\item 6\n",
       "\\item 2\n",
       "\\item 4\n",
       "\\item 5\n",
       "\\item 5\n",
       "\\item 5\n",
       "\\item 6\n",
       "\\item 4\n",
       "\\item 6\n",
       "\\item 5\n",
       "\\item 5\n",
       "\\item 4\n",
       "\\item 4\n",
       "\\item 3\n",
       "\\item 4\n",
       "\\item 7\n",
       "\\item 3\n",
       "\\item 3\n",
       "\\item 7\n",
       "\\item 5\n",
       "\\item 4\n",
       "\\item 5\n",
       "\\item 5\n",
       "\\item 6\n",
       "\\item 5\n",
       "\\item 5\n",
       "\\item 4\n",
       "\\item 8\n",
       "\\item 6\n",
       "\\item 4\n",
       "\\item 5\n",
       "\\item 4\n",
       "\\end{enumerate*}\n"
      ],
      "text/markdown": [
       "1. 4\n",
       "2. 5\n",
       "3. 6\n",
       "4. 6\n",
       "5. 4\n",
       "6. 5\n",
       "7. 5\n",
       "8. 4\n",
       "9. 4\n",
       "10. 4\n",
       "11. 7\n",
       "12. 1\n",
       "13. 2\n",
       "14. 6\n",
       "15. 8\n",
       "16. 3\n",
       "17. 7\n",
       "18. 7\n",
       "19. 5\n",
       "20. 4\n",
       "21. 4\n",
       "22. 5\n",
       "23. 3\n",
       "24. 3\n",
       "25. 5\n",
       "26. 5\n",
       "27. 1\n",
       "28. 7\n",
       "29. 6\n",
       "30. 2\n",
       "31. 4\n",
       "32. 5\n",
       "33. 4\n",
       "34. 6\n",
       "35. 6\n",
       "36. 7\n",
       "37. 8\n",
       "38. 2\n",
       "39. 3\n",
       "40. 6\n",
       "41. 8\n",
       "42. 6\n",
       "43. 3\n",
       "44. 8\n",
       "45. 6\n",
       "46. 6\n",
       "47. 4\n",
       "48. 3\n",
       "49. 6\n",
       "50. 4\n",
       "51. 5\n",
       "52. 3\n",
       "53. 3\n",
       "54. 6\n",
       "55. 5\n",
       "56. 5\n",
       "57. 1\n",
       "58. 5\n",
       "59. 8\n",
       "60. 2\n",
       "61. 2\n",
       "62. 4\n",
       "63. 5\n",
       "64. 4\n",
       "65. 4\n",
       "66. 4\n",
       "67. 6\n",
       "68. 4\n",
       "69. 6\n",
       "70. 2\n",
       "71. 4\n",
       "72. 5\n",
       "73. 5\n",
       "74. 5\n",
       "75. 6\n",
       "76. 4\n",
       "77. 6\n",
       "78. 5\n",
       "79. 5\n",
       "80. 4\n",
       "81. 4\n",
       "82. 3\n",
       "83. 4\n",
       "84. 7\n",
       "85. 3\n",
       "86. 3\n",
       "87. 7\n",
       "88. 5\n",
       "89. 4\n",
       "90. 5\n",
       "91. 5\n",
       "92. 6\n",
       "93. 5\n",
       "94. 5\n",
       "95. 4\n",
       "96. 8\n",
       "97. 6\n",
       "98. 4\n",
       "99. 5\n",
       "100. 4\n",
       "\n",
       "\n"
      ],
      "text/plain": [
       "  [1] 4 5 6 6 4 5 5 4 4 4 7 1 2 6 8 3 7 7 5 4 4 5 3 3 5 5 1 7 6 2 4 5 4 6 6 7 8\n",
       " [38] 2 3 6 8 6 3 8 6 6 4 3 6 4 5 3 3 6 5 5 1 5 8 2 2 4 5 4 4 4 6 4 6 2 4 5 5 5\n",
       " [75] 6 4 6 5 5 4 4 3 4 7 3 3 7 5 4 5 5 6 5 5 4 8 6 4 5 4"
      ]
     },
     "metadata": {},
     "output_type": "display_data"
    },
    {
     "data": {
      "text/html": [
       "<ol class=list-inline>\n",
       "\t<li>14</li>\n",
       "\t<li>20</li>\n",
       "\t<li>12</li>\n",
       "\t<li>9</li>\n",
       "\t<li>11</li>\n",
       "\t<li>17</li>\n",
       "\t<li>16</li>\n",
       "\t<li>10</li>\n",
       "\t<li>4</li>\n",
       "\t<li>6</li>\n",
       "\t<li>13</li>\n",
       "\t<li>9</li>\n",
       "\t<li>7</li>\n",
       "\t<li>4</li>\n",
       "\t<li>6</li>\n",
       "\t<li>10</li>\n",
       "\t<li>8</li>\n",
       "\t<li>17</li>\n",
       "\t<li>12</li>\n",
       "\t<li>14</li>\n",
       "\t<li>8</li>\n",
       "\t<li>14</li>\n",
       "\t<li>10</li>\n",
       "\t<li>7</li>\n",
       "\t<li>8</li>\n",
       "\t<li>7</li>\n",
       "\t<li>12</li>\n",
       "\t<li>7</li>\n",
       "\t<li>16</li>\n",
       "\t<li>5</li>\n",
       "\t<li>5</li>\n",
       "\t<li>24</li>\n",
       "\t<li>10</li>\n",
       "\t<li>12</li>\n",
       "\t<li>6</li>\n",
       "\t<li>9</li>\n",
       "\t<li>7</li>\n",
       "\t<li>19</li>\n",
       "\t<li>9</li>\n",
       "\t<li>10</li>\n",
       "\t<li>10</li>\n",
       "\t<li>8</li>\n",
       "\t<li>4</li>\n",
       "\t<li>10</li>\n",
       "\t<li>11</li>\n",
       "\t<li>5</li>\n",
       "\t<li>10</li>\n",
       "\t<li>8</li>\n",
       "\t<li>8</li>\n",
       "\t<li>7</li>\n",
       "\t<li>8</li>\n",
       "\t<li>8</li>\n",
       "\t<li>15</li>\n",
       "\t<li>16</li>\n",
       "\t<li>8</li>\n",
       "\t<li>15</li>\n",
       "\t<li>6</li>\n",
       "\t<li>9</li>\n",
       "\t<li>5</li>\n",
       "\t<li>25</li>\n",
       "\t<li>9</li>\n",
       "\t<li>4</li>\n",
       "\t<li>7</li>\n",
       "\t<li>6</li>\n",
       "\t<li>12</li>\n",
       "\t<li>11</li>\n",
       "\t<li>4</li>\n",
       "\t<li>14</li>\n",
       "\t<li>13</li>\n",
       "\t<li>4</li>\n",
       "\t<li>12</li>\n",
       "\t<li>17</li>\n",
       "\t<li>7</li>\n",
       "\t<li>16</li>\n",
       "\t<li>10</li>\n",
       "\t<li>7</li>\n",
       "\t<li>5</li>\n",
       "\t<li>12</li>\n",
       "\t<li>18</li>\n",
       "\t<li>10</li>\n",
       "\t<li>26</li>\n",
       "\t<li>16</li>\n",
       "\t<li>10</li>\n",
       "\t<li>10</li>\n",
       "\t<li>6</li>\n",
       "\t<li>12</li>\n",
       "\t<li>5</li>\n",
       "\t<li>11</li>\n",
       "\t<li>11</li>\n",
       "\t<li>8</li>\n",
       "\t<li>8</li>\n",
       "\t<li>5</li>\n",
       "\t<li>11</li>\n",
       "\t<li>6</li>\n",
       "\t<li>2</li>\n",
       "\t<li>10</li>\n",
       "\t<li>11</li>\n",
       "\t<li>11</li>\n",
       "\t<li>5</li>\n",
       "\t<li>9</li>\n",
       "</ol>\n"
      ],
      "text/latex": [
       "\\begin{enumerate*}\n",
       "\\item 14\n",
       "\\item 20\n",
       "\\item 12\n",
       "\\item 9\n",
       "\\item 11\n",
       "\\item 17\n",
       "\\item 16\n",
       "\\item 10\n",
       "\\item 4\n",
       "\\item 6\n",
       "\\item 13\n",
       "\\item 9\n",
       "\\item 7\n",
       "\\item 4\n",
       "\\item 6\n",
       "\\item 10\n",
       "\\item 8\n",
       "\\item 17\n",
       "\\item 12\n",
       "\\item 14\n",
       "\\item 8\n",
       "\\item 14\n",
       "\\item 10\n",
       "\\item 7\n",
       "\\item 8\n",
       "\\item 7\n",
       "\\item 12\n",
       "\\item 7\n",
       "\\item 16\n",
       "\\item 5\n",
       "\\item 5\n",
       "\\item 24\n",
       "\\item 10\n",
       "\\item 12\n",
       "\\item 6\n",
       "\\item 9\n",
       "\\item 7\n",
       "\\item 19\n",
       "\\item 9\n",
       "\\item 10\n",
       "\\item 10\n",
       "\\item 8\n",
       "\\item 4\n",
       "\\item 10\n",
       "\\item 11\n",
       "\\item 5\n",
       "\\item 10\n",
       "\\item 8\n",
       "\\item 8\n",
       "\\item 7\n",
       "\\item 8\n",
       "\\item 8\n",
       "\\item 15\n",
       "\\item 16\n",
       "\\item 8\n",
       "\\item 15\n",
       "\\item 6\n",
       "\\item 9\n",
       "\\item 5\n",
       "\\item 25\n",
       "\\item 9\n",
       "\\item 4\n",
       "\\item 7\n",
       "\\item 6\n",
       "\\item 12\n",
       "\\item 11\n",
       "\\item 4\n",
       "\\item 14\n",
       "\\item 13\n",
       "\\item 4\n",
       "\\item 12\n",
       "\\item 17\n",
       "\\item 7\n",
       "\\item 16\n",
       "\\item 10\n",
       "\\item 7\n",
       "\\item 5\n",
       "\\item 12\n",
       "\\item 18\n",
       "\\item 10\n",
       "\\item 26\n",
       "\\item 16\n",
       "\\item 10\n",
       "\\item 10\n",
       "\\item 6\n",
       "\\item 12\n",
       "\\item 5\n",
       "\\item 11\n",
       "\\item 11\n",
       "\\item 8\n",
       "\\item 8\n",
       "\\item 5\n",
       "\\item 11\n",
       "\\item 6\n",
       "\\item 2\n",
       "\\item 10\n",
       "\\item 11\n",
       "\\item 11\n",
       "\\item 5\n",
       "\\item 9\n",
       "\\end{enumerate*}\n"
      ],
      "text/markdown": [
       "1. 14\n",
       "2. 20\n",
       "3. 12\n",
       "4. 9\n",
       "5. 11\n",
       "6. 17\n",
       "7. 16\n",
       "8. 10\n",
       "9. 4\n",
       "10. 6\n",
       "11. 13\n",
       "12. 9\n",
       "13. 7\n",
       "14. 4\n",
       "15. 6\n",
       "16. 10\n",
       "17. 8\n",
       "18. 17\n",
       "19. 12\n",
       "20. 14\n",
       "21. 8\n",
       "22. 14\n",
       "23. 10\n",
       "24. 7\n",
       "25. 8\n",
       "26. 7\n",
       "27. 12\n",
       "28. 7\n",
       "29. 16\n",
       "30. 5\n",
       "31. 5\n",
       "32. 24\n",
       "33. 10\n",
       "34. 12\n",
       "35. 6\n",
       "36. 9\n",
       "37. 7\n",
       "38. 19\n",
       "39. 9\n",
       "40. 10\n",
       "41. 10\n",
       "42. 8\n",
       "43. 4\n",
       "44. 10\n",
       "45. 11\n",
       "46. 5\n",
       "47. 10\n",
       "48. 8\n",
       "49. 8\n",
       "50. 7\n",
       "51. 8\n",
       "52. 8\n",
       "53. 15\n",
       "54. 16\n",
       "55. 8\n",
       "56. 15\n",
       "57. 6\n",
       "58. 9\n",
       "59. 5\n",
       "60. 25\n",
       "61. 9\n",
       "62. 4\n",
       "63. 7\n",
       "64. 6\n",
       "65. 12\n",
       "66. 11\n",
       "67. 4\n",
       "68. 14\n",
       "69. 13\n",
       "70. 4\n",
       "71. 12\n",
       "72. 17\n",
       "73. 7\n",
       "74. 16\n",
       "75. 10\n",
       "76. 7\n",
       "77. 5\n",
       "78. 12\n",
       "79. 18\n",
       "80. 10\n",
       "81. 26\n",
       "82. 16\n",
       "83. 10\n",
       "84. 10\n",
       "85. 6\n",
       "86. 12\n",
       "87. 5\n",
       "88. 11\n",
       "89. 11\n",
       "90. 8\n",
       "91. 8\n",
       "92. 5\n",
       "93. 11\n",
       "94. 6\n",
       "95. 2\n",
       "96. 10\n",
       "97. 11\n",
       "98. 11\n",
       "99. 5\n",
       "100. 9\n",
       "\n",
       "\n"
      ],
      "text/plain": [
       "  [1] 14 20 12  9 11 17 16 10  4  6 13  9  7  4  6 10  8 17 12 14  8 14 10  7  8\n",
       " [26]  7 12  7 16  5  5 24 10 12  6  9  7 19  9 10 10  8  4 10 11  5 10  8  8  7\n",
       " [51]  8  8 15 16  8 15  6  9  5 25  9  4  7  6 12 11  4 14 13  4 12 17  7 16 10\n",
       " [76]  7  5 12 18 10 26 16 10 10  6 12  5 11 11  8  8  5 11  6  2 10 11 11  5  9"
      ]
     },
     "metadata": {},
     "output_type": "display_data"
    },
    {
     "data": {
      "image/png": "[encoded data removed]",
      "text/plain": [
       "plot without title"
      ]
     },
     "metadata": {},
     "output_type": "display_data"
    }
   ],
   "source": [
    "binom <- rbinom(n=100, size=10, prob=0.5)\n",
    "nbinom <- rnbinom(n=100, size=10, prob=0.5)\n",
    "df <- data.frame(binom=binom, nbinom=nbinom)\n",
    "df <- df %>% gather(dist, count)\n",
    "ggplot(df, aes(x=count, color=dist, fill=dist)) +\n",
    "facet_wrap(~ dist) +\n",
    "geom_bar(alpha=0.5) +\n",
    "guides(color=F, fill=F)\n",
    "binom\n",
    "nbinom"
   ]
  }
 ],
 "metadata": {
  "kernelspec": {
   "display_name": "R",
   "language": "R",
   "name": "ir"
  },
  "language_info": {
   "codemirror_mode": "r",
   "file_extension": ".r",
   "mimetype": "text/x-r-source",
   "name": "R",
   "pygments_lexer": "r",
   "version": "4.0.3"
  },
  "latex_envs": {
   "LaTeX_envs_menu_present": true,
   "autoclose": false,
   "autocomplete": true,
   "bibliofile": "biblio.bib",
   "cite_by": "apalike",
   "current_citInitial": 1,
   "eqLabelWithNumbers": true,
   "eqNumInitial": 1,
   "hotkeys": {
    "equation": "Ctrl-E",
    "itemize": "Ctrl-I"
   },
   "labels_anchors": false,
   "latex_user_defs": false,
   "report_style_numbering": false,
   "user_envs_cfg": false
  },
  "nbTranslate": {
   "displayLangs": [
    "*"
   ],
   "hotkey": "alt-t",
   "langInMainMenu": true,
   "sourceLang": "en",
   "targetLang": "fr",
   "useGoogleTranslate": true
  },
  "toc": {
   "base_numbering": 1,
   "nav_menu": {},
   "number_sections": true,
   "sideBar": true,
   "skip_h1_title": false,
   "title_cell": "Table of Contents",
   "title_sidebar": "Contents",
   "toc_cell": false,
   "toc_position": {
    "height": "calc(100% - 180px)",
    "left": "10px",
    "top": "150px",
    "width": "307.2px"
   },
   "toc_section_display": true,
   "toc_window_display": false
  },
  "varInspector": {
   "cols": {
    "lenName": 16,
    "lenType": 16,
    "lenVar": 40
   },
   "kernels_config": {
    "python": {
     "delete_cmd_postfix": "",
     "delete_cmd_prefix": "del ",
     "library": "var_list.py",
     "varRefreshCmd": "print(var_dic_list())"
    },
    "r": {
     "delete_cmd_postfix": ") ",
     "delete_cmd_prefix": "rm(",
     "library": "var_list.r",
     "varRefreshCmd": "cat(var_dic_list()) "
    }
   },
   "types_to_exclude": [
    "module",
    "function",
    "builtin_function_or_method",
    "instance",
    "_Feature"
   ],
   "window_display": false
  }
 },
 "nbformat": 4,
 "nbformat_minor": 2
}
