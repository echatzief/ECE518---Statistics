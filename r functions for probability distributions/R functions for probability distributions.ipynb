{
 "cells": [
  {
   "cell_type": "markdown",
   "metadata": {},
   "source": [
    "# R Functions for Probability Distributions"
   ]
  },
  {
   "cell_type": "markdown",
   "metadata": {},
   "source": [
    "# Review of Random Variables Concepts\n",
    "\n",
    "## Variables\n",
    "\n",
    "Before we tackle random variables, it is best to be sure we are clear about the notion of a mathematical variable. A variable is a symbol that stands for an unspecified mathematical object, like $x$ in the expression $x^{2}+2 x+1$.\n",
    "\n",
    "Often, it is clear from the context what kind of object the variable stands for. In this example, $x$ can be any real number. But not all variables are numerical. We will also use vector variables and variables taking values in arbitrary sets. Thus, when being fussy, we specify the kind of mathematical objects a variable can symbolize. We do this by specifying the set of objects which are possible values of the variable. For example, we write\n",
    "$$\n",
    "x^{2}+2 x+1=(x+1)^{2}, \\quad x \\in \\mathbb{R}\n",
    "$$\n",
    "to show that the equality holds for any real number $x,$ the symbol $\\mathbb{R}$ indicating the set of all real numbers.\n",
    "\n",
    "## Functions\n",
    "\n",
    "A function is a rule $f$ that assigns to each element $x$ of a set called the domain of the function an object $f(x)$ called the value of the function at $x$. Note the distinction between the function $f$ and the value $f(x) .$ There is also a distinction between a function and an expression defining the function. We say, let $f$ be the function defined by\n",
    "$$\n",
    "f(x)=x^{2}, \\quad x \\in \\mathbb{R}\n",
    "$$\n",
    "Strictly speaking, (2) isn't a function, it's an expression defining the function $f .$ Neither is $x^{2}$ the function, it's the value of the function at the point $x .$ The function $f$ is the rule that assigns to each $x$ in the domain, which from (2) is the set $\\mathbb{R}$ of all real numbers, the value $f(x)=x^{2}$.\n",
    "\n",
    "##  Random Variables: Informal Intuition \n",
    "\n",
    "Informally, a random variable is a variable that is random, meaning that its value is unknown, uncertain, not observed yet, or something of the sort. The probabilities with which a random variable takes its various possible values are described by a probability model.\n",
    "\n",
    "In order to distinguish random variables from ordinary, nonrandom variables, we adopt a widely used convention of denoting random variables by capital letters, usually letters near the end of the alphabet, like $X, Y,$ and $Z$.\n",
    "\n",
    "There is a close connection between random variables and certain ordinary variables. If $X$ is a random variable, we often use the corresponding small letter $x$ as the ordinary variable that takes the same values.\n",
    "\n",
    "Whether a variable corresponding to a real-world phenomenon is considered random may depend on context. In applications, we often say a variable is random before it is observed and nonrandom after it is observed and its actual value is known. Thus the same real-world phenomenon may be symbolized by $X$ before its value is observed and by $x$ after its value is observed.\n",
    "\n",
    "## Random Variables: Formal Definition \n",
    "\n",
    "\n",
    "The formal definition of a random variable is rather different from the informal intuition. Formally, a random variable isn't a variable, it's a function.\n",
    "\n",
    "\\begin{definition}\n",
    "(**Random Variable**). A random variable in a probability model is a function on the sample space of a probability model.\n",
    "\\end{definition}\n",
    "\n",
    "The capital letter convention for random variables is used here too. We usually denote random variables by capital letters like $X .$ When considered formally a random variable $X$ a function on the sample space $S,$ and we can write\n",
    "$$\n",
    "S \\stackrel{X}{\\longrightarrow} T\n",
    "$$\n",
    "if we like to show that $X$ is a map from its domain $S$ (always the sample space) to its codomain $T$. since $X$ is a function, its values are denoted using the usual notation for function values $X(s)$."
   ]
  },
  {
   "cell_type": "markdown",
   "metadata": {},
   "source": [
    "# Review of  Probability Distributions Concepts\n",
    "\n",
    "## Probability Mass Functions\n",
    "A probability mass function (PMF) is a function\n",
    "$$\n",
    "S \\stackrel{f}{\\longrightarrow} \\mathbb{R}\n",
    "$$\n",
    "whose domain $S$, which can be any nonempty set, is called the sample space, whose codomain is the real numbers, and which satisfies the following conditions: its values are nonnegative\n",
    "$$\n",
    "f(x) \\geq 0, \\quad x \\in S\n",
    "$$\n",
    "and sum to one\n",
    "$$\n",
    "\\sum_{x \\in S} f(x)=1\n",
    "$$\n",
    "\n",
    "\n",
    "## Probability Density Functions\n",
    "\n",
    "A real-valued function $f$ defined on an interval $(a, b)$ of the real numbers is called a probability density function (PDF) if\n",
    "$$\n",
    "f(x) \\geq 0, \\quad a<x<b\n",
    "$$\n",
    "and\n",
    "$$\n",
    "\\int_{a}^{b} f(x) d x=1\n",
    "$$\n",
    "The values $a=-\\infty$ or $b=+\\infty$ are allowed for endpoints of the interval.\n",
    "\n",
    "\\begin{remark}\n",
    "A PDF is just like a PMF except that we integrate rather than\n",
    "sum\n",
    "\\end{remark}\n",
    "\n",
    "A real-valued function $f$ defined on a region $S$ of $\\mathbb{R}^{2}$ is also called\n",
    "a PDF if\n",
    "$$\n",
    "f\\left(x_{1}, x_{2}\\right) \\geq 0, \\quad\\left(x_{1}, x_{2}\\right) \\in S\n",
    "$$\n",
    "and\n",
    "$$\n",
    "\\iint_{S} f\\left(x_{1}, x_{2}\\right) d x_{1} d x_{2}=1\n",
    "$$\n",
    "\n",
    "A real-valued function $f$ defined on a region $S$ of $\\mathbb{R}^{n}$ is also called a PDF if\n",
    "$$\n",
    "f(\\mathbf{x}) \\geq 0, \\quad \\mathbf{x} \\in S\n",
    "$$\n",
    "and\n",
    "$$\n",
    "\\int_{S} f(\\mathbf{x}) d \\mathbf{x} = 1\n",
    "$$\n",
    "Here only the boldface indicates that $\\mathbf{x}$ is a vector and hence we\n",
    "are dealing with a multiple integral ( $n$ -dimensional).\n",
    "\n",
    "## Discrete and Continuous\n",
    "If $X$ is a random variable or $\\mathrm{X}$ is a random vector whose dis-\n",
    "tribution is described by a PMF, we say the distribution or the random variable or vector is discrete.\n",
    "\n",
    "If $X$ is a random variable or $\\mathrm{X}$ is a random vector whose dis-\n",
    "tribution is described by a PDF, we say the distribution or the random variable or vector is continuous."
   ]
  },
  {
   "cell_type": "markdown",
   "metadata": {},
   "source": [
    "## Quantiles\n",
    "\n",
    "If $X$ is a random variable and $0<q<1,$ then a $q$ -th quantile of $X$ (or of the distribution of $X$ ) is any number $x$ such that\n",
    "\n",
    "$$\n",
    "\\operatorname{Pr}(X \\leq x) \\geq q \\quad \\text { and } \\quad \\operatorname{Pr}(X \\geq x) \\geq 1-q\n",
    "$$\n",
    "\n",
    "If $X$ is a continuous random variable having distribution function $F$, then this simplifies to\n",
    "\n",
    "$$\n",
    "F(x)=q\n",
    "$$\n",
    "\n",
    "If $X$ is a discrete random variable having distribution function $F$, then this simplifies to\n",
    "\n",
    "$$\n",
    "F(y) \\leq q \\leq F(x), \\quad y<x\n",
    "$$\n",
    "\n",
    "\\begin{example}\n",
    "The  distribution function of the binomial $\\operatorname{Bin}(3,1 / 2)$ distribution is\n",
    "\n",
    "$$\n",
    "F(x)=\\left\\{\\begin{array}{ll}\n",
    "0, & x<0 \\\\\n",
    "1 / 8, & 0 \\leq x<1 \\\\\n",
    "1 / 2, & 1 \\leq x<2 \\\\\n",
    "7 / 8, & 2 \\leq x<3 \\\\\n",
    "1, & 3 \\leq x\n",
    "\\end{array}\\right.\n",
    "$$\n",
    "\n",
    "and\n",
    "0 is the unique $q$ -th quantile for $0<q<1 / 8$ $x$ is a $1 / 8$ -th quantile for $0 \\leq x \\leq 1$ 1 is the unique $q$ -th quantile for $1 / 8<q<1 / 2$ $x$ is a $1 / 2$ -th quantile for $1 \\leq x \\leq 2$\n",
    "and so forth.\n",
    "\n",
    "\\end{example}\n",
    "\n",
    "\\begin{example}\n",
    "For a continuous random variable whose support is an interval, quantiles are uniquely defined.\n",
    "\n",
    "Suppose $X$ is an $\\operatorname{Exp}(\\lambda)$ random variable, \n",
    "then the $q$ -th quantile is the solution for $x$ of\n",
    "$$\n",
    "F(x)=1-e^{-\\lambda x}=q\n",
    "$$\n",
    "which has the solution\n",
    "$$\n",
    "x=-\\frac{1}{\\lambda} \\cdot \\log (1-q)\n",
    "$$\n",
    "\n",
    "\\end{example}\n",
    "\n",
    "\\begin{remark}\n",
    "Certain special quantiles have other names.\n",
    "\n",
    "The $1 / 2$ -th quantile is also called the median.\n",
    "\n",
    "The $1 / 4$ -th and $3 / 4$ -th quantile are also called the lower quartile and upper quartile, respectively.\n",
    "\n",
    "If $100 q$ is an integer, the $q$ -th quantile is also called the $100 q$ -th percentile. (This terminology is frowned upon in serious probability theory, just like all use of percentages.)\n",
    "\n",
    "\\end{remark}\n",
    "\n",
    "\\begin{remark}\n",
    "Although quantiles are not necessarily unique, it is mathematically convenient to define a function that gives for each $q$ a $q$ -th quantile.\n",
    "\n",
    "If $F$ is a distribution function, the corresponding quantile function $G$ is\n",
    "$$\n",
    "G(q)=\\inf \\{x \\in \\mathbb{R}: F(x) \\geq q\\}, \\quad 0<q<1\n",
    "$$\n",
    "If the $q$ -th quantile is unique, then it is $G(q)$.\n",
    "If the $q$ -th quantile in non-unique, then $G(q)$ is the smallest $q$ -th quantile.\n",
    "\n",
    "\\end{remark}\n",
    "\n"
   ]
  },
  {
   "cell_type": "markdown",
   "metadata": {},
   "source": [
    "### Summary of Quantiles Continuous Random Variables \n",
    "\n",
    "If $F$ is the DF of a continuous random variable, then the $p$ -th quantile of this random variable or this distribution is any\n",
    "$x$ satisfying\n",
    "\n",
    "$$\n",
    "F(x)=p\n",
    "$$\n",
    "and the solution is unique if $F$ is differentiable at $x$ with $F^{\\prime}(x)>0.\n",
    "\n",
    "The solution is non-unique only if $F$ has a flat section with value $p,$ that is if there exist points $a$ and $b$ with $a<b$ such that\n",
    "$$\n",
    "F(x)=p, \\quad a \\leq x \\leq b\n",
    "$$\n",
    "in which case every $x \\in[a, b]$ is a $p$ -th quantile.\n",
    "\n",
    "### Summary of Quantiles Discrete Random Variables \n",
    "\n",
    "\n",
    "If $F$ is the DF of a discrete random variable, then the $p$ -th quantile of this random variable or this distribution is any $x$ satisfying\n",
    "$$\n",
    "F(y) \\leq p \\leq F(x), \\quad \\text { for all } y<x\n",
    "$$\n",
    "There are two cases. The solution is unique if we do not have $F(x)=p$ for any $x$. In that case the $p$ -th quantile is the point $x$ where $F$ jumps past $p,$ that is\n",
    "$$\n",
    "F(y)<p<F(x), \\quad y<x\n",
    "$$\n",
    "The solution is non-unique if we do have $F(x)=p$ for some $x,$ in which case (because the DF of a discrete random variable is a step function) we must have $F(x)=p$ for all $x$ in an interval, and every such $x$ is a $p$ -th quantile.\n"
   ]
  },
  {
   "cell_type": "markdown",
   "metadata": {},
   "source": [
    "# R Functions for Probability Distributions\n",
    "\n",
    "Every distribution that R handles has four functions. There is a root name, for example, the root name for the normal distribution is norm. This root is prefixed by one of the letters\n",
    "\n",
    "•\tp for \"probability\", the cumulative distribution function (c. d. f.)\n",
    "\n",
    "•\tq for \"quantile\", the inverse c. d. f.\n",
    "\n",
    "•\td for \"density\", the density function (p. f. or p. d. f.)\n",
    "\n",
    "•\tr for \"random\", a random variable having the specified distribution\n",
    "\n",
    "For the normal distribution, these functions are `pnorm`, `qnorm`, `dnorm`, and `rnorm`. For the binomial distribution, these functions are pbinom, qbinom, dbinom, and rbinom. And so forth.\n",
    "\n",
    "For a continuous distribution (like the normal), the most useful functions for doing problems involving probability calculations are the \"p\" and \"q\" functions (c. d. f. and inverse c. d. f.), because the density (p. d. f.) calculated by the \"d\" function can only be used to calculate probabilities via integrals and R doesn't do integrals.\n",
    "\n",
    "For a discrete distribution (like the binomial), the \"d\" function calculates the density (p. f.), which in this case is a probability\n",
    "\n",
    "$$f(x) = P(X = x)$$\n",
    "\n",
    "and hence is useful in calculating probabilities.\n",
    "\n",
    "R has functions to handle many probability distributions. The table below gives the names of the functions for each distribution and a link to the on-line documentation that is the authoritative reference for how the functions are used. But don't read the on-line documentation yet. First, try the examples in the sections following the table."
   ]
  },
  {
   "cell_type": "markdown",
   "metadata": {},
   "source": [
    "\n",
    "| Distribution                   |  Functions |          |           |           |\n",
    "|--------------------------------|:------------|:-----------|:-----------|-----------|\n",
    "| Beta                           | pbeta      | qbeta     | dbeta     | rbeta     |\n",
    "| Binomial                       | pbinom     | qbinom    | dbinom    | rbinom    |\n",
    "| Cauchy                         | pcauchy    | qcauchy   | dcauchy   | rcauchy   |\n",
    "| Chi-Square                     | pchisq     | qchisq    | dchisq    | rchisq    |\n",
    "| Exponential                    | pexp       | qexp      | dexp      | rexp      |\n",
    "| F                              | pf         | qf        | df        | rf        |\n",
    "| Gamma                          | pgamma     | qgamma    | dgamma    | rgamma    |\n",
    "| Geometric                      | pgeom      | qgeom     | dgeom     | rgeom     |\n",
    "| Hypergeometric                 | phyper     | qhyper    | dhyper    | rhyper    |\n",
    "| Logistic                       | plogis     | qlogis    | dlogis    | rlogis    |\n",
    "| Log Normal                     | plnorm     | qlnorm    | dlnorm    | rlnorm    |\n",
    "| Negative Binomial              | pnbinom    | qnbinom   | dnbinom   | rnbinom   |\n",
    "| Normal                         | pnorm      | qnorm     | dnorm     | rnorm     |\n",
    "| Poisson                        | ppois      | qpois     | dpois     | rpois     |\n",
    "| Student t                      | pt         | qt        | dt        | rt        |\n",
    "| Studentized Range              | ptukey     | qtukey    | dtukey    | rtukey    |\n",
    "| Uniform                        | punif      | qunif     | dunif     | runif     |\n",
    "| Weibull                        | pweibull   | qweibull  | dweibull  | rweibull  |\n",
    "| Wilcoxon Rank Sum Statistic    | pwilcox    | qwilcox   | dwilcox   | rwilcox   |\n",
    "| Wilcoxon Signed Rank Statistic | psignrank  | qsignrank | dsignrank | rsignrank |"
   ]
  },
  {
   "cell_type": "markdown",
   "metadata": {},
   "source": [
    "## The Normal Distribtion\n",
    "\n",
    "`pnorm` is the R function that calculates the c. d. f.\n",
    "\n",
    "$$F(x) = P(X <= x)$$\n",
    "\n",
    "where X is normal. \n",
    "\n",
    "Both of the R commands in the below cell do exactly the same thing.\n"
   ]
  },
  {
   "cell_type": "markdown",
   "metadata": {},
   "source": [
    "\\begin{example}\n",
    "Compute $P(X<27.4)$ when X is normal with mean 50 and standard deviation 20.\n",
    "\\end{example}\n"
   ]
  },
  {
   "cell_type": "code",
   "execution_count": 1,
   "metadata": {},
   "outputs": [
    {
     "data": {
      "text/html": [
       "0.129238112240018"
      ],
      "text/latex": [
       "0.129238112240018"
      ],
      "text/markdown": [
       "0.129238112240018"
      ],
      "text/plain": [
       "[1] 0.1292381"
      ]
     },
     "metadata": {},
     "output_type": "display_data"
    },
    {
     "data": {
      "text/html": [
       "0.129238112240018"
      ],
      "text/latex": [
       "0.129238112240018"
      ],
      "text/markdown": [
       "0.129238112240018"
      ],
      "text/plain": [
       "[1] 0.1292381"
      ]
     },
     "metadata": {},
     "output_type": "display_data"
    }
   ],
   "source": [
    "pnorm(27.4, mean=50, sd=20)\n",
    "pnorm(27.4, 50, 20)\n"
   ]
  },
  {
   "cell_type": "markdown",
   "metadata": {},
   "source": [
    "\\begin{example}\n",
    "\n",
    "What is $P(X > 19)$ when X has the $N(17.46, 375.67)$ distribution?\n",
    "\\end{example}\n",
    "\n",
    "\\begin{remark}\n",
    " R wants the standard deviation (s. d.) as the parameter, not the variance. We'll need to take a square root!\n",
    "\\end{remark}\n",
    "\n"
   ]
  },
  {
   "cell_type": "code",
   "execution_count": 2,
   "metadata": {},
   "outputs": [
    {
     "data": {
      "text/html": [
       "0.468335635789911"
      ],
      "text/latex": [
       "0.468335635789911"
      ],
      "text/markdown": [
       "0.468335635789911"
      ],
      "text/plain": [
       "[1] 0.4683356"
      ]
     },
     "metadata": {},
     "output_type": "display_data"
    }
   ],
   "source": [
    "1 - pnorm(19, mean=17.46, sd=sqrt(375.67))"
   ]
  },
  {
   "cell_type": "markdown",
   "metadata": {},
   "source": [
    "## Inverse of cdf\n",
    "\n",
    "The inverse distribution function for continuous variables $F^{-1}(p)$ is the inverse of the cumulative distribution function $F(x)$ (CDF). In other words, it’s simply the distribution function $F(x)$ inverted. The CDF shows the probability a random variable X is found at a value equal to or less than a certain x. Intuitively, it’s how much area is under the curve at a certain point. The inversion of the CDF, the IDF, gives a value for x such that:\n",
    "\n",
    "$$F(x) = Pr(X ≤ x) = p$$, where p is a given value.\n",
    "\n",
    "`qnorm` is the R function that calculates the inverse c. d. f. $F^{-1}$ of a normal distribution. The c. d. f. and the inverse c. d. f. are related by\n",
    "\n",
    "$$p = F(x)= P(X\\le x)$$\n",
    "$$x = F^{-1}(p)$$\n",
    "\n",
    "So given a number p between zero and one, `qnorm` looks up the **p-th quantile** of the normal distribution. As with `pnorm`, optional arguments specify the mean and standard deviation of the distribution.\n",
    "\n",
    "\\begin{example}\n",
    "\n",
    "Suppose IQ scores are normally distributed with mean 100 and standard deviation 15. What is the 95th percentile of the distribution of IQ scores?\n",
    "\n",
    "or \n",
    "\n",
    "What is $F^{-1}(0.95)$ when X has the $N(100, 15^2)$ distribution?\n",
    "\\end{example}\n",
    "\n",
    "\\begin{remark}\n",
    "A percentile (or a centile) is a measure used in statistics indicating the value below which a given percentage of observations in a group of observations falls. For example, the 20th percentile is the value (or score) below which 20% of the observations may be found. Equivalently, 80% of the observations are found above the 20th percentile.\n",
    "\\end{remark}\n",
    "\n",
    "\\begin{remark}\n",
    "In statistics and probability, quantiles are cut points dividing the range of a probability distribution into continuous intervals with equal probabilities, or dividing the observations in a sample in the same way. There is one fewer quantile than the number of groups created. Thus quartiles are the three cut points that will divide a dataset into four equal-sized groups. Common quantiles have special names: for instance quartile, decile (creating 10 groups: see below for more). The groups created are termed halves, thirds, quarters, etc., though sometimes the terms for the quantile are used for the groups created, rather than for the cut points.\n",
    "\n",
    "![quantile](Iqr_with_quantile.png)\n",
    "\n",
    "Probability density of a normal distribution, with quantiles shown. The area below the red curve is the same in the intervals $(−\\infty,Q_1)$, $(Q_1,Q_2)$, $(Q_2,Q_3)$, and $(Q_3,+\\infty)$.\n",
    "\n",
    "\\end{remark}\n"
   ]
  },
  {
   "cell_type": "code",
   "execution_count": 4,
   "metadata": {},
   "outputs": [
    {
     "data": {
      "text/html": [
       "124.672804404272"
      ],
      "text/latex": [
       "124.672804404272"
      ],
      "text/markdown": [
       "124.672804404272"
      ],
      "text/plain": [
       "[1] 124.6728"
      ]
     },
     "metadata": {},
     "output_type": "display_data"
    }
   ],
   "source": [
    "qnorm(0.95, mean=100, sd=15)"
   ]
  },
  {
   "cell_type": "markdown",
   "metadata": {},
   "source": [
    "## Density\n",
    "\n",
    "`dnorm` is the R function that calculates the p.d.f. $f$ of the normal distribution. As with `pnorm` and `qnorm`, optional arguments specify the mean and standard deviation of the distribution.\n",
    "\n",
    "There's not much need for this function in doing calculations, because you need to do integrals to use any p.d.f., and R doesn't do integrals.\n",
    "\n",
    "In fact, there's not much use for the \"d\" function for any continuous distribution (discrete distributions are entirely another matter, for them the \"d\" functions are very useful, see the section about `dbinom`).\n",
    "\n"
   ]
  },
  {
   "cell_type": "markdown",
   "metadata": {},
   "source": [
    "## Random Variates\n",
    "\n",
    "`rnorm` is the R function that simulates random variates having a specified normal distribution. As with `pnorm`, `qnorm`, and `dnorm`, optional arguments specify the mean and standard deviation of the distribution.\n",
    "\n",
    "We will be using the \"r\" functions (such as rnorm) to generate random numbers with known distribution.\n"
   ]
  },
  {
   "cell_type": "markdown",
   "metadata": {},
   "source": [
    "\\begin{example}\n",
    "Generate 1000 numbers from normal distribution with mean 100 and standard deviation 15\n",
    "\n",
    "\\end{example}\n"
   ]
  },
  {
   "cell_type": "code",
   "execution_count": 5,
   "metadata": {},
   "outputs": [
    {
     "data": {
      "image/png": "[encoded data removed]",
      "text/plain": [
       "Plot with title \"Histogram of x\""
      ]
     },
     "metadata": {
      "image/png": {
       "height": 420,
       "width": 420
      }
     },
     "output_type": "display_data"
    }
   ],
   "source": [
    "x <- rnorm(1000, mean=100, sd=15)\n",
    "hist(x, probability=TRUE)\n",
    "xx <- seq(min(x), max(x), length=100)\n",
    "lines(xx, dnorm(xx, mean=100, sd=15))\n"
   ]
  },
  {
   "cell_type": "markdown",
   "metadata": {},
   "source": [
    "This generates 1000 Independent and Identically Distributed (i.i.d). normal random numbers (first line), plots their histogram (second line), and graphs the p. d. f. of the same normal distribution (third and forth lines).\n",
    "\n"
   ]
  },
  {
   "cell_type": "markdown",
   "metadata": {},
   "source": [
    "## The Binomial Distribtion\n",
    "\n",
    "`dbinom` is the R function that calculates the p.f. of the binomial distribution. Optional arguments d specify the parameters of the particular binomial distribution.\n",
    "\n",
    "Both of the R commands in the box below do exactly the same thing."
   ]
  },
  {
   "cell_type": "code",
   "execution_count": 11,
   "metadata": {},
   "outputs": [
    {
     "data": {
      "text/html": [
       "0.0806407548759012"
      ],
      "text/latex": [
       "0.0806407548759012"
      ],
      "text/markdown": [
       "0.0806407548759012"
      ],
      "text/plain": [
       "[1] 0.08064075"
      ]
     },
     "metadata": {},
     "output_type": "display_data"
    },
    {
     "data": {
      "text/html": [
       "0.0806407548759012"
      ],
      "text/latex": [
       "0.0806407548759012"
      ],
      "text/markdown": [
       "0.0806407548759012"
      ],
      "text/plain": [
       "[1] 0.08064075"
      ]
     },
     "metadata": {},
     "output_type": "display_data"
    }
   ],
   "source": [
    "dbinom(27, size=100, prob=0.25)\n",
    "dbinom(27, 100, 0.25)"
   ]
  },
  {
   "cell_type": "markdown",
   "metadata": {},
   "source": [
    "They look up $P(X = 27)$ when X is has the Bin(100, 0.25) distribution.\n",
    "\n",
    "\\begin{example}\n",
    "What is $P(X = 1)$ when X has the $Bin(25, 0.005)$ distribution?\n",
    "\\end{example}\n"
   ]
  },
  {
   "cell_type": "code",
   "execution_count": 12,
   "metadata": {},
   "outputs": [
    {
     "data": {
      "text/html": [
       "0.110831688812663"
      ],
      "text/latex": [
       "0.110831688812663"
      ],
      "text/markdown": [
       "0.110831688812663"
      ],
      "text/plain": [
       "[1] 0.1108317"
      ]
     },
     "metadata": {},
     "output_type": "display_data"
    }
   ],
   "source": [
    "dbinom(1, 25, 0.005)"
   ]
  },
  {
   "cell_type": "markdown",
   "metadata": {},
   "source": [
    "## Direct Look-Up, Intervals\n",
    "\n",
    "`pbinom` is the R function that calculates the c. d. f. of the binomial distribution. Optional arguments described on  documentation (help(pdinom) specify the parameters of the particular binomial distribution.\n",
    "\n",
    "Both of the R commands in the cell below do exactly the same thing.\n",
    "\n",
    "\\begin{example}\n",
    "Look up $P(X <= 27)$ when X is has the $Bin(100, 0.25)$ distribution. (Note the less than or equal to sign. It's important when working with a discrete distribution!)\n",
    "\\end{example}\n"
   ]
  },
  {
   "cell_type": "code",
   "execution_count": 9,
   "metadata": {},
   "outputs": [
    {
     "data": {
      "text/html": [
       "0.722380513115339"
      ],
      "text/latex": [
       "0.722380513115339"
      ],
      "text/markdown": [
       "0.722380513115339"
      ],
      "text/plain": [
       "[1] 0.7223805"
      ]
     },
     "metadata": {},
     "output_type": "display_data"
    },
    {
     "data": {
      "text/html": [
       "0.722380513115339"
      ],
      "text/latex": [
       "0.722380513115339"
      ],
      "text/markdown": [
       "0.722380513115339"
      ],
      "text/plain": [
       "[1] 0.7223805"
      ]
     },
     "metadata": {},
     "output_type": "display_data"
    }
   ],
   "source": [
    "pbinom(27, size=100, prob=0.25)\n",
    "pbinom(27, 100, 0.25)\n"
   ]
  },
  {
   "cell_type": "markdown",
   "metadata": {},
   "source": [
    "\\begin{exercise}\n",
    "What is P(X <= 1) when X has the Bin(25, 0.005) distribution?\n",
    "\n",
    "\\end{exercise}\n"
   ]
  },
  {
   "cell_type": "code",
   "execution_count": 14,
   "metadata": {},
   "outputs": [
    {
     "data": {
      "text/html": [
       "0.999925572634752"
      ],
      "text/latex": [
       "0.999925572634752"
      ],
      "text/markdown": [
       "0.999925572634752"
      ],
      "text/plain": [
       "[1] 0.9999256"
      ]
     },
     "metadata": {},
     "output_type": "display_data"
    }
   ],
   "source": [
    "pbinom(1,25,0.0005)"
   ]
  },
  {
   "cell_type": "markdown",
   "metadata": {},
   "source": [
    "## Inverse Look-Up\n",
    "\n",
    "`qbinom` is the R function that calculates the \"inverse c. d. f.\" of the binomial distribution. How does it do that when the c. d. f. is a step function and hence not invertible? The on-line documentation for the binomial probability functions explains."
   ]
  },
  {
   "cell_type": "code",
   "execution_count": 15,
   "metadata": {},
   "outputs": [],
   "source": [
    "help(qbinom)"
   ]
  },
  {
   "cell_type": "markdown",
   "metadata": {},
   "source": [
    "> The quantile is defined as the smallest value x such that $F(x) >= p$, where F is the distribution function.\n",
    "\n",
    "\n",
    "When the p-th quantile is nonunique, there is a whole interval of values each of which is a p-th quantile. The documentation says that qbinom (and other \"q\" functions, for that matter) returns the smallest of these values. That is one sensible definition of an \"inverse c. d. f.\" In the terminology of Section  of the course notes, the function defined by qbinom is a right inverse of the function defined by pbinom, that is,\n",
    "\n",
    "$q == pbinom(qbinom(q, n, p))$,       $0 < q < 1$,  $0 < p < 1$,  $n$ a positive integer \n",
    "\n",
    "is always true, but the analogous formula with `pnorm` and `qnorm` reversed does not necessarily hold.\n",
    "\n",
    "\\begin{example}\n",
    "Question: What are the 10th, 20th, and so forth quantiles of the Bin(10, 1/3) distribution?\n",
    "\\end{example}\n",
    "\n"
   ]
  },
  {
   "cell_type": "code",
   "execution_count": 17,
   "metadata": {},
   "outputs": [
    {
     "data": {
      "text/html": [
       "1"
      ],
      "text/latex": [
       "1"
      ],
      "text/markdown": [
       "1"
      ],
      "text/plain": [
       "[1] 1"
      ]
     },
     "metadata": {},
     "output_type": "display_data"
    },
    {
     "data": {
      "text/html": [
       "2"
      ],
      "text/latex": [
       "2"
      ],
      "text/markdown": [
       "2"
      ],
      "text/plain": [
       "[1] 2"
      ]
     },
     "metadata": {},
     "output_type": "display_data"
    },
    {
     "data": {
      "text/html": [
       "<style>\n",
       ".list-inline {list-style: none; margin:0; padding: 0}\n",
       ".list-inline>li {display: inline-block}\n",
       ".list-inline>li:not(:last-child)::after {content: \"\\00b7\"; padding: 0 .5ex}\n",
       "</style>\n",
       "<ol class=list-inline><li>1</li><li>2</li><li>3</li><li>3</li><li>3</li><li>4</li><li>4</li><li>5</li><li>5</li></ol>\n"
      ],
      "text/latex": [
       "\\begin{enumerate*}\n",
       "\\item 1\n",
       "\\item 2\n",
       "\\item 3\n",
       "\\item 3\n",
       "\\item 3\n",
       "\\item 4\n",
       "\\item 4\n",
       "\\item 5\n",
       "\\item 5\n",
       "\\end{enumerate*}\n"
      ],
      "text/markdown": [
       "1. 1\n",
       "2. 2\n",
       "3. 3\n",
       "4. 3\n",
       "5. 3\n",
       "6. 4\n",
       "7. 4\n",
       "8. 5\n",
       "9. 5\n",
       "\n",
       "\n"
      ],
      "text/plain": [
       "[1] 1 2 3 3 3 4 4 5 5"
      ]
     },
     "metadata": {},
     "output_type": "display_data"
    }
   ],
   "source": [
    "qbinom(0.1, 10, 1/3)\n",
    "qbinom(0.2, 10, 1/3)\n",
    "# and so forth, or all at once with\n",
    "qbinom(seq(0.1, 0.9, 0.1), 10, 1/3)\n",
    "#Note the nonuniqueness."
   ]
  },
  {
   "cell_type": "markdown",
   "metadata": {},
   "source": [
    "# Learning R (online book)\n",
    "\n",
    "http://lib.stat.cmu.edu/R/CRAN/doc/manuals/r-release/R-intro.html"
   ]
  },
  {
   "cell_type": "markdown",
   "metadata": {},
   "source": [
    "# Statistical Analysis on the Web with R\n",
    "\n",
    "## Rweb\n",
    "\n",
    "https://rweb.webapps.cla.umn.edu/Rweb/\n",
    "\n",
    "## rdrr.io\n",
    "\n",
    "https://rdrr.io/snippets/"
   ]
  }
 ],
 "metadata": {
  "@webio": {
   "lastCommId": null,
   "lastKernelId": null
  },
  "kernelspec": {
   "display_name": "Python 3",
   "language": "python",
   "name": "python3"
  },
  "language_info": {
   "codemirror_mode": {
    "name": "ipython",
    "version": 3
   },
   "file_extension": ".py",
   "mimetype": "text/x-python",
   "name": "python",
   "nbconvert_exporter": "python",
   "pygments_lexer": "ipython3",
   "version": "3.6.10"
  },
  "latex_envs": {
   "LaTeX_envs_menu_present": true,
   "autoclose": false,
   "autocomplete": true,
   "bibliofile": "biblio.bib",
   "cite_by": "apalike",
   "current_citInitial": 1,
   "eqLabelWithNumbers": true,
   "eqNumInitial": 1,
   "hotkeys": {
    "equation": "Ctrl-E",
    "itemize": "Ctrl-I"
   },
   "labels_anchors": false,
   "latex_user_defs": false,
   "report_style_numbering": false,
   "user_envs_cfg": false
  },
  "nbTranslate": {
   "displayLangs": [
    "*"
   ],
   "hotkey": "alt-t",
   "langInMainMenu": true,
   "sourceLang": "en",
   "targetLang": "fr",
   "useGoogleTranslate": true
  },
  "toc": {
   "base_numbering": 1,
   "nav_menu": {},
   "number_sections": true,
   "sideBar": true,
   "skip_h1_title": false,
   "title_cell": "Table of Contents",
   "title_sidebar": "Contents",
   "toc_cell": false,
   "toc_position": {},
   "toc_section_display": true,
   "toc_window_display": false
  },
  "varInspector": {
   "cols": {
    "lenName": 16,
    "lenType": 16,
    "lenVar": 40
   },
   "kernels_config": {
    "python": {
     "delete_cmd_postfix": "",
     "delete_cmd_prefix": "del ",
     "library": "var_list.py",
     "varRefreshCmd": "print(var_dic_list())"
    },
    "r": {
     "delete_cmd_postfix": ") ",
     "delete_cmd_prefix": "rm(",
     "library": "var_list.r",
     "varRefreshCmd": "cat(var_dic_list()) "
    }
   },
   "types_to_exclude": [
    "module",
    "function",
    "builtin_function_or_method",
    "instance",
    "_Feature"
   ],
   "window_display": false
  }
 },
 "nbformat": 4,
 "nbformat_minor": 4
}
