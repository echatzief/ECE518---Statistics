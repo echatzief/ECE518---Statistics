{
 "cells": [
  {
   "cell_type": "markdown",
   "metadata": {},
   "source": [
    "# Review questions about Probability\n",
    "\n",
    "Open new cells and give your answers\n"
   ]
  },
  {
   "cell_type": "markdown",
   "metadata": {},
   "source": [
    "# Counting and Probability\n",
    "\n",
    "\n",
    "\\begin{exercise}\n",
    "(a) How many  ways  can  you  arrange  the  letters  in  the  word  STATISTICS?  (e.g. SSSTTTIIAC counts  as one arrangement.)\n",
    "\n",
    "(b) If all arrangements are equally likely, what  is the  probability the  two 'is are next  to each other.\n",
    "\\end{exercise}\n",
    "\n"
   ]
  },
  {
   "cell_type": "markdown",
   "metadata": {},
   "source": [
    "# Conditional Probability and Bayes’ Theorem\n",
    "\n",
    "\\begin{exercise}\n",
    "\n",
    "Covid-19 tests are common nowadays, but some results of tests are not true. Let's assume; a diagnostic test has 95% accuracy and 50% of all people have Covid-19. If a patient tests positive, what is the probability that they actually have the disease?\n",
    "\\end{exercise}\n"
   ]
  },
  {
   "cell_type": "markdown",
   "metadata": {},
   "source": [
    "# Independence\n",
    "\n",
    "\\begin{exercise}\n",
    "\n",
    "Roll  a  twenty-sided  die.   Determine  whether  the  following pairs  of events  are independent.\n",
    "\n",
    "(a) 'You roll an even number'  and 'You roll a number  less than  or equal to 10'.\n",
    "\n",
    "(b) 'You roll an even number'  and 'You roll a prime number'.\n",
    "\\end{exercise}\n",
    "\n",
    "\n"
   ]
  },
  {
   "cell_type": "markdown",
   "metadata": {},
   "source": [
    "# Expectation and Variance\n",
    "\n",
    "\\begin{exercise}\n",
    "The random variable $X$ takes values -1, 0, 1 with probabilities 1/8, 2/8, 5/8 respectively.\n",
    "\n",
    "(a) Compute  $E(X)$.\n",
    "\n",
    "(b) Give the pmf of $Y  = X^2$  and use it to compute  $E(Y)$.\n",
    "\n",
    "(c) Instead,  compute  $E(X^2)$ directly  from an R function.\n",
    "\n",
    "(d) Compute  Var(X).\n",
    "\\end{exercise}\n",
    "\n",
    "\\begin{exercise}\n",
    "Compute  the expectation and variance  of a Bernoulli(p)  random  variable.\n",
    "\\end{exercise}\n",
    "\n",
    "\\begin{exercise}\n",
    "Suppose 100 people all toss a hat  into a box and then  proceed to randomly  pick out a hat.  What  is the expected  number  of people to get their  own hat  back.\n",
    "_Hint_:  express  the  number  of people who get their  own hat  as a sum of random  variables whose expected  value is easy to compute.\n",
    "\\end{exercise}\n",
    "\n",
    "\n"
   ]
  },
  {
   "cell_type": "markdown",
   "metadata": {},
   "source": [
    "# Probability Mass Functions, Probability Density Functions and Cumulative Distribution Functions\n",
    "\n",
    "\\begin{exercise}\n",
    "Suppose that X has probability density function $f_{X}(x)=\\lambda \\mathrm{e}^{-\\lambda x}$ for $x \\geq 0$. \n",
    "\n",
    "(a) Compute the cdf, $F_X(x)$.\n",
    "\n",
    "(b) If $Y  = X^2$, compute  the pdf and cdf of Y.\n",
    "\n",
    "\\end{exercise}\n",
    "\n",
    "\n",
    "\\begin{exercise}\n",
    "Suppose  you roll a fair 6-sided die 100 times  (independently), and  you get 3 euros every time you roll a 6.      Let $X_1$  be the number  of euros you win on rolls 1 through  25.\n",
    "\n",
    "-Let $X_2$  be the number  of euros you win on rolls 26 through  50. \n",
    "\n",
    "-Let $X_3$  be the number  of euros you win on rolls 51 through  75. \n",
    "\n",
    "-Let $X_4$  be the number  of euros you win on rolls 76 through 100.\n",
    "\n",
    "-Let $X = X_1  + X_2  + X_3  + X_4$  be the total  number  of euros you win over all 100 rolls.\n",
    "\n",
    "(a) What  is the probability mass function  of $X$?\n",
    "\n",
    "(b) What  is the expectation and variance  of $X$?\n",
    "\n",
    "(c)  Let $Y  = 4X_1$.  (So instead  of rolling 100 times, you just roll 25 times and multiply  your winnings by 4.)  \n",
    "\n",
    "- (i) What  are the expectation and variance  of Y ?\n",
    "    \n",
    "- (ii) How do the expectation and variance of $Y$  compare to those of $X$?  (i.e., are they bigger, smaller, or equal?)  Explain  (briefly)  why this makes sense.\n",
    "\\end{exercise}\n",
    "\n",
    "\n"
   ]
  },
  {
   "cell_type": "markdown",
   "metadata": {},
   "source": [
    "# Important Distributions\n",
    "## Exponential Distribution\n",
    "\\begin{exercise}\n",
    "Suppose that buses arrive are scheduled to arrive at a bus stop at noon but are always $X$ minutes late, where $X$ is an exponential random variable with probability density function $f_{X}(x)=\\lambda \\mathrm{e}^{-\\lambda x} .$ Suppose that you arrive at the bus stop precisely at noon.\n",
    "\n",
    "(a) Compute the probability that you have to wait for more than five minutes for the bus to arrive.\n",
    "\n",
    "(b) Suppose that you have already waiting for 10 minutes. Compute the probability that you have to wait an additional five minutes or more.\n",
    "\n",
    "\\end{exercise}\n"
   ]
  },
  {
   "cell_type": "markdown",
   "metadata": {},
   "source": [
    "## Normal Distributions\n",
    "\n",
    "Throughout these problems, let $\\phi$ and $\\Phi$ be the pdf and cdf, respectively, of the standard normal distribution Suppose $Z$ is a standard normal random variable and let $X=3Z+1$. \n",
    "\n",
    "\\begin{exercise}\n",
    "(a) Express $P(X \\leq x)$ in terms of $\\Phi$\n",
    "\n",
    "(b) Differentiate the expression from $(a)$ with respect to $x$ to get the pdf of $X, f(x)$. Remember that $\\Phi^{\\prime}(z)=\\phi(z)$ and don't forget the chain rule where  $\\phi(x)=(2 \\pi)^{-\\frac{1}{2}} \\mathrm{e}^{-\\frac{x^{2}}{2}}$\n",
    "\n",
    "(c) Find $P(-1 \\leq X \\leq 1)$\n",
    "\n",
    "(d) Recall that the probability that $Z$ is within one standard deviation of its mean is approximately $68 \\%$. What is the probability that $X$ is within one standard deviation of its mean?\n",
    "\\end{exercise}\n",
    "\n",
    "\n"
   ]
  },
  {
   "cell_type": "markdown",
   "metadata": {},
   "source": [
    "# Transforming Normal Distributions \n",
    "\n",
    "\n",
    "\\begin{exercise}\n",
    "\n",
    "(a) Suppose $Z$ is a standard normal random variable and let $Y=aZ+b,$ where $a>0$ and $b$ are constants.\n",
    "Show $Y \\sim \\mathrm{N}(b, a)$\n",
    "\n",
    "(b) Suppose $Y \\sim \\mathrm{N}(\\mu, \\sigma) .$ Show $\\frac{Y-\\mu}{\\sigma}$ follows a standard normal distribution.\n",
    "\\end{exercise}"
   ]
  },
  {
   "cell_type": "markdown",
   "metadata": {},
   "source": [
    "\\begin{exercise}\n",
    "**(Sums of normal random variables**\n",
    "Let $X$ be independent random variables where $X \\sim N(2,5)$ and $Y \\sim N(5,9)$ (we use the notation $\\left.N\\left(\\mu, \\sigma^{2}\\right)\\right) .$ Let $W=3X-2Y+1$\n",
    "\n",
    "(a) Compute $E(W)$ and $\\operatorname{Var}(W)$.\n",
    "\n",
    "(b) It is known that the sum of independent normal distributions is normal. Compute $P(W \\leq 6)$\n",
    "\n",
    "\\end{exercise}"
   ]
  },
  {
   "cell_type": "markdown",
   "metadata": {},
   "source": [
    "\\begin{exercise}\n",
    "\n",
    "Let $X \\sim \\mathrm{U}(a,b).$ Compute $E(X)$ and $\\operatorname{Var}(X) .$\n",
    "\\end{exercise}\n"
   ]
  },
  {
   "cell_type": "markdown",
   "metadata": {},
   "source": [
    "\\begin{exercise}\n",
    "Compute the median for the exponential distribution with parameter $\\lambda$.\n",
    "\\end{exercise}\n"
   ]
  },
  {
   "cell_type": "markdown",
   "metadata": {},
   "source": [
    "# Joint Probability, Covariance, Correlation\n",
    "\n",
    "A. **The  joint  and  marginal  pmf's**\n",
    "\n",
    "\\begin{definition}\n",
    "If discrete random variables $X$ and $Y$ are defined on the same sample space $S,$ then\n",
    "their joint probability mass function (joint pmf) is given by\n",
    "$$\n",
    "p(x, y)=P(X=x \\text { and } Y=y)\n",
    "$$\n",
    "where $(x, y)$ is a pair of possible values for the pair of random variables $(X, Y),$ and\n",
    "$p(x, y)$ satisfies the following conditions:\n",
    "$0 \\leq p(x, y) \\leq 1$\n",
    "$\\sum_{(x, y)} p(x, y)=1$\n",
    "$P((X, Y) \\in A))=\\sum_{(x, y) \\in A} p(x, y)$\n",
    "\\end{definition}\n",
    "\n",
    "In the discrete case, we can obtain the joint cumulative distribution function (joint\n",
    "cdf) of $X$ and $Y$ by summing the joint pmf:\n",
    "$$\n",
    "F(x, y)=P(X \\leq x \\text { and } Y \\leq y)=\\sum_{x_{i} \\leq x} \\sum_{y_{j} \\leq y} p\\left(x_{i}, y_{j}\\right)\n",
    "$$\n",
    "\n",
    "where $x_{i}$ denotes possible values of $X$ and $y_{j}$ denotes possible values of $Y$. From the joint pmf, we can also obtain the individual probability distributions of $X$ and $Y$\n",
    "separately as shown in the next definition.\n",
    "\n",
    "\\begin{definition}\n",
    "Suppose that discrete random variables $X$ and $Y$ have joint pmf $p(x, y) .$ Let $x_{1}, x_{2}, \\ldots, x_{i}, \\ldots$ denote the possible values of $X,$ and let $y_{1}, y_{2}, \\ldots, y_{j}, \\ldots$ denote the possible values of $Y$. The **marginal probability mass functions** (marginal pmf's) of $X$ and $Y$ are respectively given by the following:\n",
    "\n",
    "$p_{X}(x)=\\sum_{j} p\\left(x, y_{j}\\right) \\quad($ fix a value of $X$ and sum over possible values of $Y)$ \n",
    "\n",
    "$p_{Y}(y)=\\sum_{i} p\\left(x_{i}, y\\right) \\quad($ fix a value of $Y$ and sum over possible values of $X)$\n",
    "\\end{definition}\n",
    "\n",
    "\\begin{exercise}\n",
    "The  joint  and  marginal  pmf's of X  and  Y   are partly  given in the following table.\n",
    "\n",
    "\n",
    "$$\n",
    "\\begin{array}{l|ccc|c}\n",
    "x \\backslash^{Y} & 1 & 2 & 3 & \\\\\n",
    "\\hline 1 & 1 / 6 & 0 & \\ldots & 1 / 3 \\\\\n",
    "2 & \\ldots & 1 / 4 & \\ldots & 1 / 3 \\\\\n",
    "3 & \\ldots & \\ldots & 1 / 4 & \\ldots \\\\\n",
    "\\hline & 1 / 6 & 1 / 3 & \\ldots & 1\n",
    "\\end{array}\n",
    "$$\n",
    "\n",
    "(a) Complete the table.\n",
    "The values in the above table give the values of  $p(x,y)$. For example $p(1,1)$ is equal \n",
    "$$\n",
    "p(1,1)=P(X=1 \\text { and } Y= 1) = 1/6\n",
    "$$\n",
    "\n",
    "also \n",
    "\n",
    "The marginal probabilities must add up to 1!\n",
    "\n",
    "(b) Are X  and Y  independent?\n",
    "\\end{exercise}\n"
   ]
  },
  {
   "cell_type": "markdown",
   "metadata": {},
   "source": [
    "\\begin{exercise}\n",
    "\n",
    "**Covariance and Independence**\n",
    "\n",
    "Let $X$  be a random  variable  that takes  values -2, -1, 0, 1, 2; each with  probability 1/5. Let $Y  = X^2$.\n",
    "\n",
    "(a)  compute the covariance of the two random variables manually and compare it to the value obtained by `cov` r function.\n",
    "\n",
    "(b)  Find  E(X) and E(Y ).\n",
    "\n",
    "(c)   Show X  and Y  are not independent.\n",
    "\n",
    "(d)  Show Cov(X, Y ) = 0.\n",
    "\\end{exercise}\n"
   ]
  },
  {
   "cell_type": "markdown",
   "metadata": {},
   "source": [
    "# Continuous Joint Distributions\n",
    "\n",
    "\\begin{exercise}\n",
    "Suppose $X$ and $Y$ are continuous random variables with joint density function $f(x, y)=x+y$ on the unit square $[0,1] \\times[0,1]$.\n",
    "\n",
    "(a) Let $F(x, y)$ be the joint CDF. Compute $F(1,1) .$ Compute $F(x, y)$.\n",
    "\n",
    "(b) Compute the marginal densities for $X$ and $Y$.\n",
    "\n",
    "(c) Are $X$ and $Y$ independent?\n",
    "\n",
    "(d) Compute $E(X),(Y), E\\left(X^{2}+Y^{2}\\right), \\operatorname{Cov}(X, Y)$\n",
    "\\end{exercise}\n",
    "\n",
    "\n"
   ]
  },
  {
   "cell_type": "markdown",
   "metadata": {},
   "source": [
    "# Law  of Large Numbers, Central Limit Theorem\n",
    "\n",
    "\\begin{exercise}\n",
    "Suppose $X_{1}, \\ldots, X_{100}$ are i.i.d. with mean $1 / 5$ and variance $1 / 9 .$ Use the central limit to estimate $P\\left(\\sum X_{i}<30\\right)$\n",
    "\\end{exercise}\n",
    "\n",
    "\\begin{exercise}\n",
    "(Central Limit Theorem) Let $X_{1}, X_{2}, \\ldots, X_{81}$ be i.i.d., each with expected value $\\mu=E\\left(X_{i}\\right)=5,$ and variance $\\sigma^{2}=\\operatorname{Var}\\left(X_{i}\\right)=4 .$ Approximate $P\\left(X_{1}+X_{2}+\\cdots X_{81}>369\\right)$\n",
    "using the central limit theorem.\n",
    "\\end{exercise}\n",
    "\n",
    "\\begin{exercise}\n",
    "\n",
    "(Binomial $\\approx$ normal) Let $X \\sim$ binomial $(100,1 / 3)$. An 'exact' computation in $\\mathrm{R}$ gives $P(X \\leq 30)=0.2765539 .$ Use the central limit theorem to give an approximation of $P(X \\leq 30)$\n",
    "\\end{exercise}\n",
    "\n",
    "\n",
    "\\begin{exercise}\n",
    "The  average  IQ  in a population is 100 with  standard deviation  15 (by  definition,  IQ  is normalized  so this is the case).  What  is the probability that a randomly  selected group of\n",
    "100 people has an average IQ above 115? \n",
    "\\end{exercise}\n"
   ]
  },
  {
   "cell_type": "markdown",
   "metadata": {},
   "source": [
    "# Bayes' rule\n",
    "\n",
    "Bayes' rule shows how probabilities change in the light of evidence. It is a very important tool in Bayesian statistical inference. Let $B_{1}, B_{2}, \\ldots, B_{s}$ again be a partition of $\\Omega .$ Bayes' rule follows from the axioms of probability\n",
    "$$\n",
    "P\\left(B_{i} \\mid A\\right)=\\frac{P\\left(A \\mid B_{i}\\right) P\\left(B_{i}\\right)}{\\sum_{j} P\\left(A \\mid B_{j}\\right) P\\left(B_{j}\\right)}\n",
    "$$\n",
    "\n",
    "\\begin{exercise}\n",
    "Consider a physician's diagnostic test for the presence or absence of some rare disease $D,$ that only occurs in $0.1 \\%$ of the population, i.e. $P(D)=.001 .$ It follows that $P(\\bar{D})=.999,$ where $\\bar{D}$ indicates that a person does not have the disease. The probability of an event before the evaluation of evidence through Bayes' rule is often called the prior probability. The prior probability that someone picked at random from the population has the disease is therefore $P(D)=.001$\n",
    "\n",
    "Furthermore we denote a positive test result by $T^{+},$ and a negative test result by $T^{-}$. The performance of the test is summarized in the following table 1.\n",
    "\n",
    "$$\n",
    "\\begin{aligned}\n",
    "&\\begin{array}{|c|ll|}\n",
    "\\hline & T^{+} & T^{-} \\\\\n",
    "\\hline D & 0.95 & 0.05 \\\\\n",
    "\\bar{D} & 0.02 & 0.98 \\\\\n",
    "\\hline\n",
    "\\end{array}\\\\\n",
    "&\\text { Table 1: Performance of diagnostic test }\n",
    "\\end{aligned}\n",
    "$$\n",
    "\n",
    "What is the probability that a patient has the disease, if the test result is\n",
    "positive?\n",
    "\\end{exercise}\n",
    "\n",
    "**Answer**: First, notice that $D, \\bar{D}$ is a partition of the outcome space. We apply Bayes' rule to obtain\n",
    "\n",
    "$$\n",
    "P\\left(D \\mid T^{+}\\right)=\\frac{P\\left(T^{+} \\mid D\\right) P(D)}{P\\left(T^{+} \\mid D\\right) P(D)+P\\left(T^{+} \\mid \\bar{D}\\right) P(\\bar{D})}=\\frac{.95 \\cdot .001}{.95 \\cdot .001+.02 \\cdot .999}=.045 .\n",
    "$$\n",
    "\n",
    "Only $4.5\\%$ of the people with a positive test result actually have the disease. \n",
    "\n",
    "\\begin{exercise}\n",
    "A and B  manufacturers  are equally likely to produce screens for laptops. The lifetimes for the screens (measured in hundreds of hours) manufactured by each company are independently distributed as follows:\n",
    "\n",
    "- Manufacturer A: lifetime of screens are normally distributed: $N(20,4)$\n",
    "\n",
    "- Manufacturer B: lifetime of screens are exponentially distributed: $\\operatorname{Exp}(1 / 20)$\n",
    "\n",
    "Say we bought a laptop, have used it for 18 hundred hours so far, and the screen is still working at this point in time.\n",
    "\n",
    "a) At this point in time, what is the probability that manufacturer A produced the screen?\n",
    "\n",
    "b) At this point in time, what is the probability that manufacturer B produced the screen?\n",
    "\\end{exercise}\n",
    "\n",
    "\n",
    "\n"
   ]
  },
  {
   "cell_type": "markdown",
   "metadata": {},
   "source": [
    "# Computing with R\n",
    "\\begin{exercise}\n",
    "\n",
    "Consider $X_{1}, X_{2}, \\ldots$ all independent and with distribution $\\mathrm{N}(0,1) .$ Let $\\bar{X}_{m}$ be the average of $X_{1}, \\ldots X_{n}$\n",
    "\n",
    "(a) Give $E\\left(X_{n}\\right)$ and $\\sigma_{\\bar{X}_{n}}$ exactly.\n",
    "\n",
    "(b) Use a R simulation to estimate $E\\left(\\bar{X}_{n}\\right)$ and $\\operatorname{Var}\\left(\\bar{X}_{n}\\right)$ for $n=1,9,100 .$ (You should use the `rnorm` function to simulate 1000 samples of each $X_{j .}$ )\n",
    "\\end{exercise}\n",
    "\n",
    "\\begin{exercise}\n",
    "Let $X_{1}, X_{2}, X_{3}, X_{4}, X_{5}$ be independent $U(0,1)$ random variables. \n",
    "Let $X=X_{1}+X_{2}+X_{3}$ and $Y=X_{3}+X_{4}+X_{5}$\n",
    "\n",
    "Use the `runif()` function to simulate 1000 trials of each of these variables. Use these to estimate $\\operatorname{Cov}(X, Y)$\n",
    "\n",
    "\\end{exercise}\n"
   ]
  }
 ],
 "metadata": {
  "kernelspec": {
   "display_name": "R 4.0.2",
   "language": "R",
   "name": "ir40"
  },
  "latex_envs": {
   "LaTeX_envs_menu_present": true,
   "autoclose": false,
   "autocomplete": true,
   "bibliofile": "biblio.bib",
   "cite_by": "apalike",
   "current_citInitial": 1,
   "eqLabelWithNumbers": true,
   "eqNumInitial": 1,
   "hotkeys": {
    "equation": "Ctrl-E",
    "itemize": "Ctrl-I"
   },
   "labels_anchors": false,
   "latex_user_defs": false,
   "report_style_numbering": false,
   "user_envs_cfg": false
  },
  "nbTranslate": {
   "displayLangs": [
    "*"
   ],
   "hotkey": "alt-t",
   "langInMainMenu": true,
   "sourceLang": "en",
   "targetLang": "fr",
   "useGoogleTranslate": true
  },
  "toc": {
   "base_numbering": 1,
   "nav_menu": {},
   "number_sections": true,
   "sideBar": true,
   "skip_h1_title": false,
   "title_cell": "Table of Contents",
   "title_sidebar": "Contents",
   "toc_cell": false,
   "toc_position": {},
   "toc_section_display": true,
   "toc_window_display": false
  },
  "varInspector": {
   "cols": {
    "lenName": 16,
    "lenType": 16,
    "lenVar": 40
   },
   "kernels_config": {
    "python": {
     "delete_cmd_postfix": "",
     "delete_cmd_prefix": "del ",
     "library": "var_list.py",
     "varRefreshCmd": "print(var_dic_list())"
    },
    "r": {
     "delete_cmd_postfix": ") ",
     "delete_cmd_prefix": "rm(",
     "library": "var_list.r",
     "varRefreshCmd": "cat(var_dic_list()) "
    }
   },
   "types_to_exclude": [
    "module",
    "function",
    "builtin_function_or_method",
    "instance",
    "_Feature"
   ],
   "window_display": false
  }
 },
 "nbformat": 4,
 "nbformat_minor": 4
}
