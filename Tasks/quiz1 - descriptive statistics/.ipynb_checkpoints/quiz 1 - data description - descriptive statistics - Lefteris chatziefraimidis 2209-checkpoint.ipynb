{
 "cells": [
  {
   "cell_type": "markdown",
   "metadata": {},
   "source": [
    "# Lefteris Chatziefraimidis 2209"
   ]
  },
  {
   "cell_type": "markdown",
   "metadata": {},
   "source": [
    "# Part I: Data Description \n",
    "\\begin{exercise}\n",
    "Consider the following  data set `mtcars`. Identify which data are a) Categorical, b) numerical discrete, and c) numerical continuous.\n",
    "\\end{exercise}\n"
   ]
  },
  {
   "cell_type": "markdown",
   "metadata": {},
   "source": [
    "a) Categorical:\n",
    "- model\n",
    "\n",
    "b) numerical discrete\n",
    "- cyl\t\n",
    "- disp\t\n",
    "- hp\t\n",
    "- vs \n",
    "- am\n",
    "- gear \n",
    "- carb \n",
    "\n",
    "c) numerical continuous\n",
    "- mpg\n",
    "- drat\n",
    "- wt\n",
    "- qsec"
   ]
  },
  {
   "cell_type": "code",
   "execution_count": 1,
   "metadata": {},
   "outputs": [
    {
     "data": {
      "text/html": [
       "<table>\n",
       "<caption>A data.frame: 6 × 12</caption>\n",
       "<thead>\n",
       "\t<tr><th></th><th scope=col>model</th><th scope=col>mpg</th><th scope=col>cyl</th><th scope=col>disp</th><th scope=col>hp</th><th scope=col>drat</th><th scope=col>wt</th><th scope=col>qsec</th><th scope=col>vs</th><th scope=col>am</th><th scope=col>gear</th><th scope=col>carb</th></tr>\n",
       "\t<tr><th></th><th scope=col>&lt;chr&gt;</th><th scope=col>&lt;dbl&gt;</th><th scope=col>&lt;int&gt;</th><th scope=col>&lt;dbl&gt;</th><th scope=col>&lt;int&gt;</th><th scope=col>&lt;dbl&gt;</th><th scope=col>&lt;dbl&gt;</th><th scope=col>&lt;dbl&gt;</th><th scope=col>&lt;int&gt;</th><th scope=col>&lt;int&gt;</th><th scope=col>&lt;int&gt;</th><th scope=col>&lt;int&gt;</th></tr>\n",
       "</thead>\n",
       "<tbody>\n",
       "\t<tr><th scope=row>1</th><td>Mazda RX4        </td><td>21.0</td><td>6</td><td>160</td><td>110</td><td>3.90</td><td>2.620</td><td>16.46</td><td>0</td><td>1</td><td>4</td><td>4</td></tr>\n",
       "\t<tr><th scope=row>2</th><td>Mazda RX4 Wag    </td><td>21.0</td><td>6</td><td>160</td><td>110</td><td>3.90</td><td>2.875</td><td>17.02</td><td>0</td><td>1</td><td>4</td><td>4</td></tr>\n",
       "\t<tr><th scope=row>3</th><td>Datsun 710       </td><td>22.8</td><td>4</td><td>108</td><td> 93</td><td>3.85</td><td>2.320</td><td>18.61</td><td>1</td><td>1</td><td>4</td><td>1</td></tr>\n",
       "\t<tr><th scope=row>4</th><td>Hornet 4 Drive   </td><td>21.4</td><td>6</td><td>258</td><td>110</td><td>3.08</td><td>3.215</td><td>19.44</td><td>1</td><td>0</td><td>3</td><td>1</td></tr>\n",
       "\t<tr><th scope=row>5</th><td>Hornet Sportabout</td><td>18.7</td><td>8</td><td>360</td><td>175</td><td>3.15</td><td>3.440</td><td>17.02</td><td>0</td><td>0</td><td>3</td><td>2</td></tr>\n",
       "\t<tr><th scope=row>6</th><td>Valiant          </td><td>18.1</td><td>6</td><td>225</td><td>105</td><td>2.76</td><td>3.460</td><td>20.22</td><td>1</td><td>0</td><td>3</td><td>1</td></tr>\n",
       "</tbody>\n",
       "</table>\n"
      ],
      "text/latex": [
       "A data.frame: 6 × 12\n",
       "\\begin{tabular}{r|llllllllllll}\n",
       "  & model & mpg & cyl & disp & hp & drat & wt & qsec & vs & am & gear & carb\\\\\n",
       "  & <chr> & <dbl> & <int> & <dbl> & <int> & <dbl> & <dbl> & <dbl> & <int> & <int> & <int> & <int>\\\\\n",
       "\\hline\n",
       "\t1 & Mazda RX4         & 21.0 & 6 & 160 & 110 & 3.90 & 2.620 & 16.46 & 0 & 1 & 4 & 4\\\\\n",
       "\t2 & Mazda RX4 Wag     & 21.0 & 6 & 160 & 110 & 3.90 & 2.875 & 17.02 & 0 & 1 & 4 & 4\\\\\n",
       "\t3 & Datsun 710        & 22.8 & 4 & 108 &  93 & 3.85 & 2.320 & 18.61 & 1 & 1 & 4 & 1\\\\\n",
       "\t4 & Hornet 4 Drive    & 21.4 & 6 & 258 & 110 & 3.08 & 3.215 & 19.44 & 1 & 0 & 3 & 1\\\\\n",
       "\t5 & Hornet Sportabout & 18.7 & 8 & 360 & 175 & 3.15 & 3.440 & 17.02 & 0 & 0 & 3 & 2\\\\\n",
       "\t6 & Valiant           & 18.1 & 6 & 225 & 105 & 2.76 & 3.460 & 20.22 & 1 & 0 & 3 & 1\\\\\n",
       "\\end{tabular}\n"
      ],
      "text/markdown": [
       "\n",
       "A data.frame: 6 × 12\n",
       "\n",
       "| <!--/--> | model &lt;chr&gt; | mpg &lt;dbl&gt; | cyl &lt;int&gt; | disp &lt;dbl&gt; | hp &lt;int&gt; | drat &lt;dbl&gt; | wt &lt;dbl&gt; | qsec &lt;dbl&gt; | vs &lt;int&gt; | am &lt;int&gt; | gear &lt;int&gt; | carb &lt;int&gt; |\n",
       "|---|---|---|---|---|---|---|---|---|---|---|---|---|\n",
       "| 1 | Mazda RX4         | 21.0 | 6 | 160 | 110 | 3.90 | 2.620 | 16.46 | 0 | 1 | 4 | 4 |\n",
       "| 2 | Mazda RX4 Wag     | 21.0 | 6 | 160 | 110 | 3.90 | 2.875 | 17.02 | 0 | 1 | 4 | 4 |\n",
       "| 3 | Datsun 710        | 22.8 | 4 | 108 |  93 | 3.85 | 2.320 | 18.61 | 1 | 1 | 4 | 1 |\n",
       "| 4 | Hornet 4 Drive    | 21.4 | 6 | 258 | 110 | 3.08 | 3.215 | 19.44 | 1 | 0 | 3 | 1 |\n",
       "| 5 | Hornet Sportabout | 18.7 | 8 | 360 | 175 | 3.15 | 3.440 | 17.02 | 0 | 0 | 3 | 2 |\n",
       "| 6 | Valiant           | 18.1 | 6 | 225 | 105 | 2.76 | 3.460 | 20.22 | 1 | 0 | 3 | 1 |\n",
       "\n"
      ],
      "text/plain": [
       "  model             mpg  cyl disp hp  drat wt    qsec  vs am gear carb\n",
       "1 Mazda RX4         21.0 6   160  110 3.90 2.620 16.46 0  1  4    4   \n",
       "2 Mazda RX4 Wag     21.0 6   160  110 3.90 2.875 17.02 0  1  4    4   \n",
       "3 Datsun 710        22.8 4   108   93 3.85 2.320 18.61 1  1  4    1   \n",
       "4 Hornet 4 Drive    21.4 6   258  110 3.08 3.215 19.44 1  0  3    1   \n",
       "5 Hornet Sportabout 18.7 8   360  175 3.15 3.440 17.02 0  0  3    2   \n",
       "6 Valiant           18.1 6   225  105 2.76 3.460 20.22 1  0  3    1   "
      ]
     },
     "metadata": {},
     "output_type": "display_data"
    },
    {
     "data": {
      "text/html": [
       "<style>\n",
       ".list-inline {list-style: none; margin:0; padding: 0}\n",
       ".list-inline>li {display: inline-block}\n",
       ".list-inline>li:not(:last-child)::after {content: \"\\00b7\"; padding: 0 .5ex}\n",
       "</style>\n",
       "<ol class=list-inline><li>32</li><li>12</li></ol>\n"
      ],
      "text/latex": [
       "\\begin{enumerate*}\n",
       "\\item 32\n",
       "\\item 12\n",
       "\\end{enumerate*}\n"
      ],
      "text/markdown": [
       "1. 32\n",
       "2. 12\n",
       "\n",
       "\n"
      ],
      "text/plain": [
       "[1] 32 12"
      ]
     },
     "metadata": {},
     "output_type": "display_data"
    }
   ],
   "source": [
    "data <- read.csv(\"mtcars.csv\")\n",
    "cars <- data      # Use the mtcars data set\n",
    "head(cars)\n",
    "dim(data)"
   ]
  },
  {
   "cell_type": "markdown",
   "metadata": {},
   "source": [
    "**your answer here**\n"
   ]
  },
  {
   "cell_type": "markdown",
   "metadata": {},
   "source": [
    "\\begin{exercise}\n",
    "Create a bar chart (historgram) for number of cylinders (data$cyl) in the various models.\n",
    "\\end{exercise}\n"
   ]
  },
  {
   "cell_type": "code",
   "execution_count": 3,
   "metadata": {},
   "outputs": [
    {
     "data": {
      "image/png": "[encoded data removed]",
      "text/plain": [
       "plot without title"
      ]
     },
     "metadata": {
      "image/png": {
       "height": 420,
       "width": 420
      }
     },
     "output_type": "display_data"
    }
   ],
   "source": [
    "# Load the libraries\n",
    "library(ggplot2)\n",
    "\n",
    "# Create the barplot\n",
    "ggplot(data, aes(x = factor(cyl))) +\n",
    "    geom_bar()"
   ]
  },
  {
   "cell_type": "markdown",
   "metadata": {},
   "source": [
    "Frequency Distribution of Qualitative Data\n",
    "---\n",
    "The **frequency distribution** of a data variable is a summary of the data occurrence in a collection of non-overlapping categories.\n",
    "\n",
    "- A frequency distribution is a way to \n",
    "summarize data\n",
    "- The distribution condenses the raw data\n",
    "into a more useful form... \n",
    "- and allows for a quick visual interpretation \n",
    "of the data\n",
    "\n",
    "\\begin{example}\n",
    "Consider and Sort raw data in ascending order:\n",
    "12, 13, 17, 21, 24, 24, 26, 27, 27, 30, 32, 35, 37, 38, 41, 43, 44, 46, 53, 58\n",
    "\n",
    "- Find range: 58 - 12 = 46\n",
    "- Select number of classes: 5 (usually between 5 and 15)\n",
    "- Compute interval width: 10  (46/5 then round up)\n",
    "- Determine interval boundaries: 10 but less than 20, 20 but \n",
    "less than 30, . . . , 60 but less than 70\n",
    "- Count observations & assign to classes\n",
    "\\end{example}\n",
    "\n",
    "\n",
    "\n",
    "A **cumulative relative frequency distribution** is a tabular summary of a set of data showing the relative frequency of items less than or equal to the upper class class limit of each class. **Relative frequency** is the fraction or proportion of the total number of items.\n",
    "\n",
    "\n",
    "\n"
   ]
  },
  {
   "cell_type": "markdown",
   "metadata": {},
   "source": [
    "Frequency Distribution of Qualitative Data in R\n",
    "---\n",
    "\n",
    "The following  codes extracts a subset of the data and computes its frequency using 3 different ways"
   ]
  },
  {
   "cell_type": "code",
   "execution_count": 3,
   "metadata": {},
   "outputs": [
    {
     "data": {
      "text/html": [
       "<table>\n",
       "<caption>A data.frame: 6 × 1</caption>\n",
       "<thead>\n",
       "\t<tr><th></th><th scope=col>gear</th></tr>\n",
       "\t<tr><th></th><th scope=col>&lt;dbl&gt;</th></tr>\n",
       "</thead>\n",
       "<tbody>\n",
       "\t<tr><th scope=row>Mazda RX4</th><td>4</td></tr>\n",
       "\t<tr><th scope=row>Mazda RX4 Wag</th><td>4</td></tr>\n",
       "\t<tr><th scope=row>Datsun 710</th><td>4</td></tr>\n",
       "\t<tr><th scope=row>Hornet 4 Drive</th><td>3</td></tr>\n",
       "\t<tr><th scope=row>Hornet Sportabout</th><td>3</td></tr>\n",
       "\t<tr><th scope=row>Valiant</th><td>3</td></tr>\n",
       "</tbody>\n",
       "</table>\n"
      ],
      "text/latex": [
       "A data.frame: 6 × 1\n",
       "\\begin{tabular}{r|l}\n",
       "  & gear\\\\\n",
       "  & <dbl>\\\\\n",
       "\\hline\n",
       "\tMazda RX4 & 4\\\\\n",
       "\tMazda RX4 Wag & 4\\\\\n",
       "\tDatsun 710 & 4\\\\\n",
       "\tHornet 4 Drive & 3\\\\\n",
       "\tHornet Sportabout & 3\\\\\n",
       "\tValiant & 3\\\\\n",
       "\\end{tabular}\n"
      ],
      "text/markdown": [
       "\n",
       "A data.frame: 6 × 1\n",
       "\n",
       "| <!--/--> | gear &lt;dbl&gt; |\n",
       "|---|---|\n",
       "| Mazda RX4 | 4 |\n",
       "| Mazda RX4 Wag | 4 |\n",
       "| Datsun 710 | 4 |\n",
       "| Hornet 4 Drive | 3 |\n",
       "| Hornet Sportabout | 3 |\n",
       "| Valiant | 3 |\n",
       "\n"
      ],
      "text/plain": [
       "                  gear\n",
       "Mazda RX4         4   \n",
       "Mazda RX4 Wag     4   \n",
       "Datsun 710        4   \n",
       "Hornet 4 Drive    3   \n",
       "Hornet Sportabout 3   \n",
       "Valiant           3   "
      ]
     },
     "metadata": {},
     "output_type": "display_data"
    }
   ],
   "source": [
    "\n",
    "library(plyr)\n",
    "cylinders= head(subset(mtcars, select = 'gear'))\n",
    "cylinders"
   ]
  },
  {
   "cell_type": "code",
   "execution_count": 4,
   "metadata": {},
   "outputs": [
    {
     "data": {
      "text/plain": [
       "\n",
       " 3  4  5 \n",
       "15 12  5 "
      ]
     },
     "metadata": {},
     "output_type": "display_data"
    }
   ],
   "source": [
    "table(subset(mtcars, select = 'gear'))"
   ]
  },
  {
   "cell_type": "code",
   "execution_count": 5,
   "metadata": {},
   "outputs": [
    {
     "data": {
      "text/html": [
       "<table>\n",
       "<caption>A data.frame: 3 × 2</caption>\n",
       "<thead>\n",
       "\t<tr><th scope=col>gear</th><th scope=col>freq</th></tr>\n",
       "\t<tr><th scope=col>&lt;dbl&gt;</th><th scope=col>&lt;int&gt;</th></tr>\n",
       "</thead>\n",
       "<tbody>\n",
       "\t<tr><td>3</td><td>15</td></tr>\n",
       "\t<tr><td>4</td><td>12</td></tr>\n",
       "\t<tr><td>5</td><td> 5</td></tr>\n",
       "</tbody>\n",
       "</table>\n"
      ],
      "text/latex": [
       "A data.frame: 3 × 2\n",
       "\\begin{tabular}{ll}\n",
       " gear & freq\\\\\n",
       " <dbl> & <int>\\\\\n",
       "\\hline\n",
       "\t 3 & 15\\\\\n",
       "\t 4 & 12\\\\\n",
       "\t 5 &  5\\\\\n",
       "\\end{tabular}\n"
      ],
      "text/markdown": [
       "\n",
       "A data.frame: 3 × 2\n",
       "\n",
       "| gear &lt;dbl&gt; | freq &lt;int&gt; |\n",
       "|---|---|\n",
       "| 3 | 15 |\n",
       "| 4 | 12 |\n",
       "| 5 |  5 |\n",
       "\n"
      ],
      "text/plain": [
       "  gear freq\n",
       "1 3    15  \n",
       "2 4    12  \n",
       "3 5     5  "
      ]
     },
     "metadata": {},
     "output_type": "display_data"
    }
   ],
   "source": [
    "count(subset(mtcars, select = 'gear'))"
   ]
  },
  {
   "cell_type": "markdown",
   "metadata": {},
   "source": [
    "\\begin{exercise}\n",
    "Use the following R statement \n",
    "\n",
    "        cbind( Freq=table(x), Cumul=cumsum(table(x)), relative=prop.table(table(x)))\n",
    "        \n",
    "to find the frequency_distr, cumul_distr, relative_distr of var `cyl`\n",
    "\\end{exercise}\n"
   ]
  },
  {
   "cell_type": "markdown",
   "metadata": {
    "run_control": {
     "marked": true
    }
   },
   "source": [
    "\\begin{exercise}\n",
    "compute a pie chart of the frequency of values in variable cyl\n",
    "\\end{exercise}\n",
    "\n"
   ]
  },
  {
   "cell_type": "code",
   "execution_count": 101,
   "metadata": {
    "run_control": {
     "marked": true
    }
   },
   "outputs": [
    {
     "data": {
      "text/html": [
       "<table>\n",
       "<caption>A matrix: 3 × 3 of type dbl</caption>\n",
       "<thead>\n",
       "\t<tr><th></th><th scope=col>Freq</th><th scope=col>Cumul</th><th scope=col>relative</th></tr>\n",
       "</thead>\n",
       "<tbody>\n",
       "\t<tr><th scope=row>4</th><td>11</td><td>11</td><td>0.34375</td></tr>\n",
       "\t<tr><th scope=row>6</th><td> 7</td><td>18</td><td>0.21875</td></tr>\n",
       "\t<tr><th scope=row>8</th><td>14</td><td>32</td><td>0.43750</td></tr>\n",
       "</tbody>\n",
       "</table>\n"
      ],
      "text/latex": [
       "A matrix: 3 × 3 of type dbl\n",
       "\\begin{tabular}{r|lll}\n",
       "  & Freq & Cumul & relative\\\\\n",
       "\\hline\n",
       "\t4 & 11 & 11 & 0.34375\\\\\n",
       "\t6 &  7 & 18 & 0.21875\\\\\n",
       "\t8 & 14 & 32 & 0.43750\\\\\n",
       "\\end{tabular}\n"
      ],
      "text/markdown": [
       "\n",
       "A matrix: 3 × 3 of type dbl\n",
       "\n",
       "| <!--/--> | Freq | Cumul | relative |\n",
       "|---|---|---|---|\n",
       "| 4 | 11 | 11 | 0.34375 |\n",
       "| 6 |  7 | 18 | 0.21875 |\n",
       "| 8 | 14 | 32 | 0.43750 |\n",
       "\n"
      ],
      "text/plain": [
       "  Freq Cumul relative\n",
       "4 11   11    0.34375 \n",
       "6  7   18    0.21875 \n",
       "8 14   32    0.43750 "
      ]
     },
     "metadata": {},
     "output_type": "display_data"
    }
   ],
   "source": [
    "# your code\n",
    "all = cbind( Freq=table(data$cyl), Cumul=cumsum(table(data$cyl)), relative=prop.table(table(data$cyl)))\n",
    "all"
   ]
  },
  {
   "cell_type": "code",
   "execution_count": 35,
   "metadata": {},
   "outputs": [],
   "source": [
    "?pie"
   ]
  },
  {
   "cell_type": "code",
   "execution_count": 44,
   "metadata": {},
   "outputs": [
    {
     "data": {
      "image/png": "[encoded data removed]",
      "text/plain": [
       "plot without title"
      ]
     },
     "metadata": {
      "image/png": {
       "height": 420,
       "width": 420
      }
     },
     "output_type": "display_data"
    }
   ],
   "source": [
    "# your code here\n",
    "df = data.frame(all)\n",
    "frequency = df$Freq\n",
    "pie(frequency,labels=c(\"11\",\"7\",\"14\"))"
   ]
  },
  {
   "cell_type": "markdown",
   "metadata": {},
   "source": [
    "\\begin{exercise}\n",
    "Create a scatter diagram of wt (Car Weight) vs. mpg (Miles Per Gallon).\n",
    "Use the function `plot`\n",
    "\\end{exercise}\n"
   ]
  },
  {
   "cell_type": "code",
   "execution_count": 105,
   "metadata": {},
   "outputs": [
    {
     "data": {
      "image/png": "[encoded data removed]",
      "text/plain": [
       "plot without title"
      ]
     },
     "metadata": {
      "image/png": {
       "height": 420,
       "width": 420
      }
     },
     "output_type": "display_data"
    }
   ],
   "source": [
    "#your code\n",
    "library(ggplot2)\n",
    "plot(data$wt,data$mpg,col=\"red\",ylab=\"Miles Per Gallon\",xlab=\"Car Weight\")"
   ]
  },
  {
   "cell_type": "markdown",
   "metadata": {},
   "source": [
    "# Part II - Descriptive Statistics\n",
    "**Goals**\n",
    "\n",
    "- Compute and interpret the mean, median, and mode for a\n",
    "set of data\n",
    "- Find the range, variance, standard deviation, and\n",
    "coefficient of variation and know what these values mean\n",
    "- Apply the empirical rule to describe the variation of\n"
   ]
  },
  {
   "cell_type": "markdown",
   "metadata": {},
   "source": [
    "**Topics**\n",
    "\n",
    "**Measures of central tendency, variation, and \n",
    "shape**\n",
    "\n",
    "- Mean, median, mode, geometric mean\n",
    "- Quartiles\n",
    "- Range, interquartile range, variance and standard \n",
    "deviation, coefficient of variation\n",
    "- Symmetric and skewed distributions\n",
    "\n",
    "**Population summary measures**\n",
    "\n",
    "- Mean, variance, and standard deviation\n",
    "- The empirical rule and Bienaymé-Chebyshev rule\n",
    "- Covariance and coefficient of correlation"
   ]
  },
  {
   "cell_type": "markdown",
   "metadata": {},
   "source": [
    "Describing Data Numerically\n",
    "---\n",
    "Arithmetic mean\n",
    "---\n",
    "* The **arithmetic mean (mean)** is the most common measure of central tendency\n",
    "\n",
    "\\begin{exercise}\n",
    "Compute the mean **manually** and using the R function `mean` of the 'mpg' from the `mtcars` dataset. Notice that `sum` R function computes the sum of the elements of an array (sequence) of numbers and `length` function the size of the array.\n",
    "\\end{exercise}\n"
   ]
  },
  {
   "cell_type": "code",
   "execution_count": 63,
   "metadata": {},
   "outputs": [
    {
     "data": {
      "text/html": [
       "20.090625"
      ],
      "text/latex": [
       "20.090625"
      ],
      "text/markdown": [
       "20.090625"
      ],
      "text/plain": [
       "[1] 20.09062"
      ]
     },
     "metadata": {},
     "output_type": "display_data"
    }
   ],
   "source": [
    "# your code\n",
    "mean <- function(arr) {\n",
    "    n = length(arr)\n",
    "    s = sum(arr)\n",
    "    return (s/n)\n",
    "}\n",
    "mean(data$mpg)"
   ]
  },
  {
   "cell_type": "markdown",
   "metadata": {},
   "source": [
    "Median\n",
    "---\n",
    "\n",
    "**median** is  location of the median \n",
    "\n",
    "**Median position $=\\frac{n+1}{2}$ position in the ordered data**\n",
    "\n",
    "- If the number of values is odd, the median is the middle number\n",
    "- If the number of values is even, the median is the average of the two middle numbers\n",
    "\n",
    "- Note that  $\\frac{n+1}{2}$         is not the value of the median, only the position of the median in the ranked data"
   ]
  },
  {
   "cell_type": "markdown",
   "metadata": {},
   "source": [
    "\\begin{exercise}\n",
    "Compute the **median** of 'mpg\" variable in mtcars  using the R function `median`. What is the advantage of median vs. mean. When is it used?\n",
    "\n",
    "\\end{exercise}\n"
   ]
  },
  {
   "cell_type": "markdown",
   "metadata": {},
   "source": [
    "**The median metric is resistant to outliers. Thus, if our dataset contains outliers that will provide a not efficient mean we can use median instead.**"
   ]
  },
  {
   "cell_type": "code",
   "execution_count": 96,
   "metadata": {},
   "outputs": [
    {
     "data": {
      "text/html": [
       "19.2"
      ],
      "text/latex": [
       "19.2"
      ],
      "text/markdown": [
       "19.2"
      ],
      "text/plain": [
       "[1] 19.2"
      ]
     },
     "metadata": {},
     "output_type": "display_data"
    }
   ],
   "source": [
    "#your code here\n",
    "median(data$mpg)"
   ]
  },
  {
   "cell_type": "markdown",
   "metadata": {},
   "source": [
    "Mode\n",
    "---\n",
    "The mode is the value that has highest number of occurrences in a set of data. Unlike mean and median, mode can have both numeric and character data.\n",
    "\n",
    "- A measure of central tendency\n",
    "- Value that occurs most often\n",
    "- Not affected by extreme values\n",
    "- Used for either numerical or categorical data\n",
    "- There may may be no mode\n",
    "- There may be several modes\n",
    "\n",
    "R does not have a standard in-built function to calculate mode. So we create a user function to calculate mode of a data set in R. This function takes the vector as input and gives the mode value as output."
   ]
  },
  {
   "cell_type": "code",
   "execution_count": 73,
   "metadata": {},
   "outputs": [
    {
     "name": "stdout",
     "output_type": "stream",
     "text": [
      "[1] 2\n",
      "[1] \"it\"\n"
     ]
    }
   ],
   "source": [
    "# Create the function.\n",
    "getmode <- function(v) {\n",
    "   uniqv <- unique(v)\n",
    "   uniqv[which.max(tabulate(match(v, uniqv)))]\n",
    "}\n",
    "\n",
    "# Create the vector with numbers.\n",
    "v <- c(2,1,2,3,1,2,3,4,1,5,5,3,2,3)\n",
    "\n",
    "# Calculate the mode using the user function.\n",
    "result <- getmode(v)\n",
    "print(result)\n",
    "\n",
    "# Create the vector with characters.\n",
    "charv <- c(\"o\",\"it\",\"the\",\"it\",\"it\")\n",
    "\n",
    "# Calculate the mode using the user function.\n",
    "result <- getmode(charv)\n",
    "print(result)"
   ]
  },
  {
   "cell_type": "markdown",
   "metadata": {},
   "source": [
    "\\begin{exercise}\n",
    "Apply the above function to find the mode of the mpg variable in mtcars dataset.\n",
    "\n",
    "\\end{exercise}\n"
   ]
  },
  {
   "cell_type": "code",
   "execution_count": 74,
   "metadata": {},
   "outputs": [
    {
     "data": {
      "text/html": [
       "21"
      ],
      "text/latex": [
       "21"
      ],
      "text/markdown": [
       "21"
      ],
      "text/plain": [
       "[1] 21"
      ]
     },
     "metadata": {},
     "output_type": "display_data"
    }
   ],
   "source": [
    "# your code here\n",
    "getmode(data$mpg)"
   ]
  },
  {
   "cell_type": "markdown",
   "metadata": {},
   "source": [
    "Measures of Variability\n",
    "----\n",
    "\n",
    "Measures of variation give information on the spread  or variability of the data  values.\n",
    "\n",
    "**Variation measures**\n",
    "- Range\n",
    "- Interquartile range\n",
    "- Variance\n",
    "- Standard Deviation\n",
    "- Coefficient of Variation\n",
    "\n"
   ]
  },
  {
   "cell_type": "markdown",
   "metadata": {},
   "source": [
    "Range\n",
    "---\n",
    "Simplest measure of variation Difference between the largest and the smallest  observations:\n",
    "Range $=X_{\\text {largest }}-X_{\\text {smallest }}$\n",
    "\n",
    "Quartiles\n",
    "---\n",
    "There are several quartiles of an observation variable. The first quartile, or lower quartile, is the value that cuts off the first 25% of the data when it is sorted in ascending order. The second quartile, or median, is the value that cuts off the first 50%. The third quartile, or upper quartile, is the value that cuts off the first 75%.\n",
    "\n",
    "\n",
    "Interquartile Range\n",
    "---\n",
    "- Can eliminate some outlier problems by using \n",
    "the interquartile range\n",
    "- Eliminate high- and low-valued observations \n",
    "and calculate the range of the middle 50% of\n",
    "the data\n",
    "\n",
    "Interquartile range $=3^{\\text {rd }}$ quartile $-1^{\\text {st }}$ quartile\n",
    "$$\n",
    "\\mathrm{IQR}=\\mathrm{Q}_{3}-\\mathrm{Q}_{1}\n",
    "$$\n",
    "\n"
   ]
  },
  {
   "cell_type": "code",
   "execution_count": 14,
   "metadata": {},
   "outputs": [
    {
     "data": {
      "text/html": [
       "<style>\n",
       ".dl-inline {width: auto; margin:0; padding: 0}\n",
       ".dl-inline>dt, .dl-inline>dd {float: none; width: auto; display: inline-block}\n",
       ".dl-inline>dt::after {content: \":\\0020\"; padding-right: .5ex}\n",
       ".dl-inline>dt:not(:first-of-type) {padding-left: .5ex}\n",
       "</style><dl class=dl-inline><dt>0%</dt><dd>10.4</dd><dt>25%</dt><dd>15.425</dd><dt>50%</dt><dd>19.2</dd><dt>75%</dt><dd>22.8</dd><dt>100%</dt><dd>33.9</dd></dl>\n"
      ],
      "text/latex": [
       "\\begin{description*}\n",
       "\\item[0\\textbackslash{}\\%] 10.4\n",
       "\\item[25\\textbackslash{}\\%] 15.425\n",
       "\\item[50\\textbackslash{}\\%] 19.2\n",
       "\\item[75\\textbackslash{}\\%] 22.8\n",
       "\\item[100\\textbackslash{}\\%] 33.9\n",
       "\\end{description*}\n"
      ],
      "text/markdown": [
       "0%\n",
       ":   10.425%\n",
       ":   15.42550%\n",
       ":   19.275%\n",
       ":   22.8100%\n",
       ":   33.9\n",
       "\n"
      ],
      "text/plain": [
       "    0%    25%    50%    75%   100% \n",
       "10.400 15.425 19.200 22.800 33.900 "
      ]
     },
     "metadata": {},
     "output_type": "display_data"
    }
   ],
   "source": [
    "# use of the function quartile to 'mpg' data\n",
    "quantile(data$mpg)"
   ]
  },
  {
   "cell_type": "markdown",
   "metadata": {},
   "source": [
    "The **interquartile range** of an observation variable is the difference of its upper and lower quartiles. It is a measure of how far apart the middle portion of data spreads in value.\n",
    "\n",
    "$$\\text { Inter quartile Range} =\\text {Upper Quartile}-\\text {Lower Quartile}$$\n",
    "\n",
    "\\begin{exercise}\n",
    "Find the  interquartile range of 'mpg' variable using the R function `IQR`\n",
    "\n",
    "\\end{exercise}\n"
   ]
  },
  {
   "cell_type": "code",
   "execution_count": 76,
   "metadata": {},
   "outputs": [
    {
     "data": {
      "text/html": [
       "7.375"
      ],
      "text/latex": [
       "7.375"
      ],
      "text/markdown": [
       "7.375"
      ],
      "text/plain": [
       "[1] 7.375"
      ]
     },
     "metadata": {},
     "output_type": "display_data"
    }
   ],
   "source": [
    "# your code\n",
    "IQR(data$mpg)"
   ]
  },
  {
   "cell_type": "markdown",
   "metadata": {},
   "source": [
    "Population Variance and standard deviation\n",
    "---\n",
    "**Variance** = Average of squared deviations of values from\n",
    "the mean \n",
    "\n",
    "**Standard Deviation** = square root of the Variance\n",
    "\n",
    "\\begin{exercise}\n",
    "Compute the variance and standard deviation of 'mpg' data using the R functions `var` and `sd` and manually using the formulas.\n",
    "\n",
    "\\end{exercise}\n",
    "\n"
   ]
  },
  {
   "cell_type": "code",
   "execution_count": 81,
   "metadata": {},
   "outputs": [
    {
     "name": "stdout",
     "output_type": "stream",
     "text": [
      "Variance: "
     ]
    },
    {
     "data": {
      "text/html": [
       "36.3241028225806"
      ],
      "text/latex": [
       "36.3241028225806"
      ],
      "text/markdown": [
       "36.3241028225806"
      ],
      "text/plain": [
       "[1] 36.3241"
      ]
     },
     "metadata": {},
     "output_type": "display_data"
    },
    {
     "name": "stdout",
     "output_type": "stream",
     "text": [
      "Standard Deviation: "
     ]
    },
    {
     "data": {
      "text/html": [
       "6.0269480520891"
      ],
      "text/latex": [
       "6.0269480520891"
      ],
      "text/markdown": [
       "6.0269480520891"
      ],
      "text/plain": [
       "[1] 6.026948"
      ]
     },
     "metadata": {},
     "output_type": "display_data"
    }
   ],
   "source": [
    "#your code here\n",
    "cat(\"Variance: \")\n",
    "var(data$mpg)\n",
    "cat(\"Standard Deviation: \")\n",
    "sd(data$mpg)"
   ]
  },
  {
   "cell_type": "markdown",
   "metadata": {},
   "source": [
    "Chebyshev’s Theorem\n",
    "---\n",
    "For any population with mean  $\\mu$ and \n",
    "standard deviation  $\\sigma$ , and  $k > 1$ , the\n",
    "percentage of observations that fall within\n",
    "the interval\n",
    "$$\n",
    "\\mu \\pm k \\sigma\n",
    "$$\n",
    "is **at least**\n",
    "\n",
    "$$\n",
    "100\\left[1-\\left(1 / \\mathrm{k}^{2}\\right)\\right] \\%\n",
    "$$\n",
    "\n",
    "Regardless of how the data are distributed, at least $\\left(1-1 / \\mathrm{k}^{2}\\right)$ of the values will fall within $\\mathrm{k}$ standard deviations of the mean $($ for $\\mathrm{k}>1)$\n",
    "\n",
    "example\n",
    "---\n",
    "$$\n",
    "\\begin{array}{l}\n",
    "\\left(1-1 / 2^{2}\\right)=75 \\% \\ldots \\ldots \\ldots k=2 \\; (\\mu \\pm 2 \\sigma) \\\\\n",
    "\\left(1-1 / 3^{2}\\right)=89 \\% \\ldots \\ldots \\ldots \\mathrm{k}=3 \\; (\\mu \\pm 3 \\sigma)\n",
    "\\end{array}\n",
    "$$\n",
    "\n",
    "\\begin{exercise}\n",
    "Apply the Chebyshev's Theorem for k=1,2,3 and indicate the interval that  'mpg' data lie for different k. Use the Cheb function to compute the percentage of points of a given set of values that lie in the interval $$\n",
    "\\mu \\pm k \\sigma\n",
    "$$\n",
    "\n",
    "\\end{exercise}\n"
   ]
  },
  {
   "cell_type": "markdown",
   "metadata": {},
   "source": [
    "$\\mu$ for mpg : 20.09\n",
    "\n",
    "$\\sigma$ for mpg : 6.02\n",
    "\n",
    "For k = 1 :  $\\mu \\pm  \\sigma$ =  $20.09 \\pm  6.02$ => $100[1 - (1/1^2)]\\% = 0 \\%$\n",
    "\n",
    "For k = 2 : $\\mu \\pm  2\\sigma$ = $20.09 \\pm  2\\cdot6.02$ => $100[1 - (1/2^2)]\\% = 75\\%$\n",
    "\n",
    "For k = 3 : $\\mu \\pm  3\\sigma$ = $20.09 \\pm  3\\cdot6.02$ => $100[1 - (1/3^2)]\\% = 88\\%$\n"
   ]
  },
  {
   "cell_type": "code",
   "execution_count": 17,
   "metadata": {},
   "outputs": [
    {
     "data": {
      "text/html": [
       "<style>\n",
       ".list-inline {list-style: none; margin:0; padding: 0}\n",
       ".list-inline>li {display: inline-block}\n",
       ".list-inline>li:not(:last-child)::after {content: \"\\00b7\"; padding: 0 .5ex}\n",
       "</style>\n",
       "<ol class=list-inline><li>0</li><li>0.75</li><li>0.888888888888889</li></ol>\n"
      ],
      "text/latex": [
       "\\begin{enumerate*}\n",
       "\\item 0\n",
       "\\item 0.75\n",
       "\\item 0.888888888888889\n",
       "\\end{enumerate*}\n"
      ],
      "text/markdown": [
       "1. 0\n",
       "2. 0.75\n",
       "3. 0.888888888888889\n",
       "\n",
       "\n"
      ],
      "text/plain": [
       "[1] 0.0000000 0.7500000 0.8888889"
      ]
     },
     "metadata": {},
     "output_type": "display_data"
    }
   ],
   "source": [
    "k <- seq(1:3)\n",
    "Cheb <- sapply(k, function(k) 1-1/k^2) \n",
    "Cheb"
   ]
  },
  {
   "cell_type": "markdown",
   "metadata": {},
   "source": [
    "Coefficient of Variation\n",
    "---\n",
    "\n",
    "- Measures relative variation\n",
    "- Always in percentage (%)\n",
    "- Shows variation relative to mean\n",
    "- Can be used to compare two or more sets of data measured in different units \n",
    "\n",
    "$$\n",
    "\\mathrm{CV}=\\left(\\frac{\\mathrm{s}}{\\overline{\\mathrm{x}}}\\right) \\cdot 100 \\%\n",
    "$$\n",
    "\n",
    "where \n",
    "\n",
    "$s$ is standard deviation and $\\bar x$ is the mean value of the sample\n",
    "\n",
    "\\begin{exercise}\n",
    "Compute the coefficient of variation for 'mpg' data\n",
    "\n",
    "\\end{exercise}\n"
   ]
  },
  {
   "cell_type": "code",
   "execution_count": 94,
   "metadata": {},
   "outputs": [
    {
     "name": "stdout",
     "output_type": "stream",
     "text": [
      "Coefficient of Variation: 29.99881 %"
     ]
    }
   ],
   "source": [
    "#your code here\n",
    "standard_deviation_mpg = sd(data$mpg)\n",
    "mean_mpg = mean(data$mpg)\n",
    "cv = (standard_deviation_mpg/mean_mpg)*100\n",
    "cat(\"Coefficient of Variation: \")\n",
    "cat(cv)\n",
    "cat(\" %\")"
   ]
  },
  {
   "cell_type": "markdown",
   "metadata": {},
   "source": [
    "\\begin{exercise}\n",
    "Compare the results obtain above using the R function `summary`. Do they match?\n",
    "\n",
    "\\end{exercise}\n"
   ]
  },
  {
   "cell_type": "code",
   "execution_count": 95,
   "metadata": {},
   "outputs": [
    {
     "data": {
      "text/plain": [
       "   Min. 1st Qu.  Median    Mean 3rd Qu.    Max. \n",
       "  10.40   15.43   19.20   20.09   22.80   33.90 "
      ]
     },
     "metadata": {},
     "output_type": "display_data"
    }
   ],
   "source": [
    "#your code here\n",
    "summary(data$mpg)"
   ]
  },
  {
   "cell_type": "markdown",
   "metadata": {},
   "source": [
    "Yes the summary matches my calculations"
   ]
  },
  {
   "cell_type": "markdown",
   "metadata": {},
   "source": [
    "The Sample Covariance\n",
    "---\n",
    "- The covariance measures the strength of the linear relationship between two variables\n",
    "- The population covariance:\n",
    "\n",
    "$$\n",
    "\\operatorname{Cov}(x, y)=\\sigma_{x y}=\\frac{\\sum_{i=1}^{N}\\left(x_{i}-\\mu_{x}\\right)\\left(y_{i}-\\mu_{y}\\right)}{N}\n",
    "$$\n",
    "\n",
    "- The sample covariance:\n",
    "\n",
    "$$\n",
    "\\operatorname{Cov}(x, y)=s_{x y}=\\frac{\\sum_{i=1}^{n}\\left(x_{i}-\\bar{x}\\right)\\left(y_{i}-\\bar{y}\\right)}{n-1}\n",
    "$$\n",
    "\n",
    "Coefficient of Correlation\n",
    "---\n",
    "- Measures the relative strength of the linear relationship  between two variables\n",
    "\n",
    "- Population correlation coefficient:\n",
    "$$\n",
    "\\rho=\\frac{\\operatorname{Cov}(\\mathrm{x}, \\mathrm{y})}{\\sigma_{\\mathrm{x}} \\sigma_{\\mathrm{y}}}\n",
    "$$\n",
    "\n",
    "where $\\sigma_x$ and $\\sigma_y$ are the standard deviations of the random variables x and y in the population.\n",
    "\n",
    "- Sample correlation coefficient:\n",
    "$$\n",
    "r=\\frac{\\operatorname{Cov}(x, y)}{s_{x} s_{y}}\n",
    "$$\n",
    "\n",
    "where $s_x$ and $s_y$ are the standard deviations of the random variables x and y in sample."
   ]
  },
  {
   "cell_type": "markdown",
   "metadata": {},
   "source": [
    "Features of Correlation Coefficient, r\n",
    "---\n",
    "\n",
    "- Unit free\n",
    "- Ranges between –1 and 1\n",
    "- The closer to –1, the stronger the negative linear  relationship\n",
    "- The closer to 1, the stronger the positive linear relationship\n",
    "- The closer to 0, the weaker any positive linear relationship\n",
    "\n",
    "\\begin{exercise}\n",
    "Find the correlation coefficient of 'wt' and 'mpg' in the given dataset using the R function `cov`. what do you conclude about the relation of the two variables?\n",
    "\\end{exercise}\n"
   ]
  },
  {
   "cell_type": "code",
   "execution_count": 100,
   "metadata": {},
   "outputs": [
    {
     "data": {
      "text/html": [
       "-0.867659376517228"
      ],
      "text/latex": [
       "-0.867659376517228"
      ],
      "text/markdown": [
       "-0.867659376517228"
      ],
      "text/plain": [
       "[1] -0.8676594"
      ]
     },
     "metadata": {},
     "output_type": "display_data"
    }
   ],
   "source": [
    "#your code here\n",
    "standard_deviation_wt = sd(data$wt)\n",
    "standard_deviation_mpg = sd(data$mpg)\n",
    "cov_wt_mpg = cov(data$wt,data$mpg)\n",
    "corre_coeff = cov_wt_mpg/(standard_deviation_wt*standard_deviation_mpg)\n",
    "corre_coeff"
   ]
  },
  {
   "cell_type": "markdown",
   "metadata": {},
   "source": [
    "Because the correlation coefficient is close to -1 the two columns have a strong negative linear relationship."
   ]
  },
  {
   "cell_type": "markdown",
   "metadata": {},
   "source": [
    "END OF QUIZ 1\n",
    "---"
   ]
  },
  {
   "cell_type": "markdown",
   "metadata": {},
   "source": [
    "How to visualize the relations of variables in a data set\n",
    "---"
   ]
  },
  {
   "cell_type": "code",
   "execution_count": 21,
   "metadata": {},
   "outputs": [
    {
     "data": {
      "text/html": [
       "<table>\n",
       "<caption>A matrix: 11 × 11 of type dbl</caption>\n",
       "<thead>\n",
       "\t<tr><th></th><th scope=col>mpg</th><th scope=col>cyl</th><th scope=col>disp</th><th scope=col>hp</th><th scope=col>drat</th><th scope=col>wt</th><th scope=col>qsec</th><th scope=col>vs</th><th scope=col>am</th><th scope=col>gear</th><th scope=col>carb</th></tr>\n",
       "</thead>\n",
       "<tbody>\n",
       "\t<tr><th scope=row>mpg</th><td> 1.00</td><td>-0.85</td><td>-0.85</td><td>-0.78</td><td> 0.68</td><td>-0.87</td><td> 0.42</td><td> 0.66</td><td> 0.60</td><td> 0.48</td><td>-0.55</td></tr>\n",
       "\t<tr><th scope=row>cyl</th><td>-0.85</td><td> 1.00</td><td> 0.90</td><td> 0.83</td><td>-0.70</td><td> 0.78</td><td>-0.59</td><td>-0.81</td><td>-0.52</td><td>-0.49</td><td> 0.53</td></tr>\n",
       "\t<tr><th scope=row>disp</th><td>-0.85</td><td> 0.90</td><td> 1.00</td><td> 0.79</td><td>-0.71</td><td> 0.89</td><td>-0.43</td><td>-0.71</td><td>-0.59</td><td>-0.56</td><td> 0.39</td></tr>\n",
       "\t<tr><th scope=row>hp</th><td>-0.78</td><td> 0.83</td><td> 0.79</td><td> 1.00</td><td>-0.45</td><td> 0.66</td><td>-0.71</td><td>-0.72</td><td>-0.24</td><td>-0.13</td><td> 0.75</td></tr>\n",
       "\t<tr><th scope=row>drat</th><td> 0.68</td><td>-0.70</td><td>-0.71</td><td>-0.45</td><td> 1.00</td><td>-0.71</td><td> 0.09</td><td> 0.44</td><td> 0.71</td><td> 0.70</td><td>-0.09</td></tr>\n",
       "\t<tr><th scope=row>wt</th><td>-0.87</td><td> 0.78</td><td> 0.89</td><td> 0.66</td><td>-0.71</td><td> 1.00</td><td>-0.17</td><td>-0.55</td><td>-0.69</td><td>-0.58</td><td> 0.43</td></tr>\n",
       "\t<tr><th scope=row>qsec</th><td> 0.42</td><td>-0.59</td><td>-0.43</td><td>-0.71</td><td> 0.09</td><td>-0.17</td><td> 1.00</td><td> 0.74</td><td>-0.23</td><td>-0.21</td><td>-0.66</td></tr>\n",
       "\t<tr><th scope=row>vs</th><td> 0.66</td><td>-0.81</td><td>-0.71</td><td>-0.72</td><td> 0.44</td><td>-0.55</td><td> 0.74</td><td> 1.00</td><td> 0.17</td><td> 0.21</td><td>-0.57</td></tr>\n",
       "\t<tr><th scope=row>am</th><td> 0.60</td><td>-0.52</td><td>-0.59</td><td>-0.24</td><td> 0.71</td><td>-0.69</td><td>-0.23</td><td> 0.17</td><td> 1.00</td><td> 0.79</td><td> 0.06</td></tr>\n",
       "\t<tr><th scope=row>gear</th><td> 0.48</td><td>-0.49</td><td>-0.56</td><td>-0.13</td><td> 0.70</td><td>-0.58</td><td>-0.21</td><td> 0.21</td><td> 0.79</td><td> 1.00</td><td> 0.27</td></tr>\n",
       "\t<tr><th scope=row>carb</th><td>-0.55</td><td> 0.53</td><td> 0.39</td><td> 0.75</td><td>-0.09</td><td> 0.43</td><td>-0.66</td><td>-0.57</td><td> 0.06</td><td> 0.27</td><td> 1.00</td></tr>\n",
       "</tbody>\n",
       "</table>\n"
      ],
      "text/latex": [
       "A matrix: 11 × 11 of type dbl\n",
       "\\begin{tabular}{r|lllllllllll}\n",
       "  & mpg & cyl & disp & hp & drat & wt & qsec & vs & am & gear & carb\\\\\n",
       "\\hline\n",
       "\tmpg &  1.00 & -0.85 & -0.85 & -0.78 &  0.68 & -0.87 &  0.42 &  0.66 &  0.60 &  0.48 & -0.55\\\\\n",
       "\tcyl & -0.85 &  1.00 &  0.90 &  0.83 & -0.70 &  0.78 & -0.59 & -0.81 & -0.52 & -0.49 &  0.53\\\\\n",
       "\tdisp & -0.85 &  0.90 &  1.00 &  0.79 & -0.71 &  0.89 & -0.43 & -0.71 & -0.59 & -0.56 &  0.39\\\\\n",
       "\thp & -0.78 &  0.83 &  0.79 &  1.00 & -0.45 &  0.66 & -0.71 & -0.72 & -0.24 & -0.13 &  0.75\\\\\n",
       "\tdrat &  0.68 & -0.70 & -0.71 & -0.45 &  1.00 & -0.71 &  0.09 &  0.44 &  0.71 &  0.70 & -0.09\\\\\n",
       "\twt & -0.87 &  0.78 &  0.89 &  0.66 & -0.71 &  1.00 & -0.17 & -0.55 & -0.69 & -0.58 &  0.43\\\\\n",
       "\tqsec &  0.42 & -0.59 & -0.43 & -0.71 &  0.09 & -0.17 &  1.00 &  0.74 & -0.23 & -0.21 & -0.66\\\\\n",
       "\tvs &  0.66 & -0.81 & -0.71 & -0.72 &  0.44 & -0.55 &  0.74 &  1.00 &  0.17 &  0.21 & -0.57\\\\\n",
       "\tam &  0.60 & -0.52 & -0.59 & -0.24 &  0.71 & -0.69 & -0.23 &  0.17 &  1.00 &  0.79 &  0.06\\\\\n",
       "\tgear &  0.48 & -0.49 & -0.56 & -0.13 &  0.70 & -0.58 & -0.21 &  0.21 &  0.79 &  1.00 &  0.27\\\\\n",
       "\tcarb & -0.55 &  0.53 &  0.39 &  0.75 & -0.09 &  0.43 & -0.66 & -0.57 &  0.06 &  0.27 &  1.00\\\\\n",
       "\\end{tabular}\n"
      ],
      "text/markdown": [
       "\n",
       "A matrix: 11 × 11 of type dbl\n",
       "\n",
       "| <!--/--> | mpg | cyl | disp | hp | drat | wt | qsec | vs | am | gear | carb |\n",
       "|---|---|---|---|---|---|---|---|---|---|---|---|\n",
       "| mpg |  1.00 | -0.85 | -0.85 | -0.78 |  0.68 | -0.87 |  0.42 |  0.66 |  0.60 |  0.48 | -0.55 |\n",
       "| cyl | -0.85 |  1.00 |  0.90 |  0.83 | -0.70 |  0.78 | -0.59 | -0.81 | -0.52 | -0.49 |  0.53 |\n",
       "| disp | -0.85 |  0.90 |  1.00 |  0.79 | -0.71 |  0.89 | -0.43 | -0.71 | -0.59 | -0.56 |  0.39 |\n",
       "| hp | -0.78 |  0.83 |  0.79 |  1.00 | -0.45 |  0.66 | -0.71 | -0.72 | -0.24 | -0.13 |  0.75 |\n",
       "| drat |  0.68 | -0.70 | -0.71 | -0.45 |  1.00 | -0.71 |  0.09 |  0.44 |  0.71 |  0.70 | -0.09 |\n",
       "| wt | -0.87 |  0.78 |  0.89 |  0.66 | -0.71 |  1.00 | -0.17 | -0.55 | -0.69 | -0.58 |  0.43 |\n",
       "| qsec |  0.42 | -0.59 | -0.43 | -0.71 |  0.09 | -0.17 |  1.00 |  0.74 | -0.23 | -0.21 | -0.66 |\n",
       "| vs |  0.66 | -0.81 | -0.71 | -0.72 |  0.44 | -0.55 |  0.74 |  1.00 |  0.17 |  0.21 | -0.57 |\n",
       "| am |  0.60 | -0.52 | -0.59 | -0.24 |  0.71 | -0.69 | -0.23 |  0.17 |  1.00 |  0.79 |  0.06 |\n",
       "| gear |  0.48 | -0.49 | -0.56 | -0.13 |  0.70 | -0.58 | -0.21 |  0.21 |  0.79 |  1.00 |  0.27 |\n",
       "| carb | -0.55 |  0.53 |  0.39 |  0.75 | -0.09 |  0.43 | -0.66 | -0.57 |  0.06 |  0.27 |  1.00 |\n",
       "\n"
      ],
      "text/plain": [
       "     mpg   cyl   disp  hp    drat  wt    qsec  vs    am    gear  carb \n",
       "mpg   1.00 -0.85 -0.85 -0.78  0.68 -0.87  0.42  0.66  0.60  0.48 -0.55\n",
       "cyl  -0.85  1.00  0.90  0.83 -0.70  0.78 -0.59 -0.81 -0.52 -0.49  0.53\n",
       "disp -0.85  0.90  1.00  0.79 -0.71  0.89 -0.43 -0.71 -0.59 -0.56  0.39\n",
       "hp   -0.78  0.83  0.79  1.00 -0.45  0.66 -0.71 -0.72 -0.24 -0.13  0.75\n",
       "drat  0.68 -0.70 -0.71 -0.45  1.00 -0.71  0.09  0.44  0.71  0.70 -0.09\n",
       "wt   -0.87  0.78  0.89  0.66 -0.71  1.00 -0.17 -0.55 -0.69 -0.58  0.43\n",
       "qsec  0.42 -0.59 -0.43 -0.71  0.09 -0.17  1.00  0.74 -0.23 -0.21 -0.66\n",
       "vs    0.66 -0.81 -0.71 -0.72  0.44 -0.55  0.74  1.00  0.17  0.21 -0.57\n",
       "am    0.60 -0.52 -0.59 -0.24  0.71 -0.69 -0.23  0.17  1.00  0.79  0.06\n",
       "gear  0.48 -0.49 -0.56 -0.13  0.70 -0.58 -0.21  0.21  0.79  1.00  0.27\n",
       "carb -0.55  0.53  0.39  0.75 -0.09  0.43 -0.66 -0.57  0.06  0.27  1.00"
      ]
     },
     "metadata": {},
     "output_type": "display_data"
    }
   ],
   "source": [
    "# select numeric variables\n",
    "df <- dplyr::select_if(data, is.numeric)\n",
    "# calulate the correlations\n",
    "r <- cor(df, use=\"complete.obs\")\n",
    "round(r,2)"
   ]
  },
  {
   "cell_type": "code",
   "execution_count": 22,
   "metadata": {},
   "outputs": [
    {
     "name": "stderr",
     "output_type": "stream",
     "text": [
      "Installing package into 'C:/Users/IliasAlexis/Documents/R/win-library/4.0'\n",
      "(as 'lib' is unspecified)\n",
      "\n"
     ]
    },
    {
     "name": "stdout",
     "output_type": "stream",
     "text": [
      "package 'ggcorrplot' successfully unpacked and MD5 sums checked\n",
      "\n",
      "The downloaded binary packages are in\n",
      "\tC:\\Users\\IliasAlexis\\AppData\\Local\\Temp\\RtmpwzWb5j\\downloaded_packages\n"
     ]
    }
   ],
   "source": [
    "install.packages(\"ggcorrplot\")"
   ]
  },
  {
   "cell_type": "code",
   "execution_count": 23,
   "metadata": {},
   "outputs": [
    {
     "name": "stderr",
     "output_type": "stream",
     "text": [
      "\n",
      "Attaching package: 'ggplot2'\n",
      "\n",
      "\n",
      "The following object is masked from 'mtcars':\n",
      "\n",
      "    mpg\n",
      "\n",
      "\n",
      "Warning message:\n",
      "\"package 'ggcorrplot' was built under R version 4.0.3\"\n"
     ]
    },
    {
     "data": {
      "image/png": "[encoded data removed]",
      "text/plain": [
       "plot without title"
      ]
     },
     "metadata": {
      "image/png": {
       "height": 420,
       "width": 420
      }
     },
     "output_type": "display_data"
    }
   ],
   "source": [
    "library(ggplot2)\n",
    "library(ggcorrplot)\n",
    "ggcorrplot(r)"
   ]
  },
  {
   "cell_type": "code",
   "execution_count": 24,
   "metadata": {},
   "outputs": [
    {
     "data": {
      "image/png": "[encoded data removed]",
      "text/plain": [
       "plot without title"
      ]
     },
     "metadata": {
      "image/png": {
       "height": 420,
       "width": 420
      }
     },
     "output_type": "display_data"
    }
   ],
   "source": [
    "ggcorrplot(r, \n",
    "           hc.order = TRUE, \n",
    "           type = \"lower\",\n",
    "           lab = TRUE)"
   ]
  },
  {
   "cell_type": "code",
   "execution_count": 25,
   "metadata": {},
   "outputs": [
    {
     "data": {
      "image/png": "[encoded data removed]",
      "text/plain": [
       "plot without title"
      ]
     },
     "metadata": {
      "image/png": {
       "height": 420,
       "width": 420
      }
     },
     "output_type": "display_data"
    }
   ],
   "source": [
    "# Basic Scatterplot Matrix\n",
    "pairs(~mpg+disp+drat+wt,data=mtcars,\n",
    "   main=\"Simple Scatterplot Matrix\")"
   ]
  },
  {
   "cell_type": "code",
   "execution_count": 26,
   "metadata": {},
   "outputs": [
    {
     "name": "stderr",
     "output_type": "stream",
     "text": [
      "Installing package into 'C:/Users/IliasAlexis/Documents/R/win-library/4.0'\n",
      "(as 'lib' is unspecified)\n",
      "\n"
     ]
    },
    {
     "name": "stdout",
     "output_type": "stream",
     "text": [
      "package 'gclus' successfully unpacked and MD5 sums checked\n",
      "\n",
      "The downloaded binary packages are in\n",
      "\tC:\\Users\\IliasAlexis\\AppData\\Local\\Temp\\RtmpwzWb5j\\downloaded_packages\n"
     ]
    }
   ],
   "source": [
    "install.packages('gclus')"
   ]
  },
  {
   "cell_type": "code",
   "execution_count": 27,
   "metadata": {},
   "outputs": [
    {
     "name": "stderr",
     "output_type": "stream",
     "text": [
      "Warning message:\n",
      "\"package 'gclus' was built under R version 4.0.3\"\n",
      "Loading required package: cluster\n",
      "\n"
     ]
    },
    {
     "data": {
      "image/png": "[encoded data removed]",
      "text/plain": [
       "plot without title"
      ]
     },
     "metadata": {
      "image/png": {
       "height": 420,
       "width": 420
      }
     },
     "output_type": "display_data"
    }
   ],
   "source": [
    "# Scatterplot Matrices from the glus Package\n",
    "library(gclus)\n",
    "dta <- mtcars[c(1,3,5,6)] # get data\n",
    "dta.r <- abs(cor(dta)) # get correlations\n",
    "dta.col <- dmat.color(dta.r) # get colors\n",
    "# reorder variables so those with highest correlation\n",
    "# are closest to the diagonal\n",
    "dta.o <- order.single(dta.r)\n",
    "cpairs(dta, dta.o, panel.colors=dta.col, gap=.5,\n",
    "main=\"Variables Ordered and Colored by Correlation\" )\n",
    "\n"
   ]
  }
 ],
 "metadata": {
  "@webio": {
   "lastCommId": null,
   "lastKernelId": null
  },
  "kernelspec": {
   "display_name": "R",
   "language": "R",
   "name": "ir"
  },
  "language_info": {
   "codemirror_mode": "r",
   "file_extension": ".r",
   "mimetype": "text/x-r-source",
   "name": "R",
   "pygments_lexer": "r",
   "version": "4.0.3"
  },
  "latex_envs": {
   "LaTeX_envs_menu_present": true,
   "autoclose": false,
   "autocomplete": true,
   "bibliofile": "biblio.bib",
   "cite_by": "apalike",
   "current_citInitial": 1,
   "eqLabelWithNumbers": true,
   "eqNumInitial": 1,
   "hotkeys": {
    "equation": "Ctrl-E",
    "itemize": "Ctrl-I"
   },
   "labels_anchors": false,
   "latex_user_defs": false,
   "report_style_numbering": false,
   "user_envs_cfg": false
  },
  "nbTranslate": {
   "displayLangs": [
    "*"
   ],
   "hotkey": "alt-t",
   "langInMainMenu": true,
   "sourceLang": "en",
   "targetLang": "fr",
   "useGoogleTranslate": true
  },
  "toc": {
   "base_numbering": 1,
   "nav_menu": {},
   "number_sections": true,
   "sideBar": true,
   "skip_h1_title": false,
   "title_cell": "Table of Contents",
   "title_sidebar": "Contents",
   "toc_cell": false,
   "toc_position": {},
   "toc_section_display": true,
   "toc_window_display": false
  },
  "varInspector": {
   "cols": {
    "lenName": 16,
    "lenType": 16,
    "lenVar": 40
   },
   "kernels_config": {
    "python": {
     "delete_cmd_postfix": "",
     "delete_cmd_prefix": "del ",
     "library": "var_list.py",
     "varRefreshCmd": "print(var_dic_list())"
    },
    "r": {
     "delete_cmd_postfix": ") ",
     "delete_cmd_prefix": "rm(",
     "library": "var_list.r",
     "varRefreshCmd": "cat(var_dic_list()) "
    }
   },
   "types_to_exclude": [
    "module",
    "function",
    "builtin_function_or_method",
    "instance",
    "_Feature"
   ],
   "window_display": false
  }
 },
 "nbformat": 4,
 "nbformat_minor": 4
}
