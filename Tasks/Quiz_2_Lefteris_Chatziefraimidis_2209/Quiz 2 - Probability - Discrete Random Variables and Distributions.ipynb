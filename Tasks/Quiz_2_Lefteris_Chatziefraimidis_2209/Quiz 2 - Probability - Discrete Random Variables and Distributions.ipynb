{
 "cells": [
  {
   "cell_type": "markdown",
   "metadata": {},
   "source": [
    "# Lefteris Chatziefraimidis\n",
    "## AEM: 2209"
   ]
  },
  {
   "cell_type": "markdown",
   "metadata": {},
   "source": [
    "# Quiz 2 - Probability - Discrete Random Variables and Distributions"
   ]
  },
  {
   "cell_type": "markdown",
   "metadata": {},
   "source": [
    "## Part I: Probability"
   ]
  },
  {
   "cell_type": "markdown",
   "metadata": {},
   "source": [
    "\\begin{exercise} \n",
    "(20 = 10 10 pts.) \n",
    "\n",
    "(a) Suppose we roll two 6 -sided die. Consider the events:\n",
    "$A=$ 'odd on die 1 , $\\quad B=$ 'odd on die 2 ' $\\quad C=$ 'odd sum ${ }$\n",
    "Are $A, B,$ and $C$ pairwise independent? Are they mutually independent?\n",
    "\n",
    "(b) For families with $n$ children, the events 'the family has children of both sexes' and 'there is at most one girl' are independent. What is $n ?$\n",
    "\\end{exercise}\n",
    "\n",
    "**Hint**: \n",
    "\n",
    "1) Three events $A, B,$ and $C$ are pairwise independent if each pair is independent. They are mutually independent if they are pairwise independent and in addition\n",
    "$$ \n",
    "P(A \\cap B \\cap C)=P(A) P(B) P(C)\n",
    "$$\n",
    "\n",
    "2) If you let $X$ be the number of girls then we have \n",
    "$$\n",
    "P(A)=P(1 \\leq X \\leq n-1) \n",
    "$$\n",
    "$$\n",
    "P(B)=P(X \\leq 1) \n",
    "$$\n",
    "$$\n",
    "P(A \\cap B)=P(X=1)\n",
    "$$\n",
    "Since $X \\sim \\operatorname{binomial}(n, 1 / 2)$ compute the above probabilities.\n"
   ]
  },
  {
   "cell_type": "markdown",
   "metadata": {},
   "source": [
    "**Answer** \n",
    "\n",
    "a)\n",
    "\n",
    "$\\Omega = \\{1,2,3,4,5,6\\}$ \n",
    "\n",
    "$ A = \\{1,3,5\\}$\n",
    "$ B = \\{1,3,5\\}$\n",
    "$ C = \\{3,5,7,9,11\\}$\n",
    "\n",
    "In probability, two events are independent if the incidence of one event does not affect the probability of the other event. A,B are independent because the don't affect each other. However, C is independent to A and B because A and B affect the incidence of the C event. Lastly, none of these event are mutually independent because the have common things. For example A has 3,5 and that appears also to B and C.\n"
   ]
  },
  {
   "cell_type": "markdown",
   "metadata": {},
   "source": [
    "\\begin{exercise}\n",
    "(15 pts.) **R simulation**. Suppose there is an experimental medical treatment for a cancer that if untreated is nearly always fatal within $12-15$ months. The doctors enroll 5000 patients in a study in which each patient is given the treatment and followed for 5 years. Let $X$ be the length of time a random patient given the treatment survives. (If a patient is still alive at the end of the study, then $X=5$ for this patient.)\n",
    "\n",
    "(a) Compute the mean and standard deviation of the data in years\n",
    "\n",
    "(b) Plot a frequency histogram of the data. Set the histogram so each bin has width 0.1 years. \n",
    "\n",
    "(c) Using your answers in (a) and (b), approximate how many live after the mean and what percent are still alive after 5 years?\n",
    "\\end{exercise}\n",
    "\n",
    "The following code loads the data. You must have the r code `problemdata.r` in the same directory with this notebook.\n"
   ]
  },
  {
   "cell_type": "code",
   "execution_count": 25,
   "metadata": {},
   "outputs": [
    {
     "name": "stdout",
     "output_type": "stream",
     "text": [
      "Mean: 2.554528\n",
      "Standard Deviation: 2.07408\n"
     ]
    },
    {
     "data": {
      "text/html": [
       "5000"
      ],
      "text/latex": [
       "5000"
      ],
      "text/markdown": [
       "5000"
      ],
      "text/plain": [
       "[1] 5000"
      ]
     },
     "metadata": {},
     "output_type": "display_data"
    },
    {
     "name": "stdout",
     "output_type": "stream",
     "text": [
      "How many live after the mean: 2477 Percent: 0.4954%\n",
      "How many live after 5 years: 997 Percent: 0.1994%\n"
     ]
    },
    {
     "data": {
      "image/png": "[encoded data removed]",
      "text/plain": [
       "plot without title"
      ]
     },
     "metadata": {
      "image/png": {
       "height": 420,
       "width": 420
      }
     },
     "output_type": "display_data"
    }
   ],
   "source": [
    "# your code for (a) and (b)\n",
    "source('problemdata.r')\n",
    "years = getdata()\n",
    "\n",
    "# Compute the mean and standard deviation of the data in years\n",
    "cat(\"Mean: \")\n",
    "cat(mean(years))\n",
    "cat(\"\\n\")\n",
    "cat(\"Standard Deviation: \")\n",
    "cat(sd(years))\n",
    "cat(\"\\n\")\n",
    "\n",
    "# Plot a frequency histogram of the data. Set the histogram so each bin has width 0.1 years.\n",
    "library(ggplot2)    \n",
    "ggplot() + aes(years)+ geom_histogram(binwidth=0.1, colour=\"black\", fill=\"white\")\n",
    "\n",
    "# Using your answers in (a) and (b), approximate how many live after the mean and what percent are still alive after 5 years?\n",
    "total = length(years)\n",
    "total\n",
    "\n",
    "# after the mean\n",
    "after_the_mean = years[years > mean(years)]\n",
    "\n",
    "percent_after_the_mean = length(after_the_mean)/total\n",
    "cat(\"How many live after the mean: \")\n",
    "cat(length(after_the_mean))\n",
    "cat(\" Percent: \")\n",
    "cat(percent_after_the_mean)\n",
    "cat(\"%\\n\")\n",
    "\n",
    "#after five years\n",
    "after_five_years = years[years >= 5]\n",
    "percent_after_five_years = length(after_five_years)/total\n",
    "cat(\"How many live after 5 years: \")\n",
    "cat(length(after_five_years))\n",
    "cat(\" Percent: \")\n",
    "cat(percent_after_five_years)\n",
    "cat(\"%\\n\")"
   ]
  },
  {
   "cell_type": "markdown",
   "metadata": {},
   "source": [
    "\\begin{exercise}\n",
    "(10 pts) Of the cars on a used car lot, $70\\%$ have air \n",
    "conditioning (AC) and $40\\%$ have a CD player\n",
    "(CD).  $20\\%$ of the cars have both. What is the probability that a car has a CD\n",
    "player, given that it has AC ?\n",
    "\\end{exercise}\n"
   ]
  },
  {
   "cell_type": "markdown",
   "metadata": {},
   "source": [
    "Lets assume that\n",
    "\n",
    "A: have air conditioning (AC) \n",
    "B: have CD player \n",
    "\n",
    "$P(A) = 0.7$\n",
    "\n",
    "$P(B) = 0.4$\n",
    "\n",
    "$P(A\\cap B) = 0.2$\n",
    "\n",
    "$ P(B|A) = \\frac{P(A\\cap B)}{P(A)} = \\frac{0.2}{0.7} = 0.2857$"
   ]
  },
  {
   "cell_type": "markdown",
   "metadata": {},
   "source": [
    "\\begin{definition}\n",
    "ODDS: The odds in favor of a particular event are\n",
    "given by the ratio of the probability of the\n",
    "event divided by the probability of its complement  \n",
    "The odds in favor of A are\n",
    "\n",
    "$$\n",
    "\\text { odds }=\\frac{\\mathrm{P}(\\mathrm{A})}{1-\\mathrm{P}(\\mathrm{A})}=\\frac{\\mathrm{P}(\\mathrm{A})}{\\mathrm{P}(\\overline{\\mathrm{A}})}\n",
    "$$\n",
    "\n",
    "\\end{definition}\n",
    "\n",
    "\\begin{exercise}\n",
    "(5 pts) Calculate the probability of winning if the odds\n",
    "of winning are 5 to 1\n",
    "\\end{exercise}\n",
    "\n"
   ]
  },
  {
   "cell_type": "markdown",
   "metadata": {},
   "source": [
    "\n",
    "$$\n",
    "\\text { odds }=\\frac{\\mathrm{P}(\\mathrm{A})}{1-\\mathrm{P}(\\mathrm{A})}=\\frac{\\mathrm{P}(\\mathrm{A})}{\\mathrm{P}(\\overline{\\mathrm{A}})} = \\frac{5}{1}\n",
    "$$\n",
    "\n",
    "$$\n",
    "\\frac{P(A)}{P(\\bar{A})} = \\frac{5}{1}\n",
    "$$\n",
    "\n",
    "$$\n",
    "\\frac{P(A)}{1- P(A)} = \\frac{5}{1}\n",
    "$$\n",
    "\n",
    "$$\n",
    "P(A) = 5 - 5P(A)\n",
    "$$\n",
    "\n",
    "$$\n",
    "6P(A) = 5\n",
    "$$\n",
    "\n",
    "$$\n",
    "P(A) = \\frac{5}{6}\n",
    "$$\n",
    "\n",
    "\n",
    "Thus the probability of winning is $\\frac{5}{6}$ and losing is $\\frac{1}{6}$"
   ]
  },
  {
   "cell_type": "markdown",
   "metadata": {},
   "source": [
    "\\begin{definition}\n",
    "\n",
    "**Bayes’ Theorem-Rule**\n",
    "\n",
    "Bayes' theorem is a pillar of both probability and statistics. For two events $A$ and $B$ Bayes' theorem (also called Bayes' rule and Bayes' formula) says\n",
    "$$\n",
    "P(B \\mid A)=\\frac{P(A \\mid B) \\cdot P(B)}{P(A)}\n",
    "$$\n",
    "\n",
    "Comments: \n",
    "\n",
    "1. Bayes' rule tells us how to 'invert' conditional probabilities, i.e. to find $P(B \\mid A)$ from $P(A \\mid B)$\n",
    "2. In practice, $P(A)$ is often computed using the law of total probability.\n",
    "\n",
    "\n",
    "Note that $P(B)$ is called the **prior probability**, $P(A \\mid B)$ is called **posterior probabilities**, $P(B \\mid A)$ the **likelihood probability**, and $P(A)$ is called evidence.\n",
    "\\end{definition}\n",
    "\n",
    "\\begin{remark}\n",
    "**Bayes' Rule: Hypothesis and Data**\n",
    "If we consider a  disease to represent a specific hypothesis, and\n",
    "the symptoms to be some observed data then Bayes' rule becomes\n",
    "\n",
    "$$p(\\text {hypothesis} \\mid \\text { data })=\\frac{p(\\text { data } \\mid \\text { hypothesis }) \\times p(\\text { hypothesis })}{p(\\text { data })}$$\n",
    "\n",
    "where the word \"hypothesis\" should be interpreted as, \"hypothesis is true\". Specifically, the probability\n",
    "that the proposed hypothesis is true given some data that were actually\n",
    "observed is the posterior probability\n",
    "\n",
    "$$p(\\text{ hypothesis} \\mid \\text{  data })$$\n",
    "\n",
    "whereas the probability of observing the data given that the hypothesis\n",
    "is true is the likelihood\n",
    "$$p(\\text  {data} \\mid \\text{  hypothesis})$$\n",
    "\\end{remark}\n",
    "\n",
    "\\begin{example}\n",
    "**Doctor's perspective**\n",
    "Using the results of a survey, a doctor can calculate \n",
    "the proportion of patients diagnosed with _smallpox_ and _chickenpox_, and each patient's _symptoms_ (eg _spots_). Using these data, we might find that the probability that a patient has spots given that the patient has smallpox is $90 \\%$ or $0.9 .$ We can write this \n",
    "\n",
    "$$p(\\text{  symptoms are spots} \\mid \\text{ disease is smallpox})=0.9$$\n",
    "\n",
    "So, this short-hand statement should be read as\n",
    "\"the probability that the patient's symptoms are spots\n",
    "given that he has smallpox is $90 \\%$ or $0.9 \"$\n",
    "Thus, the probability of\n",
    "spots is said to be conditional on the disease under consideration. For\n",
    "this reason, such probabilities are known as _conditional probabilities_.\n",
    "\n",
    "Similarly, we might find that spots are observed in $80 \\%$ of patients who\n",
    "have chickenpox, which is written as\n",
    "\n",
    "$$p(\\text{ spots} \\mid \\text { chickenpox })=0.8$$\n",
    "\n",
    "Public health statistics inform us that the prevalence of **smallpox** in the general population is 0.001. This can be written as \n",
    "\n",
    "$$\n",
    "p(\\text { smallpox })=0.001\n",
    "$$\n",
    "\n",
    "Thus, according to Baye's rule we have \n",
    "\n",
    "$$\n",
    "p(\\text { smallpox } \\mid \\text { spots })=\\frac{p(\\text { spots } \\mid \\text { smallpox }) \\times p(\\text { smallpox })}{p(\\text { spots })}\n",
    "$$\n",
    "\n",
    "Thus,\n",
    "\n",
    "$$\n",
    "\\begin{aligned}\n",
    "p(\\text { smallpox } \\mid \\text { spots }) &=0.9 \\times 0.001 / 0.081 \\\\\n",
    "&=0.011\n",
    "\\end{aligned}\n",
    "$$\n",
    "\n",
    "which is the conditional probability that the patient has smallpox given\n",
    "that his symptoms are spots.\n",
    "\n",
    "\\end{example}\n",
    "\n"
   ]
  },
  {
   "cell_type": "code",
   "execution_count": 2,
   "metadata": {},
   "outputs": [
    {
     "name": "stdout",
     "output_type": "stream",
     "text": [
      "[1] \"pChickenpoxGSpots = 0.988\"\n"
     ]
    }
   ],
   "source": [
    "# likelihood =prob of spots given chickenpox\n",
    "pSpotsGChickenpox <- 0.8;\n",
    "# prior =prob of chickenpox\n",
    "pChickenpox <- 0.1;\n",
    "# marginal likelihood=prob of spots\n",
    "pSpots <- 0.081;\n",
    "# find posterior=prob of chickenpox given spots\n",
    "pChickenpoxGSpots <- pSpotsGChickenpox * pChickenpox / pSpots;\n",
    "#print\n",
    "s <-sprintf('pChickenpoxGSpots = %.3f', pChickenpoxGSpots);\n",
    "print(s)\n",
    "# Output:pChickenpoxGSpots=0.988"
   ]
  },
  {
   "cell_type": "markdown",
   "metadata": {},
   "source": [
    "\\begin{exercise}\n",
    "(10 pts) You might be interested in finding out a patient's probability of having liver disease if they are an alcoholic. \"Being an alcoholic\" is  litmus test for liver disease.\n",
    "\n",
    "Let $A$ is the event \"Patient has liver disease.\" Past data tells you that $10\\%$ of patients entering your clinic have liver disease. $P(A) = 0.10$.\n",
    "\n",
    "Let $B$ is the litmus test that \"Patient is an alcoholic.\" Five percent of the clinic's patients are alcoholics that is $P(B) = 0.05$.\n",
    "\n",
    "You  also know that among those patients diagnosed with liver disease, $7\\%$ are alcoholics. This is your $B|A$: the probability that a patient is alcoholic, given that they have liver disease, is $7\\%$.\n",
    "\n",
    "Use Bayes theorem to find the probability of a patient to have liver decease.  \n",
    "\\end{exercise}\n"
   ]
  },
  {
   "cell_type": "markdown",
   "metadata": {},
   "source": [
    "$$\n",
    "P(B \\mid A)=\\frac{P(A \\mid B) \\cdot P(B)}{P(A)}\n",
    "$$\n",
    "\n",
    "$$\n",
    "P(B \\mid A) P(A)=P(A \\mid B) \\cdot P(B)\n",
    "$$\n",
    "\n",
    "$$\n",
    "\\frac{P(B \\mid A) P(A)}{P(B)}=P(A \\mid B)\n",
    "$$\n",
    "\n",
    "$$\n",
    "P(A \\mid B)=\\frac{P(B \\mid A) P(A)}{P(B)}\n",
    "$$\n",
    "\n",
    "$$\n",
    "P(A \\mid B)=\\frac{0.07\\cdot 0.1}{0.05}\n",
    "$$\n",
    "\n",
    "$$\n",
    "P(A \\mid B)=0.14\n",
    "$$"
   ]
  },
  {
   "cell_type": "markdown",
   "metadata": {},
   "source": [
    "## Part II: Discrete random variables and Distributions"
   ]
  },
  {
   "cell_type": "markdown",
   "metadata": {},
   "source": [
    "###  Discrete random variables"
   ]
  },
  {
   "cell_type": "markdown",
   "metadata": {},
   "source": [
    "\\begin{exercise}\n",
    "(10 = 5 5 pts) Let E be the experiment of flipping a coin twice. \n",
    "\n",
    "(a) What is the sample space?\n",
    "\n",
    "(b) Define the random variable\n",
    "X = the number of heads. What are the numbers that X takes?\n",
    "\\end{exercise}\n"
   ]
  },
  {
   "cell_type": "markdown",
   "metadata": {},
   "source": [
    "a) \n",
    "\n",
    "S = {(T, T),(T, H),(H, T),(H, H)}\n",
    "\n",
    "b) \n",
    "\n",
    "X takens 0,1,2 as numbers\n",
    "\n",
    "Number of 0 heads with probability $\\frac{1}{4}$\n",
    "\n",
    "Number of 1 heads with probability $\\frac{2}{4}$\n",
    "\n",
    "Number of 2 heads with probability $\\frac{1}{4}$\n"
   ]
  },
  {
   "cell_type": "markdown",
   "metadata": {},
   "source": [
    "### Uniform (Discrete) Distribution\n",
    "\n",
    "\\begin{exercise}\n",
    "(10 pts)\n",
    "\n",
    "(a) What is the model of uniform distributions?\n",
    "\n",
    "(b) what is used for?\n",
    "\n",
    "(c) what are its parameters?\n",
    "\n",
    "(d) What is its mean and variance?\n",
    "\n",
    "\\end{exercise}\n"
   ]
  },
  {
   "cell_type": "markdown",
   "metadata": {},
   "source": [
    "a)\n",
    "\n",
    "The Uniform distribution is a continuous distribution bounded on both sides. Its density does not depend on the value of x.\n",
    "\n",
    "$f(x)={\\begin{cases}{\\frac {1}{b-a}}&\\mathrm {for} \\ a\\leq x\\leq b,\\\\[8pt]0&\\mathrm {for} \\ x<a\\ \\mathrm {or} \\ x>b\\end{cases}}$\n",
    "\n",
    "\n",
    "b)\n",
    "\n",
    "The uniform distribution is usually used when you want your results to range between two numbers.\n",
    "\n",
    "\n",
    "c)\n",
    "\n",
    "The bounds are defined by the parameters, a and b, which are the minimum and maximum values.\n",
    "\n",
    "\n",
    "d)\n",
    "\n",
    "Mean = $\\frac{1}{2}( a + b ) $\n",
    "\n",
    "Variance = $\\frac{1}{12}( b- a )^2 $"
   ]
  },
  {
   "cell_type": "markdown",
   "metadata": {},
   "source": [
    "\\begin{exercise}\n",
    "(15 = 5 5 5 pts)\n",
    "\n",
    "(a) Generate n=10 random numbers according to uniform distribution in the interval $[0,100]$ and plot a histogram\n",
    "\n",
    "(b) compute the mean and variance manually and computationally using the r functions of the above numbers. what do you observe? What do you observe if you increase n?\n",
    "\n",
    "(c) describe mathematically (latex) the pdf and cdf of the uniform distribution\n",
    "\n",
    "(d) Plot pdf and cdf for uniform distribution \n",
    "\n",
    "\\end{exercise}\n"
   ]
  },
  {
   "cell_type": "code",
   "execution_count": 81,
   "metadata": {},
   "outputs": [
    {
     "name": "stdout",
     "output_type": "stream",
     "text": [
      "Manual mean: "
     ]
    },
    {
     "data": {
      "text/html": [
       "49.1350176744163"
      ],
      "text/latex": [
       "49.1350176744163"
      ],
      "text/markdown": [
       "49.1350176744163"
      ],
      "text/plain": [
       "[1] 49.13502"
      ]
     },
     "metadata": {},
     "output_type": "display_data"
    },
    {
     "name": "stdout",
     "output_type": "stream",
     "text": [
      "Computationally mean: "
     ]
    },
    {
     "data": {
      "text/html": [
       "54.3161608534865"
      ],
      "text/latex": [
       "54.3161608534865"
      ],
      "text/markdown": [
       "54.3161608534865"
      ],
      "text/plain": [
       "[1] 54.31616"
      ]
     },
     "metadata": {},
     "output_type": "display_data"
    },
    {
     "name": "stdout",
     "output_type": "stream",
     "text": [
      "Computationally Variance: "
     ]
    },
    {
     "data": {
      "text/html": [
       "773.316563618394"
      ],
      "text/latex": [
       "773.316563618394"
      ],
      "text/markdown": [
       "773.316563618394"
      ],
      "text/plain": [
       "[1] 773.3166"
      ]
     },
     "metadata": {},
     "output_type": "display_data"
    },
    {
     "name": "stdout",
     "output_type": "stream",
     "text": [
      "Computationally Variance: "
     ]
    },
    {
     "data": {
      "text/html": [
       "1093.6348475783"
      ],
      "text/latex": [
       "1093.6348475783"
      ],
      "text/markdown": [
       "1093.6348475783"
      ],
      "text/plain": [
       "[1] 1093.635"
      ]
     },
     "metadata": {},
     "output_type": "display_data"
    },
    {
     "data": {
      "image/png": "[encoded data removed]",
      "text/plain": [
       "Plot with title “Histogram of sample”"
      ]
     },
     "metadata": {
      "image/png": {
       "height": 420,
       "width": 420
      }
     },
     "output_type": "display_data"
    },
    {
     "data": {
      "image/png": "[encoded data removed]",
      "text/plain": [
       "plot without title"
      ]
     },
     "metadata": {
      "image/png": {
       "height": 420,
       "width": 420
      }
     },
     "output_type": "display_data"
    },
    {
     "data": {
      "image/png": "[encoded data removed]",
      "text/plain": [
       "plot without title"
      ]
     },
     "metadata": {
      "image/png": {
       "height": 420,
       "width": 420
      }
     },
     "output_type": "display_data"
    }
   ],
   "source": [
    "# Generate n=10 random numbers according to uniform distribution in the interval  [0,100]  and plot a histogram\n",
    "sample = runif(10,0,100)\n",
    "#sample\n",
    "hist(sample)\n",
    "\n",
    "#compute the mean and variance manually and computationally using the r functions of the above numbers. what do you observe? What do you observe if you increase n?\n",
    "cat(\"Manual mean: \")\n",
    "a = sample[which.min(sample)]\n",
    "b = sample[which.max(sample)]\n",
    "man_mean = (a+b)/2\n",
    "man_mean\n",
    "\n",
    "cat(\"Computationally mean: \")\n",
    "mean(sample)\n",
    "\n",
    "cat(\"Computationally Variance: \")\n",
    "man_var = ((b-a)^2)/12\n",
    "man_var\n",
    "\n",
    "cat(\"Computationally Variance: \")\n",
    "var(sample)\n",
    "\n",
    "# If we increase the n then the manually variance and mean come more close to the mean and variance \n",
    "#that r functions calculates\n",
    "\n",
    "#Plot pdf and cdf for uniform distribution\n",
    "sample = sort(sample)\n",
    "pdf <- sample\n",
    "cdf <- cumsum(sample)\n",
    "\n",
    "library(ggplot2)\n",
    "df <- data.frame(x, pdf, cdf)\n",
    "ggplot(df, aes(x, pdf))+geom_line()\n",
    "ggplot(df, aes(x, cdf))+geom_line()\n"
   ]
  },
  {
   "cell_type": "markdown",
   "metadata": {},
   "source": [
    "CDF: $$f(x)={\\begin{cases}{\\frac {1}{b-a}}&\\mathrm {for} \\ a\\leq x\\leq b,\\\\[8pt]0&\\mathrm {for} \\ x<a\\ \\mathrm {or} \\ x>b\\end{cases}}$$\n",
    "\n",
    "\n",
    "PDF: \n",
    "\n",
    "$$F(x)={\\begin{cases}0&{\\text{for }}x<a\\\\[8pt]{\\frac {x-a}{b-a}}&{\\text{for }}a\\leq x\\leq b\\\\[8pt]1&{\\text{for }}x>b\\end{cases}}$$"
   ]
  },
  {
   "cell_type": "markdown",
   "metadata": {},
   "source": [
    "## Bernoulli Distributions\n",
    "\n",
    "\\begin{exercise}\n",
    "(10 pts)\n",
    "\n",
    "(a) What is the model of Bernoulli distributions?\n",
    "\n",
    "(b) what is used for?\n",
    "\n",
    "(c) what are its parameters?\n",
    "\n",
    "(d) what is the theoretical mean and variance of the Bernoulli distribution?\n",
    "\n",
    "\\end{exercise}\n",
    "\n"
   ]
  },
  {
   "cell_type": "markdown",
   "metadata": {},
   "source": [
    "a) If X is a random variable with this distribution, then:\n",
    "\n",
    "${\\displaystyle \\Pr(X=1)=p=1-\\Pr(X=0)=1-q.}{\\displaystyle \\Pr(X=1)=p=1-\\Pr(X=0)=1-q.}$\n",
    "\n",
    "b) \n",
    "\n",
    "The Bernoulli distribution is a special case of the binomial distribution where a single trial is conducted (so n would be 1 for such a binomial distribution). It is also a special case of the two-point distribution, for which the possible outcomes need not be 0 and 1.\n",
    "\n",
    "c)\n",
    "Parameters:\n",
    "\n",
    "${\\displaystyle 0\\leq p\\leq 1}0 \\leq p \\leq 1$\n",
    "\n",
    "${\\displaystyle q=1-p}{\\displaystyle q=1-p}$\n",
    "\n",
    "d)\n",
    "\n",
    "Mean = p\n",
    "\n",
    "Variance = \t${\\displaystyle p(1-p)=pq}$"
   ]
  },
  {
   "cell_type": "markdown",
   "metadata": {},
   "source": [
    "\n",
    "\n",
    "\\begin{exercise}\n",
    "(20 = 5 5 5 5 pts)\n",
    "\n",
    "(a) Generate n=10 random numbers according to Bernoulli distribution  for $p=0.7$ and plot a histogram\n",
    "\n",
    "(b) compute the mean and variance manually and computationally using the r functions of the above numbers. what do you observe? What do you observe if you increase n?\n",
    "\n",
    "(c) describe mathematically (latex) the pdf and cdf of the uniform distribution\n",
    "\n",
    "(d) Plot pdf and cdf for uniform distribution \n",
    "\n",
    "\\end{exercise}\n",
    "\n",
    "For Bernoulli we have the following R functions:\n",
    "\n",
    "- Bernoulli Probability Density Function (dbern Function)\n",
    "- Bernoulli Cumulative Distribution Function (pbern Function)\n",
    "- Bernoulli Quantile Function (qbern Function)\n",
    "- Generating Random Numbers (rbern Function)"
   ]
  },
  {
   "cell_type": "code",
   "execution_count": 88,
   "metadata": {},
   "outputs": [
    {
     "name": "stdout",
     "output_type": "stream",
     "text": [
      "Manual mean: "
     ]
    },
    {
     "data": {
      "text/html": [
       "0.7"
      ],
      "text/latex": [
       "0.7"
      ],
      "text/markdown": [
       "0.7"
      ],
      "text/plain": [
       "[1] 0.7"
      ]
     },
     "metadata": {},
     "output_type": "display_data"
    },
    {
     "name": "stdout",
     "output_type": "stream",
     "text": [
      "Computationally mean: "
     ]
    },
    {
     "data": {
      "text/html": [
       "0.7"
      ],
      "text/latex": [
       "0.7"
      ],
      "text/markdown": [
       "0.7"
      ],
      "text/plain": [
       "[1] 0.7"
      ]
     },
     "metadata": {},
     "output_type": "display_data"
    },
    {
     "name": "stdout",
     "output_type": "stream",
     "text": [
      "Computationally Variance: "
     ]
    },
    {
     "data": {
      "text/html": [
       "0.21"
      ],
      "text/latex": [
       "0.21"
      ],
      "text/markdown": [
       "0.21"
      ],
      "text/plain": [
       "[1] 0.21"
      ]
     },
     "metadata": {},
     "output_type": "display_data"
    },
    {
     "name": "stdout",
     "output_type": "stream",
     "text": [
      "Computationally Variance: "
     ]
    },
    {
     "data": {
      "text/html": [
       "0.233333333333333"
      ],
      "text/latex": [
       "0.233333333333333"
      ],
      "text/markdown": [
       "0.233333333333333"
      ],
      "text/plain": [
       "[1] 0.2333333"
      ]
     },
     "metadata": {},
     "output_type": "display_data"
    },
    {
     "data": {
      "image/png": "[encoded data removed]",
      "text/plain": [
       "Plot with title “Histogram of sample”"
      ]
     },
     "metadata": {
      "image/png": {
       "height": 420,
       "width": 420
      }
     },
     "output_type": "display_data"
    },
    {
     "data": {
      "image/png": "[encoded data removed]",
      "text/plain": [
       "plot without title"
      ]
     },
     "metadata": {
      "image/png": {
       "height": 420,
       "width": 420
      }
     },
     "output_type": "display_data"
    },
    {
     "data": {
      "image/png": "[encoded data removed]",
      "text/plain": [
       "plot without title"
      ]
     },
     "metadata": {
      "image/png": {
       "height": 420,
       "width": 420
      }
     },
     "output_type": "display_data"
    }
   ],
   "source": [
    "#Generate n=10 random numbers according to Bernoulli distribution for  𝑝=0.7  and plot a histogram\n",
    "sample = rbern(10,0.7)\n",
    "hist(sample)\n",
    "\n",
    "#compute the mean and variance manually and computationally using the r functions of the above numbers. what do you observe? What do you observe if you increase n?\n",
    "cat(\"Manual mean: \")\n",
    "man_mean = 0.7\n",
    "man_mean\n",
    "\n",
    "cat(\"Computationally mean: \")\n",
    "mean(sample)\n",
    "\n",
    "cat(\"Computationally Variance: \")\n",
    "man_var = 0.7*(1-0.7)\n",
    "man_var\n",
    "\n",
    "cat(\"Computationally Variance: \")\n",
    "var(sample)\n",
    "\n",
    "# If we increase the n then the manually variance and mean come more close to the mean and variance \n",
    "#that r functions calculates\n",
    "\n",
    "#Plot pdf and cdf for uniform distribution\n",
    "sample = sort(sample)\n",
    "pdf <- sample\n",
    "cdf <- cumsum(sample)\n",
    "\n",
    "library(ggplot2)\n",
    "df <- data.frame(x, pdf, cdf)\n",
    "ggplot(df, aes(x, pdf))+geom_line()\n",
    "ggplot(df, aes(x, cdf))+geom_line()\n"
   ]
  },
  {
   "cell_type": "markdown",
   "metadata": {},
   "source": [
    "CDF:\n",
    "\n",
    "${\\displaystyle f(k;p)={\\begin{cases}p&{\\text{if }}k=1,\\\\q=1-p&{\\text{if }}k=0.\\end{cases}}}$\n",
    "\n",
    "PDF:\n",
    "${\\displaystyle f(k;p)={\\begin{cases}0&{\\text{if }}k<0,\\\\1-p&{\\text{if }}0\\leq k<1,\\\\1&{\\text{if }}k\\geq0.\\end{cases}}}$"
   ]
  },
  {
   "cell_type": "code",
   "execution_count": 76,
   "metadata": {},
   "outputs": [
    {
     "name": "stderr",
     "output_type": "stream",
     "text": [
      "Installing package into ‘/home/echatzief/R/x86_64-pc-linux-gnu-library/4.0’\n",
      "(as ‘lib’ is unspecified)\n",
      "\n"
     ]
    },
    {
     "ename": "ERROR",
     "evalue": "Error in rbinom(n, size = 1, prob = prob): object 'p' not found\n",
     "output_type": "error",
     "traceback": [
      "Error in rbinom(n, size = 1, prob = prob): object 'p' not found\nTraceback:\n",
      "1. rbern(10, p)",
      "2. rbinom(n, size = 1, prob = prob)"
     ]
    }
   ],
   "source": [
    "# your answers here\n",
    "install.packages(\"Rlab\")                         # Install Rlab package\n",
    "library(\"Rlab\")                                  # Load Rlab package\n",
    "\n",
    "set.seed(98989)                                  # Set seed for reproducibility\n",
    "N <- 10000 "
   ]
  },
  {
   "cell_type": "markdown",
   "metadata": {},
   "source": [
    "## Binomial Distribution\n",
    "\\begin{exercise}\n",
    "(15 - 3 3 3 3 3 pts)\n",
    "\n",
    "(a) What is the model of binomial  distributions?\n",
    "\n",
    "(b) what is used for?\n",
    "\n",
    "(c) what are its parameters?\n",
    "\n",
    "(d) what is its relation with Bernoulli?\n",
    "\n",
    "(f) What is the theoretical mean and variance of of binomial distributions?\n",
    "\n",
    "\\end{exercise}"
   ]
  },
  {
   "cell_type": "markdown",
   "metadata": {},
   "source": [
    "a) \n",
    "\n",
    "${\\displaystyle f(k,n,p)=\\Pr(k;n,p)=\\Pr(X=k)={\\binom {n}{k}}p^{k}(1-p)^{n-k}}$\n",
    "\n",
    "b) \n",
    "\n",
    "The binomial distribution is frequently used to model the number of successes in a sample of size n drawn with replacement from a population of size N.\n",
    "\n",
    "c) \n",
    "\n",
    "In probability theory and statistics, the binomial distribution with parameters n and p is the discrete probability distribution of the number of successes in a sequence of n independent experiments, each asking a yes–no question, and each with its own Boolean-valued outcome: success/yes/true/one (with probability p) or failure/no/false/zero (with probability q = 1 − p).\n",
    "\n",
    "d) \n",
    "\n",
    "A single success/failure experiment is also called a Bernoulli trial or Bernoulli experiment, and a sequence of outcomes is called a Bernoulli process; for a single trial, i.e., n = 1, the binomial distribution is a Bernoulli distribution. The binomial distribution is the basis for the popular binomial test of statistical significance.\n",
    "\n",
    "f)\n",
    "\n",
    "Mean = np\n",
    "\n",
    "Variance = \t${\\displaystyle npq}$"
   ]
  },
  {
   "cell_type": "markdown",
   "metadata": {},
   "source": [
    "\\begin{exercise}\n",
    "(5 pts)\n",
    "(e) What is the probability of 5 or more heads in 10 tosses of a fair coin?\n",
    "\\end{exercise}"
   ]
  },
  {
   "cell_type": "markdown",
   "metadata": {},
   "source": [
    "P(Head)  = P(Tails) = 0.5\n",
    "\n",
    "P(X=5) = ${\\binom {10}{5}}(0.5)^{5}(1-0.5)^{10-5} = 0.24609375$"
   ]
  },
  {
   "cell_type": "markdown",
   "metadata": {},
   "source": [
    "\\begin{exercise}\n",
    "In a learning  quiz  there are twelve multiple choice questions. Each question has five possible answers, and only one of them is correct. Find the probability of having 3 or less correct answers if a student attempts to answer every question at random.\n",
    "\n",
    "\\end{exercise}"
   ]
  },
  {
   "cell_type": "markdown",
   "metadata": {},
   "source": [
    "Each question has five possible answers, and only one of them is correct.Thus, the probability that we choose a wrong question is $\\frac{4}{5}$ and the correct $\\frac{1}{5}$. Therefore, n = 12 , k = 3 and p = 0.2\n",
    "\n",
    "P(X=3) = ${\\binom {12}{3}}(0.2)^{3}(1-0.2)^{12-3} = 0.23622320128$"
   ]
  },
  {
   "cell_type": "markdown",
   "metadata": {},
   "source": [
    "## Poisson Distribution\n",
    "\n",
    "\\begin{exercise}\n",
    "(15 = 3  3  3  6 pts)\n",
    "\n",
    "(a) What is the model of Poisson  distributions?\n",
    "\n",
    "(b) what is used for? Give an example\n",
    "\n",
    "(c) what are its parameters?\n",
    "\n",
    "\n",
    "(f) What is the theoretical mean and variance of  Poisson distributions?\n",
    "\n",
    "\\end{exercise}"
   ]
  },
  {
   "cell_type": "markdown",
   "metadata": {},
   "source": [
    "a)\n",
    "\n",
    "$\\!f(k;\\lambda )=\\Pr(X=k)={\\frac {\\lambda ^{k}e^{-\\lambda }}{k!}},$\n",
    "\n",
    "b)\n",
    "\n",
    "The Poisson distribution is a discrete probability distribution that expresses the probability of a given number of events occurring in a fixed interval of time or space if these events occur with a known constant mean rate and independently of the time since the last event.For example, an individual keeping track of the amount of mail they receive each day may notice that they receive an average number of 4 letters per day. \n",
    "\n",
    "c)\n",
    "\n",
    "Parameters:\n",
    "\n",
    "${\\displaystyle \\lambda \\in (0,\\infty )}{\\displaystyle \\lambda \\in (0,\\infty )} (rate)$\n",
    "\n",
    "d)\n",
    "\n",
    "Mean = $\\lambda $\n",
    "\n",
    "Variance = $\\lambda $"
   ]
  },
  {
   "cell_type": "markdown",
   "metadata": {},
   "source": [
    "\\begin{exercise}\n",
    "(15 pts)\n",
    "Some vehicles pass through a junction on a busy road at an average rate of 300 per hour.\n",
    "\n",
    "(a) Find out the probability that none passes in a given minute.\n",
    "\n",
    "(b) What is the expected number of passing in two minutes?\n",
    "\n",
    "(c) Find the probability that this expected number found above actually pass through in a given two-minute period.\n",
    "\n",
    "\\end{exercise}\n"
   ]
  },
  {
   "cell_type": "markdown",
   "metadata": {},
   "source": [
    "a)\n",
    "\n",
    "The average number of cars per minute is:\n",
    "\n",
    "$\\lambda = \\frac{300}{60} = 5$\n",
    "\n",
    "$P(X= 0) = \\frac{\\lambda^0 e^{-\\lambda}}{0!} = 0.006737947$\n",
    "\n",
    "b)\n",
    "\n",
    "Expected number in 2 minutes: $E(X) = 5 × 2 = 10$\n",
    "\n",
    "c) \n",
    "\n",
    "Now we set $\\lambda = 10$ :\n",
    "\n",
    "$P(X= 10) = \\frac{\\lambda^{10} e^{-\\lambda}}{10!} = 0.12511$"
   ]
  },
  {
   "cell_type": "markdown",
   "metadata": {},
   "source": [
    "## GEOMETRIC DISTRIBUTION \n",
    "\n",
    "**Conditions**:\n",
    "1. An experiment consists of repeating trials until first\n",
    "success.\n",
    "2. Each trial has two possible outcomes;\n",
    "\n",
    "(a) A success with probability $p$\n",
    "\n",
    "(b) A failure with probability $q=1-p$.\n",
    "\n",
    "3. Repeated trials are independent.\n",
    "$\\mathrm{X}=$ number of trials to first success\n",
    "\n",
    "X is a GEOMETRIC RANDOM VARIABLE.\n",
    "\n",
    "PDF:\n",
    "$$\n",
    "P(X=x)=q^{x-1} p ; \\quad x=1,2,3, \\cdots\n",
    "$$\n",
    "CDF:\n",
    "$$\n",
    "\\begin{aligned}\n",
    "P(X \\leq x) &=P(X=1)+P(X=2)+ \\cdots + P(X=x) \\\\\n",
    "&=p+q p+q^{2} p+ \\cdots+q^{x-1} p \\\\\n",
    "&=p\\left[1-q^{x}\\right] /(1-q) \\\\\n",
    "&=1-q^{x}\n",
    "\\end{aligned}\n",
    "$$\n",
    "\n",
    "\\begin{theorem}\n",
    "\n",
    "(a) The mean of a geometric random variable $X$ is:\n",
    "$$\n",
    "\\mu=E(X)=\\frac{1}{p}\n",
    "$$\n",
    "\n",
    "(b) The variance of a geometric random variable $X$ is:\n",
    "$$\n",
    "\\sigma^{2}=\\operatorname{Var}(X)=\\frac{1-p}{p^{2}}\n",
    "$$\n",
    "\\end{theorem}\n",
    "\n"
   ]
  },
  {
   "cell_type": "markdown",
   "metadata": {},
   "source": [
    "\\begin{exercise}\n",
    "(15 pts)\n",
    "\n",
    "(a) Products produced by a machine has a $3 \\%$ defective rate. What is the probability that the first defective occurs in the fifth item inspected?\n",
    "\n",
    "(b) What is the probability that the first defective occurs in the first five inspections?\n",
    "\n",
    "(c) In  a production line which has a $20 \\%$ detective rate, what is the minimum number of inspections, that would be necessary so that the probability of observing a defective is more that $75 \\% ?$\n",
    "\\end{exercise}\n"
   ]
  },
  {
   "cell_type": "markdown",
   "metadata": {},
   "source": [
    "a) \n",
    "\n",
    "p = 0.03 \n",
    "\n",
    "$P(X=5)=q^{5-1} p  = 0.97^4\\cdot0.03 = 0.0265587843$\n",
    "\n",
    "b)\n",
    "\n",
    "$P(X\\leq 5) = 1-(1-0.03)^{5} = 0.1412659743$\n",
    "\n",
    "c) \n",
    "\n",
    "p = 0.2\n",
    "\n",
    "$P(X\\leq k) \\geq 75\\%$\n"
   ]
  },
  {
   "cell_type": "code",
   "execution_count": 93,
   "metadata": {},
   "outputs": [
    {
     "name": "stdout",
     "output_type": "stream",
     "text": [
      "Number of inspections: 6"
     ]
    }
   ],
   "source": [
    "nInspect = qgeom(.75, .2) # returns the number of trials before first defective that has a probabilty of .75\n",
    "cat(\"Number of inspections: \")\n",
    "cat(nInspect)"
   ]
  }
 ],
 "metadata": {
  "@webio": {
   "lastCommId": null,
   "lastKernelId": null
  },
  "kernelspec": {
   "display_name": "R",
   "language": "R",
   "name": "ir"
  },
  "language_info": {
   "codemirror_mode": "r",
   "file_extension": ".r",
   "mimetype": "text/x-r-source",
   "name": "R",
   "pygments_lexer": "r",
   "version": "4.0.3"
  },
  "latex_envs": {
   "LaTeX_envs_menu_present": true,
   "autoclose": false,
   "autocomplete": true,
   "bibliofile": "biblio.bib",
   "cite_by": "apalike",
   "current_citInitial": 1,
   "eqLabelWithNumbers": true,
   "eqNumInitial": 1,
   "hotkeys": {
    "equation": "Ctrl-E",
    "itemize": "Ctrl-I"
   },
   "labels_anchors": false,
   "latex_user_defs": false,
   "report_style_numbering": false,
   "user_envs_cfg": false
  },
  "nbTranslate": {
   "displayLangs": [
    "*"
   ],
   "hotkey": "alt-t",
   "langInMainMenu": true,
   "sourceLang": "en",
   "targetLang": "fr",
   "useGoogleTranslate": true
  },
  "toc": {
   "base_numbering": 1,
   "nav_menu": {},
   "number_sections": true,
   "sideBar": true,
   "skip_h1_title": false,
   "title_cell": "Table of Contents",
   "title_sidebar": "Contents",
   "toc_cell": false,
   "toc_position": {},
   "toc_section_display": true,
   "toc_window_display": false
  },
  "varInspector": {
   "cols": {
    "lenName": 16,
    "lenType": 16,
    "lenVar": 40
   },
   "kernels_config": {
    "python": {
     "delete_cmd_postfix": "",
     "delete_cmd_prefix": "del ",
     "library": "var_list.py",
     "varRefreshCmd": "print(var_dic_list())"
    },
    "r": {
     "delete_cmd_postfix": ") ",
     "delete_cmd_prefix": "rm(",
     "library": "var_list.r",
     "varRefreshCmd": "cat(var_dic_list()) "
    }
   },
   "types_to_exclude": [
    "module",
    "function",
    "builtin_function_or_method",
    "instance",
    "_Feature"
   ],
   "window_display": false
  }
 },
 "nbformat": 4,
 "nbformat_minor": 4
}
