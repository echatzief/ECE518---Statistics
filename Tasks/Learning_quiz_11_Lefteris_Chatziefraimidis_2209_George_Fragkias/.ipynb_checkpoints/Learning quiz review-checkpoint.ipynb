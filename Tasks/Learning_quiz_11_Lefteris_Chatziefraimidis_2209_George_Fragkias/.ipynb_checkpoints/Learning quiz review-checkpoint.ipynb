{
 "cells": [
  {
   "cell_type": "markdown",
   "metadata": {},
   "source": [
    "# Learning Quiz 11\n",
    "\n",
    "\n",
    "### Team O:\n",
    "\n",
    "- Lefteris Chatziefraimidis 2209\n",
    "- George Fragkias 2118"
   ]
  },
  {
   "cell_type": "markdown",
   "metadata": {},
   "source": [
    "# Review questions about Probability\n",
    "\n",
    "Open new cells and give your answers\n"
   ]
  },
  {
   "cell_type": "markdown",
   "metadata": {},
   "source": [
    "# Counting and Probability\n",
    "\n",
    "\n",
    "\\begin{exercise}\n",
    "\n",
    "(a) How many  ways  can  you  arrange  the  letters  in  the  word  STATISTICS?  (e.g. SSSTTTIIAC counts  as one arrangement.)\n",
    "\n",
    "(b) If all arrangements are equally likely, what  is the  probability the  two 'is are next  to each other.\n",
    "\n",
    "\\end{exercise}\n",
    "\n"
   ]
  },
  {
   "cell_type": "markdown",
   "metadata": {},
   "source": [
    "a)  \n",
    "\n",
    "We can break the process at steps and calculate the combinations at each step. After that, we can multiply each combination at every step to get the total arrangements.\n",
    "\n",
    "**Step 1** : We have 3 S's and 10 positions left: $\\binom {10}{3}$\n",
    "\n",
    "**Step 2** : We have 3 T's and 7 positions left: $\\binom {7}{3}$\n",
    "\n",
    "**Step 3** : We have 2 I's and 4 positions left: $\\binom {4}{2}$\n",
    "\n",
    "**Step 4** : We have 1 Α and 2 positions left:$\\binom {2}{1}$\n",
    "\n",
    "**Step 5** : We have 1 C and 1 position left: $\\binom {1}{1}$\n",
    "\n",
    "**Total amount of arangements**:\n",
    "\n",
    "$$\\binom {10}{3}\\cdot\\binom {7}{3}\\cdot\\binom {4}{2}\\cdot\\binom {2}{1}\\cdot\\binom {1}{1} = 50400$$\n",
    "\n"
   ]
  },
  {
   "cell_type": "markdown",
   "metadata": {},
   "source": [
    "b) If we start with 10 positions and we set the I next to each other then the combinations are:  $\\binom {10}{2} = 45 $. There are 9 cases that we can put the two I's next to each other. Thus, the probability is $\\frac{9}{45} = 0.2$"
   ]
  },
  {
   "cell_type": "markdown",
   "metadata": {},
   "source": [
    "# Conditional Probability and Bayes’ Theorem\n",
    "\n",
    "\\begin{exercise}\n",
    "\n",
    "Covid-19 tests are common nowadays, but some results of tests are not true. Let's assume; a diagnostic test has 95% accuracy and 50% of all people have Covid-19. If a patient tests positive, what is the probability that they actually have the disease?\n",
    "\n",
    "\\end{exercise}\n"
   ]
  },
  {
   "cell_type": "markdown",
   "metadata": {},
   "source": [
    "**Answer**\n",
    "\n",
    "If the accuracy is 95% for the 50% of all the people that are well, if a patient tests positive then the probability that the test is correct is $0.5\\cdot95\\%$ = 47.5 %. Thus, the probability that they actually have the disease is 47.5%"
   ]
  },
  {
   "cell_type": "markdown",
   "metadata": {},
   "source": [
    "# Independence\n",
    "\n",
    "\\begin{exercise}\n",
    "\n",
    "Roll  a  twenty-sided  die.   Determine  whether  the  following pairs  of events  are independent.\n",
    "\n",
    "(a) 'You roll an even number'  and 'You roll a number  less than  or equal to 10'.\n",
    "\n",
    "(b) 'You roll an even number'  and 'You roll a prime number'.\n",
    "\n",
    "\\end{exercise}\n",
    "\n",
    "\n"
   ]
  },
  {
   "cell_type": "markdown",
   "metadata": {},
   "source": [
    "Remember that conditional probability is the probability of an event A occurring given that event B has already occurred. If two events are independent, the probabilities of their outcomes are not dependent on each other. Therefore, the conditional probability of two independent events A and B is:\n",
    "\n",
    "$$P(A|B) = P(A)$$\n",
    "\n",
    "\n",
    "$\\Omega = \\{1,2,3,4,5,6,7,8,9,10,11,12,13,14,15,16,17,18,19,20\\}$\n",
    "\n",
    "a) \n",
    "\n",
    "$E = \\{2,4,6,8,10,12,14,16,18,20\\} $ (even number)\n",
    "\n",
    "$L = \\{1,2,3,4,5,6,7,8,9,10\\} $ (less than or equal to 10)\n",
    "\n",
    "$P(E) = \\frac{10}{20} , P(L) = \\frac{10}{20}, P(E|L) = \\frac{5}{10}$ \n",
    "\n",
    "b)\n",
    "\n",
    "$E = \\{2,4,6,8,10,12,14,16,18,20\\} $ (even number)\n",
    "\n",
    "$Pr = \\{2, 3, 5, 7, 11, 13, 17, 19\\} $ (prime number)\n",
    "\n",
    "$P(E) = \\frac{10}{20} , P(Pr) = \\frac{8}{20}, P(E|Pr) = \\frac{1}{8}$ \n",
    "\n",
    "\n",
    "From the above, we can assume that the first pairs are independent, in constract with the second.\n"
   ]
  },
  {
   "cell_type": "markdown",
   "metadata": {},
   "source": [
    "# Expectation and Variance\n",
    "\n",
    "\\begin{exercise}\n",
    "The random variable $X$ takes values -1, 0, 1 with probabilities 1/8, 2/8, 5/8 respectively.\n",
    "\n",
    "(a) Compute  $E(X)$.\n",
    "\n",
    "(b) Give the pmf of $Y  = X^2$  and use it to compute  $E(Y)$.\n",
    "\n",
    "(c) Instead,  compute  $E(X^2)$ directly  from an R function.\n",
    "\n",
    "(d) Compute  Var(X).\n",
    "\\end{exercise}\n"
   ]
  },
  {
   "cell_type": "markdown",
   "metadata": {},
   "source": [
    "a) \n",
    "\n",
    "${\\operatorname {E} [X]=\\sum _{i=1}^{k}x_{i}\\,p_{i}=x_{1}p_{1}+x_{2}p_{2}+\\cdots +x_{k}p_{k}.}$\n",
    "\n",
    "${\\operatorname {E} [X]=\\sum _{i=1}^{3}x_{i}\\,p_{i}=x_{1}p_{1}+x_{2}p_{2}+x_{3}p_{3}} = -\\frac{1}{8} + 0 + \\frac{5}{8} = 0.5$\n",
    "\n",
    "b)\n",
    "\n",
    "$E(Y) = E(X^2) =\\sum _{i=1}^{3}x_{i}^2\\,p_{i} = 1×\\frac{1}{8} + 0×\\frac{2}{8} + 1×\\frac{5}{8}=\\frac{6}{8} = 0.75 $\n",
    "\n",
    "c)\n"
   ]
  },
  {
   "cell_type": "code",
   "execution_count": 65,
   "metadata": {},
   "outputs": [
    {
     "name": "stdout",
     "output_type": "stream",
     "text": [
      "E[x^2]: 0.75"
     ]
    }
   ],
   "source": [
    "# compute  𝐸(𝑋2)  directly from an R function.\n",
    "E_x_square = function (x,p){\n",
    "    x_2 = x^2\n",
    "    return (sum(x_2*p))\n",
    "}\n",
    "\n",
    "x = c(-1,0,1)\n",
    "p = c(1/8,2/8,5/8)\n",
    "E_x_2 = E_x_square(x,p)\n",
    "cat(\"E[x^2]: \")\n",
    "cat(E_x_2)"
   ]
  },
  {
   "cell_type": "markdown",
   "metadata": {},
   "source": [
    "d)\n",
    "\n",
    "$\\text{Var}[X] = E[X^2] – E[X]^2 = 0.75 -0.25 = 0.5 $"
   ]
  },
  {
   "cell_type": "markdown",
   "metadata": {},
   "source": [
    "\\begin{exercise}\n",
    "\n",
    "Compute  the expectation and variance  of a Bernoulli(p)  random  variable.\n",
    "\n",
    "\\end{exercise}"
   ]
  },
  {
   "cell_type": "markdown",
   "metadata": {},
   "source": [
    "If X is a random variable with Bernoulli distribution, then:\n",
    "\n",
    "$${\\Pr(X=1)=p=1-\\Pr(X=0)=1-p.}{\\displaystyle \\Pr(X=1)=p=1-\\Pr(X=0)=1-p.}$$\n",
    "\n",
    "Then:\n",
    "\n",
    "${\\operatorname {E} [X]=\\sum _{i=1}^{2}x_{i}\\,p_{i}=x_{1}p_{1}+x_{2}p_{2}} = 0\\cdot(1-p) + 1\\cdot p = p$\n",
    "\n",
    "\n",
    "${\\operatorname {E} [X^2]=\\sum _{i=1}^{2}x_{i}^2\\,p_{i}=x_{1}p_{1}+x_{2}p_{2}} = 0\\cdot(1-p) + 1\\cdot p = p$\n",
    "\n",
    "\n",
    "$\\text{Var}[X]= E[X^2] – E[X]^2 = p - p^2 = p(1-p)$ "
   ]
  },
  {
   "cell_type": "markdown",
   "metadata": {},
   "source": [
    "\\begin{exercise}\n",
    "\n",
    "Suppose 100 people all toss a hat  into a box and then  proceed to randomly  pick out a hat.  What  is the expected  number  of people to get their  own hat  back.\n",
    "_Hint_:  express  the  number  of people who get their  own hat  as a sum of random  variables whose expected  value is easy to compute.\n",
    "\n",
    "\\end{exercise}"
   ]
  },
  {
   "cell_type": "markdown",
   "metadata": {},
   "source": [
    "**Answer**\n",
    "\n",
    "Let $X$ be the number of people who get their own hat. Let $X_i$ if person i gets their hat and 0 if not. The propability p that a person gets their hat is equal to $\\frac{1}{100}$. Our problem follows the bernoulli distribution, thus $E[X_i] = p = 0.1$ . Thus, $E[X] = \\sum_{i}^{100} E[X_i] = 1$"
   ]
  },
  {
   "cell_type": "markdown",
   "metadata": {},
   "source": [
    "# Probability Mass Functions, Probability Density Functions and Cumulative Distribution Functions\n",
    "\n",
    "\n",
    "\n",
    "\\begin{exercise}\n",
    "Suppose  you roll a fair 6-sided die 100 times  (independently), and  you get 3 euros every time you roll a 6.      Let $X_1$  be the number  of euros you win on rolls 1 through  25.\n",
    "\n",
    "-Let $X_2$  be the number  of euros you win on rolls 26 through  50. \n",
    "\n",
    "-Let $X_3$  be the number  of euros you win on rolls 51 through  75. \n",
    "\n",
    "-Let $X_4$  be the number  of euros you win on rolls 76 through 100.\n",
    "\n",
    "-Let $X = X_1  + X_2  + X_3  + X_4$  be the total  number  of euros you win over all 100 rolls.\n",
    "\n",
    "(a) What  is the probability mass function  of $X$?\n",
    "\n",
    "(b) What  is the expectation and variance  of $X$?\n",
    "\n",
    "(c)  Let $Y  = 4X_1$.  (So instead  of rolling 100 times, you just roll 25 times and multiply  your winnings by 4.)  \n",
    "\n",
    "- (i) What  are the expectation and variance  of Y ?\n",
    "    \n",
    "- (ii) How do the expectation and variance of $Y$  compare to those of $X$?  (i.e., are they bigger, smaller, or equal?)  Explain  (briefly)  why this makes sense.\n",
    "\\end{exercise}\n",
    "\n",
    "\n"
   ]
  },
  {
   "cell_type": "markdown",
   "metadata": {},
   "source": [
    "\\begin{exercise}\n",
    "Suppose that X has probability density function $f_{X}(x)=\\lambda \\mathrm{e}^{-\\lambda x}$ for $x \\geq 0$. \n",
    "\n",
    "(a) Compute the cdf, $F_X(x)$.\n",
    "\n",
    "(b) If $Y  = X^2$, compute  the pdf and cdf of Y.\n",
    "\n",
    "\\end{exercise}\n",
    "\n",
    "a)\n",
    "\n",
    "$$F_{X}(X) = \\int_0^x \\lambda e^{-\\lambda x} = \\lambda \\int_0^x e^{-\\lambda x} = \\lambda(\\frac{1}{\\lambda} - \\frac{e^{-\\lambda x}}{\\lambda}) = 1 - e^{-\\lambda x}$$\n",
    "\n",
    "b)\n",
    "\n",
    "$$F_{Y}(y) = P(Y\\leq y) = P(X^2\\leq y) =  P(X\\leq \\sqrt{y})  =  1 - e^{-\\lambda \\sqrt{y}}$$\n",
    "\n",
    "$$f_{Y}(y) = \\frac{dF_{Y}(y)}{dy} = \\frac{\\lambda}{2}y^{-\\frac{1}{2}}e^{-\\lambda \\sqrt{y}}$$"
   ]
  },
  {
   "cell_type": "markdown",
   "metadata": {},
   "source": [
    "\\begin{exercise}\n",
    "\n",
    "Suppose  you roll a fair 6-sided die 100 times  (independently), and  you get 3 euros every time you roll a 6.      Let $X_1$  be the number  of euros you win on rolls 1 through  25.\n",
    "\n",
    "-Let $X_2$  be the number  of euros you win on rolls 26 through  50. \n",
    "\n",
    "-Let $X_3$  be the number  of euros you win on rolls 51 through  75. \n",
    "\n",
    "-Let $X_4$  be the number  of euros you win on rolls 76 through 100.\n",
    "\n",
    "-Let $X = X_1  + X_2  + X_3  + X_4$  be the total  number  of euros you win over all 100 rolls.\n",
    "\n",
    "(a) What  is the probability mass function  of $X$?\n",
    "\n",
    "(b) What  is the expectation and variance  of $X$?\n",
    "\n",
    "(c)  Let $Y  = 4X_1$.  (So instead  of rolling 100 times, you just roll 25 times and multiply  your winnings by 4.)  \n",
    "\n",
    "- (i) What  are the expectation and variance  of Y ?\n",
    "    \n",
    "- (ii) How do the expectation and variance of $Y$  compare to those of $X$?  (i.e., are they bigger, smaller, or equal?)  Explain  (briefly)  why this makes sense.\n",
    "\n",
    "\\end{exercise}"
   ]
  },
  {
   "cell_type": "markdown",
   "metadata": {},
   "source": [
    "a)\n",
    "\n",
    "Let S ( X = 3S) be the number of time you win. Our problem follows the binomial. Thus, S~ Binomial(100,$\\frac{1}{6}$). Thus, the probability mass function of X is:\n",
    "\n",
    "$$P(X = k) =  \\binom {n}{k}p^{k}(1-p)^{n-k} = \\binom {100}{k}\\left(\\frac{1}{6}\\right)^{k}\\left(\\frac{5}{6}\\right)^{100-k}\\text{ for k = 0,1,2,.....,100}$$\n",
    "\n",
    "b)\n",
    "\n",
    "$$E[X] = E[3S] = n\\cdot p = 3\\cdot 100\\cdot \\frac{1}{6} = 50$$\n",
    "\n",
    "$$\\text{Var}[X] = \\text{Var}[3S] = 9 \\cdot\\text{Var}[S] = 9 \\cdot100\\cdot\\left(\\frac{1}{6}\\right)\\cdot\\left(\\frac{5}{6}\\right) = 125$$\n",
    "\n",
    "\n",
    "c)\n",
    "\n",
    "i) $X_1 = 3 T_1 \\rightarrow Y = 12T_1$\n",
    "\n",
    "$$E[Y] = E[12T_1] = 12 \\cdot 25 \\cdot 16 = 50 $$\n",
    "\n",
    "\n",
    "$$\\text{Var}[Y] = 144\\cdot \\text{Var}[T_1] = 12 \\cdot 25 \\cdot \\frac{1}{6}\\cdot\\frac{5}{6} = 500 $$\n",
    "\n",
    "ii)\n",
    "\n",
    "The expectations are the same because X and Y are the both 3 × 100 × a Bernoulli($\\frac{1}{6}$) random variable. However, the $\\text{Var[Y]}$ is different because $X$ is build out of more independent trails than $X_1$"
   ]
  },
  {
   "cell_type": "markdown",
   "metadata": {},
   "source": [
    "# Important Distributions\n",
    "## Exponential Distribution\n",
    "\\begin{exercise}\n",
    "Suppose that buses arrive are scheduled to arrive at a bus stop at noon but are always $X$ minutes late, where $X$ is an exponential random variable with probability density function $f_{X}(x)=\\lambda \\mathrm{e}^{-\\lambda x} .$ Suppose that you arrive at the bus stop precisely at noon.\n",
    "\n",
    "(a) Compute the probability that you have to wait for more than five minutes for the bus to arrive.\n",
    "\n",
    "(b) Suppose that you have already waiting for 10 minutes. Compute the probability that you have to wait an additional five minutes or more.\n",
    "\n",
    "\\end{exercise}\n"
   ]
  },
  {
   "cell_type": "markdown",
   "metadata": {},
   "source": [
    "a)\n",
    "\n",
    "$P(X\\geq 5) = 1 - P(X < 5) = 1 - \\int_0^5 \\lambda e^{-\\lambda x}dx = 1 - (1 - e^{-5\\lambda}) = e^{-5\\lambda}$\n",
    "\n",
    "b)\n",
    "\n",
    "We want to calculate $P(X\\geq 15 | X\\geq 10)$.\n",
    "\n",
    "$$P(X\\geq 15 | X\\geq 10) = \\frac{P(X\\geq 15 \\cap X\\geq 10)}{P(X\\geq 10)} = \\frac{P(X\\geq 15 )}{P(X\\geq 10)} = \\frac{e^{-15\\lambda}}{e^{-10\\lambda}} = e^{-5\\lambda}$$\n",
    "\n"
   ]
  },
  {
   "cell_type": "markdown",
   "metadata": {},
   "source": [
    "## Normal Distributions\n",
    "\n",
    "Throughout these problems, let $\\phi$ and $\\Phi$ be the pdf and cdf, respectively, of the standard normal distribution Suppose $Z$ is a standard normal random variable and let $X=3Z+1$. \n",
    "\n",
    "\\begin{exercise}\n",
    "(a) Express $P(X \\leq x)$ in terms of $\\Phi$\n",
    "\n",
    "(b) Differentiate the expression from $(a)$ with respect to $x$ to get the pdf of $X, f(x)$. Remember that $\\Phi^{\\prime}(z)=\\phi(z)$ and don't forget the chain rule where  $\\phi(x)=(2 \\pi)^{-\\frac{1}{2}} \\mathrm{e}^{-\\frac{x^{2}}{2}}$\n",
    "\n",
    "(c) Find $P(-1 \\leq X \\leq 1)$\n",
    "\n",
    "(d) Recall that the probability that $Z$ is within one standard deviation of its mean is approximately $68 \\%$. What is the probability that $X$ is within one standard deviation of its mean?\n",
    "\\end{exercise}\n",
    "\n",
    "\n"
   ]
  },
  {
   "cell_type": "markdown",
   "metadata": {},
   "source": [
    "a) \n",
    "\n",
    "$$F_{X}(x) = P(X\\leq x) = P(3Z +1 \\leq x) = P(Z\\leq \\frac{x-1}{3} = \\Phi\\left(\\frac{x-1}{3}\\right)$$\n",
    "\n",
    "b)\n",
    "\n",
    "$$f_{X}(x) = \\frac{dF_x(x)}{dx}  = \\frac{1}{3}\\phi\\left(\\frac{x-1}{3}\\right)$$\n",
    "\n",
    "If $\\phi(x)=(2 \\pi)^{-\\frac{1}{2}} \\mathrm{e}^{-\\frac{x^{2}}{2}}$ then:\n",
    "\n",
    "$$f_{X}(x) = \\frac{1}{3\\sqrt{2\\pi}}e^{-\\frac{(x-1)^2}{2\\cdot3^2}}$$\n",
    "\n",
    "which is the pdf of N(1,9) distribution.\n",
    "\n",
    "c) \n",
    "\n",
    "$$P(-1\\leq X \\leq 1) = P \\left(-\\frac{2}{3}\\leq Z \\leq 0 \\right) = \\Phi(0) - \\Phi\\left(-\\frac{2}{3}\\right) = 0.2475$$\n",
    "\n",
    "d)\n",
    "\n",
    "$E[X] = 1 , \\text{Var}[X] = 9, \\sigma = 3$ Then:\n",
    "\n",
    "$P(\\mu-\\sigma \\leq X \\leq \\mu + \\sigma) = P(-2 \\leq X \\leq 4) =  P(-2 \\leq 3Z + 1 \\leq 4) = P(-1\\leq Z \\leq 1) = 0.68$"
   ]
  },
  {
   "cell_type": "markdown",
   "metadata": {},
   "source": [
    "# Transforming Normal Distributions \n",
    "\n",
    "\n",
    "\\begin{exercise}\n",
    "\n",
    "(a) Suppose $Z$ is a standard normal random variable and let $Y=aZ+b,$ where $a>0$ and $b$ are constants.\n",
    "Show $Y \\sim \\mathrm{N}(b, a)$\n",
    "\n",
    "(b) Suppose $Y \\sim \\mathrm{N}(\\mu, \\sigma) .$ Show $\\frac{Y-\\mu}{\\sigma}$ follows a standard normal distribution.\n",
    "\\end{exercise}"
   ]
  },
  {
   "cell_type": "markdown",
   "metadata": {},
   "source": [
    "a)\n",
    "\n",
    "$F_{Y}(y) = P(Y\\leq y) = P(aZ + b \\leq y) = P(Z \\leq \\frac{y-b}{a}) = \\Phi\\left(\\frac{y-b}{a}\\right)$\n",
    "\n",
    "$f_{Y}(y) = \\frac{dF_{Y}(y)}{dy} = \\frac{d\\Phi\\left(\\frac{y-b}{a}\\right)}{dy} = \\frac{1}{\\alpha} \\phi\\left(\\frac{y-b}{a}\\right) = \\frac{1}{\\alpha\\sqrt{2\\pi}}e^{-\\frac{(y-b)^2}{2\\alpha^2}}$\n",
    "\n",
    "b) \n",
    "\n",
    "From a \n",
    "\n",
    "$Y$~ $N(\\mu,\\sigma^2) \\rightarrow Y = \\sigma Z + \\mu \\rightarrow \\frac{Y-\\mu}{\\sigma} = Z$ ~$ N(0,1)$"
   ]
  },
  {
   "cell_type": "markdown",
   "metadata": {},
   "source": [
    "\\begin{exercise}\n",
    "**(Sums of normal random variables**\n",
    "Let $X$ be independent random variables where $X \\sim N(2,5)$ and $Y \\sim N(5,9)$ (we use the notation $\\left.N\\left(\\mu, \\sigma^{2}\\right)\\right) .$ Let $W=3X-2Y+1$\n",
    "\n",
    "(a) Compute $E(W)$ and $\\operatorname{Var}(W)$.\n",
    "\n",
    "(b) It is known that the sum of independent normal distributions is normal. Compute $P(W \\leq 6)$\n",
    "\n",
    "\\end{exercise}"
   ]
  },
  {
   "cell_type": "markdown",
   "metadata": {},
   "source": [
    "a)\n",
    "\n",
    "$E[W] = E[3X-2Y + 1] = 3E[X]- 2E[Y] +E[1] $\n",
    "\n",
    "$\\text{Var}[W] =E[W^2] - E[W]^2 = E[(3X -2Y +1)^2] - ( 3E[X]- 2E[Y] +E[1])^2 $\n",
    "\n"
   ]
  },
  {
   "cell_type": "markdown",
   "metadata": {},
   "source": [
    "\\begin{exercise}\n",
    "\n",
    "Let $X \\sim \\mathrm{U}(a,b).$ Compute $E(X)$ and $\\operatorname{Var}(X) .$\n",
    "\\end{exercise}\n"
   ]
  },
  {
   "cell_type": "markdown",
   "metadata": {},
   "source": [
    "$E[X] = \\frac{1}{2}(\\beta+\\alpha)$\n",
    "\n",
    "$\\text{Var}(X) = \\frac{1}{12}(\\beta-\\alpha)^2$"
   ]
  },
  {
   "cell_type": "markdown",
   "metadata": {},
   "source": [
    "\\begin{exercise}\n",
    "Compute the median for the exponential distribution with parameter $\\lambda$.\n",
    "\\end{exercise}\n"
   ]
  },
  {
   "cell_type": "markdown",
   "metadata": {},
   "source": [
    "$$F_{X}(x) = P(X\\leq x) = \\int_0^x \\lambda e^{-\\lambda x} dx = 1 - e^{-\\lambda x}$$\n",
    "\n",
    "\n",
    "So to find the median $m$, we want to solve the equation:\n",
    "\n",
    "$$1 - e^{-\\lambda m} = \\frac{1}{2} $$\n",
    "\n",
    "$$ e^{-\\lambda m} = \\frac{1}{2} $$\n",
    "\n",
    "$$-\\lambda m = ln(\\frac{1}{2}) $$\n",
    "\n",
    "$$ m = \\frac{ln2}{\\lambda} $$"
   ]
  },
  {
   "cell_type": "markdown",
   "metadata": {},
   "source": [
    "# Joint Probability, Covariance, Correlation\n",
    "\n",
    "A. **The  joint  and  marginal  pmf's**\n",
    "\n",
    "\\begin{definition}\n",
    "If discrete random variables $X$ and $Y$ are defined on the same sample space $S,$ then\n",
    "their joint probability mass function (joint pmf) is given by\n",
    "$$\n",
    "p(x, y)=P(X=x \\text { and } Y=y)\n",
    "$$\n",
    "where $(x, y)$ is a pair of possible values for the pair of random variables $(X, Y),$ and\n",
    "$p(x, y)$ satisfies the following conditions:\n",
    "$0 \\leq p(x, y) \\leq 1$\n",
    "$\\sum_{(x, y)} p(x, y)=1$\n",
    "$P((X, Y) \\in A))=\\sum_{(x, y) \\in A} p(x, y)$\n",
    "\\end{definition}\n",
    "\n",
    "In the discrete case, we can obtain the joint cumulative distribution function (joint\n",
    "cdf) of $X$ and $Y$ by summing the joint pmf:\n",
    "$$\n",
    "F(x, y)=P(X \\leq x \\text { and } Y \\leq y)=\\sum_{x_{i} \\leq x} \\sum_{y_{j} \\leq y} p\\left(x_{i}, y_{j}\\right)\n",
    "$$\n",
    "\n",
    "where $x_{i}$ denotes possible values of $X$ and $y_{j}$ denotes possible values of $Y$. From the joint pmf, we can also obtain the individual probability distributions of $X$ and $Y$\n",
    "separately as shown in the next definition.\n",
    "\n",
    "\\begin{definition}\n",
    "Suppose that discrete random variables $X$ and $Y$ have joint pmf $p(x, y) .$ Let $x_{1}, x_{2}, \\ldots, x_{i}, \\ldots$ denote the possible values of $X,$ and let $y_{1}, y_{2}, \\ldots, y_{j}, \\ldots$ denote the possible values of $Y$. The **marginal probability mass functions** (marginal pmf's) of $X$ and $Y$ are respectively given by the following:\n",
    "\n",
    "$p_{X}(x)=\\sum_{j} p\\left(x, y_{j}\\right) \\quad($ fix a value of $X$ and sum over possible values of $Y)$ \n",
    "\n",
    "$p_{Y}(y)=\\sum_{i} p\\left(x_{i}, y\\right) \\quad($ fix a value of $Y$ and sum over possible values of $X)$\n",
    "\\end{definition}\n",
    "\n",
    "\\begin{exercise}\n",
    "The  joint  and  marginal  pmf's of X  and  Y   are partly  given in the following table.\n",
    "\n",
    "\n",
    "$$\n",
    "\\begin{array}{l|ccc|c}\n",
    "x \\backslash^{Y} & 1 & 2 & 3 & \\\\\n",
    "\\hline 1 & 1 / 6 & 0 & 1/6 & 1 / 3 \\\\\n",
    "2 & 0 & 1 / 4 & 1/12 & 1 / 3 \\\\\n",
    "3 & 0 & 1/12 & 1 / 4 & 1/3 \\\\\n",
    "\\hline & 1 / 6 & 1 / 3 & 1 & 1\n",
    "\\end{array}\n",
    "$$\n",
    "\n",
    "(a) Complete the table.\n",
    "The values in the above table give the values of  $p(x,y)$. For example $p(1,1)$ is equal \n",
    "$$\n",
    "p(1,1)=P(X=1 \\text { and } Y= 1) = 1/6\n",
    "$$\n",
    "\n",
    "also \n",
    "\n",
    "The marginal probabilities must add up to 1!\n",
    "\n",
    "(b) Are X  and Y  independent?\n",
    "\n",
    "No, X and Y are not independent because for some events such as $P(X=2|Y=1) = 0 \\neq P(X=2)P(Y=1)$.\n",
    "\n",
    "\\end{exercise}\n"
   ]
  },
  {
   "cell_type": "markdown",
   "metadata": {},
   "source": [
    "\\begin{exercise}\n",
    "\n",
    "**Covariance and Independence**\n",
    "\n",
    "Let $X$  be a random  variable  that takes  values -2, -1, 0, 1, 2; each with  probability 1/5. Let $Y  = X^2$.\n",
    "\n",
    "(a)  compute the covariance of the two random variables manually and compare it to the value obtained by `cov` r function.\n",
    "\n",
    "(b)  Find  E(X) and E(Y ).\n",
    "\n",
    "(c)   Show X  and Y  are not independent.\n",
    "\n",
    "(d)  Show Cov(X, Y ) = 0.\n",
    "\\end{exercise}\n"
   ]
  },
  {
   "cell_type": "markdown",
   "metadata": {},
   "source": [
    "a) \n",
    "\n",
    "\n",
    "$$\n",
    "\\begin{array}{l|ccccc|c}\n",
    "Y \\backslash^{X} & -2 & -1 & 0 & 1 & 2 &\\\\ \n",
    "\\hline 0 & 0 & 0 & 1/5 & 0 & 0 & 1/5\\\\\n",
    "1 & 0 & 1/5 & 0  & 1/5 & 0 & 2/5\\\\\n",
    "4 & 1/5 & 0 & 0 & 0 & 1/5 & 2/5\\\\\n",
    "\\hline & 1/5 & 1/5 & 1/5 & 1/5 & 1/5 & 1\\\\\n",
    "\\end{array}\n",
    "$$\n",
    "\n",
    "The covariance matches the value that cov returns.\n",
    "b)\n",
    "\n",
    "$E[X] = \\frac{1}{5}(-2 - 1 + 0 + 1 + 2)  = 0$\n",
    "\n",
    "$E[Y] = \\frac{1}{5}(4 + 1 + 1 + 4) = 2 $\n",
    "\n",
    "c) We can see that the X and Y are not independent since \n",
    "\n",
    "$P(X=-2 | Y = 0) = 0 \\neq P(X=-2)P(Y=0)$\n",
    "\n",
    "d)\n",
    "\n",
    "$Cov(X,Y) = E[XY] - E[X]E[Y] = \\frac{1}{5}(-2)(4) + \\frac{1}{5}(-1)(1)+0 + \\frac{1}{5}(1)(1) + \\frac{1}{5}(2)(4) = 0 $"
   ]
  },
  {
   "cell_type": "code",
   "execution_count": 73,
   "metadata": {},
   "outputs": [
    {
     "name": "stdout",
     "output_type": "stream",
     "text": [
      "Covariance: 0"
     ]
    }
   ],
   "source": [
    "x = c(-2,-1,0,1,2)\n",
    "y = c(4,1,0,1,4)\n",
    "\n",
    "cat(\"Covariance: \")\n",
    "cat(cov(x,y))"
   ]
  },
  {
   "cell_type": "markdown",
   "metadata": {},
   "source": [
    "# Continuous Joint Distributions\n",
    "\n",
    "\\begin{exercise}\n",
    "Suppose $X$ and $Y$ are continuous random variables with joint density function $f(x, y)=x+y$ on the unit square $[0,1] \\times[0,1]$.\n",
    "\n",
    "(a) Let $F(x, y)$ be the joint CDF. Compute $F(1,1) .$ Compute $F(x, y)$.\n",
    "\n",
    "(b) Compute the marginal densities for $X$ and $Y$.\n",
    "\n",
    "(c) Are $X$ and $Y$ independent?\n",
    "\n",
    "(d) Compute $E(X),(Y), E\\left(X^{2}+Y^{2}\\right), \\operatorname{Cov}(X, Y)$\n",
    "\\end{exercise}\n",
    "\n",
    "\n"
   ]
  },
  {
   "cell_type": "markdown",
   "metadata": {},
   "source": [
    "a)\n",
    "\n",
    "$F(a,b) = P(X\\leq \\alpha | Y \\leq b) = \\int_0^{\\alpha}\\int_0^{\\beta}(x+y)dydx $\n",
    "\n",
    "$F(x,y) = \\frac{x^2y+xy^2}{2} , F(1,1) = 1$\n",
    "\n",
    "b)\n",
    "\n",
    "$f_X(x) = \\int_0^1 f(x,y)dy = \\int_0^1(x+y)dt = x + \\frac{1}{2}$\n",
    "\n",
    "By summetry, $f_Y(y) = y + \\frac{1}{2}$\n",
    "\n",
    "c)\n",
    "\n",
    "$f(x,y) = x + y , f_X(x)f_Y(y) = (x + \\frac{1}{2})(y + \\frac{1}{2})$\n",
    "\n",
    "Since the above are not equal then X and Y are not independent.\n",
    "\n",
    "d)\n",
    "\n",
    "$E[X] = \\int_0^1\\int_0^1 x(x+y)dydx = \\frac{7}{12}$\n",
    "By summetry,\n",
    "\n",
    "$E[Y] = \\int_0^1\\int_0^1 x(x+y)dydx = \\frac{7}{12}$\n",
    "\n",
    "$E[X^2 + Y^2] = \\int_0^1\\int_0^1 (x^2+y^2)(x+y)dydx = \\frac{5}{6}$\n",
    "\n",
    "$E[XY] = \\int_0^1\\int_0^1 xy(x+y)dydx = \\frac{1}{3}$\n",
    "\n",
    "$\\text{Cov}(X,Y) = E[XY] - E[X]E[Y] = \\frac{1}{3} - \\frac{49}{144} = -\\frac{1}{144}$"
   ]
  },
  {
   "cell_type": "markdown",
   "metadata": {},
   "source": [
    "# Law  of Large Numbers, Central Limit Theorem\n",
    "\n",
    "\\begin{exercise}\n",
    "Suppose $X_{1}, \\ldots, X_{100}$ are i.i.d. with mean $1 / 5$ and variance $1 / 9 .$ Use the central limit to estimate $P\\left(\\sum X_{i}<30\\right)$\n",
    "\\end{exercise}\n",
    "\n",
    "$P\\left(\\sum_i X_i < 30 \\right) = P\\left(\\frac{\\frac{1}{n}\\sum X_i - \\mu}{\\frac{\\sigma}{\\sqrt{n}}}<\\frac{\\frac{30}{n} -\\mu}{\\frac{\\sigma}{\\sqrt{n}}}\\right) = P\\left( Z < \\frac{\\frac{30}{100}-\\frac{1}{5}}{\\frac{1}{30}}\\right) = P(Z < 3)  = 0.9987$\n",
    "\n",
    "\\begin{exercise}\n",
    "(Central Limit Theorem) Let $X_{1}, X_{2}, \\ldots, X_{81}$ be i.i.d., each with expected value $\\mu=E\\left(X_{i}\\right)=5,$ and variance $\\sigma^{2}=\\operatorname{Var}\\left(X_{i}\\right)=4 .$ Approximate $P\\left(X_{1}+X_{2}+\\cdots X_{81}>369\\right)$\n",
    "using the central limit theorem.\n",
    "\\end{exercise}\n",
    "\n",
    "\n",
    "(Central Limit Theorem) Let $X_{1}, X_{2}, \\ldots, X_{81}$ be i.i.d., each with expected value $\\mu=E\\left(X_{i}\\right)=5,$ and variance $\\sigma^{2}=\\operatorname{Var}\\left(X_{i}\\right)=4 .$ Approximate $P\\left(X_{1}+X_{2}+\\cdots X_{81}>369\\right)$\n",
    "using the central limit theorem.\n",
    "\n",
    "\n",
    "$P\\left(\\sum_i X_i < 369 \\right) = P\\left(\\frac{\\frac{1}{n}\\sum X_i - \\mu}{\\frac{\\sigma}{\\sqrt{n}}}<\\frac{\\frac{369}{n} -\\mu}{\\frac{\\sigma}{\\sqrt{n}}}\\right) = P\\left( Z < \\frac{\\frac{369}{81}-5}{\\frac{2}{9}}\\right) = P(Z < -2)  =  0.0228$\n",
    "\n",
    "\\begin{exercise}\n",
    "\n",
    "(Binomial $\\approx$ normal) Let $X \\sim$ binomial $(100,1 / 3)$. An 'exact' computation in $\\mathrm{R}$ gives $P(X \\leq 30)=0.2765539 .$ Use the central limit theorem to give an approximation of $P(X \\leq 30)$\n",
    "\\end{exercise}\n",
    "\n",
    "$P(X\\leq 30) = P(Z \\leq \\frac{30 - n\\cdot p}{\\sqrt{np(1-p)}}) = P(Z \\leq \\frac{30 - 100\\cdot \\frac{1}{3}}{\\sqrt{100 \\cdot \\frac{1}{3}\\cdot \\frac{2}{3}}})  = 0.235702260$\n",
    "\n",
    "\n",
    "\\begin{exercise}\n",
    "The  average  IQ  in a population is 100 with  standard deviation  15 (by  definition,  IQ  is normalized  so this is the case).  What  is the probability that a randomly  selected group of\n",
    "100 people has an average IQ above 115? \n",
    "\\end{exercise}\n",
    "\n",
    "\n",
    "Let $X_j$ be the IQ of a randomly selected person. We know that $E[X_j] = 100$ and $\\sigma_{x_j} - 15$. Let $\\bar{X}$ be the average of IQ'S of 100 randomly selected people. Then $E[\\bar{X}] = 100 $ and $\\sigma_{\\bar{X}} = 15/\\sqrt{100} = 1.5$"
   ]
  },
  {
   "cell_type": "markdown",
   "metadata": {},
   "source": [
    "Let $X_{1}, X_{2}, \\ldots, X_{81}$ be i.i.d., each with expected value $\\mu=E\\left(X_{i}\\right)=5,$ and variance $\\sigma^{2}=\\operatorname{Var}\\left(X_{i}\\right)=4 .$ Approximate $P\\left(X_{1}+X_{2}+\\cdots X_{81}>369\\right)$\n",
    "using the central limit theorem."
   ]
  },
  {
   "cell_type": "markdown",
   "metadata": {},
   "source": [
    "# Bayes' rule\n",
    "\n",
    "Bayes' rule shows how probabilities change in the light of evidence. It is a very important tool in Bayesian statistical inference. Let $B_{1}, B_{2}, \\ldots, B_{s}$ again be a partition of $\\Omega .$ Bayes' rule follows from the axioms of probability\n",
    "$$\n",
    "P\\left(B_{i} \\mid A\\right)=\\frac{P\\left(A \\mid B_{i}\\right) P\\left(B_{i}\\right)}{\\sum_{j} P\\left(A \\mid B_{j}\\right) P\\left(B_{j}\\right)}\n",
    "$$\n",
    "\n",
    "\\begin{exercise}\n",
    "Consider a physician's diagnostic test for the presence or absence of some rare disease $D,$ that only occurs in $0.1 \\%$ of the population, i.e. $P(D)=.001 .$ It follows that $P(\\bar{D})=.999,$ where $\\bar{D}$ indicates that a person does not have the disease. The probability of an event before the evaluation of evidence through Bayes' rule is often called the prior probability. The prior probability that someone picked at random from the population has the disease is therefore $P(D)=.001$\n",
    "\n",
    "Furthermore we denote a positive test result by $T^{+},$ and a negative test result by $T^{-}$. The performance of the test is summarized in the following table 1.\n",
    "\n",
    "$$\n",
    "\\begin{aligned}\n",
    "&\\begin{array}{|c|ll|}\n",
    "\\hline & T^{+} & T^{-} \\\\\n",
    "\\hline D & 0.95 & 0.05 \\\\\n",
    "\\bar{D} & 0.02 & 0.98 \\\\\n",
    "\\hline\n",
    "\\end{array}\\\\\n",
    "&\\text { Table 1: Performance of diagnostic test }\n",
    "\\end{aligned}\n",
    "$$\n",
    "\n",
    "What is the probability that a patient has the disease, if the test result is\n",
    "positive?\n",
    "\\end{exercise}\n",
    "\n",
    "**Answer**: First, notice that $D, \\bar{D}$ is a partition of the outcome space. We apply Bayes' rule to obtain\n",
    "\n",
    "$$\n",
    "P\\left(D \\mid T^{+}\\right)=\\frac{P\\left(T^{+} \\mid D\\right) P(D)}{P\\left(T^{+} \\mid D\\right) P(D)+P\\left(T^{+} \\mid \\bar{D}\\right) P(\\bar{D})}=\\frac{.95 \\cdot .001}{.95 \\cdot .001+.02 \\cdot .999}=.045 .\n",
    "$$\n",
    "\n",
    "Only $4.5\\%$ of the people with a positive test result actually have the disease. \n",
    "\n",
    "\\begin{exercise}\n",
    "A and B  manufacturers  are equally likely to produce screens for laptops. The lifetimes for the screens (measured in hundreds of hours) manufactured by each company are independently distributed as follows:\n",
    "\n",
    "- Manufacturer A: lifetime of screens are normally distributed: $N(20,4)$\n",
    "\n",
    "- Manufacturer B: lifetime of screens are exponentially distributed: $\\operatorname{Exp}(1 / 20)$\n",
    "\n",
    "Say we bought a laptop, have used it for 18 hundred hours so far, and the screen is still working at this point in time.\n",
    "\n",
    "a) At this point in time, what is the probability that manufacturer A produced the screen?\n",
    "\n",
    "b) At this point in time, what is the probability that manufacturer B produced the screen?\n",
    "\\end{exercise}\n",
    "\n",
    "\n",
    "\n"
   ]
  },
  {
   "cell_type": "markdown",
   "metadata": {},
   "source": [
    "# Computing with R"
   ]
  },
  {
   "cell_type": "markdown",
   "metadata": {},
   "source": [
    "\\begin{exercise}\n",
    "\n",
    "Consider $X_{1}, X_{2}, \\ldots$ all independent and with distribution $\\mathrm{N}(0,1) .$ Let $\\bar{X}_{n}$ be the average of $X_{1}, \\ldots X_{n}$\n",
    "\n",
    "(a) Give $E\\left(\\bar{X}_{n}\\right)$ and $\\sigma_{\\bar{X}_{n}}$ exactly.\n",
    "\n",
    "(b) Use a R simulation to estimate $E\\left(\\bar{X}_{n}\\right)$ and $\\operatorname{Var}\\left(\\bar{X}_{n}\\right)$ for $n=1,9,100 .$ (You should use the `rnorm` function to simulate 1000 samples of each $X_{j .}$ )\n",
    "\\end{exercise}"
   ]
  },
  {
   "cell_type": "markdown",
   "metadata": {},
   "source": [
    "a)\n",
    "\n",
    "The expected value $E(X)$ has various properties,and two of them that are connected with the linearity are described below: \n",
    "\n",
    "- $E[X + Y] = E[X] + E[Y]$\n",
    "\n",
    "- $E[\\alpha X] = \\alpha E[X]$\n",
    "\n",
    "The variance is related with the expected value as follow: \n",
    "\n",
    "- $\\text{Var}(X) = E[X^2] - E[X]^2$\n",
    "\n",
    "Thus,\n",
    "\n",
    "$ E[\\bar{X}_{n}] = Ε[\\frac{X_1 + X_2 +...+X_n}{n}] = \\frac{1}{n} E[X_1 + X_2 +...+ X_n] = \\frac{1}{n}(E[X_1] + E[X_2] +...+ E[X_n])$\n",
    "\n",
    "$\\sigma_{\\bar{X}_{n}} = \\sqrt{Var(\\bar{X}_{n})} = \\sqrt{E[\\bar{X}_{n}^2] - E[\\bar{X}_{n}]^2}$\n",
    "\n",
    "$\\sigma_{\\bar{X}_{n}} = \\sqrt{E[\\bar{X}_{n}^2] - (\\frac{1}{n}(E[X_1] + E[X_2] +...+ E[X_n]))^2}$\n",
    "\n",
    "$\\sigma_{\\bar{X}_{n}} = \\sqrt{E[\\frac{(X_1 + X_2 +...+X_n)^2}{n^2}] - (\\frac{1}{n}(E[X_1] + E[X_2] +...+ E[X_n]))^2}$"
   ]
  },
  {
   "cell_type": "markdown",
   "metadata": {},
   "source": [
    "b)\n",
    "\n"
   ]
  },
  {
   "cell_type": "code",
   "execution_count": 51,
   "metadata": {},
   "outputs": [
    {
     "name": "stdout",
     "output_type": "stream",
     "text": [
      "E[X]: 0.01612787\n",
      "S: 0.9834589\n",
      "\n",
      "E[X]: -0.004427209\n",
      "S: 0.9988775\n",
      "\n",
      "E[X]: -0.009106453\n",
      "S: 1.003137\n",
      "\n"
     ]
    }
   ],
   "source": [
    "# Set the seed \n",
    "set.seed(123)\n",
    "\n",
    "# Generate a vector with n\n",
    "n = c(1,9,10)\n",
    "\n",
    "for( n_i in n){\n",
    "    X_n = c()\n",
    "    \n",
    "    # Generate the random variables for each case\n",
    "    for(i in 1:n_i){\n",
    "        X_n = append(X_n,rnorm(1000,0,1))\n",
    "    }\n",
    "    \n",
    "    # Calculate the expected value and the standard deviation\n",
    "    cat(\"E[X]: \")\n",
    "    cat(mean(X_n))\n",
    "    cat(\"\\n\")\n",
    "    \n",
    "    cat(\"S: \")\n",
    "    cat(var(X_n))\n",
    "    cat(\"\\n\")\n",
    "    \n",
    "    cat(\"\\n\")\n",
    "}\n",
    "\n"
   ]
  },
  {
   "cell_type": "markdown",
   "metadata": {},
   "source": [
    "\\begin{exercise}\n",
    "Let $X_{1}, X_{2}, X_{3}, X_{4}, X_{5}$ be independent $U(0,1)$ random variables. \n",
    "Let $X=X_{1}+X_{2}+X_{3}$ and $Y=X_{3}+X_{4}+X_{5}$\n",
    "\n",
    "Use the `runif()` function to simulate 1000 trials of each of these variables. Use these to estimate $\\operatorname{Cov}(X, Y)$\n",
    "\n",
    "\\end{exercise}"
   ]
  },
  {
   "cell_type": "code",
   "execution_count": 26,
   "metadata": {},
   "outputs": [
    {
     "name": "stdout",
     "output_type": "stream",
     "text": [
      "Covariance: 0.08502056"
     ]
    }
   ],
   "source": [
    "# Set the seed \n",
    "set.seed(123)\n",
    "\n",
    "# Produce uniform random number variables\n",
    "X_1 = runif(1000,0,1)\n",
    "X_2 = runif(1000,0,1)\n",
    "X_3 = runif(1000,0,1)\n",
    "X_4 = runif(1000,0,1)\n",
    "X_5 = runif(1000,0,1)\n",
    "\n",
    "# Calculate the X and Y random variables\n",
    "X = X_1 + X_2 + X_3\n",
    "Y = X_3 + X_4 + X_5\n",
    "\n",
    "# Calculate the covariance\n",
    "cat(\"Covariance: \")\n",
    "cat(cov(X,Y))"
   ]
  }
 ],
 "metadata": {
  "kernelspec": {
   "display_name": "R",
   "language": "R",
   "name": "ir"
  },
  "language_info": {
   "codemirror_mode": "r",
   "file_extension": ".r",
   "mimetype": "text/x-r-source",
   "name": "R",
   "pygments_lexer": "r",
   "version": "4.0.3"
  },
  "latex_envs": {
   "LaTeX_envs_menu_present": true,
   "autoclose": false,
   "autocomplete": true,
   "bibliofile": "biblio.bib",
   "cite_by": "apalike",
   "current_citInitial": 1,
   "eqLabelWithNumbers": true,
   "eqNumInitial": 1,
   "hotkeys": {
    "equation": "Ctrl-E",
    "itemize": "Ctrl-I"
   },
   "labels_anchors": false,
   "latex_user_defs": false,
   "report_style_numbering": false,
   "user_envs_cfg": false
  },
  "nbTranslate": {
   "displayLangs": [
    "*"
   ],
   "hotkey": "alt-t",
   "langInMainMenu": true,
   "sourceLang": "en",
   "targetLang": "fr",
   "useGoogleTranslate": true
  },
  "toc": {
   "base_numbering": 1,
   "nav_menu": {},
   "number_sections": true,
   "sideBar": true,
   "skip_h1_title": false,
   "title_cell": "Table of Contents",
   "title_sidebar": "Contents",
   "toc_cell": false,
   "toc_position": {},
   "toc_section_display": true,
   "toc_window_display": false
  },
  "varInspector": {
   "cols": {
    "lenName": 16,
    "lenType": 16,
    "lenVar": 40
   },
   "kernels_config": {
    "python": {
     "delete_cmd_postfix": "",
     "delete_cmd_prefix": "del ",
     "library": "var_list.py",
     "varRefreshCmd": "print(var_dic_list())"
    },
    "r": {
     "delete_cmd_postfix": ") ",
     "delete_cmd_prefix": "rm(",
     "library": "var_list.r",
     "varRefreshCmd": "cat(var_dic_list()) "
    }
   },
   "types_to_exclude": [
    "module",
    "function",
    "builtin_function_or_method",
    "instance",
    "_Feature"
   ],
   "window_display": false
  }
 },
 "nbformat": 4,
 "nbformat_minor": 4
}
