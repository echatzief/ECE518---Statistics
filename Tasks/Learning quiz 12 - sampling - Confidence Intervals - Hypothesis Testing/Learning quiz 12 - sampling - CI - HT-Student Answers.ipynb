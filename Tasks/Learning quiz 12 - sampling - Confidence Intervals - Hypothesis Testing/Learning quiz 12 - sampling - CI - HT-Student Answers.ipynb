{
 "cells": [
  {
   "cell_type": "markdown",
   "metadata": {},
   "source": [
    "# Learning Quiz 12\n",
    "\n",
    "\n",
    "### Team O:\n",
    "\n",
    "- Lefteris Chatziefraimidis 2209\n",
    "- George Fragkias 2118\n",
    "\n",
    "# http://ptrckprry.com/course/ub0103/lecture/confint-sol.pdf"
   ]
  },
  {
   "cell_type": "markdown",
   "metadata": {},
   "source": [
    "# Confidence Intervals for a Population Mean (Known Variance)"
   ]
  },
  {
   "cell_type": "markdown",
   "metadata": {},
   "source": [
    "\\begin{exercise}\n",
    "\n",
    "A random sample of $n$ measurements was selected from a population with unknown mean $\\mu$ and known standard deviation $\\sigma$. Calculate a $95 \\%$ confidence interval for $\\mu$ for each of the following situations:\n",
    "\n",
    "(a) $n=49, \\bar{x}=28, \\sigma=28$\n",
    "\n",
    "(b) $n=36, \\bar{x}=12, \\sigma=18$\n",
    "\n",
    "(c) $n=100, \\bar{x}=125, \\sigma=50$\n",
    "\n",
    "(d) Is the assumption that the underlying population of measurements is normally distributed necessary to ensure the validity of the confidence intervals in parts (a)-(c)?\n",
    "\n",
    "\\end{exercise}\n",
    "\n"
   ]
  },
  {
   "cell_type": "code",
   "execution_count": 1,
   "metadata": {},
   "outputs": [],
   "source": [
    "ci_known <- function( sigma=1, n=30, x_bar=0, cl=0.95){\n",
    "    # try to avoid some common errors\n",
    "    if( cl <=0 | cl>=1)\n",
    "      {return(\"Confidence interval must be strictly between 0.0 and 1\")\n",
    "      }\n",
    "    if( sigma < 0 )\n",
    "      {return(\"Population standard deviation must be positive\")}\n",
    "    if( n <= 1 )\n",
    "      {return(\"Sample size needs to be more than 1\")}\n",
    "    if( as.integer(n) != n )\n",
    "      {return(\"Sample size must be a whole number\")}\n",
    "    # to get here we have some \"reasonable\" values\n",
    "    samp_sd <- sigma/sqrt(n)\n",
    "    z <- abs( qnorm( (1-cl)/2))\n",
    "    moe <- z*samp_sd\n",
    "    low_end <- x_bar - moe\n",
    "    high_end <- x_bar + moe\n",
    "    result <- c(low_end, high_end, moe, samp_sd)\n",
    "    names(result)<-c(\"CI Low\",\"CI High\",\"MOE\", \"Std Error\")\n",
    "    return( result )\n",
    "} "
   ]
  },
  {
   "cell_type": "code",
   "execution_count": 3,
   "metadata": {},
   "outputs": [
    {
     "data": {
      "text/html": [
       "<style>\n",
       ".dl-inline {width: auto; margin:0; padding: 0}\n",
       ".dl-inline>dt, .dl-inline>dd {float: none; width: auto; display: inline-block}\n",
       ".dl-inline>dt::after {content: \":\\0020\"; padding-right: .5ex}\n",
       ".dl-inline>dt:not(:first-of-type) {padding-left: .5ex}\n",
       "</style><dl class=dl-inline><dt>CI Low</dt><dd>20.1601440618398</dd><dt>CI High</dt><dd>35.8398559381602</dd><dt>MOE</dt><dd>7.83985593816021</dd><dt>Std Error</dt><dd>4</dd></dl>\n"
      ],
      "text/latex": [
       "\\begin{description*}\n",
       "\\item[CI Low] 20.1601440618398\n",
       "\\item[CI High] 35.8398559381602\n",
       "\\item[MOE] 7.83985593816021\n",
       "\\item[Std Error] 4\n",
       "\\end{description*}\n"
      ],
      "text/markdown": [
       "CI Low\n",
       ":   20.1601440618398CI High\n",
       ":   35.8398559381602MOE\n",
       ":   7.83985593816021Std Error\n",
       ":   4\n",
       "\n"
      ],
      "text/plain": [
       "   CI Low   CI High       MOE Std Error \n",
       "20.160144 35.839856  7.839856  4.000000 "
      ]
     },
     "metadata": {},
     "output_type": "display_data"
    }
   ],
   "source": [
    "#a\n",
    "ci_known(28,49,28)"
   ]
  },
  {
   "cell_type": "code",
   "execution_count": 4,
   "metadata": {},
   "outputs": [
    {
     "data": {
      "text/html": [
       "<style>\n",
       ".dl-inline {width: auto; margin:0; padding: 0}\n",
       ".dl-inline>dt, .dl-inline>dd {float: none; width: auto; display: inline-block}\n",
       ".dl-inline>dt::after {content: \":\\0020\"; padding-right: .5ex}\n",
       ".dl-inline>dt:not(:first-of-type) {padding-left: .5ex}\n",
       "</style><dl class=dl-inline><dt>CI Low</dt><dd>6.12010804637984</dd><dt>CI High</dt><dd>17.8798919536202</dd><dt>MOE</dt><dd>5.87989195362016</dd><dt>Std Error</dt><dd>3</dd></dl>\n"
      ],
      "text/latex": [
       "\\begin{description*}\n",
       "\\item[CI Low] 6.12010804637984\n",
       "\\item[CI High] 17.8798919536202\n",
       "\\item[MOE] 5.87989195362016\n",
       "\\item[Std Error] 3\n",
       "\\end{description*}\n"
      ],
      "text/markdown": [
       "CI Low\n",
       ":   6.12010804637984CI High\n",
       ":   17.8798919536202MOE\n",
       ":   5.87989195362016Std Error\n",
       ":   3\n",
       "\n"
      ],
      "text/plain": [
       "   CI Low   CI High       MOE Std Error \n",
       " 6.120108 17.879892  5.879892  3.000000 "
      ]
     },
     "metadata": {},
     "output_type": "display_data"
    }
   ],
   "source": [
    "#b\n",
    "ci_known(18,36,12)"
   ]
  },
  {
   "cell_type": "code",
   "execution_count": 5,
   "metadata": {},
   "outputs": [
    {
     "data": {
      "text/html": [
       "<style>\n",
       ".dl-inline {width: auto; margin:0; padding: 0}\n",
       ".dl-inline>dt, .dl-inline>dd {float: none; width: auto; display: inline-block}\n",
       ".dl-inline>dt::after {content: \":\\0020\"; padding-right: .5ex}\n",
       ".dl-inline>dt:not(:first-of-type) {padding-left: .5ex}\n",
       "</style><dl class=dl-inline><dt>CI Low</dt><dd>115.2001800773</dd><dt>CI High</dt><dd>134.7998199227</dd><dt>MOE</dt><dd>9.79981992270027</dd><dt>Std Error</dt><dd>5</dd></dl>\n"
      ],
      "text/latex": [
       "\\begin{description*}\n",
       "\\item[CI Low] 115.2001800773\n",
       "\\item[CI High] 134.7998199227\n",
       "\\item[MOE] 9.79981992270027\n",
       "\\item[Std Error] 5\n",
       "\\end{description*}\n"
      ],
      "text/markdown": [
       "CI Low\n",
       ":   115.2001800773CI High\n",
       ":   134.7998199227MOE\n",
       ":   9.79981992270027Std Error\n",
       ":   5\n",
       "\n"
      ],
      "text/plain": [
       "   CI Low   CI High       MOE Std Error \n",
       "115.20018 134.79982   9.79982   5.00000 "
      ]
     },
     "metadata": {},
     "output_type": "display_data"
    }
   ],
   "source": [
    "#c\n",
    "ci_known(50,100,125)"
   ]
  },
  {
   "cell_type": "markdown",
   "metadata": {},
   "source": [
    "**d)**\n",
    "\n",
    "No. Since the sample sizes are large (n ≥ 30), the central limit theorem\n",
    "guarantees that $\\bar{x}$ is approximately normal, so the confidence intervals are valid."
   ]
  },
  {
   "cell_type": "markdown",
   "metadata": {},
   "source": [
    "\\begin{exercise}\n",
    "A random sample of 36 measurements was selected from a population with unknown mean $\\mu$ and known standard deviation $\\sigma=18 .$ The sample mean is $\\bar{x}=12 .$ Calculate a $95 \\%$ confidence interval for $\\mu$.\n",
    "\\end{exercise}\n"
   ]
  },
  {
   "cell_type": "code",
   "execution_count": 6,
   "metadata": {},
   "outputs": [
    {
     "data": {
      "text/html": [
       "<style>\n",
       ".dl-inline {width: auto; margin:0; padding: 0}\n",
       ".dl-inline>dt, .dl-inline>dd {float: none; width: auto; display: inline-block}\n",
       ".dl-inline>dt::after {content: \":\\0020\"; padding-right: .5ex}\n",
       ".dl-inline>dt:not(:first-of-type) {padding-left: .5ex}\n",
       "</style><dl class=dl-inline><dt>CI Low</dt><dd>6.12010804637984</dd><dt>CI High</dt><dd>17.8798919536202</dd><dt>MOE</dt><dd>5.87989195362016</dd><dt>Std Error</dt><dd>3</dd></dl>\n"
      ],
      "text/latex": [
       "\\begin{description*}\n",
       "\\item[CI Low] 6.12010804637984\n",
       "\\item[CI High] 17.8798919536202\n",
       "\\item[MOE] 5.87989195362016\n",
       "\\item[Std Error] 3\n",
       "\\end{description*}\n"
      ],
      "text/markdown": [
       "CI Low\n",
       ":   6.12010804637984CI High\n",
       ":   17.8798919536202MOE\n",
       ":   5.87989195362016Std Error\n",
       ":   3\n",
       "\n"
      ],
      "text/plain": [
       "   CI Low   CI High       MOE Std Error \n",
       " 6.120108 17.879892  5.879892  3.000000 "
      ]
     },
     "metadata": {},
     "output_type": "display_data"
    }
   ],
   "source": [
    "ci_known(18,36,12)"
   ]
  },
  {
   "cell_type": "markdown",
   "metadata": {},
   "source": [
    "\\begin{exercise}\n",
    "Complete Problem $2,$ with a $99 \\%$ confidence interval instead of a $95 \\%$ confidence interval.\n",
    "\\end{exercise}\n"
   ]
  },
  {
   "cell_type": "code",
   "execution_count": 7,
   "metadata": {},
   "outputs": [
    {
     "data": {
      "text/html": [
       "<style>\n",
       ".dl-inline {width: auto; margin:0; padding: 0}\n",
       ".dl-inline>dt, .dl-inline>dd {float: none; width: auto; display: inline-block}\n",
       ".dl-inline>dt::after {content: \":\\0020\"; padding-right: .5ex}\n",
       ".dl-inline>dt:not(:first-of-type) {padding-left: .5ex}\n",
       "</style><dl class=dl-inline><dt>CI Low</dt><dd>4.2725120893533</dd><dt>CI High</dt><dd>19.7274879106467</dd><dt>MOE</dt><dd>7.7274879106467</dd><dt>Std Error</dt><dd>3</dd></dl>\n"
      ],
      "text/latex": [
       "\\begin{description*}\n",
       "\\item[CI Low] 4.2725120893533\n",
       "\\item[CI High] 19.7274879106467\n",
       "\\item[MOE] 7.7274879106467\n",
       "\\item[Std Error] 3\n",
       "\\end{description*}\n"
      ],
      "text/markdown": [
       "CI Low\n",
       ":   4.2725120893533CI High\n",
       ":   19.7274879106467MOE\n",
       ":   7.7274879106467Std Error\n",
       ":   3\n",
       "\n"
      ],
      "text/plain": [
       "   CI Low   CI High       MOE Std Error \n",
       " 4.272512 19.727488  7.727488  3.000000 "
      ]
     },
     "metadata": {},
     "output_type": "display_data"
    }
   ],
   "source": [
    "ci_known(18,36,12,0.99)"
   ]
  },
  {
   "cell_type": "markdown",
   "metadata": {},
   "source": [
    "\\begin{exercise}\n",
    "\n",
    "A random sample of $n$ measurements was selected from a population with unknown mean $\\mu$ and unknown standard deviation $\\sigma$. Calculate a $95 \\%$ confidence interval for $\\mu$ for each of the following situations:\n",
    "\n",
    "(a) $n=25, \\bar{x}=28, s=12$\n",
    "\n",
    "(b) $n=100, \\bar{x}=125, s=50$\n",
    "\n",
    "(c) Is the assumption that the underlying population of measurements is normally distributed\n",
    "necessary to ensure the validity of the confidence intervals in parts (a)–(b)?\n",
    "\n",
    "\\end{exercise}\n"
   ]
  },
  {
   "cell_type": "code",
   "execution_count": 8,
   "metadata": {},
   "outputs": [
    {
     "data": {
      "text/html": [
       "<style>\n",
       ".dl-inline {width: auto; margin:0; padding: 0}\n",
       ".dl-inline>dt, .dl-inline>dd {float: none; width: auto; display: inline-block}\n",
       ".dl-inline>dt::after {content: \":\\0020\"; padding-right: .5ex}\n",
       ".dl-inline>dt:not(:first-of-type) {padding-left: .5ex}\n",
       "</style><dl class=dl-inline><dt>CI Low</dt><dd>23.2960864371039</dd><dt>CI High</dt><dd>32.7039135628961</dd><dt>MOE</dt><dd>4.70391356289613</dd><dt>Std Error</dt><dd>2.4</dd></dl>\n"
      ],
      "text/latex": [
       "\\begin{description*}\n",
       "\\item[CI Low] 23.2960864371039\n",
       "\\item[CI High] 32.7039135628961\n",
       "\\item[MOE] 4.70391356289613\n",
       "\\item[Std Error] 2.4\n",
       "\\end{description*}\n"
      ],
      "text/markdown": [
       "CI Low\n",
       ":   23.2960864371039CI High\n",
       ":   32.7039135628961MOE\n",
       ":   4.70391356289613Std Error\n",
       ":   2.4\n",
       "\n"
      ],
      "text/plain": [
       "   CI Low   CI High       MOE Std Error \n",
       "23.296086 32.703914  4.703914  2.400000 "
      ]
     },
     "metadata": {},
     "output_type": "display_data"
    }
   ],
   "source": [
    "#a\n",
    "ci_known(12,25,28)"
   ]
  },
  {
   "cell_type": "code",
   "execution_count": 9,
   "metadata": {},
   "outputs": [
    {
     "data": {
      "text/html": [
       "<style>\n",
       ".dl-inline {width: auto; margin:0; padding: 0}\n",
       ".dl-inline>dt, .dl-inline>dd {float: none; width: auto; display: inline-block}\n",
       ".dl-inline>dt::after {content: \":\\0020\"; padding-right: .5ex}\n",
       ".dl-inline>dt:not(:first-of-type) {padding-left: .5ex}\n",
       "</style><dl class=dl-inline><dt>CI Low</dt><dd>115.2001800773</dd><dt>CI High</dt><dd>134.7998199227</dd><dt>MOE</dt><dd>9.79981992270027</dd><dt>Std Error</dt><dd>5</dd></dl>\n"
      ],
      "text/latex": [
       "\\begin{description*}\n",
       "\\item[CI Low] 115.2001800773\n",
       "\\item[CI High] 134.7998199227\n",
       "\\item[MOE] 9.79981992270027\n",
       "\\item[Std Error] 5\n",
       "\\end{description*}\n"
      ],
      "text/markdown": [
       "CI Low\n",
       ":   115.2001800773CI High\n",
       ":   134.7998199227MOE\n",
       ":   9.79981992270027Std Error\n",
       ":   5\n",
       "\n"
      ],
      "text/plain": [
       "   CI Low   CI High       MOE Std Error \n",
       "115.20018 134.79982   9.79982   5.00000 "
      ]
     },
     "metadata": {},
     "output_type": "display_data"
    }
   ],
   "source": [
    "#b\n",
    "ci_known(50,100,125)"
   ]
  },
  {
   "cell_type": "markdown",
   "metadata": {},
   "source": [
    "**c)**\n",
    "\n",
    "We need this assumption for (a). In (b), the sample size is above 30, so the central limit theorem applies, and the t is a reasonable approximation."
   ]
  },
  {
   "cell_type": "markdown",
   "metadata": {},
   "source": [
    "\\begin{exercise}\n",
    "\n",
    "In each of the following situations, find $\\alpha$ and $t_{\\alpha / 2}$.\n",
    "\n",
    "(a) An $80 \\%$ confidence interval with $n=10$.\n",
    "\n",
    "(b) A $99 \\%$ confidence interval with $n=25$.\n",
    "\n",
    "(c) A $90 \\%$ confidence interval with $n=30$.\n",
    "\n",
    "\n",
    "\n",
    "\\end{exercise}\n"
   ]
  },
  {
   "cell_type": "code",
   "execution_count": 31,
   "metadata": {},
   "outputs": [],
   "source": [
    "find_a_t_a = function(n,cl=0.95){\n",
    "    # try to avoid some common errors\n",
    "    if( cl <=0 | cl>=1){\n",
    "        return(\"Confidence interval must be strictly between 0.0 and 1\")\n",
    "    }\n",
    "    if( n <= 1 ){\n",
    "        return(\"Sample size needs to be more than 1\")\n",
    "    }\n",
    "    a = 1 - cl\n",
    "    cat(\"α: \")\n",
    "    cat(a)\n",
    "    cat(\"\\ndegrees of freedom: \")\n",
    "    cat(n-1)\n",
    "    t <- abs( qt( (1-cl)/2, n-1))\n",
    "    cat(\"\\nt: \")\n",
    "    cat(t)\n",
    "    cat(\"\\n\\n\")\n",
    "}"
   ]
  },
  {
   "cell_type": "code",
   "execution_count": 32,
   "metadata": {},
   "outputs": [
    {
     "name": "stdout",
     "output_type": "stream",
     "text": [
      "α: 0.2\n",
      "degrees of freedom: 9\n",
      "t: 1.383029\n",
      "\n",
      "α: 0.01\n",
      "degrees of freedom: 24\n",
      "t: 2.79694\n",
      "\n",
      "α: 0.1\n",
      "degrees of freedom: 29\n",
      "t: 1.699127\n",
      "\n"
     ]
    }
   ],
   "source": [
    "#a\n",
    "find_a_t_a(10,0.8)\n",
    "\n",
    "#b\n",
    "find_a_t_a(25,0.99)\n",
    "\n",
    "#c\n",
    "find_a_t_a(30,0.9)"
   ]
  },
  {
   "cell_type": "markdown",
   "metadata": {},
   "source": [
    "\\begin{exercise}\n",
    "\n",
    "Compute $z_{\\alpha / 2}$ for each of the situations in the above problem.\n",
    "\n",
    "\\end{exercise}\n"
   ]
  },
  {
   "cell_type": "code",
   "execution_count": 38,
   "metadata": {},
   "outputs": [],
   "source": [
    "find_z = function(cl=0.95){\n",
    "    # try to avoid some common errors\n",
    "    if( cl <=0 | cl>=1){\n",
    "        return(\"Confidence interval must be strictly between 0.0 and 1\")\n",
    "    }\n",
    "    z <- abs( qnorm( (1-cl)/2))\n",
    "    cat(\"Z: \")\n",
    "    cat(z)\n",
    "    cat(\"\\n\\n\")\n",
    "}"
   ]
  },
  {
   "cell_type": "code",
   "execution_count": 39,
   "metadata": {},
   "outputs": [
    {
     "name": "stdout",
     "output_type": "stream",
     "text": [
      "Z: 1.281552\n",
      "\n",
      "Z: 2.575829\n",
      "\n",
      "Z: 1.644854\n",
      "\n"
     ]
    }
   ],
   "source": [
    "#a\n",
    "find_z(0.8)\n",
    "\n",
    "#b\n",
    "find_z(0.99)\n",
    "\n",
    "#c\n",
    "find_z(0.9)"
   ]
  },
  {
   "cell_type": "markdown",
   "metadata": {},
   "source": [
    "\n",
    "\\begin{exercise}\n",
    "The white wood material used for the roof of an ancient Japanese temple is imported from Northern Europe. The wooden roof must withstand as much as 100 centimeters of snow in the winter. Architects at Tohoku University (Japan) conducted a study to estimate the mean bending strength of the white wood roof. A sample of 25 pieces of the imported wood were tested and yielded the following statistics on breaking strength: $\\bar{x}=74.5, s=10.9 .$ Estimate the true mean breaking strength of the white wood with a $90 \\%$ confidence interval.\n",
    "\\end{exercise}\n",
    "\n"
   ]
  },
  {
   "cell_type": "markdown",
   "metadata": {},
   "source": []
  },
  {
   "cell_type": "markdown",
   "metadata": {},
   "source": [
    "# Confidence Intervals, based on the sample mean, $\\sigma$ unknown\n",
    "\n",
    "Read notes_quiz2.pdf \n",
    "\n",
    "We should be able to describe these same actions using R statements inside an R function.\n",
    "Consider the following function definition:  "
   ]
  },
  {
   "cell_type": "code",
   "execution_count": 47,
   "metadata": {},
   "outputs": [],
   "source": [
    "ci_unknown <- function( s=1, n=30,\n",
    "                        x_bar=0, cl=0.95)\n",
    "{\n",
    "  # try to avoid some common errors\n",
    "  if( cl <=0 | cl>=1)\n",
    "  {return(\"Confidence interval must be strictly between 0.0 and 1\")\n",
    "  }\n",
    "  if( s < 0 )\n",
    "  {return(\"Sample standard deviation must be positive\")}\n",
    "  if( n <= 1 )\n",
    "  {return(\"Sample size needs to be more than 1\")}\n",
    "  if( as.integer(n) != n )\n",
    "  {return(\"Sample size must be a whole number\")}\n",
    "  # to get here we have some \"reasonable\" values\n",
    "  samp_sd <- s/sqrt(n)\n",
    "  t <- abs( qt( (1-cl)/2, n-1))\n",
    "  moe <- t*samp_sd\n",
    "  low_end <- x_bar - moe\n",
    "  high_end <- x_bar + moe\n",
    "  result <- c(low_end, high_end, moe, samp_sd)\n",
    "  names(result)<-c(\"CI Low\",\"CI High\",\n",
    "                   \"MOE\", \"Std Error\")\n",
    "  return( result )\n",
    "}"
   ]
  },
  {
   "cell_type": "markdown",
   "metadata": {},
   "source": [
    "# Confidence interval for the variance of a normally distributed population\n",
    "\n",
    "The value of $s^{2}$ is used as a point estimator of the population variance, $\\sigma^{2}$. Confidence intervals of $\\sigma^{2}$ are based on the sampling distribution of (n-1) $\\mathrm{s}^{2} / \\sigma^{2}$. If samples of size $\\mathrm{n}$ are drawn from a normally distributed population, this quantity has a distribution known as the chi-square distribution ( $\\chi^{2}$) with $n-1$ degrees of freedom. The assumption that the sample is drawn from a normally distributed population is crucial."
   ]
  },
  {
   "cell_type": "markdown",
   "metadata": {},
   "source": [
    "## Confidence interval on the $\\chi^{2}$ distribution\n",
    "\n",
    "\\begin{theorem}\n",
    "If $X_{1}, X_{2}, \\ldots, X_{n}$ are normally distributed and $a=\\chi_{1-\\alpha / 2, n-1}^{2}$ and $b=\\chi_{\\alpha / 2, n-1^{\\prime}}^{2}$, then a $(1-\\alpha) \\%$ confidence interval for the population variance $\\sigma^{2}$ is:\n",
    "$$\n",
    "\\left(\\frac{(n-1) s^{2}}{b} \\leq \\sigma^{2} \\leq \\frac{(n-1) s^{2}}{a}\\right)\n",
    "$$\n",
    "And a $(1-\\alpha) \\%$ confidence interval for the population standard deviation $\\sigma$ is:\n",
    "$\\left(\\frac{\\sqrt{(n-1)}}{\\sqrt{b}} s \\leq \\sigma \\leq \\frac{\\sqrt{(n-1)}}{\\sqrt{a}}\\right)$\n",
    "\n",
    "\\end{theorem}"
   ]
  },
  {
   "cell_type": "markdown",
   "metadata": {},
   "source": [
    "\\begin{example}\n",
    " In a study on cholesterol levels a sample of 12 men and women was chosen. The plasma cholesterol levels (mmol/L) of the subjects were as follows: $6.0,6.4,7.0,5.8,6.0,5.8,5.9,6.7,6.1,6.5,6.3,$ and $5.8 .$ We assume that these 12 subjects constitute a simple random sample of a population of similar subjects. We wish to estimate the variance of the plasma cholesterol levels with a 95 percent confidence interval.\n",
    "\n",
    "\\end{example}\n",
    "\n"
   ]
  },
  {
   "cell_type": "code",
   "execution_count": null,
   "metadata": {},
   "outputs": [],
   "source": []
  },
  {
   "cell_type": "markdown",
   "metadata": {},
   "source": []
  },
  {
   "cell_type": "markdown",
   "metadata": {},
   "source": [
    "\\begin{exercise}\n",
    "A statistician chooses 27 randomly selected dates, and when examining the occupancy records of a particular motel for those dates, finds a standard deviation of 5.86 rooms rented. If the number of rooms rented is normally distributed, find the $95 \\%$ confidence interval for the population standard deviation of the number of rooms rented.\n",
    "\n",
    "\\end{exercise}\n"
   ]
  },
  {
   "cell_type": "markdown",
   "metadata": {},
   "source": [
    "\\begin{exercise}\n",
    "A statistician chooses 20 randomly selected class days and counts the number of students present in $18.05 .$ The find a standard deviation of 4.56 students If the number of students present is normally distributed, find the $95 \\%$ confidence interval for the population standard deviation of the number of students in attendance.\n",
    "\\end{exercise}"
   ]
  },
  {
   "cell_type": "markdown",
   "metadata": {},
   "source": [
    "In each case, in the following exercises the answers to the specified questions are given. Your task is to find those same answers by inspecting the given information and/or by using R  to produce those desired values. "
   ]
  },
  {
   "cell_type": "markdown",
   "metadata": {},
   "source": [
    "# Case 1:\n",
    "\n",
    "\n",
    "\\begin{exercise}\n",
    "\n",
    "We have a sample of size 35 from a population that we know has an unknown standard deviation. The mean of that sample is 78.80 and the standard deviation of the sample is 8.36 .\n",
    "\n",
    "(1) What is the point estimate for the mean, $\\mu_{1}$, of the population? (Answer= 78.80 )\n",
    "\n",
    "(2) Considering the size of our sample, what is our best estimate of the standard deviation of sample means for sample of this size? (Answer $=1.4131)$\n",
    "\n",
    "(3) We want a $92 \\%$ confidence interval. We know that the sample means are distributed as a Student's t. with a certain number of degrees of freedom. What is the value we need to use for the degrees of freedom in this case? (Answer $=34)$\n",
    "\n",
    "What is the $\\mathbf{t}$ value, for that number of degrees of freedom, that we will use so that in the Student's $t$ distribution there is $92 \\%$ of the area between $-t$ and $t ?$ (Answer $=1.8046$ or -1.8046$)$\n",
    "\n",
    "(4) Using all of those results, what is the $92 \\%$ confidence interval for the population mean? (Answer $=(76.2499,81.3501)$\n",
    "\n",
    "(5) What is the value of the margin of error for that confidence interval? (Answer $=2.5501$ )\n",
    "\n",
    "\\end{exercise}\n"
   ]
  },
  {
   "cell_type": "markdown",
   "metadata": {},
   "source": [
    "# Case 2 :\n",
    "\n",
    "\\begin{exercise}\n",
    "\n",
    "We have a sample of size 71 from a population that we know has an unknown standard deviation. The mean of that sample is 96.69 and the standard deviation of the sample is $17.51 .$\n",
    "\n",
    "(6) What is the point estimate for the mean, $\\mu_{1}$, of the population? (Answer= 96.69 )\n",
    "\n",
    "(7) Considering the size of our sample, what is our best estimate of the standard deviation of sample means for sample of this size? (Answer $=2.0781)$\n",
    "\n",
    "(8) We want a $88 \\%$ confidence interval. We know that the sample means are distributed as a Student's t. with a certain number of degrees of freedom. What is the value we need to use for the degrees of freedom in this case? (Answer $=70)$\n",
    "\n",
    "What is the $\\mathbf{t}$ value, for that number of degrees of freedom, that we will use so that in the Student's t distribution there is $88 \\%$ of the area between $-t$ and $t$ ? (Answer $=1.5740$ or -1.5740$)$\n",
    "\n",
    "(9) Using all of those results, what is the $88 \\%$ confidence interval for the population mean? (Answer $=(93.4192,99.9608)$\n",
    "\n",
    "(10) What is the value of the margin of error for that confidence interval? (Answer= 3.2708 )\n",
    "\n",
    "\\end{exercise}"
   ]
  },
  {
   "cell_type": "markdown",
   "metadata": {},
   "source": [
    "# Case 3\n",
    "\\begin{exercise}\n",
    "\n",
    "We have a sample of size 15 from a population that we know has an unknown standard deviation. The mean of that sample is -6.74 and the standard deviation of the sample is 18.16 .\n",
    "\n",
    "(11) What is the point estimate for the mean, $\\mu_{1}$, of the population? (Answer $\\left.=-6.74\\right)$\n",
    "\n",
    "(12) Considering the size of our sample, what is our best estimate of the standard deviation of sample means for sample of this size? (Answer $=\\mathbf{4 . 6 8 8 9 )}$\n",
    "\n",
    "(13) We want a $84 \\%$ confidence interval. We know that the sample means are distributed as a Student's t. with a certain number of degrees of freedom. What is the value we need to use for the degrees of freedom in this case? (Answer $=14$ )\n",
    "\n",
    "What is the $\\mathbf{t}$ value, for that number of degrees of freedom, that we will use so that in the Student's $t$ distribution there is $84 \\%$ of the area between $-t$ and $t ?$ (Answer $=1.4839$ or -1.4839$)$\n",
    "\n",
    "(14) Using all of those results, what is the $84 \\%$ confidence interval for the population mean? (Answer $=(-13.6978,0.2178)$\n",
    "\n",
    "(15) What is the value of the margin of error for that confidence interval? (Answer $=6.9578$ )\n",
    "\n",
    "\\end{exercise}\n"
   ]
  },
  {
   "cell_type": "markdown",
   "metadata": {},
   "source": []
  },
  {
   "cell_type": "markdown",
   "metadata": {},
   "source": [
    "# Case 4:\n",
    "We have a population with an unknown standard deviation. We draw a random sample from that population. The following code computes the sample:"
   ]
  },
  {
   "cell_type": "code",
   "execution_count": 4,
   "metadata": {},
   "outputs": [
    {
     "name": "stdout",
     "output_type": "stream",
     "text": [
      "style= 4   size= 39    seed= 25643   num digits= 1   alt_sign= 1 \n"
     ]
    }
   ],
   "source": [
    "source('gnrnd4.R')\n",
    "sample <- gnrnd4(1256433804,5300557)"
   ]
  },
  {
   "cell_type": "markdown",
   "metadata": {},
   "source": [
    "\\begin{exercise}\n",
    "(16) What is the sample size of the sample? (Answer= 39)\n",
    "\n",
    "(18) What is the sample mean of the sample? (Answer $=55.0615$ )\n",
    "\n",
    "(19) What is the standard deviation of the sample? (Answer $=6.2455$ )\n",
    "\n",
    "(20) What is the point estimate for the population mean? (Answer=55.0615)\n",
    "\n",
    "(21) Considering the size of our sample, what is the standard deviation of sample means for sample of this size? (Answer= 1.0001 )\n",
    "\n",
    "(22) We want a $80 \\%$ confidence interval. We know that the sample means are distributed as a Student's t with an appropriate number of degrees of freedom. What is the number of degrees of freedom in this case? (Answer $=38$ )\n",
    "\n",
    "What is the $t$ value that we will use so that in a Student's $t$ distribution there is $80 \\%$ of the area\n",
    "between $-t$ and $t ?$ (Answer $=1.3042$ or -1.3042$)$\n",
    "\n",
    "(23) Using all of those results, what is the $80 \\%$ confidence interval for the population mean? (Answer $=(53.7572,56.3659)$\n",
    "\n",
    "(24) What is the value of the margin of error for that confidence interval? (Answer $=1.3043)$\n",
    "\\end{exercise}\n",
    "\n",
    "\n"
   ]
  },
  {
   "cell_type": "markdown",
   "metadata": {},
   "source": [
    "# Case 5:\n",
    "We have a population with an unknown standard deviation. We draw a random sample from that population. Here is that sample:"
   ]
  },
  {
   "cell_type": "code",
   "execution_count": 5,
   "metadata": {
    "scrolled": true
   },
   "outputs": [
    {
     "name": "stdout",
     "output_type": "stream",
     "text": [
      "style= 4   size= 72    seed= 41782   num digits= 1   alt_sign= -1 \n"
     ]
    }
   ],
   "source": [
    "sample <- gnrnd4(6417827104,7300507)"
   ]
  },
  {
   "cell_type": "markdown",
   "metadata": {},
   "source": [
    "\\begin{exercise}\n",
    "(25) What is the sample size of the sample? (Answer= 72)\n",
    "\n",
    "(27) What is the sample mean of the sample? (Answer $=-51.7306$ )\n",
    "\n",
    "(28) What is the standard deviation of the sample? (Answer $=7.0055$ )\n",
    "\n",
    "(29) What is the point estimate for the population mean? (Answer=-51.7306)\n",
    "\n",
    "(30) Considering the size of our sample, what is the standard deviation of sample means for sample of this size? (Answer $=\\mathbf{0 . 8 2 5 6}$ )\n",
    "\n",
    "(31) We want a $98 \\%$ confidence interval. We know that the sample means are distributed as a Student's t with an appropriate number of degrees of freedom. What is the number of degrees of freedom in this case? (Answer $=71$ )\n",
    "\n",
    "What is the $\\mathbf{t}$ value that we will use so that in a Student's $t$ distribution there is $98 \\%$ of the area between $-t$ and $t ?$ (Answer $=2.3800$ or -2.3800$)$\n",
    "\n",
    "(32) Using all of those results, what is the $98 \\%$ confidence interval for the population mean? (Answer $=(-53.6955,-49.7656)$\n",
    "\n",
    "(33) What is the value of the margin of error for that confidence interval? (Answer $=1.9650$ )\n",
    "\n",
    "\\end{exercise}\n"
   ]
  },
  {
   "cell_type": "markdown",
   "metadata": {},
   "source": [
    "Case 6:\n",
    "We have a population with a normal distribution but an unknown standard deviation. We draw a random sample from that population. Here is that sample:"
   ]
  },
  {
   "cell_type": "code",
   "execution_count": 6,
   "metadata": {},
   "outputs": [
    {
     "name": "stdout",
     "output_type": "stream",
     "text": [
      "style= 4   size= 25    seed= 33615   num digits= 1   alt_sign= 1 \n"
     ]
    }
   ],
   "source": [
    "sample <- gnrnd4(1336152404,16600031)"
   ]
  },
  {
   "cell_type": "markdown",
   "metadata": {},
   "source": [
    "\\begin{exercise}\n",
    "(34) What is the sample size of the sample? (Answer= 25)\n",
    "\n",
    "(36) What is the sample mean of the sample? (Answer $=6.2240$ )\n",
    "\n",
    "(37) What is the standard deviation of the sample? (Answer $=15.4093$ )\n",
    "\n",
    "(38) What is the point estimate for the population mean? (Answer=6.2240)\n",
    "\n",
    "(39) Considering the size of our sample, what is the standard deviation of sample means for sample of this size? (Answer= 3.0819 )\n",
    "\n",
    "(40) We want a $90 \\%$ confidence interval. We know that the sample means are distributed as a Student's t with an appropriate number of degrees of freedom. What is the number of degrees of freedom in this case? (Answer $=24$ )\n",
    "\n",
    "What is the $\\mathbf{t}$ value that we will use so that in a Student's $t$ distribution there is $90 \\%$ of the area between $-t$ and $t$ (Answer $=1.7109$ or -1.7109$)$\n",
    "\n",
    "(41) Using all of those results, what is the $90 \\%$ confidence interval for the population mean? (Answer= $(\\mathbf{0 . 9 5 1 3}, \\mathbf{1 1 . 4 9 6 7})$\n",
    "\n",
    "(42) What is the value of the margin of error for that confidence interval? (Answer $=5.2727$ )\n",
    "\\end{exercise}\n"
   ]
  },
  {
   "cell_type": "markdown",
   "metadata": {},
   "source": [
    "# Case 7:\n",
    "We have a population with an unknown standard deviation. We draw a random sample from that population. Here is that sample:\n"
   ]
  },
  {
   "cell_type": "code",
   "execution_count": 7,
   "metadata": {},
   "outputs": [
    {
     "name": "stdout",
     "output_type": "stream",
     "text": [
      "style= 4   size= 85    seed= 38079   num digits= 1   alt_sign= 1 \n"
     ]
    }
   ],
   "source": [
    "sample <- gnrnd4(1380798404,192800951)"
   ]
  },
  {
   "cell_type": "markdown",
   "metadata": {},
   "source": [
    "\\begin{exercise}\n",
    "(43) What is the sample size of the sample? (Answer= 85)\n",
    "\n",
    "(45) What is the sample mean of the sample? (Answer $=96.5482$ )\n",
    "\n",
    "(46) What is the standard deviation of the sample? (Answer $=173.9825$ )\n",
    "\n",
    "(47) What is the point estimate for the population mean? (Answer=96.5482)\n",
    "\n",
    "(48) Considering the size of our sample, what is the standard deviation of sample means for sample of this size? (Answer $=18.8710)$\n",
    "\n",
    "(49) We want a $84 \\%$ confidence interval. We know that the sample means are distributed as a Student's $t$ with an appropriate number of degrees of freedom. What is the number of degrees of freedom in this case? (Answer $=84$ )\n",
    "\n",
    "What is the $\\mathbf{t}$ value that we will use so that in a Student's $\\mathrm{t}$ distribution there is $84 \\%$ of the area\n",
    "between $-t$ and $t ?$ (Answer $=1.4176$ or -1.4176$)$\n",
    "\n",
    "(50) Using all of those results, what is the $84 \\%$ confidence interval for the population mean? (Answer $=(69.7962,123.3002)$\n",
    "\n",
    "(51) What is the value of the margin of error for that confidence interval? (Answer $=26.7520$ )\n",
    "\\end{exercise}\n"
   ]
  },
  {
   "cell_type": "markdown",
   "metadata": {},
   "source": [
    "# Confidence Interval Worksheet for One Population \n"
   ]
  },
  {
   "cell_type": "markdown",
   "metadata": {},
   "source": [
    "The following code generates a sample taken from a large population. The items in that population can be classified in 6 different ways, which we have named by the values 1 through 6. "
   ]
  },
  {
   "cell_type": "code",
   "execution_count": 8,
   "metadata": {},
   "outputs": [
    {
     "name": "stdout",
     "output_type": "stream",
     "text": [
      "style= 7   size= 91    seed= 56600   num digits= 0   alt_sign= 1 \n",
      "8 6 8 8 7 4 \n",
      "1 1 1 1 1 1 1 1 2 2 2 2 2 2 3 3 3 3 3 3 3 3 4 4 4 4 4 4 4 4 5 5 5 5 5 5 5 6 6 6 6 \n"
     ]
    }
   ],
   "source": [
    "sample <- gnrnd4(566009007,4788686)"
   ]
  },
  {
   "cell_type": "markdown",
   "metadata": {},
   "source": [
    "We are interested in making a statement about the proportion of items with the characteristic assigned the value 3.\n",
    "\n",
    "\\begin{exercise}\n",
    "(1) State the sample size. (Answer: $\\mathbf{n}=\\mathbf{91}$ )\n",
    "\n",
    "(2) State the number of items in the sample with the 3 characteristic. (Answer: $\\mathbf{x}=\\mathbf{17}$ )\n",
    "\n",
    "(3) State the proportion of items in the sample with the 3 characteristic. (Answer: $\\mathbf{p}=\\mathbf{0.1868}$ )\n",
    "\n",
    "(4) Give the best point estimate for the proportion of items in the population with the particular characteristic. (Answer: $\\mathbf{p}=\\mathbf{0.1868})$\n",
    "\n",
    "(5) Give the estimate of the standard deviation of sample proportions found in samples of this size. (Answer: sd $=0.0409)$\n",
    "\n",
    "(6) We want to find a $80.25 \\%$ confidence interval for the proportion of the population with that characteristic. since the proportions are normally distributed, we need to find a z-value that has 0.09875 as the area to the right of that $z$ -value. Give that $z$ -value. (Answer:\n",
    "$\\mathrm{z}=1.2887)$\n",
    "\n",
    "(7) Give the margin of error. (Answer: moe $=\\mathbf{0.0527 )}$\n",
    "\n",
    "(8) Give the confidence interval. (Answer: $\\mathbf{C I}=(\\mathbf{0.1342}, \\mathbf{0.2395}))$\n",
    "\n",
    "\\end{exercise}\n"
   ]
  },
  {
   "cell_type": "markdown",
   "metadata": {},
   "source": [
    "# Confidence Interval for the Population Standard Deviation"
   ]
  },
  {
   "cell_type": "markdown",
   "metadata": {},
   "source": [
    "In the following table we have a sample taken from a population that is known to be approximately normally distributed. "
   ]
  },
  {
   "cell_type": "code",
   "execution_count": 9,
   "metadata": {},
   "outputs": [
    {
     "name": "stdout",
     "output_type": "stream",
     "text": [
      "style= 4   size= 32    seed= 45555   num digits= 1   alt_sign= 1 \n"
     ]
    }
   ],
   "source": [
    "sample <- gnrnd4(1455553104,13200283)"
   ]
  },
  {
   "cell_type": "markdown",
   "metadata": {},
   "source": [
    "\\begin{exercise}\n",
    "\n",
    "(1) Give the size of the sample. (Answer: $\\mathbf{n}=\\mathbf{32}$ \n",
    "\n",
    "(2) Give the standard deviation of the sample. (Answer: $\\mathbf{p}=\\mathbf{12.0844})$\n",
    "\n",
    "(3) Give the best point estimate for the standard deviation of the population. (Answer: $\\mathbf{p}=12.0844$\n",
    "\n",
    "(4) We know that the sample standard deviation will have a $\\chi^{2}$ distribution. Give the number of degrees of freedom for that $\\chi^{2}$ distribution for this problem. (Answer: $\\mathbf{d f}=3 \\mathbf{1}$ )\n",
    "\n",
    "(5) We want to find a $84.0 \\%$ confidence interval for the population standard deviation. What is the $\\chi^{2}$ value that has 0.0800 to the left of that value? (Answer: $\\chi^{2}=20.6839$ )\n",
    "\n",
    "(6) What is the $\\chi^{2}$ value that has 0.0800 to the right of that value? (Answer: $\\left.\\chi^{2}=42.6120\\right)$\n",
    "\n",
    "(22) Give the confidence interval. (Answer: $\\mathbf{C I}=(\\mathbf{10.3072}, \\mathbf{14.7941 )})$\n",
    "\\end{exercise}"
   ]
  },
  {
   "cell_type": "markdown",
   "metadata": {},
   "source": [
    "# Hypothesis test for Population Mean, based on the sample mean, $\\sigma$ known"
   ]
  },
  {
   "cell_type": "markdown",
   "metadata": {},
   "source": [
    "We have a population with a known standard deviation $\\sigma=32.57$. We also know that the population is has an approximate normal distribution. We draw a random sample from that population. Here is that sample:"
   ]
  },
  {
   "cell_type": "code",
   "execution_count": 10,
   "metadata": {},
   "outputs": [
    {
     "name": "stdout",
     "output_type": "stream",
     "text": [
      "style= 4   size= 27    seed= 51797   num digits= 2   alt_sign= 1 \n"
     ]
    }
   ],
   "source": [
    "sample <- gnrnd4(2517972604,254801540)"
   ]
  },
  {
   "cell_type": "markdown",
   "metadata": {},
   "source": [
    "We want to test the null hypothesis that the mean of the population is equal to 23.07 against the alternative hypothesis that the mean is less than 23.07. We want to run the test at the 0.050 level of significance. "
   ]
  },
  {
   "cell_type": "markdown",
   "metadata": {},
   "source": [
    "\\begin{exercise}\n",
    "\n",
    "(1) What is the sample size of the sample? (Answer= 27)\n",
    "\n",
    "(2) State the null hypothesis. (Answer: $\\mathbf{H}_{\\mathbf{0}}=\\mathbf{23.07}$ )\n",
    "\n",
    "(3) State the alternative hypothesis. (Answer: $\\mathbf{H}_{\\mathbf{1}}<\\mathbf{23.07}$ )\n",
    "\n",
    "(4) State the standard deviation of the population. (Answer: $\\sigma=32.57)$\n",
    "\n",
    "(5) State the standard deviation of the means of samples of this size. (Answer: 6.27 )\n",
    "\n",
    "(6) State the level of significance at which we are going to run this test. (Answer: $\\mathbf{0.050}$ )\n",
    "\n",
    "(7) For a standard normal distribution give the z value that has $\\mathrm{P}(\\mathrm{X} \\leq \\mathrm{z})=0.050$. (Answer: 1.6449 )\n",
    "\n",
    "(8) Give the critical value or values for this test. (Answer: Reject if sample mean is less than 12.76$)$\n",
    "\n",
    "(9) Give the value of the sample mean. (Answer: 11.8330 )\n",
    "\n",
    "(10) Based on the 'critical value test' do we reject or not reject $\\mathrm{H}_{0}$ in favor of $\\mathrm{H}_{1}$ ? (Answer:\n",
    "reject)\n",
    "\n",
    "(11) If $\\mathrm{H}_{0}$ is true, and considering $\\mathrm{H}_{1}$ as the alternative, then what is the attained (achieved) significance of having the sample mean that we found? (Answer: 0.0365$)$\n",
    "\n",
    "(12) Based on the 'attained significance test' do we reject or not reject $\\mathrm{H}_{0}$ in favor of $\\mathrm{H}_{1}$ ? (Answer: reject)\n",
    "\\end{exercise}\n"
   ]
  },
  {
   "cell_type": "markdown",
   "metadata": {},
   "source": [
    "# Confidence Interval for the population mean, $\\mu,$ based on the sample mean when $\\sigma$ is unknown"
   ]
  },
  {
   "cell_type": "markdown",
   "metadata": {},
   "source": [
    "We have a population with an unknown standard deviation. We draw a random sample from that population. Here is that sample:"
   ]
  },
  {
   "cell_type": "code",
   "execution_count": 11,
   "metadata": {},
   "outputs": [
    {
     "name": "stdout",
     "output_type": "stream",
     "text": [
      "style= 4   size= 47    seed= 26918   num digits= 1   alt_sign= 1 \n"
     ]
    }
   ],
   "source": [
    "sample <- gnrnd4(1269184604,6900329)"
   ]
  },
  {
   "cell_type": "markdown",
   "metadata": {},
   "source": [
    "\\begin{exercise}\n",
    "(1) What is the sample size of the sample? (Answer= 47)\n",
    "\n",
    "(2) What is the sample mean of the sample? (Answer= 33.0553 )\n",
    "\n",
    "(3) What is the standard deviation of the sample? (Answer $=6.8456$ )\n",
    "\n",
    "(4) What is the point estimate for the population mean? (Answer=33.0553)\n",
    "\n",
    "(5) Considering the size of our sample, what is the standard deviation of sample means for sample of this size? (Answer $=\\mathbf{0.9985}$ )\n",
    "\n",
    "(6) We want a $88\\%$ confidence interval. We know that the sample means are distributed as a Student's t with an appropriate number of degrees of freedom. What is the number of degrees of freedom in this case? (Answer $=46$ )\n",
    "\n",
    "What is the $\\mathbf{t}$ value that we will use so that in a Student's $t$ distribution there is $88 \\%$ of the area\n",
    "between $-t$ and $t ?$ (Answer $=1.5842$ or -1.5842$)$\n",
    "\n",
    "(7) Using all of those results, what is the $88 \\%$ confidence interval for the population mean? (Answer $=(31.4734,34.6372)$\n",
    "\n",
    "(8) What is the value of the margin of error for that confidence interval? (Answer $=1.5819$ )\n",
    "\n",
    "\\end{exercise}\n"
   ]
  },
  {
   "cell_type": "markdown",
   "metadata": {},
   "source": [
    "# Hypothesis Test for Population Proportion "
   ]
  },
  {
   "cell_type": "markdown",
   "metadata": {},
   "source": [
    "In the following table we have a sample taken from a large population. The items in that population can be classified in 3 different ways, which we have named by the values 1 through 3. "
   ]
  },
  {
   "cell_type": "code",
   "execution_count": 12,
   "metadata": {},
   "outputs": [
    {
     "name": "stdout",
     "output_type": "stream",
     "text": [
      "style= 7   size= 96    seed= 53849   num digits= 0   alt_sign= 1 \n",
      "5 6 9 \n",
      "1 1 1 1 1 2 2 2 2 2 2 3 3 3 3 3 3 3 3 3 \n"
     ]
    }
   ],
   "source": [
    "sample <- gnrnd4(538499507,9653)"
   ]
  },
  {
   "cell_type": "markdown",
   "metadata": {},
   "source": [
    "We are interested in testing the hypothesis that in the population the proportion of items with the characteristic assigned the value 3 is equal to 45.00% against the alternative that the proportion is greater than 45.00%. We want to run this test at the 0.0600 level of significance."
   ]
  },
  {
   "cell_type": "markdown",
   "metadata": {},
   "source": [
    "\\begin{exercise}\n",
    "(1) State the sample size. (Answer: $\\mathbf{n}=\\mathbf{96}$ )\n",
    "\n",
    "(2) State the number of items in the sample with the 3 characteristic. (Answer: $\\mathbf{x}=\\mathbf{46}$ )\n",
    "\n",
    "(3) State the null hypothesis. (Answer: $\\mathbf{H}_{0}: \\mathbf{p}=\\mathbf{0.4500}$ )\n",
    "\n",
    "(4) State the alternative hypothesis. (Answer: $\\mathbf{H}_{1}: \\mathbf{p}>\\mathbf{0.4500}$ )\n",
    "\n",
    "(5) Assuming $\\mathrm{H}_{0}$ is true, what is the estimate of the standard deviation of sample proportions for samples of this size? (Answer: $\\left.\\sigma_{\\mathrm{p}}=0.0508\\right)$\n",
    "\n",
    "(6) For this style of test, because the sample proportions will have an approximately normal distribution, what $\\mathbf{z}$ value will have 0.0600 as the area to the right of that value? (Answer:\n",
    "$=1.555)$\n",
    "\n",
    "(7) State the critical value(s) for this test. (Answer: high $=\\mathbf{0.529}$ )\n",
    "\n",
    "(8) State the proportion of items in the sample with the 3 characteristic. (Answer: $\\mathbf{p}=\\mathbf{0.4792}$.\n",
    "\n",
    "(9) Based on that proportion and the critical value(s) do we reject or not reject $\\mathrm{H}_{0}$ in favor of\n",
    "$\\mathrm{H}_{1} ?$ (Answer: Based on critical value(s): do not reject)\n",
    "\n",
    "(10) Give the attained (achieved) significance for $\\hat p$. (Answer: attained $=\\mathbf{0.2828}$ )\n",
    "\n",
    "(11) Based on that attained significance do we reject or not reject $\\mathrm{H}_{0}$ in favor of $\\mathrm{H}_{1}$ ? (Answer:\n",
    "Based on attained significance: do not reject)\n",
    "\\end{exercise}\n"
   ]
  },
  {
   "cell_type": "markdown",
   "metadata": {},
   "source": [
    "# Hypothesis Test Worksheet for One Population Standard Deviation"
   ]
  },
  {
   "cell_type": "markdown",
   "metadata": {},
   "source": [
    "\\begin{exercise}\n",
    "We have a population that we know to be approximately normally distributed. We want to test the hypothesis that the standard deviation in the population is 11.360 against the alternative that the population standard deviation is greater than $11.360 .$ We will perform this test at the 0.0925 level of significance. We take a sample of size 30 of that population. That sample has a sample standard deviation of 12.59 .\n",
    "\n",
    "(1) State the null hypothesis. (Answer: $\\left.\\mathbf{H}_{0}: \\sigma=11.36\\right)$\n",
    "(2) State the alternative hypothesis. (Answer: $\\left.\\mathbf{H}_{\\mathbf{1}}: \\mathbf{\\sigma}>\\mathbf{1 1 . 3 6}\\right)$\n",
    "\n",
    "(3) Give the number of degrees of freedom to use in this case. (Answer: $\\mathbf{d f}=\\mathbf{29}$ )\n",
    "\n",
    "(4) For this style of test, what $\\chi^{2}$ value will have 0.0925 as the area to the right of that value? (Answer: $\\left.\\chi^{2}=39.497\\right)$\n",
    "(5) Give the computed $\\chi^{2}$ value. (Answer: computed $\\chi^{2}=35.62$ )\n",
    "\n",
    "(6) Based on the critical value and the computed value should we reject or not reject $\\mathrm{H}_{0}$ ? (Answer: based on critical value: do not reject )\n",
    "\n",
    "(7) Give the attained (achieved) significance for $\\hat p$. (Answer: attained $=0.1849)$\n",
    "\n",
    "(8) Based on that attained significance do we reject or not reject $\\mathrm{H}_{0}$ in favor of $\\mathrm{H}_{1}$ ? (Answer:\n",
    "Based on attained significance: do not reject)\n",
    "\n",
    "\\end{exercise}\n"
   ]
  }
 ],
 "metadata": {
  "kernelspec": {
   "display_name": "R",
   "language": "R",
   "name": "ir"
  },
  "language_info": {
   "codemirror_mode": "r",
   "file_extension": ".r",
   "mimetype": "text/x-r-source",
   "name": "R",
   "pygments_lexer": "r",
   "version": "4.0.3"
  },
  "latex_envs": {
   "LaTeX_envs_menu_present": true,
   "autoclose": false,
   "autocomplete": true,
   "bibliofile": "biblio.bib",
   "cite_by": "apalike",
   "current_citInitial": 1,
   "eqLabelWithNumbers": true,
   "eqNumInitial": 1,
   "hotkeys": {
    "equation": "Ctrl-E",
    "itemize": "Ctrl-I"
   },
   "labels_anchors": false,
   "latex_user_defs": false,
   "report_style_numbering": false,
   "user_envs_cfg": false
  },
  "nbTranslate": {
   "displayLangs": [
    "*"
   ],
   "hotkey": "alt-t",
   "langInMainMenu": true,
   "sourceLang": "en",
   "targetLang": "fr",
   "useGoogleTranslate": true
  },
  "toc": {
   "base_numbering": 1,
   "nav_menu": {},
   "number_sections": true,
   "sideBar": true,
   "skip_h1_title": false,
   "title_cell": "Table of Contents",
   "title_sidebar": "Contents",
   "toc_cell": false,
   "toc_position": {},
   "toc_section_display": true,
   "toc_window_display": false
  },
  "varInspector": {
   "cols": {
    "lenName": 16,
    "lenType": 16,
    "lenVar": 40
   },
   "kernels_config": {
    "python": {
     "delete_cmd_postfix": "",
     "delete_cmd_prefix": "del ",
     "library": "var_list.py",
     "varRefreshCmd": "print(var_dic_list())"
    },
    "r": {
     "delete_cmd_postfix": ") ",
     "delete_cmd_prefix": "rm(",
     "library": "var_list.r",
     "varRefreshCmd": "cat(var_dic_list()) "
    }
   },
   "types_to_exclude": [
    "module",
    "function",
    "builtin_function_or_method",
    "instance",
    "_Feature"
   ],
   "window_display": false
  }
 },
 "nbformat": 4,
 "nbformat_minor": 4
}
