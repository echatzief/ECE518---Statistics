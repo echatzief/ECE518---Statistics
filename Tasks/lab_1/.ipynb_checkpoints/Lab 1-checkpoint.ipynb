{
 "cells": [
  {
   "cell_type": "markdown",
   "metadata": {},
   "source": [
    "# Lab 1\n",
    "\n",
    "\n",
    "### Members:\n",
    "\n",
    "- Lefteris Chatziefraimidis 2209"
   ]
  },
  {
   "cell_type": "markdown",
   "metadata": {},
   "source": [
    "### Install Dependencies"
   ]
  },
  {
   "cell_type": "code",
   "execution_count": 3,
   "metadata": {
    "ExecuteTime": {
     "end_time": "2020-10-06T10:50:08.375485Z",
     "start_time": "2020-10-06T10:48:35.717Z"
    },
    "scrolled": true
   },
   "outputs": [
    {
     "name": "stdout",
     "output_type": "stream",
     "text": [
      "\n",
      "The downloaded binary packages are in\n",
      "\t/var/folders/7b/n03c9vhs35s5pp1ljk1kr80c0000gp/T//RtmpV7JVP5/downloaded_packages\n"
     ]
    },
    {
     "name": "stderr",
     "output_type": "stream",
     "text": [
      "also installing the dependency ‘generics’\n",
      "\n",
      "\n"
     ]
    },
    {
     "name": "stdout",
     "output_type": "stream",
     "text": [
      "\n",
      "The downloaded binary packages are in\n",
      "\t/var/folders/7b/n03c9vhs35s5pp1ljk1kr80c0000gp/T//RtmpV7JVP5/downloaded_packages\n",
      "\n",
      "  There is a binary version available but the source version is later:\n",
      "      binary source needs_compilation\n",
      "readr  1.3.1  1.4.0              TRUE\n",
      "\n"
     ]
    },
    {
     "name": "stderr",
     "output_type": "stream",
     "text": [
      "installing the source package ‘readr’\n",
      "\n",
      "\n"
     ]
    },
    {
     "name": "stdout",
     "output_type": "stream",
     "text": [
      "\n",
      "The downloaded binary packages are in\n",
      "\t/var/folders/7b/n03c9vhs35s5pp1ljk1kr80c0000gp/T//RtmpV7JVP5/downloaded_packages\n"
     ]
    },
    {
     "name": "stderr",
     "output_type": "stream",
     "text": [
      "also installing the dependencies ‘plyr’, ‘reshape’\n",
      "\n",
      "\n"
     ]
    },
    {
     "name": "stdout",
     "output_type": "stream",
     "text": [
      "\n",
      "The downloaded binary packages are in\n",
      "\t/var/folders/7b/n03c9vhs35s5pp1ljk1kr80c0000gp/T//RtmpV7JVP5/downloaded_packages\n",
      "\n",
      "The downloaded binary packages are in\n",
      "\t/var/folders/7b/n03c9vhs35s5pp1ljk1kr80c0000gp/T//RtmpV7JVP5/downloaded_packages\n"
     ]
    },
    {
     "name": "stderr",
     "output_type": "stream",
     "text": [
      "Warning message:\n",
      "“package ‘sniny’ is not available (for R version 4.0.2)”\n"
     ]
    },
    {
     "name": "stdout",
     "output_type": "stream",
     "text": [
      "\n",
      "The downloaded binary packages are in\n",
      "\t/var/folders/7b/n03c9vhs35s5pp1ljk1kr80c0000gp/T//RtmpV7JVP5/downloaded_packages\n"
     ]
    }
   ],
   "source": [
    "install.packages(\"ISLR\")\n",
    "install.packages(\"dplyr\")\n",
    "install.packages(\"readr\")\n",
    "install.packages(\"ggplot2\")\n",
    "install.packages(\"GGally\")\n",
    "install.packages(\"rlang\")\n",
    "install.packages(\"sniny\")\n",
    "install.packages(\"manipulate\")"
   ]
  },
  {
   "cell_type": "markdown",
   "metadata": {},
   "source": [
    "### Loading Libraries"
   ]
  },
  {
   "cell_type": "code",
   "execution_count": 4,
   "metadata": {
    "ExecuteTime": {
     "end_time": "2020-10-06T10:50:52.529678Z",
     "start_time": "2020-10-06T10:50:51.718Z"
    }
   },
   "outputs": [
    {
     "name": "stderr",
     "output_type": "stream",
     "text": [
      "\n",
      "Attaching package: ‘dplyr’\n",
      "\n",
      "\n",
      "The following objects are masked from ‘package:stats’:\n",
      "\n",
      "    filter, lag\n",
      "\n",
      "\n",
      "The following objects are masked from ‘package:base’:\n",
      "\n",
      "    intersect, setdiff, setequal, union\n",
      "\n",
      "\n",
      "Registered S3 method overwritten by 'GGally':\n",
      "  method from   \n",
      "  +.gg   ggplot2\n",
      "\n"
     ]
    },
    {
     "ename": "ERROR",
     "evalue": "Error in library(shiny): there is no package called ‘shiny’\n",
     "output_type": "error",
     "traceback": [
      "Error in library(shiny): there is no package called ‘shiny’\nTraceback:\n",
      "1. library(shiny)"
     ]
    }
   ],
   "source": [
    "library(ISLR)\n",
    "library(dplyr)\n",
    "library(readr)\n",
    "library(ggplot2)\n",
    "library(GGally)\n",
    "library(rlang)\n",
    "library(shiny)\n",
    "library(manipulate)"
   ]
  },
  {
   "cell_type": "markdown",
   "metadata": {},
   "source": [
    "### Loading Data"
   ]
  },
  {
   "cell_type": "code",
   "execution_count": 1,
   "metadata": {
    "ExecuteTime": {
     "end_time": "2020-10-06T10:54:06.367168Z",
     "start_time": "2020-10-06T10:54:06.292Z"
    }
   },
   "outputs": [],
   "source": [
    "auto = read.table(\"Auto.data\")"
   ]
  }
 ],
 "metadata": {
  "kernelspec": {
   "display_name": "R",
   "language": "R",
   "name": "ir"
  },
  "language_info": {
   "codemirror_mode": "r",
   "file_extension": ".r",
   "mimetype": "text/x-r-source",
   "name": "R",
   "pygments_lexer": "r",
   "version": "4.0.2"
  }
 },
 "nbformat": 4,
 "nbformat_minor": 4
}
