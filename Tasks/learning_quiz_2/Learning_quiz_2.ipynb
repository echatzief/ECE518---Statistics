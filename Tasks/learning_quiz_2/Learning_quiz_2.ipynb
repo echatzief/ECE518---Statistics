{
 "cells": [
  {
   "cell_type": "markdown",
   "metadata": {},
   "source": [
    "# Learning Quiz 2\n",
    "\n",
    "\n",
    "### Members:\n",
    "\n",
    "- Lefteris Chatziefraimidis 2209"
   ]
  },
  {
   "cell_type": "markdown",
   "metadata": {},
   "source": [
    "### Install some dependencies"
   ]
  },
  {
   "cell_type": "code",
   "execution_count": 20,
   "metadata": {},
   "outputs": [
    {
     "name": "stdout",
     "output_type": "stream",
     "text": [
      "\n",
      "The downloaded binary packages are in\n",
      "\t/var/folders/7b/n03c9vhs35s5pp1ljk1kr80c0000gp/T//RtmpAvWmsl/downloaded_packages\n"
     ]
    },
    {
     "name": "stderr",
     "output_type": "stream",
     "text": [
      "Bioconductor version 3.11 (BiocManager 1.30.10), R 4.0.2 (2020-06-22)\n",
      "\n"
     ]
    },
    {
     "name": "stdout",
     "output_type": "stream",
     "text": [
      "\n",
      "The downloaded binary packages are in\n",
      "\t/var/folders/7b/n03c9vhs35s5pp1ljk1kr80c0000gp/T//RtmpAvWmsl/downloaded_packages\n",
      "\n",
      "The downloaded binary packages are in\n",
      "\t/var/folders/7b/n03c9vhs35s5pp1ljk1kr80c0000gp/T//RtmpAvWmsl/downloaded_packages\n",
      "\n",
      "The downloaded binary packages are in\n",
      "\t/var/folders/7b/n03c9vhs35s5pp1ljk1kr80c0000gp/T//RtmpAvWmsl/downloaded_packages\n"
     ]
    }
   ],
   "source": [
    "install.packages(\"cluster\",repos='http://cran.us.r-project.org')\n",
    "if (!requireNamespace(\"BiocManager\", quietly = TRUE))\n",
    "    install.packages(\"BiocManager\")\n",
    "BiocManager::install()\n",
    "\n",
    "install.packages(c(\"MASS\", \"mgcv\", \"nlme\",\"survival\"),repos='http://cran.us.r-project.org')\n",
    "install.packages(c(\"foreign\",\"diagram\",\"prob\"),repos='http://cran.us.r-project.org')\n",
    "install.packages(\"RcmdrPlugin.IPSUR\", repos=\"http://cran.r-project.org\", dep=TRUE)\n"
   ]
  },
  {
   "cell_type": "markdown",
   "metadata": {},
   "source": [
    "### Import libraries\n"
   ]
  },
  {
   "cell_type": "code",
   "execution_count": 2,
   "metadata": {},
   "outputs": [
    {
     "name": "stderr",
     "output_type": "stream",
     "text": [
      "Loading required package: shape\n",
      "\n",
      "Loading required package: combinat\n",
      "\n",
      "\n",
      "Attaching package: ‘combinat’\n",
      "\n",
      "\n",
      "The following object is masked from ‘package:utils’:\n",
      "\n",
      "    combn\n",
      "\n",
      "\n",
      "Loading required package: fAsianOptions\n",
      "\n",
      "Loading required package: timeDate\n",
      "\n",
      "Loading required package: timeSeries\n",
      "\n",
      "Loading required package: fBasics\n",
      "\n",
      "Loading required package: fOptions\n",
      "\n",
      "\n",
      "Attaching package: ‘prob’\n",
      "\n",
      "\n",
      "The following objects are masked from ‘package:base’:\n",
      "\n",
      "    intersect, setdiff, union\n",
      "\n",
      "\n"
     ]
    }
   ],
   "source": [
    "library(foreign)\n",
    "library(diagram)\n",
    "library(prob)"
   ]
  },
  {
   "cell_type": "markdown",
   "metadata": {},
   "source": [
    "### Exercise 1\n",
    "\n",
    "\\begin{exercise}\n",
    "Experiment: toss a fair 3 times and list the outcomes\n",
    "Define the sample space\n",
    "Create a probability function. Fill the code in the following cell to produce the indicating output.\n",
    "\\end{exercise}\n"
   ]
  },
  {
   "cell_type": "markdown",
   "metadata": {},
   "source": [
    "#### Toss a fair 3 times and list the outcomes"
   ]
  },
  {
   "cell_type": "code",
   "execution_count": 8,
   "metadata": {},
   "outputs": [
    {
     "name": "stdout",
     "output_type": "stream",
     "text": [
      "  toss1 toss2 toss3\n",
      "1     H     H     H\n",
      "2     T     H     H\n",
      "3     H     T     H\n",
      "4     T     T     H\n",
      "5     H     H     T\n",
      "6     T     H     T\n",
      "7     H     T     T\n",
      "8     T     T     T\n"
     ]
    }
   ],
   "source": [
    "outcomes <- tosscoin(3) # toss a fair coin 3 times \n",
    "print(outcomes)"
   ]
  },
  {
   "cell_type": "markdown",
   "metadata": {},
   "source": [
    "#### Define the sample space"
   ]
  },
  {
   "cell_type": "code",
   "execution_count": 11,
   "metadata": {},
   "outputs": [
    {
     "name": "stdout",
     "output_type": "stream",
     "text": [
      "  toss1 toss2 toss3 probs\n",
      "1     H     H     H 0.125\n",
      "2     T     H     H 0.125\n",
      "3     H     T     H 0.125\n",
      "4     T     T     H 0.125\n",
      "5     H     H     T 0.125\n",
      "6     T     H     T 0.125\n",
      "7     H     T     T 0.125\n",
      "8     T     T     T 0.125\n"
     ]
    }
   ],
   "source": [
    "S <- tosscoin(3, makespace = TRUE) \n",
    "print(S)"
   ]
  },
  {
   "cell_type": "markdown",
   "metadata": {},
   "source": [
    "#### Create a probability function. Fill the code in the following cell to produce the indicating output."
   ]
  },
  {
   "cell_type": "code",
   "execution_count": 26,
   "metadata": {},
   "outputs": [
    {
     "name": "stdout",
     "output_type": "stream",
     "text": [
      "  toss1 toss2 toss3 probs\n",
      "1     H     H     H 0.125\n",
      "2     T     H     H 0.125\n",
      "3     H     T     H 0.125\n",
      "4     T     T     H 0.125\n",
      "5     H     H     T 0.125\n",
      "6     T     H     T 0.125\n",
      "7     H     T     T 0.125\n",
      "8     T     T     T 0.125\n"
     ]
    }
   ],
   "source": [
    "p <- rep(1/2, times =2)\n",
    "sample_space <-probspace(outcomes, robs = p)\n",
    "print(sample_space)"
   ]
  },
  {
   "cell_type": "markdown",
   "metadata": {},
   "source": [
    "### Exercise 2"
   ]
  },
  {
   "cell_type": "markdown",
   "metadata": {},
   "source": [
    "\n",
    "Accepting that this is a valid probability function, what is $\\sum_{k=0}^{\\infty} \\mathrm{e}^{-\\lambda} \\frac{\\lambda^{k}}{k !}$ ?\n",
    " \n"
   ]
  },
  {
   "cell_type": "markdown",
   "metadata": {},
   "source": [
    "The above equation ( $\\sum_{k=0}^{\\infty} \\mathrm{e}^{-\\lambda} \\frac{\\lambda^{k}}{k !}$ ) describes the cumulative poison distribution function (CDF). The CDF is discontinuous at the integers of k and flat everywhere else because a variable that is Poisson distributed takes on only integer values.\n",
    "\n",
    "<img src=\"./poison_cdf.png\"/>\n",
    "\n",
    "The horizontal axis is the index k, the number of occurrences."
   ]
  },
  {
   "cell_type": "markdown",
   "metadata": {},
   "source": [
    "### Exercise 3"
   ]
  },
  {
   "cell_type": "markdown",
   "metadata": {
    "ExecuteTime": {
     "end_time": "2020-10-06T08:23:53.125875Z",
     "start_time": "2020-10-06T08:23:53.109Z"
    }
   },
   "source": [
    "\\begin{exercise}\n",
    "Create probability functions for the two options above\n",
    "\\end{exercise}"
   ]
  },
  {
   "cell_type": "code",
   "execution_count": null,
   "metadata": {},
   "outputs": [],
   "source": []
  }
 ],
 "metadata": {
  "kernelspec": {
   "display_name": "R",
   "language": "R",
   "name": "ir"
  }
 },
 "nbformat": 4,
 "nbformat_minor": 4
}
