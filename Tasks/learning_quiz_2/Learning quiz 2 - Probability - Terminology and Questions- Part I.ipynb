{
 "cells": [
  {
   "cell_type": "markdown",
   "metadata": {},
   "source": [
    "# Learning Quiz 2\n",
    "\n",
    "\n",
    "### Members:\n",
    "\n",
    "- Lefteris Chatziefraimidis 2209\n",
    "- George Fragkias 2118"
   ]
  },
  {
   "cell_type": "markdown",
   "metadata": {},
   "source": [
    "# Learning Goals\n",
    "\n",
    "1. Know the definitions of sample space, event and probability function.\n",
    "\n",
    "2. Be able to organize a scenario with randomness into an experiment and sample space.\n",
    "\n",
    "3. Be able to make basic computations using a probability function."
   ]
  },
  {
   "cell_type": "markdown",
   "metadata": {},
   "source": [
    "## Probability terminology list \n",
    "\n",
    "* Experiment: a repeatable procedure with well-deﬁned possible outcomes. \n",
    "\n",
    "* Sample space: the set of all possible outcomes. We usually denote the sample space by $\\Omega$, sometimes by $S$. \n",
    "\n",
    "* Event: a subset of the sample space. \n",
    "\n",
    "* Probability function: a function giving the probability for each outcome. \n",
    "\n",
    "* Probability density: a continuous distribution of probabilities. \n",
    "\n",
    "* Random variable: a random numerical outcome. \n"
   ]
  },
  {
   "cell_type": "code",
   "execution_count": 124,
   "metadata": {
    "ExecuteTime": {
     "end_time": "2020-10-06T10:19:24.894073Z",
     "start_time": "2020-10-06T10:19:24.877Z"
    },
    "scrolled": false
   },
   "outputs": [
    {
     "data": {
      "text/plain": [
       "               _                           \n",
       "platform       x86_64-pc-linux-gnu         \n",
       "arch           x86_64                      \n",
       "os             linux-gnu                   \n",
       "system         x86_64, linux-gnu           \n",
       "status                                     \n",
       "major          4                           \n",
       "minor          0.2                         \n",
       "year           2020                        \n",
       "month          06                          \n",
       "day            22                          \n",
       "svn rev        78730                       \n",
       "language       R                           \n",
       "version.string R version 4.0.2 (2020-06-22)\n",
       "nickname       Taking Off Again            "
      ]
     },
     "metadata": {},
     "output_type": "display_data"
    }
   ],
   "source": [
    "R.version"
   ]
  },
  {
   "cell_type": "markdown",
   "metadata": {},
   "source": [
    "## Install Dependencies"
   ]
  },
  {
   "cell_type": "code",
   "execution_count": 125,
   "metadata": {
    "ExecuteTime": {
     "end_time": "2020-10-06T10:25:15.095962Z",
     "start_time": "2020-10-06T10:23:19.201Z"
    }
   },
   "outputs": [],
   "source": [
    "install.packages(\"cluster\",quiet=TRUE)"
   ]
  },
  {
   "cell_type": "code",
   "execution_count": 126,
   "metadata": {},
   "outputs": [
    {
     "name": "stderr",
     "output_type": "stream",
     "text": [
      "Bioconductor version 3.11 (BiocManager 1.30.10), R 4.0.2 (2020-06-22)\n",
      "\n"
     ]
    }
   ],
   "source": [
    "if (!requireNamespace(\"BiocManager\", quietly = TRUE))\n",
    "    install.packages(\"BiocManager\",quiet=TRUE)\n",
    "BiocManager::install()"
   ]
  },
  {
   "cell_type": "code",
   "execution_count": null,
   "metadata": {},
   "outputs": [],
   "source": [
    "install.packages(c(\"MASS\", \"mgcv\", \"nlme\",\"survival\"),quiet=TRUE)"
   ]
  },
  {
   "cell_type": "code",
   "execution_count": null,
   "metadata": {
    "ExecuteTime": {
     "end_time": "2020-10-06T10:25:41.814556Z",
     "start_time": "2020-10-06T10:25:37.875Z"
    },
    "scrolled": false
   },
   "outputs": [],
   "source": [
    "install.packages(c(\"foreign\",\"diagram\",\"prob\"))"
   ]
  },
  {
   "cell_type": "code",
   "execution_count": null,
   "metadata": {},
   "outputs": [],
   "source": [
    "install.packages(\"RcmdrPlugin.IPSUR\", repos = \"http://www.cran.r-project.org\", type=\"source\",INSTALL_opts = c('--no-lock'))"
   ]
  },
  {
   "cell_type": "markdown",
   "metadata": {},
   "source": [
    "### Import Libraries"
   ]
  },
  {
   "cell_type": "code",
   "execution_count": null,
   "metadata": {
    "ExecuteTime": {
     "start_time": "2020-10-06T10:25:56.650Z"
    },
    "scrolled": true
   },
   "outputs": [],
   "source": [
    "library(foreign)\n",
    "library(diagram)\n",
    "library(prob)\n",
    "library(RcmdrPlugin.IPSUR)"
   ]
  },
  {
   "cell_type": "markdown",
   "metadata": {},
   "source": [
    "#    Chapter 4 : Probability\n",
    "\n",
    "IPSUR: Introduction to Probability and Statistics Using R\n",
    "These are the R commands supporting in IPSUR library and the code presented in the examples of chapter 4.\n",
    "\n",
    "**You will use these commands to answer the exercises in this learning quizz**"
   ]
  },
  {
   "cell_type": "code",
   "execution_count": null,
   "metadata": {
    "scrolled": true
   },
   "outputs": [],
   "source": [
    "# This chapter's package dependencies\n",
    "library(diagram)\n",
    "library(prob)\n",
    "library(RcmdrPlugin.IPSUR)\n",
    "\n",
    "par(mex = 0.2, cex = 0.5)\n",
    "openplotmat(frame.plot=TRUE)\n",
    "straightarrow(from = c(0.46,0.74), to = c(0.53,0.71), arr.pos = 1)\n",
    "straightarrow(from = c(0.3,0.65), to = c(0.3,0.51), arr.pos = 1)\n",
    "textellipse(mid = c(0.74,0.55), box.col = grey(0.95), \n",
    "  radx = 0.24, rady = 0.22, \n",
    "  lab = c(expression(bold(underline(DETERMINISTIC))), \n",
    "          expression(2*H[2]+O[2] %->% H[2]*O), \"3 + 4 = 7\"), cex = 2 )\n",
    "textrect(mid = c(0.3, 0.75), radx = 0.15, rady = 0.1, \n",
    "  lab = c(expression(bold(Experiments))), cex = 2 )\n",
    "textellipse(mid = c(0.29,0.25), box.col = grey(0.95), \n",
    "  radx = 0.27, rady = 0.22, lab = c(expression(bold(underline(RANDOM))), \n",
    "  \"toss coin, roll die\", \"count ants on sidewalk\", \"measure rainfall\" ), \n",
    "  cex = 2 )\n",
    "dev.off()\n",
    "\n",
    "S <- data.frame(lands = c(\"down\",\"up\",\"side\"))\n",
    "S\n",
    "\n",
    "tosscoin(1)\n",
    "\n",
    "tosscoin(3)\n",
    "\n",
    "rolldie(1)\n",
    "\n",
    "head(cards())\n",
    "\n",
    "urnsamples(1:3, size = 2, replace = TRUE, ordered = TRUE)\n",
    "\n",
    "urnsamples(1:3, size = 2, replace = FALSE, ordered = TRUE)\n",
    "\n",
    "urnsamples(1:3, size = 2, replace = FALSE, ordered = FALSE)\n",
    "\n",
    "urnsamples(1:3, size = 2, replace = TRUE, ordered = FALSE)\n",
    "\n",
    "S <- tosscoin(2, makespace = TRUE) \n",
    "S[1:3, ]\n",
    "\n",
    "S[c(2,4), ]\n",
    "\n",
    "S <- cards()\n",
    "\n",
    "subset(S, suit == \"Heart\")\n",
    "\n",
    "subset(S, rank %in% 7:9)\n",
    "\n",
    "subset(rolldie(3), X1+X2+X3 > 16)\n",
    "\n",
    "x <- 1:10 \n",
    "y <- 8:12 \n",
    "y %in% x\n",
    "\n",
    "isin(x,y)\n",
    "\n",
    "x <- 1:10 \n",
    "y <- c(3,3,7)\n",
    "\n",
    "all(y %in% x)\n",
    "isin(x,y)\n",
    "\n",
    "isin(x, c(3,4,5), ordered = TRUE) \n",
    "isin(x, c(3,5,4), ordered = TRUE)\n",
    "\n",
    "S <- rolldie(4) \n",
    "subset(S, isin(S, c(2,2,6), ordered = TRUE))\n",
    "\n",
    "S <- cards() \n",
    "A <- subset(S, suit == \"Heart\") \n",
    "B <- subset(S, rank %in% 7:9)\n",
    "\n",
    "union(A,B)\n",
    "\n",
    "intersect(A,B)\n",
    "\n",
    "setdiff(A,B)\n",
    "\n",
    "setdiff(B,A)\n",
    "\n",
    "outcomes <- rolldie(1) \n",
    "p <- rep(1/6, times = 6) \n",
    "probspace(outcomes, probs = p)\n",
    "\n",
    "probspace(1:6, probs = p)\n",
    "\n",
    "probspace(1:6)\n",
    "\n",
    "rolldie(1, makespace = TRUE)\n",
    "\n",
    "probspace(tosscoin(1), probs = c(0.70, 0.30))\n",
    "\n",
    "S <- cards(makespace = TRUE) \n",
    "A <- subset(S, suit == \"Heart\") \n",
    "B <- subset(S, rank %in% 7:9)\n",
    "\n",
    "Prob(A)\n",
    "\n",
    "Prob(S, suit == \"Heart\")\n",
    "\n",
    "nsamp(n=3, k=2, replace = TRUE, ordered = TRUE) \n",
    "nsamp(n=3, k=2, replace = FALSE, ordered = TRUE) \n",
    "nsamp(n=3, k=2, replace = FALSE, ordered = FALSE) \n",
    "nsamp(n=3, k=2, replace = TRUE, ordered = FALSE)\n",
    "\n",
    "n <- c(11,7,31) \n",
    "k <- c(3,4,3) \n",
    "r <- c(FALSE,FALSE,TRUE)\n",
    "\n",
    "x <- nsamp(n, k, rep = r, ord = TRUE)\n",
    "\n",
    "prod(x)\n",
    "\n",
    "(11*10*9)*(7*6*5*4)*31^3\n",
    "\n",
    "prod(9:11)*prod(4:7)*31^3\n",
    "\n",
    "prod(factorial(c(11,7))/factorial(c(8,3)))*31^3\n",
    "\n",
    "g <- Vectorize(pbirthday.ipsur)\n",
    "plot(1:50, g(1:50), xlab = \"Number of people in room\", ylab = \"Prob(at least one match)\")\n",
    "remove(g)\n",
    "dev.off()\n",
    "\n",
    "library(RcmdrPlugin.IPSUR)\n",
    "g <- Vectorize(pbirthday.ipsur)\n",
    "plot(1:50, g(1:50), xlab = \"Number of people in room\", \n",
    "  ylab = \"Prob(at least one match)\" )\n",
    "abline(h = 0.5)\n",
    "abline(v = 23, lty = 2)\n",
    "remove(g)\n",
    "\n",
    "A <- rolldie(2)\n",
    "B <- subset(A, X1==X2)\n",
    "C <- subset(A, X1+X2 > 7)\n",
    "B$lab <- rep(\"X\", dim(B)[1])\n",
    "C$lab <- rep(\"O\", dim(C)[1])\n",
    "p <- ggplot(rbind(B, C), aes(x=X1, y=X2, label=lab))\n",
    "p + geom_text(size = 15) + xlab(\"First roll\") + ylab(\"Second roll\")\n",
    "dev.off()\n",
    "\n",
    "S <- rolldie(2, makespace = TRUE)  # assumes ELM\n",
    "head(S)                            #  first few rows\n",
    "\n",
    "A <- subset(S, X1 == X2)\n",
    "B <- subset(S, X1 + X2 >= 8)\n",
    "\n",
    "Prob(A, given = B)\n",
    "Prob(B, given = A)\n",
    "\n",
    "Prob(S, X1==X2, given = (X1 + X2 >= 8) )\n",
    "Prob(S, X1+X2 >= 8, given = (X1==X2) )\n",
    "\n",
    "L <- cards()\n",
    "M <- urnsamples(L, size = 2)\n",
    "N <- probspace(M)\n",
    "N[[1]][[1]];  N$probs[1]\n",
    "\n",
    "Prob(N, all(rank == \"A\"))\n",
    "\n",
    "L <- rep(c(\"red\",\"green\"), times = c(7,3))\n",
    "M <- urnsamples(L, size = 3, replace = FALSE, ordered = TRUE)\n",
    "N <- probspace(M)\n",
    "\n",
    "Prob(N, isrep(N, \"red\", 3))\n",
    "\n",
    "Prob(N, isrep(N, \"red\", 2))\n",
    "\n",
    "Prob(N, isin(N, c(\"red\",\"green\",\"red\"), ordered = TRUE))\n",
    "\n",
    "Prob(N, isin(N, c(\"red\",\"green\",\"red\")))\n",
    "\n",
    "library(RcmdrPlugin.IPSUR)\n",
    "data(RcmdrTestDrive)  \n",
    ".Table <- xtabs( ~ smoking + gender, data = RcmdrTestDrive)\n",
    "addmargins(.Table) # Table with marginal distributions\n",
    "\n",
    "S <- tosscoin(10, makespace = TRUE)\n",
    "A <- subset(S, isrep(S, vals = \"T\", nrep = 10))\n",
    "1 - Prob(A)\n",
    "\n",
    "iidspace(c(\"H\",\"T\"), ntrials = 3, probs = c(0.7, 0.3))\n",
    "\n",
    "prior <- c(0.6, 0.3, 0.1)\n",
    "like <- c(0.003, 0.007, 0.010)\n",
    "post <- prior * like\n",
    "post / sum(post)\n",
    "\n",
    "newprior <- post\n",
    "post <- newprior * like^7\n",
    "post / sum(post)\n",
    "\n",
    "fastpost <- prior * like^8\n",
    "fastpost / sum(fastpost)\n",
    "\n",
    "S <- rolldie(3, nsides = 4, makespace = TRUE) \n",
    "S <- addrv(S, U = X1-X2+X3)\n",
    "\n",
    "head(S)\n",
    "\n",
    "Prob(S, U > 6)\n",
    "\n",
    "S <- addrv(S, FUN = max, invars = c(\"X1\",\"X2\",\"X3\"), name = \"V\") \n",
    "S <- addrv(S, FUN = sum, invars = c(\"X1\",\"X2\",\"X3\"), name = \"W\") \n",
    "head(S)\n",
    "\n",
    "marginal(S, vars = \"V\")\n",
    "\n",
    "marginal(S, vars = c(\"V\", \"W\"))"
   ]
  },
  {
   "cell_type": "markdown",
   "metadata": {},
   "source": [
    "\\begin{example}\n",
    "Toss a fair coin once and report if it lands head or tails.\n",
    "In this case what is the _experiment_, the _sample space_, and probability function.\n",
    "\n",
    "\\end{example}\n"
   ]
  },
  {
   "cell_type": "code",
   "execution_count": null,
   "metadata": {},
   "outputs": [],
   "source": [
    "outcomes <- tosscoin(1)\n",
    "p <- rep(1/2, times =2)\n",
    "probspace(outcomes, robs = p)"
   ]
  },
  {
   "cell_type": "markdown",
   "metadata": {},
   "source": [
    "\\begin{exercise}\n",
    "Experiment: toss a fair 3 times and list the outcomes\n",
    "Define the sample space\n",
    "Create a probability function. Fill the code in the following cell to produce the indicating output.\n",
    "\\end{exercise}\n"
   ]
  },
  {
   "cell_type": "markdown",
   "metadata": {
    "ExecuteTime": {
     "end_time": "2020-10-06T08:36:28.912235Z",
     "start_time": "2020-10-06T08:36:28.899Z"
    }
   },
   "source": [
    "### Exercise 1"
   ]
  },
  {
   "cell_type": "markdown",
   "metadata": {},
   "source": [
    "#### Toss a fair 3 times and list the outcomes"
   ]
  },
  {
   "cell_type": "code",
   "execution_count": null,
   "metadata": {
    "ExecuteTime": {
     "end_time": "2020-10-06T08:38:04.735580Z",
     "start_time": "2020-10-06T08:38:04.716Z"
    }
   },
   "outputs": [],
   "source": [
    "outcomes <- tosscoin(3) # toss a fair coin 3 times \n",
    "outcomes"
   ]
  },
  {
   "cell_type": "markdown",
   "metadata": {},
   "source": [
    "#### Define the sample space"
   ]
  },
  {
   "cell_type": "code",
   "execution_count": null,
   "metadata": {
    "ExecuteTime": {
     "end_time": "2020-10-06T09:09:40.439756Z",
     "start_time": "2020-10-06T09:09:40.422Z"
    }
   },
   "outputs": [],
   "source": [
    "S <- tosscoin(3, makespace = TRUE) \n",
    "S"
   ]
  },
  {
   "cell_type": "markdown",
   "metadata": {},
   "source": [
    "#### Create a probability function. Fill the code in the following cell to produce the indicating output."
   ]
  },
  {
   "cell_type": "code",
   "execution_count": null,
   "metadata": {
    "ExecuteTime": {
     "end_time": "2020-10-06T09:09:42.690776Z",
     "start_time": "2020-10-06T09:09:42.670Z"
    }
   },
   "outputs": [],
   "source": [
    "p <- rep(1/2, times =2)\n",
    "probspace(outcomes, robs = p)"
   ]
  },
  {
   "cell_type": "markdown",
   "metadata": {},
   "source": [
    "### Taxis (An infinite discrete sample space) \n",
    "\n",
    "**Experiment**: count the number of taxis that pass 77 Dimitriados Ave during an 18.05 class. \n",
    "\n",
    "**Sample space**: $\\Omega=\\{0,1,2,3,4, \\ldots\\}$\n",
    "\n",
    "**Probability function**\n",
    "This is often modeled with the following probability function known as the Poisson distribution:\n",
    "$$\n",
    "P(k)=\\mathrm{e}^{-\\lambda} \\frac{\\lambda^{k}}{k !}\n",
    "$$\n",
    "where $\\lambda$ is the average number of taxis. We can put this in a table:\n",
    "\\begin{array}{l|cccccc}\n",
    "\\text { Outcome } & 0 & 1 & 2 & 3 & \\ldots & \\mathrm{k} & \\cdots \\\\\n",
    "\\hline \\text { Probability } & \\mathrm{e}^{-\\lambda} & \\mathrm{e}^{-\\lambda} \\lambda & \\mathrm{e}^{-\\lambda} \\lambda^{2} / 2 & \\mathrm{e}^{-\\lambda} \\lambda^{3} / 3 ! & \\ldots & \\mathrm{e}^{-\\lambda} \\lambda^{k} / \\mathrm{k} ! & \\ldots\n",
    "\\end{array}\n",
    "\n",
    "\\begin{exercise}\n",
    "Accepting that this is a valid probability function, what is $\\sum_{k=0}^{\\infty} \\mathrm{e}^{-\\lambda} \\frac{\\lambda^{k}}{k !}$ ?\n",
    "\n",
    "\\end{exercise}\n"
   ]
  },
  {
   "cell_type": "markdown",
   "metadata": {},
   "source": [
    "### Exercise 2"
   ]
  },
  {
   "cell_type": "markdown",
   "metadata": {
    "ExecuteTime": {
     "end_time": "2020-10-06T08:39:37.844908Z",
     "start_time": "2020-10-06T08:39:37.831Z"
    }
   },
   "source": [
    "The above equation ( $\\sum_{k=0}^{\\infty} \\mathrm{e}^{-\\lambda} \\frac{\\lambda^{k}}{k !}$ ) describes the cumulative poison distribution function (CDF). The CDF is discontinuous at the integers of k and flat everywhere else because a variable that is Poisson distributed takes on only integer values.\n",
    "\n",
    "<img src=\"./poison_cdf.png\"/>\n",
    "\n",
    "The horizontal axis is the index k, the number of occurrences."
   ]
  },
  {
   "cell_type": "markdown",
   "metadata": {},
   "source": [
    "### Two dice (Choice of sample space) \n",
    "\n",
    "Suppose you roll one die. Then the sample space and probability function are\n",
    "\n",
    "\\begin{array}{l|cccccc}\n",
    "\\text { Outcome } & 1 & 2 & 3 & 4 & 5 & 6 \\\\\n",
    "\\hline \\text { Probability: } & 1 / 6 & 1 / 6 & 1 / 6 & 1 / 6 & 1 / 6 & 1 / 6\n",
    "\\end{array}\n",
    "\n",
    "Now suppose you roll two dice. What should be the sample space? Here are two options.\n",
    "1. Record the pair of numbers showing on the dice (first die, second die).\n",
    "2. Record the sum of the numbers on the dice. In this case there are 11 outcomes $\\{2,3,4,5,6,7,8,9,10,11,12\\} .$ These outcomes are not all equally likely.\n",
    "\n",
    "\\begin{exercise}\n",
    "Create probability functions for the two options above\n",
    "\\end{exercise}\n",
    "\n",
    "\n",
    "\n"
   ]
  },
  {
   "cell_type": "markdown",
   "metadata": {},
   "source": [
    "### Exercise 3"
   ]
  },
  {
   "cell_type": "markdown",
   "metadata": {},
   "source": [
    "#### Option 1 :  Record the pair of numbers showing on the dice "
   ]
  },
  {
   "cell_type": "markdown",
   "metadata": {},
   "source": [
    "|      | 1    |2     | 3    | 4    | 5    |  6   |  \n",
    "|------|------|------|------|------|------|------|\n",
    "|   1  | 1/36 | 1/36 |1/36  |1/36  | 1/36 |1/36  |\n",
    "|   2  | 1/36|1/36 |1/36 |1/36 | 1/36|1/36|\n",
    "|   3  | 1/36|1/36 |1/36 |1/36 | 1/36|1/36|\n",
    "|   4  | 1/36|1/36 |1/36 |1/36 | 1/36|1/36|\n",
    "|   5  | 1/36|1/36 |1/36 |1/36 | 1/36|1/36|\n",
    "|   6  | 1/36|1/36 |1/36 |1/36 | 1/36|1/36|"
   ]
  },
  {
   "cell_type": "markdown",
   "metadata": {},
   "source": [
    "#### Option 2 :  Record the sum of the numbers on the dice"
   ]
  },
  {
   "cell_type": "markdown",
   "metadata": {},
   "source": [
    "|      | 1    |2     | 3    | 4    | 5    |  6   |  \n",
    "|------|------|------|------|------|------|------|\n",
    "|   1  | 2 | 3 |4  |5  | 6 |7  |\n",
    "|   2  | 3|4 |5 |6 | 7|8|\n",
    "|   3  | 4|5 |6 |7 | 8|9|\n",
    "|   4  | 5|6 |7 |8 | 9|10|\n",
    "|   5  | 6|7 |8 |8 | 10|11|\n",
    "|   6  | 7|8 |9 |10 |11|12|"
   ]
  },
  {
   "cell_type": "markdown",
   "metadata": {},
   "source": [
    "|outcome | 2 | 3 | 4 | 5 | 6 | 7 | 8 | 9 | 10 | 11 | 12\n",
    "|------|------|------|------|------|------|------|------|------|------|------|------|\n",
    "|probability | 1/36 | 2/36 | 3/36 | 4/36 | 5/36 | 6/36 | 5/36 | 4/36 | 3/36 | 2/36 | 1/36"
   ]
  },
  {
   "cell_type": "markdown",
   "metadata": {},
   "source": [
    "## The probability function\n",
    "So far we've been using a casual definition of the probability function. Let's give a more precise one.\n",
    "\n",
    "**Careful definition of the probability function** \n",
    "\n",
    "For a **discrete** sample space $S$ a probability function $P$ assigns to each outcome $\\omega$ a number $P(\\omega)$ called the probability of $\\omega$. $P$ must satisfy two rules:\n",
    "\n",
    "- Rule $1.0 \\leq P(\\omega) \\leq 1$ (probabilities are between 0 and 1).\n",
    "\n",
    "- Rule 2. The sum of the probabilities of all possible outcomes is 1 \n",
    "\n",
    "In symbols Rule 2 says: if $S=\\left\\{\\omega_{1}, \\omega_{2}, \\ldots, \\omega_{n}\\right\\}$ then $P\\left(\\omega_{1}\\right)+P\\left(\\omega_{2}\\right)+\\ldots+P\\left(\\omega_{n}\\right)=1 .$ Or,\n",
    "using summation notation: $\\sum_{j=1}^{n} P\\left(\\omega_{j}\\right)=1$.\n",
    "\n",
    "The probability of an event $E$ is the sum of the probabilities of all the outcomes in $E .$ That is,\n",
    "$$\n",
    "P(E)=\\sum_{\\omega \\in E} P(\\omega)\n",
    "$$"
   ]
  },
  {
   "cell_type": "markdown",
   "metadata": {},
   "source": [
    "### Flip until heads (A classic example)\n",
    "\n",
    "Suppose we have a coin with probability $p$ of heads and we have the following scenario.\n",
    "\n",
    "**Experiment**: Toss the coin until the first heads. Report the number of tosses. \n",
    "\n",
    "**Sample space**: $\\Omega=\\{1,2,3, \\ldots\\}$\n",
    "\n",
    "**Probability function** : $P(n)=(1-p)^{n-1} p$\n",
    "\n",
    "\\begin{exercise}\n",
    "Challenge 1: show the sum of all the probabilities equals 1 (hint: geometric series).\n",
    "Challenge 2: justify the formula for $P(n)$ .\n",
    "\n",
    "\\end{exercise}\n"
   ]
  },
  {
   "cell_type": "markdown",
   "metadata": {},
   "source": [
    "### Exercise 4"
   ]
  },
  {
   "cell_type": "markdown",
   "metadata": {},
   "source": [
    "#### Challenge 1"
   ]
  },
  {
   "cell_type": "markdown",
   "metadata": {},
   "source": [
    "Probability function: $$P(n) = (1 - p)^{n-1}p$$\n",
    "\n",
    "We assume that $q = 1- p $ and the function is equal to :\n",
    "$$P(n) = q^{n-1}p$$\n",
    "\n",
    "\n",
    "    \n",
    "$\\text{For n = 1: }$ $$P(1) = q^{0}p = p$$\n",
    "\n",
    "$\\text{For n = 2: }$ $$P(2) = q^{2-1}p = qp$$\n",
    "\n",
    "$\\text{For n = 3: }$ $$P(3) = q^{3-1}p = q^{2}p$$\n",
    "\n",
    "$$\\vdots$$\n",
    "\n",
    "If we continue repeating the same process for every $n$ then the sum of all the propabilities would be:\n",
    "\n",
    "$$\\sum_{i=0}^{\\infty}P(i) =  P(1) + P(2) + P(3) + .... \\text{ =>}$$\n",
    "\n",
    "$$\\sum_{i=0}^{\\infty}P(i) = q^0p +qp +q^2p+q^3p \\text{ + .... =>}$$\n",
    "\n",
    "$$\\sum_{i=0}^{\\infty}P(i) = p(1+q+q^2+q3 \\text{ + .... )=>}$$\n",
    "\n",
    "\n",
    "We can observe that the sum inside the parenthesis is a geometric series. Therefore, the sum of the geometric infinite is equal:\n",
    "\n",
    "$$\\sum = \\frac{\\alpha}{1-r} , | r | < 1$$ \n",
    "\n",
    "where $\\alpha$ = 1, r = q in our case. Thus:\n",
    "\n",
    "$$\\sum_{i=0}^{\\infty}P(i) = p\\frac{1}{1-q} \\text{ =>}$$\n",
    "\n",
    "$$\\sum_{i=0}^{\\infty}P(i) = p\\frac{1}{p} \\text{ =>}$$\n",
    "\n",
    "$$\\sum_{i=0}^{\\infty}P(i) = 1 $$"
   ]
  },
  {
   "cell_type": "markdown",
   "metadata": {},
   "source": [
    "#### Challenge 2 "
   ]
  },
  {
   "cell_type": "markdown",
   "metadata": {},
   "source": [
    "The above problem is using a geometric series to calculate the probability at each toss. Also, the sample space starts with 1 and thats why $\\alpha = 1$ since $\\alpha$ is the first term of the series. Thats why the problem follows the above equation : $P(n) = (1 - p)^{n-1}p$"
   ]
  },
  {
   "cell_type": "markdown",
   "metadata": {},
   "source": [
    "\\begin{remark}\n",
    "\n",
    "Suppose you have a coin which, when flipped, yields a head with probability $p$ and a tail with probability $q=1-p$ (if the coin is fair, then $p=q=1 / 2$ ). How many times do you need to flip this coin on average until you get a head?\n",
    "\n",
    "To answer this question, consider the probability $P(n)$ of obtaining a head only on the $n$ -th coin flip. In other words, $P(n)$ is the probability of obtaining $n-1$ consecutive tails and then a head:\n",
    "$$\n",
    "P(n)=q^{n-1} p\n",
    "$$\n",
    "The average number of coin flips we need until we get a head is then:\n",
    "$$\n",
    "E_{p}[n]=\\sum_{n=1}^{\\infty} n P(n)=\\sum_{n=1}^{\\infty} n q^{n-1} p\n",
    "$$\n",
    "All we need to do now is to compute the infinite sum on the right-hand side of equation $(4) .$ To achieve that goal, consider the following sequence:\n",
    "$$\n",
    "e_{k}=\\sum_{n=1}^{k} n q^{n-1} p=p \\sum_{n=1}^{k} n q^{n-1}\n",
    "$$\n",
    "The sequence $e_{k}$ is such that $E_{p}[n]=\\lim _{k \\rightarrow \\infty} e_{k} \\cdot$ It is closely related to the geometric series. In fact, consider the sequence $g_{k}$ which is obtained by taking the first $k$ terms of the geometric series as its $k$ -th element (below $z$ is any real number of our choice):\n",
    "\n",
    "$$\n",
    "g_{k}=\\sum_{n=0}^{k} z^{n}=\\frac{1-z^{k+1}}{1-z}\n",
    "$$\n",
    "Taking the derivative of $g_{k}$ with respect to $z$ yields:\n",
    "$$\n",
    "\\frac{d g_{k}}{d z}=\\sum_{n=1}^{k} n z^{n-1}=-\\frac{(k+1) z^{k}}{1-z}+\\frac{1-z^{k+1}}{(1-z)^{2}}\n",
    "$$\n",
    "where the term with $n=0$ was omitted since it is identically zero. Comparing equations (3) and $(5),$ we see that:\n",
    "$$\n",
    "e_{k}=p \\sum_{n=1}^{k} n q^{n-1}=\\left.p \\frac{d g_{k}}{d z}\\right|_{z=q}\n",
    "$$\n",
    "In other words, $e_{k}$ is equal to $p$ times the derivative of $g_{k}$ with respect to $z$ computed at $z=q:$\n",
    "$$\n",
    "e_{k}=p\\left(-\\frac{(k+1) q^{k}}{p}+\\frac{1-q^{k+1}}{p^{2}}\\right)=-(k+1) q^{k}+\\frac{1-q^{k+1}}{p}\n",
    "$$\n",
    "If $p=0,$ we will never get a head and the problem is therefore of little interest. For $p>0, q<1$ and therefore $q^{k} \\rightarrow 0$ as $k \\rightarrow \\infty .$ Using this fact on equation $(7),$ we obtain:\n",
    "$$\n",
    "E_{p}[n]=\\lim _{k \\rightarrow \\infty} e_{k}=\\frac{1}{p}\n",
    "$$\n",
    "\n",
    "Interestingly, the answer for this problem is extremely simple: the average number of times we need to flip the coin until we get a head is just $1 / p .$ If $p=1$, every coin flip results in a head, so $E_{p=1}[n]=1 .$ As $p$ approaches $0,$ the coin becomes more and more biased towards tails, so the average number of times we need to flip it until we get a head increases and, not surprisingly, diverges as $p \\rightarrow 0 .$ since for a fair coin we have $p=1 / 2,$ then:\n",
    "$$\n",
    "E_{p=1 / 2}[n]=2\n",
    "$$\n",
    "so we need on average to flip the coin only twice to get a head.\n",
    "\\end{remark}"
   ]
  },
  {
   "cell_type": "markdown",
   "metadata": {},
   "source": [
    "\\begin{remark}\n",
    "\n",
    "**Stopping problems**. The previous toy example is an uncluttered version of a general class of problems called stopping rule problems. A stopping rule is a rule that tells you when to end a certain process. In the toy example above the process was ﬂipping a coin and we stopped after the ﬁrst heads. A more practical example is a rule for ending a series of medical treatments. Such a rule could depend on how well the treatments are working, how the patient is tolerating them and the probability that the treatments would continue to be eﬀective. One could ask about the probability of stopping within a certain number of treatments or the average number of treatments you should expect before stopping.\n",
    "\\end{remark}\n"
   ]
  },
  {
   "cell_type": "markdown",
   "metadata": {},
   "source": [
    "## Some rules of probability\n",
    "For events $A, L$ and $R$ contained in a sample space $\\Omega$.\n",
    "\n",
    "Rule $1 . P\\left(A^{c}\\right)=1-P(A)$\n",
    "\n",
    "Rule $2 .$ If $L$ and $R$ are disjoint then $P(L \\cup R)=P(L)+P(R)$.\n",
    "\n",
    "Rule $3 .$ If $L$ and $R$ are not disjoint, we have the inclusion-exclusion principle:\n",
    "$$\n",
    "P(L \\cup R)=P(L)+P(R)-P(L \\cap R)\n",
    "$$\n",
    "\n",
    "Rule $1: A$ and $A^{c}$ split $\\Omega$ into two non-overlapping regions. since the total probability $P(\\Omega)=1$ this rule says that the probabiity of $A$ and the probability of 'not $A$ ' are complementary, i.e. sum to $1 .$\n",
    "\n",
    "Rule $2: L$ and $R$ split $L \\cup R$ into two non-overlapping regions. So the probability of $L \\cup R$ is is split between $P(L)$ and $P(R)$\n",
    "\n",
    "Rule 3: In the sum $P(L)+P(R)$ the overlap $P(L \\cap R)$ gets counted twice. So $P(L)+$ $P(R)-P(L \\cap R)$ counts everything in the union exactly once.\n",
    "\n"
   ]
  },
  {
   "cell_type": "markdown",
   "metadata": {},
   "source": [
    "For the following examples suppose we have an experiment that produces a random integer between 1 and 20. The probabilities are not necessarily uniform, i.e., not necessarily the same for each outcome.\n",
    "\n",
    "\\begin{exercise}\n",
    "If the probability of an even number is .6 what is the probability of an odd number?\n",
    "\n",
    "\\end{exercise}\n",
    "\n",
    "\\begin{exercise}\n",
    "Consider the 2 events, $A: X$ is a multiple of 2 ; $B: X$ is odd and less than 10. Suppose $P(A)=.6$ and $P(B)=.25$\n",
    "\n",
    "(i) What is $A \\cap B ?$\n",
    "\n",
    "(ii) What is the probability of $A \\cup B ?$\n",
    "\\end{exercise}\n",
    "\n",
    "\\begin{exercise}\n",
    "Let $A, B$ and $C$ be the events $X$ is a multiple of 2,3 and 6 respectively. If $P(A)=.6, P(B)=.3$ and $P(C)=.2$ what is $P(A$ or $B) ?$ \n",
    "\\end{exercise}\n",
    "\n",
    "\n",
    "\n",
    "\n"
   ]
  },
  {
   "cell_type": "markdown",
   "metadata": {},
   "source": [
    "### Exercise 5"
   ]
  },
  {
   "cell_type": "markdown",
   "metadata": {},
   "source": [
    "**Question** If the probability of an even number is .6 what is the probability of an odd number?\n"
   ]
  },
  {
   "cell_type": "markdown",
   "metadata": {},
   "source": [
    "Εvery number must be an even or an odd. Let's assume that A = even , B = odd, then $ A \\cup B $ include all the number that exist($P(A\\cup B) = P(Ω) =1$). Also $ A \\cap B = \\emptyset$ because a number cannot be even and odd at the same time. Thus:\n",
    "\n",
    "$$P(A\\cup B) = P(A) + P(B) - P(A\\cap B)$$\n",
    "\n",
    "$$1 = 0.6 + P(B) - 0$$\n",
    "\n",
    "$$P(Β) = 0.4$$\n"
   ]
  },
  {
   "cell_type": "markdown",
   "metadata": {},
   "source": [
    "### Exercise 6"
   ]
  },
  {
   "cell_type": "markdown",
   "metadata": {},
   "source": [
    "**Question** Consider the 2 events,  𝐴:𝑋  is a multiple of 2 ;  𝐵:𝑋  is odd and less than 10. Suppose  𝑃(𝐴)=.6  and  𝑃(𝐵)=.25"
   ]
  },
  {
   "cell_type": "markdown",
   "metadata": {},
   "source": [
    "(i) Since all numbers in A are even and all numbers in B are odd, then $A\\cap B = \\emptyset$ => $P(A\\cap B) = 0$ <br/>\n",
    "\n",
    "(ii)  $$P(A\\cup B) = P(A) + P(B) - P(A\\cap B)$$\n",
    "\n",
    "$$P(A\\cup B) = 0.6 + 0.25 - 0 $$\n",
    "\n",
    "$$P(A\\cup B) = 0.85 $$"
   ]
  },
  {
   "cell_type": "markdown",
   "metadata": {},
   "source": [
    "### Exercise 7"
   ]
  },
  {
   "cell_type": "markdown",
   "metadata": {},
   "source": [
    "**Question** Let $A, B$ and $C$ be the events $X$ is a multiple of 2,3 and 6 respectively. If $P(A)=.6, P(B)=.3$ and $P(C)=.2$ what is $P(A$ or $B) ?$ "
   ]
  },
  {
   "cell_type": "markdown",
   "metadata": {},
   "source": [
    "Events: \n",
    "\n",
    "A multiple 2 <br/>\n",
    "B multiple 3 <br/>\n",
    "C multiple 6 <br/>\n",
    "\n",
    "First we used the word \"or\" which means union: $A$ or $B$ => $A \\cup B$. An number is divisible by 6 if and only if it is divisible by both 2 and 3. Thus, $C=A\\cap B$ and also:\n",
    "\n",
    "$$P(A\\cup B) = P(A) + P(B) - P(A\\cap B)$$\n",
    "\n",
    "$$P(A\\cup B) = 0.6 + 0.3 - 0.2 = 0.7$$"
   ]
  },
  {
   "cell_type": "markdown",
   "metadata": {},
   "source": [
    "\\begin{exercise}\n",
    "\n",
    "**Birthdays: counting and simulation**. \n",
    "\n",
    "Ignoring leap days, the days of the year can be numbered 1 to $365 .$ Assume that birthdays are equally likely to fall on any day of the year. Consider a group of $n$ people, of which you are not a member. An element of the sample space $\\Omega$ will be a sequence of $n$ birthdays (one for each person).\n",
    "\n",
    "(a) Define the probability function $P$ for $\\Omega$\n",
    "\n",
    "(b) Consider the following events:\n",
    "\n",
    "    A: \"someone in the group shares your birthday\"\n",
    "\n",
    "    B: \"some two people in the group share a birthday\"\n",
    "\n",
    "    C: \"some three people in the group share a birthday\" \n",
    "\n",
    "Carefully describe the subset of $\\Omega$ that corresponds to each event.\n",
    "\n",
    "(c) Find an exact formula for $P(A)$. What is the smallest $n$ such that $P(A)>.5 ?$\n",
    "\n",
    "(d) Justify why $n$ is greater than $\\frac{365}{2}$ without doing any computation. \n",
    "\n",
    "(e) Use $\\mathrm{R}$ simulation to estimate the smallest $n$ for which $P(B)>.9 .$ For these simulations, let the number of trials be 10000.\n",
    "\n",
    "\\end{exercise}\n"
   ]
  },
  {
   "cell_type": "markdown",
   "metadata": {},
   "source": [
    "### Exercise 8"
   ]
  },
  {
   "cell_type": "markdown",
   "metadata": {},
   "source": [
    "#### Answer (a)"
   ]
  },
  {
   "cell_type": "markdown",
   "metadata": {},
   "source": [
    "If there are n members in the group then there are $365\\cdot365\\cdot365\\cdot365\\cdot365\\cdot365\\cdot365... = 365^n$. All of these outcomes make the sample space. So for n people in a group, $P(\\Omega)=\\frac{1}{365^n}$."
   ]
  },
  {
   "cell_type": "markdown",
   "metadata": {},
   "source": [
    "#### Answer (b)"
   ]
  },
  {
   "cell_type": "markdown",
   "metadata": {},
   "source": [
    "**A:** Lets assume that my birthday is in day $k$. Someone has birthday the same day with me if and only if for one index in the sample space exists the following: $k=d_i,i=1,2,3,....n$ where $d_i$ are the days in $\\Omega$.\n",
    "\n",
    "**B:** Lets assume that my birthday is in day $k$. Two people have birthday the same day with me if and only if for two indexes in the sample space exists the following: $k=d_i,i=1,2,3,....n$ where $d_i$ are the days in $\\Omega$\n",
    "\n",
    "**C:** Lets assume that my birthday is in day $k$. Three people have birthday the same day with me if and only if for three indexes in the sample space exists the following: $k=d_i,i=1,2,3,....n$ where $d_i$ are the days in $\\Omega$"
   ]
  },
  {
   "cell_type": "markdown",
   "metadata": {},
   "source": [
    "#### Answer (c)"
   ]
  },
  {
   "cell_type": "markdown",
   "metadata": {},
   "source": [
    "Probability function:  $$P(n) = 1 - (1 - \\frac{1}{365})^{n}$$\n",
    "\n",
    "We have that $P(A) = 0.5$ :\n",
    "\n",
    "$$P(A) = 1 - (1 - \\frac{1}{365})^{n}$$\n",
    "\n",
    "$$0.5 = 1 - (1 - \\frac{1}{365})^{n}$$\n",
    "\n",
    "$$0.5 = (1 - \\frac{1}{365})^{n}$$\n",
    "\n",
    "$$n = \\frac{ln(0.5)}{ln(\\frac{364}{365})} = 252.65$$\n",
    "\n",
    "So there needs to be at least 253 people for it to be more likely than not that one of them\n",
    "shares your birthday."
   ]
  },
  {
   "cell_type": "markdown",
   "metadata": {},
   "source": [
    "#### Answer (d)"
   ]
  },
  {
   "cell_type": "markdown",
   "metadata": {},
   "source": [
    "If we have 365/2 different birthdays with a 50 percent change of matching your birthday, 365/2 people don't all have different birthdays, so they have less than 50 percent change of matching."
   ]
  },
  {
   "cell_type": "markdown",
   "metadata": {},
   "source": [
    "#### Answer (e)"
   ]
  },
  {
   "cell_type": "code",
   "execution_count": 6,
   "metadata": {
    "scrolled": true
   },
   "outputs": [
    {
     "name": "stdout",
     "output_type": "stream",
     "text": [
      "n: 10  Success Rate:  11.44 %\n",
      "n: 20  Success Rate:  40.73 %\n",
      "n: 30  Success Rate:  70.5 %\n",
      "n: 40  Success Rate:  89.3 %\n",
      "n: 41  Success Rate:  90.15 %\n",
      "n: 50  Success Rate:  97.09 %\n",
      "n: 60  Success Rate:  99.34 %\n",
      "n: 70  Success Rate:  99.9 %\n"
     ]
    }
   ],
   "source": [
    "# Define some configurations\n",
    "nTrials = 10000\n",
    "nDays = 365\n",
    "nMatch = 2\n",
    "nPeople = c(10,20,30,40,41,50,60,70)\n",
    "\n",
    "# Define all the dates \n",
    "allDates = 1:nDays\n",
    "\n",
    "for(p in nPeople){\n",
    "    goalSum = 0\n",
    "    for(i in 1:nTrials){\n",
    "\n",
    "        # Define the sample space Ω\n",
    "        sample_space = sample(allDates,p,replace=TRUE)\n",
    "\n",
    "        # Retrieve the duplicates only once \n",
    "        dups = unique(sample_space[duplicated(sample_space,c(nMatch,nMatch))])\n",
    "\n",
    "        # If we have a duplicate in the trial we increase the successes\n",
    "        if(length(dups) > 0 ){\n",
    "            goalSum = goalSum + 1\n",
    "        }\n",
    "    }\n",
    "    success_percent = goalSum/nTrials\n",
    "    cat(\"n:\",p,\" Success Rate: \",(success_percent*100),\"%\\n\")\n",
    "}"
   ]
  }
 ],
 "metadata": {
  "@webio": {
   "lastCommId": null,
   "lastKernelId": null
  },
  "kernelspec": {
   "display_name": "R",
   "language": "R",
   "name": "ir"
  },
  "language_info": {
   "codemirror_mode": "r",
   "file_extension": ".r",
   "mimetype": "text/x-r-source",
   "name": "R",
   "pygments_lexer": "r",
   "version": "4.0.2"
  },
  "latex_envs": {
   "LaTeX_envs_menu_present": true,
   "autoclose": false,
   "autocomplete": true,
   "bibliofile": "biblio.bib",
   "cite_by": "apalike",
   "current_citInitial": 1,
   "eqLabelWithNumbers": true,
   "eqNumInitial": 1,
   "hotkeys": {
    "equation": "Ctrl-E",
    "itemize": "Ctrl-I"
   },
   "labels_anchors": false,
   "latex_user_defs": false,
   "report_style_numbering": false,
   "user_envs_cfg": false
  }
 },
 "nbformat": 4,
 "nbformat_minor": 4
}
