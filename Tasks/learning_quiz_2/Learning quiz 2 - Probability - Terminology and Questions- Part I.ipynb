{
 "cells": [
  {
   "cell_type": "markdown",
   "metadata": {},
   "source": [
    "# Learning Quiz 2\n",
    "\n",
    "\n",
    "### Members:\n",
    "\n",
    "- Lefteris Chatziefraimidis 2209\n",
    "- George Fragkias 2118"
   ]
  },
  {
   "cell_type": "markdown",
   "metadata": {},
   "source": [
    "# Learning Goals\n",
    "\n",
    "1. Know the definitions of sample space, event and probability function.\n",
    "\n",
    "2. Be able to organize a scenario with randomness into an experiment and sample space.\n",
    "\n",
    "3. Be able to make basic computations using a probability function."
   ]
  },
  {
   "cell_type": "markdown",
   "metadata": {},
   "source": [
    "## Probability terminology list \n",
    "\n",
    "* Experiment: a repeatable procedure with well-deﬁned possible outcomes. \n",
    "\n",
    "* Sample space: the set of all possible outcomes. We usually denote the sample space by $\\Omega$, sometimes by $S$. \n",
    "\n",
    "* Event: a subset of the sample space. \n",
    "\n",
    "* Probability function: a function giving the probability for each outcome. \n",
    "\n",
    "* Probability density: a continuous distribution of probabilities. \n",
    "\n",
    "* Random variable: a random numerical outcome. \n"
   ]
  },
  {
   "cell_type": "code",
   "execution_count": 1,
   "metadata": {
    "ExecuteTime": {
     "end_time": "2020-10-06T10:19:24.894073Z",
     "start_time": "2020-10-06T10:19:24.877Z"
    },
    "scrolled": false
   },
   "outputs": [
    {
     "data": {
      "text/plain": [
       "               _                           \n",
       "platform       x86_64-pc-linux-gnu         \n",
       "arch           x86_64                      \n",
       "os             linux-gnu                   \n",
       "system         x86_64, linux-gnu           \n",
       "status                                     \n",
       "major          4                           \n",
       "minor          0.2                         \n",
       "year           2020                        \n",
       "month          06                          \n",
       "day            22                          \n",
       "svn rev        78730                       \n",
       "language       R                           \n",
       "version.string R version 4.0.2 (2020-06-22)\n",
       "nickname       Taking Off Again            "
      ]
     },
     "metadata": {},
     "output_type": "display_data"
    }
   ],
   "source": [
    "R.version"
   ]
  },
  {
   "cell_type": "markdown",
   "metadata": {},
   "source": [
    "## Install Dependencies"
   ]
  },
  {
   "cell_type": "code",
   "execution_count": 17,
   "metadata": {
    "ExecuteTime": {
     "end_time": "2020-10-06T10:25:15.095962Z",
     "start_time": "2020-10-06T10:23:19.201Z"
    }
   },
   "outputs": [],
   "source": [
    "install.packages(\"cluster\",quiet=TRUE)"
   ]
  },
  {
   "cell_type": "code",
   "execution_count": 8,
   "metadata": {},
   "outputs": [],
   "source": [
    "if (!requireNamespace(\"BiocManager\", quietly = TRUE))\n",
    "    install.packages(\"BiocManager\",quiet=TRUE)\n",
    "BiocManager::install()"
   ]
  },
  {
   "cell_type": "code",
   "execution_count": 1,
   "metadata": {},
   "outputs": [
    {
     "name": "stderr",
     "output_type": "stream",
     "text": [
      "Warning message in install.packages(c(\"MASS\", \"mgcv\", \"nlme\", \"survival\"), quiet = TRUE):\n",
      "“installation of package ‘survival’ had non-zero exit status”\n"
     ]
    }
   ],
   "source": [
    "install.packages(c(\"MASS\", \"mgcv\", \"nlme\",\"survival\"),quiet=TRUE)"
   ]
  },
  {
   "cell_type": "code",
   "execution_count": 1,
   "metadata": {
    "ExecuteTime": {
     "end_time": "2020-10-06T10:25:41.814556Z",
     "start_time": "2020-10-06T10:25:37.875Z"
    },
    "scrolled": false
   },
   "outputs": [
    {
     "name": "stderr",
     "output_type": "stream",
     "text": [
      "Installing packages into ‘/home/echatzief/R/x86_64-pc-linux-gnu-library/4.0’\n",
      "(as ‘lib’ is unspecified)\n",
      "\n",
      "also installing the dependencies ‘callr’, ‘pkgbuild’, ‘pkgload’, ‘testthat’, ‘isoband’, ‘scales’, ‘ggplot2’, ‘latticeExtra’, ‘gridExtra’, ‘htmlTable’, ‘viridis’, ‘tidyselect’, ‘cellranger’, ‘progress’, ‘conquer’, ‘openxlsx’, ‘mitools’, ‘sandwich’, ‘Hmisc’, ‘haven’, ‘readxl’, ‘pbkrtest’, ‘quantreg’, ‘maptools’, ‘rio’, ‘survey’, ‘timeSeries’, ‘fBasics’, ‘fOptions’, ‘RcmdrMisc’, ‘car’, ‘effects’, ‘tcltk2’, ‘lme4’, ‘fAsianOptions’, ‘Rcmdr’\n",
      "\n",
      "\n",
      "Warning message in install.packages(c(\"foreign\", \"diagram\", \"prob\", \"RcmdrPlugin.IPSUR\")):\n",
      "“installation of package ‘latticeExtra’ had non-zero exit status”\n",
      "Warning message in install.packages(c(\"foreign\", \"diagram\", \"prob\", \"RcmdrPlugin.IPSUR\")):\n",
      "“installation of package ‘Hmisc’ had non-zero exit status”\n",
      "Warning message in install.packages(c(\"foreign\", \"diagram\", \"prob\", \"RcmdrPlugin.IPSUR\")):\n",
      "“installation of package ‘RcmdrMisc’ had non-zero exit status”\n",
      "Warning message in install.packages(c(\"foreign\", \"diagram\", \"prob\", \"RcmdrPlugin.IPSUR\")):\n",
      "“installation of package ‘Rcmdr’ had non-zero exit status”\n",
      "Warning message in install.packages(c(\"foreign\", \"diagram\", \"prob\", \"RcmdrPlugin.IPSUR\")):\n",
      "“installation of package ‘RcmdrPlugin.IPSUR’ had non-zero exit status”\n"
     ]
    }
   ],
   "source": [
    "install.packages(c(\"foreign\",\"diagram\",\"prob\"))"
   ]
  },
  {
   "cell_type": "code",
   "execution_count": 10,
   "metadata": {},
   "outputs": [
    {
     "name": "stderr",
     "output_type": "stream",
     "text": [
      "Installing package into ‘/home/echatzief/R/x86_64-pc-linux-gnu-library/4.0’\n",
      "(as ‘lib’ is unspecified)\n",
      "\n",
      "also installing the dependencies ‘latticeExtra’, ‘Hmisc’, ‘RcmdrMisc’, ‘Rcmdr’\n",
      "\n",
      "\n",
      "Warning message in install.packages(\"RcmdrPlugin.IPSUR\", repos = \"http://www.cran.r-project.org\", :\n",
      "“installation of package ‘latticeExtra’ had non-zero exit status”\n",
      "Warning message in install.packages(\"RcmdrPlugin.IPSUR\", repos = \"http://www.cran.r-project.org\", :\n",
      "“installation of package ‘Hmisc’ had non-zero exit status”\n",
      "Warning message in install.packages(\"RcmdrPlugin.IPSUR\", repos = \"http://www.cran.r-project.org\", :\n",
      "“installation of package ‘RcmdrMisc’ had non-zero exit status”\n",
      "Warning message in install.packages(\"RcmdrPlugin.IPSUR\", repos = \"http://www.cran.r-project.org\", :\n",
      "“installation of package ‘Rcmdr’ had non-zero exit status”\n",
      "Warning message in install.packages(\"RcmdrPlugin.IPSUR\", repos = \"http://www.cran.r-project.org\", :\n",
      "“installation of package ‘RcmdrPlugin.IPSUR’ had non-zero exit status”\n"
     ]
    }
   ],
   "source": [
    "install.packages(\"RcmdrPlugin.IPSUR\", repos = \"http://www.cran.r-project.org\", type=\"source\",INSTALL_opts = c('--no-lock'))"
   ]
  },
  {
   "cell_type": "markdown",
   "metadata": {},
   "source": [
    "### Import Libraries"
   ]
  },
  {
   "cell_type": "code",
   "execution_count": 11,
   "metadata": {
    "ExecuteTime": {
     "start_time": "2020-10-06T10:25:56.650Z"
    },
    "scrolled": true
   },
   "outputs": [
    {
     "name": "stderr",
     "output_type": "stream",
     "text": [
      "Registered S3 methods overwritten by 'lme4':\n",
      "  method                          from\n",
      "  cooks.distance.influence.merMod car \n",
      "  influence.merMod                car \n",
      "  dfbeta.influence.merMod         car \n",
      "  dfbetas.influence.merMod        car \n",
      "\n"
     ]
    }
   ],
   "source": [
    "library(foreign)\n",
    "library(diagram)\n",
    "library(prob)\n",
    "library(RcmdrPlugin.IPSUR)"
   ]
  },
  {
   "cell_type": "markdown",
   "metadata": {},
   "source": [
    "#    Chapter 4 : Probability\n",
    "\n",
    "IPSUR: Introduction to Probability and Statistics Using R\n",
    "These are the R commands supporting in IPSUR library and the code presented in the examples of chapter 4.\n",
    "\n",
    "**You will use these commands to answer the exercises in this learning quizz**"
   ]
  },
  {
   "cell_type": "code",
   "execution_count": 15,
   "metadata": {
    "scrolled": true
   },
   "outputs": [
    {
     "data": {
      "text/html": [
       "<strong>null device:</strong> 1"
      ],
      "text/latex": [
       "\\textbf{null device:} 1"
      ],
      "text/markdown": [
       "**null device:** 1"
      ],
      "text/plain": [
       "null device \n",
       "          1 "
      ]
     },
     "metadata": {},
     "output_type": "display_data"
    },
    {
     "data": {
      "text/html": [
       "<table>\n",
       "<caption>A data.frame: 3 × 1</caption>\n",
       "<thead>\n",
       "\t<tr><th scope=col>lands</th></tr>\n",
       "\t<tr><th scope=col>&lt;chr&gt;</th></tr>\n",
       "</thead>\n",
       "<tbody>\n",
       "\t<tr><td>down</td></tr>\n",
       "\t<tr><td>up  </td></tr>\n",
       "\t<tr><td>side</td></tr>\n",
       "</tbody>\n",
       "</table>\n"
      ],
      "text/latex": [
       "A data.frame: 3 × 1\n",
       "\\begin{tabular}{l}\n",
       " lands\\\\\n",
       " <chr>\\\\\n",
       "\\hline\n",
       "\t down\\\\\n",
       "\t up  \\\\\n",
       "\t side\\\\\n",
       "\\end{tabular}\n"
      ],
      "text/markdown": [
       "\n",
       "A data.frame: 3 × 1\n",
       "\n",
       "| lands &lt;chr&gt; |\n",
       "|---|\n",
       "| down |\n",
       "| up   |\n",
       "| side |\n",
       "\n"
      ],
      "text/plain": [
       "  lands\n",
       "1 down \n",
       "2 up   \n",
       "3 side "
      ]
     },
     "metadata": {},
     "output_type": "display_data"
    },
    {
     "data": {
      "text/html": [
       "<table>\n",
       "<caption>A data.frame: 2 × 1</caption>\n",
       "<thead>\n",
       "\t<tr><th scope=col>toss1</th></tr>\n",
       "\t<tr><th scope=col>&lt;fct&gt;</th></tr>\n",
       "</thead>\n",
       "<tbody>\n",
       "\t<tr><td>H</td></tr>\n",
       "\t<tr><td>T</td></tr>\n",
       "</tbody>\n",
       "</table>\n"
      ],
      "text/latex": [
       "A data.frame: 2 × 1\n",
       "\\begin{tabular}{l}\n",
       " toss1\\\\\n",
       " <fct>\\\\\n",
       "\\hline\n",
       "\t H\\\\\n",
       "\t T\\\\\n",
       "\\end{tabular}\n"
      ],
      "text/markdown": [
       "\n",
       "A data.frame: 2 × 1\n",
       "\n",
       "| toss1 &lt;fct&gt; |\n",
       "|---|\n",
       "| H |\n",
       "| T |\n",
       "\n"
      ],
      "text/plain": [
       "  toss1\n",
       "1 H    \n",
       "2 T    "
      ]
     },
     "metadata": {},
     "output_type": "display_data"
    },
    {
     "data": {
      "text/html": [
       "<table>\n",
       "<caption>A data.frame: 8 × 3</caption>\n",
       "<thead>\n",
       "\t<tr><th scope=col>toss1</th><th scope=col>toss2</th><th scope=col>toss3</th></tr>\n",
       "\t<tr><th scope=col>&lt;fct&gt;</th><th scope=col>&lt;fct&gt;</th><th scope=col>&lt;fct&gt;</th></tr>\n",
       "</thead>\n",
       "<tbody>\n",
       "\t<tr><td>H</td><td>H</td><td>H</td></tr>\n",
       "\t<tr><td>T</td><td>H</td><td>H</td></tr>\n",
       "\t<tr><td>H</td><td>T</td><td>H</td></tr>\n",
       "\t<tr><td>T</td><td>T</td><td>H</td></tr>\n",
       "\t<tr><td>H</td><td>H</td><td>T</td></tr>\n",
       "\t<tr><td>T</td><td>H</td><td>T</td></tr>\n",
       "\t<tr><td>H</td><td>T</td><td>T</td></tr>\n",
       "\t<tr><td>T</td><td>T</td><td>T</td></tr>\n",
       "</tbody>\n",
       "</table>\n"
      ],
      "text/latex": [
       "A data.frame: 8 × 3\n",
       "\\begin{tabular}{lll}\n",
       " toss1 & toss2 & toss3\\\\\n",
       " <fct> & <fct> & <fct>\\\\\n",
       "\\hline\n",
       "\t H & H & H\\\\\n",
       "\t T & H & H\\\\\n",
       "\t H & T & H\\\\\n",
       "\t T & T & H\\\\\n",
       "\t H & H & T\\\\\n",
       "\t T & H & T\\\\\n",
       "\t H & T & T\\\\\n",
       "\t T & T & T\\\\\n",
       "\\end{tabular}\n"
      ],
      "text/markdown": [
       "\n",
       "A data.frame: 8 × 3\n",
       "\n",
       "| toss1 &lt;fct&gt; | toss2 &lt;fct&gt; | toss3 &lt;fct&gt; |\n",
       "|---|---|---|\n",
       "| H | H | H |\n",
       "| T | H | H |\n",
       "| H | T | H |\n",
       "| T | T | H |\n",
       "| H | H | T |\n",
       "| T | H | T |\n",
       "| H | T | T |\n",
       "| T | T | T |\n",
       "\n"
      ],
      "text/plain": [
       "  toss1 toss2 toss3\n",
       "1 H     H     H    \n",
       "2 T     H     H    \n",
       "3 H     T     H    \n",
       "4 T     T     H    \n",
       "5 H     H     T    \n",
       "6 T     H     T    \n",
       "7 H     T     T    \n",
       "8 T     T     T    "
      ]
     },
     "metadata": {},
     "output_type": "display_data"
    },
    {
     "data": {
      "text/html": [
       "<table>\n",
       "<caption>A data.frame: 6 × 1</caption>\n",
       "<thead>\n",
       "\t<tr><th scope=col>X1</th></tr>\n",
       "\t<tr><th scope=col>&lt;int&gt;</th></tr>\n",
       "</thead>\n",
       "<tbody>\n",
       "\t<tr><td>1</td></tr>\n",
       "\t<tr><td>2</td></tr>\n",
       "\t<tr><td>3</td></tr>\n",
       "\t<tr><td>4</td></tr>\n",
       "\t<tr><td>5</td></tr>\n",
       "\t<tr><td>6</td></tr>\n",
       "</tbody>\n",
       "</table>\n"
      ],
      "text/latex": [
       "A data.frame: 6 × 1\n",
       "\\begin{tabular}{l}\n",
       " X1\\\\\n",
       " <int>\\\\\n",
       "\\hline\n",
       "\t 1\\\\\n",
       "\t 2\\\\\n",
       "\t 3\\\\\n",
       "\t 4\\\\\n",
       "\t 5\\\\\n",
       "\t 6\\\\\n",
       "\\end{tabular}\n"
      ],
      "text/markdown": [
       "\n",
       "A data.frame: 6 × 1\n",
       "\n",
       "| X1 &lt;int&gt; |\n",
       "|---|\n",
       "| 1 |\n",
       "| 2 |\n",
       "| 3 |\n",
       "| 4 |\n",
       "| 5 |\n",
       "| 6 |\n",
       "\n"
      ],
      "text/plain": [
       "  X1\n",
       "1 1 \n",
       "2 2 \n",
       "3 3 \n",
       "4 4 \n",
       "5 5 \n",
       "6 6 "
      ]
     },
     "metadata": {},
     "output_type": "display_data"
    },
    {
     "data": {
      "text/html": [
       "<table>\n",
       "<caption>A data.frame: 6 × 2</caption>\n",
       "<thead>\n",
       "\t<tr><th></th><th scope=col>rank</th><th scope=col>suit</th></tr>\n",
       "\t<tr><th></th><th scope=col>&lt;fct&gt;</th><th scope=col>&lt;fct&gt;</th></tr>\n",
       "</thead>\n",
       "<tbody>\n",
       "\t<tr><th scope=row>1</th><td>2</td><td>Club</td></tr>\n",
       "\t<tr><th scope=row>2</th><td>3</td><td>Club</td></tr>\n",
       "\t<tr><th scope=row>3</th><td>4</td><td>Club</td></tr>\n",
       "\t<tr><th scope=row>4</th><td>5</td><td>Club</td></tr>\n",
       "\t<tr><th scope=row>5</th><td>6</td><td>Club</td></tr>\n",
       "\t<tr><th scope=row>6</th><td>7</td><td>Club</td></tr>\n",
       "</tbody>\n",
       "</table>\n"
      ],
      "text/latex": [
       "A data.frame: 6 × 2\n",
       "\\begin{tabular}{r|ll}\n",
       "  & rank & suit\\\\\n",
       "  & <fct> & <fct>\\\\\n",
       "\\hline\n",
       "\t1 & 2 & Club\\\\\n",
       "\t2 & 3 & Club\\\\\n",
       "\t3 & 4 & Club\\\\\n",
       "\t4 & 5 & Club\\\\\n",
       "\t5 & 6 & Club\\\\\n",
       "\t6 & 7 & Club\\\\\n",
       "\\end{tabular}\n"
      ],
      "text/markdown": [
       "\n",
       "A data.frame: 6 × 2\n",
       "\n",
       "| <!--/--> | rank &lt;fct&gt; | suit &lt;fct&gt; |\n",
       "|---|---|---|\n",
       "| 1 | 2 | Club |\n",
       "| 2 | 3 | Club |\n",
       "| 3 | 4 | Club |\n",
       "| 4 | 5 | Club |\n",
       "| 5 | 6 | Club |\n",
       "| 6 | 7 | Club |\n",
       "\n"
      ],
      "text/plain": [
       "  rank suit\n",
       "1 2    Club\n",
       "2 3    Club\n",
       "3 4    Club\n",
       "4 5    Club\n",
       "5 6    Club\n",
       "6 7    Club"
      ]
     },
     "metadata": {},
     "output_type": "display_data"
    },
    {
     "data": {
      "text/html": [
       "<table>\n",
       "<caption>A data.frame: 9 × 2</caption>\n",
       "<thead>\n",
       "\t<tr><th scope=col>X1</th><th scope=col>X2</th></tr>\n",
       "\t<tr><th scope=col>&lt;int&gt;</th><th scope=col>&lt;int&gt;</th></tr>\n",
       "</thead>\n",
       "<tbody>\n",
       "\t<tr><td>1</td><td>1</td></tr>\n",
       "\t<tr><td>2</td><td>1</td></tr>\n",
       "\t<tr><td>3</td><td>1</td></tr>\n",
       "\t<tr><td>1</td><td>2</td></tr>\n",
       "\t<tr><td>2</td><td>2</td></tr>\n",
       "\t<tr><td>3</td><td>2</td></tr>\n",
       "\t<tr><td>1</td><td>3</td></tr>\n",
       "\t<tr><td>2</td><td>3</td></tr>\n",
       "\t<tr><td>3</td><td>3</td></tr>\n",
       "</tbody>\n",
       "</table>\n"
      ],
      "text/latex": [
       "A data.frame: 9 × 2\n",
       "\\begin{tabular}{ll}\n",
       " X1 & X2\\\\\n",
       " <int> & <int>\\\\\n",
       "\\hline\n",
       "\t 1 & 1\\\\\n",
       "\t 2 & 1\\\\\n",
       "\t 3 & 1\\\\\n",
       "\t 1 & 2\\\\\n",
       "\t 2 & 2\\\\\n",
       "\t 3 & 2\\\\\n",
       "\t 1 & 3\\\\\n",
       "\t 2 & 3\\\\\n",
       "\t 3 & 3\\\\\n",
       "\\end{tabular}\n"
      ],
      "text/markdown": [
       "\n",
       "A data.frame: 9 × 2\n",
       "\n",
       "| X1 &lt;int&gt; | X2 &lt;int&gt; |\n",
       "|---|---|\n",
       "| 1 | 1 |\n",
       "| 2 | 1 |\n",
       "| 3 | 1 |\n",
       "| 1 | 2 |\n",
       "| 2 | 2 |\n",
       "| 3 | 2 |\n",
       "| 1 | 3 |\n",
       "| 2 | 3 |\n",
       "| 3 | 3 |\n",
       "\n"
      ],
      "text/plain": [
       "  X1 X2\n",
       "1 1  1 \n",
       "2 2  1 \n",
       "3 3  1 \n",
       "4 1  2 \n",
       "5 2  2 \n",
       "6 3  2 \n",
       "7 1  3 \n",
       "8 2  3 \n",
       "9 3  3 "
      ]
     },
     "metadata": {},
     "output_type": "display_data"
    },
    {
     "data": {
      "text/html": [
       "<table>\n",
       "<caption>A data.frame: 6 × 2</caption>\n",
       "<thead>\n",
       "\t<tr><th scope=col>X1</th><th scope=col>X2</th></tr>\n",
       "\t<tr><th scope=col>&lt;int&gt;</th><th scope=col>&lt;int&gt;</th></tr>\n",
       "</thead>\n",
       "<tbody>\n",
       "\t<tr><td>1</td><td>2</td></tr>\n",
       "\t<tr><td>2</td><td>1</td></tr>\n",
       "\t<tr><td>1</td><td>3</td></tr>\n",
       "\t<tr><td>3</td><td>1</td></tr>\n",
       "\t<tr><td>2</td><td>3</td></tr>\n",
       "\t<tr><td>3</td><td>2</td></tr>\n",
       "</tbody>\n",
       "</table>\n"
      ],
      "text/latex": [
       "A data.frame: 6 × 2\n",
       "\\begin{tabular}{ll}\n",
       " X1 & X2\\\\\n",
       " <int> & <int>\\\\\n",
       "\\hline\n",
       "\t 1 & 2\\\\\n",
       "\t 2 & 1\\\\\n",
       "\t 1 & 3\\\\\n",
       "\t 3 & 1\\\\\n",
       "\t 2 & 3\\\\\n",
       "\t 3 & 2\\\\\n",
       "\\end{tabular}\n"
      ],
      "text/markdown": [
       "\n",
       "A data.frame: 6 × 2\n",
       "\n",
       "| X1 &lt;int&gt; | X2 &lt;int&gt; |\n",
       "|---|---|\n",
       "| 1 | 2 |\n",
       "| 2 | 1 |\n",
       "| 1 | 3 |\n",
       "| 3 | 1 |\n",
       "| 2 | 3 |\n",
       "| 3 | 2 |\n",
       "\n"
      ],
      "text/plain": [
       "  X1 X2\n",
       "1 1  2 \n",
       "2 2  1 \n",
       "3 1  3 \n",
       "4 3  1 \n",
       "5 2  3 \n",
       "6 3  2 "
      ]
     },
     "metadata": {},
     "output_type": "display_data"
    },
    {
     "data": {
      "text/html": [
       "<table>\n",
       "<caption>A data.frame: 3 × 2</caption>\n",
       "<thead>\n",
       "\t<tr><th scope=col>X1</th><th scope=col>X2</th></tr>\n",
       "\t<tr><th scope=col>&lt;int&gt;</th><th scope=col>&lt;int&gt;</th></tr>\n",
       "</thead>\n",
       "<tbody>\n",
       "\t<tr><td>1</td><td>2</td></tr>\n",
       "\t<tr><td>1</td><td>3</td></tr>\n",
       "\t<tr><td>2</td><td>3</td></tr>\n",
       "</tbody>\n",
       "</table>\n"
      ],
      "text/latex": [
       "A data.frame: 3 × 2\n",
       "\\begin{tabular}{ll}\n",
       " X1 & X2\\\\\n",
       " <int> & <int>\\\\\n",
       "\\hline\n",
       "\t 1 & 2\\\\\n",
       "\t 1 & 3\\\\\n",
       "\t 2 & 3\\\\\n",
       "\\end{tabular}\n"
      ],
      "text/markdown": [
       "\n",
       "A data.frame: 3 × 2\n",
       "\n",
       "| X1 &lt;int&gt; | X2 &lt;int&gt; |\n",
       "|---|---|\n",
       "| 1 | 2 |\n",
       "| 1 | 3 |\n",
       "| 2 | 3 |\n",
       "\n"
      ],
      "text/plain": [
       "  X1 X2\n",
       "1 1  2 \n",
       "2 1  3 \n",
       "3 2  3 "
      ]
     },
     "metadata": {},
     "output_type": "display_data"
    },
    {
     "data": {
      "text/html": [
       "<table>\n",
       "<caption>A data.frame: 6 × 2</caption>\n",
       "<thead>\n",
       "\t<tr><th scope=col>X1</th><th scope=col>X2</th></tr>\n",
       "\t<tr><th scope=col>&lt;int&gt;</th><th scope=col>&lt;int&gt;</th></tr>\n",
       "</thead>\n",
       "<tbody>\n",
       "\t<tr><td>1</td><td>1</td></tr>\n",
       "\t<tr><td>1</td><td>2</td></tr>\n",
       "\t<tr><td>1</td><td>3</td></tr>\n",
       "\t<tr><td>2</td><td>2</td></tr>\n",
       "\t<tr><td>2</td><td>3</td></tr>\n",
       "\t<tr><td>3</td><td>3</td></tr>\n",
       "</tbody>\n",
       "</table>\n"
      ],
      "text/latex": [
       "A data.frame: 6 × 2\n",
       "\\begin{tabular}{ll}\n",
       " X1 & X2\\\\\n",
       " <int> & <int>\\\\\n",
       "\\hline\n",
       "\t 1 & 1\\\\\n",
       "\t 1 & 2\\\\\n",
       "\t 1 & 3\\\\\n",
       "\t 2 & 2\\\\\n",
       "\t 2 & 3\\\\\n",
       "\t 3 & 3\\\\\n",
       "\\end{tabular}\n"
      ],
      "text/markdown": [
       "\n",
       "A data.frame: 6 × 2\n",
       "\n",
       "| X1 &lt;int&gt; | X2 &lt;int&gt; |\n",
       "|---|---|\n",
       "| 1 | 1 |\n",
       "| 1 | 2 |\n",
       "| 1 | 3 |\n",
       "| 2 | 2 |\n",
       "| 2 | 3 |\n",
       "| 3 | 3 |\n",
       "\n"
      ],
      "text/plain": [
       "  X1 X2\n",
       "1 1  1 \n",
       "2 1  2 \n",
       "3 1  3 \n",
       "4 2  2 \n",
       "5 2  3 \n",
       "6 3  3 "
      ]
     },
     "metadata": {},
     "output_type": "display_data"
    },
    {
     "data": {
      "text/html": [
       "<table>\n",
       "<caption>A data.frame: 3 × 3</caption>\n",
       "<thead>\n",
       "\t<tr><th></th><th scope=col>toss1</th><th scope=col>toss2</th><th scope=col>probs</th></tr>\n",
       "\t<tr><th></th><th scope=col>&lt;fct&gt;</th><th scope=col>&lt;fct&gt;</th><th scope=col>&lt;dbl&gt;</th></tr>\n",
       "</thead>\n",
       "<tbody>\n",
       "\t<tr><th scope=row>1</th><td>H</td><td>H</td><td>0.25</td></tr>\n",
       "\t<tr><th scope=row>2</th><td>T</td><td>H</td><td>0.25</td></tr>\n",
       "\t<tr><th scope=row>3</th><td>H</td><td>T</td><td>0.25</td></tr>\n",
       "</tbody>\n",
       "</table>\n"
      ],
      "text/latex": [
       "A data.frame: 3 × 3\n",
       "\\begin{tabular}{r|lll}\n",
       "  & toss1 & toss2 & probs\\\\\n",
       "  & <fct> & <fct> & <dbl>\\\\\n",
       "\\hline\n",
       "\t1 & H & H & 0.25\\\\\n",
       "\t2 & T & H & 0.25\\\\\n",
       "\t3 & H & T & 0.25\\\\\n",
       "\\end{tabular}\n"
      ],
      "text/markdown": [
       "\n",
       "A data.frame: 3 × 3\n",
       "\n",
       "| <!--/--> | toss1 &lt;fct&gt; | toss2 &lt;fct&gt; | probs &lt;dbl&gt; |\n",
       "|---|---|---|---|\n",
       "| 1 | H | H | 0.25 |\n",
       "| 2 | T | H | 0.25 |\n",
       "| 3 | H | T | 0.25 |\n",
       "\n"
      ],
      "text/plain": [
       "  toss1 toss2 probs\n",
       "1 H     H     0.25 \n",
       "2 T     H     0.25 \n",
       "3 H     T     0.25 "
      ]
     },
     "metadata": {},
     "output_type": "display_data"
    },
    {
     "data": {
      "text/html": [
       "<table>\n",
       "<caption>A data.frame: 2 × 3</caption>\n",
       "<thead>\n",
       "\t<tr><th></th><th scope=col>toss1</th><th scope=col>toss2</th><th scope=col>probs</th></tr>\n",
       "\t<tr><th></th><th scope=col>&lt;fct&gt;</th><th scope=col>&lt;fct&gt;</th><th scope=col>&lt;dbl&gt;</th></tr>\n",
       "</thead>\n",
       "<tbody>\n",
       "\t<tr><th scope=row>2</th><td>T</td><td>H</td><td>0.25</td></tr>\n",
       "\t<tr><th scope=row>4</th><td>T</td><td>T</td><td>0.25</td></tr>\n",
       "</tbody>\n",
       "</table>\n"
      ],
      "text/latex": [
       "A data.frame: 2 × 3\n",
       "\\begin{tabular}{r|lll}\n",
       "  & toss1 & toss2 & probs\\\\\n",
       "  & <fct> & <fct> & <dbl>\\\\\n",
       "\\hline\n",
       "\t2 & T & H & 0.25\\\\\n",
       "\t4 & T & T & 0.25\\\\\n",
       "\\end{tabular}\n"
      ],
      "text/markdown": [
       "\n",
       "A data.frame: 2 × 3\n",
       "\n",
       "| <!--/--> | toss1 &lt;fct&gt; | toss2 &lt;fct&gt; | probs &lt;dbl&gt; |\n",
       "|---|---|---|---|\n",
       "| 2 | T | H | 0.25 |\n",
       "| 4 | T | T | 0.25 |\n",
       "\n"
      ],
      "text/plain": [
       "  toss1 toss2 probs\n",
       "2 T     H     0.25 \n",
       "4 T     T     0.25 "
      ]
     },
     "metadata": {},
     "output_type": "display_data"
    },
    {
     "data": {
      "text/html": [
       "<table>\n",
       "<caption>A data.frame: 13 × 2</caption>\n",
       "<thead>\n",
       "\t<tr><th></th><th scope=col>rank</th><th scope=col>suit</th></tr>\n",
       "\t<tr><th></th><th scope=col>&lt;fct&gt;</th><th scope=col>&lt;fct&gt;</th></tr>\n",
       "</thead>\n",
       "<tbody>\n",
       "\t<tr><th scope=row>27</th><td>2 </td><td>Heart</td></tr>\n",
       "\t<tr><th scope=row>28</th><td>3 </td><td>Heart</td></tr>\n",
       "\t<tr><th scope=row>29</th><td>4 </td><td>Heart</td></tr>\n",
       "\t<tr><th scope=row>30</th><td>5 </td><td>Heart</td></tr>\n",
       "\t<tr><th scope=row>31</th><td>6 </td><td>Heart</td></tr>\n",
       "\t<tr><th scope=row>32</th><td>7 </td><td>Heart</td></tr>\n",
       "\t<tr><th scope=row>33</th><td>8 </td><td>Heart</td></tr>\n",
       "\t<tr><th scope=row>34</th><td>9 </td><td>Heart</td></tr>\n",
       "\t<tr><th scope=row>35</th><td>10</td><td>Heart</td></tr>\n",
       "\t<tr><th scope=row>36</th><td>J </td><td>Heart</td></tr>\n",
       "\t<tr><th scope=row>37</th><td>Q </td><td>Heart</td></tr>\n",
       "\t<tr><th scope=row>38</th><td>K </td><td>Heart</td></tr>\n",
       "\t<tr><th scope=row>39</th><td>A </td><td>Heart</td></tr>\n",
       "</tbody>\n",
       "</table>\n"
      ],
      "text/latex": [
       "A data.frame: 13 × 2\n",
       "\\begin{tabular}{r|ll}\n",
       "  & rank & suit\\\\\n",
       "  & <fct> & <fct>\\\\\n",
       "\\hline\n",
       "\t27 & 2  & Heart\\\\\n",
       "\t28 & 3  & Heart\\\\\n",
       "\t29 & 4  & Heart\\\\\n",
       "\t30 & 5  & Heart\\\\\n",
       "\t31 & 6  & Heart\\\\\n",
       "\t32 & 7  & Heart\\\\\n",
       "\t33 & 8  & Heart\\\\\n",
       "\t34 & 9  & Heart\\\\\n",
       "\t35 & 10 & Heart\\\\\n",
       "\t36 & J  & Heart\\\\\n",
       "\t37 & Q  & Heart\\\\\n",
       "\t38 & K  & Heart\\\\\n",
       "\t39 & A  & Heart\\\\\n",
       "\\end{tabular}\n"
      ],
      "text/markdown": [
       "\n",
       "A data.frame: 13 × 2\n",
       "\n",
       "| <!--/--> | rank &lt;fct&gt; | suit &lt;fct&gt; |\n",
       "|---|---|---|\n",
       "| 27 | 2  | Heart |\n",
       "| 28 | 3  | Heart |\n",
       "| 29 | 4  | Heart |\n",
       "| 30 | 5  | Heart |\n",
       "| 31 | 6  | Heart |\n",
       "| 32 | 7  | Heart |\n",
       "| 33 | 8  | Heart |\n",
       "| 34 | 9  | Heart |\n",
       "| 35 | 10 | Heart |\n",
       "| 36 | J  | Heart |\n",
       "| 37 | Q  | Heart |\n",
       "| 38 | K  | Heart |\n",
       "| 39 | A  | Heart |\n",
       "\n"
      ],
      "text/plain": [
       "   rank suit \n",
       "27 2    Heart\n",
       "28 3    Heart\n",
       "29 4    Heart\n",
       "30 5    Heart\n",
       "31 6    Heart\n",
       "32 7    Heart\n",
       "33 8    Heart\n",
       "34 9    Heart\n",
       "35 10   Heart\n",
       "36 J    Heart\n",
       "37 Q    Heart\n",
       "38 K    Heart\n",
       "39 A    Heart"
      ]
     },
     "metadata": {},
     "output_type": "display_data"
    },
    {
     "data": {
      "text/html": [
       "<table>\n",
       "<caption>A data.frame: 12 × 2</caption>\n",
       "<thead>\n",
       "\t<tr><th></th><th scope=col>rank</th><th scope=col>suit</th></tr>\n",
       "\t<tr><th></th><th scope=col>&lt;fct&gt;</th><th scope=col>&lt;fct&gt;</th></tr>\n",
       "</thead>\n",
       "<tbody>\n",
       "\t<tr><th scope=row>6</th><td>7</td><td>Club   </td></tr>\n",
       "\t<tr><th scope=row>7</th><td>8</td><td>Club   </td></tr>\n",
       "\t<tr><th scope=row>8</th><td>9</td><td>Club   </td></tr>\n",
       "\t<tr><th scope=row>19</th><td>7</td><td>Diamond</td></tr>\n",
       "\t<tr><th scope=row>20</th><td>8</td><td>Diamond</td></tr>\n",
       "\t<tr><th scope=row>21</th><td>9</td><td>Diamond</td></tr>\n",
       "\t<tr><th scope=row>32</th><td>7</td><td>Heart  </td></tr>\n",
       "\t<tr><th scope=row>33</th><td>8</td><td>Heart  </td></tr>\n",
       "\t<tr><th scope=row>34</th><td>9</td><td>Heart  </td></tr>\n",
       "\t<tr><th scope=row>45</th><td>7</td><td>Spade  </td></tr>\n",
       "\t<tr><th scope=row>46</th><td>8</td><td>Spade  </td></tr>\n",
       "\t<tr><th scope=row>47</th><td>9</td><td>Spade  </td></tr>\n",
       "</tbody>\n",
       "</table>\n"
      ],
      "text/latex": [
       "A data.frame: 12 × 2\n",
       "\\begin{tabular}{r|ll}\n",
       "  & rank & suit\\\\\n",
       "  & <fct> & <fct>\\\\\n",
       "\\hline\n",
       "\t6 & 7 & Club   \\\\\n",
       "\t7 & 8 & Club   \\\\\n",
       "\t8 & 9 & Club   \\\\\n",
       "\t19 & 7 & Diamond\\\\\n",
       "\t20 & 8 & Diamond\\\\\n",
       "\t21 & 9 & Diamond\\\\\n",
       "\t32 & 7 & Heart  \\\\\n",
       "\t33 & 8 & Heart  \\\\\n",
       "\t34 & 9 & Heart  \\\\\n",
       "\t45 & 7 & Spade  \\\\\n",
       "\t46 & 8 & Spade  \\\\\n",
       "\t47 & 9 & Spade  \\\\\n",
       "\\end{tabular}\n"
      ],
      "text/markdown": [
       "\n",
       "A data.frame: 12 × 2\n",
       "\n",
       "| <!--/--> | rank &lt;fct&gt; | suit &lt;fct&gt; |\n",
       "|---|---|---|\n",
       "| 6 | 7 | Club    |\n",
       "| 7 | 8 | Club    |\n",
       "| 8 | 9 | Club    |\n",
       "| 19 | 7 | Diamond |\n",
       "| 20 | 8 | Diamond |\n",
       "| 21 | 9 | Diamond |\n",
       "| 32 | 7 | Heart   |\n",
       "| 33 | 8 | Heart   |\n",
       "| 34 | 9 | Heart   |\n",
       "| 45 | 7 | Spade   |\n",
       "| 46 | 8 | Spade   |\n",
       "| 47 | 9 | Spade   |\n",
       "\n"
      ],
      "text/plain": [
       "   rank suit   \n",
       "6  7    Club   \n",
       "7  8    Club   \n",
       "8  9    Club   \n",
       "19 7    Diamond\n",
       "20 8    Diamond\n",
       "21 9    Diamond\n",
       "32 7    Heart  \n",
       "33 8    Heart  \n",
       "34 9    Heart  \n",
       "45 7    Spade  \n",
       "46 8    Spade  \n",
       "47 9    Spade  "
      ]
     },
     "metadata": {},
     "output_type": "display_data"
    },
    {
     "data": {
      "text/html": [
       "<table>\n",
       "<caption>A data.frame: 4 × 3</caption>\n",
       "<thead>\n",
       "\t<tr><th></th><th scope=col>X1</th><th scope=col>X2</th><th scope=col>X3</th></tr>\n",
       "\t<tr><th></th><th scope=col>&lt;int&gt;</th><th scope=col>&lt;int&gt;</th><th scope=col>&lt;int&gt;</th></tr>\n",
       "</thead>\n",
       "<tbody>\n",
       "\t<tr><th scope=row>180</th><td>6</td><td>6</td><td>5</td></tr>\n",
       "\t<tr><th scope=row>210</th><td>6</td><td>5</td><td>6</td></tr>\n",
       "\t<tr><th scope=row>215</th><td>5</td><td>6</td><td>6</td></tr>\n",
       "\t<tr><th scope=row>216</th><td>6</td><td>6</td><td>6</td></tr>\n",
       "</tbody>\n",
       "</table>\n"
      ],
      "text/latex": [
       "A data.frame: 4 × 3\n",
       "\\begin{tabular}{r|lll}\n",
       "  & X1 & X2 & X3\\\\\n",
       "  & <int> & <int> & <int>\\\\\n",
       "\\hline\n",
       "\t180 & 6 & 6 & 5\\\\\n",
       "\t210 & 6 & 5 & 6\\\\\n",
       "\t215 & 5 & 6 & 6\\\\\n",
       "\t216 & 6 & 6 & 6\\\\\n",
       "\\end{tabular}\n"
      ],
      "text/markdown": [
       "\n",
       "A data.frame: 4 × 3\n",
       "\n",
       "| <!--/--> | X1 &lt;int&gt; | X2 &lt;int&gt; | X3 &lt;int&gt; |\n",
       "|---|---|---|---|\n",
       "| 180 | 6 | 6 | 5 |\n",
       "| 210 | 6 | 5 | 6 |\n",
       "| 215 | 5 | 6 | 6 |\n",
       "| 216 | 6 | 6 | 6 |\n",
       "\n"
      ],
      "text/plain": [
       "    X1 X2 X3\n",
       "180 6  6  5 \n",
       "210 6  5  6 \n",
       "215 5  6  6 \n",
       "216 6  6  6 "
      ]
     },
     "metadata": {},
     "output_type": "display_data"
    },
    {
     "data": {
      "text/html": [
       "<style>\n",
       ".list-inline {list-style: none; margin:0; padding: 0}\n",
       ".list-inline>li {display: inline-block}\n",
       ".list-inline>li:not(:last-child)::after {content: \"\\00b7\"; padding: 0 .5ex}\n",
       "</style>\n",
       "<ol class=list-inline><li>TRUE</li><li>TRUE</li><li>TRUE</li><li>FALSE</li><li>FALSE</li></ol>\n"
      ],
      "text/latex": [
       "\\begin{enumerate*}\n",
       "\\item TRUE\n",
       "\\item TRUE\n",
       "\\item TRUE\n",
       "\\item FALSE\n",
       "\\item FALSE\n",
       "\\end{enumerate*}\n"
      ],
      "text/markdown": [
       "1. TRUE\n",
       "2. TRUE\n",
       "3. TRUE\n",
       "4. FALSE\n",
       "5. FALSE\n",
       "\n",
       "\n"
      ],
      "text/plain": [
       "[1]  TRUE  TRUE  TRUE FALSE FALSE"
      ]
     },
     "metadata": {},
     "output_type": "display_data"
    },
    {
     "data": {
      "text/html": [
       "FALSE"
      ],
      "text/latex": [
       "FALSE"
      ],
      "text/markdown": [
       "FALSE"
      ],
      "text/plain": [
       "[1] FALSE"
      ]
     },
     "metadata": {},
     "output_type": "display_data"
    },
    {
     "data": {
      "text/html": [
       "TRUE"
      ],
      "text/latex": [
       "TRUE"
      ],
      "text/markdown": [
       "TRUE"
      ],
      "text/plain": [
       "[1] TRUE"
      ]
     },
     "metadata": {},
     "output_type": "display_data"
    },
    {
     "data": {
      "text/html": [
       "FALSE"
      ],
      "text/latex": [
       "FALSE"
      ],
      "text/markdown": [
       "FALSE"
      ],
      "text/plain": [
       "[1] FALSE"
      ]
     },
     "metadata": {},
     "output_type": "display_data"
    },
    {
     "data": {
      "text/html": [
       "TRUE"
      ],
      "text/latex": [
       "TRUE"
      ],
      "text/markdown": [
       "TRUE"
      ],
      "text/plain": [
       "[1] TRUE"
      ]
     },
     "metadata": {},
     "output_type": "display_data"
    },
    {
     "data": {
      "text/html": [
       "FALSE"
      ],
      "text/latex": [
       "FALSE"
      ],
      "text/markdown": [
       "FALSE"
      ],
      "text/plain": [
       "[1] FALSE"
      ]
     },
     "metadata": {},
     "output_type": "display_data"
    },
    {
     "data": {
      "text/html": [
       "<table>\n",
       "<caption>A data.frame: 21 × 4</caption>\n",
       "<thead>\n",
       "\t<tr><th></th><th scope=col>X1</th><th scope=col>X2</th><th scope=col>X3</th><th scope=col>X4</th></tr>\n",
       "\t<tr><th></th><th scope=col>&lt;int&gt;</th><th scope=col>&lt;int&gt;</th><th scope=col>&lt;int&gt;</th><th scope=col>&lt;int&gt;</th></tr>\n",
       "</thead>\n",
       "<tbody>\n",
       "\t<tr><th scope=row>188</th><td>2</td><td>2</td><td>6</td><td>1</td></tr>\n",
       "\t<tr><th scope=row>404</th><td>2</td><td>2</td><td>6</td><td>2</td></tr>\n",
       "\t<tr><th scope=row>620</th><td>2</td><td>2</td><td>6</td><td>3</td></tr>\n",
       "\t<tr><th scope=row>836</th><td>2</td><td>2</td><td>6</td><td>4</td></tr>\n",
       "\t<tr><th scope=row>1052</th><td>2</td><td>2</td><td>6</td><td>5</td></tr>\n",
       "\t<tr><th scope=row>1088</th><td>2</td><td>2</td><td>1</td><td>6</td></tr>\n",
       "\t<tr><th scope=row>1118</th><td>2</td><td>1</td><td>2</td><td>6</td></tr>\n",
       "\t<tr><th scope=row>1123</th><td>1</td><td>2</td><td>2</td><td>6</td></tr>\n",
       "\t<tr><th scope=row>1124</th><td>2</td><td>2</td><td>2</td><td>6</td></tr>\n",
       "\t<tr><th scope=row>1125</th><td>3</td><td>2</td><td>2</td><td>6</td></tr>\n",
       "\t<tr><th scope=row>1126</th><td>4</td><td>2</td><td>2</td><td>6</td></tr>\n",
       "\t<tr><th scope=row>1127</th><td>5</td><td>2</td><td>2</td><td>6</td></tr>\n",
       "\t<tr><th scope=row>1128</th><td>6</td><td>2</td><td>2</td><td>6</td></tr>\n",
       "\t<tr><th scope=row>1130</th><td>2</td><td>3</td><td>2</td><td>6</td></tr>\n",
       "\t<tr><th scope=row>1136</th><td>2</td><td>4</td><td>2</td><td>6</td></tr>\n",
       "\t<tr><th scope=row>1142</th><td>2</td><td>5</td><td>2</td><td>6</td></tr>\n",
       "\t<tr><th scope=row>1148</th><td>2</td><td>6</td><td>2</td><td>6</td></tr>\n",
       "\t<tr><th scope=row>1160</th><td>2</td><td>2</td><td>3</td><td>6</td></tr>\n",
       "\t<tr><th scope=row>1196</th><td>2</td><td>2</td><td>4</td><td>6</td></tr>\n",
       "\t<tr><th scope=row>1232</th><td>2</td><td>2</td><td>5</td><td>6</td></tr>\n",
       "\t<tr><th scope=row>1268</th><td>2</td><td>2</td><td>6</td><td>6</td></tr>\n",
       "</tbody>\n",
       "</table>\n"
      ],
      "text/latex": [
       "A data.frame: 21 × 4\n",
       "\\begin{tabular}{r|llll}\n",
       "  & X1 & X2 & X3 & X4\\\\\n",
       "  & <int> & <int> & <int> & <int>\\\\\n",
       "\\hline\n",
       "\t188 & 2 & 2 & 6 & 1\\\\\n",
       "\t404 & 2 & 2 & 6 & 2\\\\\n",
       "\t620 & 2 & 2 & 6 & 3\\\\\n",
       "\t836 & 2 & 2 & 6 & 4\\\\\n",
       "\t1052 & 2 & 2 & 6 & 5\\\\\n",
       "\t1088 & 2 & 2 & 1 & 6\\\\\n",
       "\t1118 & 2 & 1 & 2 & 6\\\\\n",
       "\t1123 & 1 & 2 & 2 & 6\\\\\n",
       "\t1124 & 2 & 2 & 2 & 6\\\\\n",
       "\t1125 & 3 & 2 & 2 & 6\\\\\n",
       "\t1126 & 4 & 2 & 2 & 6\\\\\n",
       "\t1127 & 5 & 2 & 2 & 6\\\\\n",
       "\t1128 & 6 & 2 & 2 & 6\\\\\n",
       "\t1130 & 2 & 3 & 2 & 6\\\\\n",
       "\t1136 & 2 & 4 & 2 & 6\\\\\n",
       "\t1142 & 2 & 5 & 2 & 6\\\\\n",
       "\t1148 & 2 & 6 & 2 & 6\\\\\n",
       "\t1160 & 2 & 2 & 3 & 6\\\\\n",
       "\t1196 & 2 & 2 & 4 & 6\\\\\n",
       "\t1232 & 2 & 2 & 5 & 6\\\\\n",
       "\t1268 & 2 & 2 & 6 & 6\\\\\n",
       "\\end{tabular}\n"
      ],
      "text/markdown": [
       "\n",
       "A data.frame: 21 × 4\n",
       "\n",
       "| <!--/--> | X1 &lt;int&gt; | X2 &lt;int&gt; | X3 &lt;int&gt; | X4 &lt;int&gt; |\n",
       "|---|---|---|---|---|\n",
       "| 188 | 2 | 2 | 6 | 1 |\n",
       "| 404 | 2 | 2 | 6 | 2 |\n",
       "| 620 | 2 | 2 | 6 | 3 |\n",
       "| 836 | 2 | 2 | 6 | 4 |\n",
       "| 1052 | 2 | 2 | 6 | 5 |\n",
       "| 1088 | 2 | 2 | 1 | 6 |\n",
       "| 1118 | 2 | 1 | 2 | 6 |\n",
       "| 1123 | 1 | 2 | 2 | 6 |\n",
       "| 1124 | 2 | 2 | 2 | 6 |\n",
       "| 1125 | 3 | 2 | 2 | 6 |\n",
       "| 1126 | 4 | 2 | 2 | 6 |\n",
       "| 1127 | 5 | 2 | 2 | 6 |\n",
       "| 1128 | 6 | 2 | 2 | 6 |\n",
       "| 1130 | 2 | 3 | 2 | 6 |\n",
       "| 1136 | 2 | 4 | 2 | 6 |\n",
       "| 1142 | 2 | 5 | 2 | 6 |\n",
       "| 1148 | 2 | 6 | 2 | 6 |\n",
       "| 1160 | 2 | 2 | 3 | 6 |\n",
       "| 1196 | 2 | 2 | 4 | 6 |\n",
       "| 1232 | 2 | 2 | 5 | 6 |\n",
       "| 1268 | 2 | 2 | 6 | 6 |\n",
       "\n"
      ],
      "text/plain": [
       "     X1 X2 X3 X4\n",
       "188  2  2  6  1 \n",
       "404  2  2  6  2 \n",
       "620  2  2  6  3 \n",
       "836  2  2  6  4 \n",
       "1052 2  2  6  5 \n",
       "1088 2  2  1  6 \n",
       "1118 2  1  2  6 \n",
       "1123 1  2  2  6 \n",
       "1124 2  2  2  6 \n",
       "1125 3  2  2  6 \n",
       "1126 4  2  2  6 \n",
       "1127 5  2  2  6 \n",
       "1128 6  2  2  6 \n",
       "1130 2  3  2  6 \n",
       "1136 2  4  2  6 \n",
       "1142 2  5  2  6 \n",
       "1148 2  6  2  6 \n",
       "1160 2  2  3  6 \n",
       "1196 2  2  4  6 \n",
       "1232 2  2  5  6 \n",
       "1268 2  2  6  6 "
      ]
     },
     "metadata": {},
     "output_type": "display_data"
    },
    {
     "data": {
      "text/html": [
       "<table>\n",
       "<caption>A data.frame: 22 × 2</caption>\n",
       "<thead>\n",
       "\t<tr><th></th><th scope=col>rank</th><th scope=col>suit</th></tr>\n",
       "\t<tr><th></th><th scope=col>&lt;fct&gt;</th><th scope=col>&lt;fct&gt;</th></tr>\n",
       "</thead>\n",
       "<tbody>\n",
       "\t<tr><th scope=row>6</th><td>7 </td><td>Club   </td></tr>\n",
       "\t<tr><th scope=row>7</th><td>8 </td><td>Club   </td></tr>\n",
       "\t<tr><th scope=row>8</th><td>9 </td><td>Club   </td></tr>\n",
       "\t<tr><th scope=row>19</th><td>7 </td><td>Diamond</td></tr>\n",
       "\t<tr><th scope=row>20</th><td>8 </td><td>Diamond</td></tr>\n",
       "\t<tr><th scope=row>21</th><td>9 </td><td>Diamond</td></tr>\n",
       "\t<tr><th scope=row>27</th><td>2 </td><td>Heart  </td></tr>\n",
       "\t<tr><th scope=row>28</th><td>3 </td><td>Heart  </td></tr>\n",
       "\t<tr><th scope=row>29</th><td>4 </td><td>Heart  </td></tr>\n",
       "\t<tr><th scope=row>30</th><td>5 </td><td>Heart  </td></tr>\n",
       "\t<tr><th scope=row>31</th><td>6 </td><td>Heart  </td></tr>\n",
       "\t<tr><th scope=row>32</th><td>7 </td><td>Heart  </td></tr>\n",
       "\t<tr><th scope=row>33</th><td>8 </td><td>Heart  </td></tr>\n",
       "\t<tr><th scope=row>34</th><td>9 </td><td>Heart  </td></tr>\n",
       "\t<tr><th scope=row>35</th><td>10</td><td>Heart  </td></tr>\n",
       "\t<tr><th scope=row>36</th><td>J </td><td>Heart  </td></tr>\n",
       "\t<tr><th scope=row>37</th><td>Q </td><td>Heart  </td></tr>\n",
       "\t<tr><th scope=row>38</th><td>K </td><td>Heart  </td></tr>\n",
       "\t<tr><th scope=row>39</th><td>A </td><td>Heart  </td></tr>\n",
       "\t<tr><th scope=row>45</th><td>7 </td><td>Spade  </td></tr>\n",
       "\t<tr><th scope=row>46</th><td>8 </td><td>Spade  </td></tr>\n",
       "\t<tr><th scope=row>47</th><td>9 </td><td>Spade  </td></tr>\n",
       "</tbody>\n",
       "</table>\n"
      ],
      "text/latex": [
       "A data.frame: 22 × 2\n",
       "\\begin{tabular}{r|ll}\n",
       "  & rank & suit\\\\\n",
       "  & <fct> & <fct>\\\\\n",
       "\\hline\n",
       "\t6 & 7  & Club   \\\\\n",
       "\t7 & 8  & Club   \\\\\n",
       "\t8 & 9  & Club   \\\\\n",
       "\t19 & 7  & Diamond\\\\\n",
       "\t20 & 8  & Diamond\\\\\n",
       "\t21 & 9  & Diamond\\\\\n",
       "\t27 & 2  & Heart  \\\\\n",
       "\t28 & 3  & Heart  \\\\\n",
       "\t29 & 4  & Heart  \\\\\n",
       "\t30 & 5  & Heart  \\\\\n",
       "\t31 & 6  & Heart  \\\\\n",
       "\t32 & 7  & Heart  \\\\\n",
       "\t33 & 8  & Heart  \\\\\n",
       "\t34 & 9  & Heart  \\\\\n",
       "\t35 & 10 & Heart  \\\\\n",
       "\t36 & J  & Heart  \\\\\n",
       "\t37 & Q  & Heart  \\\\\n",
       "\t38 & K  & Heart  \\\\\n",
       "\t39 & A  & Heart  \\\\\n",
       "\t45 & 7  & Spade  \\\\\n",
       "\t46 & 8  & Spade  \\\\\n",
       "\t47 & 9  & Spade  \\\\\n",
       "\\end{tabular}\n"
      ],
      "text/markdown": [
       "\n",
       "A data.frame: 22 × 2\n",
       "\n",
       "| <!--/--> | rank &lt;fct&gt; | suit &lt;fct&gt; |\n",
       "|---|---|---|\n",
       "| 6 | 7  | Club    |\n",
       "| 7 | 8  | Club    |\n",
       "| 8 | 9  | Club    |\n",
       "| 19 | 7  | Diamond |\n",
       "| 20 | 8  | Diamond |\n",
       "| 21 | 9  | Diamond |\n",
       "| 27 | 2  | Heart   |\n",
       "| 28 | 3  | Heart   |\n",
       "| 29 | 4  | Heart   |\n",
       "| 30 | 5  | Heart   |\n",
       "| 31 | 6  | Heart   |\n",
       "| 32 | 7  | Heart   |\n",
       "| 33 | 8  | Heart   |\n",
       "| 34 | 9  | Heart   |\n",
       "| 35 | 10 | Heart   |\n",
       "| 36 | J  | Heart   |\n",
       "| 37 | Q  | Heart   |\n",
       "| 38 | K  | Heart   |\n",
       "| 39 | A  | Heart   |\n",
       "| 45 | 7  | Spade   |\n",
       "| 46 | 8  | Spade   |\n",
       "| 47 | 9  | Spade   |\n",
       "\n"
      ],
      "text/plain": [
       "   rank suit   \n",
       "6  7    Club   \n",
       "7  8    Club   \n",
       "8  9    Club   \n",
       "19 7    Diamond\n",
       "20 8    Diamond\n",
       "21 9    Diamond\n",
       "27 2    Heart  \n",
       "28 3    Heart  \n",
       "29 4    Heart  \n",
       "30 5    Heart  \n",
       "31 6    Heart  \n",
       "32 7    Heart  \n",
       "33 8    Heart  \n",
       "34 9    Heart  \n",
       "35 10   Heart  \n",
       "36 J    Heart  \n",
       "37 Q    Heart  \n",
       "38 K    Heart  \n",
       "39 A    Heart  \n",
       "45 7    Spade  \n",
       "46 8    Spade  \n",
       "47 9    Spade  "
      ]
     },
     "metadata": {},
     "output_type": "display_data"
    },
    {
     "data": {
      "text/html": [
       "<table>\n",
       "<caption>A data.frame: 3 × 2</caption>\n",
       "<thead>\n",
       "\t<tr><th></th><th scope=col>rank</th><th scope=col>suit</th></tr>\n",
       "\t<tr><th></th><th scope=col>&lt;fct&gt;</th><th scope=col>&lt;fct&gt;</th></tr>\n",
       "</thead>\n",
       "<tbody>\n",
       "\t<tr><th scope=row>32</th><td>7</td><td>Heart</td></tr>\n",
       "\t<tr><th scope=row>33</th><td>8</td><td>Heart</td></tr>\n",
       "\t<tr><th scope=row>34</th><td>9</td><td>Heart</td></tr>\n",
       "</tbody>\n",
       "</table>\n"
      ],
      "text/latex": [
       "A data.frame: 3 × 2\n",
       "\\begin{tabular}{r|ll}\n",
       "  & rank & suit\\\\\n",
       "  & <fct> & <fct>\\\\\n",
       "\\hline\n",
       "\t32 & 7 & Heart\\\\\n",
       "\t33 & 8 & Heart\\\\\n",
       "\t34 & 9 & Heart\\\\\n",
       "\\end{tabular}\n"
      ],
      "text/markdown": [
       "\n",
       "A data.frame: 3 × 2\n",
       "\n",
       "| <!--/--> | rank &lt;fct&gt; | suit &lt;fct&gt; |\n",
       "|---|---|---|\n",
       "| 32 | 7 | Heart |\n",
       "| 33 | 8 | Heart |\n",
       "| 34 | 9 | Heart |\n",
       "\n"
      ],
      "text/plain": [
       "   rank suit \n",
       "32 7    Heart\n",
       "33 8    Heart\n",
       "34 9    Heart"
      ]
     },
     "metadata": {},
     "output_type": "display_data"
    },
    {
     "data": {
      "text/html": [
       "<table>\n",
       "<caption>A data.frame: 10 × 2</caption>\n",
       "<thead>\n",
       "\t<tr><th></th><th scope=col>rank</th><th scope=col>suit</th></tr>\n",
       "\t<tr><th></th><th scope=col>&lt;fct&gt;</th><th scope=col>&lt;fct&gt;</th></tr>\n",
       "</thead>\n",
       "<tbody>\n",
       "\t<tr><th scope=row>27</th><td>2 </td><td>Heart</td></tr>\n",
       "\t<tr><th scope=row>28</th><td>3 </td><td>Heart</td></tr>\n",
       "\t<tr><th scope=row>29</th><td>4 </td><td>Heart</td></tr>\n",
       "\t<tr><th scope=row>30</th><td>5 </td><td>Heart</td></tr>\n",
       "\t<tr><th scope=row>31</th><td>6 </td><td>Heart</td></tr>\n",
       "\t<tr><th scope=row>35</th><td>10</td><td>Heart</td></tr>\n",
       "\t<tr><th scope=row>36</th><td>J </td><td>Heart</td></tr>\n",
       "\t<tr><th scope=row>37</th><td>Q </td><td>Heart</td></tr>\n",
       "\t<tr><th scope=row>38</th><td>K </td><td>Heart</td></tr>\n",
       "\t<tr><th scope=row>39</th><td>A </td><td>Heart</td></tr>\n",
       "</tbody>\n",
       "</table>\n"
      ],
      "text/latex": [
       "A data.frame: 10 × 2\n",
       "\\begin{tabular}{r|ll}\n",
       "  & rank & suit\\\\\n",
       "  & <fct> & <fct>\\\\\n",
       "\\hline\n",
       "\t27 & 2  & Heart\\\\\n",
       "\t28 & 3  & Heart\\\\\n",
       "\t29 & 4  & Heart\\\\\n",
       "\t30 & 5  & Heart\\\\\n",
       "\t31 & 6  & Heart\\\\\n",
       "\t35 & 10 & Heart\\\\\n",
       "\t36 & J  & Heart\\\\\n",
       "\t37 & Q  & Heart\\\\\n",
       "\t38 & K  & Heart\\\\\n",
       "\t39 & A  & Heart\\\\\n",
       "\\end{tabular}\n"
      ],
      "text/markdown": [
       "\n",
       "A data.frame: 10 × 2\n",
       "\n",
       "| <!--/--> | rank &lt;fct&gt; | suit &lt;fct&gt; |\n",
       "|---|---|---|\n",
       "| 27 | 2  | Heart |\n",
       "| 28 | 3  | Heart |\n",
       "| 29 | 4  | Heart |\n",
       "| 30 | 5  | Heart |\n",
       "| 31 | 6  | Heart |\n",
       "| 35 | 10 | Heart |\n",
       "| 36 | J  | Heart |\n",
       "| 37 | Q  | Heart |\n",
       "| 38 | K  | Heart |\n",
       "| 39 | A  | Heart |\n",
       "\n"
      ],
      "text/plain": [
       "   rank suit \n",
       "27 2    Heart\n",
       "28 3    Heart\n",
       "29 4    Heart\n",
       "30 5    Heart\n",
       "31 6    Heart\n",
       "35 10   Heart\n",
       "36 J    Heart\n",
       "37 Q    Heart\n",
       "38 K    Heart\n",
       "39 A    Heart"
      ]
     },
     "metadata": {},
     "output_type": "display_data"
    },
    {
     "data": {
      "text/html": [
       "<table>\n",
       "<caption>A data.frame: 9 × 2</caption>\n",
       "<thead>\n",
       "\t<tr><th></th><th scope=col>rank</th><th scope=col>suit</th></tr>\n",
       "\t<tr><th></th><th scope=col>&lt;fct&gt;</th><th scope=col>&lt;fct&gt;</th></tr>\n",
       "</thead>\n",
       "<tbody>\n",
       "\t<tr><th scope=row>6</th><td>7</td><td>Club   </td></tr>\n",
       "\t<tr><th scope=row>7</th><td>8</td><td>Club   </td></tr>\n",
       "\t<tr><th scope=row>8</th><td>9</td><td>Club   </td></tr>\n",
       "\t<tr><th scope=row>19</th><td>7</td><td>Diamond</td></tr>\n",
       "\t<tr><th scope=row>20</th><td>8</td><td>Diamond</td></tr>\n",
       "\t<tr><th scope=row>21</th><td>9</td><td>Diamond</td></tr>\n",
       "\t<tr><th scope=row>45</th><td>7</td><td>Spade  </td></tr>\n",
       "\t<tr><th scope=row>46</th><td>8</td><td>Spade  </td></tr>\n",
       "\t<tr><th scope=row>47</th><td>9</td><td>Spade  </td></tr>\n",
       "</tbody>\n",
       "</table>\n"
      ],
      "text/latex": [
       "A data.frame: 9 × 2\n",
       "\\begin{tabular}{r|ll}\n",
       "  & rank & suit\\\\\n",
       "  & <fct> & <fct>\\\\\n",
       "\\hline\n",
       "\t6 & 7 & Club   \\\\\n",
       "\t7 & 8 & Club   \\\\\n",
       "\t8 & 9 & Club   \\\\\n",
       "\t19 & 7 & Diamond\\\\\n",
       "\t20 & 8 & Diamond\\\\\n",
       "\t21 & 9 & Diamond\\\\\n",
       "\t45 & 7 & Spade  \\\\\n",
       "\t46 & 8 & Spade  \\\\\n",
       "\t47 & 9 & Spade  \\\\\n",
       "\\end{tabular}\n"
      ],
      "text/markdown": [
       "\n",
       "A data.frame: 9 × 2\n",
       "\n",
       "| <!--/--> | rank &lt;fct&gt; | suit &lt;fct&gt; |\n",
       "|---|---|---|\n",
       "| 6 | 7 | Club    |\n",
       "| 7 | 8 | Club    |\n",
       "| 8 | 9 | Club    |\n",
       "| 19 | 7 | Diamond |\n",
       "| 20 | 8 | Diamond |\n",
       "| 21 | 9 | Diamond |\n",
       "| 45 | 7 | Spade   |\n",
       "| 46 | 8 | Spade   |\n",
       "| 47 | 9 | Spade   |\n",
       "\n"
      ],
      "text/plain": [
       "   rank suit   \n",
       "6  7    Club   \n",
       "7  8    Club   \n",
       "8  9    Club   \n",
       "19 7    Diamond\n",
       "20 8    Diamond\n",
       "21 9    Diamond\n",
       "45 7    Spade  \n",
       "46 8    Spade  \n",
       "47 9    Spade  "
      ]
     },
     "metadata": {},
     "output_type": "display_data"
    },
    {
     "data": {
      "text/html": [
       "<table>\n",
       "<caption>A data.frame: 6 × 2</caption>\n",
       "<thead>\n",
       "\t<tr><th scope=col>X1</th><th scope=col>probs</th></tr>\n",
       "\t<tr><th scope=col>&lt;int&gt;</th><th scope=col>&lt;dbl&gt;</th></tr>\n",
       "</thead>\n",
       "<tbody>\n",
       "\t<tr><td>1</td><td>0.1666667</td></tr>\n",
       "\t<tr><td>2</td><td>0.1666667</td></tr>\n",
       "\t<tr><td>3</td><td>0.1666667</td></tr>\n",
       "\t<tr><td>4</td><td>0.1666667</td></tr>\n",
       "\t<tr><td>5</td><td>0.1666667</td></tr>\n",
       "\t<tr><td>6</td><td>0.1666667</td></tr>\n",
       "</tbody>\n",
       "</table>\n"
      ],
      "text/latex": [
       "A data.frame: 6 × 2\n",
       "\\begin{tabular}{ll}\n",
       " X1 & probs\\\\\n",
       " <int> & <dbl>\\\\\n",
       "\\hline\n",
       "\t 1 & 0.1666667\\\\\n",
       "\t 2 & 0.1666667\\\\\n",
       "\t 3 & 0.1666667\\\\\n",
       "\t 4 & 0.1666667\\\\\n",
       "\t 5 & 0.1666667\\\\\n",
       "\t 6 & 0.1666667\\\\\n",
       "\\end{tabular}\n"
      ],
      "text/markdown": [
       "\n",
       "A data.frame: 6 × 2\n",
       "\n",
       "| X1 &lt;int&gt; | probs &lt;dbl&gt; |\n",
       "|---|---|\n",
       "| 1 | 0.1666667 |\n",
       "| 2 | 0.1666667 |\n",
       "| 3 | 0.1666667 |\n",
       "| 4 | 0.1666667 |\n",
       "| 5 | 0.1666667 |\n",
       "| 6 | 0.1666667 |\n",
       "\n"
      ],
      "text/plain": [
       "  X1 probs    \n",
       "1 1  0.1666667\n",
       "2 2  0.1666667\n",
       "3 3  0.1666667\n",
       "4 4  0.1666667\n",
       "5 5  0.1666667\n",
       "6 6  0.1666667"
      ]
     },
     "metadata": {},
     "output_type": "display_data"
    },
    {
     "data": {
      "text/html": [
       "<table>\n",
       "<caption>A data.frame: 6 × 2</caption>\n",
       "<thead>\n",
       "\t<tr><th scope=col>x</th><th scope=col>probs</th></tr>\n",
       "\t<tr><th scope=col>&lt;int&gt;</th><th scope=col>&lt;dbl&gt;</th></tr>\n",
       "</thead>\n",
       "<tbody>\n",
       "\t<tr><td>1</td><td>0.1666667</td></tr>\n",
       "\t<tr><td>2</td><td>0.1666667</td></tr>\n",
       "\t<tr><td>3</td><td>0.1666667</td></tr>\n",
       "\t<tr><td>4</td><td>0.1666667</td></tr>\n",
       "\t<tr><td>5</td><td>0.1666667</td></tr>\n",
       "\t<tr><td>6</td><td>0.1666667</td></tr>\n",
       "</tbody>\n",
       "</table>\n"
      ],
      "text/latex": [
       "A data.frame: 6 × 2\n",
       "\\begin{tabular}{ll}\n",
       " x & probs\\\\\n",
       " <int> & <dbl>\\\\\n",
       "\\hline\n",
       "\t 1 & 0.1666667\\\\\n",
       "\t 2 & 0.1666667\\\\\n",
       "\t 3 & 0.1666667\\\\\n",
       "\t 4 & 0.1666667\\\\\n",
       "\t 5 & 0.1666667\\\\\n",
       "\t 6 & 0.1666667\\\\\n",
       "\\end{tabular}\n"
      ],
      "text/markdown": [
       "\n",
       "A data.frame: 6 × 2\n",
       "\n",
       "| x &lt;int&gt; | probs &lt;dbl&gt; |\n",
       "|---|---|\n",
       "| 1 | 0.1666667 |\n",
       "| 2 | 0.1666667 |\n",
       "| 3 | 0.1666667 |\n",
       "| 4 | 0.1666667 |\n",
       "| 5 | 0.1666667 |\n",
       "| 6 | 0.1666667 |\n",
       "\n"
      ],
      "text/plain": [
       "  x probs    \n",
       "1 1 0.1666667\n",
       "2 2 0.1666667\n",
       "3 3 0.1666667\n",
       "4 4 0.1666667\n",
       "5 5 0.1666667\n",
       "6 6 0.1666667"
      ]
     },
     "metadata": {},
     "output_type": "display_data"
    },
    {
     "data": {
      "text/html": [
       "<table>\n",
       "<caption>A data.frame: 6 × 2</caption>\n",
       "<thead>\n",
       "\t<tr><th scope=col>x</th><th scope=col>probs</th></tr>\n",
       "\t<tr><th scope=col>&lt;int&gt;</th><th scope=col>&lt;dbl&gt;</th></tr>\n",
       "</thead>\n",
       "<tbody>\n",
       "\t<tr><td>1</td><td>0.1666667</td></tr>\n",
       "\t<tr><td>2</td><td>0.1666667</td></tr>\n",
       "\t<tr><td>3</td><td>0.1666667</td></tr>\n",
       "\t<tr><td>4</td><td>0.1666667</td></tr>\n",
       "\t<tr><td>5</td><td>0.1666667</td></tr>\n",
       "\t<tr><td>6</td><td>0.1666667</td></tr>\n",
       "</tbody>\n",
       "</table>\n"
      ],
      "text/latex": [
       "A data.frame: 6 × 2\n",
       "\\begin{tabular}{ll}\n",
       " x & probs\\\\\n",
       " <int> & <dbl>\\\\\n",
       "\\hline\n",
       "\t 1 & 0.1666667\\\\\n",
       "\t 2 & 0.1666667\\\\\n",
       "\t 3 & 0.1666667\\\\\n",
       "\t 4 & 0.1666667\\\\\n",
       "\t 5 & 0.1666667\\\\\n",
       "\t 6 & 0.1666667\\\\\n",
       "\\end{tabular}\n"
      ],
      "text/markdown": [
       "\n",
       "A data.frame: 6 × 2\n",
       "\n",
       "| x &lt;int&gt; | probs &lt;dbl&gt; |\n",
       "|---|---|\n",
       "| 1 | 0.1666667 |\n",
       "| 2 | 0.1666667 |\n",
       "| 3 | 0.1666667 |\n",
       "| 4 | 0.1666667 |\n",
       "| 5 | 0.1666667 |\n",
       "| 6 | 0.1666667 |\n",
       "\n"
      ],
      "text/plain": [
       "  x probs    \n",
       "1 1 0.1666667\n",
       "2 2 0.1666667\n",
       "3 3 0.1666667\n",
       "4 4 0.1666667\n",
       "5 5 0.1666667\n",
       "6 6 0.1666667"
      ]
     },
     "metadata": {},
     "output_type": "display_data"
    },
    {
     "data": {
      "text/html": [
       "<table>\n",
       "<caption>A data.frame: 6 × 2</caption>\n",
       "<thead>\n",
       "\t<tr><th scope=col>X1</th><th scope=col>probs</th></tr>\n",
       "\t<tr><th scope=col>&lt;int&gt;</th><th scope=col>&lt;dbl&gt;</th></tr>\n",
       "</thead>\n",
       "<tbody>\n",
       "\t<tr><td>1</td><td>0.1666667</td></tr>\n",
       "\t<tr><td>2</td><td>0.1666667</td></tr>\n",
       "\t<tr><td>3</td><td>0.1666667</td></tr>\n",
       "\t<tr><td>4</td><td>0.1666667</td></tr>\n",
       "\t<tr><td>5</td><td>0.1666667</td></tr>\n",
       "\t<tr><td>6</td><td>0.1666667</td></tr>\n",
       "</tbody>\n",
       "</table>\n"
      ],
      "text/latex": [
       "A data.frame: 6 × 2\n",
       "\\begin{tabular}{ll}\n",
       " X1 & probs\\\\\n",
       " <int> & <dbl>\\\\\n",
       "\\hline\n",
       "\t 1 & 0.1666667\\\\\n",
       "\t 2 & 0.1666667\\\\\n",
       "\t 3 & 0.1666667\\\\\n",
       "\t 4 & 0.1666667\\\\\n",
       "\t 5 & 0.1666667\\\\\n",
       "\t 6 & 0.1666667\\\\\n",
       "\\end{tabular}\n"
      ],
      "text/markdown": [
       "\n",
       "A data.frame: 6 × 2\n",
       "\n",
       "| X1 &lt;int&gt; | probs &lt;dbl&gt; |\n",
       "|---|---|\n",
       "| 1 | 0.1666667 |\n",
       "| 2 | 0.1666667 |\n",
       "| 3 | 0.1666667 |\n",
       "| 4 | 0.1666667 |\n",
       "| 5 | 0.1666667 |\n",
       "| 6 | 0.1666667 |\n",
       "\n"
      ],
      "text/plain": [
       "  X1 probs    \n",
       "1 1  0.1666667\n",
       "2 2  0.1666667\n",
       "3 3  0.1666667\n",
       "4 4  0.1666667\n",
       "5 5  0.1666667\n",
       "6 6  0.1666667"
      ]
     },
     "metadata": {},
     "output_type": "display_data"
    },
    {
     "data": {
      "text/html": [
       "<table>\n",
       "<caption>A data.frame: 2 × 2</caption>\n",
       "<thead>\n",
       "\t<tr><th scope=col>toss1</th><th scope=col>probs</th></tr>\n",
       "\t<tr><th scope=col>&lt;fct&gt;</th><th scope=col>&lt;dbl&gt;</th></tr>\n",
       "</thead>\n",
       "<tbody>\n",
       "\t<tr><td>H</td><td>0.7</td></tr>\n",
       "\t<tr><td>T</td><td>0.3</td></tr>\n",
       "</tbody>\n",
       "</table>\n"
      ],
      "text/latex": [
       "A data.frame: 2 × 2\n",
       "\\begin{tabular}{ll}\n",
       " toss1 & probs\\\\\n",
       " <fct> & <dbl>\\\\\n",
       "\\hline\n",
       "\t H & 0.7\\\\\n",
       "\t T & 0.3\\\\\n",
       "\\end{tabular}\n"
      ],
      "text/markdown": [
       "\n",
       "A data.frame: 2 × 2\n",
       "\n",
       "| toss1 &lt;fct&gt; | probs &lt;dbl&gt; |\n",
       "|---|---|\n",
       "| H | 0.7 |\n",
       "| T | 0.3 |\n",
       "\n"
      ],
      "text/plain": [
       "  toss1 probs\n",
       "1 H     0.7  \n",
       "2 T     0.3  "
      ]
     },
     "metadata": {},
     "output_type": "display_data"
    },
    {
     "data": {
      "text/html": [
       "0.25"
      ],
      "text/latex": [
       "0.25"
      ],
      "text/markdown": [
       "0.25"
      ],
      "text/plain": [
       "[1] 0.25"
      ]
     },
     "metadata": {},
     "output_type": "display_data"
    },
    {
     "data": {
      "text/html": [
       "0.25"
      ],
      "text/latex": [
       "0.25"
      ],
      "text/markdown": [
       "0.25"
      ],
      "text/plain": [
       "[1] 0.25"
      ]
     },
     "metadata": {},
     "output_type": "display_data"
    },
    {
     "data": {
      "text/html": [
       "9"
      ],
      "text/latex": [
       "9"
      ],
      "text/markdown": [
       "9"
      ],
      "text/plain": [
       "[1] 9"
      ]
     },
     "metadata": {},
     "output_type": "display_data"
    },
    {
     "data": {
      "text/html": [
       "6"
      ],
      "text/latex": [
       "6"
      ],
      "text/markdown": [
       "6"
      ],
      "text/plain": [
       "[1] 6"
      ]
     },
     "metadata": {},
     "output_type": "display_data"
    },
    {
     "data": {
      "text/html": [
       "3"
      ],
      "text/latex": [
       "3"
      ],
      "text/markdown": [
       "3"
      ],
      "text/plain": [
       "[1] 3"
      ]
     },
     "metadata": {},
     "output_type": "display_data"
    },
    {
     "data": {
      "text/html": [
       "6"
      ],
      "text/latex": [
       "6"
      ],
      "text/markdown": [
       "6"
      ],
      "text/plain": [
       "[1] 6"
      ]
     },
     "metadata": {},
     "output_type": "display_data"
    },
    {
     "data": {
      "text/html": [
       "24774195600"
      ],
      "text/latex": [
       "24774195600"
      ],
      "text/markdown": [
       "24774195600"
      ],
      "text/plain": [
       "[1] 24774195600"
      ]
     },
     "metadata": {},
     "output_type": "display_data"
    },
    {
     "data": {
      "text/html": [
       "24774195600"
      ],
      "text/latex": [
       "24774195600"
      ],
      "text/markdown": [
       "24774195600"
      ],
      "text/plain": [
       "[1] 24774195600"
      ]
     },
     "metadata": {},
     "output_type": "display_data"
    },
    {
     "data": {
      "text/html": [
       "24774195600"
      ],
      "text/latex": [
       "24774195600"
      ],
      "text/markdown": [
       "24774195600"
      ],
      "text/plain": [
       "[1] 24774195600"
      ]
     },
     "metadata": {},
     "output_type": "display_data"
    },
    {
     "data": {
      "text/html": [
       "24774195600"
      ],
      "text/latex": [
       "24774195600"
      ],
      "text/markdown": [
       "24774195600"
      ],
      "text/plain": [
       "[1] 24774195600"
      ]
     },
     "metadata": {},
     "output_type": "display_data"
    },
    {
     "data": {
      "text/html": [
       "<strong>null device:</strong> 1"
      ],
      "text/latex": [
       "\\textbf{null device:} 1"
      ],
      "text/markdown": [
       "**null device:** 1"
      ],
      "text/plain": [
       "null device \n",
       "          1 "
      ]
     },
     "metadata": {},
     "output_type": "display_data"
    },
    {
     "ename": "ERROR",
     "evalue": "Error in ggplot(rbind(B, C), aes(x = X1, y = X2, label = lab)): could not find function \"ggplot\"\n",
     "output_type": "error",
     "traceback": [
      "Error in ggplot(rbind(B, C), aes(x = X1, y = X2, label = lab)): could not find function \"ggplot\"\nTraceback:\n"
     ]
    },
    {
     "data": {
      "image/png": "[encoded data removed]",
      "text/plain": [
       "plot without title"
      ]
     },
     "metadata": {
      "image/png": {
       "height": 420,
       "width": 420
      }
     },
     "output_type": "display_data"
    }
   ],
   "source": [
    "# This chapter's package dependencies\n",
    "library(diagram)\n",
    "library(prob)\n",
    "library(RcmdrPlugin.IPSUR)\n",
    "\n",
    "par(mex = 0.2, cex = 0.5)\n",
    "openplotmat(frame.plot=TRUE)\n",
    "straightarrow(from = c(0.46,0.74), to = c(0.53,0.71), arr.pos = 1)\n",
    "straightarrow(from = c(0.3,0.65), to = c(0.3,0.51), arr.pos = 1)\n",
    "textellipse(mid = c(0.74,0.55), box.col = grey(0.95), \n",
    "  radx = 0.24, rady = 0.22, \n",
    "  lab = c(expression(bold(underline(DETERMINISTIC))), \n",
    "          expression(2*H[2]+O[2] %->% H[2]*O), \"3 + 4 = 7\"), cex = 2 )\n",
    "textrect(mid = c(0.3, 0.75), radx = 0.15, rady = 0.1, \n",
    "  lab = c(expression(bold(Experiments))), cex = 2 )\n",
    "textellipse(mid = c(0.29,0.25), box.col = grey(0.95), \n",
    "  radx = 0.27, rady = 0.22, lab = c(expression(bold(underline(RANDOM))), \n",
    "  \"toss coin, roll die\", \"count ants on sidewalk\", \"measure rainfall\" ), \n",
    "  cex = 2 )\n",
    "dev.off()\n",
    "\n",
    "S <- data.frame(lands = c(\"down\",\"up\",\"side\"))\n",
    "S\n",
    "\n",
    "tosscoin(1)\n",
    "\n",
    "tosscoin(3)\n",
    "\n",
    "rolldie(1)\n",
    "\n",
    "head(cards())\n",
    "\n",
    "urnsamples(1:3, size = 2, replace = TRUE, ordered = TRUE)\n",
    "\n",
    "urnsamples(1:3, size = 2, replace = FALSE, ordered = TRUE)\n",
    "\n",
    "urnsamples(1:3, size = 2, replace = FALSE, ordered = FALSE)\n",
    "\n",
    "urnsamples(1:3, size = 2, replace = TRUE, ordered = FALSE)\n",
    "\n",
    "S <- tosscoin(2, makespace = TRUE) \n",
    "S[1:3, ]\n",
    "\n",
    "S[c(2,4), ]\n",
    "\n",
    "S <- cards()\n",
    "\n",
    "subset(S, suit == \"Heart\")\n",
    "\n",
    "subset(S, rank %in% 7:9)\n",
    "\n",
    "subset(rolldie(3), X1+X2+X3 > 16)\n",
    "\n",
    "x <- 1:10 \n",
    "y <- 8:12 \n",
    "y %in% x\n",
    "\n",
    "isin(x,y)\n",
    "\n",
    "x <- 1:10 \n",
    "y <- c(3,3,7)\n",
    "\n",
    "all(y %in% x)\n",
    "isin(x,y)\n",
    "\n",
    "isin(x, c(3,4,5), ordered = TRUE) \n",
    "isin(x, c(3,5,4), ordered = TRUE)\n",
    "\n",
    "S <- rolldie(4) \n",
    "subset(S, isin(S, c(2,2,6), ordered = TRUE))\n",
    "\n",
    "S <- cards() \n",
    "A <- subset(S, suit == \"Heart\") \n",
    "B <- subset(S, rank %in% 7:9)\n",
    "\n",
    "union(A,B)\n",
    "\n",
    "intersect(A,B)\n",
    "\n",
    "setdiff(A,B)\n",
    "\n",
    "setdiff(B,A)\n",
    "\n",
    "outcomes <- rolldie(1) \n",
    "p <- rep(1/6, times = 6) \n",
    "probspace(outcomes, probs = p)\n",
    "\n",
    "probspace(1:6, probs = p)\n",
    "\n",
    "probspace(1:6)\n",
    "\n",
    "rolldie(1, makespace = TRUE)\n",
    "\n",
    "probspace(tosscoin(1), probs = c(0.70, 0.30))\n",
    "\n",
    "S <- cards(makespace = TRUE) \n",
    "A <- subset(S, suit == \"Heart\") \n",
    "B <- subset(S, rank %in% 7:9)\n",
    "\n",
    "Prob(A)\n",
    "\n",
    "Prob(S, suit == \"Heart\")\n",
    "\n",
    "nsamp(n=3, k=2, replace = TRUE, ordered = TRUE) \n",
    "nsamp(n=3, k=2, replace = FALSE, ordered = TRUE) \n",
    "nsamp(n=3, k=2, replace = FALSE, ordered = FALSE) \n",
    "nsamp(n=3, k=2, replace = TRUE, ordered = FALSE)\n",
    "\n",
    "n <- c(11,7,31) \n",
    "k <- c(3,4,3) \n",
    "r <- c(FALSE,FALSE,TRUE)\n",
    "\n",
    "x <- nsamp(n, k, rep = r, ord = TRUE)\n",
    "\n",
    "prod(x)\n",
    "\n",
    "(11*10*9)*(7*6*5*4)*31^3\n",
    "\n",
    "prod(9:11)*prod(4:7)*31^3\n",
    "\n",
    "prod(factorial(c(11,7))/factorial(c(8,3)))*31^3\n",
    "\n",
    "g <- Vectorize(pbirthday.ipsur)\n",
    "plot(1:50, g(1:50), xlab = \"Number of people in room\", ylab = \"Prob(at least one match)\")\n",
    "remove(g)\n",
    "dev.off()\n",
    "\n",
    "library(RcmdrPlugin.IPSUR)\n",
    "g <- Vectorize(pbirthday.ipsur)\n",
    "plot(1:50, g(1:50), xlab = \"Number of people in room\", \n",
    "  ylab = \"Prob(at least one match)\" )\n",
    "abline(h = 0.5)\n",
    "abline(v = 23, lty = 2)\n",
    "remove(g)\n",
    "\n",
    "A <- rolldie(2)\n",
    "B <- subset(A, X1==X2)\n",
    "C <- subset(A, X1+X2 > 7)\n",
    "B$lab <- rep(\"X\", dim(B)[1])\n",
    "C$lab <- rep(\"O\", dim(C)[1])\n",
    "p <- ggplot(rbind(B, C), aes(x=X1, y=X2, label=lab))\n",
    "p + geom_text(size = 15) + xlab(\"First roll\") + ylab(\"Second roll\")\n",
    "dev.off()\n",
    "\n",
    "S <- rolldie(2, makespace = TRUE)  # assumes ELM\n",
    "head(S)                            #  first few rows\n",
    "\n",
    "A <- subset(S, X1 == X2)\n",
    "B <- subset(S, X1 + X2 >= 8)\n",
    "\n",
    "Prob(A, given = B)\n",
    "Prob(B, given = A)\n",
    "\n",
    "Prob(S, X1==X2, given = (X1 + X2 >= 8) )\n",
    "Prob(S, X1+X2 >= 8, given = (X1==X2) )\n",
    "\n",
    "L <- cards()\n",
    "M <- urnsamples(L, size = 2)\n",
    "N <- probspace(M)\n",
    "N[[1]][[1]];  N$probs[1]\n",
    "\n",
    "Prob(N, all(rank == \"A\"))\n",
    "\n",
    "L <- rep(c(\"red\",\"green\"), times = c(7,3))\n",
    "M <- urnsamples(L, size = 3, replace = FALSE, ordered = TRUE)\n",
    "N <- probspace(M)\n",
    "\n",
    "Prob(N, isrep(N, \"red\", 3))\n",
    "\n",
    "Prob(N, isrep(N, \"red\", 2))\n",
    "\n",
    "Prob(N, isin(N, c(\"red\",\"green\",\"red\"), ordered = TRUE))\n",
    "\n",
    "Prob(N, isin(N, c(\"red\",\"green\",\"red\")))\n",
    "\n",
    "library(RcmdrPlugin.IPSUR)\n",
    "data(RcmdrTestDrive)  \n",
    ".Table <- xtabs( ~ smoking + gender, data = RcmdrTestDrive)\n",
    "addmargins(.Table) # Table with marginal distributions\n",
    "\n",
    "S <- tosscoin(10, makespace = TRUE)\n",
    "A <- subset(S, isrep(S, vals = \"T\", nrep = 10))\n",
    "1 - Prob(A)\n",
    "\n",
    "iidspace(c(\"H\",\"T\"), ntrials = 3, probs = c(0.7, 0.3))\n",
    "\n",
    "prior <- c(0.6, 0.3, 0.1)\n",
    "like <- c(0.003, 0.007, 0.010)\n",
    "post <- prior * like\n",
    "post / sum(post)\n",
    "\n",
    "newprior <- post\n",
    "post <- newprior * like^7\n",
    "post / sum(post)\n",
    "\n",
    "fastpost <- prior * like^8\n",
    "fastpost / sum(fastpost)\n",
    "\n",
    "S <- rolldie(3, nsides = 4, makespace = TRUE) \n",
    "S <- addrv(S, U = X1-X2+X3)\n",
    "\n",
    "head(S)\n",
    "\n",
    "Prob(S, U > 6)\n",
    "\n",
    "S <- addrv(S, FUN = max, invars = c(\"X1\",\"X2\",\"X3\"), name = \"V\") \n",
    "S <- addrv(S, FUN = sum, invars = c(\"X1\",\"X2\",\"X3\"), name = \"W\") \n",
    "head(S)\n",
    "\n",
    "marginal(S, vars = \"V\")\n",
    "\n",
    "marginal(S, vars = c(\"V\", \"W\"))"
   ]
  },
  {
   "cell_type": "markdown",
   "metadata": {},
   "source": [
    "\\begin{example}\n",
    "Toss a fair coin once and report if it lands head or tails.\n",
    "In this case what is the _experiment_, the _sample space_, and probability function.\n",
    "\n",
    "\\end{example}\n"
   ]
  },
  {
   "cell_type": "code",
   "execution_count": 18,
   "metadata": {},
   "outputs": [
    {
     "data": {
      "text/html": [
       "<table>\n",
       "<caption>A data.frame: 2 × 2</caption>\n",
       "<thead>\n",
       "\t<tr><th scope=col>toss1</th><th scope=col>probs</th></tr>\n",
       "\t<tr><th scope=col>&lt;fct&gt;</th><th scope=col>&lt;dbl&gt;</th></tr>\n",
       "</thead>\n",
       "<tbody>\n",
       "\t<tr><td>H</td><td>0.5</td></tr>\n",
       "\t<tr><td>T</td><td>0.5</td></tr>\n",
       "</tbody>\n",
       "</table>\n"
      ],
      "text/latex": [
       "A data.frame: 2 × 2\n",
       "\\begin{tabular}{ll}\n",
       " toss1 & probs\\\\\n",
       " <fct> & <dbl>\\\\\n",
       "\\hline\n",
       "\t H & 0.5\\\\\n",
       "\t T & 0.5\\\\\n",
       "\\end{tabular}\n"
      ],
      "text/markdown": [
       "\n",
       "A data.frame: 2 × 2\n",
       "\n",
       "| toss1 &lt;fct&gt; | probs &lt;dbl&gt; |\n",
       "|---|---|\n",
       "| H | 0.5 |\n",
       "| T | 0.5 |\n",
       "\n"
      ],
      "text/plain": [
       "  toss1 probs\n",
       "1 H     0.5  \n",
       "2 T     0.5  "
      ]
     },
     "metadata": {},
     "output_type": "display_data"
    }
   ],
   "source": [
    "outcomes <- tosscoin(1)\n",
    "p <- rep(1/2, times =2)\n",
    "probspace(outcomes, robs = p)"
   ]
  },
  {
   "cell_type": "markdown",
   "metadata": {},
   "source": [
    "\\begin{exercise}\n",
    "Experiment: toss a fair 3 times and list the outcomes\n",
    "Define the sample space\n",
    "Create a probability function. Fill the code in the following cell to produce the indicating output.\n",
    "\\end{exercise}\n"
   ]
  },
  {
   "cell_type": "markdown",
   "metadata": {
    "ExecuteTime": {
     "end_time": "2020-10-06T08:36:28.912235Z",
     "start_time": "2020-10-06T08:36:28.899Z"
    }
   },
   "source": [
    "### Exercise 1"
   ]
  },
  {
   "cell_type": "markdown",
   "metadata": {},
   "source": [
    "#### Toss a fair 3 times and list the outcomes"
   ]
  },
  {
   "cell_type": "code",
   "execution_count": 22,
   "metadata": {
    "ExecuteTime": {
     "end_time": "2020-10-06T08:38:04.735580Z",
     "start_time": "2020-10-06T08:38:04.716Z"
    }
   },
   "outputs": [
    {
     "data": {
      "text/html": [
       "<table>\n",
       "<caption>A data.frame: 8 × 3</caption>\n",
       "<thead>\n",
       "\t<tr><th scope=col>toss1</th><th scope=col>toss2</th><th scope=col>toss3</th></tr>\n",
       "\t<tr><th scope=col>&lt;fct&gt;</th><th scope=col>&lt;fct&gt;</th><th scope=col>&lt;fct&gt;</th></tr>\n",
       "</thead>\n",
       "<tbody>\n",
       "\t<tr><td>H</td><td>H</td><td>H</td></tr>\n",
       "\t<tr><td>T</td><td>H</td><td>H</td></tr>\n",
       "\t<tr><td>H</td><td>T</td><td>H</td></tr>\n",
       "\t<tr><td>T</td><td>T</td><td>H</td></tr>\n",
       "\t<tr><td>H</td><td>H</td><td>T</td></tr>\n",
       "\t<tr><td>T</td><td>H</td><td>T</td></tr>\n",
       "\t<tr><td>H</td><td>T</td><td>T</td></tr>\n",
       "\t<tr><td>T</td><td>T</td><td>T</td></tr>\n",
       "</tbody>\n",
       "</table>\n"
      ],
      "text/latex": [
       "A data.frame: 8 × 3\n",
       "\\begin{tabular}{lll}\n",
       " toss1 & toss2 & toss3\\\\\n",
       " <fct> & <fct> & <fct>\\\\\n",
       "\\hline\n",
       "\t H & H & H\\\\\n",
       "\t T & H & H\\\\\n",
       "\t H & T & H\\\\\n",
       "\t T & T & H\\\\\n",
       "\t H & H & T\\\\\n",
       "\t T & H & T\\\\\n",
       "\t H & T & T\\\\\n",
       "\t T & T & T\\\\\n",
       "\\end{tabular}\n"
      ],
      "text/markdown": [
       "\n",
       "A data.frame: 8 × 3\n",
       "\n",
       "| toss1 &lt;fct&gt; | toss2 &lt;fct&gt; | toss3 &lt;fct&gt; |\n",
       "|---|---|---|\n",
       "| H | H | H |\n",
       "| T | H | H |\n",
       "| H | T | H |\n",
       "| T | T | H |\n",
       "| H | H | T |\n",
       "| T | H | T |\n",
       "| H | T | T |\n",
       "| T | T | T |\n",
       "\n"
      ],
      "text/plain": [
       "  toss1 toss2 toss3\n",
       "1 H     H     H    \n",
       "2 T     H     H    \n",
       "3 H     T     H    \n",
       "4 T     T     H    \n",
       "5 H     H     T    \n",
       "6 T     H     T    \n",
       "7 H     T     T    \n",
       "8 T     T     T    "
      ]
     },
     "metadata": {},
     "output_type": "display_data"
    }
   ],
   "source": [
    "outcomes <- tosscoin(3) # toss a fair coin 3 times \n",
    "outcomes"
   ]
  },
  {
   "cell_type": "markdown",
   "metadata": {},
   "source": [
    "#### Define the sample space"
   ]
  },
  {
   "cell_type": "code",
   "execution_count": 23,
   "metadata": {
    "ExecuteTime": {
     "end_time": "2020-10-06T09:09:40.439756Z",
     "start_time": "2020-10-06T09:09:40.422Z"
    }
   },
   "outputs": [
    {
     "data": {
      "text/html": [
       "<table>\n",
       "<caption>A data.frame: 8 × 4</caption>\n",
       "<thead>\n",
       "\t<tr><th scope=col>toss1</th><th scope=col>toss2</th><th scope=col>toss3</th><th scope=col>probs</th></tr>\n",
       "\t<tr><th scope=col>&lt;fct&gt;</th><th scope=col>&lt;fct&gt;</th><th scope=col>&lt;fct&gt;</th><th scope=col>&lt;dbl&gt;</th></tr>\n",
       "</thead>\n",
       "<tbody>\n",
       "\t<tr><td>H</td><td>H</td><td>H</td><td>0.125</td></tr>\n",
       "\t<tr><td>T</td><td>H</td><td>H</td><td>0.125</td></tr>\n",
       "\t<tr><td>H</td><td>T</td><td>H</td><td>0.125</td></tr>\n",
       "\t<tr><td>T</td><td>T</td><td>H</td><td>0.125</td></tr>\n",
       "\t<tr><td>H</td><td>H</td><td>T</td><td>0.125</td></tr>\n",
       "\t<tr><td>T</td><td>H</td><td>T</td><td>0.125</td></tr>\n",
       "\t<tr><td>H</td><td>T</td><td>T</td><td>0.125</td></tr>\n",
       "\t<tr><td>T</td><td>T</td><td>T</td><td>0.125</td></tr>\n",
       "</tbody>\n",
       "</table>\n"
      ],
      "text/latex": [
       "A data.frame: 8 × 4\n",
       "\\begin{tabular}{llll}\n",
       " toss1 & toss2 & toss3 & probs\\\\\n",
       " <fct> & <fct> & <fct> & <dbl>\\\\\n",
       "\\hline\n",
       "\t H & H & H & 0.125\\\\\n",
       "\t T & H & H & 0.125\\\\\n",
       "\t H & T & H & 0.125\\\\\n",
       "\t T & T & H & 0.125\\\\\n",
       "\t H & H & T & 0.125\\\\\n",
       "\t T & H & T & 0.125\\\\\n",
       "\t H & T & T & 0.125\\\\\n",
       "\t T & T & T & 0.125\\\\\n",
       "\\end{tabular}\n"
      ],
      "text/markdown": [
       "\n",
       "A data.frame: 8 × 4\n",
       "\n",
       "| toss1 &lt;fct&gt; | toss2 &lt;fct&gt; | toss3 &lt;fct&gt; | probs &lt;dbl&gt; |\n",
       "|---|---|---|---|\n",
       "| H | H | H | 0.125 |\n",
       "| T | H | H | 0.125 |\n",
       "| H | T | H | 0.125 |\n",
       "| T | T | H | 0.125 |\n",
       "| H | H | T | 0.125 |\n",
       "| T | H | T | 0.125 |\n",
       "| H | T | T | 0.125 |\n",
       "| T | T | T | 0.125 |\n",
       "\n"
      ],
      "text/plain": [
       "  toss1 toss2 toss3 probs\n",
       "1 H     H     H     0.125\n",
       "2 T     H     H     0.125\n",
       "3 H     T     H     0.125\n",
       "4 T     T     H     0.125\n",
       "5 H     H     T     0.125\n",
       "6 T     H     T     0.125\n",
       "7 H     T     T     0.125\n",
       "8 T     T     T     0.125"
      ]
     },
     "metadata": {},
     "output_type": "display_data"
    }
   ],
   "source": [
    "S <- tosscoin(3, makespace = TRUE) \n",
    "S"
   ]
  },
  {
   "cell_type": "markdown",
   "metadata": {},
   "source": [
    "#### Create a probability function. Fill the code in the following cell to produce the indicating output."
   ]
  },
  {
   "cell_type": "code",
   "execution_count": 24,
   "metadata": {
    "ExecuteTime": {
     "end_time": "2020-10-06T09:09:42.690776Z",
     "start_time": "2020-10-06T09:09:42.670Z"
    }
   },
   "outputs": [
    {
     "data": {
      "text/html": [
       "<table>\n",
       "<caption>A data.frame: 8 × 4</caption>\n",
       "<thead>\n",
       "\t<tr><th scope=col>toss1</th><th scope=col>toss2</th><th scope=col>toss3</th><th scope=col>probs</th></tr>\n",
       "\t<tr><th scope=col>&lt;fct&gt;</th><th scope=col>&lt;fct&gt;</th><th scope=col>&lt;fct&gt;</th><th scope=col>&lt;dbl&gt;</th></tr>\n",
       "</thead>\n",
       "<tbody>\n",
       "\t<tr><td>H</td><td>H</td><td>H</td><td>0.125</td></tr>\n",
       "\t<tr><td>T</td><td>H</td><td>H</td><td>0.125</td></tr>\n",
       "\t<tr><td>H</td><td>T</td><td>H</td><td>0.125</td></tr>\n",
       "\t<tr><td>T</td><td>T</td><td>H</td><td>0.125</td></tr>\n",
       "\t<tr><td>H</td><td>H</td><td>T</td><td>0.125</td></tr>\n",
       "\t<tr><td>T</td><td>H</td><td>T</td><td>0.125</td></tr>\n",
       "\t<tr><td>H</td><td>T</td><td>T</td><td>0.125</td></tr>\n",
       "\t<tr><td>T</td><td>T</td><td>T</td><td>0.125</td></tr>\n",
       "</tbody>\n",
       "</table>\n"
      ],
      "text/latex": [
       "A data.frame: 8 × 4\n",
       "\\begin{tabular}{llll}\n",
       " toss1 & toss2 & toss3 & probs\\\\\n",
       " <fct> & <fct> & <fct> & <dbl>\\\\\n",
       "\\hline\n",
       "\t H & H & H & 0.125\\\\\n",
       "\t T & H & H & 0.125\\\\\n",
       "\t H & T & H & 0.125\\\\\n",
       "\t T & T & H & 0.125\\\\\n",
       "\t H & H & T & 0.125\\\\\n",
       "\t T & H & T & 0.125\\\\\n",
       "\t H & T & T & 0.125\\\\\n",
       "\t T & T & T & 0.125\\\\\n",
       "\\end{tabular}\n"
      ],
      "text/markdown": [
       "\n",
       "A data.frame: 8 × 4\n",
       "\n",
       "| toss1 &lt;fct&gt; | toss2 &lt;fct&gt; | toss3 &lt;fct&gt; | probs &lt;dbl&gt; |\n",
       "|---|---|---|---|\n",
       "| H | H | H | 0.125 |\n",
       "| T | H | H | 0.125 |\n",
       "| H | T | H | 0.125 |\n",
       "| T | T | H | 0.125 |\n",
       "| H | H | T | 0.125 |\n",
       "| T | H | T | 0.125 |\n",
       "| H | T | T | 0.125 |\n",
       "| T | T | T | 0.125 |\n",
       "\n"
      ],
      "text/plain": [
       "  toss1 toss2 toss3 probs\n",
       "1 H     H     H     0.125\n",
       "2 T     H     H     0.125\n",
       "3 H     T     H     0.125\n",
       "4 T     T     H     0.125\n",
       "5 H     H     T     0.125\n",
       "6 T     H     T     0.125\n",
       "7 H     T     T     0.125\n",
       "8 T     T     T     0.125"
      ]
     },
     "metadata": {},
     "output_type": "display_data"
    }
   ],
   "source": [
    "p <- rep(1/2, times =2)\n",
    "probspace(outcomes, robs = p)"
   ]
  },
  {
   "cell_type": "markdown",
   "metadata": {},
   "source": [
    "### Taxis (An infinite discrete sample space) \n",
    "\n",
    "**Experiment**: count the number of taxis that pass 77 Dimitriados Ave during an 18.05 class. \n",
    "\n",
    "**Sample space**: $\\Omega=\\{0,1,2,3,4, \\ldots\\}$\n",
    "\n",
    "**Probability function**\n",
    "This is often modeled with the following probability function known as the Poisson distribution:\n",
    "$$\n",
    "P(k)=\\mathrm{e}^{-\\lambda} \\frac{\\lambda^{k}}{k !}\n",
    "$$\n",
    "where $\\lambda$ is the average number of taxis. We can put this in a table:\n",
    "\\begin{array}{l|cccccc}\n",
    "\\text { Outcome } & 0 & 1 & 2 & 3 & \\ldots & \\mathrm{k} & \\cdots \\\\\n",
    "\\hline \\text { Probability } & \\mathrm{e}^{-\\lambda} & \\mathrm{e}^{-\\lambda} \\lambda & \\mathrm{e}^{-\\lambda} \\lambda^{2} / 2 & \\mathrm{e}^{-\\lambda} \\lambda^{3} / 3 ! & \\ldots & \\mathrm{e}^{-\\lambda} \\lambda^{k} / \\mathrm{k} ! & \\ldots\n",
    "\\end{array}\n",
    "\n",
    "\\begin{exercise}\n",
    "Accepting that this is a valid probability function, what is $\\sum_{k=0}^{\\infty} \\mathrm{e}^{-\\lambda} \\frac{\\lambda^{k}}{k !}$ ?\n",
    "\n",
    "\\end{exercise}\n"
   ]
  },
  {
   "cell_type": "markdown",
   "metadata": {},
   "source": [
    "### Exercise 2"
   ]
  },
  {
   "cell_type": "markdown",
   "metadata": {
    "ExecuteTime": {
     "end_time": "2020-10-06T08:39:37.844908Z",
     "start_time": "2020-10-06T08:39:37.831Z"
    }
   },
   "source": [
    "The above equation ( $\\sum_{k=0}^{\\infty} \\mathrm{e}^{-\\lambda} \\frac{\\lambda^{k}}{k !}$ ) describes the cumulative poison distribution function (CDF). The CDF is discontinuous at the integers of k and flat everywhere else because a variable that is Poisson distributed takes on only integer values.\n",
    "\n",
    "<img src=\"./poison_cdf.png\"/>\n",
    "\n",
    "The horizontal axis is the index k, the number of occurrences."
   ]
  },
  {
   "cell_type": "markdown",
   "metadata": {},
   "source": [
    "### Two dice (Choice of sample space) \n",
    "\n",
    "Suppose you roll one die. Then the sample space and probability function are\n",
    "\n",
    "\\begin{array}{l|cccccc}\n",
    "\\text { Outcome } & 1 & 2 & 3 & 4 & 5 & 6 \\\\\n",
    "\\hline \\text { Probability: } & 1 / 6 & 1 / 6 & 1 / 6 & 1 / 6 & 1 / 6 & 1 / 6\n",
    "\\end{array}\n",
    "\n",
    "Now suppose you roll two dice. What should be the sample space? Here are two options.\n",
    "1. Record the pair of numbers showing on the dice (first die, second die).\n",
    "2. Record the sum of the numbers on the dice. In this case there are 11 outcomes $\\{2,3,4,5,6,7,8,9,10,11,12\\} .$ These outcomes are not all equally likely.\n",
    "\n",
    "\\begin{exercise}\n",
    "Create probability functions for the two options above\n",
    "\\end{exercise}\n",
    "\n",
    "\n",
    "\n"
   ]
  },
  {
   "cell_type": "markdown",
   "metadata": {},
   "source": [
    "### Exercise 3"
   ]
  },
  {
   "cell_type": "markdown",
   "metadata": {},
   "source": [
    "#### Option 1 :  Record the pair of numbers showing on the dice "
   ]
  },
  {
   "cell_type": "markdown",
   "metadata": {},
   "source": [
    "|      | 1    |2     | 3    | 4    | 5    |  6   |  \n",
    "|------|------|------|------|------|------|------|\n",
    "|   1  | 1/36 | 1/36 |1/36  |1/36  | 1/36 |1/36  |\n",
    "|   2  | 1/36|1/36 |1/36 |1/36 | 1/36|1/36|\n",
    "|   3  | 1/36|1/36 |1/36 |1/36 | 1/36|1/36|\n",
    "|   4  | 1/36|1/36 |1/36 |1/36 | 1/36|1/36|\n",
    "|   5  | 1/36|1/36 |1/36 |1/36 | 1/36|1/36|\n",
    "|   6  | 1/36|1/36 |1/36 |1/36 | 1/36|1/36|"
   ]
  },
  {
   "cell_type": "markdown",
   "metadata": {},
   "source": [
    "#### Option 2 :  Record the sum of the numbers on the dice"
   ]
  },
  {
   "cell_type": "markdown",
   "metadata": {},
   "source": [
    "|      | 1    |2     | 3    | 4    | 5    |  6   |  \n",
    "|------|------|------|------|------|------|------|\n",
    "|   1  | 2 | 3 |4  |5  | 6 |7  |\n",
    "|   2  | 3|4 |5 |6 | 7|8|\n",
    "|   3  | 4|5 |6 |7 | 8|9|\n",
    "|   4  | 5|6 |7 |8 | 9|10|\n",
    "|   5  | 6|7 |8 |8 | 10|11|\n",
    "|   6  | 7|8 |9 |10 |11|12|"
   ]
  },
  {
   "cell_type": "markdown",
   "metadata": {},
   "source": [
    "|outcome | 2 | 3 | 4 | 5 | 6 | 7 | 8 | 9 | 10 | 11 | 12\n",
    "|------|------|------|------|------|------|------|------|------|------|------|------|\n",
    "|probability | 1/36 | 2/36 | 3/36 | 4/36 | 5/36 | 6/36 | 5/36 | 4/36 | 3/36 | 2/36 | 1/36"
   ]
  },
  {
   "cell_type": "markdown",
   "metadata": {},
   "source": [
    "## The probability function\n",
    "So far we've been using a casual definition of the probability function. Let's give a more precise one.\n",
    "\n",
    "**Careful definition of the probability function** \n",
    "\n",
    "For a **discrete** sample space $S$ a probability function $P$ assigns to each outcome $\\omega$ a number $P(\\omega)$ called the probability of $\\omega$. $P$ must satisfy two rules:\n",
    "\n",
    "- Rule $1.0 \\leq P(\\omega) \\leq 1$ (probabilities are between 0 and 1).\n",
    "\n",
    "- Rule 2. The sum of the probabilities of all possible outcomes is 1 \n",
    "\n",
    "In symbols Rule 2 says: if $S=\\left\\{\\omega_{1}, \\omega_{2}, \\ldots, \\omega_{n}\\right\\}$ then $P\\left(\\omega_{1}\\right)+P\\left(\\omega_{2}\\right)+\\ldots+P\\left(\\omega_{n}\\right)=1 .$ Or,\n",
    "using summation notation: $\\sum_{j=1}^{n} P\\left(\\omega_{j}\\right)=1$.\n",
    "\n",
    "The probability of an event $E$ is the sum of the probabilities of all the outcomes in $E .$ That is,\n",
    "$$\n",
    "P(E)=\\sum_{\\omega \\in E} P(\\omega)\n",
    "$$"
   ]
  },
  {
   "cell_type": "markdown",
   "metadata": {},
   "source": [
    "### Flip until heads (A classic example)\n",
    "\n",
    "Suppose we have a coin with probability $p$ of heads and we have the following scenario.\n",
    "\n",
    "**Experiment**: Toss the coin until the first heads. Report the number of tosses. \n",
    "\n",
    "**Sample space**: $\\Omega=\\{1,2,3, \\ldots\\}$\n",
    "\n",
    "**Probability function** : $P(n)=(1-p)^{n-1} p$\n",
    "\n",
    "\\begin{exercise}\n",
    "Challenge 1: show the sum of all the probabilities equals 1 (hint: geometric series).\n",
    "Challenge 2: justify the formula for $P(n)$ .\n",
    "\n",
    "\\end{exercise}\n"
   ]
  },
  {
   "cell_type": "markdown",
   "metadata": {},
   "source": [
    "### Exercise 4"
   ]
  },
  {
   "cell_type": "markdown",
   "metadata": {},
   "source": [
    "#### Challenge 1"
   ]
  },
  {
   "cell_type": "markdown",
   "metadata": {},
   "source": [
    "Probability function: $$P(n) = (1 - p)^{n-1}p$$\n",
    "\n",
    "We assume that $q = 1- p $ and the function is equal to :\n",
    "$$P(n) = q^{n-1}p$$\n",
    "\n",
    "\n",
    "    \n",
    "$\\text{For n = 1: }$ $$P(1) = q^{0}p = p$$\n",
    "\n",
    "$\\text{For n = 2: }$ $$P(2) = q^{2-1}p = qp$$\n",
    "\n",
    "$\\text{For n = 3: }$ $$P(3) = q^{3-1}p = q^{2}p$$\n",
    "\n",
    "$$\\vdots$$\n",
    "\n",
    "If we continue repeating the same process for every $n$ then the sum of all the propabilities would be:\n",
    "\n",
    "$$\\sum_{i=0}^{\\infty}P(i) =  P(1) + P(2) + P(3) + .... \\text{ =>}$$\n",
    "\n",
    "$$\\sum_{i=0}^{\\infty}P(i) = q^0p +qp +q^2p+q^3p \\text{ + .... =>}$$\n",
    "\n",
    "$$\\sum_{i=0}^{\\infty}P(i) = p(1+q+q^2+q3 \\text{ + .... )=>}$$\n",
    "\n",
    "\n",
    "We can observe that the sum inside the parenthesis is a geometric series. Therefore, the sum of the geometric infinite is equal:\n",
    "\n",
    "$$\\sum = \\frac{\\alpha}{1-r} , | r | < 1$$ \n",
    "\n",
    "where $\\alpha$ = 1, r = q in our case. Thus:\n",
    "\n",
    "$$\\sum_{i=0}^{\\infty}P(i) = p\\frac{1}{1-q} \\text{ =>}$$\n",
    "\n",
    "$$\\sum_{i=0}^{\\infty}P(i) = p\\frac{1}{p} \\text{ =>}$$\n",
    "\n",
    "$$\\sum_{i=0}^{\\infty}P(i) = 1 $$"
   ]
  },
  {
   "cell_type": "markdown",
   "metadata": {},
   "source": [
    "#### Challenge 2 "
   ]
  },
  {
   "cell_type": "markdown",
   "metadata": {},
   "source": [
    "The above problem is using a geometric series to calculate the probability at each toss. Also, the sample space starts with 1 and thats why $\\alpha = 1$ since $\\alpha$ is the first term of the series. Thats why the problem follows the above equation : $P(n) = (1 - p)^{n-1}p$"
   ]
  },
  {
   "cell_type": "markdown",
   "metadata": {},
   "source": [
    "\\begin{remark}\n",
    "\n",
    "Suppose you have a coin which, when flipped, yields a head with probability $p$ and a tail with probability $q=1-p$ (if the coin is fair, then $p=q=1 / 2$ ). How many times do you need to flip this coin on average until you get a head?\n",
    "\n",
    "To answer this question, consider the probability $P(n)$ of obtaining a head only on the $n$ -th coin flip. In other words, $P(n)$ is the probability of obtaining $n-1$ consecutive tails and then a head:\n",
    "$$\n",
    "P(n)=q^{n-1} p\n",
    "$$\n",
    "The average number of coin flips we need until we get a head is then:\n",
    "$$\n",
    "E_{p}[n]=\\sum_{n=1}^{\\infty} n P(n)=\\sum_{n=1}^{\\infty} n q^{n-1} p\n",
    "$$\n",
    "All we need to do now is to compute the infinite sum on the right-hand side of equation $(4) .$ To achieve that goal, consider the following sequence:\n",
    "$$\n",
    "e_{k}=\\sum_{n=1}^{k} n q^{n-1} p=p \\sum_{n=1}^{k} n q^{n-1}\n",
    "$$\n",
    "The sequence $e_{k}$ is such that $E_{p}[n]=\\lim _{k \\rightarrow \\infty} e_{k} \\cdot$ It is closely related to the geometric series. In fact, consider the sequence $g_{k}$ which is obtained by taking the first $k$ terms of the geometric series as its $k$ -th element (below $z$ is any real number of our choice):\n",
    "\n",
    "$$\n",
    "g_{k}=\\sum_{n=0}^{k} z^{n}=\\frac{1-z^{k+1}}{1-z}\n",
    "$$\n",
    "Taking the derivative of $g_{k}$ with respect to $z$ yields:\n",
    "$$\n",
    "\\frac{d g_{k}}{d z}=\\sum_{n=1}^{k} n z^{n-1}=-\\frac{(k+1) z^{k}}{1-z}+\\frac{1-z^{k+1}}{(1-z)^{2}}\n",
    "$$\n",
    "where the term with $n=0$ was omitted since it is identically zero. Comparing equations (3) and $(5),$ we see that:\n",
    "$$\n",
    "e_{k}=p \\sum_{n=1}^{k} n q^{n-1}=\\left.p \\frac{d g_{k}}{d z}\\right|_{z=q}\n",
    "$$\n",
    "In other words, $e_{k}$ is equal to $p$ times the derivative of $g_{k}$ with respect to $z$ computed at $z=q:$\n",
    "$$\n",
    "e_{k}=p\\left(-\\frac{(k+1) q^{k}}{p}+\\frac{1-q^{k+1}}{p^{2}}\\right)=-(k+1) q^{k}+\\frac{1-q^{k+1}}{p}\n",
    "$$\n",
    "If $p=0,$ we will never get a head and the problem is therefore of little interest. For $p>0, q<1$ and therefore $q^{k} \\rightarrow 0$ as $k \\rightarrow \\infty .$ Using this fact on equation $(7),$ we obtain:\n",
    "$$\n",
    "E_{p}[n]=\\lim _{k \\rightarrow \\infty} e_{k}=\\frac{1}{p}\n",
    "$$\n",
    "\n",
    "Interestingly, the answer for this problem is extremely simple: the average number of times we need to flip the coin until we get a head is just $1 / p .$ If $p=1$, every coin flip results in a head, so $E_{p=1}[n]=1 .$ As $p$ approaches $0,$ the coin becomes more and more biased towards tails, so the average number of times we need to flip it until we get a head increases and, not surprisingly, diverges as $p \\rightarrow 0 .$ since for a fair coin we have $p=1 / 2,$ then:\n",
    "$$\n",
    "E_{p=1 / 2}[n]=2\n",
    "$$\n",
    "so we need on average to flip the coin only twice to get a head.\n",
    "\\end{remark}"
   ]
  },
  {
   "cell_type": "markdown",
   "metadata": {},
   "source": [
    "\\begin{remark}\n",
    "\n",
    "**Stopping problems**. The previous toy example is an uncluttered version of a general class of problems called stopping rule problems. A stopping rule is a rule that tells you when to end a certain process. In the toy example above the process was ﬂipping a coin and we stopped after the ﬁrst heads. A more practical example is a rule for ending a series of medical treatments. Such a rule could depend on how well the treatments are working, how the patient is tolerating them and the probability that the treatments would continue to be eﬀective. One could ask about the probability of stopping within a certain number of treatments or the average number of treatments you should expect before stopping.\n",
    "\\end{remark}\n"
   ]
  },
  {
   "cell_type": "markdown",
   "metadata": {},
   "source": [
    "## Some rules of probability\n",
    "For events $A, L$ and $R$ contained in a sample space $\\Omega$.\n",
    "\n",
    "Rule $1 . P\\left(A^{c}\\right)=1-P(A)$\n",
    "\n",
    "Rule $2 .$ If $L$ and $R$ are disjoint then $P(L \\cup R)=P(L)+P(R)$.\n",
    "\n",
    "Rule $3 .$ If $L$ and $R$ are not disjoint, we have the inclusion-exclusion principle:\n",
    "$$\n",
    "P(L \\cup R)=P(L)+P(R)-P(L \\cap R)\n",
    "$$\n",
    "\n",
    "Rule $1: A$ and $A^{c}$ split $\\Omega$ into two non-overlapping regions. since the total probability $P(\\Omega)=1$ this rule says that the probabiity of $A$ and the probability of 'not $A$ ' are complementary, i.e. sum to $1 .$\n",
    "\n",
    "Rule $2: L$ and $R$ split $L \\cup R$ into two non-overlapping regions. So the probability of $L \\cup R$ is is split between $P(L)$ and $P(R)$\n",
    "\n",
    "Rule 3: In the sum $P(L)+P(R)$ the overlap $P(L \\cap R)$ gets counted twice. So $P(L)+$ $P(R)-P(L \\cap R)$ counts everything in the union exactly once.\n",
    "\n"
   ]
  },
  {
   "cell_type": "markdown",
   "metadata": {},
   "source": [
    "For the following examples suppose we have an experiment that produces a random integer between 1 and 20. The probabilities are not necessarily uniform, i.e., not necessarily the same for each outcome.\n",
    "\n",
    "\\begin{exercise}\n",
    "If the probability of an even number is .6 what is the probability of an odd number?\n",
    "\n",
    "\\end{exercise}\n",
    "\n",
    "\\begin{exercise}\n",
    "Consider the 2 events, $A: X$ is a multiple of 2 ; $B: X$ is odd and less than 10. Suppose $P(A)=.6$ and $P(B)=.25$\n",
    "\n",
    "(i) What is $A \\cap B ?$\n",
    "\n",
    "(ii) What is the probability of $A \\cup B ?$\n",
    "\\end{exercise}\n",
    "\n",
    "\\begin{exercise}\n",
    "Let $A, B$ and $C$ be the events $X$ is a multiple of 2,3 and 6 respectively. If $P(A)=.6, P(B)=.3$ and $P(C)=.2$ what is $P(A$ or $B) ?$ \n",
    "\\end{exercise}\n",
    "\n",
    "\n",
    "\n",
    "\n"
   ]
  },
  {
   "cell_type": "markdown",
   "metadata": {},
   "source": [
    "### Exercise 5"
   ]
  },
  {
   "cell_type": "markdown",
   "metadata": {},
   "source": [
    "**Question** If the probability of an even number is .6 what is the probability of an odd number?\n"
   ]
  },
  {
   "cell_type": "markdown",
   "metadata": {},
   "source": [
    "Εvery number must be an even or an odd. Let's assume that A = even , B = odd, then $ A \\cup B $ include all the number that exist($P(A\\cup B) = P(Ω) =1$). Also $ A \\cap B = \\emptyset$ because a number cannot be even and odd at the same time. Thus:\n",
    "\n",
    "$$P(A\\cup B) = P(A) + P(B) - P(A\\cap B)$$\n",
    "\n",
    "$$1 = 0.6 + P(B) - 0$$\n",
    "\n",
    "$$P(Β) = 0.4$$\n"
   ]
  },
  {
   "cell_type": "markdown",
   "metadata": {},
   "source": [
    "### Exercise 6"
   ]
  },
  {
   "cell_type": "markdown",
   "metadata": {},
   "source": [
    "**Question** Consider the 2 events,  𝐴:𝑋  is a multiple of 2 ;  𝐵:𝑋  is odd and less than 10. Suppose  𝑃(𝐴)=.6  and  𝑃(𝐵)=.25"
   ]
  },
  {
   "cell_type": "markdown",
   "metadata": {},
   "source": [
    "(i) Since all numbers in A are even and all numbers in B are odd, then $A\\cap B = \\emptyset$ => $P(A\\cap B) = 0$ <br/>\n",
    "\n",
    "(ii)  $$P(A\\cup B) = P(A) + P(B) - P(A\\cap B)$$\n",
    "\n",
    "$$P(A\\cup B) = 0.6 + 0.25 - 0 $$\n",
    "\n",
    "$$P(A\\cup B) = 0.85 $$"
   ]
  },
  {
   "cell_type": "markdown",
   "metadata": {},
   "source": [
    "### Exercise 7"
   ]
  },
  {
   "cell_type": "markdown",
   "metadata": {},
   "source": [
    "**Question** Let $A, B$ and $C$ be the events $X$ is a multiple of 2,3 and 6 respectively. If $P(A)=.6, P(B)=.3$ and $P(C)=.2$ what is $P(A$ or $B) ?$ "
   ]
  },
  {
   "cell_type": "markdown",
   "metadata": {},
   "source": [
    "Events: \n",
    "\n",
    "A multiple 2 <br/>\n",
    "B multiple 3 <br/>\n",
    "C multiple 6 <br/>\n",
    "\n",
    "First we used the word \"or\" which means union: $A$ or $B$ => $A \\cup B$. An number is divisible by 6 if and only if it is divisible by both 2 and 3. Thus, $C=A\\cap B$ and also:\n",
    "\n",
    "$$P(A\\cup B) = P(A) + P(B) - P(A\\cap B)$$\n",
    "\n",
    "$$P(A\\cup B) = 0.6 + 0.3 - 0.2 = 0.7$$"
   ]
  },
  {
   "cell_type": "markdown",
   "metadata": {},
   "source": [
    "\\begin{exercise}\n",
    "\n",
    "**Birthdays: counting and simulation**. \n",
    "\n",
    "Ignoring leap days, the days of the year can be numbered 1 to $365 .$ Assume that birthdays are equally likely to fall on any day of the year. Consider a group of $n$ people, of which you are not a member. An element of the sample space $\\Omega$ will be a sequence of $n$ birthdays (one for each person).\n",
    "\n",
    "(a) Define the probability function $P$ for $\\Omega$\n",
    "\n",
    "(b) Consider the following events:\n",
    "\n",
    "    A: \"someone in the group shares your birthday\"\n",
    "\n",
    "    B: \"some two people in the group share a birthday\"\n",
    "\n",
    "    C: \"some three people in the group share a birthday\" \n",
    "\n",
    "Carefully describe the subset of $\\Omega$ that corresponds to each event.\n",
    "\n",
    "(c) Find an exact formula for $P(A)$. What is the smallest $n$ such that $P(A)>.5 ?$\n",
    "\n",
    "(d) Justify why $n$ is greater than $\\frac{365}{2}$ without doing any computation. \n",
    "\n",
    "(e) Use $\\mathrm{R}$ simulation to estimate the smallest $n$ for which $P(B)>.9 .$ For these simulations, let the number of trials be 10000.\n",
    "\n",
    "\\end{exercise}\n"
   ]
  },
  {
   "cell_type": "markdown",
   "metadata": {},
   "source": [
    "### Exercise 8"
   ]
  },
  {
   "cell_type": "markdown",
   "metadata": {},
   "source": [
    "#### Answer (a)"
   ]
  },
  {
   "cell_type": "markdown",
   "metadata": {},
   "source": [
    "If there are n members in the group then there are $365\\cdot365\\cdot365\\cdot365\\cdot365\\cdot365\\cdot365... = 365^n$. All of these outcomes make the sample space. So for n people in a group, $P(\\Omega)=\\frac{1}{365^n}$."
   ]
  },
  {
   "cell_type": "markdown",
   "metadata": {},
   "source": [
    "#### Answer (b)"
   ]
  },
  {
   "cell_type": "markdown",
   "metadata": {},
   "source": [
    "**A:** Lets assume that my birthday is in day $k$. Someone has birthday the same day with me if and only if for one index in the sample space exists the following: $k=d_i,i=1,2,3,....n$ where $d_i$ are the days in $\\Omega$.\n",
    "\n",
    "**B:** Lets assume that my birthday is in day $k$. Two people have birthday the same day with me if and only if for two indexes in the sample space exists the following: $k=d_i,i=1,2,3,....n$ where $d_i$ are the days in $\\Omega$\n",
    "\n",
    "**C:** Lets assume that my birthday is in day $k$. Three people have birthday the same day with me if and only if for three indexes in the sample space exists the following: $k=d_i,i=1,2,3,....n$ where $d_i$ are the days in $\\Omega$"
   ]
  },
  {
   "cell_type": "markdown",
   "metadata": {},
   "source": [
    "#### Answer (c)"
   ]
  },
  {
   "cell_type": "code",
   "execution_count": null,
   "metadata": {},
   "outputs": [],
   "source": []
  }
 ],
 "metadata": {
  "@webio": {
   "lastCommId": null,
   "lastKernelId": null
  },
  "kernelspec": {
   "display_name": "R",
   "language": "R",
   "name": "ir"
  },
  "language_info": {
   "codemirror_mode": "r",
   "file_extension": ".r",
   "mimetype": "text/x-r-source",
   "name": "R",
   "pygments_lexer": "r",
   "version": "4.0.2"
  },
  "latex_envs": {
   "LaTeX_envs_menu_present": true,
   "autoclose": false,
   "autocomplete": true,
   "bibliofile": "biblio.bib",
   "cite_by": "apalike",
   "current_citInitial": 1,
   "eqLabelWithNumbers": true,
   "eqNumInitial": 1,
   "hotkeys": {
    "equation": "Ctrl-E",
    "itemize": "Ctrl-I"
   },
   "labels_anchors": false,
   "latex_user_defs": false,
   "report_style_numbering": false,
   "user_envs_cfg": false
  }
 },
 "nbformat": 4,
 "nbformat_minor": 4
}
