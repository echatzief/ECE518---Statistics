{
 "cells": [
  {
   "cell_type": "markdown",
   "metadata": {},
   "source": [
    "# Lefteris Chatziefraimidis\n",
    "\n",
    "## 2209"
   ]
  },
  {
   "cell_type": "markdown",
   "metadata": {},
   "source": [
    "# Continuous Random Variable - NORMAL DISTRIBUTION\n"
   ]
  },
  {
   "cell_type": "markdown",
   "metadata": {},
   "source": [
    "# Quiz 3 Exercises"
   ]
  },
  {
   "cell_type": "markdown",
   "metadata": {},
   "source": [
    "\\begin{exercise}\n",
    "(10 pts)\n",
    "Calculate the variance of the uniform distribution.\n",
    "\n",
    "\\end{exercise}\n"
   ]
  },
  {
   "cell_type": "markdown",
   "metadata": {},
   "source": [
    "The uniform distribution is a continuous probability distribution and is concerned with events that are equally likely to occur. When working out problems that have a uniform distribution, be careful to note if the data is inclusive or exclusive.\n",
    "\n",
    "By the definition of the variance, $VarX = E[X^2] - E[X]^2$.\n",
    "\n",
    "Since here $E[X] = \\frac{1}{b-a} \\int_{[a,b]} x dx = \\frac{a+b}{2}$\n",
    "\n",
    "$E[X]^2 = \\frac{1}{b-a} \\int_{[a,b]} x^2 dx = \\frac{b^3-a^3}{3(b-a)} = \\frac{a^2+ab+b^2}{3}$\n",
    "\n",
    "$VarX = E[X^2] - E[X]^2 = \\frac{a^2+ab+b^2}{3} - \\frac{a^2+2ab+b^2}{4} = \\frac{a^2-2ab+b^2}{12} = \\frac{(b-a)^2}{12}$ "
   ]
  },
  {
   "cell_type": "markdown",
   "metadata": {},
   "source": [
    "\n",
    "## Central Limit Theorem\n",
    "\n",
    "Suppose $X_{1}, X_{2}, \\ldots, X_{n}, \\ldots$ are i.i.d. random variables each having mean $\\mu$ and standard deviation $\\sigma .$ For each $n$ let $S_{n}$ denote the sum and let $\\bar{X}_{n}$ be the average of $X_{1}, \\ldots, X_{n}$\n",
    "$$\n",
    "\\begin{aligned}\n",
    "S_{n} &=X_{1}+X_{2}+\\ldots+X_{n}=\\sum_{i=1}^{n} X_{i} \\\\\n",
    "\\bar{X}_{n} &=\\frac{X_{1}+X_{2}+\\ldots+X_{n}}{n}=\\frac{S_{n}}{n}\n",
    "\\end{aligned}\n",
    "$$\n",
    "The properties of mean and variance show\n",
    "$$\n",
    "E\\left(S_{n}\\right)=n \\mu, \\quad \\operatorname{Var}\\left(S_{n}\\right)=n \\sigma^{2}, \\quad \\sigma_{S_{n}}=\\sqrt{n} \\sigma\n",
    "$$\n",
    "$$\n",
    "E\\left(\\bar{X}_{n}\\right)=\\mu, \\quad \\operatorname{Var}\\left(\\bar{X}_{n}\\right)=\\frac{\\sigma^{2}}{n}, \\quad \\sigma_{\\bar{X}_{n}}=\\frac{\\sigma}{\\sqrt{n}}\n",
    "$$\n",
    "since they are multiples of each other, $S_{n}$ and $\\bar{X}_{n}$ have the same standardization\n",
    "$$\n",
    "Z_{n}=\\frac{S_{n}-n \\mu}{\\sigma \\sqrt{n}}=\\frac{\\bar{X}_{n}-\\mu}{\\sigma / \\sqrt{n}}\n",
    "$$\n",
    "Central Limit Theorem: For large $n$\n",
    "$$\n",
    "\\bar{X}_{n} \\approx \\mathrm{N}\\left(\\mu, \\sigma^{2} / n\\right), \\quad S_{n} \\approx \\mathrm{N}\\left(n \\mu, n \\sigma^{2}\\right), \\quad Z_{n} \\approx \\mathrm{N}(0,1)\n",
    "$$\n",
    "\n",
    "Notes:\n",
    "1. In words: $\\bar{X}_{n}$ is approximately a normal distribution with the same mean as $X$ but a smaller variance.\n",
    "2. $S_{n}$ is approximately normal.\n",
    "3. Standardized $\\bar{X}_{n}$ and $S_{n}$ are approximately standard normal.\n",
    "\n",
    "The central limit theorem allows us to approximate a sum or average of i.i.d random variables by a normal random variable. This is extremely useful because it is usually easy to do computations with the normal distribution.\n",
    "A precise statement of the CLT is that the codf's of $Z_{n}$ converge to $\\Phi(z)$ :\n",
    "$$\n",
    "\\lim _{n \\rightarrow \\infty} F_{Z_{n}}(z)=\\Phi(z)\n",
    "$$\n"
   ]
  },
  {
   "cell_type": "markdown",
   "metadata": {},
   "source": [
    "\\begin{exercise}\n",
    "(10 pts)\n",
    "Suppose $X_{1}, \\ldots, X_{100}$ are i.i.d. with mean $1 / 5$ and variance $1 / 9 .$ Use the central limit theorem to estimate\n",
    " $P(\\sum X < 30)$.\n",
    "\\end{exercise}\n"
   ]
  },
  {
   "cell_type": "markdown",
   "metadata": {},
   "source": [
    "Suppose $X_{1}, \\ldots, X_{100}$ are i.i.d. with mean $1 / 5$ and variance $1 / 9 .$ Use the central limit theorem to estimate\n",
    " $P(\\sum X < 30)"
   ]
  },
  {
   "cell_type": "markdown",
   "metadata": {},
   "source": [
    "The **Central Limit Theorem** tells us that:\n",
    "\n",
    "$$\n",
    "Z=\\frac{X-\\mu}{\\sigma\\sqrt{n}} \\stackrel{d}{\\longrightarrow} N(0,1)\n",
    "$$\n",
    "\n"
   ]
  },
  {
   "cell_type": "markdown",
   "metadata": {},
   "source": [
    "$P(X < 30 ) = P\\left(\\frac{\\frac{Sn}{n}-\\mu}{\\sigma\\sqrt{n }} < \\frac{\\frac{30}{100}-\\mu}{\\sigma\\sqrt{n }}\\right) = P\\left(Z < \\frac{\\frac{10}{100}}{\\frac{1}{3}10}\\right) = P(Z <0.03)$"
   ]
  },
  {
   "cell_type": "code",
   "execution_count": 34,
   "metadata": {},
   "outputs": [
    {
     "data": {
      "text/html": [
       "0.511966473414113"
      ],
      "text/latex": [
       "0.511966473414113"
      ],
      "text/markdown": [
       "0.511966473414113"
      ],
      "text/plain": [
       "[1] 0.5119665"
      ]
     },
     "metadata": {},
     "output_type": "display_data"
    }
   ],
   "source": [
    "pnorm(0.03)"
   ]
  },
  {
   "cell_type": "markdown",
   "metadata": {},
   "source": [
    "\\begin{exercise}\n",
    "(10 pts)\n",
    "The average IQ in a population is 100 with standard deviation 15 (by definition, IQ is normalized so this is the case). What is the probability that a randomly selected group of 100 people has an average IQ above $115 ?$\n",
    "\\end{exercise}\n"
   ]
  },
  {
   "cell_type": "code",
   "execution_count": 2,
   "metadata": {},
   "outputs": [
    {
     "data": {
      "text/html": [
       "0.158655253931457"
      ],
      "text/latex": [
       "0.158655253931457"
      ],
      "text/markdown": [
       "0.158655253931457"
      ],
      "text/plain": [
       "[1] 0.1586553"
      ]
     },
     "metadata": {},
     "output_type": "display_data"
    }
   ],
   "source": [
    "1 - pnorm(115,mean=100,sd=15)"
   ]
  },
  {
   "cell_type": "markdown",
   "metadata": {},
   "source": [
    "\\begin{exercise}\n",
    "\n",
    "(20 = 5 5 5 5 pts)\n",
    "The execution times of queries on a database is normally distributed with a mean of 5 seconds and a standard deviation of 1 second. Determine the following:\n",
    "\n",
    "a. What is the probability of the execution time being more than 8 seconds?\n",
    "\n",
    "b. What is the probability of the execution time being less than 6 seconds?\n",
    "\n",
    "c. What percentage of responses will take between 4 and 7 seconds?\n",
    "\n",
    "d. What is the 95-percentile execution time?\n",
    "\n",
    "\\end{exercise}\n",
    "\n",
    "\n"
   ]
  },
  {
   "cell_type": "code",
   "execution_count": 36,
   "metadata": {},
   "outputs": [
    {
     "name": "stdout",
     "output_type": "stream",
     "text": [
      "More than 8 seconds:0.001349898\n",
      "Less than 6 seconds:0.8413447\n",
      "Between 4 and  7 seconds:0.1359051\n",
      "95th percentile: 6.644854"
     ]
    }
   ],
   "source": [
    "# What is the probability of the execution time being more than 8 seconds?\n",
    "more_8_sec = 1 - pnorm(8,mean=5,sd=1)\n",
    "cat(\"More than 8 seconds:\")\n",
    "cat(more_8_sec)\n",
    "\n",
    "# What is the probability of the execution time being less than 6 seconds?\n",
    "less_6_sec = pnorm(6,mean=5,sd=1)\n",
    "cat(\"\\nLess than 6 seconds:\")\n",
    "cat(less_6_sec)\n",
    "\n",
    "# What percentage of responses will take between 4 and 7 seconds?\n",
    "more_4_sec = 1 - pnorm(4,mean=5,sd=1)\n",
    "less_7_sec = pnorm(7,mean=5,sd=1)\n",
    "between_4_7_sec = less_7_sec - more_4_sec\n",
    "cat(between_4_7_sec)\n",
    "\n",
    "# What is the 95-percentile execution time?\n",
    "perc_95 = qnorm(0.95,mean=5,sd=1)\n",
    "cat(\"\\n95th percentile: \")\n",
    "cat(perc_95)"
   ]
  },
  {
   "cell_type": "markdown",
   "metadata": {},
   "source": [
    "## Exponential Distribution\n",
    "\n",
    "The exponential distribution describes the arrival time of a randomly recurring independent event sequence. If $\\mu$ is the mean waiting time for the next event recurrence, its probability density function is:\n",
    "\n",
    "$f(x)=\\left\\{\\begin{array}{ll}{\\frac{1}{\\mu} e^{-x / \\mu}} & {\\text { when } x \\geq 0} \\\\ {0} & {\\text {when } x<0}\\end{array}\\right.$"
   ]
  },
  {
   "cell_type": "markdown",
   "metadata": {},
   "source": [
    "\\begin{exercise}\n",
    "(10 pts)\n",
    "Suppose the mean checkout time of a supermarket cashier is three minutes. Find the probability of a customer checkout being completed by the cashier in less than two minutes. \n",
    "\\end{exercise}\n"
   ]
  },
  {
   "cell_type": "code",
   "execution_count": 30,
   "metadata": {},
   "outputs": [
    {
     "data": {
      "text/html": [
       "0.486582880967408"
      ],
      "text/latex": [
       "0.486582880967408"
      ],
      "text/markdown": [
       "0.486582880967408"
      ],
      "text/plain": [
       "[1] 0.4865829"
      ]
     },
     "metadata": {},
     "output_type": "display_data"
    }
   ],
   "source": [
    "pexp(2, rate=1/3) "
   ]
  },
  {
   "cell_type": "markdown",
   "metadata": {},
   "source": [
    "\\begin{exercise}\n",
    "(10 pts)\n",
    "Assume that the test scores of a college entrance exam fits a normal distribution. Furthermore, the mean test score is 72, and the standard deviation is 15.2. What is the percentage of students scoring 84 or more in the exam? \n",
    "\\end{exercise}\n"
   ]
  },
  {
   "cell_type": "code",
   "execution_count": 33,
   "metadata": {},
   "outputs": [
    {
     "data": {
      "text/html": [
       "0.214917602311272"
      ],
      "text/latex": [
       "0.214917602311272"
      ],
      "text/markdown": [
       "0.214917602311272"
      ],
      "text/plain": [
       "[1] 0.2149176"
      ]
     },
     "metadata": {},
     "output_type": "display_data"
    }
   ],
   "source": [
    "pnorm(84, mean=72, sd=15.2, lower.tail=FALSE) "
   ]
  },
  {
   "cell_type": "markdown",
   "metadata": {},
   "source": [
    "\\begin{exercise}\n",
    "(10 pts) \n",
    "Suppose $X$ is normal with mean 8.0 and standard deviation 5.0\n",
    "(a) Transform this to standard normal. What is the z-value?\n",
    "(b) Find $\\mathrm{P}(\\mathrm{X}<8.6)$ using the standard normal\n",
    "\\end{exercise}\n"
   ]
  },
  {
   "cell_type": "markdown",
   "metadata": {},
   "source": [
    "a) $Z = \\frac{X -\\mu}{\\sigma} = Z = \\frac{X - 8 }{5}$\n",
    "\n",
    "b) $P\\left(X < 8.6\\right)= P\\left(Z < \\frac{8.6-8}{5} \\right) = P\\left(Z < 0.12 \\right)$"
   ]
  },
  {
   "cell_type": "code",
   "execution_count": 37,
   "metadata": {},
   "outputs": [
    {
     "data": {
      "text/html": [
       "0.547758426020584"
      ],
      "text/latex": [
       "0.547758426020584"
      ],
      "text/markdown": [
       "0.547758426020584"
      ],
      "text/plain": [
       "[1] 0.5477584"
      ]
     },
     "metadata": {},
     "output_type": "display_data"
    }
   ],
   "source": [
    "pnorm(0.12)"
   ]
  },
  {
   "cell_type": "markdown",
   "metadata": {},
   "source": [
    "\\begin{exercise}\n",
    "(10 = 4 3 3 pts)\n",
    "\n",
    "Suppose $X$ is normal with mean 8.0 and standard deviation 5.0 .\n",
    "\n",
    "(a) Find the Z value for the known probability.\n",
    "\n",
    "(b) Find X from the Z value using the formula $X=m+Z\\sigma$\n",
    "\n",
    "(c) Now find the $\\mathrm{X}$ value so that only $20 \\%$ of all values are below this $X$ using the normal distribution\n",
    "\\end{exercise}\n"
   ]
  },
  {
   "cell_type": "markdown",
   "metadata": {},
   "source": [
    "a) $Z = \\frac{X -\\mu}{\\sigma} = Z = \\frac{X - 8 }{5}$\n",
    "\n",
    "b) $X = m + Z\\sigma = m + \\frac{X - 8}{5}\\sigma$"
   ]
  },
  {
   "cell_type": "code",
   "execution_count": 38,
   "metadata": {},
   "outputs": [
    {
     "data": {
      "text/html": [
       "3.79189383213543"
      ],
      "text/latex": [
       "3.79189383213543"
      ],
      "text/markdown": [
       "3.79189383213543"
      ],
      "text/plain": [
       "[1] 3.791894"
      ]
     },
     "metadata": {},
     "output_type": "display_data"
    }
   ],
   "source": [
    "# c\n",
    "qnorm(0.2,mean=8,sd=5)"
   ]
  },
  {
   "cell_type": "markdown",
   "metadata": {},
   "source": [
    "##  Normal Distribution Approximation for Binomial Distribution\n",
    "\n",
    "- The shape of the binomial distribution is approximately normal if $\\mathrm{n}$ is large\n",
    "\n",
    "- The normal is a good approximation to the binomial when $\\quad \\mathrm{np}(1-\\mathrm{p})>9$\n",
    "\n",
    "-  Standardize to $Z$ from a binomial distribution:\n",
    "$$\n",
    "Z=\\frac{X-E(X)}{\\sqrt{\\operatorname{Var}(X)}}=\\frac{X-n p}{\\sqrt{n p(1-p)}}\n",
    "$$\n",
    "\n",
    "Let $X$ be the number of successes from $n$ independent trials, each with probability of success p.\n",
    "If $\\mathrm{np}(1-\\mathrm{p})>9$\n",
    "$$\n",
    "P(a<X<b)=P\\left(\\frac{a-n p}{\\sqrt{n p(1-p)}} \\leq Z \\leq \\frac{b-n p}{\\sqrt{n p(1-p)}}\\right)\n",
    "$$\n",
    "\n",
    "\\begin{exercise}\n",
    "(10 pts)\n",
    "$40\\%$ of all voters support ballot proposition A.  What \n",
    "is the probability that between 76 and 80 voters\n",
    "indicate support in a sample of n = 200 ?\n",
    "\\end{exercise}\n",
    "\n"
   ]
  },
  {
   "cell_type": "markdown",
   "metadata": {},
   "source": [
    "$E[X] = µ = np = 200(0.40) = 80$\n",
    "\n",
    "$Var(X) = σ^2 = np(1 – p) = 200(0.40)(1 – 0.40) = 48$\n",
    "\n",
    "$P\\left(76< X< 80\\right) = P\\left(\\frac{76-80}{\\sqrt{200\\cdot0.4\\cdot(1-0.4)}}\\leq Z \\leq \\frac{80-80}{\\sqrt{200\\cdot0.4\\cdot(1-0.4)}}\\right) = P(-0.58\\leq Z \\leq 0) = F(0)-F(-0.58) = 0.5 - 0.2810 = 0.2190$"
   ]
  },
  {
   "cell_type": "markdown",
   "metadata": {},
   "source": [
    "\\begin{exercise}\n",
    "(10 pts)\n",
    "\n",
    "Let $\\mathrm{X}_{1}, \\mathrm{X}_{2}, \\ldots \\mathrm{X}_{\\mathrm{k}}$  be $\\mathrm{k}$  random variables with \n",
    " means  $\\mu_{1}, \\mu_{2}, \\ldots \\mu_{k}$  and variances \n",
    "$\\sigma_{1}^{2}, \\sigma_{2}^{2}, \\ldots, \\sigma_{k}^{2}$ . \n",
    "\n",
    "(a) Compute $\\mathrm{E}\\left(\\mathrm{X}_{1}+\\mathrm{X}_{2}+\\cdots+\\mathrm{X}_{k}\\right)$\n",
    "\n",
    "(b) Compute $\\operatorname{Var}\\left(X_{1}+X_{2}+\\cdots+X_{k}\\right)=\\sigma_{1}^{2}+\\sigma_{2}^{2}+\\cdots+\\sigma_{k}^{2}$ assuming covariance is 0 and different than zero.\n",
    "\n",
    "\\end{exercise}\n"
   ]
  },
  {
   "cell_type": "markdown",
   "metadata": {},
   "source": [
    "(a) \n",
    "\n",
    "It's generally known that $E[X+Y] = E[X] + E[Y]$. Thus:\n",
    "\n",
    "$\\mathrm{E}\\left(\\mathrm{X}_{1}+\\mathrm{X}_{2}+\\cdots+\\mathrm{X}_{k}\\right) = E[X_1]+E[X_2]+...+E[X_k] = \\mu_1 + \\mu_2 + .... + \\mu_k$\n",
    "\n",
    "(b)\n",
    "\n",
    "It's generally known that $Var[X+Y] = Var[X] + Var[Y] + 2Cov[X,Y]$ and $Cov[X,Y] = E[(X-E[X])(Y-E[Y])] = E[XY] - E[X]E[Y]$. \n",
    "\n",
    "Thus:\n",
    "\n",
    "$\\operatorname{Var}\\left[X_{1}+X_{2}+\\cdots+X_{k}\\right]=Var[X_1]+Var[X_2]+...+Var[X_k]+ 2Cov[X_1,X_2,...X_k] =Var[X_1]+Var[X_2]+...+Var[X_k] = \\sigma_{1}^{2}+\\sigma_{2}^{2}+\\cdots+\\sigma_{k}^{2}$\n",
    "assuming covariance is 0\n",
    "\n",
    "If it is different than zero:\n",
    "$\\operatorname{Var}\\left[X_{1}+X_{2}+\\cdots+X_{k}\\right]=Var[X_1]+Var[X_2]+...+Var[X_k]+ 2Cov[X_1,X_2,...X_k] $\n",
    "\n"
   ]
  },
  {
   "cell_type": "markdown",
   "metadata": {},
   "source": [
    "\n",
    " "
   ]
  },
  {
   "cell_type": "markdown",
   "metadata": {},
   "source": [
    "\\begin{exercise}\n",
    "\n",
    "(20 pts)\n",
    "Consider $X_{1}, X_{2}, \\ldots$ all independent and with distribution $\\mathrm{N}(0,1) .$ Let $\\bar{X}_{m}$ be the average of $X_{1}, \\ldots X_{n}$\n",
    "\n",
    "(a) Give $E\\left(\\bar{X}_{n}\\right)$ and $\\sigma_{\\bar{X}_{n}}$ exactly.\n",
    "\n",
    "(b) Use a R simulation to estimate $E\\left(\\bar{X}_{n}\\right)$ and $\\operatorname{Var}\\left(\\bar{X}_{n}\\right)$ for $n=1,9,100 .$ (You should use the rnorm function to simulate 1000 samples of each $X_{j}$.)\n",
    "\\end{exercise}\n",
    "\n",
    "\n"
   ]
  },
  {
   "cell_type": "markdown",
   "metadata": {},
   "source": [
    "a)\n",
    "\n",
    "The expected value $E(X)$ has various properties,and two of them that are connected with the linearity are described below: \n",
    "\n",
    "- $E[X + Y] = E[X] + E[Y]$\n",
    "\n",
    "- $E[\\alpha X] = \\alpha E[X]$\n",
    "\n",
    "The variance is related with the expected value as follow: \n",
    "\n",
    "- $\\text{Var}(X) = E[X^2] - E[X]^2$\n",
    "\n",
    "Thus,\n",
    "\n",
    "$ E[\\bar{X}_{n}] = Ε[\\frac{X_1 + X_2 +...+X_n}{n}] = \\frac{1}{n} E[X_1 + X_2 +...+ X_n] = \\frac{1}{n}(E[X_1] + E[X_2] +...+ E[X_n])$\n",
    "\n",
    "$\\sigma_{\\bar{X}_{n}} = \\sqrt{Var(\\bar{X}_{n})} = \\sqrt{E[\\bar{X}_{n}^2] - E[\\bar{X}_{n}]^2}$\n",
    "\n",
    "$\\sigma_{\\bar{X}_{n}} = \\sqrt{E[\\bar{X}_{n}^2] - (\\frac{1}{n}(E[X_1] + E[X_2] +...+ E[X_n]))^2}$\n",
    "\n",
    "$\\sigma_{\\bar{X}_{n}} = \\sqrt{E[\\frac{(X_1 + X_2 +...+X_n)^2}{n^2}] - (\\frac{1}{n}(E[X_1] + E[X_2] +...+ E[X_n]))^2}$"
   ]
  },
  {
   "cell_type": "code",
   "execution_count": 40,
   "metadata": {},
   "outputs": [
    {
     "name": "stdout",
     "output_type": "stream",
     "text": [
      "E[X]: 0.01612787\n",
      "S: 0.9834589\n",
      "\n",
      "E[X]: -0.004427209\n",
      "S: 0.9988775\n",
      "\n",
      "E[X]: -0.009106453\n",
      "S: 1.003137\n",
      "\n"
     ]
    }
   ],
   "source": [
    "# Set the seed \n",
    "set.seed(123)\n",
    "\n",
    "# Generate a vector with n\n",
    "n = c(1,9,10)\n",
    "\n",
    "for( n_i in n){\n",
    "    X_n = c()\n",
    "    \n",
    "    # Generate the random variables for each case\n",
    "    for(i in 1:n_i){\n",
    "        X_n = append(X_n,rnorm(1000,0,1))\n",
    "    }\n",
    "    \n",
    "    # Calculate the expected value and the standard deviation\n",
    "    cat(\"E[X]: \")\n",
    "    cat(mean(X_n))\n",
    "    cat(\"\\n\")\n",
    "    \n",
    "    cat(\"S: \")\n",
    "    cat(var(X_n))\n",
    "    cat(\"\\n\")\n",
    "    \n",
    "    cat(\"\\n\")\n",
    "}"
   ]
  }
 ],
 "metadata": {
  "@webio": {
   "lastCommId": null,
   "lastKernelId": null
  },
  "kernelspec": {
   "display_name": "R",
   "language": "R",
   "name": "ir"
  },
  "language_info": {
   "codemirror_mode": "r",
   "file_extension": ".r",
   "mimetype": "text/x-r-source",
   "name": "R",
   "pygments_lexer": "r",
   "version": "4.0.3"
  },
  "latex_envs": {
   "LaTeX_envs_menu_present": true,
   "autoclose": false,
   "autocomplete": true,
   "bibliofile": "biblio.bib",
   "cite_by": "apalike",
   "current_citInitial": 1,
   "eqLabelWithNumbers": true,
   "eqNumInitial": 1,
   "hotkeys": {
    "equation": "Ctrl-E",
    "itemize": "Ctrl-I"
   },
   "labels_anchors": false,
   "latex_user_defs": false,
   "report_style_numbering": false,
   "user_envs_cfg": false
  },
  "nbTranslate": {
   "displayLangs": [
    "*"
   ],
   "hotkey": "alt-t",
   "langInMainMenu": true,
   "sourceLang": "en",
   "targetLang": "fr",
   "useGoogleTranslate": true
  },
  "toc": {
   "base_numbering": 1,
   "nav_menu": {},
   "number_sections": true,
   "sideBar": true,
   "skip_h1_title": false,
   "title_cell": "Table of Contents",
   "title_sidebar": "Contents",
   "toc_cell": false,
   "toc_position": {},
   "toc_section_display": true,
   "toc_window_display": false
  },
  "varInspector": {
   "cols": {
    "lenName": 16,
    "lenType": 16,
    "lenVar": 40
   },
   "kernels_config": {
    "python": {
     "delete_cmd_postfix": "",
     "delete_cmd_prefix": "del ",
     "library": "var_list.py",
     "varRefreshCmd": "print(var_dic_list())"
    },
    "r": {
     "delete_cmd_postfix": ") ",
     "delete_cmd_prefix": "rm(",
     "library": "var_list.r",
     "varRefreshCmd": "cat(var_dic_list()) "
    }
   },
   "types_to_exclude": [
    "module",
    "function",
    "builtin_function_or_method",
    "instance",
    "_Feature"
   ],
   "window_display": false
  }
 },
 "nbformat": 4,
 "nbformat_minor": 2
}
